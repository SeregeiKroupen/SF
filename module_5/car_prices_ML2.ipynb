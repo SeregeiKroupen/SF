{
 "cells": [
  {
   "cell_type": "code",
   "execution_count": 1,
   "metadata": {
    "collapsed": true
   },
   "outputs": [],
   "source": [
    "import pandas as pd\n",
    "import numpy as np"
   ]
  },
  {
   "cell_type": "code",
   "execution_count": 4,
   "outputs": [],
   "source": [
    "import category_encoders as ce\n",
    "from sklearn.base import clone\n",
    "from tqdm import tqdm"
   ],
   "metadata": {
    "collapsed": false,
    "pycharm": {
     "name": "#%%\n"
    }
   }
  },
  {
   "cell_type": "code",
   "execution_count": 295,
   "outputs": [],
   "source": [
    "from sklearn.model_selection import train_test_split, KFold\n",
    "from sklearn.linear_model import LinearRegression, SGDRegressor, Ridge\n",
    "from sklearn.tree import DecisionTreeRegressor\n",
    "from sklearn.ensemble import RandomForestRegressor, GradientBoostingRegressor, ExtraTreesRegressor, AdaBoostRegressor\n",
    "from sklearn.ensemble import RandomTreesEmbedding, StackingRegressor"
   ],
   "metadata": {
    "collapsed": false,
    "pycharm": {
     "name": "#%%\n"
    }
   }
  },
  {
   "cell_type": "code",
   "execution_count": 21,
   "outputs": [],
   "source": [
    "from xgboost import XGBRegressor\n",
    "from lightgbm import LGBMRegressor\n",
    "from catboost import CatBoostRegressor"
   ],
   "metadata": {
    "collapsed": false,
    "pycharm": {
     "name": "#%%\n"
    }
   }
  },
  {
   "cell_type": "code",
   "execution_count": 19,
   "outputs": [],
   "source": [
    "from sklearn.metrics import mean_absolute_percentage_error as mape"
   ],
   "metadata": {
    "collapsed": false,
    "pycharm": {
     "name": "#%%\n"
    }
   }
  },
  {
   "cell_type": "markdown",
   "source": [],
   "metadata": {
    "collapsed": false
   }
  },
  {
   "cell_type": "code",
   "execution_count": 2,
   "outputs": [],
   "source": [
    "# read data, made on previous step (car_prices_EDA)\n",
    "data = pd.read_csv('data_eda_ksv.csv')"
   ],
   "metadata": {
    "collapsed": false,
    "pycharm": {
     "name": "#%%\n"
    }
   }
  },
  {
   "cell_type": "code",
   "execution_count": 3,
   "outputs": [],
   "source": [
    "target = 'price'\n",
    "SEED = 42"
   ],
   "metadata": {
    "collapsed": false,
    "pycharm": {
     "name": "#%%\n"
    }
   }
  },
  {
   "cell_type": "code",
   "execution_count": 312,
   "outputs": [],
   "source": [
    "\"\"\" function to prepare data to ML:\n",
    "    * split on tran and test dataset\n",
    "    * split train on x and y var for ML\n",
    "        (note) on last time, y variable was changed to log(y)\n",
    "    * make dataset of test of competition - the question - 'q'\n",
    "    * encode all not numeric features with some encoder\n",
    "        - fit on x\n",
    "        - and transform x and q\n",
    "\"\"\"\n",
    "def split_data(encoder: encoder or None, data=data, target=target):\n",
    "    \"\"\"\n",
    "\n",
    "    :param encoder: some apropriate encoder\n",
    "    :param data: dataset with train and test with key vector 'test'\n",
    "    :param target: name of target vector\n",
    "    :return: x, y, q - data prepared for ML\n",
    "    \"\"\"\n",
    "    train = data[data.test == 0].copy()\n",
    "    test = data[data.test == 1].copy()\n",
    "\n",
    "    x, y = train.drop([target], axis=1), np.log(train[target])\n",
    "    # q - question of competition, prediction will be a - 'answer'\n",
    "    q = test.drop([target], axis=1)\n",
    "\n",
    "    if encoder:\n",
    "        encoder.fit(x, y)\n",
    "        x = encoder.transform(x)\n",
    "        q = encoder.transform(q)\n",
    "\n",
    "    return x, y, q"
   ],
   "metadata": {
    "collapsed": false,
    "pycharm": {
     "name": "#%%\n"
    }
   }
  },
  {
   "cell_type": "code",
   "execution_count": 40,
   "outputs": [],
   "source": [
    "x, y, q = split_data(encoder=ce.TargetEncoder())\n",
    "x_train, x_test, y_train, y_test = train_test_split(x, y, test_size=0.2, shuffle=True, random_state=SEED)"
   ],
   "metadata": {
    "collapsed": false,
    "pycharm": {
     "name": "#%%\n"
    }
   }
  },
  {
   "cell_type": "markdown",
   "source": [
    "---\n",
    "# Just RandomForest with base settings"
   ],
   "metadata": {
    "collapsed": false
   }
  },
  {
   "cell_type": "code",
   "execution_count": 283,
   "outputs": [
    {
     "name": "stdout",
     "output_type": "stream",
     "text": [
      "sklearn mape: 9.31%\n"
     ]
    }
   ],
   "source": [
    "regressor = RandomForestRegressor(random_state=SEED, n_jobs=-1)\n",
    "regressor.fit(x_train, y_train)\n",
    "predict = np.exp(regressor.predict(x_test))\n",
    "\n",
    "#print(f\"MAPE: {(mape_(np.exp(y_test), predict))*100:0.2f}%\")\n",
    "print(f'sklearn mape: {(mape(np.exp(y_test), predict))*100:0.2f}%')"
   ],
   "metadata": {
    "collapsed": false,
    "pycharm": {
     "name": "#%%\n"
    }
   }
  },
  {
   "cell_type": "code",
   "execution_count": 42,
   "outputs": [
    {
     "data": {
      "text/plain": "array([ 790555.94695054, 1095997.49681796,  958106.22273016, ...,\n        513839.56641181, 1163682.5211251 , 1299707.21919453])"
     },
     "execution_count": 42,
     "metadata": {},
     "output_type": "execute_result"
    }
   ],
   "source": [
    "regressor = RandomForestRegressor(random_state=SEED, n_jobs=-1)\n",
    "regressor.fit(x, y)\n",
    "predict = np.exp(regressor.predict(q))\n",
    "\n",
    "predict"
   ],
   "metadata": {
    "collapsed": false,
    "pycharm": {
     "name": "#%%\n"
    }
   }
  },
  {
   "cell_type": "code",
   "execution_count": 43,
   "outputs": [],
   "source": [
    "q['price']=predict\n",
    "submission = q[['sell_id', 'price']].copy()"
   ],
   "metadata": {
    "collapsed": false,
    "pycharm": {
     "name": "#%%\n"
    }
   }
  },
  {
   "cell_type": "code",
   "execution_count": 44,
   "outputs": [],
   "source": [
    "submission.price = submission.price.apply(lambda w: w * 1.255839 / 1.3)"
   ],
   "metadata": {
    "collapsed": false,
    "pycharm": {
     "name": "#%%\n"
    }
   }
  },
  {
   "cell_type": "code",
   "execution_count": 45,
   "outputs": [],
   "source": [
    "submission.to_csv('sub_12_11_2.csv', index=False)"
   ],
   "metadata": {
    "collapsed": false,
    "pycharm": {
     "name": "#%%\n"
    }
   }
  },
  {
   "cell_type": "markdown",
   "source": [
    "---\n",
    "# CatBoostRegresor with base settings"
   ],
   "metadata": {
    "collapsed": false,
    "pycharm": {
     "name": "#%% md\n"
    }
   }
  },
  {
   "cell_type": "code",
   "execution_count": 25,
   "outputs": [],
   "source": [
    "x, y, q = split_data(encoder=ce.TargetEncoder())\n",
    "x_train, x_test, y_train, y_test = train_test_split(x, y, test_size=0.2, shuffle=True, random_state=SEED)"
   ],
   "metadata": {
    "collapsed": false,
    "pycharm": {
     "name": "#%%\n"
    }
   }
  },
  {
   "cell_type": "code",
   "execution_count": 26,
   "outputs": [
    {
     "name": "stdout",
     "output_type": "stream",
     "text": [
      "Learning rate set to 0.086871\n",
      "0:\tlearn: 0.8966591\ttotal: 69.8ms\tremaining: 1m 9s\n",
      "1:\tlearn: 0.8344884\ttotal: 88.2ms\tremaining: 44s\n",
      "2:\tlearn: 0.7783921\ttotal: 98.7ms\tremaining: 32.8s\n",
      "3:\tlearn: 0.7273817\ttotal: 109ms\tremaining: 27.2s\n",
      "4:\tlearn: 0.6801949\ttotal: 119ms\tremaining: 23.7s\n",
      "5:\tlearn: 0.6381613\ttotal: 130ms\tremaining: 21.5s\n",
      "6:\tlearn: 0.6003415\ttotal: 139ms\tremaining: 19.8s\n",
      "7:\tlearn: 0.5659081\ttotal: 152ms\tremaining: 18.8s\n",
      "8:\tlearn: 0.5352523\ttotal: 165ms\tremaining: 18.2s\n",
      "9:\tlearn: 0.5063727\ttotal: 178ms\tremaining: 17.6s\n",
      "10:\tlearn: 0.4806011\ttotal: 189ms\tremaining: 17s\n",
      "11:\tlearn: 0.4576897\ttotal: 201ms\tremaining: 16.6s\n",
      "12:\tlearn: 0.4366148\ttotal: 213ms\tremaining: 16.2s\n",
      "13:\tlearn: 0.4176798\ttotal: 225ms\tremaining: 15.8s\n",
      "14:\tlearn: 0.4007421\ttotal: 235ms\tremaining: 15.4s\n",
      "15:\tlearn: 0.3853079\ttotal: 250ms\tremaining: 15.4s\n",
      "16:\tlearn: 0.3712048\ttotal: 261ms\tremaining: 15.1s\n",
      "17:\tlearn: 0.3587953\ttotal: 271ms\tremaining: 14.8s\n",
      "18:\tlearn: 0.3470527\ttotal: 280ms\tremaining: 14.5s\n",
      "19:\tlearn: 0.3368793\ttotal: 289ms\tremaining: 14.2s\n",
      "20:\tlearn: 0.3279682\ttotal: 298ms\tremaining: 13.9s\n",
      "21:\tlearn: 0.3201659\ttotal: 307ms\tremaining: 13.6s\n",
      "22:\tlearn: 0.3125668\ttotal: 322ms\tremaining: 13.7s\n",
      "23:\tlearn: 0.3065803\ttotal: 336ms\tremaining: 13.7s\n",
      "24:\tlearn: 0.3005137\ttotal: 345ms\tremaining: 13.5s\n",
      "25:\tlearn: 0.2952460\ttotal: 355ms\tremaining: 13.3s\n",
      "26:\tlearn: 0.2905198\ttotal: 365ms\tremaining: 13.2s\n",
      "27:\tlearn: 0.2862745\ttotal: 374ms\tremaining: 13s\n",
      "28:\tlearn: 0.2826757\ttotal: 387ms\tremaining: 13s\n",
      "29:\tlearn: 0.2790861\ttotal: 396ms\tremaining: 12.8s\n",
      "30:\tlearn: 0.2758487\ttotal: 406ms\tremaining: 12.7s\n",
      "31:\tlearn: 0.2730259\ttotal: 418ms\tremaining: 12.6s\n",
      "32:\tlearn: 0.2705618\ttotal: 428ms\tremaining: 12.5s\n",
      "33:\tlearn: 0.2681426\ttotal: 441ms\tremaining: 12.5s\n",
      "34:\tlearn: 0.2661291\ttotal: 453ms\tremaining: 12.5s\n",
      "35:\tlearn: 0.2642558\ttotal: 466ms\tremaining: 12.5s\n",
      "36:\tlearn: 0.2625199\ttotal: 474ms\tremaining: 12.3s\n",
      "37:\tlearn: 0.2608050\ttotal: 484ms\tremaining: 12.2s\n",
      "38:\tlearn: 0.2593760\ttotal: 494ms\tremaining: 12.2s\n",
      "39:\tlearn: 0.2579281\ttotal: 510ms\tremaining: 12.2s\n",
      "40:\tlearn: 0.2566832\ttotal: 527ms\tremaining: 12.3s\n",
      "41:\tlearn: 0.2554540\ttotal: 541ms\tremaining: 12.3s\n",
      "42:\tlearn: 0.2543288\ttotal: 554ms\tremaining: 12.3s\n",
      "43:\tlearn: 0.2533579\ttotal: 567ms\tremaining: 12.3s\n",
      "44:\tlearn: 0.2524401\ttotal: 578ms\tremaining: 12.3s\n",
      "45:\tlearn: 0.2514179\ttotal: 593ms\tremaining: 12.3s\n",
      "46:\tlearn: 0.2506055\ttotal: 603ms\tremaining: 12.2s\n",
      "47:\tlearn: 0.2497741\ttotal: 619ms\tremaining: 12.3s\n",
      "48:\tlearn: 0.2490691\ttotal: 633ms\tremaining: 12.3s\n",
      "49:\tlearn: 0.2484002\ttotal: 645ms\tremaining: 12.2s\n",
      "50:\tlearn: 0.2476198\ttotal: 658ms\tremaining: 12.2s\n",
      "51:\tlearn: 0.2469891\ttotal: 669ms\tremaining: 12.2s\n",
      "52:\tlearn: 0.2462491\ttotal: 685ms\tremaining: 12.2s\n",
      "53:\tlearn: 0.2454634\ttotal: 701ms\tremaining: 12.3s\n",
      "54:\tlearn: 0.2450134\ttotal: 718ms\tremaining: 12.3s\n",
      "55:\tlearn: 0.2444965\ttotal: 734ms\tremaining: 12.4s\n",
      "56:\tlearn: 0.2438754\ttotal: 752ms\tremaining: 12.4s\n",
      "57:\tlearn: 0.2434270\ttotal: 770ms\tremaining: 12.5s\n",
      "58:\tlearn: 0.2430101\ttotal: 788ms\tremaining: 12.6s\n",
      "59:\tlearn: 0.2423065\ttotal: 821ms\tremaining: 12.9s\n",
      "60:\tlearn: 0.2419608\ttotal: 848ms\tremaining: 13.1s\n",
      "61:\tlearn: 0.2413944\ttotal: 885ms\tremaining: 13.4s\n",
      "62:\tlearn: 0.2410366\ttotal: 911ms\tremaining: 13.5s\n",
      "63:\tlearn: 0.2405553\ttotal: 930ms\tremaining: 13.6s\n",
      "64:\tlearn: 0.2402374\ttotal: 948ms\tremaining: 13.6s\n",
      "65:\tlearn: 0.2399330\ttotal: 968ms\tremaining: 13.7s\n",
      "66:\tlearn: 0.2394550\ttotal: 985ms\tremaining: 13.7s\n",
      "67:\tlearn: 0.2387871\ttotal: 1s\tremaining: 13.8s\n",
      "68:\tlearn: 0.2383137\ttotal: 1.03s\tremaining: 13.9s\n",
      "69:\tlearn: 0.2379647\ttotal: 1.05s\tremaining: 14s\n",
      "70:\tlearn: 0.2376058\ttotal: 1.06s\tremaining: 13.9s\n",
      "71:\tlearn: 0.2372778\ttotal: 1.08s\tremaining: 13.9s\n",
      "72:\tlearn: 0.2368546\ttotal: 1.1s\tremaining: 13.9s\n",
      "73:\tlearn: 0.2362647\ttotal: 1.11s\tremaining: 13.9s\n",
      "74:\tlearn: 0.2359725\ttotal: 1.13s\tremaining: 13.9s\n",
      "75:\tlearn: 0.2357235\ttotal: 1.14s\tremaining: 13.9s\n",
      "76:\tlearn: 0.2355271\ttotal: 1.16s\tremaining: 13.9s\n",
      "77:\tlearn: 0.2352557\ttotal: 1.18s\tremaining: 13.9s\n",
      "78:\tlearn: 0.2348755\ttotal: 1.19s\tremaining: 13.9s\n",
      "79:\tlearn: 0.2345406\ttotal: 1.21s\tremaining: 14s\n",
      "80:\tlearn: 0.2341390\ttotal: 1.23s\tremaining: 14s\n",
      "81:\tlearn: 0.2339656\ttotal: 1.25s\tremaining: 14s\n",
      "82:\tlearn: 0.2336812\ttotal: 1.27s\tremaining: 14s\n",
      "83:\tlearn: 0.2334380\ttotal: 1.28s\tremaining: 13.9s\n",
      "84:\tlearn: 0.2330009\ttotal: 1.3s\tremaining: 14.1s\n",
      "85:\tlearn: 0.2328323\ttotal: 1.34s\tremaining: 14.2s\n",
      "86:\tlearn: 0.2326134\ttotal: 1.36s\tremaining: 14.3s\n",
      "87:\tlearn: 0.2322223\ttotal: 1.38s\tremaining: 14.3s\n",
      "88:\tlearn: 0.2317597\ttotal: 1.41s\tremaining: 14.4s\n",
      "89:\tlearn: 0.2314726\ttotal: 1.44s\tremaining: 14.5s\n",
      "90:\tlearn: 0.2313236\ttotal: 1.46s\tremaining: 14.6s\n",
      "91:\tlearn: 0.2310732\ttotal: 1.48s\tremaining: 14.6s\n",
      "92:\tlearn: 0.2309259\ttotal: 1.49s\tremaining: 14.6s\n",
      "93:\tlearn: 0.2306737\ttotal: 1.51s\tremaining: 14.5s\n",
      "94:\tlearn: 0.2304901\ttotal: 1.52s\tremaining: 14.5s\n",
      "95:\tlearn: 0.2301499\ttotal: 1.53s\tremaining: 14.4s\n",
      "96:\tlearn: 0.2298635\ttotal: 1.57s\tremaining: 14.6s\n",
      "97:\tlearn: 0.2296949\ttotal: 1.6s\tremaining: 14.8s\n",
      "98:\tlearn: 0.2296195\ttotal: 1.62s\tremaining: 14.8s\n",
      "99:\tlearn: 0.2293450\ttotal: 1.64s\tremaining: 14.8s\n",
      "100:\tlearn: 0.2290093\ttotal: 1.68s\tremaining: 14.9s\n",
      "101:\tlearn: 0.2287927\ttotal: 1.69s\tremaining: 14.9s\n",
      "102:\tlearn: 0.2285501\ttotal: 1.71s\tremaining: 14.9s\n",
      "103:\tlearn: 0.2282961\ttotal: 1.73s\tremaining: 14.9s\n",
      "104:\tlearn: 0.2279632\ttotal: 1.75s\tremaining: 14.9s\n",
      "105:\tlearn: 0.2275509\ttotal: 1.77s\tremaining: 14.9s\n",
      "106:\tlearn: 0.2272330\ttotal: 1.79s\tremaining: 15s\n",
      "107:\tlearn: 0.2271344\ttotal: 1.81s\tremaining: 14.9s\n",
      "108:\tlearn: 0.2268004\ttotal: 1.83s\tremaining: 14.9s\n",
      "109:\tlearn: 0.2267043\ttotal: 1.84s\tremaining: 14.9s\n",
      "110:\tlearn: 0.2265965\ttotal: 1.86s\tremaining: 14.9s\n",
      "111:\tlearn: 0.2264792\ttotal: 1.9s\tremaining: 15s\n",
      "112:\tlearn: 0.2262163\ttotal: 1.91s\tremaining: 15s\n",
      "113:\tlearn: 0.2260097\ttotal: 1.93s\tremaining: 15s\n",
      "114:\tlearn: 0.2258460\ttotal: 1.95s\tremaining: 15s\n",
      "115:\tlearn: 0.2256633\ttotal: 1.97s\tremaining: 15s\n",
      "116:\tlearn: 0.2254865\ttotal: 1.99s\tremaining: 15s\n",
      "117:\tlearn: 0.2252784\ttotal: 2.01s\tremaining: 15s\n",
      "118:\tlearn: 0.2249066\ttotal: 2.03s\tremaining: 15s\n",
      "119:\tlearn: 0.2246757\ttotal: 2.05s\tremaining: 15s\n",
      "120:\tlearn: 0.2245794\ttotal: 2.06s\tremaining: 15s\n",
      "121:\tlearn: 0.2243176\ttotal: 2.11s\tremaining: 15.2s\n",
      "122:\tlearn: 0.2241457\ttotal: 2.13s\tremaining: 15.2s\n",
      "123:\tlearn: 0.2239809\ttotal: 2.15s\tremaining: 15.2s\n",
      "124:\tlearn: 0.2236948\ttotal: 2.16s\tremaining: 15.1s\n",
      "125:\tlearn: 0.2235155\ttotal: 2.17s\tremaining: 15.1s\n",
      "126:\tlearn: 0.2232138\ttotal: 2.19s\tremaining: 15s\n",
      "127:\tlearn: 0.2231298\ttotal: 2.2s\tremaining: 15s\n",
      "128:\tlearn: 0.2229513\ttotal: 2.21s\tremaining: 14.9s\n",
      "129:\tlearn: 0.2226848\ttotal: 2.22s\tremaining: 14.9s\n",
      "130:\tlearn: 0.2225151\ttotal: 2.24s\tremaining: 14.8s\n",
      "131:\tlearn: 0.2223218\ttotal: 2.25s\tremaining: 14.8s\n",
      "132:\tlearn: 0.2219534\ttotal: 2.26s\tremaining: 14.7s\n",
      "133:\tlearn: 0.2218321\ttotal: 2.28s\tremaining: 14.7s\n",
      "134:\tlearn: 0.2217564\ttotal: 2.29s\tremaining: 14.7s\n",
      "135:\tlearn: 0.2215636\ttotal: 2.3s\tremaining: 14.6s\n",
      "136:\tlearn: 0.2213634\ttotal: 2.31s\tremaining: 14.6s\n",
      "137:\tlearn: 0.2211905\ttotal: 2.33s\tremaining: 14.5s\n",
      "138:\tlearn: 0.2209675\ttotal: 2.34s\tremaining: 14.5s\n",
      "139:\tlearn: 0.2206307\ttotal: 2.35s\tremaining: 14.4s\n",
      "140:\tlearn: 0.2205391\ttotal: 2.36s\tremaining: 14.4s\n",
      "141:\tlearn: 0.2203669\ttotal: 2.37s\tremaining: 14.3s\n",
      "142:\tlearn: 0.2201357\ttotal: 2.39s\tremaining: 14.3s\n",
      "143:\tlearn: 0.2199419\ttotal: 2.4s\tremaining: 14.3s\n",
      "144:\tlearn: 0.2197538\ttotal: 2.42s\tremaining: 14.3s\n",
      "145:\tlearn: 0.2194601\ttotal: 2.43s\tremaining: 14.2s\n",
      "146:\tlearn: 0.2192046\ttotal: 2.44s\tremaining: 14.2s\n",
      "147:\tlearn: 0.2190232\ttotal: 2.46s\tremaining: 14.1s\n",
      "148:\tlearn: 0.2186930\ttotal: 2.48s\tremaining: 14.1s\n",
      "149:\tlearn: 0.2184437\ttotal: 2.49s\tremaining: 14.1s\n",
      "150:\tlearn: 0.2182909\ttotal: 2.51s\tremaining: 14.1s\n",
      "151:\tlearn: 0.2179951\ttotal: 2.53s\tremaining: 14.1s\n",
      "152:\tlearn: 0.2176632\ttotal: 2.55s\tremaining: 14.1s\n",
      "153:\tlearn: 0.2174297\ttotal: 2.58s\tremaining: 14.2s\n",
      "154:\tlearn: 0.2172316\ttotal: 2.6s\tremaining: 14.1s\n",
      "155:\tlearn: 0.2170299\ttotal: 2.61s\tremaining: 14.1s\n",
      "156:\tlearn: 0.2168131\ttotal: 2.63s\tremaining: 14.2s\n",
      "157:\tlearn: 0.2166630\ttotal: 2.66s\tremaining: 14.2s\n",
      "158:\tlearn: 0.2164330\ttotal: 2.67s\tremaining: 14.1s\n",
      "159:\tlearn: 0.2162241\ttotal: 2.69s\tremaining: 14.1s\n",
      "160:\tlearn: 0.2159758\ttotal: 2.7s\tremaining: 14.1s\n",
      "161:\tlearn: 0.2158240\ttotal: 2.71s\tremaining: 14s\n",
      "162:\tlearn: 0.2155508\ttotal: 2.73s\tremaining: 14s\n",
      "163:\tlearn: 0.2154966\ttotal: 2.74s\tremaining: 14s\n",
      "164:\tlearn: 0.2152997\ttotal: 2.75s\tremaining: 13.9s\n",
      "165:\tlearn: 0.2150947\ttotal: 2.76s\tremaining: 13.9s\n",
      "166:\tlearn: 0.2149394\ttotal: 2.77s\tremaining: 13.8s\n",
      "167:\tlearn: 0.2148249\ttotal: 2.79s\tremaining: 13.8s\n",
      "168:\tlearn: 0.2147070\ttotal: 2.8s\tremaining: 13.8s\n",
      "169:\tlearn: 0.2145554\ttotal: 2.82s\tremaining: 13.8s\n",
      "170:\tlearn: 0.2143481\ttotal: 2.84s\tremaining: 13.8s\n",
      "171:\tlearn: 0.2141671\ttotal: 2.87s\tremaining: 13.8s\n",
      "172:\tlearn: 0.2140369\ttotal: 2.9s\tremaining: 13.9s\n",
      "173:\tlearn: 0.2137850\ttotal: 2.95s\tremaining: 14s\n",
      "174:\tlearn: 0.2135535\ttotal: 2.98s\tremaining: 14s\n",
      "175:\tlearn: 0.2132939\ttotal: 3s\tremaining: 14.1s\n",
      "176:\tlearn: 0.2131837\ttotal: 3.02s\tremaining: 14.1s\n",
      "177:\tlearn: 0.2131077\ttotal: 3.03s\tremaining: 14s\n",
      "178:\tlearn: 0.2130065\ttotal: 3.04s\tremaining: 14s\n",
      "179:\tlearn: 0.2128791\ttotal: 3.05s\tremaining: 13.9s\n",
      "180:\tlearn: 0.2127923\ttotal: 3.06s\tremaining: 13.9s\n",
      "181:\tlearn: 0.2125494\ttotal: 3.08s\tremaining: 13.9s\n",
      "182:\tlearn: 0.2125161\ttotal: 3.1s\tremaining: 13.8s\n",
      "183:\tlearn: 0.2123003\ttotal: 3.12s\tremaining: 13.8s\n",
      "184:\tlearn: 0.2121071\ttotal: 3.13s\tremaining: 13.8s\n",
      "185:\tlearn: 0.2120123\ttotal: 3.14s\tremaining: 13.7s\n",
      "186:\tlearn: 0.2119008\ttotal: 3.15s\tremaining: 13.7s\n",
      "187:\tlearn: 0.2116944\ttotal: 3.16s\tremaining: 13.6s\n",
      "188:\tlearn: 0.2114362\ttotal: 3.17s\tremaining: 13.6s\n",
      "189:\tlearn: 0.2112405\ttotal: 3.18s\tremaining: 13.5s\n",
      "190:\tlearn: 0.2111056\ttotal: 3.19s\tremaining: 13.5s\n",
      "191:\tlearn: 0.2109613\ttotal: 3.2s\tremaining: 13.4s\n",
      "192:\tlearn: 0.2108028\ttotal: 3.2s\tremaining: 13.4s\n",
      "193:\tlearn: 0.2107144\ttotal: 3.21s\tremaining: 13.3s\n",
      "194:\tlearn: 0.2105942\ttotal: 3.22s\tremaining: 13.3s\n",
      "195:\tlearn: 0.2105215\ttotal: 3.23s\tremaining: 13.2s\n",
      "196:\tlearn: 0.2103330\ttotal: 3.24s\tremaining: 13.2s\n",
      "197:\tlearn: 0.2101752\ttotal: 3.25s\tremaining: 13.2s\n",
      "198:\tlearn: 0.2100832\ttotal: 3.26s\tremaining: 13.1s\n",
      "199:\tlearn: 0.2099548\ttotal: 3.26s\tremaining: 13.1s\n",
      "200:\tlearn: 0.2098567\ttotal: 3.27s\tremaining: 13s\n",
      "201:\tlearn: 0.2097002\ttotal: 3.29s\tremaining: 13s\n",
      "202:\tlearn: 0.2095653\ttotal: 3.3s\tremaining: 12.9s\n",
      "203:\tlearn: 0.2094191\ttotal: 3.32s\tremaining: 12.9s\n",
      "204:\tlearn: 0.2093296\ttotal: 3.33s\tremaining: 12.9s\n",
      "205:\tlearn: 0.2091038\ttotal: 3.34s\tremaining: 12.9s\n",
      "206:\tlearn: 0.2090435\ttotal: 3.35s\tremaining: 12.8s\n",
      "207:\tlearn: 0.2089134\ttotal: 3.36s\tremaining: 12.8s\n",
      "208:\tlearn: 0.2087851\ttotal: 3.37s\tremaining: 12.8s\n",
      "209:\tlearn: 0.2086144\ttotal: 3.38s\tremaining: 12.7s\n",
      "210:\tlearn: 0.2084839\ttotal: 3.4s\tremaining: 12.7s\n",
      "211:\tlearn: 0.2083953\ttotal: 3.41s\tremaining: 12.7s\n",
      "212:\tlearn: 0.2083013\ttotal: 3.42s\tremaining: 12.6s\n",
      "213:\tlearn: 0.2081256\ttotal: 3.43s\tremaining: 12.6s\n",
      "214:\tlearn: 0.2079875\ttotal: 3.44s\tremaining: 12.6s\n",
      "215:\tlearn: 0.2078472\ttotal: 3.45s\tremaining: 12.5s\n",
      "216:\tlearn: 0.2077130\ttotal: 3.46s\tremaining: 12.5s\n",
      "217:\tlearn: 0.2076410\ttotal: 3.47s\tremaining: 12.4s\n",
      "218:\tlearn: 0.2075201\ttotal: 3.48s\tremaining: 12.4s\n",
      "219:\tlearn: 0.2074194\ttotal: 3.49s\tremaining: 12.4s\n",
      "220:\tlearn: 0.2073116\ttotal: 3.51s\tremaining: 12.4s\n",
      "221:\tlearn: 0.2072425\ttotal: 3.52s\tremaining: 12.3s\n",
      "222:\tlearn: 0.2071310\ttotal: 3.53s\tremaining: 12.3s\n",
      "223:\tlearn: 0.2070805\ttotal: 3.54s\tremaining: 12.3s\n",
      "224:\tlearn: 0.2070184\ttotal: 3.55s\tremaining: 12.2s\n",
      "225:\tlearn: 0.2069679\ttotal: 3.56s\tremaining: 12.2s\n",
      "226:\tlearn: 0.2068721\ttotal: 3.56s\tremaining: 12.1s\n",
      "227:\tlearn: 0.2067170\ttotal: 3.57s\tremaining: 12.1s\n",
      "228:\tlearn: 0.2065510\ttotal: 3.58s\tremaining: 12.1s\n",
      "229:\tlearn: 0.2064273\ttotal: 3.59s\tremaining: 12s\n",
      "230:\tlearn: 0.2062546\ttotal: 3.6s\tremaining: 12s\n",
      "231:\tlearn: 0.2061068\ttotal: 3.61s\tremaining: 12s\n",
      "232:\tlearn: 0.2059172\ttotal: 3.62s\tremaining: 11.9s\n",
      "233:\tlearn: 0.2058331\ttotal: 3.63s\tremaining: 11.9s\n",
      "234:\tlearn: 0.2057447\ttotal: 3.64s\tremaining: 11.8s\n",
      "235:\tlearn: 0.2055962\ttotal: 3.65s\tremaining: 11.8s\n",
      "236:\tlearn: 0.2054725\ttotal: 3.65s\tremaining: 11.8s\n",
      "237:\tlearn: 0.2053594\ttotal: 3.66s\tremaining: 11.7s\n",
      "238:\tlearn: 0.2051853\ttotal: 3.67s\tremaining: 11.7s\n",
      "239:\tlearn: 0.2050650\ttotal: 3.69s\tremaining: 11.7s\n",
      "240:\tlearn: 0.2049323\ttotal: 3.69s\tremaining: 11.6s\n",
      "241:\tlearn: 0.2048537\ttotal: 3.71s\tremaining: 11.6s\n",
      "242:\tlearn: 0.2047403\ttotal: 3.72s\tremaining: 11.6s\n",
      "243:\tlearn: 0.2047039\ttotal: 3.73s\tremaining: 11.5s\n",
      "244:\tlearn: 0.2046340\ttotal: 3.73s\tremaining: 11.5s\n",
      "245:\tlearn: 0.2044886\ttotal: 3.74s\tremaining: 11.5s\n",
      "246:\tlearn: 0.2043652\ttotal: 3.75s\tremaining: 11.4s\n",
      "247:\tlearn: 0.2042336\ttotal: 3.76s\tremaining: 11.4s\n",
      "248:\tlearn: 0.2041302\ttotal: 3.77s\tremaining: 11.4s\n",
      "249:\tlearn: 0.2040411\ttotal: 3.78s\tremaining: 11.3s\n",
      "250:\tlearn: 0.2039424\ttotal: 3.79s\tremaining: 11.3s\n",
      "251:\tlearn: 0.2038344\ttotal: 3.8s\tremaining: 11.3s\n",
      "252:\tlearn: 0.2037401\ttotal: 3.8s\tremaining: 11.2s\n",
      "253:\tlearn: 0.2036848\ttotal: 3.81s\tremaining: 11.2s\n",
      "254:\tlearn: 0.2036025\ttotal: 3.82s\tremaining: 11.2s\n",
      "255:\tlearn: 0.2034668\ttotal: 3.83s\tremaining: 11.1s\n",
      "256:\tlearn: 0.2033783\ttotal: 3.84s\tremaining: 11.1s\n",
      "257:\tlearn: 0.2032144\ttotal: 3.85s\tremaining: 11.1s\n",
      "258:\tlearn: 0.2031570\ttotal: 3.87s\tremaining: 11.1s\n",
      "259:\tlearn: 0.2030638\ttotal: 3.88s\tremaining: 11s\n",
      "260:\tlearn: 0.2029886\ttotal: 3.89s\tremaining: 11s\n",
      "261:\tlearn: 0.2028815\ttotal: 3.9s\tremaining: 11s\n",
      "262:\tlearn: 0.2027656\ttotal: 3.92s\tremaining: 11s\n",
      "263:\tlearn: 0.2027342\ttotal: 3.93s\tremaining: 10.9s\n",
      "264:\tlearn: 0.2025892\ttotal: 3.94s\tremaining: 10.9s\n",
      "265:\tlearn: 0.2024905\ttotal: 3.95s\tremaining: 10.9s\n",
      "266:\tlearn: 0.2024290\ttotal: 3.96s\tremaining: 10.9s\n",
      "267:\tlearn: 0.2022963\ttotal: 3.98s\tremaining: 10.9s\n",
      "268:\tlearn: 0.2022707\ttotal: 3.99s\tremaining: 10.8s\n",
      "269:\tlearn: 0.2021732\ttotal: 4s\tremaining: 10.8s\n",
      "270:\tlearn: 0.2020900\ttotal: 4.01s\tremaining: 10.8s\n",
      "271:\tlearn: 0.2019897\ttotal: 4.03s\tremaining: 10.8s\n",
      "272:\tlearn: 0.2018956\ttotal: 4.05s\tremaining: 10.8s\n",
      "273:\tlearn: 0.2018298\ttotal: 4.06s\tremaining: 10.8s\n",
      "274:\tlearn: 0.2017225\ttotal: 4.07s\tremaining: 10.7s\n",
      "275:\tlearn: 0.2016231\ttotal: 4.09s\tremaining: 10.7s\n",
      "276:\tlearn: 0.2015302\ttotal: 4.1s\tremaining: 10.7s\n",
      "277:\tlearn: 0.2014299\ttotal: 4.12s\tremaining: 10.7s\n",
      "278:\tlearn: 0.2013368\ttotal: 4.13s\tremaining: 10.7s\n",
      "279:\tlearn: 0.2012788\ttotal: 4.14s\tremaining: 10.7s\n",
      "280:\tlearn: 0.2012001\ttotal: 4.16s\tremaining: 10.6s\n",
      "281:\tlearn: 0.2010822\ttotal: 4.17s\tremaining: 10.6s\n",
      "282:\tlearn: 0.2010016\ttotal: 4.19s\tremaining: 10.6s\n",
      "283:\tlearn: 0.2009470\ttotal: 4.2s\tremaining: 10.6s\n",
      "284:\tlearn: 0.2008528\ttotal: 4.21s\tremaining: 10.6s\n",
      "285:\tlearn: 0.2007380\ttotal: 4.23s\tremaining: 10.6s\n",
      "286:\tlearn: 0.2006370\ttotal: 4.24s\tremaining: 10.5s\n",
      "287:\tlearn: 0.2005460\ttotal: 4.25s\tremaining: 10.5s\n",
      "288:\tlearn: 0.2004801\ttotal: 4.27s\tremaining: 10.5s\n",
      "289:\tlearn: 0.2003984\ttotal: 4.28s\tremaining: 10.5s\n",
      "290:\tlearn: 0.2003360\ttotal: 4.29s\tremaining: 10.5s\n",
      "291:\tlearn: 0.2002720\ttotal: 4.31s\tremaining: 10.4s\n",
      "292:\tlearn: 0.2002154\ttotal: 4.32s\tremaining: 10.4s\n",
      "293:\tlearn: 0.2001890\ttotal: 4.33s\tremaining: 10.4s\n",
      "294:\tlearn: 0.2000403\ttotal: 4.34s\tremaining: 10.4s\n",
      "295:\tlearn: 0.1999647\ttotal: 4.36s\tremaining: 10.4s\n",
      "296:\tlearn: 0.1998534\ttotal: 4.37s\tremaining: 10.3s\n",
      "297:\tlearn: 0.1997329\ttotal: 4.39s\tremaining: 10.3s\n",
      "298:\tlearn: 0.1996622\ttotal: 4.4s\tremaining: 10.3s\n",
      "299:\tlearn: 0.1996180\ttotal: 4.41s\tremaining: 10.3s\n",
      "300:\tlearn: 0.1995412\ttotal: 4.42s\tremaining: 10.3s\n",
      "301:\tlearn: 0.1993983\ttotal: 4.44s\tremaining: 10.3s\n",
      "302:\tlearn: 0.1993583\ttotal: 4.45s\tremaining: 10.2s\n",
      "303:\tlearn: 0.1992849\ttotal: 4.47s\tremaining: 10.2s\n",
      "304:\tlearn: 0.1992204\ttotal: 4.48s\tremaining: 10.2s\n",
      "305:\tlearn: 0.1990641\ttotal: 4.5s\tremaining: 10.2s\n",
      "306:\tlearn: 0.1989668\ttotal: 4.51s\tremaining: 10.2s\n",
      "307:\tlearn: 0.1988506\ttotal: 4.52s\tremaining: 10.2s\n",
      "308:\tlearn: 0.1987815\ttotal: 4.53s\tremaining: 10.1s\n",
      "309:\tlearn: 0.1987168\ttotal: 4.55s\tremaining: 10.1s\n",
      "310:\tlearn: 0.1986710\ttotal: 4.56s\tremaining: 10.1s\n",
      "311:\tlearn: 0.1985811\ttotal: 4.57s\tremaining: 10.1s\n",
      "312:\tlearn: 0.1984926\ttotal: 4.59s\tremaining: 10.1s\n",
      "313:\tlearn: 0.1983710\ttotal: 4.6s\tremaining: 10.1s\n",
      "314:\tlearn: 0.1983289\ttotal: 4.61s\tremaining: 10s\n",
      "315:\tlearn: 0.1981847\ttotal: 4.63s\tremaining: 10s\n",
      "316:\tlearn: 0.1980777\ttotal: 4.64s\tremaining: 10s\n",
      "317:\tlearn: 0.1980575\ttotal: 4.66s\tremaining: 9.99s\n",
      "318:\tlearn: 0.1979513\ttotal: 4.67s\tremaining: 9.97s\n",
      "319:\tlearn: 0.1978214\ttotal: 4.69s\tremaining: 9.96s\n",
      "320:\tlearn: 0.1977257\ttotal: 4.71s\tremaining: 9.96s\n",
      "321:\tlearn: 0.1976082\ttotal: 4.72s\tremaining: 9.94s\n",
      "322:\tlearn: 0.1975423\ttotal: 4.74s\tremaining: 9.93s\n",
      "323:\tlearn: 0.1974607\ttotal: 4.76s\tremaining: 9.93s\n",
      "324:\tlearn: 0.1973563\ttotal: 4.78s\tremaining: 9.92s\n",
      "325:\tlearn: 0.1972559\ttotal: 4.79s\tremaining: 9.9s\n",
      "326:\tlearn: 0.1971677\ttotal: 4.81s\tremaining: 9.91s\n",
      "327:\tlearn: 0.1970933\ttotal: 4.83s\tremaining: 9.89s\n",
      "328:\tlearn: 0.1970162\ttotal: 4.84s\tremaining: 9.88s\n",
      "329:\tlearn: 0.1968916\ttotal: 4.86s\tremaining: 9.86s\n",
      "330:\tlearn: 0.1968107\ttotal: 4.87s\tremaining: 9.85s\n",
      "331:\tlearn: 0.1967452\ttotal: 4.89s\tremaining: 9.83s\n",
      "332:\tlearn: 0.1966309\ttotal: 4.9s\tremaining: 9.82s\n",
      "333:\tlearn: 0.1965443\ttotal: 4.91s\tremaining: 9.8s\n",
      "334:\tlearn: 0.1964572\ttotal: 4.93s\tremaining: 9.79s\n",
      "335:\tlearn: 0.1964039\ttotal: 4.95s\tremaining: 9.78s\n",
      "336:\tlearn: 0.1963695\ttotal: 4.96s\tremaining: 9.76s\n",
      "337:\tlearn: 0.1963331\ttotal: 4.97s\tremaining: 9.73s\n",
      "338:\tlearn: 0.1962200\ttotal: 4.98s\tremaining: 9.71s\n",
      "339:\tlearn: 0.1961468\ttotal: 4.99s\tremaining: 9.69s\n",
      "340:\tlearn: 0.1960212\ttotal: 5s\tremaining: 9.66s\n",
      "341:\tlearn: 0.1959195\ttotal: 5.01s\tremaining: 9.64s\n",
      "342:\tlearn: 0.1958822\ttotal: 5.03s\tremaining: 9.63s\n",
      "343:\tlearn: 0.1957687\ttotal: 5.04s\tremaining: 9.61s\n",
      "344:\tlearn: 0.1957208\ttotal: 5.05s\tremaining: 9.59s\n",
      "345:\tlearn: 0.1956236\ttotal: 5.06s\tremaining: 9.56s\n",
      "346:\tlearn: 0.1955109\ttotal: 5.07s\tremaining: 9.54s\n",
      "347:\tlearn: 0.1954228\ttotal: 5.08s\tremaining: 9.52s\n",
      "348:\tlearn: 0.1953574\ttotal: 5.09s\tremaining: 9.5s\n",
      "349:\tlearn: 0.1952639\ttotal: 5.1s\tremaining: 9.47s\n",
      "350:\tlearn: 0.1950769\ttotal: 5.11s\tremaining: 9.46s\n",
      "351:\tlearn: 0.1950006\ttotal: 5.12s\tremaining: 9.43s\n",
      "352:\tlearn: 0.1949375\ttotal: 5.14s\tremaining: 9.42s\n",
      "353:\tlearn: 0.1948796\ttotal: 5.15s\tremaining: 9.4s\n",
      "354:\tlearn: 0.1948191\ttotal: 5.16s\tremaining: 9.38s\n",
      "355:\tlearn: 0.1947799\ttotal: 5.17s\tremaining: 9.36s\n",
      "356:\tlearn: 0.1946521\ttotal: 5.19s\tremaining: 9.35s\n",
      "357:\tlearn: 0.1945982\ttotal: 5.21s\tremaining: 9.34s\n",
      "358:\tlearn: 0.1945274\ttotal: 5.22s\tremaining: 9.32s\n",
      "359:\tlearn: 0.1944939\ttotal: 5.23s\tremaining: 9.31s\n",
      "360:\tlearn: 0.1944205\ttotal: 5.25s\tremaining: 9.29s\n",
      "361:\tlearn: 0.1943683\ttotal: 5.26s\tremaining: 9.28s\n",
      "362:\tlearn: 0.1942955\ttotal: 5.28s\tremaining: 9.26s\n",
      "363:\tlearn: 0.1942076\ttotal: 5.29s\tremaining: 9.25s\n",
      "364:\tlearn: 0.1941640\ttotal: 5.31s\tremaining: 9.23s\n",
      "365:\tlearn: 0.1940422\ttotal: 5.32s\tremaining: 9.22s\n",
      "366:\tlearn: 0.1939706\ttotal: 5.34s\tremaining: 9.21s\n",
      "367:\tlearn: 0.1938744\ttotal: 5.36s\tremaining: 9.2s\n",
      "368:\tlearn: 0.1938507\ttotal: 5.38s\tremaining: 9.19s\n",
      "369:\tlearn: 0.1937806\ttotal: 5.39s\tremaining: 9.18s\n",
      "370:\tlearn: 0.1936852\ttotal: 5.4s\tremaining: 9.16s\n",
      "371:\tlearn: 0.1936248\ttotal: 5.42s\tremaining: 9.15s\n",
      "372:\tlearn: 0.1935754\ttotal: 5.43s\tremaining: 9.13s\n",
      "373:\tlearn: 0.1935190\ttotal: 5.45s\tremaining: 9.12s\n",
      "374:\tlearn: 0.1934624\ttotal: 5.46s\tremaining: 9.1s\n",
      "375:\tlearn: 0.1933753\ttotal: 5.47s\tremaining: 9.09s\n",
      "376:\tlearn: 0.1932909\ttotal: 5.49s\tremaining: 9.06s\n",
      "377:\tlearn: 0.1932321\ttotal: 5.5s\tremaining: 9.04s\n",
      "378:\tlearn: 0.1931920\ttotal: 5.5s\tremaining: 9.02s\n",
      "379:\tlearn: 0.1931018\ttotal: 5.51s\tremaining: 9s\n",
      "380:\tlearn: 0.1930057\ttotal: 5.53s\tremaining: 8.98s\n",
      "381:\tlearn: 0.1929269\ttotal: 5.54s\tremaining: 8.96s\n",
      "382:\tlearn: 0.1928767\ttotal: 5.56s\tremaining: 8.95s\n",
      "383:\tlearn: 0.1928061\ttotal: 5.57s\tremaining: 8.94s\n",
      "384:\tlearn: 0.1927714\ttotal: 5.58s\tremaining: 8.92s\n",
      "385:\tlearn: 0.1927381\ttotal: 5.59s\tremaining: 8.9s\n",
      "386:\tlearn: 0.1926588\ttotal: 5.61s\tremaining: 8.88s\n",
      "387:\tlearn: 0.1925998\ttotal: 5.62s\tremaining: 8.86s\n",
      "388:\tlearn: 0.1924690\ttotal: 5.63s\tremaining: 8.84s\n",
      "389:\tlearn: 0.1924255\ttotal: 5.63s\tremaining: 8.81s\n",
      "390:\tlearn: 0.1923625\ttotal: 5.64s\tremaining: 8.79s\n",
      "391:\tlearn: 0.1922942\ttotal: 5.65s\tremaining: 8.77s\n",
      "392:\tlearn: 0.1922248\ttotal: 5.66s\tremaining: 8.74s\n",
      "393:\tlearn: 0.1921689\ttotal: 5.67s\tremaining: 8.72s\n",
      "394:\tlearn: 0.1921182\ttotal: 5.68s\tremaining: 8.7s\n",
      "395:\tlearn: 0.1920366\ttotal: 5.69s\tremaining: 8.68s\n",
      "396:\tlearn: 0.1919651\ttotal: 5.7s\tremaining: 8.65s\n",
      "397:\tlearn: 0.1919225\ttotal: 5.71s\tremaining: 8.63s\n",
      "398:\tlearn: 0.1918584\ttotal: 5.71s\tremaining: 8.61s\n",
      "399:\tlearn: 0.1918078\ttotal: 5.72s\tremaining: 8.59s\n",
      "400:\tlearn: 0.1917512\ttotal: 5.74s\tremaining: 8.57s\n",
      "401:\tlearn: 0.1917055\ttotal: 5.74s\tremaining: 8.54s\n",
      "402:\tlearn: 0.1916418\ttotal: 5.75s\tremaining: 8.53s\n",
      "403:\tlearn: 0.1915664\ttotal: 5.77s\tremaining: 8.52s\n",
      "404:\tlearn: 0.1914776\ttotal: 5.79s\tremaining: 8.5s\n",
      "405:\tlearn: 0.1914185\ttotal: 5.8s\tremaining: 8.48s\n",
      "406:\tlearn: 0.1913611\ttotal: 5.82s\tremaining: 8.47s\n",
      "407:\tlearn: 0.1912967\ttotal: 5.83s\tremaining: 8.46s\n",
      "408:\tlearn: 0.1912252\ttotal: 5.84s\tremaining: 8.44s\n",
      "409:\tlearn: 0.1911726\ttotal: 5.85s\tremaining: 8.42s\n",
      "410:\tlearn: 0.1911308\ttotal: 5.86s\tremaining: 8.39s\n",
      "411:\tlearn: 0.1910230\ttotal: 5.87s\tremaining: 8.37s\n",
      "412:\tlearn: 0.1909124\ttotal: 5.88s\tremaining: 8.35s\n",
      "413:\tlearn: 0.1908651\ttotal: 5.88s\tremaining: 8.33s\n",
      "414:\tlearn: 0.1908318\ttotal: 5.89s\tremaining: 8.31s\n",
      "415:\tlearn: 0.1907601\ttotal: 5.9s\tremaining: 8.28s\n",
      "416:\tlearn: 0.1907110\ttotal: 5.91s\tremaining: 8.26s\n",
      "417:\tlearn: 0.1905860\ttotal: 5.92s\tremaining: 8.24s\n",
      "418:\tlearn: 0.1905331\ttotal: 5.93s\tremaining: 8.22s\n",
      "419:\tlearn: 0.1904721\ttotal: 5.94s\tremaining: 8.2s\n",
      "420:\tlearn: 0.1904229\ttotal: 5.95s\tremaining: 8.18s\n",
      "421:\tlearn: 0.1903287\ttotal: 5.97s\tremaining: 8.18s\n",
      "422:\tlearn: 0.1902638\ttotal: 5.98s\tremaining: 8.16s\n",
      "423:\tlearn: 0.1902007\ttotal: 6s\tremaining: 8.14s\n",
      "424:\tlearn: 0.1901518\ttotal: 6s\tremaining: 8.12s\n",
      "425:\tlearn: 0.1900927\ttotal: 6.01s\tremaining: 8.1s\n",
      "426:\tlearn: 0.1899983\ttotal: 6.02s\tremaining: 8.08s\n",
      "427:\tlearn: 0.1898729\ttotal: 6.03s\tremaining: 8.06s\n",
      "428:\tlearn: 0.1898187\ttotal: 6.04s\tremaining: 8.04s\n",
      "429:\tlearn: 0.1897404\ttotal: 6.05s\tremaining: 8.02s\n",
      "430:\tlearn: 0.1896977\ttotal: 6.06s\tremaining: 8s\n",
      "431:\tlearn: 0.1896522\ttotal: 6.07s\tremaining: 7.98s\n",
      "432:\tlearn: 0.1895925\ttotal: 6.08s\tremaining: 7.96s\n",
      "433:\tlearn: 0.1894937\ttotal: 6.09s\tremaining: 7.94s\n",
      "434:\tlearn: 0.1894546\ttotal: 6.1s\tremaining: 7.92s\n",
      "435:\tlearn: 0.1893987\ttotal: 6.11s\tremaining: 7.9s\n",
      "436:\tlearn: 0.1893346\ttotal: 6.12s\tremaining: 7.88s\n",
      "437:\tlearn: 0.1892951\ttotal: 6.13s\tremaining: 7.86s\n",
      "438:\tlearn: 0.1892166\ttotal: 6.13s\tremaining: 7.84s\n",
      "439:\tlearn: 0.1891712\ttotal: 6.14s\tremaining: 7.82s\n",
      "440:\tlearn: 0.1891337\ttotal: 6.16s\tremaining: 7.81s\n",
      "441:\tlearn: 0.1891054\ttotal: 6.17s\tremaining: 7.79s\n",
      "442:\tlearn: 0.1890432\ttotal: 6.18s\tremaining: 7.77s\n",
      "443:\tlearn: 0.1890130\ttotal: 6.19s\tremaining: 7.75s\n",
      "444:\tlearn: 0.1889762\ttotal: 6.2s\tremaining: 7.73s\n",
      "445:\tlearn: 0.1889300\ttotal: 6.21s\tremaining: 7.71s\n",
      "446:\tlearn: 0.1888641\ttotal: 6.22s\tremaining: 7.7s\n",
      "447:\tlearn: 0.1888265\ttotal: 6.23s\tremaining: 7.68s\n",
      "448:\tlearn: 0.1887443\ttotal: 6.24s\tremaining: 7.66s\n",
      "449:\tlearn: 0.1886978\ttotal: 6.26s\tremaining: 7.65s\n",
      "450:\tlearn: 0.1886538\ttotal: 6.27s\tremaining: 7.63s\n",
      "451:\tlearn: 0.1885653\ttotal: 6.28s\tremaining: 7.61s\n",
      "452:\tlearn: 0.1885423\ttotal: 6.29s\tremaining: 7.59s\n",
      "453:\tlearn: 0.1884978\ttotal: 6.31s\tremaining: 7.59s\n",
      "454:\tlearn: 0.1884600\ttotal: 6.32s\tremaining: 7.57s\n",
      "455:\tlearn: 0.1883977\ttotal: 6.33s\tremaining: 7.55s\n",
      "456:\tlearn: 0.1883044\ttotal: 6.35s\tremaining: 7.54s\n",
      "457:\tlearn: 0.1882046\ttotal: 6.36s\tremaining: 7.53s\n",
      "458:\tlearn: 0.1881642\ttotal: 6.38s\tremaining: 7.52s\n",
      "459:\tlearn: 0.1881085\ttotal: 6.39s\tremaining: 7.5s\n",
      "460:\tlearn: 0.1880716\ttotal: 6.4s\tremaining: 7.48s\n",
      "461:\tlearn: 0.1880248\ttotal: 6.41s\tremaining: 7.46s\n",
      "462:\tlearn: 0.1879724\ttotal: 6.42s\tremaining: 7.45s\n",
      "463:\tlearn: 0.1879253\ttotal: 6.43s\tremaining: 7.43s\n",
      "464:\tlearn: 0.1878889\ttotal: 6.44s\tremaining: 7.41s\n",
      "465:\tlearn: 0.1878515\ttotal: 6.45s\tremaining: 7.39s\n",
      "466:\tlearn: 0.1878066\ttotal: 6.46s\tremaining: 7.37s\n",
      "467:\tlearn: 0.1877285\ttotal: 6.47s\tremaining: 7.36s\n",
      "468:\tlearn: 0.1876860\ttotal: 6.48s\tremaining: 7.34s\n",
      "469:\tlearn: 0.1876323\ttotal: 6.49s\tremaining: 7.32s\n",
      "470:\tlearn: 0.1875988\ttotal: 6.5s\tremaining: 7.3s\n",
      "471:\tlearn: 0.1875485\ttotal: 6.51s\tremaining: 7.28s\n",
      "472:\tlearn: 0.1874697\ttotal: 6.51s\tremaining: 7.26s\n",
      "473:\tlearn: 0.1874120\ttotal: 6.53s\tremaining: 7.24s\n",
      "474:\tlearn: 0.1873399\ttotal: 6.54s\tremaining: 7.22s\n",
      "475:\tlearn: 0.1873125\ttotal: 6.55s\tremaining: 7.21s\n",
      "476:\tlearn: 0.1872382\ttotal: 6.56s\tremaining: 7.2s\n",
      "477:\tlearn: 0.1871934\ttotal: 6.57s\tremaining: 7.18s\n",
      "478:\tlearn: 0.1870902\ttotal: 6.58s\tremaining: 7.16s\n",
      "479:\tlearn: 0.1870278\ttotal: 6.59s\tremaining: 7.14s\n",
      "480:\tlearn: 0.1869914\ttotal: 6.6s\tremaining: 7.12s\n",
      "481:\tlearn: 0.1869676\ttotal: 6.61s\tremaining: 7.1s\n",
      "482:\tlearn: 0.1869118\ttotal: 6.62s\tremaining: 7.08s\n",
      "483:\tlearn: 0.1868908\ttotal: 6.63s\tremaining: 7.06s\n",
      "484:\tlearn: 0.1868065\ttotal: 6.63s\tremaining: 7.04s\n",
      "485:\tlearn: 0.1867219\ttotal: 6.64s\tremaining: 7.03s\n",
      "486:\tlearn: 0.1866547\ttotal: 6.65s\tremaining: 7.01s\n",
      "487:\tlearn: 0.1865683\ttotal: 6.66s\tremaining: 6.99s\n",
      "488:\tlearn: 0.1865116\ttotal: 6.67s\tremaining: 6.97s\n",
      "489:\tlearn: 0.1864737\ttotal: 6.68s\tremaining: 6.95s\n",
      "490:\tlearn: 0.1864335\ttotal: 6.69s\tremaining: 6.94s\n",
      "491:\tlearn: 0.1863892\ttotal: 6.7s\tremaining: 6.92s\n",
      "492:\tlearn: 0.1863324\ttotal: 6.71s\tremaining: 6.9s\n",
      "493:\tlearn: 0.1862801\ttotal: 6.72s\tremaining: 6.88s\n",
      "494:\tlearn: 0.1862274\ttotal: 6.73s\tremaining: 6.86s\n",
      "495:\tlearn: 0.1861432\ttotal: 6.74s\tremaining: 6.84s\n",
      "496:\tlearn: 0.1861046\ttotal: 6.75s\tremaining: 6.83s\n",
      "497:\tlearn: 0.1860574\ttotal: 6.76s\tremaining: 6.81s\n",
      "498:\tlearn: 0.1860032\ttotal: 6.77s\tremaining: 6.8s\n",
      "499:\tlearn: 0.1859496\ttotal: 6.78s\tremaining: 6.78s\n",
      "500:\tlearn: 0.1859028\ttotal: 6.79s\tremaining: 6.76s\n",
      "501:\tlearn: 0.1858648\ttotal: 6.8s\tremaining: 6.75s\n",
      "502:\tlearn: 0.1858279\ttotal: 6.81s\tremaining: 6.73s\n",
      "503:\tlearn: 0.1857948\ttotal: 6.82s\tremaining: 6.71s\n",
      "504:\tlearn: 0.1857442\ttotal: 6.83s\tremaining: 6.69s\n",
      "505:\tlearn: 0.1856584\ttotal: 6.84s\tremaining: 6.68s\n",
      "506:\tlearn: 0.1855835\ttotal: 6.85s\tremaining: 6.66s\n",
      "507:\tlearn: 0.1855136\ttotal: 6.86s\tremaining: 6.64s\n",
      "508:\tlearn: 0.1854706\ttotal: 6.87s\tremaining: 6.62s\n",
      "509:\tlearn: 0.1854243\ttotal: 6.87s\tremaining: 6.61s\n",
      "510:\tlearn: 0.1853765\ttotal: 6.88s\tremaining: 6.59s\n",
      "511:\tlearn: 0.1853273\ttotal: 6.89s\tremaining: 6.57s\n",
      "512:\tlearn: 0.1852354\ttotal: 6.9s\tremaining: 6.55s\n",
      "513:\tlearn: 0.1851881\ttotal: 6.91s\tremaining: 6.54s\n",
      "514:\tlearn: 0.1851754\ttotal: 6.92s\tremaining: 6.52s\n",
      "515:\tlearn: 0.1851351\ttotal: 6.94s\tremaining: 6.51s\n",
      "516:\tlearn: 0.1850892\ttotal: 6.95s\tremaining: 6.49s\n",
      "517:\tlearn: 0.1850251\ttotal: 6.96s\tremaining: 6.48s\n",
      "518:\tlearn: 0.1849244\ttotal: 6.97s\tremaining: 6.46s\n",
      "519:\tlearn: 0.1848617\ttotal: 6.98s\tremaining: 6.44s\n",
      "520:\tlearn: 0.1848160\ttotal: 6.99s\tremaining: 6.43s\n",
      "521:\tlearn: 0.1847720\ttotal: 7s\tremaining: 6.41s\n",
      "522:\tlearn: 0.1847041\ttotal: 7.01s\tremaining: 6.39s\n",
      "523:\tlearn: 0.1846094\ttotal: 7.02s\tremaining: 6.37s\n",
      "524:\tlearn: 0.1845641\ttotal: 7.02s\tremaining: 6.36s\n",
      "525:\tlearn: 0.1845318\ttotal: 7.03s\tremaining: 6.34s\n",
      "526:\tlearn: 0.1844804\ttotal: 7.04s\tremaining: 6.32s\n",
      "527:\tlearn: 0.1844422\ttotal: 7.05s\tremaining: 6.3s\n",
      "528:\tlearn: 0.1844108\ttotal: 7.06s\tremaining: 6.29s\n",
      "529:\tlearn: 0.1843450\ttotal: 7.07s\tremaining: 6.27s\n",
      "530:\tlearn: 0.1842810\ttotal: 7.08s\tremaining: 6.25s\n",
      "531:\tlearn: 0.1842371\ttotal: 7.09s\tremaining: 6.24s\n",
      "532:\tlearn: 0.1842191\ttotal: 7.1s\tremaining: 6.22s\n",
      "533:\tlearn: 0.1841703\ttotal: 7.1s\tremaining: 6.2s\n",
      "534:\tlearn: 0.1841119\ttotal: 7.11s\tremaining: 6.18s\n",
      "535:\tlearn: 0.1840163\ttotal: 7.12s\tremaining: 6.16s\n",
      "536:\tlearn: 0.1839730\ttotal: 7.13s\tremaining: 6.15s\n",
      "537:\tlearn: 0.1839430\ttotal: 7.14s\tremaining: 6.13s\n",
      "538:\tlearn: 0.1838710\ttotal: 7.16s\tremaining: 6.12s\n",
      "539:\tlearn: 0.1838400\ttotal: 7.17s\tremaining: 6.1s\n",
      "540:\tlearn: 0.1837948\ttotal: 7.17s\tremaining: 6.09s\n",
      "541:\tlearn: 0.1837519\ttotal: 7.18s\tremaining: 6.07s\n",
      "542:\tlearn: 0.1836816\ttotal: 7.19s\tremaining: 6.05s\n",
      "543:\tlearn: 0.1836365\ttotal: 7.2s\tremaining: 6.04s\n",
      "544:\tlearn: 0.1836047\ttotal: 7.21s\tremaining: 6.02s\n",
      "545:\tlearn: 0.1835741\ttotal: 7.22s\tremaining: 6s\n",
      "546:\tlearn: 0.1835516\ttotal: 7.23s\tremaining: 5.99s\n",
      "547:\tlearn: 0.1834890\ttotal: 7.24s\tremaining: 5.97s\n",
      "548:\tlearn: 0.1834466\ttotal: 7.25s\tremaining: 5.95s\n",
      "549:\tlearn: 0.1833939\ttotal: 7.25s\tremaining: 5.93s\n",
      "550:\tlearn: 0.1833447\ttotal: 7.26s\tremaining: 5.92s\n",
      "551:\tlearn: 0.1832951\ttotal: 7.27s\tremaining: 5.9s\n",
      "552:\tlearn: 0.1832428\ttotal: 7.29s\tremaining: 5.89s\n",
      "553:\tlearn: 0.1832116\ttotal: 7.29s\tremaining: 5.87s\n",
      "554:\tlearn: 0.1831510\ttotal: 7.3s\tremaining: 5.86s\n",
      "555:\tlearn: 0.1831155\ttotal: 7.31s\tremaining: 5.84s\n",
      "556:\tlearn: 0.1830898\ttotal: 7.32s\tremaining: 5.82s\n",
      "557:\tlearn: 0.1830387\ttotal: 7.33s\tremaining: 5.81s\n",
      "558:\tlearn: 0.1829857\ttotal: 7.34s\tremaining: 5.79s\n",
      "559:\tlearn: 0.1829085\ttotal: 7.35s\tremaining: 5.78s\n",
      "560:\tlearn: 0.1828735\ttotal: 7.36s\tremaining: 5.76s\n",
      "561:\tlearn: 0.1828404\ttotal: 7.37s\tremaining: 5.75s\n",
      "562:\tlearn: 0.1827838\ttotal: 7.38s\tremaining: 5.73s\n",
      "563:\tlearn: 0.1827511\ttotal: 7.39s\tremaining: 5.71s\n",
      "564:\tlearn: 0.1827207\ttotal: 7.4s\tremaining: 5.7s\n",
      "565:\tlearn: 0.1826503\ttotal: 7.41s\tremaining: 5.68s\n",
      "566:\tlearn: 0.1826017\ttotal: 7.42s\tremaining: 5.67s\n",
      "567:\tlearn: 0.1825633\ttotal: 7.43s\tremaining: 5.65s\n",
      "568:\tlearn: 0.1825318\ttotal: 7.44s\tremaining: 5.63s\n",
      "569:\tlearn: 0.1824882\ttotal: 7.45s\tremaining: 5.62s\n",
      "570:\tlearn: 0.1824529\ttotal: 7.46s\tremaining: 5.6s\n",
      "571:\tlearn: 0.1824061\ttotal: 7.46s\tremaining: 5.58s\n",
      "572:\tlearn: 0.1823615\ttotal: 7.47s\tremaining: 5.57s\n",
      "573:\tlearn: 0.1823154\ttotal: 7.48s\tremaining: 5.55s\n",
      "574:\tlearn: 0.1822771\ttotal: 7.49s\tremaining: 5.54s\n",
      "575:\tlearn: 0.1822232\ttotal: 7.5s\tremaining: 5.52s\n",
      "576:\tlearn: 0.1821794\ttotal: 7.51s\tremaining: 5.5s\n",
      "577:\tlearn: 0.1821388\ttotal: 7.52s\tremaining: 5.49s\n",
      "578:\tlearn: 0.1821115\ttotal: 7.53s\tremaining: 5.47s\n",
      "579:\tlearn: 0.1820757\ttotal: 7.54s\tremaining: 5.46s\n",
      "580:\tlearn: 0.1820286\ttotal: 7.55s\tremaining: 5.45s\n",
      "581:\tlearn: 0.1819832\ttotal: 7.56s\tremaining: 5.43s\n",
      "582:\tlearn: 0.1819278\ttotal: 7.57s\tremaining: 5.42s\n",
      "583:\tlearn: 0.1818808\ttotal: 7.58s\tremaining: 5.4s\n",
      "584:\tlearn: 0.1818150\ttotal: 7.59s\tremaining: 5.38s\n",
      "585:\tlearn: 0.1817551\ttotal: 7.6s\tremaining: 5.37s\n",
      "586:\tlearn: 0.1817158\ttotal: 7.61s\tremaining: 5.35s\n",
      "587:\tlearn: 0.1816608\ttotal: 7.62s\tremaining: 5.34s\n",
      "588:\tlearn: 0.1816039\ttotal: 7.63s\tremaining: 5.32s\n",
      "589:\tlearn: 0.1815734\ttotal: 7.64s\tremaining: 5.31s\n",
      "590:\tlearn: 0.1815372\ttotal: 7.64s\tremaining: 5.29s\n",
      "591:\tlearn: 0.1815055\ttotal: 7.65s\tremaining: 5.27s\n",
      "592:\tlearn: 0.1814723\ttotal: 7.66s\tremaining: 5.26s\n",
      "593:\tlearn: 0.1814375\ttotal: 7.67s\tremaining: 5.24s\n",
      "594:\tlearn: 0.1813995\ttotal: 7.68s\tremaining: 5.23s\n",
      "595:\tlearn: 0.1813501\ttotal: 7.69s\tremaining: 5.21s\n",
      "596:\tlearn: 0.1812714\ttotal: 7.7s\tremaining: 5.2s\n",
      "597:\tlearn: 0.1812471\ttotal: 7.71s\tremaining: 5.18s\n",
      "598:\tlearn: 0.1811969\ttotal: 7.72s\tremaining: 5.17s\n",
      "599:\tlearn: 0.1811380\ttotal: 7.73s\tremaining: 5.15s\n",
      "600:\tlearn: 0.1810884\ttotal: 7.74s\tremaining: 5.13s\n",
      "601:\tlearn: 0.1810513\ttotal: 7.75s\tremaining: 5.12s\n",
      "602:\tlearn: 0.1810074\ttotal: 7.76s\tremaining: 5.11s\n",
      "603:\tlearn: 0.1809720\ttotal: 7.77s\tremaining: 5.09s\n",
      "604:\tlearn: 0.1809157\ttotal: 7.78s\tremaining: 5.08s\n",
      "605:\tlearn: 0.1808743\ttotal: 7.79s\tremaining: 5.07s\n",
      "606:\tlearn: 0.1808262\ttotal: 7.8s\tremaining: 5.05s\n",
      "607:\tlearn: 0.1807751\ttotal: 7.81s\tremaining: 5.03s\n",
      "608:\tlearn: 0.1806960\ttotal: 7.82s\tremaining: 5.02s\n",
      "609:\tlearn: 0.1806490\ttotal: 7.83s\tremaining: 5s\n",
      "610:\tlearn: 0.1806076\ttotal: 7.84s\tremaining: 4.99s\n",
      "611:\tlearn: 0.1805757\ttotal: 7.84s\tremaining: 4.97s\n",
      "612:\tlearn: 0.1805474\ttotal: 7.85s\tremaining: 4.96s\n",
      "613:\tlearn: 0.1805045\ttotal: 7.86s\tremaining: 4.94s\n",
      "614:\tlearn: 0.1804870\ttotal: 7.87s\tremaining: 4.93s\n",
      "615:\tlearn: 0.1804550\ttotal: 7.88s\tremaining: 4.91s\n",
      "616:\tlearn: 0.1803946\ttotal: 7.89s\tremaining: 4.9s\n",
      "617:\tlearn: 0.1803356\ttotal: 7.91s\tremaining: 4.89s\n",
      "618:\tlearn: 0.1803168\ttotal: 7.92s\tremaining: 4.88s\n",
      "619:\tlearn: 0.1802858\ttotal: 7.93s\tremaining: 4.86s\n",
      "620:\tlearn: 0.1802685\ttotal: 7.95s\tremaining: 4.85s\n",
      "621:\tlearn: 0.1802299\ttotal: 7.96s\tremaining: 4.84s\n",
      "622:\tlearn: 0.1801803\ttotal: 7.98s\tremaining: 4.83s\n",
      "623:\tlearn: 0.1801349\ttotal: 7.99s\tremaining: 4.81s\n",
      "624:\tlearn: 0.1800991\ttotal: 8s\tremaining: 4.8s\n",
      "625:\tlearn: 0.1800566\ttotal: 8.01s\tremaining: 4.79s\n",
      "626:\tlearn: 0.1800427\ttotal: 8.03s\tremaining: 4.77s\n",
      "627:\tlearn: 0.1800083\ttotal: 8.04s\tremaining: 4.76s\n",
      "628:\tlearn: 0.1799677\ttotal: 8.05s\tremaining: 4.75s\n",
      "629:\tlearn: 0.1799160\ttotal: 8.06s\tremaining: 4.73s\n",
      "630:\tlearn: 0.1798482\ttotal: 8.07s\tremaining: 4.72s\n",
      "631:\tlearn: 0.1798166\ttotal: 8.09s\tremaining: 4.71s\n",
      "632:\tlearn: 0.1797827\ttotal: 8.1s\tremaining: 4.69s\n",
      "633:\tlearn: 0.1797554\ttotal: 8.11s\tremaining: 4.68s\n",
      "634:\tlearn: 0.1796940\ttotal: 8.12s\tremaining: 4.67s\n",
      "635:\tlearn: 0.1796526\ttotal: 8.13s\tremaining: 4.66s\n",
      "636:\tlearn: 0.1796012\ttotal: 8.16s\tremaining: 4.65s\n",
      "637:\tlearn: 0.1795620\ttotal: 8.17s\tremaining: 4.64s\n",
      "638:\tlearn: 0.1795371\ttotal: 8.19s\tremaining: 4.63s\n",
      "639:\tlearn: 0.1794964\ttotal: 8.21s\tremaining: 4.62s\n",
      "640:\tlearn: 0.1794400\ttotal: 8.22s\tremaining: 4.6s\n",
      "641:\tlearn: 0.1794092\ttotal: 8.23s\tremaining: 4.59s\n",
      "642:\tlearn: 0.1793815\ttotal: 8.26s\tremaining: 4.58s\n",
      "643:\tlearn: 0.1793527\ttotal: 8.27s\tremaining: 4.57s\n",
      "644:\tlearn: 0.1793270\ttotal: 8.29s\tremaining: 4.56s\n",
      "645:\tlearn: 0.1792931\ttotal: 8.3s\tremaining: 4.55s\n",
      "646:\tlearn: 0.1792619\ttotal: 8.33s\tremaining: 4.54s\n",
      "647:\tlearn: 0.1792195\ttotal: 8.36s\tremaining: 4.54s\n",
      "648:\tlearn: 0.1791843\ttotal: 8.37s\tremaining: 4.53s\n",
      "649:\tlearn: 0.1791550\ttotal: 8.38s\tremaining: 4.51s\n",
      "650:\tlearn: 0.1791230\ttotal: 8.4s\tremaining: 4.5s\n",
      "651:\tlearn: 0.1790903\ttotal: 8.41s\tremaining: 4.49s\n",
      "652:\tlearn: 0.1790641\ttotal: 8.42s\tremaining: 4.48s\n",
      "653:\tlearn: 0.1790549\ttotal: 8.43s\tremaining: 4.46s\n",
      "654:\tlearn: 0.1790026\ttotal: 8.45s\tremaining: 4.45s\n",
      "655:\tlearn: 0.1789678\ttotal: 8.47s\tremaining: 4.44s\n",
      "656:\tlearn: 0.1789496\ttotal: 8.48s\tremaining: 4.42s\n",
      "657:\tlearn: 0.1788814\ttotal: 8.49s\tremaining: 4.41s\n",
      "658:\tlearn: 0.1788288\ttotal: 8.51s\tremaining: 4.4s\n",
      "659:\tlearn: 0.1787932\ttotal: 8.52s\tremaining: 4.39s\n",
      "660:\tlearn: 0.1787505\ttotal: 8.54s\tremaining: 4.38s\n",
      "661:\tlearn: 0.1786918\ttotal: 8.56s\tremaining: 4.37s\n",
      "662:\tlearn: 0.1786573\ttotal: 8.58s\tremaining: 4.36s\n",
      "663:\tlearn: 0.1786205\ttotal: 8.6s\tremaining: 4.35s\n",
      "664:\tlearn: 0.1785655\ttotal: 8.61s\tremaining: 4.34s\n",
      "665:\tlearn: 0.1785296\ttotal: 8.63s\tremaining: 4.33s\n",
      "666:\tlearn: 0.1784997\ttotal: 8.64s\tremaining: 4.31s\n",
      "667:\tlearn: 0.1784629\ttotal: 8.65s\tremaining: 4.3s\n",
      "668:\tlearn: 0.1784364\ttotal: 8.66s\tremaining: 4.29s\n",
      "669:\tlearn: 0.1783897\ttotal: 8.68s\tremaining: 4.27s\n",
      "670:\tlearn: 0.1783310\ttotal: 8.69s\tremaining: 4.26s\n",
      "671:\tlearn: 0.1782927\ttotal: 8.7s\tremaining: 4.25s\n",
      "672:\tlearn: 0.1782544\ttotal: 8.72s\tremaining: 4.24s\n",
      "673:\tlearn: 0.1782085\ttotal: 8.73s\tremaining: 4.22s\n",
      "674:\tlearn: 0.1781892\ttotal: 8.75s\tremaining: 4.21s\n",
      "675:\tlearn: 0.1781187\ttotal: 8.78s\tremaining: 4.21s\n",
      "676:\tlearn: 0.1780959\ttotal: 8.8s\tremaining: 4.2s\n",
      "677:\tlearn: 0.1780429\ttotal: 8.81s\tremaining: 4.18s\n",
      "678:\tlearn: 0.1780158\ttotal: 8.82s\tremaining: 4.17s\n",
      "679:\tlearn: 0.1780016\ttotal: 8.83s\tremaining: 4.16s\n",
      "680:\tlearn: 0.1779758\ttotal: 8.85s\tremaining: 4.14s\n",
      "681:\tlearn: 0.1779408\ttotal: 8.86s\tremaining: 4.13s\n",
      "682:\tlearn: 0.1778993\ttotal: 8.87s\tremaining: 4.12s\n",
      "683:\tlearn: 0.1778741\ttotal: 8.88s\tremaining: 4.1s\n",
      "684:\tlearn: 0.1778272\ttotal: 8.9s\tremaining: 4.09s\n",
      "685:\tlearn: 0.1777989\ttotal: 8.91s\tremaining: 4.08s\n",
      "686:\tlearn: 0.1777741\ttotal: 8.92s\tremaining: 4.07s\n",
      "687:\tlearn: 0.1777382\ttotal: 8.94s\tremaining: 4.05s\n",
      "688:\tlearn: 0.1777151\ttotal: 8.95s\tremaining: 4.04s\n",
      "689:\tlearn: 0.1776740\ttotal: 8.96s\tremaining: 4.03s\n",
      "690:\tlearn: 0.1776492\ttotal: 8.98s\tremaining: 4.01s\n",
      "691:\tlearn: 0.1776262\ttotal: 9s\tremaining: 4s\n",
      "692:\tlearn: 0.1775567\ttotal: 9.01s\tremaining: 3.99s\n",
      "693:\tlearn: 0.1775254\ttotal: 9.03s\tremaining: 3.98s\n",
      "694:\tlearn: 0.1775046\ttotal: 9.04s\tremaining: 3.97s\n",
      "695:\tlearn: 0.1774963\ttotal: 9.05s\tremaining: 3.95s\n",
      "696:\tlearn: 0.1774582\ttotal: 9.07s\tremaining: 3.94s\n",
      "697:\tlearn: 0.1774180\ttotal: 9.08s\tremaining: 3.93s\n",
      "698:\tlearn: 0.1773883\ttotal: 9.09s\tremaining: 3.92s\n",
      "699:\tlearn: 0.1773288\ttotal: 9.11s\tremaining: 3.9s\n",
      "700:\tlearn: 0.1773032\ttotal: 9.12s\tremaining: 3.89s\n",
      "701:\tlearn: 0.1772385\ttotal: 9.13s\tremaining: 3.88s\n",
      "702:\tlearn: 0.1772315\ttotal: 9.14s\tremaining: 3.86s\n",
      "703:\tlearn: 0.1772105\ttotal: 9.15s\tremaining: 3.85s\n",
      "704:\tlearn: 0.1771968\ttotal: 9.17s\tremaining: 3.84s\n",
      "705:\tlearn: 0.1771757\ttotal: 9.19s\tremaining: 3.83s\n",
      "706:\tlearn: 0.1771022\ttotal: 9.21s\tremaining: 3.81s\n",
      "707:\tlearn: 0.1770769\ttotal: 9.22s\tremaining: 3.8s\n",
      "708:\tlearn: 0.1770094\ttotal: 9.24s\tremaining: 3.79s\n",
      "709:\tlearn: 0.1769745\ttotal: 9.25s\tremaining: 3.78s\n",
      "710:\tlearn: 0.1769414\ttotal: 9.26s\tremaining: 3.76s\n",
      "711:\tlearn: 0.1769090\ttotal: 9.27s\tremaining: 3.75s\n",
      "712:\tlearn: 0.1768782\ttotal: 9.28s\tremaining: 3.74s\n",
      "713:\tlearn: 0.1768455\ttotal: 9.3s\tremaining: 3.72s\n",
      "714:\tlearn: 0.1767832\ttotal: 9.31s\tremaining: 3.71s\n",
      "715:\tlearn: 0.1767649\ttotal: 9.33s\tremaining: 3.7s\n",
      "716:\tlearn: 0.1767430\ttotal: 9.34s\tremaining: 3.69s\n",
      "717:\tlearn: 0.1767069\ttotal: 9.35s\tremaining: 3.67s\n",
      "718:\tlearn: 0.1766393\ttotal: 9.36s\tremaining: 3.66s\n",
      "719:\tlearn: 0.1765870\ttotal: 9.38s\tremaining: 3.65s\n",
      "720:\tlearn: 0.1765607\ttotal: 9.39s\tremaining: 3.63s\n",
      "721:\tlearn: 0.1765205\ttotal: 9.41s\tremaining: 3.62s\n",
      "722:\tlearn: 0.1764785\ttotal: 9.43s\tremaining: 3.61s\n",
      "723:\tlearn: 0.1764489\ttotal: 9.44s\tremaining: 3.6s\n",
      "724:\tlearn: 0.1764242\ttotal: 9.45s\tremaining: 3.58s\n",
      "725:\tlearn: 0.1763774\ttotal: 9.46s\tremaining: 3.57s\n",
      "726:\tlearn: 0.1763370\ttotal: 9.48s\tremaining: 3.56s\n",
      "727:\tlearn: 0.1763042\ttotal: 9.49s\tremaining: 3.54s\n",
      "728:\tlearn: 0.1762747\ttotal: 9.5s\tremaining: 3.53s\n",
      "729:\tlearn: 0.1762493\ttotal: 9.51s\tremaining: 3.52s\n",
      "730:\tlearn: 0.1762155\ttotal: 9.53s\tremaining: 3.51s\n",
      "731:\tlearn: 0.1761778\ttotal: 9.54s\tremaining: 3.49s\n",
      "732:\tlearn: 0.1761502\ttotal: 9.55s\tremaining: 3.48s\n",
      "733:\tlearn: 0.1761160\ttotal: 9.56s\tremaining: 3.46s\n",
      "734:\tlearn: 0.1760745\ttotal: 9.58s\tremaining: 3.45s\n",
      "735:\tlearn: 0.1760478\ttotal: 9.59s\tremaining: 3.44s\n",
      "736:\tlearn: 0.1759906\ttotal: 9.61s\tremaining: 3.43s\n",
      "737:\tlearn: 0.1759694\ttotal: 9.63s\tremaining: 3.42s\n",
      "738:\tlearn: 0.1759308\ttotal: 9.64s\tremaining: 3.4s\n",
      "739:\tlearn: 0.1758795\ttotal: 9.65s\tremaining: 3.39s\n",
      "740:\tlearn: 0.1758580\ttotal: 9.66s\tremaining: 3.38s\n",
      "741:\tlearn: 0.1758345\ttotal: 9.68s\tremaining: 3.37s\n",
      "742:\tlearn: 0.1757902\ttotal: 9.69s\tremaining: 3.35s\n",
      "743:\tlearn: 0.1757354\ttotal: 9.71s\tremaining: 3.34s\n",
      "744:\tlearn: 0.1756914\ttotal: 9.72s\tremaining: 3.33s\n",
      "745:\tlearn: 0.1756682\ttotal: 9.73s\tremaining: 3.31s\n",
      "746:\tlearn: 0.1756374\ttotal: 9.74s\tremaining: 3.3s\n",
      "747:\tlearn: 0.1755949\ttotal: 9.75s\tremaining: 3.29s\n",
      "748:\tlearn: 0.1755709\ttotal: 9.76s\tremaining: 3.27s\n",
      "749:\tlearn: 0.1755443\ttotal: 9.77s\tremaining: 3.26s\n",
      "750:\tlearn: 0.1755128\ttotal: 9.78s\tremaining: 3.24s\n",
      "751:\tlearn: 0.1754832\ttotal: 9.79s\tremaining: 3.23s\n",
      "752:\tlearn: 0.1754559\ttotal: 9.8s\tremaining: 3.22s\n",
      "753:\tlearn: 0.1754285\ttotal: 9.82s\tremaining: 3.2s\n",
      "754:\tlearn: 0.1753921\ttotal: 9.83s\tremaining: 3.19s\n",
      "755:\tlearn: 0.1753691\ttotal: 9.84s\tremaining: 3.18s\n",
      "756:\tlearn: 0.1753169\ttotal: 9.85s\tremaining: 3.16s\n",
      "757:\tlearn: 0.1752982\ttotal: 9.86s\tremaining: 3.15s\n",
      "758:\tlearn: 0.1752657\ttotal: 9.87s\tremaining: 3.13s\n",
      "759:\tlearn: 0.1752333\ttotal: 9.88s\tremaining: 3.12s\n",
      "760:\tlearn: 0.1752005\ttotal: 9.89s\tremaining: 3.1s\n",
      "761:\tlearn: 0.1751584\ttotal: 9.9s\tremaining: 3.09s\n",
      "762:\tlearn: 0.1751369\ttotal: 9.9s\tremaining: 3.08s\n",
      "763:\tlearn: 0.1750985\ttotal: 9.92s\tremaining: 3.06s\n",
      "764:\tlearn: 0.1750682\ttotal: 9.93s\tremaining: 3.05s\n",
      "765:\tlearn: 0.1750385\ttotal: 9.94s\tremaining: 3.04s\n",
      "766:\tlearn: 0.1750122\ttotal: 9.95s\tremaining: 3.02s\n",
      "767:\tlearn: 0.1749823\ttotal: 9.96s\tremaining: 3.01s\n",
      "768:\tlearn: 0.1749514\ttotal: 9.97s\tremaining: 2.99s\n",
      "769:\tlearn: 0.1749111\ttotal: 9.98s\tremaining: 2.98s\n",
      "770:\tlearn: 0.1748555\ttotal: 9.98s\tremaining: 2.96s\n",
      "771:\tlearn: 0.1748155\ttotal: 10s\tremaining: 2.95s\n",
      "772:\tlearn: 0.1747832\ttotal: 10s\tremaining: 2.94s\n",
      "773:\tlearn: 0.1747469\ttotal: 10s\tremaining: 2.93s\n",
      "774:\tlearn: 0.1747199\ttotal: 10s\tremaining: 2.92s\n",
      "775:\tlearn: 0.1746892\ttotal: 10.1s\tremaining: 2.9s\n",
      "776:\tlearn: 0.1746653\ttotal: 10.1s\tremaining: 2.89s\n",
      "777:\tlearn: 0.1746385\ttotal: 10.1s\tremaining: 2.87s\n",
      "778:\tlearn: 0.1745743\ttotal: 10.1s\tremaining: 2.86s\n",
      "779:\tlearn: 0.1745321\ttotal: 10.1s\tremaining: 2.85s\n",
      "780:\tlearn: 0.1744897\ttotal: 10.1s\tremaining: 2.83s\n",
      "781:\tlearn: 0.1744380\ttotal: 10.1s\tremaining: 2.82s\n",
      "782:\tlearn: 0.1744061\ttotal: 10.1s\tremaining: 2.8s\n",
      "783:\tlearn: 0.1743791\ttotal: 10.1s\tremaining: 2.79s\n",
      "784:\tlearn: 0.1743420\ttotal: 10.1s\tremaining: 2.78s\n",
      "785:\tlearn: 0.1743100\ttotal: 10.1s\tremaining: 2.76s\n",
      "786:\tlearn: 0.1742880\ttotal: 10.2s\tremaining: 2.75s\n",
      "787:\tlearn: 0.1742719\ttotal: 10.2s\tremaining: 2.73s\n",
      "788:\tlearn: 0.1742426\ttotal: 10.2s\tremaining: 2.72s\n",
      "789:\tlearn: 0.1742106\ttotal: 10.2s\tremaining: 2.71s\n",
      "790:\tlearn: 0.1741928\ttotal: 10.2s\tremaining: 2.7s\n",
      "791:\tlearn: 0.1741513\ttotal: 10.2s\tremaining: 2.69s\n",
      "792:\tlearn: 0.1741002\ttotal: 10.3s\tremaining: 2.67s\n",
      "793:\tlearn: 0.1740670\ttotal: 10.3s\tremaining: 2.66s\n",
      "794:\tlearn: 0.1739908\ttotal: 10.3s\tremaining: 2.65s\n",
      "795:\tlearn: 0.1739559\ttotal: 10.3s\tremaining: 2.63s\n",
      "796:\tlearn: 0.1739429\ttotal: 10.3s\tremaining: 2.62s\n",
      "797:\tlearn: 0.1739061\ttotal: 10.3s\tremaining: 2.61s\n",
      "798:\tlearn: 0.1738831\ttotal: 10.3s\tremaining: 2.59s\n",
      "799:\tlearn: 0.1738505\ttotal: 10.3s\tremaining: 2.58s\n",
      "800:\tlearn: 0.1738349\ttotal: 10.3s\tremaining: 2.57s\n",
      "801:\tlearn: 0.1738060\ttotal: 10.3s\tremaining: 2.55s\n",
      "802:\tlearn: 0.1737633\ttotal: 10.4s\tremaining: 2.54s\n",
      "803:\tlearn: 0.1737584\ttotal: 10.4s\tremaining: 2.53s\n",
      "804:\tlearn: 0.1737278\ttotal: 10.4s\tremaining: 2.51s\n",
      "805:\tlearn: 0.1736897\ttotal: 10.4s\tremaining: 2.5s\n",
      "806:\tlearn: 0.1736639\ttotal: 10.4s\tremaining: 2.49s\n",
      "807:\tlearn: 0.1736392\ttotal: 10.4s\tremaining: 2.47s\n",
      "808:\tlearn: 0.1736075\ttotal: 10.4s\tremaining: 2.46s\n",
      "809:\tlearn: 0.1735898\ttotal: 10.4s\tremaining: 2.45s\n",
      "810:\tlearn: 0.1735613\ttotal: 10.5s\tremaining: 2.44s\n",
      "811:\tlearn: 0.1735160\ttotal: 10.5s\tremaining: 2.42s\n",
      "812:\tlearn: 0.1734797\ttotal: 10.5s\tremaining: 2.41s\n",
      "813:\tlearn: 0.1734111\ttotal: 10.5s\tremaining: 2.4s\n",
      "814:\tlearn: 0.1733752\ttotal: 10.5s\tremaining: 2.38s\n",
      "815:\tlearn: 0.1733433\ttotal: 10.5s\tremaining: 2.37s\n",
      "816:\tlearn: 0.1733225\ttotal: 10.5s\tremaining: 2.36s\n",
      "817:\tlearn: 0.1733044\ttotal: 10.5s\tremaining: 2.34s\n",
      "818:\tlearn: 0.1732786\ttotal: 10.5s\tremaining: 2.33s\n",
      "819:\tlearn: 0.1732582\ttotal: 10.6s\tremaining: 2.32s\n",
      "820:\tlearn: 0.1732271\ttotal: 10.6s\tremaining: 2.3s\n",
      "821:\tlearn: 0.1732008\ttotal: 10.6s\tremaining: 2.29s\n",
      "822:\tlearn: 0.1731706\ttotal: 10.6s\tremaining: 2.28s\n",
      "823:\tlearn: 0.1731228\ttotal: 10.6s\tremaining: 2.26s\n",
      "824:\tlearn: 0.1731094\ttotal: 10.6s\tremaining: 2.25s\n",
      "825:\tlearn: 0.1730819\ttotal: 10.6s\tremaining: 2.24s\n",
      "826:\tlearn: 0.1730501\ttotal: 10.6s\tremaining: 2.22s\n",
      "827:\tlearn: 0.1730232\ttotal: 10.6s\tremaining: 2.21s\n",
      "828:\tlearn: 0.1729959\ttotal: 10.7s\tremaining: 2.2s\n",
      "829:\tlearn: 0.1729867\ttotal: 10.7s\tremaining: 2.19s\n",
      "830:\tlearn: 0.1729595\ttotal: 10.7s\tremaining: 2.17s\n",
      "831:\tlearn: 0.1729347\ttotal: 10.7s\tremaining: 2.16s\n",
      "832:\tlearn: 0.1729099\ttotal: 10.7s\tremaining: 2.15s\n",
      "833:\tlearn: 0.1728809\ttotal: 10.7s\tremaining: 2.13s\n",
      "834:\tlearn: 0.1728431\ttotal: 10.7s\tremaining: 2.12s\n",
      "835:\tlearn: 0.1728032\ttotal: 10.7s\tremaining: 2.11s\n",
      "836:\tlearn: 0.1727643\ttotal: 10.8s\tremaining: 2.09s\n",
      "837:\tlearn: 0.1727535\ttotal: 10.8s\tremaining: 2.08s\n",
      "838:\tlearn: 0.1727208\ttotal: 10.8s\tremaining: 2.07s\n",
      "839:\tlearn: 0.1726943\ttotal: 10.8s\tremaining: 2.05s\n",
      "840:\tlearn: 0.1726698\ttotal: 10.8s\tremaining: 2.04s\n",
      "841:\tlearn: 0.1726596\ttotal: 10.8s\tremaining: 2.03s\n",
      "842:\tlearn: 0.1726314\ttotal: 10.8s\tremaining: 2.01s\n",
      "843:\tlearn: 0.1726129\ttotal: 10.8s\tremaining: 2s\n",
      "844:\tlearn: 0.1725940\ttotal: 10.8s\tremaining: 1.99s\n",
      "845:\tlearn: 0.1725837\ttotal: 10.9s\tremaining: 1.98s\n",
      "846:\tlearn: 0.1725396\ttotal: 10.9s\tremaining: 1.96s\n",
      "847:\tlearn: 0.1725105\ttotal: 10.9s\tremaining: 1.95s\n",
      "848:\tlearn: 0.1724847\ttotal: 10.9s\tremaining: 1.94s\n",
      "849:\tlearn: 0.1724395\ttotal: 10.9s\tremaining: 1.92s\n",
      "850:\tlearn: 0.1724136\ttotal: 10.9s\tremaining: 1.91s\n",
      "851:\tlearn: 0.1723909\ttotal: 10.9s\tremaining: 1.9s\n",
      "852:\tlearn: 0.1723584\ttotal: 10.9s\tremaining: 1.89s\n",
      "853:\tlearn: 0.1723465\ttotal: 10.9s\tremaining: 1.87s\n",
      "854:\tlearn: 0.1723306\ttotal: 11s\tremaining: 1.86s\n",
      "855:\tlearn: 0.1723136\ttotal: 11s\tremaining: 1.84s\n",
      "856:\tlearn: 0.1722742\ttotal: 11s\tremaining: 1.83s\n",
      "857:\tlearn: 0.1722401\ttotal: 11s\tremaining: 1.82s\n",
      "858:\tlearn: 0.1722263\ttotal: 11s\tremaining: 1.81s\n",
      "859:\tlearn: 0.1722017\ttotal: 11s\tremaining: 1.79s\n",
      "860:\tlearn: 0.1721766\ttotal: 11s\tremaining: 1.78s\n",
      "861:\tlearn: 0.1721398\ttotal: 11s\tremaining: 1.77s\n",
      "862:\tlearn: 0.1721015\ttotal: 11.1s\tremaining: 1.75s\n",
      "863:\tlearn: 0.1720864\ttotal: 11.1s\tremaining: 1.74s\n",
      "864:\tlearn: 0.1720645\ttotal: 11.1s\tremaining: 1.73s\n",
      "865:\tlearn: 0.1720442\ttotal: 11.1s\tremaining: 1.72s\n",
      "866:\tlearn: 0.1719992\ttotal: 11.1s\tremaining: 1.71s\n",
      "867:\tlearn: 0.1719780\ttotal: 11.1s\tremaining: 1.69s\n",
      "868:\tlearn: 0.1719474\ttotal: 11.2s\tremaining: 1.68s\n",
      "869:\tlearn: 0.1719333\ttotal: 11.2s\tremaining: 1.67s\n",
      "870:\tlearn: 0.1718948\ttotal: 11.2s\tremaining: 1.66s\n",
      "871:\tlearn: 0.1718641\ttotal: 11.2s\tremaining: 1.64s\n",
      "872:\tlearn: 0.1718325\ttotal: 11.2s\tremaining: 1.63s\n",
      "873:\tlearn: 0.1718068\ttotal: 11.2s\tremaining: 1.62s\n",
      "874:\tlearn: 0.1717686\ttotal: 11.2s\tremaining: 1.6s\n",
      "875:\tlearn: 0.1717610\ttotal: 11.2s\tremaining: 1.59s\n",
      "876:\tlearn: 0.1717334\ttotal: 11.3s\tremaining: 1.58s\n",
      "877:\tlearn: 0.1717032\ttotal: 11.3s\tremaining: 1.57s\n",
      "878:\tlearn: 0.1716808\ttotal: 11.3s\tremaining: 1.55s\n",
      "879:\tlearn: 0.1716437\ttotal: 11.3s\tremaining: 1.54s\n",
      "880:\tlearn: 0.1715997\ttotal: 11.3s\tremaining: 1.53s\n",
      "881:\tlearn: 0.1715790\ttotal: 11.3s\tremaining: 1.51s\n",
      "882:\tlearn: 0.1715652\ttotal: 11.3s\tremaining: 1.5s\n",
      "883:\tlearn: 0.1715307\ttotal: 11.3s\tremaining: 1.49s\n",
      "884:\tlearn: 0.1715138\ttotal: 11.3s\tremaining: 1.47s\n",
      "885:\tlearn: 0.1714846\ttotal: 11.4s\tremaining: 1.46s\n",
      "886:\tlearn: 0.1714549\ttotal: 11.4s\tremaining: 1.45s\n",
      "887:\tlearn: 0.1714337\ttotal: 11.4s\tremaining: 1.44s\n",
      "888:\tlearn: 0.1714058\ttotal: 11.4s\tremaining: 1.42s\n",
      "889:\tlearn: 0.1713768\ttotal: 11.4s\tremaining: 1.41s\n",
      "890:\tlearn: 0.1713618\ttotal: 11.4s\tremaining: 1.4s\n",
      "891:\tlearn: 0.1713233\ttotal: 11.4s\tremaining: 1.38s\n",
      "892:\tlearn: 0.1712896\ttotal: 11.4s\tremaining: 1.37s\n",
      "893:\tlearn: 0.1712656\ttotal: 11.5s\tremaining: 1.36s\n",
      "894:\tlearn: 0.1712418\ttotal: 11.5s\tremaining: 1.34s\n",
      "895:\tlearn: 0.1712107\ttotal: 11.5s\tremaining: 1.33s\n",
      "896:\tlearn: 0.1711708\ttotal: 11.5s\tremaining: 1.32s\n",
      "897:\tlearn: 0.1711379\ttotal: 11.5s\tremaining: 1.31s\n",
      "898:\tlearn: 0.1711159\ttotal: 11.5s\tremaining: 1.29s\n",
      "899:\tlearn: 0.1710878\ttotal: 11.5s\tremaining: 1.28s\n",
      "900:\tlearn: 0.1710539\ttotal: 11.5s\tremaining: 1.27s\n",
      "901:\tlearn: 0.1710395\ttotal: 11.6s\tremaining: 1.25s\n",
      "902:\tlearn: 0.1710097\ttotal: 11.6s\tremaining: 1.24s\n",
      "903:\tlearn: 0.1709877\ttotal: 11.6s\tremaining: 1.23s\n",
      "904:\tlearn: 0.1709415\ttotal: 11.6s\tremaining: 1.22s\n",
      "905:\tlearn: 0.1709262\ttotal: 11.6s\tremaining: 1.2s\n",
      "906:\tlearn: 0.1708985\ttotal: 11.6s\tremaining: 1.19s\n",
      "907:\tlearn: 0.1708772\ttotal: 11.6s\tremaining: 1.18s\n",
      "908:\tlearn: 0.1708619\ttotal: 11.6s\tremaining: 1.16s\n",
      "909:\tlearn: 0.1708502\ttotal: 11.6s\tremaining: 1.15s\n",
      "910:\tlearn: 0.1708215\ttotal: 11.7s\tremaining: 1.14s\n",
      "911:\tlearn: 0.1707835\ttotal: 11.7s\tremaining: 1.13s\n",
      "912:\tlearn: 0.1707528\ttotal: 11.7s\tremaining: 1.11s\n",
      "913:\tlearn: 0.1707272\ttotal: 11.7s\tremaining: 1.1s\n",
      "914:\tlearn: 0.1707149\ttotal: 11.7s\tremaining: 1.09s\n",
      "915:\tlearn: 0.1706876\ttotal: 11.7s\tremaining: 1.07s\n",
      "916:\tlearn: 0.1706746\ttotal: 11.7s\tremaining: 1.06s\n",
      "917:\tlearn: 0.1706496\ttotal: 11.7s\tremaining: 1.05s\n",
      "918:\tlearn: 0.1706241\ttotal: 11.8s\tremaining: 1.04s\n",
      "919:\tlearn: 0.1705999\ttotal: 11.8s\tremaining: 1.02s\n",
      "920:\tlearn: 0.1705543\ttotal: 11.8s\tremaining: 1.01s\n",
      "921:\tlearn: 0.1705234\ttotal: 11.8s\tremaining: 998ms\n",
      "922:\tlearn: 0.1704848\ttotal: 11.8s\tremaining: 985ms\n",
      "923:\tlearn: 0.1704629\ttotal: 11.8s\tremaining: 972ms\n",
      "924:\tlearn: 0.1704418\ttotal: 11.8s\tremaining: 959ms\n",
      "925:\tlearn: 0.1704182\ttotal: 11.8s\tremaining: 946ms\n",
      "926:\tlearn: 0.1703841\ttotal: 11.9s\tremaining: 934ms\n",
      "927:\tlearn: 0.1703498\ttotal: 11.9s\tremaining: 921ms\n",
      "928:\tlearn: 0.1703271\ttotal: 11.9s\tremaining: 909ms\n",
      "929:\tlearn: 0.1702888\ttotal: 11.9s\tremaining: 896ms\n",
      "930:\tlearn: 0.1702681\ttotal: 11.9s\tremaining: 883ms\n",
      "931:\tlearn: 0.1702188\ttotal: 11.9s\tremaining: 870ms\n",
      "932:\tlearn: 0.1701951\ttotal: 11.9s\tremaining: 857ms\n",
      "933:\tlearn: 0.1701748\ttotal: 11.9s\tremaining: 844ms\n",
      "934:\tlearn: 0.1701565\ttotal: 12s\tremaining: 831ms\n",
      "935:\tlearn: 0.1701405\ttotal: 12s\tremaining: 818ms\n",
      "936:\tlearn: 0.1701115\ttotal: 12s\tremaining: 805ms\n",
      "937:\tlearn: 0.1700699\ttotal: 12s\tremaining: 792ms\n",
      "938:\tlearn: 0.1700383\ttotal: 12s\tremaining: 780ms\n",
      "939:\tlearn: 0.1700230\ttotal: 12s\tremaining: 766ms\n",
      "940:\tlearn: 0.1699731\ttotal: 12s\tremaining: 753ms\n",
      "941:\tlearn: 0.1699323\ttotal: 12s\tremaining: 741ms\n",
      "942:\tlearn: 0.1699223\ttotal: 12s\tremaining: 728ms\n",
      "943:\tlearn: 0.1699036\ttotal: 12.1s\tremaining: 715ms\n",
      "944:\tlearn: 0.1698736\ttotal: 12.1s\tremaining: 703ms\n",
      "945:\tlearn: 0.1698462\ttotal: 12.1s\tremaining: 690ms\n",
      "946:\tlearn: 0.1698215\ttotal: 12.1s\tremaining: 677ms\n",
      "947:\tlearn: 0.1697908\ttotal: 12.1s\tremaining: 665ms\n",
      "948:\tlearn: 0.1697589\ttotal: 12.1s\tremaining: 652ms\n",
      "949:\tlearn: 0.1697443\ttotal: 12.1s\tremaining: 639ms\n",
      "950:\tlearn: 0.1697185\ttotal: 12.2s\tremaining: 626ms\n",
      "951:\tlearn: 0.1697117\ttotal: 12.2s\tremaining: 613ms\n",
      "952:\tlearn: 0.1696945\ttotal: 12.2s\tremaining: 600ms\n",
      "953:\tlearn: 0.1696679\ttotal: 12.2s\tremaining: 587ms\n",
      "954:\tlearn: 0.1696409\ttotal: 12.2s\tremaining: 574ms\n",
      "955:\tlearn: 0.1696161\ttotal: 12.2s\tremaining: 562ms\n",
      "956:\tlearn: 0.1695995\ttotal: 12.2s\tremaining: 549ms\n",
      "957:\tlearn: 0.1695788\ttotal: 12.2s\tremaining: 536ms\n",
      "958:\tlearn: 0.1695549\ttotal: 12.2s\tremaining: 523ms\n",
      "959:\tlearn: 0.1695407\ttotal: 12.2s\tremaining: 510ms\n",
      "960:\tlearn: 0.1695036\ttotal: 12.3s\tremaining: 498ms\n",
      "961:\tlearn: 0.1694851\ttotal: 12.3s\tremaining: 485ms\n",
      "962:\tlearn: 0.1694611\ttotal: 12.3s\tremaining: 472ms\n",
      "963:\tlearn: 0.1694235\ttotal: 12.3s\tremaining: 459ms\n",
      "964:\tlearn: 0.1693960\ttotal: 12.3s\tremaining: 446ms\n",
      "965:\tlearn: 0.1693783\ttotal: 12.3s\tremaining: 434ms\n",
      "966:\tlearn: 0.1693558\ttotal: 12.3s\tremaining: 421ms\n",
      "967:\tlearn: 0.1693111\ttotal: 12.3s\tremaining: 408ms\n",
      "968:\tlearn: 0.1692793\ttotal: 12.4s\tremaining: 395ms\n",
      "969:\tlearn: 0.1692559\ttotal: 12.4s\tremaining: 383ms\n",
      "970:\tlearn: 0.1692269\ttotal: 12.4s\tremaining: 370ms\n",
      "971:\tlearn: 0.1691852\ttotal: 12.4s\tremaining: 357ms\n",
      "972:\tlearn: 0.1691613\ttotal: 12.4s\tremaining: 344ms\n",
      "973:\tlearn: 0.1691359\ttotal: 12.4s\tremaining: 331ms\n",
      "974:\tlearn: 0.1691179\ttotal: 12.4s\tremaining: 319ms\n",
      "975:\tlearn: 0.1690932\ttotal: 12.4s\tremaining: 306ms\n",
      "976:\tlearn: 0.1690775\ttotal: 12.4s\tremaining: 293ms\n",
      "977:\tlearn: 0.1690360\ttotal: 12.5s\tremaining: 280ms\n",
      "978:\tlearn: 0.1690235\ttotal: 12.5s\tremaining: 268ms\n",
      "979:\tlearn: 0.1689908\ttotal: 12.5s\tremaining: 255ms\n",
      "980:\tlearn: 0.1689640\ttotal: 12.5s\tremaining: 242ms\n",
      "981:\tlearn: 0.1689324\ttotal: 12.5s\tremaining: 229ms\n",
      "982:\tlearn: 0.1689030\ttotal: 12.5s\tremaining: 217ms\n",
      "983:\tlearn: 0.1688768\ttotal: 12.5s\tremaining: 204ms\n",
      "984:\tlearn: 0.1688565\ttotal: 12.5s\tremaining: 191ms\n",
      "985:\tlearn: 0.1688300\ttotal: 12.6s\tremaining: 178ms\n",
      "986:\tlearn: 0.1688011\ttotal: 12.6s\tremaining: 165ms\n",
      "987:\tlearn: 0.1687831\ttotal: 12.6s\tremaining: 153ms\n",
      "988:\tlearn: 0.1687483\ttotal: 12.6s\tremaining: 140ms\n",
      "989:\tlearn: 0.1687250\ttotal: 12.6s\tremaining: 127ms\n",
      "990:\tlearn: 0.1687132\ttotal: 12.6s\tremaining: 114ms\n",
      "991:\tlearn: 0.1686894\ttotal: 12.6s\tremaining: 102ms\n",
      "992:\tlearn: 0.1686755\ttotal: 12.6s\tremaining: 89.1ms\n",
      "993:\tlearn: 0.1686490\ttotal: 12.7s\tremaining: 76.4ms\n",
      "994:\tlearn: 0.1686289\ttotal: 12.7s\tremaining: 63.6ms\n",
      "995:\tlearn: 0.1686027\ttotal: 12.7s\tremaining: 50.9ms\n",
      "996:\tlearn: 0.1685682\ttotal: 12.7s\tremaining: 38.2ms\n",
      "997:\tlearn: 0.1685423\ttotal: 12.7s\tremaining: 25.4ms\n",
      "998:\tlearn: 0.1685208\ttotal: 12.7s\tremaining: 12.7ms\n",
      "999:\tlearn: 0.1685078\ttotal: 12.7s\tremaining: 0us\n",
      "sklearn mape: 12.65%\n"
     ]
    }
   ],
   "source": [
    "regressor = CatBoostRegressor(random_state=SEED)\n",
    "regressor.fit(x_train, y_train)\n",
    "predict = np.exp(regressor.predict(x_test))\n",
    "\n",
    "#print(f\"MAPE: {(mape_(np.exp(y_test), predict))*100:0.2f}%\")\n",
    "print(f'sklearn mape: {(mape(y_test, predict))*100:0.2f}%')"
   ],
   "metadata": {
    "collapsed": false,
    "pycharm": {
     "name": "#%%\n"
    }
   }
  },
  {
   "cell_type": "markdown",
   "source": [
    "---\n",
    "# Bagging (sklearn lib)"
   ],
   "metadata": {
    "collapsed": false
   }
  },
  {
   "cell_type": "code",
   "execution_count": 46,
   "outputs": [],
   "source": [
    "from sklearn.ensemble import BaggingRegressor"
   ],
   "metadata": {
    "collapsed": false,
    "pycharm": {
     "name": "#%%\n"
    }
   }
  },
  {
   "cell_type": "code",
   "execution_count": 81,
   "outputs": [],
   "source": [
    "x, y, q = split_data(encoder=ce.TargetEncoder())\n",
    "x_train, x_test, y_train, y_test = train_test_split(x, y, test_size=0.2, shuffle=True, random_state=SEED)"
   ],
   "metadata": {
    "collapsed": false,
    "pycharm": {
     "name": "#%%\n"
    }
   }
  },
  {
   "cell_type": "code",
   "execution_count": 82,
   "outputs": [
    {
     "name": "stdout",
     "output_type": "stream",
     "text": [
      "sklearn MAPE: 9.91%\n"
     ]
    }
   ],
   "source": [
    "regressor = BaggingRegressor(base_estimator=RandomForestRegressor(random_state=SEED, n_jobs=-1),\n",
    "                             n_estimators=10,\n",
    "                             random_state=SEED).fit(x_train, y_train)\n",
    "y_test_pred = np.exp(regressor.predict(x_test))\n",
    "print(f'sklearn MAPE: {(mape(y_test, y_test_pred)) * 100:0.2f}%')"
   ],
   "metadata": {
    "collapsed": false,
    "pycharm": {
     "name": "#%%\n"
    }
   }
  },
  {
   "cell_type": "code",
   "execution_count": 83,
   "outputs": [
    {
     "data": {
      "text/plain": "array([ 727555.00020816, 1051620.48625443,  949022.79892262, ...,\n        394016.97204767, 1201188.58397692, 1218093.51276876])"
     },
     "execution_count": 83,
     "metadata": {},
     "output_type": "execute_result"
    }
   ],
   "source": [
    "regressor = BaggingRegressor(base_estimator=RandomForestRegressor(random_state=SEED, n_jobs=-1),\n",
    "                             n_estimators=10,\n",
    "                             random_state=SEED).fit(x, y)\n",
    "predict = np.exp(regressor.predict(q))\n",
    "predict"
   ],
   "metadata": {
    "collapsed": false,
    "pycharm": {
     "name": "#%%\n"
    }
   }
  },
  {
   "cell_type": "code",
   "execution_count": 84,
   "outputs": [],
   "source": [
    "q['price']=predict\n",
    "submission = q[['sell_id', 'price']].copy()"
   ],
   "metadata": {
    "collapsed": false,
    "pycharm": {
     "name": "#%%\n"
    }
   }
  },
  {
   "cell_type": "code",
   "execution_count": 85,
   "outputs": [],
   "source": [
    "submission.price = submission.price.apply(lambda w: w * 1.255839 / 1.55)"
   ],
   "metadata": {
    "collapsed": false,
    "pycharm": {
     "name": "#%%\n"
    }
   }
  },
  {
   "cell_type": "code",
   "execution_count": 86,
   "outputs": [],
   "source": [
    "submission.to_csv('sub_12_11_3.csv', index=False)"
   ],
   "metadata": {
    "collapsed": false,
    "pycharm": {
     "name": "#%%\n"
    }
   }
  },
  {
   "cell_type": "markdown",
   "source": [
    "---\n",
    "# Boosting\n",
    "## CatBoostRegressor with some settings"
   ],
   "metadata": {
    "collapsed": false
   }
  },
  {
   "cell_type": "code",
   "execution_count": 87,
   "outputs": [],
   "source": [
    "x, y, q = split_data(encoder=ce.TargetEncoder())\n",
    "x_train, x_test, y_train, y_test = train_test_split(x, y, test_size=0.2, shuffle=True, random_state=SEED)"
   ],
   "metadata": {
    "collapsed": false,
    "pycharm": {
     "name": "#%%\n"
    }
   }
  },
  {
   "cell_type": "code",
   "execution_count": 57,
   "outputs": [
    {
     "name": "stdout",
     "output_type": "stream",
     "text": [
      "Точность модели по метрике MAPE: 5.66%\n"
     ]
    }
   ],
   "source": [
    "model = CatBoostRegressor(iterations = 5000,\n",
    "                          random_seed = SEED,\n",
    "                          eval_metric='MAPE',\n",
    "                          custom_metric=['R2', 'MAE'],\n",
    "                          silent=True,\n",
    "                          )\n",
    "model.fit(x_train, np.log(y_train),\n",
    "          #cat_features=cat_features_ids,\n",
    "          eval_set=(x_test, y_test),\n",
    "          verbose_eval=0,\n",
    "          use_best_model=True,\n",
    "          #plot=True\n",
    "          )\n",
    "\n",
    "model.save_model('catboost_single_model_baseline.model')\n",
    "predict = np.exp(regressor.predict(x_test))\n",
    "print(f\"Точность модели по метрике MAPE: {(mape(y_test, predict))*100:0.2f}%\")"
   ],
   "metadata": {
    "collapsed": false,
    "pycharm": {
     "name": "#%%\n"
    }
   }
  },
  {
   "cell_type": "code",
   "execution_count": null,
   "outputs": [],
   "source": [
    "model = CatBoostRegressor(iterations = 5000,\n",
    "                          random_seed = SEED,\n",
    "                          eval_metric='MAPE',\n",
    "                          custom_metric=['R2', 'MAE'],\n",
    "                          silent=True,\n",
    "                          )\n",
    "model.fit(x, np.log(y),\n",
    "          #cat_features=cat_features_ids,\n",
    "          #eval_set=(x, np.log(y_test)),\n",
    "          verbose_eval=0,\n",
    "          #use_best_model=True,\n",
    "          #plot=True\n",
    "          )\n",
    "\n",
    "model.save_model('catboost_single_model_baseline.model')\n",
    "\n",
    "predict = np.exp(model.predict(q))\n",
    "predict"
   ],
   "metadata": {
    "collapsed": false,
    "pycharm": {
     "name": "#%%\n",
     "is_executing": true
    }
   }
  },
  {
   "cell_type": "code",
   "execution_count": 89,
   "outputs": [],
   "source": [
    "q['price']=predict\n",
    "submission = q[['sell_id', 'price']].copy()"
   ],
   "metadata": {
    "collapsed": false,
    "pycharm": {
     "name": "#%%\n"
    }
   }
  },
  {
   "cell_type": "code",
   "execution_count": 90,
   "outputs": [],
   "source": [
    "submission.price = submission.price.apply(lambda w: w * 1.255839 / 1.60)\n",
    "submission.to_csv('sub_12_11_4.csv', index=False)"
   ],
   "metadata": {
    "collapsed": false,
    "pycharm": {
     "name": "#%%\n"
    }
   }
  },
  {
   "cell_type": "markdown",
   "source": [
    "As for resume, this ML-model will show best estimate (19,80657 - 166 place) in leaderboard, but when I divid results on 1.6 instead 1.255,\n",
    "as made on previous step. It is a secret for my, why?"
   ],
   "metadata": {
    "collapsed": false
   }
  },
  {
   "cell_type": "markdown",
   "source": [
    "----\n",
    "# Bosting\n",
    "## AdaBoostRegressor with base settings"
   ],
   "metadata": {
    "collapsed": false
   }
  },
  {
   "cell_type": "code",
   "execution_count": 76,
   "outputs": [],
   "source": [
    "x, y, q = split_data(encoder=ce.TargetEncoder())\n",
    "x_train, x_test, y_train, y_test = train_test_split(x, y, test_size=0.2, shuffle=True, random_state=SEED)"
   ],
   "metadata": {
    "collapsed": false,
    "pycharm": {
     "name": "#%%\n"
    }
   }
  },
  {
   "cell_type": "code",
   "execution_count": 77,
   "outputs": [
    {
     "name": "stdout",
     "output_type": "stream",
     "text": [
      "sklearn MAPE: 9.37%\n"
     ]
    }
   ],
   "source": [
    "regressor = AdaBoostRegressor(base_estimator=RandomForestRegressor(random_state=SEED, n_jobs=-1),\n",
    "                             n_estimators=10,\n",
    "                             random_state=SEED).fit(x_train, np.log(y_train))\n",
    "y_test_pred = np.exp(regressor.predict(x_test))\n",
    "print(f'sklearn MAPE: {(mape(y_test, y_test_pred)) * 100:0.2f}%')"
   ],
   "metadata": {
    "collapsed": false,
    "pycharm": {
     "name": "#%%\n"
    }
   }
  },
  {
   "cell_type": "code",
   "execution_count": 78,
   "outputs": [
    {
     "data": {
      "text/plain": "array([ 734757.18640028, 1043470.14928105,  996620.02808889, ...,\n        403244.2996093 , 1183636.66025549, 1253707.42947987])"
     },
     "execution_count": 78,
     "metadata": {},
     "output_type": "execute_result"
    }
   ],
   "source": [
    "regressor = AdaBoostRegressor(base_estimator=RandomForestRegressor(random_state=SEED, n_jobs=-1),\n",
    "                              n_estimators=10,\n",
    "                              random_state=SEED).fit(x, np.log(y))\n",
    "predict = np.exp(regressor.predict(q))\n",
    "predict"
   ],
   "metadata": {
    "collapsed": false,
    "pycharm": {
     "name": "#%%\n"
    }
   }
  },
  {
   "cell_type": "code",
   "execution_count": 79,
   "outputs": [],
   "source": [
    "q['price']=predict\n",
    "submission = q[['sell_id', 'price']].copy()"
   ],
   "metadata": {
    "collapsed": false,
    "pycharm": {
     "name": "#%%\n"
    }
   }
  },
  {
   "cell_type": "code",
   "execution_count": 80,
   "outputs": [],
   "source": [
    "submission.price = submission.price.apply(lambda w: w * 1.255839 / 1.45)\n",
    "submission.to_csv('sub_12_11_5.csv', index=False)"
   ],
   "metadata": {
    "collapsed": false,
    "pycharm": {
     "name": "#%%\n"
    }
   }
  },
  {
   "cell_type": "markdown",
   "source": [
    "---\n",
    "# Validation\n",
    "\n",
    "After some not successful attempts, I try to understand, where  my feature dataset is so bad to make predictio of price?\n",
    "\n",
    "So. I made two attempts of parsing auto.ru. I decide to use the first part as train, and the second - as test. They are the same structure of brand-model, and the second parsed with setting \"last seven days\".\n",
    "\n",
    "The results with CatBoostRegressor - MAPE = 14%. Its is not fine, but it is 65 place in leaderboard as for 13/12/2021.\n",
    "So, it is not bad features dataset\n"
   ],
   "metadata": {
    "collapsed": false
   }
  },
  {
   "cell_type": "code",
   "execution_count": 91,
   "outputs": [
    {
     "name": "stdout",
     "output_type": "stream",
     "text": [
      "<class 'pandas.core.frame.DataFrame'>\n",
      "RangeIndex: 146632 entries, 0 to 146631\n",
      "Data columns (total 27 columns):\n",
      " #   Column                Non-Null Count   Dtype  \n",
      "---  ------                --------------   -----  \n",
      " 0   bodyType              146632 non-null  object \n",
      " 1   brand                 146632 non-null  object \n",
      " 2   color                 146632 non-null  object \n",
      " 3   engineDisplacement    146632 non-null  object \n",
      " 4   enginePower           146632 non-null  int64  \n",
      " 5   fuelType              146632 non-null  object \n",
      " 6   mileage               146632 non-null  int64  \n",
      " 7   numberOfDoors         146632 non-null  int64  \n",
      " 8   parsing_unixtime      146632 non-null  int64  \n",
      " 9   productionDate        146632 non-null  int64  \n",
      " 10  sell_id               146632 non-null  int64  \n",
      " 11  super_gen             146632 non-null  object \n",
      " 12  vehicleConfiguration  146632 non-null  object \n",
      " 13  vehicleTransmission   146632 non-null  object \n",
      " 14  vendor                146632 non-null  object \n",
      " 15  Владельцы             146632 non-null  int64  \n",
      " 16  ПТС                   146632 non-null  object \n",
      " 17  Привод                146632 non-null  object \n",
      " 18  Руль                  146632 non-null  object \n",
      " 19  price                 146632 non-null  float64\n",
      " 20  model                 146632 non-null  object \n",
      " 21  engineName            146632 non-null  object \n",
      " 22  enginePowerValue      146632 non-null  object \n",
      " 23  owners                146632 non-null  object \n",
      " 24  climate               146632 non-null  object \n",
      " 25  test                  146632 non-null  int64  \n",
      " 26  mileage_year          146632 non-null  float64\n",
      "dtypes: float64(2), int64(8), object(17)\n",
      "memory usage: 30.2+ MB\n"
     ]
    }
   ],
   "source": [
    "data.info()"
   ],
   "metadata": {
    "collapsed": false,
    "pycharm": {
     "name": "#%%\n"
    }
   }
  },
  {
   "cell_type": "code",
   "execution_count": null,
   "outputs": [],
   "source": [
    "from datetime import datetime"
   ],
   "metadata": {
    "collapsed": false,
    "pycharm": {
     "name": "#%%\n",
     "is_executing": true
    }
   }
  },
  {
   "cell_type": "code",
   "execution_count": 112,
   "outputs": [],
   "source": [
    "data['day']=data.parsing_unixtime.apply(datetime.utcfromtimestamp)"
   ],
   "metadata": {
    "collapsed": false,
    "pycharm": {
     "name": "#%%\n"
    }
   }
  },
  {
   "cell_type": "code",
   "execution_count": 128,
   "outputs": [
    {
     "data": {
      "text/plain": "(122432, 28)"
     },
     "execution_count": 128,
     "metadata": {},
     "output_type": "execute_result"
    }
   ],
   "source": [
    "data[data.day <= datetime(2021,12,6)].shape"
   ],
   "metadata": {
    "collapsed": false,
    "pycharm": {
     "name": "#%%\n"
    }
   }
  },
  {
   "cell_type": "code",
   "execution_count": 140,
   "outputs": [],
   "source": [
    "valid = data[data.day > datetime(2021,12,7)].copy()"
   ],
   "metadata": {
    "collapsed": false,
    "pycharm": {
     "name": "#%%\n"
    }
   }
  },
  {
   "cell_type": "code",
   "execution_count": 141,
   "outputs": [],
   "source": [
    "train = data[(data.test == 0)&(data.day <= datetime(2021,12,7))].copy()"
   ],
   "metadata": {
    "collapsed": false,
    "pycharm": {
     "name": "#%%\n"
    }
   }
  },
  {
   "cell_type": "code",
   "execution_count": 142,
   "outputs": [
    {
     "data": {
      "text/plain": "((18816, 28), (93130, 28), (146632, 28))"
     },
     "execution_count": 142,
     "metadata": {},
     "output_type": "execute_result"
    }
   ],
   "source": [
    "valid.shape, train.shape, data.shape"
   ],
   "metadata": {
    "collapsed": false,
    "pycharm": {
     "name": "#%%\n"
    }
   }
  },
  {
   "cell_type": "code",
   "execution_count": 143,
   "outputs": [],
   "source": [
    "encoder = ce.TargetEncoder()\n",
    "\n",
    "y=train[target]\n",
    "x=train.drop(['test', 'day', target], axis=1)\n",
    "\n",
    "a=valid[target]\n",
    "q=valid.drop(['test', 'day', target], axis=1)\n",
    "\n",
    "\n",
    "encoder.fit(x,y)\n",
    "x=encoder.transform(x)\n",
    "q=encoder.transform(q)\n"
   ],
   "metadata": {
    "collapsed": false,
    "pycharm": {
     "name": "#%%\n"
    }
   }
  },
  {
   "cell_type": "code",
   "execution_count": 144,
   "outputs": [
    {
     "name": "stdout",
     "output_type": "stream",
     "text": [
      "Точность модели по метрике MAPE: 14.31%\n"
     ]
    }
   ],
   "source": [
    "model = CatBoostRegressor(iterations = 5000,\n",
    "                          random_seed = SEED,\n",
    "                          eval_metric='MAPE',\n",
    "                          custom_metric=['R2', 'MAE'],\n",
    "                          silent=True,\n",
    "                          )\n",
    "model.fit(x, np.log(y),\n",
    "          #cat_features=cat_features_ids,\n",
    "          eval_set=(q, np.log(a)),\n",
    "          verbose_eval=0,\n",
    "          use_best_model=True,\n",
    "          #plot=True\n",
    "          )\n",
    "\n",
    "model.save_model('catboost_single_model_baseline.model')\n",
    "predict = np.exp(model.predict(q))\n",
    "print(f\"Точность модели по метрике MAPE: {(mape(a, predict))*100:0.2f}%\")"
   ],
   "metadata": {
    "collapsed": false,
    "pycharm": {
     "name": "#%%\n"
    }
   }
  },
  {
   "cell_type": "code",
   "execution_count": 146,
   "outputs": [
    {
     "name": "stdout",
     "output_type": "stream",
     "text": [
      "sklearn MAPE: 14.75%\n"
     ]
    }
   ],
   "source": [
    "regressor = BaggingRegressor(base_estimator=RandomForestRegressor(random_state=SEED),\n",
    "                             n_estimators=10,\n",
    "                             random_state=SEED).fit(x, np.log(y))\n",
    "y_test_pred = np.exp(regressor.predict(q))\n",
    "print(f'sklearn MAPE: {(mape(a, y_test_pred)) * 100:0.2f}%')"
   ],
   "metadata": {
    "collapsed": false,
    "pycharm": {
     "name": "#%%\n"
    }
   }
  },
  {
   "cell_type": "code",
   "execution_count": 157,
   "outputs": [],
   "source": [
    "data.drop(['day'], axis=1, inplace=True)"
   ],
   "metadata": {
    "collapsed": false,
    "pycharm": {
     "name": "#%%\n"
    }
   }
  },
  {
   "cell_type": "markdown",
   "source": [
    "---\n",
    "# Stacking\n",
    "## stacking model from sklearn library"
   ],
   "metadata": {
    "collapsed": false
   }
  },
  {
   "cell_type": "code",
   "execution_count": 147,
   "outputs": [],
   "source": [
    "from sklearn.linear_model import RidgeCV\n",
    "from sklearn.svm import LinearSVR"
   ],
   "metadata": {
    "collapsed": false,
    "pycharm": {
     "name": "#%%\n"
    }
   }
  },
  {
   "cell_type": "code",
   "execution_count": 158,
   "outputs": [],
   "source": [
    "x, y, q = split_data(encoder=ce.TargetEncoder())\n",
    "x_train, x_test, y_train, y_test = train_test_split(x, y, test_size=0.2, shuffle=True, random_state=SEED)"
   ],
   "metadata": {
    "collapsed": false,
    "pycharm": {
     "name": "#%%\n"
    }
   }
  },
  {
   "cell_type": "code",
   "execution_count": 162,
   "outputs": [],
   "source": [
    "estimators = [\n",
    "    ('lr', RidgeCV()),\n",
    "    ('Tree', DecisionTreeRegressor(random_state=SEED)),\n",
    "#    ('svr', LinearSVR(random_state=SEED)),\n",
    "    ('RF', RandomForestRegressor(random_state=SEED))\n",
    "]\n",
    "reg = StackingRegressor(\n",
    "    estimators=estimators,\n",
    "    final_estimator=RandomForestRegressor(n_estimators=10,\n",
    "                                          random_state=42)\n",
    ")\n",
    "\n",
    "reg.fit(x_train, y_train)\n",
    "y_test_pred = np.exp(reg.predict(x_test))"
   ],
   "metadata": {
    "collapsed": false,
    "pycharm": {
     "name": "#%%\n"
    }
   }
  },
  {
   "cell_type": "code",
   "execution_count": 163,
   "outputs": [
    {
     "name": "stdout",
     "output_type": "stream",
     "text": [
      "sklearn MAPE: 10.79%\n"
     ]
    }
   ],
   "source": [
    "print(f'sklearn MAPE: {(mape(np.exp(y_test), y_test_pred)) * 100:0.2f}%')"
   ],
   "metadata": {
    "collapsed": false,
    "pycharm": {
     "name": "#%%\n"
    }
   }
  },
  {
   "cell_type": "code",
   "execution_count": 165,
   "outputs": [],
   "source": [
    "estimators = [\n",
    "    ('lr', RidgeCV()),\n",
    "    ('Tree', DecisionTreeRegressor(random_state=SEED)),\n",
    "    #    ('svr', LinearSVR(random_state=SEED)),\n",
    "    ('RF', RandomForestRegressor(random_state=SEED))\n",
    "]\n",
    "reg = StackingRegressor(\n",
    "    estimators=estimators,\n",
    "    final_estimator=RandomForestRegressor(n_estimators=10,\n",
    "                                          random_state=42)\n",
    ")\n",
    "\n",
    "reg.fit(x, y)\n",
    "predict = np.exp(reg.predict(q))"
   ],
   "metadata": {
    "collapsed": false,
    "pycharm": {
     "name": "#%%\n"
    }
   }
  },
  {
   "cell_type": "code",
   "execution_count": 167,
   "outputs": [],
   "source": [
    "q['price'] = predict\n",
    "submission = q[['sell_id', 'price']].copy()\n",
    "submission.price = submission.price.apply(lambda w: w * 1.255839 / 1.5)\n",
    "submission.to_csv('sub_12_12.csv', index=False)"
   ],
   "metadata": {
    "collapsed": false,
    "pycharm": {
     "name": "#%%\n"
    }
   }
  },
  {
   "cell_type": "markdown",
   "source": [
    "---\n",
    "# Stacking\n",
    "## My stacking script.\n",
    "Some code was taken from DST\n"
   ],
   "metadata": {
    "collapsed": false
   }
  },
  {
   "cell_type": "code",
   "execution_count": 224,
   "outputs": [],
   "source": [
    "folderer = KFold(n_splits=10, shuffle=True, random_state=SEED)\n",
    "regressor = RandomForestRegressor(random_state=SEED)"
   ],
   "metadata": {
    "collapsed": false,
    "pycharm": {
     "name": "#%%\n"
    }
   }
  },
  {
   "cell_type": "code",
   "execution_count": 284,
   "outputs": [],
   "source": [
    "\"\"\"\n",
    "    function for computing meta feature as predict value of given ML model\n",
    "\"\"\"\n",
    "\n",
    "\n",
    "def compute_meta_feature(regressor, x_train, x_test, y_train, folderer):\n",
    "    \"\"\"\n",
    "\n",
    "    :param regressor: ML-regressor\n",
    "    :param x_train: x train set\n",
    "    :param x_test: x test set\n",
    "    :param y_train: y train set\n",
    "    :param folderer: folder splitter\n",
    "    :return: new feature vectors for train and test stack\n",
    "    \"\"\"\n",
    "\n",
    "    # create new meta feature for train (filling zeros for initiate)\n",
    "    x_meta_train = np.zeros((len(y_train)), dtype=np.float32)\n",
    "\n",
    "    # make generator for split train sets\n",
    "    splits = folderer.split(x_train)\n",
    "    scores=[]\n",
    "\n",
    "    # cycle for prediction on folded sets\n",
    "    for train_fold_index, predict_fold_index in splits:\n",
    "        x_fold_train = x_train.iloc[train_fold_index].copy()\n",
    "        x_fold_predict = x_train.iloc[predict_fold_index].copy()\n",
    "        y_fold_train = y_train.iloc[train_fold_index].copy()\n",
    "        y_fold_predict = y_train.iloc[predict_fold_index].copy()\n",
    "\n",
    "        folded_reg = clone(regressor)\n",
    "        folded_reg.fit(x_fold_train, y_fold_train)\n",
    "\n",
    "        predict = np.exp(folded_reg.predict(x_fold_predict))\n",
    "        x_meta_train[predict_fold_index] = predict\n",
    "\n",
    "        # calculate MAPE score\n",
    "        current_score = mape(np.exp(y_fold_predict), predict)\n",
    "        scores.append(current_score)\n",
    "\n",
    "        # test current score as minimum and leave this fold for predict meta feature for test set\n",
    "        if current_score == min(scores):\n",
    "            x, y = x_fold_train, y_fold_train\n",
    "\n",
    "    best = scores.index(min(scores))\n",
    "    print(f'folder MAPE {np.around(scores,5)}')\n",
    "    print(f'Best score # {best} {min(scores)}')\n",
    "\n",
    "    # make prediction for test set with training on best fold\n",
    "    folded_reg = clone(regressor)\n",
    "    folded_reg.fit(x, y)\n",
    "    x_meta_test = np.exp(folded_reg.predict(x_test))\n",
    "\n",
    "    return x_meta_train, x_meta_test\n"
   ],
   "metadata": {
    "collapsed": false,
    "pycharm": {
     "name": "#%%\n"
    }
   }
  },
  {
   "cell_type": "code",
   "execution_count": 249,
   "outputs": [],
   "source": [
    "\"\"\"\n",
    "    function for generate datasets of meta-features with prediction on different ML models\n",
    "    (use function 'compute_meta_features')\n",
    "\"\"\"\n",
    "\n",
    "def generate_meta_features(regressors, x_train, x_test, y_train, folderer):\n",
    "    \"\"\"\n",
    "\n",
    "    :param regressors: list of ML regressors\n",
    "    :param x_train: x train dataset\n",
    "    :param x_test: x test dataset\n",
    "    :param y_train: target vector of train\n",
    "    :param folderer: folder splitter (need for 'compute_meta_features')\n",
    "    :return:\n",
    "    \"\"\"\n",
    "\n",
    "    # make the list of predictions by avery ML regressor from list\n",
    "    features = [\n",
    "        compute_meta_feature(regressor, x_train, x_test, y_train, folderer)\n",
    "        for regressor in tqdm(regressors)\n",
    "    ]\n",
    "\n",
    "    # extract predictions for train dataset and stack them to ndarray\n",
    "    stacked_features_train = np.stack([\n",
    "        features_train for features_train, features_test in features\n",
    "    ]).T\n",
    "\n",
    "    # extract predictions for test dataset and stack them to ndarray\n",
    "    stacked_features_test = np.stack([\n",
    "        features_test for features_train, features_test in features\n",
    "    ]).T\n",
    "\n",
    "    return stacked_features_train, stacked_features_test"
   ],
   "metadata": {
    "collapsed": false,
    "pycharm": {
     "name": "#%%\n"
    }
   }
  },
  {
   "cell_type": "code",
   "execution_count": 303,
   "outputs": [],
   "source": [
    "\"\"\"\n",
    "    some function for finishing step of ML: calculate metric and make prediction for submission\n",
    "\"\"\"\n",
    "\n",
    "\n",
    "def compute_mape(regressor, x_train=x_train, y_train=y_train, x_test=x_test):\n",
    "    \"\"\"\n",
    "    make prediction and calculate MAPE metric\n",
    "    :param regressor: ML regressor\n",
    "    :param x_train: x train set\n",
    "    :param y_train: y train set\n",
    "    :param x_test: x test set\n",
    "    :return: MAPE metric with rounding 6 points\n",
    "    \"\"\"\n",
    "    regressor.fit(x_train, y_train)\n",
    "    y_test_pred = np.exp(regressor.predict(x_test))\n",
    "    return np.around(mape(np.exp(y_test), y_test_pred), 6)\n",
    "\n",
    "def create_submission(regressor, x=x, y=y, q=q):\n",
    "    \"\"\"\n",
    "    Make prediction for submission\n",
    "    :param regressor: ML regressor\n",
    "    :param x: x set\n",
    "    :param y: y set\n",
    "    :param q: question set (test set for prediction)\n",
    "    :return: prediction\n",
    "    \"\"\"\n",
    "    regressor.fit(x, y)\n",
    "    prediction = np.exp(regressor.predict(q))\n",
    "\n",
    "    return prediction"
   ],
   "metadata": {
    "collapsed": false,
    "pycharm": {
     "name": "#%%\n"
    }
   }
  },
  {
   "cell_type": "markdown",
   "source": [
    "---\n",
    "# Stacking 2\n",
    "## 0 ensemble"
   ],
   "metadata": {
    "collapsed": false,
    "pycharm": {
     "name": "#%% md\n"
    }
   }
  },
  {
   "cell_type": "code",
   "execution_count": 251,
   "outputs": [],
   "source": [
    "x, y, q = split_data(encoder=ce.TargetEncoder())\n",
    "x_train, x_test, y_train, y_test = train_test_split(x, y, test_size=0.2, shuffle=True, random_state=SEED)"
   ],
   "metadata": {
    "collapsed": false,
    "pycharm": {
     "name": "#%%\n"
    }
   }
  },
  {
   "cell_type": "code",
   "execution_count": 252,
   "outputs": [
    {
     "name": "stderr",
     "output_type": "stream",
     "text": [
      "  0%|          | 0/2 [00:00<?, ?it/s]"
     ]
    },
    {
     "name": "stdout",
     "output_type": "stream",
     "text": [
      "folder MAPE [0.15871 0.15619 0.15927 0.15781 0.15963]\n",
      "Best score # 1 0.15619053170457223\n"
     ]
    },
    {
     "name": "stderr",
     "output_type": "stream",
     "text": [
      " 50%|█████     | 1/2 [01:05<01:05, 65.27s/it]"
     ]
    },
    {
     "name": "stdout",
     "output_type": "stream",
     "text": [
      "folder MAPE [0.12531 0.12417 0.12553 0.12585 0.12443]\n",
      "Best score # 1 0.12417068827151483\n"
     ]
    },
    {
     "name": "stderr",
     "output_type": "stream",
     "text": [
      "100%|██████████| 2/2 [12:26<00:00, 373.21s/it]\n"
     ]
    }
   ],
   "source": [
    "stacked_features_train, stacked_features_test = generate_meta_features([\n",
    "    RandomForestRegressor(n_estimators=200,\n",
    "                          min_samples_split=2,\n",
    "                          min_samples_leaf=2,\n",
    "                          max_features='sqrt',\n",
    "                          max_depth=14,\n",
    "                          bootstrap=False,\n",
    "                          n_jobs=-1,\n",
    "                          random_state=SEED),\n",
    "    ExtraTreesRegressor(n_estimators=300, random_state=SEED)\n",
    "], x_train, x_test, y_train, folderer)"
   ],
   "metadata": {
    "collapsed": false,
    "pycharm": {
     "name": "#%%\n"
    }
   }
  },
  {
   "cell_type": "code",
   "execution_count": 253,
   "outputs": [
    {
     "data": {
      "text/plain": "0.139228"
     },
     "execution_count": 253,
     "metadata": {},
     "output_type": "execute_result"
    }
   ],
   "source": [
    "regressor = RandomForestRegressor(random_state=SEED)\n",
    "compute_mape(regressor, x_train=stacked_features_train, x_test=stacked_features_test)"
   ],
   "metadata": {
    "collapsed": false,
    "pycharm": {
     "name": "#%%\n"
    }
   }
  },
  {
   "cell_type": "code",
   "execution_count": 275,
   "outputs": [],
   "source": [
    "list_to_drop = ['ПТС', 'Владельцы', 'fuelType', 'climate'] #, 'numberOfDoors', 'vehicleTransmission', 'Руль', 'owners', ]\n",
    "\n",
    "x, y, q = split_data(data=data.drop(list_to_drop, axis=1), encoder=ce.TargetEncoder())\n",
    "x_train, x_test, y_train, y_test = train_test_split(x, y, test_size=0.2, shuffle=True, random_state=SEED)"
   ],
   "metadata": {
    "collapsed": false,
    "pycharm": {
     "name": "#%%\n"
    }
   }
  },
  {
   "cell_type": "code",
   "execution_count": 276,
   "outputs": [],
   "source": [
    "folderer = KFold(n_splits=10, shuffle=True, random_state=SEED)"
   ],
   "metadata": {
    "collapsed": false,
    "pycharm": {
     "name": "#%%\n"
    }
   }
  },
  {
   "cell_type": "markdown",
   "source": [
    "---\n",
    "# Stacking 2\n",
    "## 1 ensemble"
   ],
   "metadata": {
    "collapsed": false,
    "pycharm": {
     "name": "#%% md\n"
    }
   }
  },
  {
   "cell_type": "code",
   "execution_count": 285,
   "outputs": [
    {
     "name": "stderr",
     "output_type": "stream",
     "text": [
      "\n",
      "\n",
      "  0%|          | 0/3 [00:00<?, ?it/s]\u001B[A\u001B[A"
     ]
    },
    {
     "name": "stdout",
     "output_type": "stream",
     "text": [
      "folder MAPE [0.11059 0.11111 0.10956 0.10851 0.11018 0.11128 0.10989 0.11164 0.10892\n",
      " 0.11108]\n",
      "Best score # 3 0.10851200130535904\n"
     ]
    },
    {
     "name": "stderr",
     "output_type": "stream",
     "text": [
      "\n",
      "\n",
      " 33%|███▎      | 1/3 [09:23<18:46, 563.26s/it]\u001B[A\u001B[A\n",
      "\n",
      " 67%|██████▋   | 2/3 [09:23<03:52, 232.30s/it]\u001B[A\u001B[A"
     ]
    },
    {
     "name": "stdout",
     "output_type": "stream",
     "text": [
      "folder MAPE [0.22933 0.23408 0.22469 0.22964 0.22778 0.23125 0.2267  0.2285  0.22772\n",
      " 0.22873]\n",
      "Best score # 2 0.22468913223387457\n",
      "folder MAPE [0.13319 0.13372 0.1286  0.13652 0.13275 0.13461 0.13428 0.13767 0.13602\n",
      " 0.13883]\n",
      "Best score # 2 0.12859999730804916\n"
     ]
    },
    {
     "name": "stderr",
     "output_type": "stream",
     "text": [
      "\n",
      "\n",
      "100%|██████████| 3/3 [09:34<00:00, 191.48s/it]\u001B[A\u001B[A\n"
     ]
    }
   ],
   "source": [
    "stacked_features_train, stacked_features_test = generate_meta_features([\n",
    "    ExtraTreesRegressor(n_estimators=300, random_state=SEED, n_jobs=-1),\n",
    "    LinearRegression(n_jobs=-1),\n",
    "    DecisionTreeRegressor(random_state=SEED)\n",
    "], x_train, x_test, y_train, folderer)"
   ],
   "metadata": {
    "collapsed": false,
    "pycharm": {
     "name": "#%%\n"
    }
   }
  },
  {
   "cell_type": "code",
   "execution_count": 288,
   "outputs": [
    {
     "data": {
      "text/plain": "0.112653"
     },
     "execution_count": 288,
     "metadata": {},
     "output_type": "execute_result"
    }
   ],
   "source": [
    "regressor = RandomForestRegressor(random_state=SEED)\n",
    "compute_mape(regressor, x_train=stacked_features_train, x_test=stacked_features_test)"
   ],
   "metadata": {
    "collapsed": false,
    "pycharm": {
     "name": "#%%\n"
    }
   }
  },
  {
   "cell_type": "markdown",
   "source": [
    "---\n",
    "# 2 ensemble"
   ],
   "metadata": {
    "collapsed": false
   }
  },
  {
   "cell_type": "code",
   "execution_count": 290,
   "outputs": [
    {
     "name": "stderr",
     "output_type": "stream",
     "text": [
      "\n",
      "\n",
      "  0%|          | 0/3 [00:00<?, ?it/s]\u001B[A\u001B[A"
     ]
    },
    {
     "name": "stdout",
     "output_type": "stream",
     "text": [
      "folder MAPE [0.11059 0.11111 0.10956 0.10851 0.11018 0.11128 0.10989 0.11164 0.10892\n",
      " 0.11108]\n",
      "Best score # 3 0.10851200130535903\n"
     ]
    },
    {
     "name": "stderr",
     "output_type": "stream",
     "text": [
      "\n",
      "\n",
      " 33%|███▎      | 1/3 [09:13<18:26, 553.50s/it]\u001B[A\u001B[A"
     ]
    },
    {
     "name": "stdout",
     "output_type": "stream",
     "text": [
      "folder MAPE [0.11097 0.11158 0.10957 0.10944 0.11049 0.1114  0.11022 0.11195 0.10905\n",
      " 0.11139]\n",
      "Best score # 8 0.10904975779883688\n"
     ]
    },
    {
     "name": "stderr",
     "output_type": "stream",
     "text": [
      "\n",
      "\n",
      " 67%|██████▋   | 2/3 [12:17<05:36, 336.25s/it]\u001B[A\u001B[A"
     ]
    },
    {
     "name": "stdout",
     "output_type": "stream",
     "text": [
      "folder MAPE [0.13319 0.13372 0.1286  0.13652 0.13275 0.13461 0.13428 0.13767 0.13602\n",
      " 0.13883]\n",
      "Best score # 2 0.12859999730804916\n"
     ]
    },
    {
     "name": "stderr",
     "output_type": "stream",
     "text": [
      "\n",
      "\n",
      "100%|██████████| 3/3 [12:26<00:00, 248.98s/it]\u001B[A\u001B[A\n"
     ]
    }
   ],
   "source": [
    "stacked_features_train, stacked_features_test = generate_meta_features([\n",
    "    ExtraTreesRegressor(n_estimators=300, random_state=SEED, n_jobs=-1),\n",
    "    ExtraTreesRegressor(random_state=SEED, n_jobs=-1),\n",
    "    DecisionTreeRegressor(random_state=SEED)\n",
    "], x_train, x_test, y_train, folderer)"
   ],
   "metadata": {
    "collapsed": false,
    "pycharm": {
     "name": "#%%\n"
    }
   }
  },
  {
   "cell_type": "code",
   "execution_count": 291,
   "outputs": [
    {
     "data": {
      "text/plain": "0.108806"
     },
     "execution_count": 291,
     "metadata": {},
     "output_type": "execute_result"
    }
   ],
   "source": [
    "regressor = CatBoostRegressor(iterations = 5000,\n",
    "                              random_seed = SEED,\n",
    "                              eval_metric='MAPE',\n",
    "                              custom_metric=['R2', 'MAE'],\n",
    "                              silent=True,\n",
    "                              )\n",
    "compute_mape(regressor, x_train=stacked_features_train, x_test=stacked_features_test)"
   ],
   "metadata": {
    "collapsed": false,
    "pycharm": {
     "name": "#%%\n"
    }
   }
  },
  {
   "cell_type": "code",
   "execution_count": 292,
   "outputs": [
    {
     "data": {
      "text/plain": "0.122509"
     },
     "execution_count": 292,
     "metadata": {},
     "output_type": "execute_result"
    }
   ],
   "source": [
    "regressor = RandomForestRegressor(random_state=SEED)\n",
    "compute_mape(regressor, x_train=stacked_features_train, x_test=stacked_features_test)"
   ],
   "metadata": {
    "collapsed": false,
    "pycharm": {
     "name": "#%%\n"
    }
   }
  },
  {
   "cell_type": "markdown",
   "source": [
    "---\n",
    "# 3 ensemble\n",
    "the last. I deside, i cant improve estimate on leaderboard"
   ],
   "metadata": {
    "collapsed": false
   }
  },
  {
   "cell_type": "code",
   "execution_count": 297,
   "outputs": [
    {
     "name": "stderr",
     "output_type": "stream",
     "text": [
      "\n",
      "\n",
      "\n",
      "  0%|          | 0/4 [00:00<?, ?it/s]\u001B[A\u001B[A\u001B[A"
     ]
    },
    {
     "name": "stdout",
     "output_type": "stream",
     "text": [
      "folder MAPE [0.0954  0.09702 0.0937  0.09613 0.09539 0.09684 0.0936  0.09546 0.09527\n",
      " 0.09533]\n",
      "Best score # 6 0.09359785255261037\n"
     ]
    },
    {
     "name": "stderr",
     "output_type": "stream",
     "text": [
      "\n",
      "\n",
      "\n",
      " 25%|██▌       | 1/4 [09:44<29:14, 584.86s/it]\u001B[A\u001B[A\u001B[A"
     ]
    },
    {
     "name": "stdout",
     "output_type": "stream",
     "text": [
      "folder MAPE [0.11059 0.11111 0.10956 0.10851 0.11018 0.11128 0.10989 0.11164 0.10892\n",
      " 0.11108]\n",
      "Best score # 3 0.10851200130535903\n"
     ]
    },
    {
     "name": "stderr",
     "output_type": "stream",
     "text": [
      "\n",
      "\n",
      "\n",
      " 50%|█████     | 2/4 [18:35<18:26, 553.23s/it]\u001B[A\u001B[A\u001B[A"
     ]
    },
    {
     "name": "stdout",
     "output_type": "stream",
     "text": [
      "folder MAPE [0.11097 0.11158 0.10957 0.10944 0.11049 0.1114  0.11022 0.11195 0.10905\n",
      " 0.11139]\n",
      "Best score # 8 0.10904975779883694\n"
     ]
    },
    {
     "name": "stderr",
     "output_type": "stream",
     "text": [
      "\n",
      "\n",
      "\n",
      " 75%|███████▌  | 3/4 [21:23<06:17, 377.34s/it]\u001B[A\u001B[A\u001B[A"
     ]
    },
    {
     "name": "stdout",
     "output_type": "stream",
     "text": [
      "folder MAPE [0.17343 0.17625 0.17032 0.17561 0.17346 0.1761  0.1687  0.17274 0.1738\n",
      " 0.176  ]\n",
      "Best score # 6 0.1686972666782429\n"
     ]
    },
    {
     "name": "stderr",
     "output_type": "stream",
     "text": [
      "\n",
      "\n",
      "\n",
      "100%|██████████| 4/4 [24:18<00:00, 364.58s/it]\u001B[A\u001B[A\u001B[A\n"
     ]
    }
   ],
   "source": [
    "stacked_features_train, stacked_features_test = generate_meta_features([\n",
    "    RandomForestRegressor(random_state=SEED),\n",
    "    ExtraTreesRegressor(n_estimators=300, random_state=SEED, n_jobs=-1),\n",
    "    ExtraTreesRegressor(random_state=SEED, n_jobs=-1),\n",
    "    GradientBoostingRegressor(random_state=SEED)\n",
    "], x_train, x_test, y_train, folderer)"
   ],
   "metadata": {
    "collapsed": false,
    "pycharm": {
     "name": "#%%\n"
    }
   }
  },
  {
   "cell_type": "code",
   "execution_count": 298,
   "outputs": [
    {
     "data": {
      "text/plain": "0.098601"
     },
     "execution_count": 298,
     "metadata": {},
     "output_type": "execute_result"
    }
   ],
   "source": [
    "regressor = CatBoostRegressor(iterations = 5000,\n",
    "                              random_seed = SEED,\n",
    "                              eval_metric='MAPE',\n",
    "                              custom_metric=['R2', 'MAE'],\n",
    "                              silent=True,\n",
    "                              )\n",
    "compute_mape(regressor, x_train=stacked_features_train, x_test=stacked_features_test)"
   ],
   "metadata": {
    "collapsed": false,
    "pycharm": {
     "name": "#%%\n"
    }
   }
  },
  {
   "cell_type": "markdown",
   "source": [
    "---\n",
    "### making submission"
   ],
   "metadata": {
    "collapsed": false
   }
  },
  {
   "cell_type": "code",
   "execution_count": 301,
   "outputs": [
    {
     "name": "stderr",
     "output_type": "stream",
     "text": [
      "\n",
      "\n",
      "\n",
      "\n",
      "  0%|          | 0/4 [00:00<?, ?it/s]\u001B[A\u001B[A\u001B[A\u001B[A"
     ]
    },
    {
     "name": "stdout",
     "output_type": "stream",
     "text": [
      "folder MAPE [0.08973 0.09177 0.09237 0.08886 0.09139 0.09168 0.09277 0.08972 0.09028\n",
      " 0.09103]\n",
      "Best score # 3 0.08885723299491108\n"
     ]
    },
    {
     "name": "stderr",
     "output_type": "stream",
     "text": [
      "\n",
      "\n",
      "\n",
      "\n",
      " 25%|██▌       | 1/4 [11:32<34:38, 692.98s/it]\u001B[A\u001B[A\u001B[A\u001B[A"
     ]
    },
    {
     "name": "stdout",
     "output_type": "stream",
     "text": [
      "folder MAPE [0.10445 0.10678 0.10679 0.10446 0.10528 0.10673 0.10594 0.10477 0.10487\n",
      " 0.10658]\n",
      "Best score # 0 0.10444574686693764\n"
     ]
    },
    {
     "name": "stderr",
     "output_type": "stream",
     "text": [
      "\n",
      "\n",
      "\n",
      "\n",
      " 50%|█████     | 2/4 [20:36<20:09, 605.00s/it]\u001B[A\u001B[A\u001B[A\u001B[A"
     ]
    },
    {
     "name": "stdout",
     "output_type": "stream",
     "text": [
      "folder MAPE [0.10473 0.10707 0.10732 0.10534 0.10583 0.10704 0.10637 0.10501 0.10503\n",
      " 0.10693]\n",
      "Best score # 0 0.10472900116527475\n"
     ]
    },
    {
     "name": "stderr",
     "output_type": "stream",
     "text": [
      "\n",
      "\n",
      "\n",
      "\n",
      " 75%|███████▌  | 3/4 [23:41<06:53, 413.48s/it]\u001B[A\u001B[A\u001B[A\u001B[A"
     ]
    },
    {
     "name": "stdout",
     "output_type": "stream",
     "text": [
      "folder MAPE [0.17488 0.17402 0.17472 0.1698  0.17392 0.17267 0.17512 0.17257 0.17308\n",
      " 0.17573]\n",
      "Best score # 3 0.16980283407460273\n"
     ]
    },
    {
     "name": "stderr",
     "output_type": "stream",
     "text": [
      "\n",
      "\n",
      "\n",
      "\n",
      "100%|██████████| 4/4 [27:15<00:00, 408.78s/it]\u001B[A\u001B[A\u001B[A\u001B[A\n"
     ]
    }
   ],
   "source": [
    "stacked_features_train, stacked_features_test = generate_meta_features([\n",
    "    RandomForestRegressor(random_state=SEED),\n",
    "    ExtraTreesRegressor(n_estimators=300, random_state=SEED, n_jobs=-1),\n",
    "    ExtraTreesRegressor(random_state=SEED, n_jobs=-1),\n",
    "    GradientBoostingRegressor(random_state=SEED)\n",
    "], x, q, y, folderer)"
   ],
   "metadata": {
    "collapsed": false,
    "pycharm": {
     "name": "#%%\n"
    }
   }
  },
  {
   "cell_type": "code",
   "execution_count": 304,
   "outputs": [],
   "source": [
    "regressor = CatBoostRegressor(iterations = 5000,\n",
    "                              random_seed = SEED,\n",
    "                              eval_metric='MAPE',\n",
    "                              custom_metric=['R2', 'MAE'],\n",
    "                              silent=True,\n",
    "                              )\n",
    "answer = create_submission(regressor, x=stacked_features_train, q=stacked_features_test)"
   ],
   "metadata": {
    "collapsed": false,
    "pycharm": {
     "name": "#%%\n"
    }
   }
  },
  {
   "cell_type": "code",
   "execution_count": null,
   "outputs": [],
   "source": [],
   "metadata": {
    "collapsed": false,
    "pycharm": {
     "name": "#%%\n"
    }
   }
  },
  {
   "cell_type": "code",
   "execution_count": 306,
   "outputs": [],
   "source": [
    "q['price']=answer"
   ],
   "metadata": {
    "collapsed": false,
    "pycharm": {
     "name": "#%%\n"
    }
   }
  },
  {
   "cell_type": "code",
   "execution_count": 307,
   "outputs": [],
   "source": [
    "submission = q[['sell_id', 'price']].copy()"
   ],
   "metadata": {
    "collapsed": false,
    "pycharm": {
     "name": "#%%\n"
    }
   }
  },
  {
   "cell_type": "code",
   "execution_count": 310,
   "outputs": [],
   "source": [
    "submission.price = submission.price.apply(lambda w: w * 1.255839 / 1.5)"
   ],
   "metadata": {
    "collapsed": false,
    "pycharm": {
     "name": "#%%\n"
    }
   }
  },
  {
   "cell_type": "code",
   "execution_count": 311,
   "outputs": [],
   "source": [
    "submission.to_csv('sub_12_13.csv', index=False)"
   ],
   "metadata": {
    "collapsed": false,
    "pycharm": {
     "name": "#%%\n"
    }
   }
  },
  {
   "cell_type": "markdown",
   "source": [
    "## resume\n",
    "Score on kafgle is 32%. After dividing on 1.5 - 25%. No luck.\n",
    "___"
   ],
   "metadata": {
    "collapsed": false
   }
  },
  {
   "cell_type": "code",
   "execution_count": null,
   "outputs": [],
   "source": [],
   "metadata": {
    "collapsed": false,
    "pycharm": {
     "name": "#%%\n"
    }
   }
  }
 ],
 "metadata": {
  "kernelspec": {
   "display_name": "Python 3",
   "language": "python",
   "name": "python3"
  },
  "language_info": {
   "codemirror_mode": {
    "name": "ipython",
    "version": 2
   },
   "file_extension": ".py",
   "mimetype": "text/x-python",
   "name": "python",
   "nbconvert_exporter": "python",
   "pygments_lexer": "ipython2",
   "version": "2.7.6"
  }
 },
 "nbformat": 4,
 "nbformat_minor": 0
}