{
 "cells": [
  {
   "cell_type": "code",
   "execution_count": 1,
   "outputs": [],
   "source": [
    "import pandas as pd\n",
    "import numpy as np\n",
    "import math\n",
    "import re\n",
    "import seaborn as sns\n",
    "import matplotlib.pyplot as plt"
   ],
   "metadata": {
    "collapsed": false,
    "pycharm": {
     "name": "#%%\n"
    }
   }
  },
  {
   "cell_type": "code",
   "execution_count": 2,
   "outputs": [],
   "source": [
    "from IPython.core.display import display"
   ],
   "metadata": {
    "collapsed": false,
    "pycharm": {
     "name": "#%%\n"
    }
   }
  },
  {
   "cell_type": "code",
   "execution_count": 3,
   "outputs": [],
   "source": [
    "from sklearn.model_selection import train_test_split, RandomizedSearchCV\n",
    "from sklearn.model_selection import KFold\n",
    "from tqdm.notebook import tqdm\n",
    "from catboost import CatBoostRegressor\n",
    "from sklearn.preprocessing import LabelEncoder\n"
   ],
   "metadata": {
    "collapsed": false,
    "pycharm": {
     "name": "#%%\n"
    }
   }
  },
  {
   "cell_type": "code",
   "execution_count": 4,
   "outputs": [],
   "source": [
    "from sklearn.linear_model import LinearRegression\n",
    "from sklearn.tree import DecisionTreeRegressor\n",
    "from sklearn.ensemble import RandomForestRegressor, GradientBoostingRegressor, ExtraTreesRegressor\n",
    "from xgboost import XGBRegressor\n",
    "from lightgbm import LGBMRegressor"
   ],
   "metadata": {
    "collapsed": false,
    "pycharm": {
     "name": "#%%\n"
    }
   }
  },
  {
   "cell_type": "code",
   "execution_count": 4,
   "outputs": [],
   "source": [],
   "metadata": {
    "collapsed": false,
    "pycharm": {
     "name": "#%%\n"
    }
   }
  },
  {
   "cell_type": "code",
   "execution_count": 5,
   "outputs": [],
   "source": [
    "SEED = 42\n",
    "target = 'price'"
   ],
   "metadata": {
    "collapsed": false,
    "pycharm": {
     "name": "#%%\n"
    }
   }
  },
  {
   "cell_type": "code",
   "execution_count": 6,
   "outputs": [],
   "source": [
    "def mape(y_true, y_pred):\n",
    "    return np.mean(np.abs((y_pred-y_true)/y_true))"
   ],
   "metadata": {
    "collapsed": false,
    "pycharm": {
     "name": "#%%\n"
    }
   }
  },
  {
   "cell_type": "code",
   "execution_count": 7,
   "outputs": [],
   "source": [
    "\"\"\" функция перобразования списка в датафрейм (для красоты отображения на экран)\"\"\"\n",
    "def list_cut(to_cut):\n",
    "    \"\"\"\n",
    "    :param to_cut: список для преобразорвания в датафрейм\n",
    "    :return: в результате на экран выводится таблица\n",
    "    \"\"\"\n",
    "\n",
    "    # Объявим функции для разбиение списка на список стеков и генерировнаия названий для датафрейма\n",
    "    to_cut = list(np.sort(to_cut))\n",
    "    cut_list = lambda item: [item[i:i+7] for i in range(0, len(item), 7)]\n",
    "    name_list = lambda nom: [\"vectors\"+ str(i) for i in range(0,math.ceil(nom/7))]\n",
    "\n",
    "    # создание датафрейма и присовение названий векторам (пропуски заполняем '')\n",
    "    df_ = pd.DataFrame(cut_list(to_cut)).T\n",
    "    df_.columns = name_list(len(to_cut))\n",
    "    df_.fillna('', inplace=True)\n",
    "\n",
    "    # выводим на экран\n",
    "    display(df_)"
   ],
   "metadata": {
    "collapsed": false,
    "pycharm": {
     "name": "#%%\n"
    }
   }
  },
  {
   "cell_type": "code",
   "execution_count": 8,
   "outputs": [],
   "source": [
    "\"\"\" Функция проверки корреляции с целевым вектором в виде графика heatmap \"\"\"\n",
    "def heatmap(drop_list, dd, target = target):\n",
    "    \"\"\"\n",
    "    :param drop_list: список для удаления из датасета\n",
    "    :param dd: название датасета, по умолчанию = train\n",
    "    :param target: целевой вектор, по умолчанию значение переменной target извне функции\n",
    "    :return: выводит только информацию в виде таблицы исключенных столбцов и графика корреляции\n",
    "    \"\"\"\n",
    "    dlst = list(set(dd.columns) - set(drop_list) - {target})\n",
    "    dlst = list(np.sort(dlst))\n",
    "\n",
    "    dlst.append(target)\n",
    "    sns.set(font_scale=1)\n",
    "    plt.subplots(figsize=(16, 16))\n",
    "    sns.heatmap(dd[dlst].corr(), square=True,\n",
    "                annot=True, fmt=\".3f\", linewidths=0.1, cmap=\"RdBu\", vmin=-1, vmax=1)\n",
    "\n",
    "    # для удобства отображения делим веткор для модели на части по 7 строк и перобразум в таблицу.\n",
    "    list_cut(drop_list)"
   ],
   "metadata": {
    "collapsed": false,
    "pycharm": {
     "name": "#%%\n"
    }
   }
  },
  {
   "cell_type": "code",
   "execution_count": 9,
   "outputs": [],
   "source": [
    "path = '/Users/irenaradzevich/Documents/sergei_dev/ project_05/'"
   ],
   "metadata": {
    "collapsed": false,
    "pycharm": {
     "name": "#%%\n"
    }
   }
  },
  {
   "cell_type": "code",
   "execution_count": 14,
   "outputs": [],
   "source": [
    "auto = pd.read_csv(path+'all_auto_ru_09_09_2020.csv')"
   ],
   "metadata": {
    "collapsed": false,
    "pycharm": {
     "name": "#%%\n"
    }
   }
  },
  {
   "cell_type": "code",
   "execution_count": 12,
   "outputs": [],
   "source": [
    "add = pd.read_csv(path+'train2.csv')"
   ],
   "metadata": {
    "collapsed": false,
    "pycharm": {
     "name": "#%%\n"
    }
   }
  },
  {
   "cell_type": "code",
   "execution_count": 16,
   "outputs": [
    {
     "name": "stdout",
     "output_type": "stream",
     "text": [
      "Train data shape : (103794, 33),\n",
      " add data shape : (25465, 33),\n",
      " auto data shape : (89378, 26),\n",
      " test data shape : (34686, 32)\n"
     ]
    }
   ],
   "source": [
    "test = pd.read_csv(path+'test.csv')\n",
    "train = pd.read_csv(path+'train.csv')\n",
    "print(f'Train data shape : {train.shape},\\n  add data shape : {add.shape},\\n auto data shape : {auto.shape},\\n test data shape : {test.shape}')"
   ],
   "metadata": {
    "collapsed": false,
    "pycharm": {
     "name": "#%%\n"
    }
   }
  },
  {
   "cell_type": "markdown",
   "source": [
    "---\n",
    "# 0. Crearing data\n",
    "---"
   ],
   "metadata": {
    "collapsed": false
   }
  },
  {
   "cell_type": "code",
   "execution_count": 18,
   "outputs": [
    {
     "name": "stdout",
     "output_type": "stream",
     "text": [
      "Records 111974, duplicates 0\n",
      "Number of empty features values in train dataset:\n"
     ]
    },
    {
     "data": {
      "text/plain": "complectation_dict          70\nimage                        2\nmodelDate               111974\nmodel_info              111974\nnumberOfDoors               70\nvehicleConfiguration    111974\nvendor                  111974\nВладельцы                    7\nВладение                 80244\nПТС                          1\nСостояние                   11\nТаможня                     17\ndtype: int64"
     },
     "execution_count": 18,
     "metadata": {},
     "output_type": "execute_result"
    }
   ],
   "source": [
    "# append addon data to train dataset\n",
    "train = train.append(add)\n",
    "\n",
    "# drop duplicates and records with zero-prices and records on new cars (they has different webpage structure)\n",
    "train.drop_duplicates(inplace=True)\n",
    "train.dropna(subset=['price', 'bodyType'], inplace=True)\n",
    "print(f'Records {train.shape[0]}, duplicates {train.duplicated().sum()}')\n",
    "\n",
    "# statistics of NAN in train dataset\n",
    "nulls = train.isnull().sum()\n",
    "print('Number of empty features values in train dataset:')\n",
    "nulls[nulls.values >0]"
   ],
   "metadata": {
    "collapsed": false,
    "pycharm": {
     "name": "#%%\n"
    }
   }
  },
  {
   "cell_type": "code",
   "execution_count": 19,
   "outputs": [],
   "source": [
    "# fill empty 'numberOfDoors' with value as the same bodyType has\n",
    "doors = dict(train.groupby(['bodyType', 'numberOfDoors'])['numberOfDoors'].count().index)\n",
    "train['numberOfDoors']=train.bodyType.map(doors)\n",
    "\n",
    "# fill empty 'complectation_dict' with empty dict\n",
    "train.complectation_dict = train.complectation_dict.apply(lambda q: dict() if pd.isna(q) else q)"
   ],
   "metadata": {
    "collapsed": false,
    "pycharm": {
     "name": "#%%\n"
    }
   }
  },
  {
   "cell_type": "code",
   "execution_count": 22,
   "outputs": [],
   "source": [
    "train.numberOfDoors = train.numberOfDoors.apply(int)\n",
    "train.parsing_unixtime = train.parsing_unixtime.apply(int)\n",
    "train.productionDate = train.productionDate.apply(int)\n",
    "train.sell_id = train.sell_id.apply(int)\n",
    "train.mileage = train.mileage.apply(int)"
   ],
   "metadata": {
    "collapsed": false,
    "pycharm": {
     "name": "#%%\n"
    }
   }
  },
  {
   "cell_type": "code",
   "execution_count": 23,
   "outputs": [
    {
     "name": "stdout",
     "output_type": "stream",
     "text": [
      "Number of empty features values in train dataset:\n"
     ]
    },
    {
     "data": {
      "text/plain": "image                        2\nmodelDate               111974\nmodel_info              111974\nvehicleConfiguration    111974\nvendor                  111974\nВладельцы                    7\nВладение                 80244\nПТС                          1\nСостояние                   11\nТаможня                     17\ndtype: int64"
     },
     "execution_count": 23,
     "metadata": {},
     "output_type": "execute_result"
    }
   ],
   "source": [
    "nulls = train.isnull().sum()\n",
    "print('Number of empty features values in train dataset:')\n",
    "nulls[nulls.values >0]"
   ],
   "metadata": {
    "collapsed": false,
    "pycharm": {
     "name": "#%%\n"
    }
   }
  },
  {
   "cell_type": "code",
   "execution_count": 24,
   "outputs": [
    {
     "data": {
      "text/plain": "bodyType                    0\nbrand                       0\ncar_url                     0\ncolor                       0\ncomplectation_dict      28268\ndescription                 0\nengineDisplacement          0\nenginePower                 0\nequipment_dict           9996\nfuelType                    0\nimage                       0\nmileage                     0\nmodelDate                   0\nmodel_info                  0\nmodel_name                  0\nname                        0\nnumberOfDoors               0\nparsing_unixtime            0\npriceCurrency               0\nproductionDate              0\nsell_id                     0\nsuper_gen                   0\nvehicleConfiguration        0\nvehicleTransmission         0\nvendor                      0\nВладельцы                   0\nВладение                22691\nПТС                         1\nПривод                      0\nРуль                        0\nСостояние                   0\nТаможня                     0\ndtype: int64"
     },
     "execution_count": 24,
     "metadata": {},
     "output_type": "execute_result"
    }
   ],
   "source": [
    "test.isnull().sum()"
   ],
   "metadata": {
    "collapsed": false,
    "pycharm": {
     "name": "#%%\n"
    }
   }
  },
  {
   "cell_type": "code",
   "execution_count": 24,
   "outputs": [],
   "source": [],
   "metadata": {
    "collapsed": false,
    "pycharm": {
     "name": "#%%\n"
    }
   }
  },
  {
   "cell_type": "markdown",
   "source": [
    "---\n",
    "### Checking 'test' and 'auto' datadset.\n",
    "It is very important to understand when they was parsed. The prices in Russian is always run up,\n",
    "so ML-model can be good to predict today prices, but several month ago parsed test dataset - no,\n",
    "because only the another level of prices."
   ],
   "metadata": {
    "collapsed": false
   }
  },
  {
   "cell_type": "code",
   "execution_count": 25,
   "outputs": [
    {
     "data": {
      "text/plain": "(1294586.3563303659, 1625792.069507207, 1.2558390265410155)"
     },
     "execution_count": 25,
     "metadata": {},
     "output_type": "execute_result"
    }
   ],
   "source": [
    "auto.price.mean(), train.price.mean() , train.price.mean()/auto.price.mean()"
   ],
   "metadata": {
    "collapsed": false,
    "pycharm": {
     "name": "#%%\n"
    }
   }
  },
  {
   "cell_type": "code",
   "execution_count": 26,
   "outputs": [
    {
     "name": "stdout",
     "output_type": "stream",
     "text": [
      "Mon Oct 19 14:35:06 2020\n",
      "Mon Oct 26 14:04:24 2020\n"
     ]
    }
   ],
   "source": [
    "import time\n",
    "print(time.ctime(test.parsing_unixtime.min()))\n",
    "print(time.ctime(test.parsing_unixtime.max()))"
   ],
   "metadata": {
    "collapsed": false,
    "pycharm": {
     "name": "#%%\n"
    }
   }
  },
  {
   "cell_type": "markdown",
   "source": [
    "### Resume:\n",
    "test data was parsed nearly when was pased auto dataset - in september 2020.\n",
    "Today's prises in my train dataset is higher on 25.584%.\n",
    "So we must to divide current prices by the factor 1.255839."
   ],
   "metadata": {
    "collapsed": false
   }
  },
  {
   "cell_type": "code",
   "execution_count": 27,
   "outputs": [],
   "source": [
    "train['price_current']=train.price\n",
    "train.price = train.price / 1.255839"
   ],
   "metadata": {
    "collapsed": false,
    "pycharm": {
     "name": "#%%\n"
    }
   }
  },
  {
   "cell_type": "markdown",
   "source": [
    "----\n",
    "# 1. Clearin data\n"
   ],
   "metadata": {
    "collapsed": false
   }
  },
  {
   "cell_type": "markdown",
   "source": [
    "First of all I will normalize of filling data in train and test datasets, because some vectors have been download not in the same format"
   ],
   "metadata": {
    "collapsed": false
   }
  },
  {
   "cell_type": "code",
   "execution_count": 56,
   "outputs": [],
   "source": [
    "\"\"\" function to show filling difference between same vectors in train and test datasets\"\"\"\n",
    "def vector_items(vector: str):\n",
    "    \"\"\"\n",
    "    :param vector: nave of vector\n",
    "    :return: difference between train and test, test and train and unique values of test\n",
    "    \"\"\"\n",
    "    train_set = set(train[vector])\n",
    "    test_set = set(test[vector].unique())\n",
    "    train_dif = train_set - test_set\n",
    "    test_dif = test_set - train_set\n",
    "    print(f'Statistics of items in vector: {vector}.\\n ---------------------------')\n",
    "    print(f'Train has {len(train_set)} unique items and has difference:\\n{train_dif},')\n",
    "    print('--')\n",
    "    print(f'Test has {len(test_set)} unique items and has difference:\\n{test_dif}.')\n",
    "    print('Test_set values:')\n",
    "    print(test_set)"
   ],
   "metadata": {
    "collapsed": false,
    "pycharm": {
     "name": "#%%\n"
    }
   }
  },
  {
   "cell_type": "markdown",
   "source": [
    "## 1.2. bodyType"
   ],
   "metadata": {
    "collapsed": false
   }
  },
  {
   "cell_type": "code",
   "execution_count": 29,
   "outputs": [
    {
     "name": "stdout",
     "output_type": "stream",
     "text": [
      "Statistics of items in vector: bodyType.\n",
      " ---------------------------\n",
      "Train has 23 unique items and has difference: set(),\n",
      "--\n",
      "Test has 24 unique items and has difference: {'фастбек'}.\n",
      "{'кабриолет', 'пикап одинарная кабина', 'минивэн', 'внедорожник открытый', 'универсал 5 дв.', 'пикап двойная кабина', 'седан-хардтоп', 'микровэн', 'тарга', 'купе-хардтоп', 'внедорожник 5 дв.', 'седан', 'родстер', 'пикап полуторная кабина', 'компактвэн', 'лимузин', 'фургон', 'купе', 'внедорожник 3 дв.', 'хэтчбек 3 дв.', 'хэтчбек 5 дв.', 'лифтбек', 'фастбек', 'седан 2 дв.'}\n"
     ]
    }
   ],
   "source": [
    "vector_items('bodyType')"
   ],
   "metadata": {
    "collapsed": false,
    "pycharm": {
     "name": "#%%\n"
    }
   }
  },
  {
   "cell_type": "markdown",
   "source": [
    "Body type of cars in train is wider then in test by value 'фастбек'. It is OK."
   ],
   "metadata": {
    "collapsed": false
   }
  },
  {
   "cell_type": "markdown",
   "source": [
    "## brand, model_name, model (new vector)"
   ],
   "metadata": {
    "collapsed": false
   }
  },
  {
   "cell_type": "code",
   "execution_count": 30,
   "outputs": [
    {
     "name": "stdout",
     "output_type": "stream",
     "text": [
      "Statistics of items in vector: brand.\n",
      " ---------------------------\n",
      "Train has 12 unique items and has difference: set(),\n",
      "--\n",
      "Test has 12 unique items and has difference: set().\n",
      "{'VOLVO', 'SKODA', 'BMW', 'INFINITI', 'LEXUS', 'VOLKSWAGEN', 'TOYOTA', 'MERCEDES', 'AUDI', 'MITSUBISHI', 'NISSAN', 'HONDA'}\n"
     ]
    }
   ],
   "source": [
    "vector_items('brand')"
   ],
   "metadata": {
    "collapsed": false,
    "pycharm": {
     "name": "#%%\n"
    }
   }
  },
  {
   "cell_type": "markdown",
   "source": [
    "Brand - was a key for download, so vectors are equal."
   ],
   "metadata": {
    "collapsed": false
   }
  },
  {
   "cell_type": "code",
   "execution_count": 31,
   "outputs": [],
   "source": [
    "train.model_name = train.model_name.str.upper()"
   ],
   "metadata": {
    "collapsed": false,
    "pycharm": {
     "name": "#%%\n"
    }
   }
  },
  {
   "cell_type": "code",
   "execution_count": 32,
   "outputs": [
    {
     "data": {
      "text/plain": "      bodyType     brand                                            car_url  \\\n41563    седан  MERCEDES  https://auto.ru/cars/used/sale/mercedes/s_klas...   \n41564    седан  MERCEDES  https://auto.ru/cars/used/sale/mercedes/s_klas...   \n41565    седан  MERCEDES  https://auto.ru/cars/used/sale/mercedes/s_klas...   \n41566    седан  MERCEDES  https://auto.ru/cars/used/sale/mercedes/s_klas...   \n41567    седан  MERCEDES  https://auto.ru/cars/used/sale/mercedes/s_klas...   \n...        ...       ...                                                ...   \n9545     седан  MERCEDES  https://auto.ru/cars/used/sale/mercedes/s_klas...   \n9546     седан  MERCEDES  https://auto.ru/cars/used/sale/mercedes/s_klas...   \n9547     седан  MERCEDES  https://auto.ru/cars/used/sale/mercedes/s_klas...   \n9548     седан  MERCEDES  https://auto.ru/cars/used/sale/mercedes/s_klas...   \n9549     седан  MERCEDES  https://auto.ru/cars/used/sale/mercedes/s_klas...   \n\n        color                                 complectation_dict  \\\n41563  чёрный  {'back-brake': 'Ventilated disc', 'feeding': '...   \n41564  чёрный  {'back-brake': 'Ventilated disc', 'feeding': '...   \n41565  чёрный  {'back-brake': 'Ventilated disc', 'feeding': '...   \n41566  чёрный  {'back-brake': 'Ventilated disc', 'feeding': '...   \n41567  чёрный  {'back-brake': 'Ventilated disc', 'feeding': '...   \n...       ...                                                ...   \n9545    синий  {'back-brake': 'Ventilated disc', 'feeding': '...   \n9546    синий  {'back-brake': 'Disc', 'feeding': 'None', 'ful...   \n9547   чёрный  {'back-brake': 'Disc', 'feeding': 'None', 'ful...   \n9548    серый  {'back-brake': 'Ventilated disc', 'feeding': '...   \n9549    синий  {'back-brake': 'Ventilated disc', 'feeding': '...   \n\n                                             description engineDisplacement  \\\n41563  Авто новое пробег 2500км в самой топовой компл...              2.9 л   \n41564  Автомобиль приобретён у официального дилера Па...              3.0 л   \n41565   ЛУКАВТО официальный дилер Mercedes Benz в Рос...              2.9 л   \n41566  Внимание Только для клиентов AVILON Автомобили...              3.0 л   \n41567  В пленке самая полная комплектация нет только ...              3.0 л   \n...                                                  ...                ...   \n9545   Хороший автомобиль без нареканий требует мелки...              6.0 л   \n9546   Нормальное состояние по кузову есть не критичн...              3.2 л   \n9547   Авто без проблемм Не шпаклеванный не из кусков...              4.3 л   \n9548   ЗАВОДСКАЯ БРОНЕКАПСУЛА Богатая комплектация Ра...              5.0 л   \n9549   Автомобиль полностью на ходу стоит в гараже По...              4.3 л   \n\n      enginePower                                     equipment_dict fuelType  \\\n41563    249 л.с.  {'e-adjustment-wheel': True, 'multi-wheel': Tr...   Дизель   \n41564    367 л.с.  {'asr': True, 'roller-blind-for-rear-window': ...   Бензин   \n41565    249 л.с.  {'asr': True, 'roller-blind-for-rear-window': ...   Дизель   \n41566    367 л.с.  {'cruise-control': True, 'asr': True, 'roller-...   Бензин   \n41567    367 л.с.  {'asr': True, 'tinted-glass': True, 'roller-bl...   Бензин   \n...           ...                                                ...      ...   \n9545     394 л.с.                                                 {}   Бензин   \n9546     224 л.с.                                                 {}   Бензин   \n9547     279 л.с.  {'cruise-control': True, 'engine-proof': True,...   Бензин   \n9548     320 л.с.                                                 {}   Бензин   \n9549     279 л.с.  {'cruise-control': True, 'tinted-glass': True,...   Бензин   \n\n       ... vendor    Владельцы   Владение       ПТС  Привод   Руль  \\\n41563  ...    NaN   1 владелец        NaN  Оригинал  полный  Левый   \n41564  ...    NaN  2 владельца        NaN  Оригинал  полный  Левый   \n41565  ...    NaN   1 владелец        NaN  Оригинал  полный  Левый   \n41566  ...    NaN   1 владелец        NaN  Оригинал  полный  Левый   \n41567  ...    NaN   1 владелец  8 месяцев  Оригинал  полный  Левый   \n...    ...    ...          ...        ...       ...     ...    ...   \n9545   ...    NaN   1 владелец        NaN  Оригинал  задний  Левый   \n9546   ...    NaN  3 или более        NaN  Дубликат  задний  Левый   \n9547   ...    NaN  3 или более        NaN  Оригинал  задний  Левый   \n9548   ...    NaN  3 или более        NaN  Дубликат  задний  Левый   \n9549   ...    NaN  3 или более        NaN  Дубликат  задний  Левый   \n\n                Состояние     Таможня         price  price_current  \n41563  Не требует ремонта  Растаможен  1.254142e+07     15750000.0  \n41564  Не требует ремонта  Растаможен  1.262104e+07     15850000.0  \n41565  Не требует ремонта  Растаможен  1.273969e+07     15999000.0  \n41566  Не требует ремонта  Растаможен  1.272456e+07     15980000.0  \n41567  Не требует ремонта  Растаможен  1.234235e+07     15500000.0  \n...                   ...         ...           ...            ...  \n9545   Не требует ремонта  Растаможен  3.025866e+05       380000.0  \n9546   Не требует ремонта  Растаможен  2.946238e+05       370000.0  \n9547   Не требует ремонта  Растаможен  2.910843e+05       365555.0  \n9548   Не требует ремонта  Растаможен  2.906424e+05       365000.0  \n9549   Не требует ремонта  Растаможен  2.786981e+05       350000.0  \n\n[1743 rows x 34 columns]",
      "text/html": "<div>\n<style scoped>\n    .dataframe tbody tr th:only-of-type {\n        vertical-align: middle;\n    }\n\n    .dataframe tbody tr th {\n        vertical-align: top;\n    }\n\n    .dataframe thead th {\n        text-align: right;\n    }\n</style>\n<table border=\"1\" class=\"dataframe\">\n  <thead>\n    <tr style=\"text-align: right;\">\n      <th></th>\n      <th>bodyType</th>\n      <th>brand</th>\n      <th>car_url</th>\n      <th>color</th>\n      <th>complectation_dict</th>\n      <th>description</th>\n      <th>engineDisplacement</th>\n      <th>enginePower</th>\n      <th>equipment_dict</th>\n      <th>fuelType</th>\n      <th>...</th>\n      <th>vendor</th>\n      <th>Владельцы</th>\n      <th>Владение</th>\n      <th>ПТС</th>\n      <th>Привод</th>\n      <th>Руль</th>\n      <th>Состояние</th>\n      <th>Таможня</th>\n      <th>price</th>\n      <th>price_current</th>\n    </tr>\n  </thead>\n  <tbody>\n    <tr>\n      <th>41563</th>\n      <td>седан</td>\n      <td>MERCEDES</td>\n      <td>https://auto.ru/cars/used/sale/mercedes/s_klas...</td>\n      <td>чёрный</td>\n      <td>{'back-brake': 'Ventilated disc', 'feeding': '...</td>\n      <td>Авто новое пробег 2500км в самой топовой компл...</td>\n      <td>2.9 л</td>\n      <td>249 л.с.</td>\n      <td>{'e-adjustment-wheel': True, 'multi-wheel': Tr...</td>\n      <td>Дизель</td>\n      <td>...</td>\n      <td>NaN</td>\n      <td>1 владелец</td>\n      <td>NaN</td>\n      <td>Оригинал</td>\n      <td>полный</td>\n      <td>Левый</td>\n      <td>Не требует ремонта</td>\n      <td>Растаможен</td>\n      <td>1.254142e+07</td>\n      <td>15750000.0</td>\n    </tr>\n    <tr>\n      <th>41564</th>\n      <td>седан</td>\n      <td>MERCEDES</td>\n      <td>https://auto.ru/cars/used/sale/mercedes/s_klas...</td>\n      <td>чёрный</td>\n      <td>{'back-brake': 'Ventilated disc', 'feeding': '...</td>\n      <td>Автомобиль приобретён у официального дилера Па...</td>\n      <td>3.0 л</td>\n      <td>367 л.с.</td>\n      <td>{'asr': True, 'roller-blind-for-rear-window': ...</td>\n      <td>Бензин</td>\n      <td>...</td>\n      <td>NaN</td>\n      <td>2 владельца</td>\n      <td>NaN</td>\n      <td>Оригинал</td>\n      <td>полный</td>\n      <td>Левый</td>\n      <td>Не требует ремонта</td>\n      <td>Растаможен</td>\n      <td>1.262104e+07</td>\n      <td>15850000.0</td>\n    </tr>\n    <tr>\n      <th>41565</th>\n      <td>седан</td>\n      <td>MERCEDES</td>\n      <td>https://auto.ru/cars/used/sale/mercedes/s_klas...</td>\n      <td>чёрный</td>\n      <td>{'back-brake': 'Ventilated disc', 'feeding': '...</td>\n      <td>ЛУКАВТО официальный дилер Mercedes Benz в Рос...</td>\n      <td>2.9 л</td>\n      <td>249 л.с.</td>\n      <td>{'asr': True, 'roller-blind-for-rear-window': ...</td>\n      <td>Дизель</td>\n      <td>...</td>\n      <td>NaN</td>\n      <td>1 владелец</td>\n      <td>NaN</td>\n      <td>Оригинал</td>\n      <td>полный</td>\n      <td>Левый</td>\n      <td>Не требует ремонта</td>\n      <td>Растаможен</td>\n      <td>1.273969e+07</td>\n      <td>15999000.0</td>\n    </tr>\n    <tr>\n      <th>41566</th>\n      <td>седан</td>\n      <td>MERCEDES</td>\n      <td>https://auto.ru/cars/used/sale/mercedes/s_klas...</td>\n      <td>чёрный</td>\n      <td>{'back-brake': 'Ventilated disc', 'feeding': '...</td>\n      <td>Внимание Только для клиентов AVILON Автомобили...</td>\n      <td>3.0 л</td>\n      <td>367 л.с.</td>\n      <td>{'cruise-control': True, 'asr': True, 'roller-...</td>\n      <td>Бензин</td>\n      <td>...</td>\n      <td>NaN</td>\n      <td>1 владелец</td>\n      <td>NaN</td>\n      <td>Оригинал</td>\n      <td>полный</td>\n      <td>Левый</td>\n      <td>Не требует ремонта</td>\n      <td>Растаможен</td>\n      <td>1.272456e+07</td>\n      <td>15980000.0</td>\n    </tr>\n    <tr>\n      <th>41567</th>\n      <td>седан</td>\n      <td>MERCEDES</td>\n      <td>https://auto.ru/cars/used/sale/mercedes/s_klas...</td>\n      <td>чёрный</td>\n      <td>{'back-brake': 'Ventilated disc', 'feeding': '...</td>\n      <td>В пленке самая полная комплектация нет только ...</td>\n      <td>3.0 л</td>\n      <td>367 л.с.</td>\n      <td>{'asr': True, 'tinted-glass': True, 'roller-bl...</td>\n      <td>Бензин</td>\n      <td>...</td>\n      <td>NaN</td>\n      <td>1 владелец</td>\n      <td>8 месяцев</td>\n      <td>Оригинал</td>\n      <td>полный</td>\n      <td>Левый</td>\n      <td>Не требует ремонта</td>\n      <td>Растаможен</td>\n      <td>1.234235e+07</td>\n      <td>15500000.0</td>\n    </tr>\n    <tr>\n      <th>...</th>\n      <td>...</td>\n      <td>...</td>\n      <td>...</td>\n      <td>...</td>\n      <td>...</td>\n      <td>...</td>\n      <td>...</td>\n      <td>...</td>\n      <td>...</td>\n      <td>...</td>\n      <td>...</td>\n      <td>...</td>\n      <td>...</td>\n      <td>...</td>\n      <td>...</td>\n      <td>...</td>\n      <td>...</td>\n      <td>...</td>\n      <td>...</td>\n      <td>...</td>\n      <td>...</td>\n    </tr>\n    <tr>\n      <th>9545</th>\n      <td>седан</td>\n      <td>MERCEDES</td>\n      <td>https://auto.ru/cars/used/sale/mercedes/s_klas...</td>\n      <td>синий</td>\n      <td>{'back-brake': 'Ventilated disc', 'feeding': '...</td>\n      <td>Хороший автомобиль без нареканий требует мелки...</td>\n      <td>6.0 л</td>\n      <td>394 л.с.</td>\n      <td>{}</td>\n      <td>Бензин</td>\n      <td>...</td>\n      <td>NaN</td>\n      <td>1 владелец</td>\n      <td>NaN</td>\n      <td>Оригинал</td>\n      <td>задний</td>\n      <td>Левый</td>\n      <td>Не требует ремонта</td>\n      <td>Растаможен</td>\n      <td>3.025866e+05</td>\n      <td>380000.0</td>\n    </tr>\n    <tr>\n      <th>9546</th>\n      <td>седан</td>\n      <td>MERCEDES</td>\n      <td>https://auto.ru/cars/used/sale/mercedes/s_klas...</td>\n      <td>синий</td>\n      <td>{'back-brake': 'Disc', 'feeding': 'None', 'ful...</td>\n      <td>Нормальное состояние по кузову есть не критичн...</td>\n      <td>3.2 л</td>\n      <td>224 л.с.</td>\n      <td>{}</td>\n      <td>Бензин</td>\n      <td>...</td>\n      <td>NaN</td>\n      <td>3 или более</td>\n      <td>NaN</td>\n      <td>Дубликат</td>\n      <td>задний</td>\n      <td>Левый</td>\n      <td>Не требует ремонта</td>\n      <td>Растаможен</td>\n      <td>2.946238e+05</td>\n      <td>370000.0</td>\n    </tr>\n    <tr>\n      <th>9547</th>\n      <td>седан</td>\n      <td>MERCEDES</td>\n      <td>https://auto.ru/cars/used/sale/mercedes/s_klas...</td>\n      <td>чёрный</td>\n      <td>{'back-brake': 'Disc', 'feeding': 'None', 'ful...</td>\n      <td>Авто без проблемм Не шпаклеванный не из кусков...</td>\n      <td>4.3 л</td>\n      <td>279 л.с.</td>\n      <td>{'cruise-control': True, 'engine-proof': True,...</td>\n      <td>Бензин</td>\n      <td>...</td>\n      <td>NaN</td>\n      <td>3 или более</td>\n      <td>NaN</td>\n      <td>Оригинал</td>\n      <td>задний</td>\n      <td>Левый</td>\n      <td>Не требует ремонта</td>\n      <td>Растаможен</td>\n      <td>2.910843e+05</td>\n      <td>365555.0</td>\n    </tr>\n    <tr>\n      <th>9548</th>\n      <td>седан</td>\n      <td>MERCEDES</td>\n      <td>https://auto.ru/cars/used/sale/mercedes/s_klas...</td>\n      <td>серый</td>\n      <td>{'back-brake': 'Ventilated disc', 'feeding': '...</td>\n      <td>ЗАВОДСКАЯ БРОНЕКАПСУЛА Богатая комплектация Ра...</td>\n      <td>5.0 л</td>\n      <td>320 л.с.</td>\n      <td>{}</td>\n      <td>Бензин</td>\n      <td>...</td>\n      <td>NaN</td>\n      <td>3 или более</td>\n      <td>NaN</td>\n      <td>Дубликат</td>\n      <td>задний</td>\n      <td>Левый</td>\n      <td>Не требует ремонта</td>\n      <td>Растаможен</td>\n      <td>2.906424e+05</td>\n      <td>365000.0</td>\n    </tr>\n    <tr>\n      <th>9549</th>\n      <td>седан</td>\n      <td>MERCEDES</td>\n      <td>https://auto.ru/cars/used/sale/mercedes/s_klas...</td>\n      <td>синий</td>\n      <td>{'back-brake': 'Ventilated disc', 'feeding': '...</td>\n      <td>Автомобиль полностью на ходу стоит в гараже По...</td>\n      <td>4.3 л</td>\n      <td>279 л.с.</td>\n      <td>{'cruise-control': True, 'tinted-glass': True,...</td>\n      <td>Бензин</td>\n      <td>...</td>\n      <td>NaN</td>\n      <td>3 или более</td>\n      <td>NaN</td>\n      <td>Дубликат</td>\n      <td>задний</td>\n      <td>Левый</td>\n      <td>Не требует ремонта</td>\n      <td>Растаможен</td>\n      <td>2.786981e+05</td>\n      <td>350000.0</td>\n    </tr>\n  </tbody>\n</table>\n<p>1743 rows × 34 columns</p>\n</div>"
     },
     "execution_count": 32,
     "metadata": {},
     "output_type": "execute_result"
    }
   ],
   "source": [
    "train[train.model_name == 'S-КЛАСС']"
   ],
   "metadata": {
    "collapsed": false,
    "pycharm": {
     "name": "#%%\n"
    }
   }
  },
  {
   "cell_type": "code",
   "execution_count": 33,
   "outputs": [
    {
     "data": {
      "text/plain": "      bodyType     brand                                            car_url  \\\n15416    седан  MERCEDES  https://auto.ru/cars/used/sale/mercedes/s_klas...   \n15449    седан  MERCEDES  https://auto.ru/cars/used/sale/mercedes/s_klas...   \n15453    седан  MERCEDES  https://auto.ru/cars/used/sale/mercedes/s_klas...   \n15492    седан  MERCEDES  https://auto.ru/cars/used/sale/mercedes/s_klas...   \n15497    седан  MERCEDES  https://auto.ru/cars/used/sale/mercedes/s_klas...   \n...        ...       ...                                                ...   \n34214    седан  MERCEDES  https://auto.ru/cars/used/sale/mercedes/s_klas...   \n34226    седан  MERCEDES  https://auto.ru/cars/used/sale/mercedes/s_klas...   \n34239    седан  MERCEDES  https://auto.ru/cars/used/sale/mercedes/s_klas...   \n34241    седан  MERCEDES  https://auto.ru/cars/used/sale/mercedes/s_klas...   \n34246    седан  MERCEDES  https://auto.ru/cars/used/sale/mercedes/s_klas...   \n\n        color                                 complectation_dict  \\\n15416   синий                                                NaN   \n15449  чёрный                                                NaN   \n15453  чёрный                                                NaN   \n15492  чёрный  {\"id\":\"21016733\",\"name\":\"S 450 4MATIC\",\"availa...   \n15497  чёрный                                                NaN   \n...       ...                                                ...   \n34214  чёрный                                                NaN   \n34226  чёрный                                                NaN   \n34239  чёрный                                                NaN   \n34241  чёрный                                                NaN   \n34246  чёрный                                                NaN   \n\n                                             description engineDisplacement  \\\n15416  Позвоните нам и получите дополнительную скидку...            5.5 LTR   \n15449  В ДТП не участвовала.\\n\\n。Подушка безопасности...            4.7 LTR   \n15453  ЛОТ: 01200668\\nFAVORIT MOTORS KIA Юг\\n\\nВы мож...            3.0 LTR   \n15492  МБ-Беляево — официальный дилер «Мерседес-Бенц»...            3.0 LTR   \n15497  Автодилер года 2020\\n\\nПобедитель в номинации ...            4.7 LTR   \n...                                                  ...                ...   \n34214  Автомобиль в отличном состоянии.Обслуживался в...            5.0 LTR   \n34226  Автомобиль Приобретался у официального дилера ...            4.0 LTR   \n34239  Продаётся легендарный S500 короткая база, полн...            5.0 LTR   \n34241  Автомобиль продается официальным дилером Автом...            3.0 LTR   \n34246                              Цена до 30 октября !             2.8 LTR   \n\n      enginePower                                     equipment_dict fuelType  \\\n15416     388 N12  {\"electro-window-back\":true,\"alloy-wheel-disks...   бензин   \n15449     435 N12  {\"cruise-control\":true,\"asr\":true,\"tinted-glas...   бензин   \n15453     235 N12  {\"asr\":true,\"tinted-glass\":true,\"esp\":true,\"ad...   дизель   \n15492     367 N12  {\"cruise-control\":true,\"roller-blind-for-rear-...   бензин   \n15497     435 N12  {\"cruise-control\":true,\"airbag-rear-side\":true...   бензин   \n...           ...                                                ...      ...   \n34214     306 N12                                                NaN   бензин   \n34226     469 N12                                                NaN   бензин   \n34239     306 N12                                                NaN   бензин   \n34241     235 N12  {\"cruise-control\":true,\"asr\":true,\"tinted-glas...   дизель   \n34246     193 N12  {\"cruise-control\":true,\"roller-blind-for-rear-...   бензин   \n\n       ... vehicleConfiguration  vehicleTransmission    vendor    Владельцы  \\\n15416  ...  SEDAN AUTOMATIC 5.5       автоматическая  EUROPEAN  2 владельца   \n15449  ...  SEDAN AUTOMATIC 4.7       автоматическая  EUROPEAN  3 или более   \n15453  ...  SEDAN AUTOMATIC 3.0       автоматическая  EUROPEAN  3 или более   \n15492  ...  SEDAN AUTOMATIC 3.0       автоматическая  EUROPEAN   1 владелец   \n15497  ...  SEDAN AUTOMATIC 4.7       автоматическая  EUROPEAN  3 или более   \n...    ...                  ...                  ...       ...          ...   \n34214  ...  SEDAN AUTOMATIC 5.0       автоматическая  EUROPEAN  2 владельца   \n34226  ...  SEDAN AUTOMATIC 4.0       автоматическая  EUROPEAN  2 владельца   \n34239  ...  SEDAN AUTOMATIC 5.0       автоматическая  EUROPEAN  2 владельца   \n34241  ...  SEDAN AUTOMATIC 3.0       автоматическая  EUROPEAN  3 или более   \n34246  ...  SEDAN AUTOMATIC 2.8       автоматическая  EUROPEAN  3 или более   \n\n      Владение       ПТС  Привод   Руль           Состояние     Таможня  \n15416      NaN  Оригинал  полный  Левый  Не требует ремонта  Растаможен  \n15449      NaN  Оригинал  полный  Левый  Не требует ремонта  Растаможен  \n15453      NaN  Оригинал  полный  Левый  Не требует ремонта  Растаможен  \n15492      NaN  Оригинал  полный  Левый  Не требует ремонта  Растаможен  \n15497      NaN  Оригинал  полный  Левый  Не требует ремонта  Растаможен  \n...        ...       ...     ...    ...                 ...         ...  \n34214      NaN  Оригинал  полный  Левый  Не требует ремонта  Растаможен  \n34226      NaN  Оригинал  полный  Левый  Не требует ремонта  Растаможен  \n34239      NaN  Оригинал  полный  Левый  Не требует ремонта  Растаможен  \n34241      NaN  Оригинал  полный  Левый  Не требует ремонта  Растаможен  \n34246      NaN  Дубликат  задний  Левый  Не требует ремонта  Растаможен  \n\n[549 rows x 32 columns]",
      "text/html": "<div>\n<style scoped>\n    .dataframe tbody tr th:only-of-type {\n        vertical-align: middle;\n    }\n\n    .dataframe tbody tr th {\n        vertical-align: top;\n    }\n\n    .dataframe thead th {\n        text-align: right;\n    }\n</style>\n<table border=\"1\" class=\"dataframe\">\n  <thead>\n    <tr style=\"text-align: right;\">\n      <th></th>\n      <th>bodyType</th>\n      <th>brand</th>\n      <th>car_url</th>\n      <th>color</th>\n      <th>complectation_dict</th>\n      <th>description</th>\n      <th>engineDisplacement</th>\n      <th>enginePower</th>\n      <th>equipment_dict</th>\n      <th>fuelType</th>\n      <th>...</th>\n      <th>vehicleConfiguration</th>\n      <th>vehicleTransmission</th>\n      <th>vendor</th>\n      <th>Владельцы</th>\n      <th>Владение</th>\n      <th>ПТС</th>\n      <th>Привод</th>\n      <th>Руль</th>\n      <th>Состояние</th>\n      <th>Таможня</th>\n    </tr>\n  </thead>\n  <tbody>\n    <tr>\n      <th>15416</th>\n      <td>седан</td>\n      <td>MERCEDES</td>\n      <td>https://auto.ru/cars/used/sale/mercedes/s_klas...</td>\n      <td>синий</td>\n      <td>NaN</td>\n      <td>Позвоните нам и получите дополнительную скидку...</td>\n      <td>5.5 LTR</td>\n      <td>388 N12</td>\n      <td>{\"electro-window-back\":true,\"alloy-wheel-disks...</td>\n      <td>бензин</td>\n      <td>...</td>\n      <td>SEDAN AUTOMATIC 5.5</td>\n      <td>автоматическая</td>\n      <td>EUROPEAN</td>\n      <td>2 владельца</td>\n      <td>NaN</td>\n      <td>Оригинал</td>\n      <td>полный</td>\n      <td>Левый</td>\n      <td>Не требует ремонта</td>\n      <td>Растаможен</td>\n    </tr>\n    <tr>\n      <th>15449</th>\n      <td>седан</td>\n      <td>MERCEDES</td>\n      <td>https://auto.ru/cars/used/sale/mercedes/s_klas...</td>\n      <td>чёрный</td>\n      <td>NaN</td>\n      <td>В ДТП не участвовала.\\n\\n。Подушка безопасности...</td>\n      <td>4.7 LTR</td>\n      <td>435 N12</td>\n      <td>{\"cruise-control\":true,\"asr\":true,\"tinted-glas...</td>\n      <td>бензин</td>\n      <td>...</td>\n      <td>SEDAN AUTOMATIC 4.7</td>\n      <td>автоматическая</td>\n      <td>EUROPEAN</td>\n      <td>3 или более</td>\n      <td>NaN</td>\n      <td>Оригинал</td>\n      <td>полный</td>\n      <td>Левый</td>\n      <td>Не требует ремонта</td>\n      <td>Растаможен</td>\n    </tr>\n    <tr>\n      <th>15453</th>\n      <td>седан</td>\n      <td>MERCEDES</td>\n      <td>https://auto.ru/cars/used/sale/mercedes/s_klas...</td>\n      <td>чёрный</td>\n      <td>NaN</td>\n      <td>ЛОТ: 01200668\\nFAVORIT MOTORS KIA Юг\\n\\nВы мож...</td>\n      <td>3.0 LTR</td>\n      <td>235 N12</td>\n      <td>{\"asr\":true,\"tinted-glass\":true,\"esp\":true,\"ad...</td>\n      <td>дизель</td>\n      <td>...</td>\n      <td>SEDAN AUTOMATIC 3.0</td>\n      <td>автоматическая</td>\n      <td>EUROPEAN</td>\n      <td>3 или более</td>\n      <td>NaN</td>\n      <td>Оригинал</td>\n      <td>полный</td>\n      <td>Левый</td>\n      <td>Не требует ремонта</td>\n      <td>Растаможен</td>\n    </tr>\n    <tr>\n      <th>15492</th>\n      <td>седан</td>\n      <td>MERCEDES</td>\n      <td>https://auto.ru/cars/used/sale/mercedes/s_klas...</td>\n      <td>чёрный</td>\n      <td>{\"id\":\"21016733\",\"name\":\"S 450 4MATIC\",\"availa...</td>\n      <td>МБ-Беляево — официальный дилер «Мерседес-Бенц»...</td>\n      <td>3.0 LTR</td>\n      <td>367 N12</td>\n      <td>{\"cruise-control\":true,\"roller-blind-for-rear-...</td>\n      <td>бензин</td>\n      <td>...</td>\n      <td>SEDAN AUTOMATIC 3.0</td>\n      <td>автоматическая</td>\n      <td>EUROPEAN</td>\n      <td>1 владелец</td>\n      <td>NaN</td>\n      <td>Оригинал</td>\n      <td>полный</td>\n      <td>Левый</td>\n      <td>Не требует ремонта</td>\n      <td>Растаможен</td>\n    </tr>\n    <tr>\n      <th>15497</th>\n      <td>седан</td>\n      <td>MERCEDES</td>\n      <td>https://auto.ru/cars/used/sale/mercedes/s_klas...</td>\n      <td>чёрный</td>\n      <td>NaN</td>\n      <td>Автодилер года 2020\\n\\nПобедитель в номинации ...</td>\n      <td>4.7 LTR</td>\n      <td>435 N12</td>\n      <td>{\"cruise-control\":true,\"airbag-rear-side\":true...</td>\n      <td>бензин</td>\n      <td>...</td>\n      <td>SEDAN AUTOMATIC 4.7</td>\n      <td>автоматическая</td>\n      <td>EUROPEAN</td>\n      <td>3 или более</td>\n      <td>NaN</td>\n      <td>Оригинал</td>\n      <td>полный</td>\n      <td>Левый</td>\n      <td>Не требует ремонта</td>\n      <td>Растаможен</td>\n    </tr>\n    <tr>\n      <th>...</th>\n      <td>...</td>\n      <td>...</td>\n      <td>...</td>\n      <td>...</td>\n      <td>...</td>\n      <td>...</td>\n      <td>...</td>\n      <td>...</td>\n      <td>...</td>\n      <td>...</td>\n      <td>...</td>\n      <td>...</td>\n      <td>...</td>\n      <td>...</td>\n      <td>...</td>\n      <td>...</td>\n      <td>...</td>\n      <td>...</td>\n      <td>...</td>\n      <td>...</td>\n      <td>...</td>\n    </tr>\n    <tr>\n      <th>34214</th>\n      <td>седан</td>\n      <td>MERCEDES</td>\n      <td>https://auto.ru/cars/used/sale/mercedes/s_klas...</td>\n      <td>чёрный</td>\n      <td>NaN</td>\n      <td>Автомобиль в отличном состоянии.Обслуживался в...</td>\n      <td>5.0 LTR</td>\n      <td>306 N12</td>\n      <td>NaN</td>\n      <td>бензин</td>\n      <td>...</td>\n      <td>SEDAN AUTOMATIC 5.0</td>\n      <td>автоматическая</td>\n      <td>EUROPEAN</td>\n      <td>2 владельца</td>\n      <td>NaN</td>\n      <td>Оригинал</td>\n      <td>полный</td>\n      <td>Левый</td>\n      <td>Не требует ремонта</td>\n      <td>Растаможен</td>\n    </tr>\n    <tr>\n      <th>34226</th>\n      <td>седан</td>\n      <td>MERCEDES</td>\n      <td>https://auto.ru/cars/used/sale/mercedes/s_klas...</td>\n      <td>чёрный</td>\n      <td>NaN</td>\n      <td>Автомобиль Приобретался у официального дилера ...</td>\n      <td>4.0 LTR</td>\n      <td>469 N12</td>\n      <td>NaN</td>\n      <td>бензин</td>\n      <td>...</td>\n      <td>SEDAN AUTOMATIC 4.0</td>\n      <td>автоматическая</td>\n      <td>EUROPEAN</td>\n      <td>2 владельца</td>\n      <td>NaN</td>\n      <td>Оригинал</td>\n      <td>полный</td>\n      <td>Левый</td>\n      <td>Не требует ремонта</td>\n      <td>Растаможен</td>\n    </tr>\n    <tr>\n      <th>34239</th>\n      <td>седан</td>\n      <td>MERCEDES</td>\n      <td>https://auto.ru/cars/used/sale/mercedes/s_klas...</td>\n      <td>чёрный</td>\n      <td>NaN</td>\n      <td>Продаётся легендарный S500 короткая база, полн...</td>\n      <td>5.0 LTR</td>\n      <td>306 N12</td>\n      <td>NaN</td>\n      <td>бензин</td>\n      <td>...</td>\n      <td>SEDAN AUTOMATIC 5.0</td>\n      <td>автоматическая</td>\n      <td>EUROPEAN</td>\n      <td>2 владельца</td>\n      <td>NaN</td>\n      <td>Оригинал</td>\n      <td>полный</td>\n      <td>Левый</td>\n      <td>Не требует ремонта</td>\n      <td>Растаможен</td>\n    </tr>\n    <tr>\n      <th>34241</th>\n      <td>седан</td>\n      <td>MERCEDES</td>\n      <td>https://auto.ru/cars/used/sale/mercedes/s_klas...</td>\n      <td>чёрный</td>\n      <td>NaN</td>\n      <td>Автомобиль продается официальным дилером Автом...</td>\n      <td>3.0 LTR</td>\n      <td>235 N12</td>\n      <td>{\"cruise-control\":true,\"asr\":true,\"tinted-glas...</td>\n      <td>дизель</td>\n      <td>...</td>\n      <td>SEDAN AUTOMATIC 3.0</td>\n      <td>автоматическая</td>\n      <td>EUROPEAN</td>\n      <td>3 или более</td>\n      <td>NaN</td>\n      <td>Оригинал</td>\n      <td>полный</td>\n      <td>Левый</td>\n      <td>Не требует ремонта</td>\n      <td>Растаможен</td>\n    </tr>\n    <tr>\n      <th>34246</th>\n      <td>седан</td>\n      <td>MERCEDES</td>\n      <td>https://auto.ru/cars/used/sale/mercedes/s_klas...</td>\n      <td>чёрный</td>\n      <td>NaN</td>\n      <td>Цена до 30 октября !</td>\n      <td>2.8 LTR</td>\n      <td>193 N12</td>\n      <td>{\"cruise-control\":true,\"roller-blind-for-rear-...</td>\n      <td>бензин</td>\n      <td>...</td>\n      <td>SEDAN AUTOMATIC 2.8</td>\n      <td>автоматическая</td>\n      <td>EUROPEAN</td>\n      <td>3 или более</td>\n      <td>NaN</td>\n      <td>Дубликат</td>\n      <td>задний</td>\n      <td>Левый</td>\n      <td>Не требует ремонта</td>\n      <td>Растаможен</td>\n    </tr>\n  </tbody>\n</table>\n<p>549 rows × 32 columns</p>\n</div>"
     },
     "execution_count": 33,
     "metadata": {},
     "output_type": "execute_result"
    }
   ],
   "source": [
    "test[test.model_name == 'S_KLASSE']"
   ],
   "metadata": {
    "collapsed": false,
    "pycharm": {
     "name": "#%%\n"
    }
   }
  },
  {
   "cell_type": "code",
   "execution_count": 34,
   "outputs": [
    {
     "name": "stdout",
     "output_type": "stream",
     "text": [
      "Statistics of items in vector: model_name.\n",
      " ---------------------------\n",
      "Train has 532 unique items and has difference: {'CR-X', 'CL-КЛАСС', 'N-WGN', 'COROLLA II', 'CL-КЛАСС AMG', 'SL-КЛАСС AMG', 'PAJERO IO', 'LANCER RALLIART', 'GLS AMG', 'POLO GTI', 'SL-КЛАСС', 'GRAND HIACE', 'RS 3', 'DELICA D:5', 'Z3 M', 'FR-V', 'M-КЛАСС AMG', 'S60 CROSS COUNTRY', 'CLK-КЛАСС', 'PAJERO MINI', 'CIVIC TYPE R', 'TYPE 1', 'CORONA EXIV', '4 СЕРИИ', 'A-КЛАСС AMG', 'E-TRON', 'GLC COUPE', 'MAYBACH GLS', 'GOLF R', 'GLS', 'NAVARA (FRONTIER)', '3 СЕРИИ', '8 СЕРИИ', '5 СЕРИИ', 'RS Q3', 'GT-R', 'MOBILIO SPIKE', 'MR-S', '190 (W201)', 'RAV4', 'SPRINTER TRUENO', 'CLA', 'X4 M', 'FAIRLADY Z', 'WILL CYPHA', 'QASHQAI+2', 'TT RS', '6 СЕРИИ', 'GLE COUPE', 'GLE COUPE AMG', 'SCEPTER', 'TOWN ACE', 'VERSO-S', 'TERRANO REGULUS', 'CLC-КЛАСС', 'MASTERACE SURF', '240 SERIES', 'COROLLA SPACIO', 'GLE AMG', 'LANCER EVOLUTION', 'S-КЛАСС AMG', 'COROLLA LEVIN', 'E-КЛАСС AMG', 'CLA AMG', 'C-КЛАСС', 'N-BOX', 'CLS', '7 СЕРИИ', 'JUKE NISMO', 'LAND CRUISER', 'A-КЛАСС', '2 СЕРИИ ACTIVE TOURER', 'GLA AMG', 'CROWN MAJESTA', 'RS 7', 'CARINA E', 'RS 5', 'PASSAT CC', 'X5 M', 'X-TRAIL', 'G-КЛАСС AMG', 'GLE', 'GLC AMG', 'SPACE WAGON', 'X-КЛАСС', 'S-КЛАСС', 'MARK X', 'E-КЛАСС', 'CARINA ED', 'SPACE GEAR', '1 СЕРИИ', 'V60 CROSS COUNTRY', 'GLC COUPE AMG', 'SPACE STAR', '1M', 'MONTERO SPORT', 'CR-Z', 'PAJERO PININ', 'DELICA D:2', '02 (E10)', 'MARK II', 'C-HR', 'ALMERA CLASSIC', 'SPRINTER MARINO', '190 SL', 'OCTAVIA RS', 'MARK X ZIO', 'B-КЛАСС', 'NV100 CLIPPER', 'V-КЛАСС', 'GOLF PLUS', 'MAYBACH S-КЛАСС', 'HR-V', 'COROLLA VERSO', 'ECLIPSE CROSS', 'A6 ALLROAD', '2 СЕРИИ', 'CAMRY SOLARA', 'R-КЛАСС', \"R'NESSA\", 'GLK-КЛАСС', 'X6 M', 'SPRINTER CARIB', 'X3 M', 'STEPWGN', 'SLR MCLAREN', 'EK WAGON', '2 СЕРИИ GRAN TOURER', 'RS 4', 'AMG GT', 'GL-КЛАСС', 'GOLF GTI', 'DAYZ ROOX', 'ODYSSEY (NORTH AMERICA)', 'LITE ACE', 'PRIUS ALPHA', 'GLA', 'G', 'FJ CRUISER', 'SLK-КЛАСС', 'PRIUS V (+)', 'GLB', 'A4 ALLROAD', 'COROLLA RUMION', 'GL-КЛАСС AMG', 'PAJERO SPORT', 'V90 CROSS COUNTRY', 'RS 6', 'V40 CROSS COUNTRY', 'GLC', 'BLUEBIRD SYLPHY', 'YARIS VERSO', 'CLS AMG', 'LAND CRUISER PRADO', 'SLS AMG', 'MEGA CRUISER', 'SPACE RUNNER', 'CIVIC FERIO', 'SLC', 'CR-V', 'G-КЛАСС', 'CARAVAN', 'AVENSIS VERSO', 'ALMERA TINO', 'HILUX SURF', 'C-КЛАСС AMG', 'M-КЛАСС', 'I-MIEV', 'FABIA RS'},\n",
      "--\n",
      "Test has 544 unique items and has difference: {'6ER', 'RS3', 'SIMPLEX', '240_SERIES', 'SCEPTER_SEDAN', 'N_BOX', 'GLE_KLASSE_AMG', 'PAJERO_PININ', 'FR_V', 'SLS_AMG', 'CLS_KLASSE_AMG', 'CLC_KLASSE', 'A_KLASSE_AMG', 'E3', 'MONTERO_SPORT', 'CLK_KLASSE', 'M1', 'DELICA_D2', 'LANCER_RALLIART', 'CAMRY_SOLARA', 'ALLROAD', 'QASHQAI_PLUS_2', 'HR_V', 'CR_V', 'CIVIC_FERIO', 'YARIS_VERSO', 'CLIPPER', 'FABIA_RS', 'GRAND_HIACE', 'X_TRAIL', 'C_HR', 'E_KLASSE', 'C_KLASSE', 'MEGA_CRUISER', 'GLK_KLASSE', 'CR_X', 'CR_Z', 'MOBILIO_SPIKE', 'B_KLASSE', 'CROWN_MAJESTA', 'M_KLASSE', 'TYPE_1', 'SLK_KLASSE', 'G_KLASSE', 'SPRINTER_CARIB', 'EK_WAGON', '190_SL', 'SPACE_WAGON', '280ZX', 'X4_M', 'ODYSSEY_NA', 'CLA_KLASSE', 'ALMERA_TINO', 'ECLIPSE_CROSS', 'POLO_GTI', 'DAYZ_ROOX', 'SPACE_RUNNER', 'Z3M', 'LAND_CRUISER_PRADO', 'A4_ALLROAD', 'CLA_KLASSE_AMG', 'GT_R', '5ER', 'X_KLASSE', 'GL_KLASSE', 'TOWN_ACE', 'V60_CROSS_COUNTRY', 'GOLF_PLUS', 'MARK_II', '02', 'CARAVAN_COACH', 'X6_M', 'CORONA_EXIV', 'GLA_CLASS', '140', 'X3_M', 'PAJERO_IO', '100_SERIES', 'PRIUS_ALPHA', 'GLS_KLASSE', 'VERSO_S', '7ER', '120', 'NAVARA', 'AMG_GLC_COUPE', 'RSQ3', 'AVENSIS_VERSO', 'CARINA_E', 'GL_KLASSE_AMG', 'AMG_GT', 'RS4', 'RAV_4', 'GLE_KLASSE_COUPE', 'DELICA_D_5', '2ER', 'GLE_KLASSE_COUPE_AMG', 'S_KLASSE', 'CL_KLASSE', 'G35', 'SLR_KLASSE', 'I', 'COROLLA_SPACIO', '2ACTIVETOURER', 'M_KLASSE_AMG', 'FJ_CRUISER', 'V40_CC', 'LAND_CRUISER', 'SERA', 'SLC_KLASSE', 'CL_KLASSE_AMG', 'CIVIC_TYPE_R', 'LM', 'S_CLASS_MAYBACH', 'FAIRLADY_Z', 'G_KLASSE_AMG', 'E_TRON', 'V_KLASSE', 'HILUX_SURF', 'SPACE_GEAR', 'GLS_KLASSE_AMG', 'SL_KLASSE_AMG', 'PRIUSPLUS', 'LITE_ACE', 'TERRANO_REGULUS', 'S60_CROSS_COUNTRY', 'COROLLA_VERSO', 'SL_KLASSE', 'SPRINTER_TRUENO', 'CARINA_ED', 'E_KLASSE_AMG', 'I_MIEV', '1ER', '3ER', 'GOLF_R', 'JUKE_NISMO', 'LANCER_EVOLUTION', 'MASTER_ACE_SURF', 'GLE_KLASSE', 'RNESSA', 'X5_M', 'GLC_COUPE', 'TT_RS', 'PASSAT_CC', 'RS6', 'RS5', 'N_WGN', 'SPACE_STAR', '8ER', 'S_KLASSE_AMG', 'ORIGIN', 'ALMERA_CLASSIC', 'OCTAVIA_RS', 'GLA_CLASS_AMG', '4', 'CLS_KLASSE', 'PAJERO_MINI', 'GOLF_GTI', 'V90_CROSS_COUNTRY', 'BLUEBIRD_SYLPHY', 'W201', 'WILL_CYPHA', 'SPRINTER_MARINO', 'GLC_KLASSE_AMG', '2GRANDTOURER', 'MAYBACH_GLS', 'A_KLASSE', 'MARK_X', 'C_KLASSE_AMG', 'RS7', 'GLB_KLASSE', 'POPULAR', 'GLC_KLASSE', 'COROLLA_LEVIN', 'R_KLASSE', 'MR_S', 'COROLLA_II', 'MARK_X_ZIO', 'PAJERO_SPORT', 'GOLF_R32', 'COROLLA_RUMION', 'STEPWAGON'}.\n",
      "{'RS3', '6ER', 'LOGO', 'SIMPLEX', 'SPADE', 'RVR', 'SC', 'PAJERO_PININ', 'ALTIMA', 'FR_V', 'W124', 'SLS_AMG', 'MONTERO_SPORT', 'W188', 'SHARAN', 'MURANO', 'S4', 'V60', 'YARIS_VERSO', 'OUTLANDER', 'S80', 'JAZZ', 'MICRA', 'VITO', 'NV200', '190_SL', 'SUPRA', 'PRESEA', 'ATLAS', 'ODYSSEY_NA', 'SUPERB', 'POLO_GTI', 'DAYZ_ROOX', 'VIGOR', 'Q3', 'XC60', 'QX50', 'X_KLASSE', 'GL_KLASSE', 'VOXY', 'Q7', 'MARK_II', '100NX', '140', 'V70', 'X3_M', 'S90', 'Z1', 'AIRTREK', 'MR2', 'AVALON', 'VISTA', 'RS4', 'RAV_4', 'M4', 'ARTEON', 'COLT', 'DELICA_D_5', 'S_KLASSE', 'S5', 'ECLIPSE', '2ACTIVETOURER', 'VELLFIRE', 'CELICA', 'Z', 'AQUA', 'SERA', 'NP300', '80', 'CL_KLASSE_AMG', 'ASPIRE', 'SPRINTER', 'S_CLASS_MAYBACH', 'SPARKY', 'ALMERA', 'JETTA', 'V_KLASSE', 'VITZ', 'DELICA', 'HILUX_SURF', 'KODIAQ', 'SPACE_GEAR', 'C70', 'GLS_KLASSE_AMG', 'LITE_ACE', 'ARMADA', 'DIAMANTE', 'TERRANO_REGULUS', 'S60_CROSS_COUNTRY', 'E_KLASSE_AMG', 'V8', 'W123', 'EOS', 'Q70', 'GOLF_R', 'LAFESTA', 'GLE_KLASSE', 'RS5', 'N_WGN', 'MINICAB', 'VENZA', 'LAUREL', 'X2', 'ALMERA_CLASSIC', 'XC90', '4', 'ELGRAND', 'R8', 'LEGNUM', 'GLC_KLASSE_AMG', 'RIDGELINE', 'LANCER', 'A_KLASSE', 'PARTNER', 'IPSUM', 'FABIA', '4RUNNER', 'CARAVELLE', 'ELYSION', 'SUNNY', 'NOAH', 'COROLLA_II', 'AVENIR', 'CYNOS', 'MARK_X_ZIO', 'NADIA', 'QX4', 'QX80', 'QX56', 'CLS_KLASSE_AMG', 'JX', 'DELICA_D2', 'RC', 'CAMRY_SOLARA', 'ALLROAD', 'QASHQAI_PLUS_2', 'RX', 'A7', 'CIVIC_FERIO', 'PAJERO', 'CLIPPER', 'Z4', 'LARGO', 'PORTE', 'X_TRAIL', 'GOLF', 'E_KLASSE', 'C_KLASSE', 'MEGA_CRUISER', 'MOBILIO_SPIKE', 'B_KLASSE', 'MAXIMA', 'ALPHARD', '960', 'TYPE_1', 'SPRINTER_CARIB', 'FORTUNER', 'DINGO', 'EK_WAGON', 'CIVIC', 'INTEGRA', 'X4_M', 'CLA_KLASSE', 'CEDRIC', 'QX60', 'FELICIA', 'SQ5', 'BEETLE', 'V60_CROSS_COUNTRY', 'GX', 'HS', 'GOLF_PLUS', 'COROLLA', '02', 'LS', 'PASSAT', 'CORONA_EXIV', '100_SERIES', 'GAIA', '120', 'NAVARA', 'S40', 'AMG_GT', 'Q50', 'S7', 'STREAM', 'HARRIER', 'CONCERTO', 'WILL', 'V40_CC', 'M2', 'DAYZ', 'TIGUAN', 'FUGA', 'I8', 'SLC_KLASSE', 'PULSAR', 'ORTHIA', 'QUEST', 'FAIRLADY_Z', 'AYGO', 'Z3', 'E_TRON', 'CORONA', '90', 'SL_KLASSE_AMG', 'TIIDA', 'Q', 'CEFIRO', 'VANETTE', 'PRESIDENT', 'COUPE', 'I_MIEV', 'VIANO', 'IS', 'TOURAN', 'EX', '3ER', 'CRESTA', 'JUKE_NISMO', 'RNESSA', 'IQ', 'PASSAT_CC', 'PASSO', 'ZEST', 'Q30', 'FREED', 'GLA_CLASS_AMG', 'MATRIX', 'RACTIS', 'S8', 'GT86', 'RAUM', 'TARO', 'ASCOT', 'BLUEBIRD_SYLPHY', 'WILL_CYPHA', 'PRIMERA', 'DUET', '340', 'SAFARI', 'S2000', 'TINO', 'AD', 'C_KLASSE_AMG', 'VENTO', 'GLB_KLASSE', 'HIACE', 'COROLLA_LEVIN', 'BASSARA', 'SCIROCCO', 'QX70', 'SIENTA', 'ACCORD', 'STEPWAGON', 'FUNCARGO', '240_SERIES', 'X4', 'SCEPTER_SEDAN', 'GLE_KLASSE_AMG', 'GRANDIS', 'CLC_KLASSE', 'ACTY', 'A_KLASSE_AMG', 'CHARIOT', '440', 'Q60', 'W111', 'WISH', 'POINTER', 'LEAF', 'ASX', 'HR_V', 'FABIA_RS', 'QX30', 'GRAND_HIACE', 'PROBOX', 'URVAN', 'GLK_KLASSE', 'CROWN', 'CR_X', 'S6', 'ALTEZZA', 'CROWN_MAJESTA', 'HIGHLANDER', 'M_KLASSE', 'CORRADO', 'ISIS', 'FOX', 'PREVIA', 'CAMI', 'EMERAUDE', '280ZX', 'YETI', 'LAND_CRUISER_PRADO', 'MONTERO', '321', 'GT_R', 'TRANSPORTER', 'TOWN_ACE', 'ALLEX', 'GLORIA', 'X6_M', 'VEROSSA', 'DATSUN', 'PRIUS_ALPHA', 'TTS', 'GLS_KLASSE', 'C30', '7ER', 'BB', 'A5', 'LUPO', 'MULTIVAN', 'CARINA_E', '100', 'YARIS', '760', 'PATHFINDER', '2ER', 'CL_KLASSE', 'I3', 'G35', 'SLR_KLASSE', 'COROLLA_SPACIO', 'FJ_CRUISER', 'UX', 'LAND_CRUISER', 'GRANVIA', 'AVENSIS', 'W136', 'ARISTO', 'RAFAGA', 'ELEMENT', 'LM', 'PLATZ', 'DOMANI', 'TERCEL', 'TOUAREG', 'AIRWAVE', 'RAPID', 'PILOT', 'L200', 'S3', 'Q8', 'COROLLA_VERSO', 'SPRINTER_TRUENO', 'SOARER', 'SHUTTLE', 'LIBERO', 'XC40', '850', '460', 'LANCER_EVOLUTION', 'M3', 'A8', 'X5_M', 'GLC_COUPE', 'A6', 'SPACE_STAR', 'TUNDRA', 'S_KLASSE_AMG', 'ORIGIN', 'SKYLINE', 'CITY', 'BLUEBIRD', 'WINDOM', 'CLS_KLASSE', '350Z', 'GOLF_GTI', 'CARISMA', 'W201', 'CARINA', 'SPRINTER_MARINO', '920', 'LEGEND', 'ECHO', 'SIENNA', 'MAYBACH_GLS', 'LIBERTY', 'VERSO', 'CORSA', 'CROSSTOUR', 'MARK_X', 'RS7', 'GLC_KLASSE', '326', 'GS', 'HILUX', 'MOBILIO', 'COROLLA_RUMION', '940', 'OCTAVIA', 'N_BOX', 'INSIGHT', 'W128', 'TEANA', 'E3', '740', 'AURIS', 'BORA', 'CLK_KLASSE', 'CALDINA', 'M1', 'LANCER_RALLIART', 'X5', 'PREMIO', 'IST', 'CR_V', 'V50', 'BLADE', 'MINICA', 'FX', 'KAROQ', 'C_HR', 'W186', 'CR_Z', 'A3', 'EXPERT', 'OTTI', 'NX', 'PRAIRIE', 'X7', 'SLK_KLASSE', 'G_KLASSE', 'LX', 'PATROL', '200', 'SPACE_WAGON', 'OPA', 'PASEO', 'ALMERA_TINO', 'ECLIPSE_CROSS', 'SPACE_RUNNER', 'SERENA', 'STARLET', 'Z3M', 'ESQUIRE', 'A4_ALLROAD', 'PRESAGE', 'CLA_KLASSE_AMG', 'PRELUDE', '5ER', 'MARCH', 'POLO', 'PROGRES', 'CARAVAN_COACH', 'FTO', 'L400', 'GLA_CLASS', 'CAMRY', 'PAJERO_IO', 'VERSO_S', 'M', 'AMG_GLC_COUPE', 'RSQ3', 'AVENSIS_VERSO', 'CADDY', 'GL_KLASSE_AMG', 'GLE_KLASSE_COUPE', 'X1', 'JUKE', '300ZX', 'GLE_KLASSE_COUPE_AMG', 'VANEO', 'CURREN', 'Q5', 'ES', 'I', 'X6', 'M_KLASSE_AMG', 'CALIFORNIA', 'CAVALIER', 'CHASER', 'NOTE', 'ROOMSTER', 'CIVIC_TYPE_R', 'SUCCEED', 'TT', 'A4', 'G_KLASSE_AMG', 'VANGUARD', 'A2', 'M5', 'TORNEO', 'GALANT', 'DION', 'PRIUSPLUS', 'CITAN', 'FAVORIT', 'SIGMA', 'S70', 'L300', '200SX', 'STAGEA', 'V40', 'ESTIMA', 'XC70', 'EUROVAN', 'KIX', 'SL_KLASSE', 'CT', 'INSPIRE', 'CARINA_ED', '1ER', 'ENDEAVOR', 'MASTER_ACE_SURF', 'TT_RS', 'RS6', '8ER', 'QASHQAI', 'REGIUS', 'OCTAVIA_RS', 'AMAROK', 'A1', 'X3', 'M6', 'PICNIC', 'PAJERO_MINI', 'VEZEL', 'V90_CROSS_COUNTRY', 'TERAMONT', 'MIRAGE', 'S60', 'PRIUS', 'CUBE', 'TERRANO', '2GRANDTOURER', 'SABER', 'CROSSROAD', 'AVANCIER', 'WINGROAD', 'PHAETON', 'POPULAR', 'ODYSSEY', 'W114', 'R_KLASSE', 'MR_S', 'PAJERO_SPORT', 'GOLF_R32', 'SEQUOIA', 'FIT', 'SENTRA', 'SILVIA'}\n"
     ]
    }
   ],
   "source": [
    "vector_items('model_name')"
   ],
   "metadata": {
    "collapsed": false,
    "pycharm": {
     "name": "#%%\n"
    }
   }
  },
  {
   "cell_type": "markdown",
   "source": [
    "Model name has different filling format. Example is above. I prefer to make equal names from urls, because they are didn't mutate in time, and delete model name from analise."
   ],
   "metadata": {
    "collapsed": false
   }
  },
  {
   "cell_type": "code",
   "execution_count": 35,
   "outputs": [],
   "source": [
    "# example: https://auto.ru/cars/used/sale/audi/a4/1106130217-e5fd99e4/\n",
    "# /audi/a4 - brand and model\n",
    "train['model'] = train.car_url.apply(lambda q: q.split('/')[7])\n",
    "test['model'] = test.car_url.apply(lambda q: q.split('/')[7])"
   ],
   "metadata": {
    "collapsed": false,
    "pycharm": {
     "name": "#%%\n"
    }
   }
  },
  {
   "cell_type": "code",
   "execution_count": 36,
   "outputs": [
    {
     "name": "stdout",
     "output_type": "stream",
     "text": [
      "Statistics of items in vector: model.\n",
      " ---------------------------\n",
      "Train has 532 unique items and has difference: set(),\n",
      "--\n",
      "Test has 544 unique items and has difference: {'120', 'lm', 'origin', 'golf_r32', '140', 'e3', '100_series', 'sera', 'popular', 'i', '280zx', 'simplex'}.\n",
      "{'nx', 'x6', 'allroad', 'mega_cruiser', 'q', 'golf_r32', 'v70', 'xc70', 'integra', 'wingroad', 'esquire', 'corona', 'ridgeline', 'cedric', 'karoq', 'mr2', 'popular', 'fr_v', 'torneo', 'rc', 'odyssey_na', 'tts', '8er', 'caddy', 'pajero_pinin', 'airwave', 'm3', '350z', 'silvia', 'gloria', 'tt_rs', 'grandis', 'galant', 'qx50', 'maybach_gls', 'supra', 'nv200', 'x2', 'caravelle', 'tt', 'q7', 'fortuner', 'tercel', '140', 'murano', 'm1', 'corsa', 'verso', 'mark_x_zio', 's7', 'delica', 'z', 'qashqai_plus_2', 'bassara', 'avancier', 'maxima', 'qx30', 'gt86', 'civic_type_r', 'jazz', 'odyssey', 'm6', 'x1', '80', 'golf_r', 'tiguan', 'master_ace_surf', 'succeed', 'sl_klasse', 'vigor', 'stream', 'progres', 'porte', 'm2', 'sprinter_marino', 'a3', 'president', 'cefiro', 'a6', 'q50', 'glb_klasse', 'corolla_verso', 'picnic', 'verossa', 's8', 'prius', 'sl_klasse_amg', 'chariot', 'gs', 'q5', 'sentra', 'lite_ace', 'jx', 'gle_klasse_coupe', 'platz', 'n_wgn', 'alphard', 'rs3', 's_class_maybach', 'minicab', 'lafesta', 'cavalier', 'tiida', 'r8', 'superb', 'w123', '4runner', 'stepwagon', 'v8', 'b_klasse', 'highlander', 'a8', 'saber', '4', 'dion', 'mobilio_spike', 'funcargo', 'rapid', 'g_klasse', 'golf', 'vito', 'e_klasse', 'gls_klasse', 'juke', 'aqua', 'corolla_levin', 'zest', '280zx', 'aristo', 'echo', '300zx', 'ad', 'type_1', 'i', 'e3', 'largo', 'rvr', 'crosstour', 'avenir', 'avalon', 'passo', 'vezel', 's6', 'tino', 'slc_klasse', 'x7', 'l200', 'm', 'gle_klasse_amg', 'g_klasse_amg', 'skyline', 'civic_ferio', 'chaser', 'rs5', 'passat_cc', 'altima', 'np300', 'delica_d2', 'previa', 'lancer_evolution', 'm_klasse', 'golf_plus', '960', 'touran', '100nx', 'primera', 'fuga', 'civic', 'e_tron', 'rav_4', 's80', 'will', 'crown_majesta', 'element', 'city', 'raum', 'sprinter_carib', 'avensis_verso', 'l400', '02', 'touareg', 'presage', 'n_box', 'scirocco', 'is', 'matrix', 'z1', '120', 'emeraude', 'gle_klasse', 'shuttle', 'q3', 'x5_m', 's4', 'iq', 'ist', 'sigma', 'x4_m', 'asx', 'allex', 'space_star', 'mirage', 'fabia_rs', 'soarer', 'beetle', 'lupo', 'a1', 'sprinter', '90', 'prelude', '200sx', 'bluebird', 'rnessa', 'almera_tino', 'v60_cross_country', '6er', 'w186', 'inspire', '5er', 'insight', 'windom', 'q70', 'slr_klasse', 'yaris', 'r_klasse', '7er', 'domani', 'c_klasse_amg', 'wish', 'datsun', 'ux', 'cami', 'w124', 'sunny', 'probox', 'rs7', 'corrado', 'teana', 'e_klasse_amg', 'orthia', 'corolla', '2grandtourer', 'note', 'qx80', 'x3', 'rx', 'harrier', 'sc', 'town_ace', 'expert', 'caldina', '340', 'leaf', 'corolla_rumion', 'q30', 'rafaga', 'w136', 'a4_allroad', 'delica_d_5', 'sls_amg', 'gl_klasse', 'space_runner', 'citan', 'diamante', 'w188', 'sequoia', 'acty', 'minica', 'coupe', 'golf_gti', 'a5', 'x6_m', 'cla_klasse', 'crown', '3er', 'fit', 'estima', 'land_cruiser', 'xc90', 'corolla_ii', '440', 'gt_r', 'pajero_mini', 'bluebird_sylphy', 'pulsar', 'pilot', 'amg_glc_coupe', 'nadia', 'colt', 'ex', 'ascot', 'kix', 'sparky', 'x5', 'glc_klasse_amg', 'pajero_sport', 'w201', 'pathfinder', 'blade', 'cls_klasse', 'qx70', 's90', 'noah', 'hr_v', 'c70', 'yaris_verso', 'lancer_ralliart', 'will_cypha', 'camry', '321', 'ipsum', 'sera', 'mark_x', 'sharan', 's5', 'z3', 'vanguard', 'rs6', 'es', 'favorit', 'corona_exiv', 'safari', '100', 'prairie', '760', 'passat', 'eurovan', '190_sl', 'gl_klasse_amg', 'terrano_regulus', 'fabia', 'qashqai', 'ls', 'fairlady_z', 'navara', 'march', 'aspire', 'voxy', 'otti', 'atlas', 'grand_hiace', 'w128', 'amg_gt', 'aygo', '2er', 'venza', 'lancer', 'patrol', 'mobilio', 'hilux', 'lm', 'carisma', 'cynos', 'elgrand', 'arteon', '2activetourer', 's_klasse_amg', 'gla_class', 'crossroad', 'sienna', 'a2', 'a_klasse', 's3', 'stagea', 'm_klasse_amg', 'urvan', 'octavia_rs', 'vaneo', 'legend', 'ct', 'polo', 'vento', '850', '460', 'cr_x', 'prius_alpha', 'multivan', 'cla_klasse_amg', 'm4', 'qx60', 'octavia', 'partner', 'dingo', 'priusplus', 'bb', 'space_gear', 'clc_klasse', 'spade', 'qx4', 'vista', 'vitz', 'x4', 'almera', 'dayz', 'regius', 'xc60', 'x_trail', 'montero_sport', 'montero', '920', 'isis', 'qx56', 'rs4', 'mark_ii', '326', 'serena', 'vanette', 'laurel', 'gle_klasse_coupe_amg', 'scepter_sedan', 'lx', 'gls_klasse_amg', 'rsq3', '940', 'ractis', 'clk_klasse', 'yeti', 'eclipse', 'clipper', 'premio', 'jetta', 'avensis', 'corolla_spacio', 'a7', 'armada', 'almera_classic', 'auris', 'opa', 'caravan_coach', 'california', '740', 'fx', 'mr_s', 'xc40', 'hiace', 'viano', '1er', 'carina_e', 'pointer', 'dayz_roox', 'carina_ed', 'i3', 'v_klasse', 's_klasse', 'c_klasse', '200', '240_series', 'a4', 'cr_z', 'w111', 's2000', 'tundra', 'endeavor', 'kodiaq', 'x3_m', 's40', 'glc_klasse', 'fto', 'micra', 'c30', 'vellfire', 'freed', 'camry_solara', 'sq5', 'cl_klasse', 'altezza', 'paseo', 'v50', 'i_miev', 'phaeton', 'carina', 'w114', 'granvia', 'hilux_surf', 'accord', 'sprinter_trueno', 'roomster', 'q8', 'i8', 'sienta', 'land_cruiser_prado', 'fj_cruiser', 'v90_cross_country', 'celica', 'gx', 'starlet', 's60_cross_country', 'slk_klasse', 'airtrek', 'teramont', 'simplex', 'logo', 'c_hr', 'eclipse_cross', 'transporter', 'cls_klasse_amg', 'juke_nismo', 'duet', 'cr_v', 'gaia', 'libero', 'outlander', 'verso_s', 'felicia', 'terrano', 'curren', 'liberty', 'concerto', 'z3m', 'x_klasse', 'fox', 'v40_cc', 'm5', 's60', 'cube', 'a_klasse_amg', 'hs', 'legnum', 'taro', 'space_wagon', 'glc_coupe', 'origin', 'bora', 'elysion', 'pajero_io', 'z4', 'amarok', 'cresta', 'presea', '100_series', 'eos', 'q60', 'polo_gti', 'pajero', 'cl_klasse_amg', 'l300', 'v40', 'v60', 'glk_klasse', 'g35', 'gla_class_amg', 's70', 'ek_wagon', 'quest'}\n"
     ]
    }
   ],
   "source": [
    "vector_items('model')"
   ],
   "metadata": {
    "collapsed": false,
    "pycharm": {
     "name": "#%%\n"
    }
   }
  },
  {
   "cell_type": "markdown",
   "source": [
    "---\n",
    "### resume:\n",
    "Vectors 'model_name' and 'name' is very garbage. May be it will be worth to drop them and to use only\n",
    "vectors 'brand' and 'model'\n"
   ],
   "metadata": {
    "collapsed": false
   }
  },
  {
   "cell_type": "markdown",
   "source": [
    "---\n",
    "# color"
   ],
   "metadata": {
    "collapsed": false
   }
  },
  {
   "cell_type": "code",
   "execution_count": 37,
   "outputs": [
    {
     "name": "stdout",
     "output_type": "stream",
     "text": [
      "Statistics of items in vector: color.\n",
      " ---------------------------\n",
      "Train has 16 unique items and has difference: set(),\n",
      "--\n",
      "Test has 16 unique items and has difference: set().\n",
      "{'синий', 'жёлтый', 'оранжевый', 'зелёный', 'чёрный', 'белый', 'коричневый', 'пурпурный', 'фиолетовый', 'розовый', 'серебристый', 'красный', 'голубой', 'золотистый', 'серый', 'бежевый'}\n"
     ]
    }
   ],
   "source": [
    "vector_items('color')"
   ],
   "metadata": {
    "collapsed": false,
    "pycharm": {
     "name": "#%%\n"
    }
   }
  },
  {
   "cell_type": "markdown",
   "source": [
    "The color - is OK."
   ],
   "metadata": {
    "collapsed": false
   }
  },
  {
   "cell_type": "markdown",
   "source": [
    "---\n",
    "## engineDisplacement, fuelType"
   ],
   "metadata": {
    "collapsed": false
   }
  },
  {
   "cell_type": "markdown",
   "source": [
    "Resume for following code:\n",
    "\n",
    "1. Rename some long values in train dataset. May by it is worth to delete them, because in test dataset we haven't the same car fuel type?\n",
    "2. Electro-car has no engine displacement. This vectors in train and test datasets filled in different ways. So I need to make some new vector with engine fuel-type-capacity for classification in one vector. For electro-cars - capacity will by power in kVt.\n",
    "3. For ML I transform vector 'enginePower', leaving only power in horse value in numeric format.\n",
    "4. In vector engineDisplacement reoplace english tail 'LTR' for russian 'л'."
   ],
   "metadata": {
    "collapsed": false
   }
  },
  {
   "cell_type": "code",
   "execution_count": 38,
   "outputs": [
    {
     "name": "stdout",
     "output_type": "stream",
     "text": [
      "Statistics of items in vector: fuelType.\n",
      " ---------------------------\n",
      "Train has 9 unique items and has difference: {'Гибрид, газобаллонное оборудование', 'Электро', 'Бензин, газобаллонное оборудование', 'Гибрид', 'Дизель', 'Бензин', 'Дизель, газобаллонное оборудование', 'Газ, газобаллонное оборудование', 'Газ'},\n",
      "--\n",
      "Test has 5 unique items and has difference: {'бензин', 'электро', 'газ', 'дизель', 'гибрид'}.\n",
      "{'бензин', 'электро', 'газ', 'дизель', 'гибрид'}\n"
     ]
    }
   ],
   "source": [
    "vector_items('fuelType')"
   ],
   "metadata": {
    "collapsed": false,
    "pycharm": {
     "name": "#%%\n"
    }
   }
  },
  {
   "cell_type": "code",
   "execution_count": 39,
   "outputs": [],
   "source": [
    "# replace long name ', газобаллонное оборудование' on '-гбо' and make all letters lower case\n",
    "train.fuelType = train.fuelType.str.replace(', газобаллонное оборудование', '-гбо')\n",
    "train.fuelType = train.fuelType.str.lower()"
   ],
   "metadata": {
    "collapsed": false,
    "pycharm": {
     "name": "#%%\n"
    }
   }
  },
  {
   "cell_type": "code",
   "execution_count": 40,
   "outputs": [
    {
     "name": "stdout",
     "output_type": "stream",
     "text": [
      "Statistics of items in vector: fuelType.\n",
      " ---------------------------\n",
      "Train has 9 unique items and has difference: {'гибрид-гбо', 'газ-гбо', 'бензин-гбо', 'дизель-гбо'},\n",
      "--\n",
      "Test has 5 unique items and has difference: set().\n",
      "{'бензин', 'электро', 'газ', 'дизель', 'гибрид'}\n"
     ]
    }
   ],
   "source": [
    "vector_items('fuelType')"
   ],
   "metadata": {
    "collapsed": false,
    "pycharm": {
     "name": "#%%\n"
    }
   }
  },
  {
   "cell_type": "code",
   "execution_count": 41,
   "outputs": [],
   "source": [
    "\"\"\" function to take only numeric data from string\"\"\"\n",
    "def find_number(field: str):\n",
    "    \"\"\"\n",
    "    :param field: string to find number\n",
    "    :return: number (in string format)\n",
    "    \"\"\"\n",
    "\n",
    "    # mask for search\n",
    "    p = '[\\d]+[.,\\d]+|[\\d]*[.][\\d]+|[\\d]+'\n",
    "\n",
    "    # main cycle for searching\n",
    "    if re.search(p, field) is not None:\n",
    "        for catch in re.finditer(p, field):\n",
    "            return catch[0]"
   ],
   "metadata": {
    "collapsed": false,
    "pycharm": {
     "name": "#%%\n"
    }
   }
  },
  {
   "cell_type": "markdown",
   "source": [
    "In fact, electro-cars have no engine displacement.\n",
    "In datasets vector 'engineDisplacement' electro-cars records have different filling.\n",
    "In test dataset vector 'engineDisplacement' filled with *'LTR'*, in train dataset - they filled with *horse power value*.\n",
    "in test dataset vector 'enginePower' filled with *horse power value*, in train dataset - with *kVt power value*\n",
    "\n",
    "We need to make something uniform. So we will make new vector 'engineName' as mask ['fuelType'+' '+'engineDisplacement'] for non-electro and ['fuelType'+' '+ kVt power value] for electro cars."
   ],
   "metadata": {
    "collapsed": false
   }
  },
  {
   "cell_type": "code",
   "execution_count": 42,
   "outputs": [
    {
     "data": {
      "text/plain": "{109: 80,\n 115: 85,\n 136: 100,\n 150: 110,\n 154: 113,\n 170: 125,\n 179: 132,\n 184: 135,\n 218: 160,\n 313: 230,\n 408: 300,\n 41: 30,\n 64: 47,\n 67: 49,\n 74: 100}"
     },
     "execution_count": 42,
     "metadata": {},
     "output_type": "execute_result"
    }
   ],
   "source": [
    "# make the dict from pairs (horse power, kVt power)\n",
    "kvt=dict()\n",
    "\n",
    "qq = train[train.fuelType == 'электро'].groupby(['engineDisplacement', 'enginePower'])['enginePower'].count()\n",
    "qq = qq.to_dict()\n",
    "for item, value in qq.keys():\n",
    "    kvt[int(find_number(item))] = int(find_number(value))\n",
    "kvt"
   ],
   "metadata": {
    "collapsed": false,
    "pycharm": {
     "name": "#%%\n"
    }
   }
  },
  {
   "cell_type": "code",
   "execution_count": 43,
   "outputs": [],
   "source": [
    "\"\"\" function to make new uniform vector of type of engine as mentioned above\"\"\"\n",
    "def engineDisplacement(record):\n",
    "    \"\"\"\n",
    "    :param record: raw from dataset\n",
    "    :return: value for new vector\n",
    "    \"\"\"\n",
    "\n",
    "    # case of gasoline and diesel\n",
    "    if record.fuelType != 'электро':\n",
    "        result = record.fuelType + ' ' + find_number(record.engineDisplacement)\n",
    "\n",
    "    # case of electro\n",
    "    else:\n",
    "        # case for train dataset, where we have filled vector engineDisplacement, so we can take kVt power direct\n",
    "        if find_number(record.engineDisplacement):\n",
    "            result = record.fuelType + ' ' + find_number(record.enginePower)\n",
    "\n",
    "        # case for test dataset, where we only have horse power filling\n",
    "        else:\n",
    "            value_kvt = int(record.enginePower.split()[0])\n",
    "            try:\n",
    "                # use dict to find value of kVt power from horse power\n",
    "                value_kvt = str(kvt[value_kvt])\n",
    "\n",
    "            # someone we don't have value of kVt power, so we leave just 'электро'\n",
    "            except:\n",
    "                value_kvt = ''\n",
    "\n",
    "            result = record.fuelType + ' ' + str(value_kvt)\n",
    "\n",
    "    return result"
   ],
   "metadata": {
    "collapsed": false,
    "pycharm": {
     "name": "#%%\n"
    }
   }
  },
  {
   "cell_type": "code",
   "execution_count": 44,
   "outputs": [],
   "source": [
    "train['engineName'] = train.apply(engineDisplacement, axis=1)\n",
    "test['engineName'] = test.apply(engineDisplacement, axis=1)"
   ],
   "metadata": {
    "collapsed": false,
    "pycharm": {
     "name": "#%%\n"
    }
   }
  },
  {
   "cell_type": "code",
   "execution_count": 47,
   "outputs": [
    {
     "name": "stdout",
     "output_type": "stream",
     "text": [
      "Statistics of items in vector: engineName.\n",
      " ---------------------------\n",
      "Train has 158 unique items and has difference:\n",
      " {'бензин-гбо 2.8', 'бензин-гбо 1.5', 'бензин-гбо 2.9', 'бензин-гбо 4.5', 'электро 100', 'бензин-гбо 3.3', 'бензин-гбо 2.1', 'бензин-гбо 1.4', 'дизель-гбо 2.8', 'бензин-гбо 4.8', 'бензин-гбо 4.6', 'бензин-гбо 2.3', 'бензин-гбо 1.6', 'бензин-гбо 4.2', 'бензин-гбо 3.5', 'бензин-гбо 5.5', 'бензин-гбо 1.3', 'дизель 3.3', 'бензин-гбо 4.7', 'дизель-гбо 3.0', 'бензин-гбо 5.0', 'бензин-гбо 2.5', 'бензин-гбо 3.2', 'электро 135', 'бензин-гбо 4.3', 'электро 47', 'бензин-гбо 1.8', 'бензин-гбо 6.0', 'газ 1.8', 'электро 30', 'бензин-гбо 5.7', 'газ-гбо 1.4', 'бензин-гбо 3.6', 'бензин-гбо 2.7', 'бензин-гбо 2.4', 'бензин-гбо 2.0', 'электро 113', 'гибрид-гбо 3.3', 'бензин-гбо 5.6', 'бензин-гбо 3.0', 'бензин-гбо 2.6', 'бензин-гбо 4.0', 'дизель-гбо 4.5', 'газ-гбо 2.0', 'бензин-гбо 1.9', 'гибрид 1.4', 'бензин-гбо 1.7', 'бензин-гбо 3.7', 'электро 230', 'бензин-гбо 3.8', 'дизель 1.8', 'газ-гбо 1.8', 'бензин-гбо 2.2', 'бензин-гбо 3.4', 'гибрид-гбо 1.3', 'электро 160', 'газ 2.0', 'гибрид-гбо 3.5', 'бензин-гбо 4.4'},\n",
      "--\n",
      "Test has 100 unique items and has difference:\n",
      " {'бензин 5.3'}.\n",
      "{'электро 49', 'бензин 2.4', 'бензин 2.3', 'гибрид 4.4', 'бензин 5.5', 'бензин 3.8', 'бензин 1.0', 'бензин 3.6', 'бензин 2.2', 'бензин 3.5', 'дизель 1.4', 'бензин 5.7', 'бензин 3.0', 'бензин 3.2', 'бензин 1.4', 'гибрид 1.2', 'дизель 2.8', 'бензин 3.4', 'дизель 4.9', 'бензин 5.2', 'бензин 6.2', 'дизель 4.5', 'бензин 4.0', 'бензин 3.7', 'дизель 2.1', 'бензин 4.5', 'бензин 3.3', 'дизель 2.2', 'бензин 4.9', 'дизель 2.0', 'дизель 4.1', 'бензин 2.5', 'бензин 2.7', 'гибрид 1.3', 'электро 80', 'гибрид 0.7', 'бензин 5.4', 'дизель 3.2', 'дизель 1.7', 'дизель 3.0', 'бензин 2.1', 'бензин 0.7', 'гибрид 1.8', 'газ 1.4', 'дизель 1.2', 'бензин 4.7', 'дизель 4.2', 'гибрид 3.5', 'бензин 2.0', 'бензин 4.4', 'электро 110', 'дизель 2.4', 'бензин 4.8', 'дизель 2.3', 'дизель 4.0', 'гибрид 2.4', 'бензин 5.6', 'бензин 5.8', 'бензин 1.9', 'бензин 1.3', 'бензин 1.1', 'бензин 4.6', 'дизель 2.9', 'бензин 3.1', 'дизель 5.9', 'электро 85', 'бензин 4.1', 'бензин 2.6', 'бензин 4.3', 'бензин 5.0', 'дизель 3.4', 'бензин 5.3', 'бензин 1.6', 'дизель 1.9', 'бензин 1.8', 'бензин 1.5', 'бензин 2.8', 'гибрид 2.0', 'дизель 3.9', 'гибрид 2.5', 'бензин 4.2', 'гибрид 5.0', 'гибрид 3.0', 'дизель 2.7', 'дизель 1.5', 'гибрид 1.5', 'электро 132', 'дизель 4.4', 'гибрид 3.3', 'дизель 1.6', 'электро 125', 'электро 300', 'бензин 1.7', 'бензин 6.0', 'дизель 2.5', 'бензин 1.2', 'бензин 6.6', 'дизель 3.5', 'бензин 2.9', 'бензин 6.3'}\n"
     ]
    }
   ],
   "source": [
    "vector_items('engineName')"
   ],
   "metadata": {
    "collapsed": false,
    "pycharm": {
     "name": "#%%\n"
    }
   }
  },
  {
   "cell_type": "code",
   "execution_count": 48,
   "outputs": [],
   "source": [
    "test.enginePower = test.enginePower.str.replace('N12', 'л.с.')"
   ],
   "metadata": {
    "collapsed": false,
    "pycharm": {
     "name": "#%%\n"
    }
   }
  },
  {
   "cell_type": "code",
   "execution_count": 49,
   "outputs": [],
   "source": [
    "train['enginePowerValue'] = train.enginePower\n",
    "test['enginePowerValue'] = test.enginePower"
   ],
   "metadata": {
    "collapsed": false,
    "pycharm": {
     "name": "#%%\n"
    }
   }
  },
  {
   "cell_type": "code",
   "execution_count": 50,
   "outputs": [],
   "source": [
    "def enginePowerExchange(record):\n",
    "    if record.enginePower.split()[1] == 'кВт':\n",
    "        result = find_number(record.engineDisplacement)\n",
    "    else:\n",
    "        result = find_number(record.enginePower)\n",
    "    return result"
   ],
   "metadata": {
    "collapsed": false,
    "pycharm": {
     "name": "#%%\n"
    }
   }
  },
  {
   "cell_type": "code",
   "execution_count": 51,
   "outputs": [],
   "source": [
    "train.enginePower = train.apply(enginePowerExchange, axis=1)\n",
    "test.enginePower = test.apply(enginePowerExchange, axis=1)"
   ],
   "metadata": {
    "collapsed": false,
    "pycharm": {
     "name": "#%%\n"
    }
   }
  },
  {
   "cell_type": "code",
   "execution_count": 53,
   "outputs": [],
   "source": [
    "train.enginePower = train.enginePower.apply(int)\n",
    "test.enginePower = test.enginePower.apply(int)"
   ],
   "metadata": {
    "collapsed": false,
    "pycharm": {
     "name": "#%%\n"
    }
   }
  },
  {
   "cell_type": "code",
   "execution_count": 54,
   "outputs": [
    {
     "name": "stdout",
     "output_type": "stream",
     "text": [
      "Statistics of items in vector: enginePower.\n",
      " ---------------------------\n",
      "Train has 329 unique items and has difference:\n",
      " {134, 274, 537, 410, 670, 415, 161, 34, 417, 41, 299, 176, 564, 314, 187, 700, 448, 449, 456, 206, 344, 89, 237, 503},\n",
      "--\n",
      "Test has 315 unique items and has difference:\n",
      " {32, 195, 550, 487, 457, 42, 44, 430, 214, 30}.\n",
      "{30, 32, 38, 40, 42, 44, 46, 48, 49, 50, 51, 52, 53, 54, 55, 57, 58, 60, 61, 64, 65, 66, 67, 68, 69, 70, 71, 72, 73, 74, 75, 76, 77, 78, 79, 80, 82, 83, 84, 85, 86, 87, 88, 90, 91, 92, 93, 94, 95, 96, 97, 98, 99, 100, 101, 102, 103, 104, 105, 106, 107, 108, 109, 110, 111, 112, 113, 114, 115, 116, 117, 118, 120, 121, 122, 124, 125, 126, 127, 128, 129, 130, 131, 132, 133, 135, 136, 137, 139, 140, 141, 142, 143, 144, 145, 146, 147, 148, 149, 150, 151, 152, 154, 155, 156, 157, 158, 159, 160, 162, 163, 164, 165, 166, 167, 168, 169, 170, 171, 173, 174, 175, 177, 178, 179, 180, 181, 182, 183, 184, 185, 186, 188, 189, 190, 192, 193, 194, 195, 197, 199, 200, 201, 202, 203, 204, 205, 208, 209, 210, 211, 212, 213, 214, 215, 218, 219, 220, 221, 222, 223, 224, 225, 227, 228, 230, 231, 232, 233, 234, 235, 238, 239, 240, 241, 242, 243, 245, 247, 248, 249, 250, 252, 254, 255, 256, 257, 258, 260, 262, 263, 264, 265, 266, 268, 269, 270, 271, 272, 273, 275, 276, 277, 278, 279, 280, 281, 282, 283, 284, 285, 286, 288, 290, 292, 294, 295, 296, 300, 301, 302, 303, 304, 305, 306, 307, 309, 310, 313, 315, 316, 317, 318, 320, 321, 324, 325, 326, 328, 329, 330, 333, 335, 338, 340, 343, 347, 350, 354, 355, 360, 367, 370, 372, 380, 381, 382, 383, 387, 388, 390, 394, 400, 401, 402, 405, 407, 408, 420, 421, 422, 430, 431, 435, 445, 450, 455, 457, 460, 462, 469, 476, 480, 485, 487, 500, 507, 510, 514, 517, 520, 522, 525, 530, 540, 544, 550, 555, 557, 558, 560, 571, 575, 580, 585, 591, 600, 605, 609, 610, 612, 625, 626, 630, 639}\n"
     ]
    }
   ],
   "source": [
    "vector_items('enginePower')"
   ],
   "metadata": {
    "collapsed": false,
    "pycharm": {
     "name": "#%%\n"
    }
   }
  },
  {
   "cell_type": "code",
   "execution_count": 58,
   "outputs": [
    {
     "name": "stdout",
     "output_type": "stream",
     "text": [
      "Statistics of items in vector: engineDisplacement.\n",
      " ---------------------------\n",
      "Train has 68 unique items and has difference:\n",
      "{'1.0 л', '4.6 л', '179 л.с.', '154 л.с.', '5.0 л', '3.5 л', '170 л.с.', '2.3 л', '1.4 л', '3.3 л', '4.7 л', '5.5 л', '4.5 л', '3.7 л', '6.0 л', '2.2 л', '3.4 л', '5.8 л', '184 л.с.', '3.2 л', '1.3 л', '1.5 л', '1.1 л', '136 л.с.', '3.1 л', '4.1 л', '2.9 л', '2.8 л', '3.0 л', '3.6 л', '5.2 л', '2.7 л', '5.4 л', '408 л.с.', '6.6 л', '6.3 л', '1.6 л', '1.7 л', '150 л.с.', '2.1 л', '2.0 л', '218 л.с.', '313 л.с.', '3.9 л', '74 л.с.', '6.2 л', '1.8 л', '4.3 л', '67 л.с.', '5.9 л', '64 л.с.', '2.4 л', '2.5 л', '41 л.с.', '4.8 л', '4.0 л', '2.6 л', '3.8 л', '109 л.с.', '0.7 л', '5.7 л', '1.9 л', '1.2 л', '5.6 л', '4.2 л', '4.4 л', '4.9 л', '115 л.с.'},\n",
      "--\n",
      "Test has 55 unique items and has difference:\n",
      "{'4.6 LTR', '1.3 LTR', '4.3 LTR', '2.3 LTR', '4.5 LTR', '4.8 LTR', '2.2 LTR', '6.3 LTR', '6.6 LTR', '5.2 LTR', '6.0 LTR', '2.4 LTR', '5.0 LTR', '3.7 LTR', '3.0 LTR', '2.9 LTR', '3.3 LTR', '2.0 LTR', '4.2 LTR', '1.2 LTR', '1.1 LTR', '2.5 LTR', '2.6 LTR', '3.8 LTR', '3.1 LTR', '4.4 LTR', '1.5 LTR', '1.8 LTR', '6.2 LTR', '0.7 LTR', '5.8 LTR', '1.7 LTR', '2.8 LTR', '1.9 LTR', '5.5 LTR', '5.7 LTR', '1.6 LTR', '1.4 LTR', '5.4 LTR', '5.6 LTR', '3.2 LTR', '4.0 LTR', '4.1 LTR', '3.6 LTR', '2.7 LTR', ' LTR', '3.5 LTR', '5.3 LTR', '5.9 LTR', '4.7 LTR', '3.9 LTR', '3.4 LTR', '2.1 LTR', '4.9 LTR', '1.0 LTR'}.\n",
      "Test_set values:\n",
      "{'4.6 LTR', '1.3 LTR', '4.3 LTR', '2.3 LTR', '4.5 LTR', '4.8 LTR', '2.2 LTR', '6.3 LTR', '6.6 LTR', '2.4 LTR', '5.2 LTR', '6.0 LTR', '3.7 LTR', '5.0 LTR', '3.0 LTR', '2.9 LTR', '3.3 LTR', '2.0 LTR', '4.2 LTR', '1.2 LTR', '1.1 LTR', '2.5 LTR', '2.6 LTR', '3.8 LTR', '3.1 LTR', '4.4 LTR', '1.5 LTR', '1.8 LTR', '6.2 LTR', '0.7 LTR', '5.8 LTR', '1.7 LTR', '2.8 LTR', '1.9 LTR', '5.5 LTR', '5.7 LTR', '1.6 LTR', '1.4 LTR', '5.4 LTR', '5.6 LTR', '3.2 LTR', '4.0 LTR', '4.1 LTR', '3.6 LTR', '2.7 LTR', ' LTR', '3.5 LTR', '5.3 LTR', '5.9 LTR', '4.7 LTR', '3.9 LTR', '3.4 LTR', '2.1 LTR', '4.9 LTR', '1.0 LTR'}\n"
     ]
    }
   ],
   "source": [
    "vector_items('engineDisplacement')"
   ],
   "metadata": {
    "collapsed": false,
    "pycharm": {
     "name": "#%%\n"
    }
   }
  },
  {
   "cell_type": "code",
   "execution_count": 59,
   "outputs": [],
   "source": [
    "test.engineDisplacement = test.engineDisplacement.str.replace('LTR', 'л')"
   ],
   "metadata": {
    "collapsed": false,
    "pycharm": {
     "name": "#%%\n"
    }
   }
  },
  {
   "cell_type": "code",
   "execution_count": 60,
   "outputs": [
    {
     "name": "stdout",
     "output_type": "stream",
     "text": [
      "Statistics of items in vector: engineDisplacement.\n",
      " ---------------------------\n",
      "Train has 68 unique items and has difference:\n",
      "{'64 л.с.', '41 л.с.', '184 л.с.', '150 л.с.', '179 л.с.', '136 л.с.', '154 л.с.', '218 л.с.', '313 л.с.', '109 л.с.', '170 л.с.', '74 л.с.', '67 л.с.', '408 л.с.', '115 л.с.'},\n",
      "--\n",
      "Test has 55 unique items and has difference:\n",
      "{' л', '5.3 л'}.\n",
      "Test_set values:\n",
      "{'1.0 л', '4.6 л', '5.3 л', '5.0 л', '3.5 л', '2.3 л', '1.4 л', '3.3 л', ' л', '5.5 л', '4.7 л', '4.5 л', '3.7 л', '6.0 л', '2.2 л', '3.4 л', '5.8 л', '1.3 л', '1.5 л', '1.1 л', '3.1 л', '4.1 л', '2.9 л', '2.8 л', '3.0 л', '3.6 л', '5.2 л', '2.7 л', '4.4 л', '5.4 л', '6.6 л', '6.3 л', '1.6 л', '1.7 л', '2.1 л', '2.0 л', '3.9 л', '6.2 л', '1.8 л', '4.3 л', '5.9 л', '2.5 л', '2.4 л', '4.8 л', '4.0 л', '2.6 л', '3.8 л', '0.7 л', '5.7 л', '1.2 л', '5.6 л', '4.2 л', '3.2 л', '4.9 л', '1.9 л'}\n"
     ]
    }
   ],
   "source": [
    "vector_items('engineDisplacement')"
   ],
   "metadata": {
    "collapsed": false,
    "pycharm": {
     "name": "#%%\n"
    }
   }
  },
  {
   "cell_type": "markdown",
   "source": [
    "---\n",
    "# vehicleConfiguration"
   ],
   "metadata": {
    "collapsed": false
   }
  },
  {
   "cell_type": "markdown",
   "source": [
    "Vehicle configuration in train dataset has to be combined from data of body type, vehicle transmission and engine displacement"
   ],
   "metadata": {
    "collapsed": false,
    "pycharm": {
     "name": "#%% md\n"
    }
   }
  },
  {
   "cell_type": "code",
   "execution_count": 61,
   "outputs": [
    {
     "name": "stdout",
     "output_type": "stream",
     "text": [
      "Statistics of items in vector: vehicleTransmission.\n",
      " ---------------------------\n",
      "Train has 4 unique items and has difference:\n",
      "set(),\n",
      "--\n",
      "Test has 4 unique items and has difference:\n",
      "set().\n",
      "Test_set values:\n",
      "{'механическая', 'вариатор', 'роботизированная', 'автоматическая'}\n"
     ]
    }
   ],
   "source": [
    "vector_items('vehicleTransmission')"
   ],
   "metadata": {
    "collapsed": false,
    "pycharm": {
     "name": "#%%\n"
    }
   }
  },
  {
   "cell_type": "code",
   "execution_count": 62,
   "outputs": [],
   "source": [
    "transmission = {\n",
    "    'механическая': 'MECHANICAL',\n",
    "    'вариатор': 'VARIATOR',\n",
    "    'роботизированная': 'ROBOT',\n",
    "    'автоматическая': 'AUTOMATIC'\n",
    "}"
   ],
   "metadata": {
    "collapsed": false,
    "pycharm": {
     "name": "#%%\n"
    }
   }
  },
  {
   "cell_type": "code",
   "execution_count": 63,
   "outputs": [
    {
     "data": {
      "text/plain": "{'внедорожник 3 дв.': 'ALLROAD_3_DOORS',\n 'внедорожник 5 дв.': 'ALLROAD_5_DOORS',\n 'внедорожник открытый': 'ALLROAD_OPEN',\n 'кабриолет': 'CABRIO',\n 'компактвэн': 'COMPACTVAN',\n 'купе': 'COUPE',\n 'купе-хардтоп': 'COUPE_HARDTOP',\n 'лимузин': 'LIMOUSINE',\n 'лифтбек': 'LIFTBACK',\n 'микровэн': 'MICROVAN',\n 'минивэн': 'MINIVAN',\n 'пикап двойная кабина': 'PICKUP_TWO',\n 'пикап одинарная кабина': 'PICKUP_ONE',\n 'пикап полуторная кабина': 'PICKUP_ONE_HALF',\n 'родстер': 'ROADSTER',\n 'седан': 'SEDAN',\n 'седан 2 дв.': 'SEDAN_2_DOORS',\n 'седан-хардтоп': 'SEDAN_HARDTOP',\n 'тарга': 'TARGA',\n 'универсал 5 дв.': 'WAGON_5_DOORS',\n 'фастбек': 'FASTBACK',\n 'фургон': 'VAN',\n 'хэтчбек 3 дв.': 'HATCHBACK_3_DOORS',\n 'хэтчбек 5 дв.': 'HATCHBACK_5_DOORS'}"
     },
     "execution_count": 63,
     "metadata": {},
     "output_type": "execute_result"
    }
   ],
   "source": [
    "temp_df = test[\n",
    "    ['bodyType', 'vehicleConfiguration']].groupby(\n",
    "    ['bodyType', 'vehicleConfiguration'])['vehicleConfiguration'].count().to_dict()\n",
    "\n",
    "bodyTypeEng = dict()\n",
    "for key, value in temp_df.keys():\n",
    "    bodyTypeEng[key] = value.split()[0]\n",
    "\n",
    "bodyTypeEng"
   ],
   "metadata": {
    "collapsed": false,
    "pycharm": {
     "name": "#%%\n"
    }
   }
  },
  {
   "cell_type": "code",
   "execution_count": 64,
   "outputs": [],
   "source": [
    "\"\"\" function to construct filling for vector 'vehicleConfiguration' from several another vectors\"\"\"\n",
    "def vehicleConfiguration(record):\n",
    "    \"\"\"\n",
    "    :param record: record from dataset (call by apply)\n",
    "    :return: filling for field in vector with mask like : 'COUPE ROBOT 2.5'\n",
    "    \"\"\"\n",
    "    body = bodyTypeEng[record.bodyType]\n",
    "    trans = transmission[record.vehicleTransmission]\n",
    "    disp = find_number(record.engineDisplacement)\n",
    "\n",
    "    result = body + ' ' + trans\n",
    "    if disp:\n",
    "        result = result + ' ' + disp\n",
    "\n",
    "    return result"
   ],
   "metadata": {
    "collapsed": false,
    "pycharm": {
     "name": "#%%\n"
    }
   }
  },
  {
   "cell_type": "code",
   "execution_count": 65,
   "outputs": [],
   "source": [
    "train.vehicleConfiguration = train.apply(vehicleConfiguration, axis=1)"
   ],
   "metadata": {
    "collapsed": false,
    "pycharm": {
     "name": "#%%\n"
    }
   }
  },
  {
   "cell_type": "code",
   "execution_count": 66,
   "outputs": [
    {
     "name": "stdout",
     "output_type": "stream",
     "text": [
      "Statistics of items in vector: vehicleConfiguration.\n",
      " ---------------------------\n",
      "Train has 764 unique items and has difference:\n",
      "{'HATCHBACK_5_DOORS AUTOMATIC 136', 'ALLROAD_5_DOORS MECHANICAL 1.3', 'ALLROAD_5_DOORS AUTOMATIC 408', 'ROADSTER ROBOT 2.0', 'LIFTBACK MECHANICAL 1.5', 'HATCHBACK_3_DOORS MECHANICAL 2.2', 'SEDAN_2_DOORS MECHANICAL 1.8', 'VAN AUTOMATIC 2.0', 'VAN AUTOMATIC 1.8', 'CABRIO ROBOT 3.0', 'VAN MECHANICAL 3.0', 'COMPACTVAN MECHANICAL 2.3', 'ALLROAD_3_DOORS MECHANICAL 2.7', 'HATCHBACK_3_DOORS MECHANICAL 3.0', 'ALLROAD_3_DOORS MECHANICAL 0.7', 'WAGON_5_DOORS VARIATOR 1.6', 'MINIVAN ROBOT 1.4', 'SEDAN_HARDTOP AUTOMATIC 2.2', 'HATCHBACK_3_DOORS VARIATOR 2.0', 'COMPACTVAN VARIATOR 1.4', 'HATCHBACK_5_DOORS AUTOMATIC 115', 'MICROVAN ROBOT 0.7', 'HATCHBACK_5_DOORS AUTOMATIC 2.5', 'HATCHBACK_5_DOORS AUTOMATIC 150', 'MICROVAN AUTOMATIC 41', 'PICKUP_TWO AUTOMATIC 3.3', 'HATCHBACK_5_DOORS AUTOMATIC 179', 'VAN MECHANICAL 1.8', 'ROADSTER ROBOT 3.2', 'ROADSTER MECHANICAL 2.0', 'VAN VARIATOR 2.0', 'ALLROAD_3_DOORS AUTOMATIC 2.4', 'SEDAN MECHANICAL 3.1', 'WAGON_5_DOORS MECHANICAL 4.2', 'SEDAN AUTOMATIC 109', 'MINIVAN AUTOMATIC 5.5', 'VAN AUTOMATIC 2.2', 'MINIVAN VARIATOR 1.2', 'SEDAN_2_DOORS MECHANICAL 2.3', 'LIFTBACK VARIATOR 2.8', 'COUPE AUTOMATIC 1.3', 'PICKUP_ONE MECHANICAL 1.6', 'ALLROAD_5_DOORS AUTOMATIC 313', 'VAN AUTOMATIC 2.1', 'WAGON_5_DOORS VARIATOR 3.1', 'WAGON_5_DOORS ROBOT 1.3', 'HATCHBACK_5_DOORS AUTOMATIC 170', 'HATCHBACK_5_DOORS AUTOMATIC 218', 'SEDAN MECHANICAL 4.2', 'HATCHBACK_5_DOORS AUTOMATIC 1.9', 'WAGON_5_DOORS AUTOMATIC 1.2', 'HATCHBACK_5_DOORS AUTOMATIC 64', 'VAN AUTOMATIC 2.7', 'COUPE_HARDTOP MECHANICAL 3.2', 'HATCHBACK_5_DOORS MECHANICAL 2.8', 'COUPE_HARDTOP MECHANICAL 2.2', 'VAN AUTOMATIC 3.0', 'PICKUP_ONE MECHANICAL 2.5', 'ALLROAD_3_DOORS MECHANICAL 3.3', 'CABRIO AUTOMATIC 2.1', 'COMPACTVAN AUTOMATIC 3.5', 'ALLROAD_OPEN MECHANICAL 3.0', 'CABRIO ROBOT 1.8', 'CABRIO MECHANICAL 2.3', 'MINIVAN AUTOMATIC 1.2', 'CABRIO ROBOT 4.4', 'WAGON_5_DOORS MECHANICAL 1.0', 'HATCHBACK_3_DOORS VARIATOR 1.4', 'ALLROAD_5_DOORS ROBOT 1.3', 'HATCHBACK_5_DOORS MECHANICAL 2.2', 'COUPE VARIATOR 2.7', 'CABRIO AUTOMATIC 2.2', 'SEDAN_HARDTOP MECHANICAL 1.6', 'HATCHBACK_5_DOORS MECHANICAL 1.1', 'SEDAN AUTOMATIC 4.9', 'COUPE_HARDTOP AUTOMATIC 2.2', 'COUPE_HARDTOP AUTOMATIC 2.1', 'PICKUP_ONE AUTOMATIC 2.5', 'HATCHBACK_3_DOORS MECHANICAL 2.3', 'PICKUP_ONE_HALF MECHANICAL 2.0', 'SEDAN AUTOMATIC 1.4', 'COUPE_HARDTOP AUTOMATIC 5.4', 'PICKUP_ONE MECHANICAL 1.7', 'COUPE MECHANICAL 1.2', 'SEDAN_HARDTOP AUTOMATIC 1.5', 'HATCHBACK_5_DOORS ROBOT 1.0', 'CABRIO MECHANICAL 1.4', 'ROADSTER ROBOT 1.8', 'HATCHBACK_5_DOORS MECHANICAL 1.7', 'WAGON_5_DOORS ROBOT 2.1', 'HATCHBACK_5_DOORS AUTOMATIC 184', 'HATCHBACK_5_DOORS VARIATOR 1.4', 'COUPE_HARDTOP AUTOMATIC 3.0', 'PICKUP_ONE_HALF MECHANICAL 2.5', 'ALLROAD_5_DOORS MECHANICAL 3.3', 'WAGON_5_DOORS AUTOMATIC 4.3', 'COUPE MECHANICAL 3.7', 'HATCHBACK_5_DOORS AUTOMATIC 109', 'WAGON_5_DOORS ROBOT 2.8', 'PICKUP_TWO MECHANICAL 3.0', 'CABRIO MECHANICAL 1.5', 'VAN AUTOMATIC 2.8', 'HATCHBACK_3_DOORS VARIATOR 1.6', 'ROADSTER AUTOMATIC 6.2', 'COUPE MECHANICAL 4.8', 'ALLROAD_3_DOORS AUTOMATIC 5.0', 'COUPE_HARDTOP MECHANICAL 2.0', 'VAN MECHANICAL 2.3', 'CABRIO VARIATOR 3.2', 'SEDAN AUTOMATIC 1.0', 'COUPE MECHANICAL 2.1', 'COUPE ROBOT 1.8', 'ALLROAD_5_DOORS AUTOMATIC 154', 'HATCHBACK_3_DOORS ROBOT 1.0', 'COUPE MECHANICAL 3.3', 'LIFTBACK ROBOT 1.5', 'LIMOUSINE AUTOMATIC 5.0', 'WAGON_5_DOORS VARIATOR 1.3', 'SEDAN ROBOT 3.5', 'ALLROAD_OPEN AUTOMATIC 3.0', 'COUPE MECHANICAL 1.9', 'PICKUP_TWO MECHANICAL 4.0', 'ALLROAD_5_DOORS MECHANICAL 2.9', 'LIMOUSINE MECHANICAL 3.0', 'COUPE VARIATOR 2.4', 'VAN ROBOT 1.9', 'VAN MECHANICAL 2.2', 'SEDAN AUTOMATIC 74', 'COUPE AUTOMATIC 1.4', 'CABRIO ROBOT 1.4', 'ROADSTER ROBOT 5.2', 'VAN MECHANICAL 2.8', 'ALLROAD_3_DOORS MECHANICAL 2.6', 'LIFTBACK MECHANICAL 2.2', 'VAN MECHANICAL 1.2', 'ALLROAD_5_DOORS MECHANICAL 4.7', 'PICKUP_ONE AUTOMATIC 5.7', 'WAGON_5_DOORS MECHANICAL 3.2', 'COUPE AUTOMATIC 4.5', 'SEDAN_2_DOORS MECHANICAL 1.3', 'COUPE MECHANICAL 2.7', 'MINIVAN AUTOMATIC 109', 'COUPE MECHANICAL 2.6', 'SEDAN VARIATOR 2.7', 'VAN MECHANICAL 3.2', 'WAGON_5_DOORS VARIATOR 1.9', 'CABRIO AUTOMATIC 3.2', 'CABRIO MECHANICAL 3.0', 'CABRIO ROBOT 5.2', 'ALLROAD_3_DOORS MECHANICAL 4.0', 'SEDAN MECHANICAL 4.0', 'MICROVAN MECHANICAL 1.3', 'HATCHBACK_3_DOORS ROBOT 3.2', 'HATCHBACK_3_DOORS MECHANICAL 0.7', 'ALLROAD_3_DOORS MECHANICAL 2.3', 'CABRIO VARIATOR 2.0', 'CABRIO MECHANICAL 2.5', 'LIFTBACK AUTOMATIC 1.4', 'ROADSTER ROBOT 4.0', 'ALLROAD_3_DOORS AUTOMATIC 4.2', 'COMPACTVAN AUTOMATIC 1.9', 'HATCHBACK_5_DOORS AUTOMATIC 67', 'CABRIO MECHANICAL 2.4', 'VAN MECHANICAL 1.4', 'ROADSTER MECHANICAL 1.5', 'PICKUP_TWO AUTOMATIC 4.0', 'PICKUP_TWO MECHANICAL 4.2', 'ROADSTER AUTOMATIC 2.2', 'CABRIO MECHANICAL 4.0', 'PICKUP_ONE AUTOMATIC 2.8', 'VAN AUTOMATIC 0.7'},\n",
      "--\n",
      "Test has 634 unique items and has difference:\n",
      "{'WAGON_5_DOORS ROBOT 4.0', 'CABRIO AUTOMATIC 2.8', 'SEDAN MECHANICAL 1.0', 'PICKUP_ONE MECHANICAL 2.3', 'PICKUP_ONE MECHANICAL 1.3', 'ALLROAD_5_DOORS AUTOMATIC', 'WAGON_5_DOORS AUTOMATIC 5.4', 'HATCHBACK_3_DOORS MECHANICAL 2.9', 'WAGON_5_DOORS MECHANICAL 4.0', 'WAGON_5_DOORS AUTOMATIC 5.5', 'ALLROAD_OPEN AUTOMATIC 2.0', 'HATCHBACK_5_DOORS AUTOMATIC', 'ROADSTER AUTOMATIC 1.5', 'CABRIO ROBOT 3.2', 'CABRIO MECHANICAL 5.3', 'PICKUP_ONE MECHANICAL 2.7', 'CABRIO MECHANICAL 1.3', 'MINIVAN MECHANICAL 1.7', 'HATCHBACK_5_DOORS AUTOMATIC 2.3', 'PICKUP_TWO MECHANICAL 2.8', 'ALLROAD_OPEN AUTOMATIC 5.5', 'PICKUP_ONE MECHANICAL 4.0', 'COUPE AUTOMATIC 6.2', 'HATCHBACK_3_DOORS AUTOMATIC 3.0', 'ROADSTER AUTOMATIC 3.8', 'CABRIO ROBOT 3.3', 'WAGON_5_DOORS AUTOMATIC 4.7', 'ROADSTER AUTOMATIC 4.7', 'FASTBACK MECHANICAL 2.8', 'SEDAN MECHANICAL 3.8', 'LIMOUSINE AUTOMATIC 6.2', 'ROADSTER AUTOMATIC 2.3', 'LIMOUSINE AUTOMATIC 5.5', 'WAGON_5_DOORS ROBOT 1.0', 'HATCHBACK_5_DOORS MECHANICAL 0.7', 'COUPE_HARDTOP MECHANICAL 2.3', 'CABRIO MECHANICAL 4.2', 'CABRIO AUTOMATIC 5.5', 'COUPE MECHANICAL 5.0', 'VAN ROBOT 2.0', 'HATCHBACK_5_DOORS ROBOT 1.9'}.\n",
      "Test_set values:\n",
      "{'SEDAN MECHANICAL 1.0', 'SEDAN ROBOT 3.6', 'SEDAN ROBOT 1.8', 'HATCHBACK_5_DOORS AUTOMATIC 1.7', 'ALLROAD_3_DOORS MECHANICAL 3.4', 'ALLROAD_5_DOORS ROBOT 1.2', 'CABRIO ROBOT 3.2', 'SEDAN AUTOMATIC 2.0', 'MICROVAN MECHANICAL 0.7', 'WAGON_5_DOORS AUTOMATIC 2.7', 'CABRIO MECHANICAL 2.2', 'WAGON_5_DOORS AUTOMATIC 3.5', 'WAGON_5_DOORS ROBOT 3.0', 'COUPE AUTOMATIC 5.0', 'PICKUP_TWO MECHANICAL 2.4', 'SEDAN ROBOT 1.4', 'COUPE MECHANICAL 1.8', 'WAGON_5_DOORS MECHANICAL 2.4', 'SEDAN_2_DOORS MECHANICAL 2.0', 'ALLROAD_5_DOORS VARIATOR 2.5', 'MINIVAN AUTOMATIC 2.2', 'MINIVAN VARIATOR 2.5', 'ALLROAD_5_DOORS MECHANICAL 2.0', 'COUPE AUTOMATIC 5.5', 'WAGON_5_DOORS VARIATOR 2.0', 'COUPE ROBOT 3.8', 'WAGON_5_DOORS AUTOMATIC 2.6', 'HATCHBACK_5_DOORS AUTOMATIC 1.8', 'SEDAN MECHANICAL 1.5', 'SEDAN ROBOT 3.2', 'ALLROAD_3_DOORS AUTOMATIC 0.7', 'ALLROAD_5_DOORS AUTOMATIC 4.6', 'COUPE ROBOT 5.0', 'LIFTBACK VARIATOR 1.8', 'CABRIO AUTOMATIC 2.0', 'PICKUP_ONE_HALF AUTOMATIC 2.5', 'SEDAN VARIATOR 1.3', 'ALLROAD_5_DOORS ROBOT 1.5', 'COUPE ROBOT 3.3', 'COUPE VARIATOR 2.0', 'COMPACTVAN MECHANICAL 1.9', 'HATCHBACK_3_DOORS ROBOT 1.2', 'HATCHBACK_5_DOORS AUTOMATIC 1.5', 'ROADSTER MECHANICAL 1.6', 'ALLROAD_5_DOORS MECHANICAL 1.2', 'ALLROAD_OPEN AUTOMATIC 2.0', 'SEDAN VARIATOR 1.5', 'LIFTBACK AUTOMATIC 2.0', 'HATCHBACK_3_DOORS AUTOMATIC 1.6', 'ALLROAD_5_DOORS AUTOMATIC 4.8', 'CABRIO MECHANICAL 5.3', 'VAN MECHANICAL 2.0', 'ALLROAD_5_DOORS AUTOMATIC 6.0', 'ALLROAD_3_DOORS AUTOMATIC 3.8', 'HATCHBACK_5_DOORS VARIATOR 1.5', 'COUPE AUTOMATIC 2.9', 'PICKUP_TWO MECHANICAL 2.5', 'ALLROAD_5_DOORS MECHANICAL 4.5', 'ALLROAD_5_DOORS AUTOMATIC 3.8', 'COUPE AUTOMATIC 1.7', 'SEDAN MECHANICAL 2.8', 'LIFTBACK ROBOT 3.6', 'COMPACTVAN VARIATOR 1.5', 'ROADSTER AUTOMATIC 5.0', 'SEDAN MECHANICAL 2.7', 'COUPE VARIATOR 2.5', 'WAGON_5_DOORS AUTOMATIC 1.7', 'ALLROAD_5_DOORS VARIATOR 1.2', 'WAGON_5_DOORS AUTOMATIC 4.7', 'SEDAN AUTOMATIC 3.8', 'HATCHBACK_3_DOORS AUTOMATIC 1.0', 'SEDAN MECHANICAL 1.6', 'WAGON_5_DOORS ROBOT 1.0', 'WAGON_5_DOORS AUTOMATIC 2.3', 'ALLROAD_3_DOORS MECHANICAL 2.5', 'TARGA MECHANICAL 2.0', 'CABRIO MECHANICAL 4.2', 'ALLROAD_5_DOORS MECHANICAL 2.5', 'MINIVAN AUTOMATIC 1.9', 'WAGON_5_DOORS AUTOMATIC 1.8', 'WAGON_5_DOORS AUTOMATIC 4.2', 'SEDAN MECHANICAL 3.0', 'COUPE AUTOMATIC 3.2', 'COUPE MECHANICAL 3.4', 'COUPE_HARDTOP AUTOMATIC 2.3', 'COMPACTVAN AUTOMATIC 1.3', 'COMPACTVAN MECHANICAL 1.3', 'ALLROAD_5_DOORS AUTOMATIC 1.6', 'COMPACTVAN VARIATOR 1.2', 'PICKUP_ONE MECHANICAL 2.7', 'LIFTBACK ROBOT 3.0', 'SEDAN VARIATOR 1.8', 'PICKUP_TWO AUTOMATIC 2.5', 'SEDAN AUTOMATIC 3.1', 'COMPACTVAN AUTOMATIC 1.5', 'MINIVAN AUTOMATIC 3.2', 'ROADSTER AUTOMATIC 6.0', 'PICKUP_TWO MECHANICAL 2.7', 'CABRIO MECHANICAL 1.8', 'ALLROAD_5_DOORS AUTOMATIC 5.7', 'LIFTBACK MECHANICAL 1.2', 'ALLROAD_3_DOORS AUTOMATIC 2.8', 'WAGON_5_DOORS MECHANICAL 2.1', 'SEDAN MECHANICAL 2.5', 'WAGON_5_DOORS MECHANICAL 2.6', 'ALLROAD_5_DOORS AUTOMATIC 2.4', 'MINIVAN VARIATOR 2.4', 'MINIVAN VARIATOR 3.5', 'ALLROAD_3_DOORS AUTOMATIC 3.0', 'WAGON_5_DOORS AUTOMATIC 3.1', 'ALLROAD_3_DOORS MECHANICAL 1.8', 'MINIVAN AUTOMATIC 1.6', 'WAGON_5_DOORS AUTOMATIC 1.9', 'VAN ROBOT 2.0', 'COMPACTVAN MECHANICAL 2.0', 'COMPACTVAN MECHANICAL 1.2', 'ALLROAD_5_DOORS ROBOT 1.8', 'COMPACTVAN AUTOMATIC 1.8', 'SEDAN ROBOT 1.6', 'PICKUP_TWO AUTOMATIC 3.2', 'WAGON_5_DOORS ROBOT 1.8', 'PICKUP_ONE MECHANICAL 2.3', 'CABRIO AUTOMATIC 3.0', 'COMPACTVAN MECHANICAL 1.7', 'CABRIO AUTOMATIC 4.8', 'HATCHBACK_5_DOORS MECHANICAL 1.5', 'COUPE AUTOMATIC 2.3', 'SEDAN MECHANICAL 1.2', 'MINIVAN AUTOMATIC 3.3', 'ALLROAD_5_DOORS AUTOMATIC 1.3', 'COUPE MECHANICAL 2.3', 'HATCHBACK_3_DOORS AUTOMATIC 2.3', 'SEDAN MECHANICAL 1.8', 'SEDAN AUTOMATIC 3.4', 'SEDAN AUTOMATIC 1.8', 'WAGON_5_DOORS MECHANICAL 2.8', 'COUPE MECHANICAL 3.0', 'COUPE ROBOT 2.0', 'HATCHBACK_5_DOORS MECHANICAL 1.2', 'SEDAN ROBOT 1.5', 'COMPACTVAN AUTOMATIC 2.0', 'SEDAN AUTOMATIC 4.6', 'MINIVAN MECHANICAL 2.8', 'HATCHBACK_5_DOORS AUTOMATIC 3.0', 'COMPACTVAN AUTOMATIC 2.4', 'ALLROAD_5_DOORS AUTOMATIC 2.8', 'COMPACTVAN MECHANICAL 1.5', 'WAGON_5_DOORS ROBOT 1.5', 'MINIVAN AUTOMATIC 1.8', 'HATCHBACK_5_DOORS VARIATOR 1.0', 'COUPE AUTOMATIC 5.6', 'WAGON_5_DOORS ROBOT 2.0', 'ALLROAD_5_DOORS AUTOMATIC 4.2', 'ALLROAD_5_DOORS MECHANICAL 4.2', 'COMPACTVAN AUTOMATIC 2.3', 'MINIVAN AUTOMATIC 3.7', 'ALLROAD_5_DOORS AUTOMATIC 5.5', 'ALLROAD_5_DOORS AUTOMATIC 2.1', 'SEDAN AUTOMATIC 1.9', 'ALLROAD_3_DOORS MECHANICAL 1.6', 'MINIVAN MECHANICAL 2.7', 'ROADSTER AUTOMATIC 5.4', 'ALLROAD_OPEN AUTOMATIC 5.0', 'HATCHBACK_5_DOORS AUTOMATIC 1.2', 'HATCHBACK_5_DOORS AUTOMATIC 1.3', 'WAGON_5_DOORS ROBOT 1.2', 'COMPACTVAN MECHANICAL 2.4', 'SEDAN AUTOMATIC 5.4', 'SEDAN ROBOT 5.0', 'HATCHBACK_5_DOORS AUTOMATIC 1.6', 'PICKUP_TWO AUTOMATIC 2.8', 'ALLROAD_5_DOORS MECHANICAL 1.5', 'SEDAN ROBOT 2.8', 'SEDAN AUTOMATIC 4.0', 'HATCHBACK_3_DOORS AUTOMATIC 1.8', 'LIFTBACK MECHANICAL 1.3', 'MINIVAN AUTOMATIC 3.5', 'ROADSTER MECHANICAL 1.9', 'ALLROAD_3_DOORS AUTOMATIC 1.6', 'HATCHBACK_5_DOORS VARIATOR 1.7', 'SEDAN VARIATOR 5.0', 'ROADSTER AUTOMATIC 3.7', 'PICKUP_TWO AUTOMATIC 3.5', 'HATCHBACK_5_DOORS AUTOMATIC 2.3', 'HATCHBACK_3_DOORS MECHANICAL 2.5', 'MINIVAN AUTOMATIC 3.4', 'HATCHBACK_3_DOORS MECHANICAL 1.4', 'SEDAN AUTOMATIC 3.5', 'MINIVAN VARIATOR 2.0', 'FASTBACK MECHANICAL 2.8', 'WAGON_5_DOORS MECHANICAL 1.7', 'SEDAN AUTOMATIC 2.1', 'SEDAN AUTOMATIC 5.0', 'PICKUP_TWO AUTOMATIC 4.6', 'HATCHBACK_3_DOORS ROBOT 1.4', 'ALLROAD_5_DOORS AUTOMATIC 5.9', 'COUPE AUTOMATIC 1.6', 'HATCHBACK_3_DOORS ROBOT 1.6', 'COUPE AUTOMATIC 3.7', 'MINIVAN MECHANICAL 3.2', 'HATCHBACK_5_DOORS MECHANICAL 1.0', 'WAGON_5_DOORS AUTOMATIC 3.0', 'SEDAN VARIATOR 2.4', 'ALLROAD_5_DOORS VARIATOR 1.5', 'COMPACTVAN MECHANICAL 1.4', 'MINIVAN AUTOMATIC 2.5', 'COUPE_HARDTOP AUTOMATIC 5.0', 'ALLROAD_5_DOORS AUTOMATIC 3.0', 'MINIVAN MECHANICAL 1.5', 'COMPACTVAN ROBOT 1.2', 'SEDAN MECHANICAL 2.4', 'COMPACTVAN MECHANICAL 2.2', 'WAGON_5_DOORS VARIATOR 2.4', 'COUPE AUTOMATIC 2.4', 'VAN MECHANICAL 2.1', 'ALLROAD_3_DOORS MECHANICAL 4.2', 'LIFTBACK ROBOT 4.0', 'COUPE AUTOMATIC 2.0', 'COUPE AUTOMATIC 6.2', 'SEDAN ROBOT 3.0', 'WAGON_5_DOORS MECHANICAL 2.5', 'ALLROAD_5_DOORS MECHANICAL 1.6', 'ROADSTER MECHANICAL 3.0', 'ALLROAD_5_DOORS AUTOMATIC 2.9', 'WAGON_5_DOORS AUTOMATIC 1.6', 'COMPACTVAN VARIATOR 1.8', 'LIFTBACK AUTOMATIC 1.8', 'WAGON_5_DOORS MECHANICAL 1.3', 'COMPACTVAN ROBOT 1.5', 'SEDAN_HARDTOP AUTOMATIC 2.0', 'ALLROAD_5_DOORS VARIATOR 2.4', 'PICKUP_TWO AUTOMATIC 2.3', 'MINIVAN MECHANICAL 2.5', 'LIFTBACK MECHANICAL 1.4', 'SEDAN AUTOMATIC 6.2', 'SEDAN AUTOMATIC 1.6', 'ALLROAD_5_DOORS AUTOMATIC', 'HATCHBACK_3_DOORS VARIATOR 1.5', 'ALLROAD_5_DOORS AUTOMATIC 5.0', 'HATCHBACK_5_DOORS MECHANICAL 2.3', 'ALLROAD_5_DOORS MECHANICAL 3.4', 'CABRIO ROBOT 4.0', 'COUPE MECHANICAL 4.2', 'WAGON_5_DOORS VARIATOR 2.5', 'MICROVAN AUTOMATIC 1.3', 'SEDAN_HARDTOP AUTOMATIC 1.8', 'SEDAN AUTOMATIC 4.4', 'ALLROAD_3_DOORS VARIATOR 1.6', 'ALLROAD_5_DOORS AUTOMATIC 2.0', 'HATCHBACK_5_DOORS VARIATOR 0.7', 'SEDAN AUTOMATIC 3.6', 'HATCHBACK_5_DOORS VARIATOR 1.6', 'ALLROAD_3_DOORS MECHANICAL 2.0', 'ROADSTER AUTOMATIC 3.2', 'LIFTBACK ROBOT 1.8', 'TARGA MECHANICAL 1.6', 'WAGON_5_DOORS AUTOMATIC 2.2', 'WAGON_5_DOORS VARIATOR 2.7', 'WAGON_5_DOORS MECHANICAL 2.7', 'COUPE AUTOMATIC 2.5', 'SEDAN MECHANICAL 1.4', 'LIFTBACK AUTOMATIC 4.0', 'WAGON_5_DOORS MECHANICAL 2.3', 'COUPE_HARDTOP MECHANICAL 2.3', 'HATCHBACK_5_DOORS ROBOT 1.6', 'COUPE AUTOMATIC 2.8', 'MICROVAN VARIATOR 1.2', 'HATCHBACK_5_DOORS AUTOMATIC 1.0', 'ALLROAD_5_DOORS VARIATOR 1.8', 'SEDAN AUTOMATIC 2.9', 'MINIVAN AUTOMATIC 2.0', 'PICKUP_ONE MECHANICAL 1.3', 'WAGON_5_DOORS AUTOMATIC 5.4', 'HATCHBACK_5_DOORS VARIATOR 1.3', 'ALLROAD_3_DOORS MECHANICAL 3.5', 'HATCHBACK_3_DOORS AUTOMATIC 1.3', 'HATCHBACK_3_DOORS VARIATOR 1.7', 'HATCHBACK_5_DOORS AUTOMATIC', 'HATCHBACK_3_DOORS AUTOMATIC 0.7', 'HATCHBACK_3_DOORS MECHANICAL 1.7', 'ALLROAD_5_DOORS VARIATOR 1.6', 'ALLROAD_5_DOORS MECHANICAL 2.4', 'ALLROAD_5_DOORS AUTOMATIC 4.0', 'SEDAN AUTOMATIC 5.6', 'PICKUP_TWO MECHANICAL 2.8', 'LIMOUSINE AUTOMATIC 5.8', 'ROADSTER AUTOMATIC 3.8', 'CABRIO ROBOT 3.3', 'HATCHBACK_3_DOORS MECHANICAL 1.2', 'ALLROAD_5_DOORS AUTOMATIC 1.5', 'SEDAN MECHANICAL 3.8', 'ALLROAD_5_DOORS AUTOMATIC 3.2', 'ALLROAD_5_DOORS AUTOMATIC 4.5', 'VAN AUTOMATIC 2.5', 'SEDAN AUTOMATIC 5.5', 'COUPE AUTOMATIC 1.8', 'SEDAN MECHANICAL 4.4', 'PICKUP_ONE_HALF AUTOMATIC 5.7', 'HATCHBACK_5_DOORS MECHANICAL 0.7', 'SEDAN AUTOMATIC 6.3', 'SEDAN MECHANICAL 2.2', 'ALLROAD_5_DOORS AUTOMATIC 4.7', 'ALLROAD_5_DOORS ROBOT 3.0', 'HATCHBACK_3_DOORS MECHANICAL 2.0', 'HATCHBACK_5_DOORS AUTOMATIC 0.7', 'WAGON_5_DOORS MECHANICAL 3.0', 'PICKUP_TWO AUTOMATIC 2.0', 'WAGON_5_DOORS ROBOT 4.2', 'COMPACTVAN ROBOT 1.6', 'CABRIO AUTOMATIC 3.7', 'HATCHBACK_5_DOORS MECHANICAL 2.0', 'MINIVAN MECHANICAL 2.3', 'MINIVAN MECHANICAL 3.0', 'SEDAN VARIATOR 3.0', 'ALLROAD_5_DOORS AUTOMATIC 6.2', 'LIFTBACK ROBOT 1.4', 'HATCHBACK_5_DOORS ROBOT 1.2', 'PICKUP_TWO MECHANICAL 2.0', 'ROADSTER MECHANICAL 2.5', 'VAN MECHANICAL 1.7', 'VAN MECHANICAL 2.4', 'COUPE_HARDTOP AUTOMATIC 3.2', 'ALLROAD_5_DOORS MECHANICAL 3.0', 'SEDAN AUTOMATIC 1.3', 'SEDAN AUTOMATIC 1.5', 'SEDAN ROBOT 4.4', 'PICKUP_TWO AUTOMATIC 3.0', 'ALLROAD_5_DOORS VARIATOR 3.3', 'SEDAN AUTOMATIC 2.7', 'HATCHBACK_3_DOORS AUTOMATIC 1.9', 'ALLROAD_5_DOORS MECHANICAL 2.8', 'LIFTBACK MECHANICAL 1.9', 'ROADSTER AUTOMATIC 4.7', 'ROADSTER AUTOMATIC 3.0', 'HATCHBACK_3_DOORS MECHANICAL 1.0', 'WAGON_5_DOORS MECHANICAL 1.5', 'SEDAN AUTOMATIC 4.3', 'SEDAN AUTOMATIC 5.8', 'SEDAN AUTOMATIC 3.3', 'LIMOUSINE AUTOMATIC 6.2', 'SEDAN MECHANICAL 1.7', 'ROADSTER AUTOMATIC 2.3', 'COUPE MECHANICAL 1.7', 'HATCHBACK_3_DOORS AUTOMATIC 2.0', 'CABRIO AUTOMATIC 5.5', 'SEDAN ROBOT 1.9', 'SEDAN AUTOMATIC 5.2', 'SEDAN VARIATOR 2.0', 'SEDAN VARIATOR 1.6', 'COUPE MECHANICAL 5.0', 'ALLROAD_5_DOORS AUTOMATIC 4.4', 'HATCHBACK_5_DOORS ROBOT 1.3', 'CABRIO AUTOMATIC 2.8', 'HATCHBACK_5_DOORS AUTOMATIC 2.0', 'LIFTBACK ROBOT 1.9', 'WAGON_5_DOORS MECHANICAL 1.6', 'COUPE AUTOMATIC 3.5', 'CABRIO MECHANICAL 2.0', 'WAGON_5_DOORS AUTOMATIC 5.5', 'COUPE AUTOMATIC 4.4', 'ROADSTER AUTOMATIC 1.6', 'ROADSTER MECHANICAL 3.2', 'LIFTBACK AUTOMATIC 4.4', 'COUPE_HARDTOP AUTOMATIC 2.6', 'SEDAN MECHANICAL 2.6', 'HATCHBACK_5_DOORS MECHANICAL 1.3', 'HATCHBACK_3_DOORS MECHANICAL 1.3', 'ROADSTER MECHANICAL 1.8', 'ROADSTER AUTOMATIC 3.5', 'MICROVAN AUTOMATIC 0.7', 'SEDAN VARIATOR 1.9', 'SEDAN AUTOMATIC 1.7', 'WAGON_5_DOORS AUTOMATIC 4.0', 'COUPE AUTOMATIC 4.0', 'COMPACTVAN ROBOT 1.9', 'HATCHBACK_5_DOORS ROBOT 2.5', 'COUPE_HARDTOP AUTOMATIC 4.7', 'ALLROAD_5_DOORS AUTOMATIC 3.4', 'LIFTBACK MECHANICAL 2.0', 'ALLROAD_3_DOORS AUTOMATIC 3.5', 'HATCHBACK_3_DOORS MECHANICAL 1.8', 'HATCHBACK_3_DOORS VARIATOR 1.0', 'ALLROAD_5_DOORS AUTOMATIC 4.1', 'MINIVAN AUTOMATIC 5.0', 'WAGON_5_DOORS AUTOMATIC 3.2', 'SEDAN ROBOT 1.3', 'WAGON_5_DOORS ROBOT 1.4', 'COUPE AUTOMATIC 4.2', 'COUPE_HARDTOP AUTOMATIC 1.8', 'SEDAN AUTOMATIC 2.3', 'LIFTBACK AUTOMATIC 3.0', 'SEDAN AUTOMATIC 4.1', 'HATCHBACK_5_DOORS ROBOT 1.9', 'HATCHBACK_5_DOORS MECHANICAL 1.9', 'ALLROAD_5_DOORS AUTOMATIC 3.3', 'SEDAN MECHANICAL 3.2', 'COUPE MECHANICAL 1.5', 'SEDAN ROBOT 2.0', 'ALLROAD_3_DOORS AUTOMATIC 2.0', 'LIFTBACK MECHANICAL 1.6', 'ALLROAD_5_DOORS ROBOT 2.1', 'PICKUP_TWO AUTOMATIC 4.7', 'SEDAN MECHANICAL 4.9', 'CABRIO ROBOT 2.0', 'COMPACTVAN AUTOMATIC 1.7', 'COUPE_HARDTOP AUTOMATIC 5.8', 'HATCHBACK_5_DOORS ROBOT 1.4', 'HATCHBACK_5_DOORS AUTOMATIC 2.4', 'MINIVAN MECHANICAL 2.0', 'WAGON_5_DOORS AUTOMATIC 2.0', 'COMPACTVAN VARIATOR 2.0', 'COMPACTVAN VARIATOR 1.6', 'ALLROAD_5_DOORS MECHANICAL 3.5', 'SEDAN VARIATOR 2.8', 'COUPE MECHANICAL 2.0', 'COUPE MECHANICAL 1.3', 'WAGON_5_DOORS MECHANICAL 1.8', 'LIFTBACK VARIATOR 2.0', 'COUPE AUTOMATIC 4.8', 'CABRIO AUTOMATIC 3.5', 'COMPACTVAN ROBOT 1.4', 'ALLROAD_3_DOORS MECHANICAL 3.0', 'ALLROAD_3_DOORS MECHANICAL 4.5', 'ROADSTER ROBOT 6.2', 'WAGON_5_DOORS AUTOMATIC 2.5', 'COUPE_HARDTOP AUTOMATIC 2.0', 'SEDAN MECHANICAL 1.9', 'VAN MECHANICAL 1.9', 'MINIVAN MECHANICAL 2.2', 'HATCHBACK_5_DOORS ROBOT 2.0', 'COUPE VARIATOR 1.8', 'WAGON_5_DOORS AUTOMATIC 2.9', 'SEDAN VARIATOR 3.5', 'COUPE_HARDTOP MECHANICAL 1.8', 'WAGON_5_DOORS AUTOMATIC 2.1', 'SEDAN ROBOT 4.0', 'COUPE ROBOT 2.5', 'HATCHBACK_3_DOORS AUTOMATIC 1.5', 'HATCHBACK_5_DOORS VARIATOR 1.8', 'CABRIO VARIATOR 1.8', 'MINIVAN MECHANICAL 1.6', 'COUPE VARIATOR 3.2', 'COMPACTVAN MECHANICAL 1.8', 'SEDAN AUTOMATIC 6.6', 'SEDAN_HARDTOP MECHANICAL 1.8', 'ALLROAD_5_DOORS MECHANICAL 1.4', 'COUPE MECHANICAL 2.5', 'LIFTBACK AUTOMATIC 1.6', 'COUPE ROBOT 3.2', 'MINIVAN AUTOMATIC 1.5', 'WAGON_5_DOORS AUTOMATIC 1.4', 'SEDAN AUTOMATIC 3.2', 'LIFTBACK ROBOT 2.0', 'PICKUP_ONE MECHANICAL 2.0', 'ALLROAD_5_DOORS MECHANICAL 2.2', 'COUPE MECHANICAL 1.6', 'ALLROAD_5_DOORS ROBOT 2.0', 'ALLROAD_5_DOORS ROBOT 1.6', 'ROADSTER AUTOMATIC 5.5', 'SEDAN MECHANICAL 3.3', 'ALLROAD_5_DOORS ROBOT 1.4', 'ALLROAD_3_DOORS AUTOMATIC 2.5', 'WAGON_5_DOORS AUTOMATIC 1.3', 'COMPACTVAN VARIATOR 1.3', 'CABRIO AUTOMATIC 2.4', 'COMPACTVAN AUTOMATIC 1.4', 'LIMOUSINE AUTOMATIC 5.5', 'ALLROAD_5_DOORS AUTOMATIC 2.7', 'SEDAN AUTOMATIC 4.8', 'SEDAN AUTOMATIC 3.7', 'COUPE MECHANICAL 3.2', 'COUPE ROBOT 4.2', 'COUPE AUTOMATIC 3.3', 'COUPE AUTOMATIC 5.4', 'ROADSTER AUTOMATIC 2.5', 'MINIVAN ROBOT 2.0', 'HATCHBACK_3_DOORS MECHANICAL 3.2', 'ALLROAD_5_DOORS AUTOMATIC 5.4', 'WAGON_5_DOORS VARIATOR 1.5', 'SEDAN MECHANICAL 3.4', 'WAGON_5_DOORS VARIATOR 1.8', 'COUPE ROBOT 4.4', 'MINIVAN MECHANICAL 1.8', 'COUPE AUTOMATIC 4.7', 'MINIVAN AUTOMATIC 2.7', 'ALLROAD_5_DOORS AUTOMATIC 2.2', 'COUPE MECHANICAL 3.5', 'HATCHBACK_5_DOORS VARIATOR 2.0', 'ALLROAD_3_DOORS AUTOMATIC 3.2', 'COMPACTVAN AUTOMATIC 1.6', 'ALLROAD_5_DOORS ROBOT 3.2', 'HATCHBACK_5_DOORS MECHANICAL 1.8', 'ALLROAD_3_DOORS MECHANICAL 2.8', 'ALLROAD_5_DOORS AUTOMATIC 3.7', 'WAGON_5_DOORS MECHANICAL 1.9', 'COUPE AUTOMATIC 4.3', 'WAGON_5_DOORS ROBOT 1.6', 'PICKUP_TWO AUTOMATIC 2.7', 'COUPE MECHANICAL 2.4', 'ALLROAD_3_DOORS MECHANICAL 3.2', 'CABRIO AUTOMATIC 2.3', 'COUPE_HARDTOP AUTOMATIC 5.5', 'CABRIO AUTOMATIC 4.4', 'MINIVAN AUTOMATIC 3.0', 'COUPE ROBOT 5.2', 'MINIVAN AUTOMATIC 2.1', 'SEDAN MECHANICAL 2.1', 'WAGON_5_DOORS MECHANICAL 1.4', 'COMPACTVAN ROBOT 1.8', 'ALLROAD_3_DOORS AUTOMATIC 2.7', 'ALLROAD_3_DOORS AUTOMATIC 1.8', 'ALLROAD_5_DOORS MECHANICAL 3.2', 'HATCHBACK_5_DOORS VARIATOR 2.4', 'ROADSTER AUTOMATIC 2.0', 'CABRIO AUTOMATIC 2.5', 'ALLROAD_5_DOORS ROBOT 2.5', 'ALLROAD_5_DOORS VARIATOR 3.5', 'COMPACTVAN AUTOMATIC 2.2', 'CABRIO AUTOMATIC 1.8', 'COUPE ROBOT 4.0', 'COUPE MECHANICAL 2.8', 'PICKUP_TWO MECHANICAL 2.3', 'ROADSTER AUTOMATIC 2.8', 'SEDAN AUTOMATIC 2.6', 'HATCHBACK_3_DOORS MECHANICAL 2.9', 'PICKUP_ONE_HALF MECHANICAL 2.4', 'ALLROAD_5_DOORS VARIATOR 2.0', 'HATCHBACK_5_DOORS VARIATOR 1.2', 'ALLROAD_5_DOORS AUTOMATIC 3.6', 'ROADSTER ROBOT 3.0', 'HATCHBACK_3_DOORS AUTOMATIC 1.2', 'HATCHBACK_5_DOORS ROBOT 1.8', 'SEDAN AUTOMATIC 4.2', 'SEDAN AUTOMATIC 4.5', 'COMPACTVAN ROBOT 2.0', 'HATCHBACK_3_DOORS AUTOMATIC 1.4', 'SEDAN AUTOMATIC 2.4', 'LIFTBACK ROBOT 1.2', 'HATCHBACK_3_DOORS MECHANICAL 1.9', 'ALLROAD_5_DOORS AUTOMATIC 1.8', 'MINIVAN AUTOMATIC 2.8', 'MINIVAN AUTOMATIC 2.4', 'COUPE_HARDTOP AUTOMATIC 6.2', 'HATCHBACK_3_DOORS MECHANICAL 2.8', 'HATCHBACK_3_DOORS ROBOT 1.3', 'ALLROAD_3_DOORS AUTOMATIC 4.0', 'COUPE VARIATOR 1.5', 'SEDAN AUTOMATIC 3.0', 'LIMOUSINE AUTOMATIC 6.0', 'SEDAN AUTOMATIC 2.8', 'SEDAN AUTOMATIC 4.7', 'WAGON_5_DOORS ROBOT 4.0', 'SEDAN AUTOMATIC 6.0', 'ALLROAD_5_DOORS AUTOMATIC 4.9', 'COUPE AUTOMATIC 2.2', 'HATCHBACK_3_DOORS ROBOT 1.8', 'SEDAN_HARDTOP MECHANICAL 2.0', 'COUPE AUTOMATIC 1.5', 'HATCHBACK_5_DOORS AUTOMATIC 1.4', 'COUPE_HARDTOP AUTOMATIC 6.0', 'WAGON_5_DOORS ROBOT 1.9', 'SEDAN AUTOMATIC 2.2', 'VAN MECHANICAL 1.6', 'CABRIO MECHANICAL 1.3', 'ALLROAD_5_DOORS AUTOMATIC 2.5', 'PICKUP_TWO AUTOMATIC 5.7', 'SEDAN AUTOMATIC 3.9', 'HATCHBACK_3_DOORS MECHANICAL 1.1', 'HATCHBACK_3_DOORS MECHANICAL 1.5', 'WAGON_5_DOORS AUTOMATIC 1.5', 'MINIVAN MECHANICAL 2.1', 'ALLROAD_OPEN AUTOMATIC 5.5', 'LIFTBACK ROBOT 2.8', 'HATCHBACK_3_DOORS MECHANICAL 1.6', 'ALLROAD_5_DOORS AUTOMATIC 5.6', 'SEDAN VARIATOR 3.1', 'HATCHBACK_5_DOORS ROBOT 2.1', 'WAGON_5_DOORS MECHANICAL 2.0', 'WAGON_5_DOORS AUTOMATIC 2.4', 'ALLROAD_5_DOORS AUTOMATIC 4.3', 'MINIVAN VARIATOR 1.8', 'MINIVAN AUTOMATIC 2.3', 'HATCHBACK_5_DOORS MECHANICAL 1.4', 'WAGON_5_DOORS MECHANICAL 2.2', 'HATCHBACK_5_DOORS ROBOT 1.5', 'COUPE MECHANICAL 4.0', 'COUPE MECHANICAL 2.2', 'HATCHBACK_3_DOORS AUTOMATIC 2.4', 'COMPACTVAN VARIATOR 2.4', 'SEDAN MECHANICAL 2.0', 'COUPE AUTOMATIC 3.0', 'SEDAN MECHANICAL 2.9', 'ALLROAD_5_DOORS MECHANICAL 1.8', 'COMPACTVAN AUTOMATIC 3.0', 'SEDAN VARIATOR 2.5', 'SEDAN MECHANICAL 2.3', 'ALLROAD_3_DOORS MECHANICAL 2.4', 'ALLROAD_5_DOORS MECHANICAL 4.0', 'ALLROAD_5_DOORS MECHANICAL 2.7', 'VAN MECHANICAL 2.5', 'PICKUP_TWO AUTOMATIC 2.4', 'HATCHBACK_3_DOORS AUTOMATIC 2.5', 'ALLROAD_5_DOORS MECHANICAL 2.3', 'COUPE AUTOMATIC 6.0', 'WAGON_5_DOORS MECHANICAL 4.0', 'ALLROAD_5_DOORS AUTOMATIC 3.5', 'COMPACTVAN MECHANICAL 1.6', 'MINIVAN VARIATOR 1.5', 'CABRIO AUTOMATIC 4.3', 'SEDAN_2_DOORS MECHANICAL 1.6', 'HATCHBACK_5_DOORS MECHANICAL 1.6', 'ROADSTER AUTOMATIC 1.5', 'MINIVAN MECHANICAL 1.9', 'SEDAN MECHANICAL 3.5', 'HATCHBACK_3_DOORS ROBOT 2.0', 'COUPE ROBOT 3.0', 'MINIVAN MECHANICAL 1.7', 'COUPE_HARDTOP AUTOMATIC 3.5', 'WAGON_5_DOORS MECHANICAL 1.2', 'SEDAN_HARDTOP AUTOMATIC 1.6', 'PICKUP_ONE MECHANICAL 4.0', 'HATCHBACK_3_DOORS AUTOMATIC 3.0', 'COUPE ROBOT 6.2', 'ALLROAD_5_DOORS AUTOMATIC 1.4', 'SEDAN MECHANICAL 1.3', 'WAGON_5_DOORS AUTOMATIC 2.8', 'SEDAN AUTOMATIC 2.5', 'MINIVAN MECHANICAL 2.4', 'LIFTBACK MECHANICAL 1.8', 'COUPE MECHANICAL 4.4', 'WAGON_5_DOORS ROBOT 3.6', 'ROADSTER AUTOMATIC 1.8', 'HATCHBACK_3_DOORS VARIATOR 1.3', 'WAGON_5_DOORS AUTOMATIC 4.4'}\n"
     ]
    }
   ],
   "source": [
    "vector_items('vehicleConfiguration')"
   ],
   "metadata": {
    "collapsed": false,
    "pycharm": {
     "name": "#%%\n"
    }
   }
  },
  {
   "cell_type": "code",
   "execution_count": 67,
   "outputs": [],
   "source": [
    "train.drop(['modelDate', 'model_info', 'model_name', 'name', 'price_current'], axis=1, inplace=True)\n",
    "test.drop(['modelDate', 'model_info', 'model_name', 'name'], axis=1, inplace=True)"
   ],
   "metadata": {
    "collapsed": false,
    "pycharm": {
     "name": "#%%\n"
    }
   }
  },
  {
   "cell_type": "markdown",
   "source": [
    "---\n",
    "# vendor"
   ],
   "metadata": {
    "collapsed": false
   }
  },
  {
   "cell_type": "markdown",
   "source": [
    "Vendor in test dataset has only two ubique value. So I fill train dataset with dictionary brand-vendor."
   ],
   "metadata": {
    "collapsed": false
   }
  },
  {
   "cell_type": "code",
   "execution_count": 68,
   "outputs": [],
   "source": [
    "# prepare to filling vector 'vendor' in train dataset.\n",
    "# make dictionary of brand-vendors\n",
    "vend = test.groupby(['brand', 'vendor'])['vendor'].count().to_dict().keys()\n",
    "vend=dict(vend)"
   ],
   "metadata": {
    "collapsed": false,
    "pycharm": {
     "name": "#%%\n"
    }
   }
  },
  {
   "cell_type": "code",
   "execution_count": 69,
   "outputs": [],
   "source": [
    "train.vendor = train.brand.map(vend)"
   ],
   "metadata": {
    "collapsed": false,
    "pycharm": {
     "name": "#%%\n"
    }
   }
  },
  {
   "cell_type": "code",
   "execution_count": 70,
   "outputs": [
    {
     "name": "stdout",
     "output_type": "stream",
     "text": [
      "Statistics of items in vector: vendor.\n",
      " ---------------------------\n",
      "Train has 2 unique items and has difference:\n",
      "set(),\n",
      "--\n",
      "Test has 2 unique items and has difference:\n",
      "set().\n",
      "Test_set values:\n",
      "{'JAPANESE', 'EUROPEAN'}\n"
     ]
    }
   ],
   "source": [
    "vector_items('vendor')"
   ],
   "metadata": {
    "collapsed": false,
    "pycharm": {
     "name": "#%%\n"
    }
   }
  },
  {
   "cell_type": "markdown",
   "source": [
    "---\n",
    "# Владение, Владельцы"
   ],
   "metadata": {
    "collapsed": false
   }
  },
  {
   "cell_type": "markdown",
   "source": [
    "Transform vector 'Владельцы' to numeric value, delete vector 'Владение' - because it has a lot of NA."
   ],
   "metadata": {
    "collapsed": false
   }
  },
  {
   "cell_type": "code",
   "execution_count": 71,
   "outputs": [
    {
     "name": "stdout",
     "output_type": "stream",
     "text": [
      "Statistics of items in vector: Владельцы.\n",
      " ---------------------------\n",
      "Train has 4 unique items and has difference:\n",
      "{nan, '1 владелец', '2 владельца'},\n",
      "--\n",
      "Test has 3 unique items and has difference:\n",
      "{'1\\xa0владелец', '2\\xa0владельца'}.\n",
      "Test_set values:\n",
      "{'3 или более', '1\\xa0владелец', '2\\xa0владельца'}\n"
     ]
    }
   ],
   "source": [
    "vector_items('Владельцы')"
   ],
   "metadata": {
    "collapsed": false,
    "pycharm": {
     "name": "#%%\n"
    }
   }
  },
  {
   "cell_type": "code",
   "execution_count": 72,
   "outputs": [],
   "source": [
    "train['Владельцы'].fillna('3 или более', inplace=True)"
   ],
   "metadata": {
    "collapsed": false,
    "pycharm": {
     "name": "#%%\n"
    }
   }
  },
  {
   "cell_type": "code",
   "execution_count": 73,
   "outputs": [],
   "source": [
    "test['owners'] = test['Владельцы']\n",
    "test['Владельцы'] = test['Владельцы'].apply(find_number)"
   ],
   "metadata": {
    "collapsed": false,
    "pycharm": {
     "name": "#%%\n"
    }
   }
  },
  {
   "cell_type": "code",
   "execution_count": 74,
   "outputs": [],
   "source": [
    "train['owners'] = train['Владельцы']\n",
    "train['Владельцы'] = train['Владельцы'].apply(find_number)"
   ],
   "metadata": {
    "collapsed": false,
    "pycharm": {
     "name": "#%%\n"
    }
   }
  },
  {
   "cell_type": "code",
   "execution_count": 75,
   "outputs": [],
   "source": [
    "train['Владельцы'] = train['Владельцы'].apply(int)\n",
    "test['Владельцы'] = test['Владельцы'].apply(int)"
   ],
   "metadata": {
    "collapsed": false,
    "pycharm": {
     "name": "#%%\n"
    }
   }
  },
  {
   "cell_type": "code",
   "execution_count": 76,
   "outputs": [
    {
     "name": "stdout",
     "output_type": "stream",
     "text": [
      "Statistics of items in vector: Владельцы.\n",
      " ---------------------------\n",
      "Train has 3 unique items and has difference:\n",
      "set(),\n",
      "--\n",
      "Test has 3 unique items and has difference:\n",
      "set().\n",
      "Test_set values:\n",
      "{1, 2, 3}\n"
     ]
    }
   ],
   "source": [
    "vector_items('Владельцы')"
   ],
   "metadata": {
    "collapsed": false,
    "pycharm": {
     "name": "#%%\n"
    }
   }
  },
  {
   "cell_type": "code",
   "execution_count": 77,
   "outputs": [],
   "source": [
    "train.drop(['Владение'], axis=1, inplace=True)\n",
    "test.drop(['Владение'], axis=1, inplace=True)"
   ],
   "metadata": {
    "collapsed": false,
    "pycharm": {
     "name": "#%%\n"
    }
   }
  },
  {
   "cell_type": "markdown",
   "source": [
    "---\n",
    "# ПТС"
   ],
   "metadata": {
    "collapsed": false
   }
  },
  {
   "cell_type": "markdown",
   "source": [
    "Filling NA with 'Дубликат'"
   ],
   "metadata": {
    "collapsed": false,
    "pycharm": {
     "name": "#%% md\n"
    }
   }
  },
  {
   "cell_type": "code",
   "execution_count": 78,
   "outputs": [
    {
     "data": {
      "text/plain": "Оригинал    30098\nДубликат     4587\nName: ПТС, dtype: int64"
     },
     "execution_count": 78,
     "metadata": {},
     "output_type": "execute_result"
    }
   ],
   "source": [
    "test['ПТС'].value_counts()"
   ],
   "metadata": {
    "collapsed": false,
    "pycharm": {
     "name": "#%%\n"
    }
   }
  },
  {
   "cell_type": "code",
   "execution_count": 79,
   "outputs": [],
   "source": [
    "train['ПТС'].fillna('Дубликат', inplace=True)\n",
    "test['ПТС'].fillna('Дубликат', inplace=True)"
   ],
   "metadata": {
    "collapsed": false,
    "pycharm": {
     "name": "#%%\n"
    }
   }
  },
  {
   "cell_type": "code",
   "execution_count": 80,
   "outputs": [
    {
     "name": "stdout",
     "output_type": "stream",
     "text": [
      "Statistics of items in vector: ПТС.\n",
      " ---------------------------\n",
      "Train has 2 unique items and has difference:\n",
      "set(),\n",
      "--\n",
      "Test has 2 unique items and has difference:\n",
      "set().\n",
      "Test_set values:\n",
      "{'Оригинал', 'Дубликат'}\n"
     ]
    }
   ],
   "source": [
    "vector_items('ПТС')"
   ],
   "metadata": {
    "collapsed": false,
    "pycharm": {
     "name": "#%%\n"
    }
   }
  },
  {
   "cell_type": "markdown",
   "source": [
    "---\n",
    "# Состояние"
   ],
   "metadata": {
    "collapsed": false
   }
  },
  {
   "cell_type": "markdown",
   "source": [
    "In train dataset there are some records with NA 'Состояние'. Analysis of the records led to the conclusion that these options relate to car accidents. So I delete this records from dataset.\n",
    "After that - delete vector as unuseful for ML"
   ],
   "metadata": {
    "collapsed": false
   }
  },
  {
   "cell_type": "code",
   "execution_count": 81,
   "outputs": [
    {
     "name": "stdout",
     "output_type": "stream",
     "text": [
      "Statistics of items in vector: Состояние.\n",
      " ---------------------------\n",
      "Train has 2 unique items and has difference:\n",
      "{nan},\n",
      "--\n",
      "Test has 1 unique items and has difference:\n",
      "set().\n",
      "Test_set values:\n",
      "{'Не требует ремонта'}\n"
     ]
    }
   ],
   "source": [
    "vector_items('Состояние')"
   ],
   "metadata": {
    "collapsed": false,
    "pycharm": {
     "name": "#%%\n"
    }
   }
  },
  {
   "cell_type": "code",
   "execution_count": 82,
   "outputs": [
    {
     "data": {
      "text/plain": "                bodyType       brand  \\\n36691  внедорожник 5 дв.    MERCEDES   \n67936            лифтбек       SKODA   \n77393              седан      TOYOTA   \n77431              седан      TOYOTA   \n89883      хэтчбек 5 дв.  VOLKSWAGEN   \n89888      хэтчбек 5 дв.  VOLKSWAGEN   \n94015    универсал 5 дв.  VOLKSWAGEN   \n16755            лифтбек       SKODA   \n18626      хэтчбек 5 дв.      TOYOTA   \n21554              седан  VOLKSWAGEN   \n22540    универсал 5 дв.  VOLKSWAGEN   \n\n                                                 car_url        color  \\\n36691  https://auto.ru/cars/used/sale/mercedes/glb_kl...        белый   \n67936  https://auto.ru/cars/used/sale/skoda/octavia/1...  серебристый   \n77393  https://auto.ru/cars/used/sale/toyota/corolla/...        серый   \n77431  https://auto.ru/cars/used/sale/toyota/corolla/...        белый   \n89883  https://auto.ru/cars/used/sale/volkswagen/golf...      красный   \n89888  https://auto.ru/cars/used/sale/volkswagen/golf...       чёрный   \n94015  https://auto.ru/cars/used/sale/volkswagen/pass...        белый   \n16755  https://auto.ru/cars/used/sale/skoda/rapid/110...        серый   \n18626  https://auto.ru/cars/used/sale/toyota/corolla/...        белый   \n21554  https://auto.ru/cars/used/sale/volkswagen/vent...        серый   \n22540  https://auto.ru/cars/used/sale/volkswagen/pass...        белый   \n\n                                      complectation_dict  \\\n36691  {'back-brake': 'Disc', 'feeding': 'Turbocharge...   \n67936  {'back-brake': 'Disc', 'feeding': 'None', 'ful...   \n77393  {'feeding': 'None', 'horse-power': 105, 'kvt-p...   \n77431  {'back-brake': 'Drum', 'feeding': 'None', 'ran...   \n89883  {'back-brake': 'Drum', 'feeding': 'None', 'ful...   \n89888  {'back-brake': 'Drum', 'feeding': 'None', 'ful...   \n94015  {'back-brake': 'Drum', 'feeding': 'None', 'ful...   \n16755  {'back-brake': 'Drum', 'feeding': 'None', 'ful...   \n18626  {'back-brake': 'Disc', 'feeding': 'None', 'ful...   \n21554  {'back-brake': 'Drum', 'feeding': 'None', 'ful...   \n22540  {'back-brake': 'Drum', 'feeding': 'None', 'ful...   \n\n                                             description engineDisplacement  \\\n36691  Куплен 25 декабря 2020 у официального дилера в...              1.3 л   \n67936                       Битая Цена ремонта на 150 тр              1.6 л   \n77393                        Надо Делать ДВС Обмен Торг               1.6 л   \n77431  продается легенда японского автопрома битая по...              1.6 л   \n89883  Проблемы с электрикой производилась замена вых...              1.6 л   \n89888  Замена порогов задняя юбка днище обработана ан...              1.6 л   \n94015  На разбор или под восстановление без АКБ Торг ...              1.8 л   \n16755  Официальный дилерский центр РОЛЬФ Премиум Вешк...              1.6 л   \n18626  Машина была привезена в Россию из Германии ещё...              1.6 л   \n21554  Битый двигатель не пострадал система охлаждени...              1.8 л   \n22540  Авто с пробегом универсал перебрал генератор С...              1.6 л   \n\n       enginePower                                     equipment_dict  \\\n36691          150                                                 {}   \n67936          102  {'cruise-control': True, 'tinted-glass': True,...   \n77393          105                                                 {}   \n77431          115                                                 {}   \n89883           75  {'ptf': True, 'abs': True, 'eco-leather': True...   \n89888           72                                                 {}   \n94015          107                                                 {}   \n16755          110  {'airbag-driver': True, 'rain-sensor': True, '...   \n18626          110                                                 {}   \n21554           75                                                 {}   \n22540           72  {'tinted-glass': True, 'roof-rails': True, 'le...   \n\n      fuelType  ...       ПТС    Привод    Руль  Состояние     Таможня  \\\n36691   бензин  ...  Оригинал  передний   Левый        NaN  Растаможен   \n67936   бензин  ...  Оригинал  передний   Левый        NaN  Растаможен   \n77393   бензин  ...  Оригинал  передний  Правый        NaN  Растаможен   \n77431   бензин  ...  Дубликат  передний  Правый        NaN  Растаможен   \n89883   бензин  ...  Дубликат  передний   Левый        NaN  Растаможен   \n89888   бензин  ...  Оригинал  передний   Левый        NaN  Растаможен   \n94015   бензин  ...  Оригинал  передний   Левый        NaN  Растаможен   \n16755   бензин  ...  Оригинал  передний   Левый        NaN  Растаможен   \n18626   бензин  ...  Оригинал  передний   Левый        NaN  Растаможен   \n21554   бензин  ...  Оригинал  передний   Левый        NaN  Растаможен   \n22540   бензин  ...  Оригинал  передний   Левый        NaN  Растаможен   \n\n              price       model  engineName enginePowerValue       owners  \n36691  2.134032e+06  glb_klasse  бензин 1.3         150 л.с.   1 владелец  \n67936  1.592561e+05     octavia  бензин 1.6         102 л.с.  3 или более  \n77393  7.962804e+04     corolla  бензин 1.6         105 л.с.  2 владельца  \n77431  5.972103e+04     corolla  бензин 1.6         115 л.с.  3 или более  \n89883  1.194421e+05        golf  бензин 1.6          75 л.с.  3 или более  \n89888  1.274049e+05        golf  бензин 1.6          72 л.с.  3 или более  \n94015  5.175823e+04      passat  бензин 1.8         107 л.с.  3 или более  \n16755  6.131359e+05       rapid  бензин 1.6         110 л.с.   1 владелец  \n18626  1.672189e+05     corolla  бензин 1.6         110 л.с.  2 владельца  \n21554  7.962804e+04       vento  бензин 1.8          75 л.с.  3 или более  \n22540  4.379542e+04      passat  бензин 1.6          72 л.с.  3 или более  \n\n[11 rows x 32 columns]",
      "text/html": "<div>\n<style scoped>\n    .dataframe tbody tr th:only-of-type {\n        vertical-align: middle;\n    }\n\n    .dataframe tbody tr th {\n        vertical-align: top;\n    }\n\n    .dataframe thead th {\n        text-align: right;\n    }\n</style>\n<table border=\"1\" class=\"dataframe\">\n  <thead>\n    <tr style=\"text-align: right;\">\n      <th></th>\n      <th>bodyType</th>\n      <th>brand</th>\n      <th>car_url</th>\n      <th>color</th>\n      <th>complectation_dict</th>\n      <th>description</th>\n      <th>engineDisplacement</th>\n      <th>enginePower</th>\n      <th>equipment_dict</th>\n      <th>fuelType</th>\n      <th>...</th>\n      <th>ПТС</th>\n      <th>Привод</th>\n      <th>Руль</th>\n      <th>Состояние</th>\n      <th>Таможня</th>\n      <th>price</th>\n      <th>model</th>\n      <th>engineName</th>\n      <th>enginePowerValue</th>\n      <th>owners</th>\n    </tr>\n  </thead>\n  <tbody>\n    <tr>\n      <th>36691</th>\n      <td>внедорожник 5 дв.</td>\n      <td>MERCEDES</td>\n      <td>https://auto.ru/cars/used/sale/mercedes/glb_kl...</td>\n      <td>белый</td>\n      <td>{'back-brake': 'Disc', 'feeding': 'Turbocharge...</td>\n      <td>Куплен 25 декабря 2020 у официального дилера в...</td>\n      <td>1.3 л</td>\n      <td>150</td>\n      <td>{}</td>\n      <td>бензин</td>\n      <td>...</td>\n      <td>Оригинал</td>\n      <td>передний</td>\n      <td>Левый</td>\n      <td>NaN</td>\n      <td>Растаможен</td>\n      <td>2.134032e+06</td>\n      <td>glb_klasse</td>\n      <td>бензин 1.3</td>\n      <td>150 л.с.</td>\n      <td>1 владелец</td>\n    </tr>\n    <tr>\n      <th>67936</th>\n      <td>лифтбек</td>\n      <td>SKODA</td>\n      <td>https://auto.ru/cars/used/sale/skoda/octavia/1...</td>\n      <td>серебристый</td>\n      <td>{'back-brake': 'Disc', 'feeding': 'None', 'ful...</td>\n      <td>Битая Цена ремонта на 150 тр</td>\n      <td>1.6 л</td>\n      <td>102</td>\n      <td>{'cruise-control': True, 'tinted-glass': True,...</td>\n      <td>бензин</td>\n      <td>...</td>\n      <td>Оригинал</td>\n      <td>передний</td>\n      <td>Левый</td>\n      <td>NaN</td>\n      <td>Растаможен</td>\n      <td>1.592561e+05</td>\n      <td>octavia</td>\n      <td>бензин 1.6</td>\n      <td>102 л.с.</td>\n      <td>3 или более</td>\n    </tr>\n    <tr>\n      <th>77393</th>\n      <td>седан</td>\n      <td>TOYOTA</td>\n      <td>https://auto.ru/cars/used/sale/toyota/corolla/...</td>\n      <td>серый</td>\n      <td>{'feeding': 'None', 'horse-power': 105, 'kvt-p...</td>\n      <td>Надо Делать ДВС Обмен Торг</td>\n      <td>1.6 л</td>\n      <td>105</td>\n      <td>{}</td>\n      <td>бензин</td>\n      <td>...</td>\n      <td>Оригинал</td>\n      <td>передний</td>\n      <td>Правый</td>\n      <td>NaN</td>\n      <td>Растаможен</td>\n      <td>7.962804e+04</td>\n      <td>corolla</td>\n      <td>бензин 1.6</td>\n      <td>105 л.с.</td>\n      <td>2 владельца</td>\n    </tr>\n    <tr>\n      <th>77431</th>\n      <td>седан</td>\n      <td>TOYOTA</td>\n      <td>https://auto.ru/cars/used/sale/toyota/corolla/...</td>\n      <td>белый</td>\n      <td>{'back-brake': 'Drum', 'feeding': 'None', 'ran...</td>\n      <td>продается легенда японского автопрома битая по...</td>\n      <td>1.6 л</td>\n      <td>115</td>\n      <td>{}</td>\n      <td>бензин</td>\n      <td>...</td>\n      <td>Дубликат</td>\n      <td>передний</td>\n      <td>Правый</td>\n      <td>NaN</td>\n      <td>Растаможен</td>\n      <td>5.972103e+04</td>\n      <td>corolla</td>\n      <td>бензин 1.6</td>\n      <td>115 л.с.</td>\n      <td>3 или более</td>\n    </tr>\n    <tr>\n      <th>89883</th>\n      <td>хэтчбек 5 дв.</td>\n      <td>VOLKSWAGEN</td>\n      <td>https://auto.ru/cars/used/sale/volkswagen/golf...</td>\n      <td>красный</td>\n      <td>{'back-brake': 'Drum', 'feeding': 'None', 'ful...</td>\n      <td>Проблемы с электрикой производилась замена вых...</td>\n      <td>1.6 л</td>\n      <td>75</td>\n      <td>{'ptf': True, 'abs': True, 'eco-leather': True...</td>\n      <td>бензин</td>\n      <td>...</td>\n      <td>Дубликат</td>\n      <td>передний</td>\n      <td>Левый</td>\n      <td>NaN</td>\n      <td>Растаможен</td>\n      <td>1.194421e+05</td>\n      <td>golf</td>\n      <td>бензин 1.6</td>\n      <td>75 л.с.</td>\n      <td>3 или более</td>\n    </tr>\n    <tr>\n      <th>89888</th>\n      <td>хэтчбек 5 дв.</td>\n      <td>VOLKSWAGEN</td>\n      <td>https://auto.ru/cars/used/sale/volkswagen/golf...</td>\n      <td>чёрный</td>\n      <td>{'back-brake': 'Drum', 'feeding': 'None', 'ful...</td>\n      <td>Замена порогов задняя юбка днище обработана ан...</td>\n      <td>1.6 л</td>\n      <td>72</td>\n      <td>{}</td>\n      <td>бензин</td>\n      <td>...</td>\n      <td>Оригинал</td>\n      <td>передний</td>\n      <td>Левый</td>\n      <td>NaN</td>\n      <td>Растаможен</td>\n      <td>1.274049e+05</td>\n      <td>golf</td>\n      <td>бензин 1.6</td>\n      <td>72 л.с.</td>\n      <td>3 или более</td>\n    </tr>\n    <tr>\n      <th>94015</th>\n      <td>универсал 5 дв.</td>\n      <td>VOLKSWAGEN</td>\n      <td>https://auto.ru/cars/used/sale/volkswagen/pass...</td>\n      <td>белый</td>\n      <td>{'back-brake': 'Drum', 'feeding': 'None', 'ful...</td>\n      <td>На разбор или под восстановление без АКБ Торг ...</td>\n      <td>1.8 л</td>\n      <td>107</td>\n      <td>{}</td>\n      <td>бензин</td>\n      <td>...</td>\n      <td>Оригинал</td>\n      <td>передний</td>\n      <td>Левый</td>\n      <td>NaN</td>\n      <td>Растаможен</td>\n      <td>5.175823e+04</td>\n      <td>passat</td>\n      <td>бензин 1.8</td>\n      <td>107 л.с.</td>\n      <td>3 или более</td>\n    </tr>\n    <tr>\n      <th>16755</th>\n      <td>лифтбек</td>\n      <td>SKODA</td>\n      <td>https://auto.ru/cars/used/sale/skoda/rapid/110...</td>\n      <td>серый</td>\n      <td>{'back-brake': 'Drum', 'feeding': 'None', 'ful...</td>\n      <td>Официальный дилерский центр РОЛЬФ Премиум Вешк...</td>\n      <td>1.6 л</td>\n      <td>110</td>\n      <td>{'airbag-driver': True, 'rain-sensor': True, '...</td>\n      <td>бензин</td>\n      <td>...</td>\n      <td>Оригинал</td>\n      <td>передний</td>\n      <td>Левый</td>\n      <td>NaN</td>\n      <td>Растаможен</td>\n      <td>6.131359e+05</td>\n      <td>rapid</td>\n      <td>бензин 1.6</td>\n      <td>110 л.с.</td>\n      <td>1 владелец</td>\n    </tr>\n    <tr>\n      <th>18626</th>\n      <td>хэтчбек 5 дв.</td>\n      <td>TOYOTA</td>\n      <td>https://auto.ru/cars/used/sale/toyota/corolla/...</td>\n      <td>белый</td>\n      <td>{'back-brake': 'Disc', 'feeding': 'None', 'ful...</td>\n      <td>Машина была привезена в Россию из Германии ещё...</td>\n      <td>1.6 л</td>\n      <td>110</td>\n      <td>{}</td>\n      <td>бензин</td>\n      <td>...</td>\n      <td>Оригинал</td>\n      <td>передний</td>\n      <td>Левый</td>\n      <td>NaN</td>\n      <td>Растаможен</td>\n      <td>1.672189e+05</td>\n      <td>corolla</td>\n      <td>бензин 1.6</td>\n      <td>110 л.с.</td>\n      <td>2 владельца</td>\n    </tr>\n    <tr>\n      <th>21554</th>\n      <td>седан</td>\n      <td>VOLKSWAGEN</td>\n      <td>https://auto.ru/cars/used/sale/volkswagen/vent...</td>\n      <td>серый</td>\n      <td>{'back-brake': 'Drum', 'feeding': 'None', 'ful...</td>\n      <td>Битый двигатель не пострадал система охлаждени...</td>\n      <td>1.8 л</td>\n      <td>75</td>\n      <td>{}</td>\n      <td>бензин</td>\n      <td>...</td>\n      <td>Оригинал</td>\n      <td>передний</td>\n      <td>Левый</td>\n      <td>NaN</td>\n      <td>Растаможен</td>\n      <td>7.962804e+04</td>\n      <td>vento</td>\n      <td>бензин 1.8</td>\n      <td>75 л.с.</td>\n      <td>3 или более</td>\n    </tr>\n    <tr>\n      <th>22540</th>\n      <td>универсал 5 дв.</td>\n      <td>VOLKSWAGEN</td>\n      <td>https://auto.ru/cars/used/sale/volkswagen/pass...</td>\n      <td>белый</td>\n      <td>{'back-brake': 'Drum', 'feeding': 'None', 'ful...</td>\n      <td>Авто с пробегом универсал перебрал генератор С...</td>\n      <td>1.6 л</td>\n      <td>72</td>\n      <td>{'tinted-glass': True, 'roof-rails': True, 'le...</td>\n      <td>бензин</td>\n      <td>...</td>\n      <td>Оригинал</td>\n      <td>передний</td>\n      <td>Левый</td>\n      <td>NaN</td>\n      <td>Растаможен</td>\n      <td>4.379542e+04</td>\n      <td>passat</td>\n      <td>бензин 1.6</td>\n      <td>72 л.с.</td>\n      <td>3 или более</td>\n    </tr>\n  </tbody>\n</table>\n<p>11 rows × 32 columns</p>\n</div>"
     },
     "execution_count": 82,
     "metadata": {},
     "output_type": "execute_result"
    }
   ],
   "source": [
    "train[train['Состояние'] != 'Не требует ремонта']"
   ],
   "metadata": {
    "collapsed": false,
    "pycharm": {
     "name": "#%%\n"
    }
   }
  },
  {
   "cell_type": "code",
   "execution_count": 83,
   "outputs": [],
   "source": [
    "train.dropna(subset=['Состояние'], inplace=True)"
   ],
   "metadata": {
    "collapsed": false,
    "pycharm": {
     "name": "#%%\n"
    }
   }
  },
  {
   "cell_type": "code",
   "execution_count": 84,
   "outputs": [
    {
     "name": "stdout",
     "output_type": "stream",
     "text": [
      "Statistics of items in vector: Состояние.\n",
      " ---------------------------\n",
      "Train has 1 unique items and has difference:\n",
      "set(),\n",
      "--\n",
      "Test has 1 unique items and has difference:\n",
      "set().\n",
      "Test_set values:\n",
      "{'Не требует ремонта'}\n"
     ]
    }
   ],
   "source": [
    "vector_items('Состояние')"
   ],
   "metadata": {
    "collapsed": false,
    "pycharm": {
     "name": "#%%\n"
    }
   }
  },
  {
   "cell_type": "code",
   "execution_count": 85,
   "outputs": [],
   "source": [
    "train.drop(['Состояние'], axis=1, inplace=True)\n",
    "test.drop(['Состояние'], axis=1, inplace=True)"
   ],
   "metadata": {
    "collapsed": false,
    "pycharm": {
     "name": "#%%\n"
    }
   }
  },
  {
   "cell_type": "markdown",
   "source": [
    "---\n",
    "# Таможня"
   ],
   "metadata": {
    "collapsed": false
   }
  },
  {
   "cell_type": "markdown",
   "source": [
    "The same history with vector 'Таможня'. Analysis of the records led to the conclusion that these options relate to non-cleared cars or dubious ownership or purchase histories. So I delete this records from dataset.\n",
    "After that - delete vector as unuseful for ML"
   ],
   "metadata": {
    "collapsed": false
   }
  },
  {
   "cell_type": "code",
   "execution_count": 86,
   "outputs": [
    {
     "name": "stdout",
     "output_type": "stream",
     "text": [
      "Statistics of items in vector: Таможня.\n",
      " ---------------------------\n",
      "Train has 2 unique items and has difference:\n",
      "{nan},\n",
      "--\n",
      "Test has 1 unique items and has difference:\n",
      "set().\n",
      "Test_set values:\n",
      "{'Растаможен'}\n"
     ]
    }
   ],
   "source": [
    "vector_items('Таможня')"
   ],
   "metadata": {
    "collapsed": false,
    "pycharm": {
     "name": "#%%\n"
    }
   }
  },
  {
   "cell_type": "code",
   "execution_count": 87,
   "outputs": [],
   "source": [
    "train.dropna(subset=['Таможня'], inplace=True)"
   ],
   "metadata": {
    "collapsed": false,
    "pycharm": {
     "name": "#%%\n"
    }
   }
  },
  {
   "cell_type": "code",
   "execution_count": 88,
   "outputs": [
    {
     "name": "stdout",
     "output_type": "stream",
     "text": [
      "Statistics of items in vector: Таможня.\n",
      " ---------------------------\n",
      "Train has 1 unique items and has difference:\n",
      "set(),\n",
      "--\n",
      "Test has 1 unique items and has difference:\n",
      "set().\n",
      "Test_set values:\n",
      "{'Растаможен'}\n"
     ]
    }
   ],
   "source": [
    "vector_items('Таможня')"
   ],
   "metadata": {
    "collapsed": false,
    "pycharm": {
     "name": "#%%\n"
    }
   }
  },
  {
   "cell_type": "code",
   "execution_count": 89,
   "outputs": [],
   "source": [
    "train.drop(['Таможня'], axis=1, inplace=True)\n",
    "test.drop(['Таможня'], axis=1, inplace=True)"
   ],
   "metadata": {
    "collapsed": false,
    "pycharm": {
     "name": "#%%\n"
    }
   }
  },
  {
   "cell_type": "markdown",
   "source": [
    "---\n",
    "# Prepare for Feature engineering"
   ],
   "metadata": {
    "collapsed": false
   }
  },
  {
   "cell_type": "code",
   "execution_count": 93,
   "outputs": [],
   "source": [
    "# delete some vectors\n",
    "train.drop(['complectation_dict', 'equipment_dict', 'car_url',\n",
    "            'image', 'description', 'priceCurrency'], axis=1, inplace=True)\n",
    "test.drop(['complectation_dict', 'equipment_dict', 'car_url',\n",
    "           'image', 'description', 'priceCurrency'], axis=1, inplace=True)"
   ],
   "metadata": {
    "collapsed": false,
    "pycharm": {
     "name": "#%%\n"
    }
   }
  },
  {
   "cell_type": "code",
   "execution_count": 94,
   "outputs": [],
   "source": [
    "# append test dataset to train dataset with value of price=0\n",
    "# vector-mark of test - 'test'\n",
    "test['price']=0\n",
    "test['test']=1\n",
    "train['test']=0\n",
    "data = train.append(test)"
   ],
   "metadata": {
    "collapsed": false,
    "pycharm": {
     "name": "#%%\n"
    }
   }
  },
  {
   "cell_type": "code",
   "execution_count": 95,
   "outputs": [
    {
     "data": {
      "text/plain": "((146632, 25), (111946, 25), (34686, 25))"
     },
     "execution_count": 95,
     "metadata": {},
     "output_type": "execute_result"
    }
   ],
   "source": [
    "data.shape, train.shape, test.shape"
   ],
   "metadata": {
    "collapsed": false,
    "pycharm": {
     "name": "#%%\n"
    }
   }
  },
  {
   "cell_type": "code",
   "execution_count": 96,
   "outputs": [
    {
     "name": "stdout",
     "output_type": "stream",
     "text": [
      "<class 'pandas.core.frame.DataFrame'>\n",
      "Int64Index: 146632 entries, 0 to 34685\n",
      "Data columns (total 25 columns):\n",
      " #   Column                Non-Null Count   Dtype  \n",
      "---  ------                --------------   -----  \n",
      " 0   bodyType              146632 non-null  object \n",
      " 1   brand                 146632 non-null  object \n",
      " 2   color                 146632 non-null  object \n",
      " 3   engineDisplacement    146632 non-null  object \n",
      " 4   enginePower           146632 non-null  int64  \n",
      " 5   fuelType              146632 non-null  object \n",
      " 6   mileage               146632 non-null  int64  \n",
      " 7   numberOfDoors         146632 non-null  int64  \n",
      " 8   parsing_unixtime      146632 non-null  int64  \n",
      " 9   productionDate        146632 non-null  int64  \n",
      " 10  sell_id               146632 non-null  int64  \n",
      " 11  super_gen             146632 non-null  object \n",
      " 12  vehicleConfiguration  146632 non-null  object \n",
      " 13  vehicleTransmission   146632 non-null  object \n",
      " 14  vendor                146632 non-null  object \n",
      " 15  Владельцы             146632 non-null  int64  \n",
      " 16  ПТС                   146632 non-null  object \n",
      " 17  Привод                146632 non-null  object \n",
      " 18  Руль                  146632 non-null  object \n",
      " 19  price                 146632 non-null  float64\n",
      " 20  model                 146632 non-null  object \n",
      " 21  engineName            146632 non-null  object \n",
      " 22  enginePowerValue      146632 non-null  object \n",
      " 23  owners                146632 non-null  object \n",
      " 24  test                  146632 non-null  int64  \n",
      "dtypes: float64(1), int64(8), object(16)\n",
      "memory usage: 29.1+ MB\n"
     ]
    }
   ],
   "source": [
    "data.info()"
   ],
   "metadata": {
    "collapsed": false,
    "pycharm": {
     "name": "#%%\n"
    }
   }
  },
  {
   "cell_type": "markdown",
   "source": [
    "---\n",
    "# FE"
   ],
   "metadata": {
    "collapsed": false
   }
  },
  {
   "cell_type": "markdown",
   "source": [
    "* average mileage per year\n",
    "* average mileage by owner\n",
    "* rarity\n",
    "* older 3-5 year\n",
    "* color clustering\n",
    "* body clustering\n",
    "*"
   ],
   "metadata": {
    "collapsed": false
   }
  },
  {
   "cell_type": "code",
   "execution_count": null,
   "outputs": [],
   "source": [],
   "metadata": {
    "collapsed": false,
    "pycharm": {
     "name": "#%%\n"
    }
   }
  },
  {
   "cell_type": "code",
   "execution_count": 87,
   "outputs": [
    {
     "name": "stdout",
     "output_type": "stream",
     "text": [
      "<class 'pandas.core.frame.DataFrame'>\n",
      "Int64Index: 87746 entries, 0 to 103793\n",
      "Data columns (total 25 columns):\n",
      " #   Column                Non-Null Count  Dtype  \n",
      "---  ------                --------------  -----  \n",
      " 0   bodyType              87746 non-null  object \n",
      " 1   brand                 87746 non-null  object \n",
      " 2   car_url               87746 non-null  object \n",
      " 3   color                 87746 non-null  object \n",
      " 4   engineDisplacement    87746 non-null  object \n",
      " 5   enginePower           87746 non-null  int64  \n",
      " 6   fuelType              87746 non-null  object \n",
      " 7   mileage               87746 non-null  int64  \n",
      " 8   numberOfDoors         87746 non-null  int64  \n",
      " 9   parsing_unixtime      87746 non-null  int64  \n",
      " 10  productionDate        87746 non-null  int64  \n",
      " 11  sell_id               87746 non-null  int64  \n",
      " 12  super_gen             87746 non-null  object \n",
      " 13  vehicleConfiguration  87746 non-null  object \n",
      " 14  vehicleTransmission   87746 non-null  object \n",
      " 15  vendor                87746 non-null  object \n",
      " 16  Владельцы             87746 non-null  int64  \n",
      " 17  ПТС                   87746 non-null  object \n",
      " 18  Привод                87746 non-null  object \n",
      " 19  Руль                  87746 non-null  object \n",
      " 20  price                 87746 non-null  float64\n",
      " 21  model                 87746 non-null  object \n",
      " 22  engineName            87746 non-null  object \n",
      " 23  enginePowerValue      87746 non-null  object \n",
      " 24  owners                87746 non-null  object \n",
      "dtypes: float64(1), int64(7), object(17)\n",
      "memory usage: 19.4+ MB\n"
     ]
    }
   ],
   "source": [
    "train.info()"
   ],
   "metadata": {
    "collapsed": false,
    "pycharm": {
     "name": "#%%\n"
    }
   }
  },
  {
   "cell_type": "code",
   "execution_count": 79,
   "outputs": [
    {
     "data": {
      "text/plain": "bodyType                    0\nbrand                       0\ncar_url                     0\ncolor                       0\ncomplectation_dict      28268\ndescription                 0\nengineDisplacement          0\nenginePower                 0\nequipment_dict           9996\nfuelType                    0\nimage                       0\nmileage                     0\nnumberOfDoors               0\nparsing_unixtime            0\npriceCurrency               0\nproductionDate              0\nsell_id                     0\nsuper_gen                   0\nvehicleConfiguration        0\nvehicleTransmission         0\nvendor                      0\nВладельцы                   0\nПТС                         0\nПривод                      0\nРуль                        0\nmodel                       0\nengineName                  0\nenginePowerValue            0\nowners                      0\ndtype: int64"
     },
     "execution_count": 79,
     "metadata": {},
     "output_type": "execute_result"
    }
   ],
   "source": [
    "test.isnull().sum()"
   ],
   "metadata": {
    "collapsed": false,
    "pycharm": {
     "name": "#%%\n"
    }
   }
  },
  {
   "cell_type": "code",
   "execution_count": 84,
   "outputs": [
    {
     "data": {
      "text/plain": "bodyType                0\nbrand                   0\ncar_url                 0\ncolor                   0\ncomplectation_dict      0\ndescription             0\nengineDisplacement      0\nenginePower             0\nequipment_dict          0\nfuelType                0\nimage                   1\nmileage                 0\nnumberOfDoors           0\nparsing_unixtime        0\npriceCurrency           0\nproductionDate          0\nsell_id                 0\nsuper_gen               0\nvehicleConfiguration    0\nvehicleTransmission     0\nvendor                  0\nВладельцы               0\nПТС                     0\nПривод                  0\nРуль                    0\nprice                   0\nmodel                   0\nengineName              0\nenginePowerValue        0\nowners                  0\ndtype: int64"
     },
     "execution_count": 84,
     "metadata": {},
     "output_type": "execute_result"
    }
   ],
   "source": [
    "train.isnull().sum()"
   ],
   "metadata": {
    "collapsed": false,
    "pycharm": {
     "name": "#%%\n"
    }
   }
  },
  {
   "cell_type": "code",
   "execution_count": null,
   "outputs": [],
   "source": [],
   "metadata": {
    "collapsed": false,
    "pycharm": {
     "name": "#%%\n"
    }
   }
  },
  {
   "cell_type": "code",
   "execution_count": null,
   "outputs": [],
   "source": [],
   "metadata": {
    "collapsed": false,
    "pycharm": {
     "name": "#%%\n"
    }
   }
  },
  {
   "cell_type": "code",
   "execution_count": null,
   "outputs": [],
   "source": [],
   "metadata": {
    "collapsed": false,
    "pycharm": {
     "name": "#%%\n"
    }
   }
  },
  {
   "cell_type": "code",
   "execution_count": null,
   "outputs": [],
   "source": [],
   "metadata": {
    "collapsed": false,
    "pycharm": {
     "name": "#%%\n"
    }
   }
  },
  {
   "cell_type": "code",
   "execution_count": null,
   "outputs": [],
   "source": [],
   "metadata": {
    "collapsed": false,
    "pycharm": {
     "name": "#%%\n"
    }
   }
  },
  {
   "cell_type": "markdown",
   "source": [
    "----\n",
    "# CatBosting"
   ],
   "metadata": {
    "collapsed": false
   }
  },
  {
   "cell_type": "code",
   "execution_count": null,
   "outputs": [],
   "source": [
    "features = ['bodyType', 'brand', 'color', 'engineDisplacement',\n",
    "            'enginePower', 'fuelType', 'mileage',\n",
    "            'numberOfDoors', 'productionDate', 'vehicleTransmission']\n",
    "features_obj =['bodyType', 'brand', 'color', 'engineDisplacement',\n",
    "               'enginePower', 'fuelType',\n",
    "               'numberOfDoors', 'vehicleTransmission']\n",
    "train_f = train[features].copy()\n",
    "for colum in features_obj:\n",
    "    train_f[colum] = train_f[colum].astype('category').cat.codes"
   ],
   "metadata": {
    "collapsed": false,
    "pycharm": {
     "name": "#%%\n"
    }
   }
  },
  {
   "cell_type": "code",
   "execution_count": null,
   "outputs": [],
   "source": [
    "train_f"
   ],
   "metadata": {
    "collapsed": false,
    "pycharm": {
     "name": "#%%\n"
    }
   }
  },
  {
   "cell_type": "code",
   "execution_count": null,
   "outputs": [],
   "source": [
    "target = 'price'\n",
    "#x = train.drop(['price', 'model_info', 'modelDate', 'vehicleConfiguration',\n",
    "#                'vendor', 'Владельцы', 'Владение' ], axis=1)\n",
    "x = train_f\n",
    "y = train[target]"
   ],
   "metadata": {
    "collapsed": false,
    "pycharm": {
     "name": "#%%\n"
    }
   }
  },
  {
   "cell_type": "code",
   "execution_count": null,
   "outputs": [],
   "source": [
    "stack = x.copy()\n",
    "stack['price']=y\n",
    "stack.corr()['price'].abs().sort_values(ascending=False)[1:]"
   ],
   "metadata": {
    "collapsed": false,
    "pycharm": {
     "name": "#%%\n"
    }
   }
  },
  {
   "cell_type": "code",
   "execution_count": null,
   "outputs": [],
   "source": [
    "heatmap([],stack)"
   ],
   "metadata": {
    "collapsed": false,
    "pycharm": {
     "name": "#%%\n"
    }
   }
  },
  {
   "cell_type": "code",
   "execution_count": null,
   "outputs": [],
   "source": [
    "X_train, X_test, y_train, y_test = train_test_split(x, y, test_size=0.2, shuffle=True, random_state=SEED)"
   ],
   "metadata": {
    "collapsed": false,
    "pycharm": {
     "name": "#%%\n"
    }
   }
  },
  {
   "cell_type": "code",
   "execution_count": null,
   "outputs": [],
   "source": [
    "model = CatBoostRegressor(iterations = 5000,\n",
    "                          random_seed = SEED,\n",
    "                          eval_metric='MAPE',\n",
    "                          custom_metric=['R2', 'MAE'],\n",
    "                          silent=True,\n",
    "                          )\n",
    "model.fit(X_train, y_train,\n",
    "          #cat_features=cat_features_ids,\n",
    "          eval_set=(X_test, y_test),\n",
    "          verbose_eval=0,\n",
    "          use_best_model=True,\n",
    "          #plot=True\n",
    "          )\n",
    "\n",
    "model.save_model('catboost_single_model_baseline.model')"
   ],
   "metadata": {
    "collapsed": false,
    "pycharm": {
     "name": "#%%\n"
    }
   }
  },
  {
   "cell_type": "code",
   "execution_count": null,
   "outputs": [],
   "source": [
    "predict = model.predict(X_test)\n",
    "print(f\"Точность модели по метрике MAPE: {(mape(y_test, predict))*100:0.2f}%\")"
   ],
   "metadata": {
    "collapsed": false,
    "pycharm": {
     "name": "#%%\n"
    }
   }
  },
  {
   "cell_type": "code",
   "execution_count": null,
   "outputs": [],
   "source": [
    "model = CatBoostRegressor(iterations = 5000,\n",
    "                          random_seed = SEED,\n",
    "                          eval_metric='MAPE',\n",
    "                          custom_metric=['R2', 'MAE'],\n",
    "                          silent=True,\n",
    "                          )\n",
    "model.fit(X_train, np.log(y_train),\n",
    "          #cat_features=cat_features_ids,\n",
    "          eval_set=(X_test, np.log(y_test)),\n",
    "          verbose_eval=0,\n",
    "          use_best_model=True,\n",
    "          #plot=True\n",
    "          )\n",
    "\n",
    "model.save_model('catboost_single_model_2_baseline.model')"
   ],
   "metadata": {
    "collapsed": false,
    "pycharm": {
     "name": "#%%\n"
    }
   }
  },
  {
   "cell_type": "code",
   "execution_count": null,
   "outputs": [],
   "source": [
    "predict_test = np.exp(model.predict(X_test))\n",
    "print(f\"Точность модели по метрике MAPE: {(mape(y_test, predict_test))*100:0.2f}%\")"
   ],
   "metadata": {
    "collapsed": false,
    "pycharm": {
     "name": "#%%\n"
    }
   }
  },
  {
   "cell_type": "markdown",
   "source": [
    "---\n",
    "# Test various models"
   ],
   "metadata": {
    "collapsed": false
   }
  },
  {
   "cell_type": "code",
   "execution_count": null,
   "outputs": [],
   "source": [
    "test_classifires = {\n",
    "    'RandomForest': RandomForestRegressor(n_estimators=300, random_state = SEED),\n",
    "    'DecisionTree': DecisionTreeRegressor(random_state=SEED),\n",
    "    'ExtraTrees'  : ExtraTreesRegressor(random_state=SEED),\n",
    "    'LightGBM'    : LGBMRegressor(random_state=SEED),\n",
    "    'XGBoost'     : XGBRegressor(random_state=SEED)\n",
    "}"
   ],
   "metadata": {
    "collapsed": false,
    "pycharm": {
     "name": "#%%\n"
    }
   }
  },
  {
   "cell_type": "code",
   "execution_count": null,
   "outputs": [],
   "source": [
    "results = dict()\n",
    "for item in tqdm(test_classifires):\n",
    "    cls=test_classifires[item]\n",
    "\n",
    "    cls.fit(X_train, y_train)\n",
    "    predict =cls.predict(X_test)\n",
    "\n",
    "    cls.fit(X_train, np.log(y_train))\n",
    "    predict_log = np.exp(cls.predict(X_test))\n",
    "\n",
    "    results[item] = [round(mape(y_test, predict)*100,2), round(mape(y_test, predict_log)*100,2)]\n",
    "results"
   ],
   "metadata": {
    "collapsed": false,
    "pycharm": {
     "name": "#%%\n"
    }
   }
  },
  {
   "cell_type": "markdown",
   "source": [
    "---\n",
    "# RandomForest best parameters"
   ],
   "metadata": {
    "collapsed": false
   }
  },
  {
   "cell_type": "code",
   "execution_count": null,
   "outputs": [],
   "source": [
    "# Making best parameters searching diapasons\n",
    "n_estimators = [int(x) for x in np.linspace(start = 100, stop = 1000, num = 10)]\n",
    "max_features = ['log2', 'sqrt']\n",
    "max_depth = [int(x) for x in np.linspace(start = 1, stop = 15, num = 15)]\n",
    "min_samples_split = [int(x) for x in np.linspace(start = 2, stop = 50, num = 10)]\n",
    "min_samples_leaf = [int(x) for x in np.linspace(start = 2, stop = 50, num = 10)]\n",
    "bootstrap = [True, False]\n",
    "param_dist = {'n_estimators': n_estimators,\n",
    "              'max_features': max_features,\n",
    "              'max_depth': max_depth,\n",
    "              'min_samples_split': min_samples_split,\n",
    "              'min_samples_leaf': min_samples_leaf,\n",
    "              'bootstrap': bootstrap}\n",
    "\n",
    "# Randomized search. Making 3 cross validation (cv) for each 100 iterations candidates\n",
    "model_rfc = RandomForestRegressor(random_state = SEED)\n",
    "rs = RandomizedSearchCV(model_rfc,\n",
    "                        param_dist,\n",
    "                        n_iter = 100,\n",
    "                        cv = 3,\n",
    "                        verbose = 1,\n",
    "                        n_jobs=-1,\n",
    "                        random_state=SEED)\n",
    "rs.fit(X_train, np.log(y_train))\n",
    "rfc_best = rs.best_params_\n",
    "rfc_best['random_state']=SEED\n",
    "rfc_best\n",
    "# approx. 16 minutes\n",
    "# {'n_estimators': 200,\n",
    "# 'min_samples_split': 2,\n",
    "# 'min_samples_leaf': 2,\n",
    "# 'max_features': 'sqrt',\n",
    "# 'max_depth': 14,\n",
    "# 'bootstrap': False,\n",
    "# 'random_state': 42}"
   ],
   "metadata": {
    "collapsed": false,
    "pycharm": {
     "name": "#%%\n"
    }
   }
  },
  {
   "cell_type": "code",
   "execution_count": null,
   "outputs": [],
   "source": [
    "#\n",
    "model_rfc = RandomForestRegressor(**rfc_best)\n",
    "\n",
    "model_rfc.fit(X_train, np.log(y_train))\n",
    "predict_log = np.exp(model_rfc.predict(X_test))\n",
    "round(mape(y_test, predict_log)*100,2)"
   ],
   "metadata": {
    "collapsed": false,
    "pycharm": {
     "name": "#%%\n"
    }
   }
  },
  {
   "cell_type": "code",
   "execution_count": null,
   "outputs": [],
   "source": [
    "rs_df = pd.DataFrame(rs.cv_results_).sort_values('rank_test_score').reset_index(drop=True)\n",
    "rs_df = rs_df.drop([\n",
    "    'mean_fit_time',\n",
    "    'std_fit_time',\n",
    "    'mean_score_time',\n",
    "    'std_score_time',\n",
    "    'params',\n",
    "    'split0_test_score',\n",
    "    'split1_test_score',\n",
    "    'split2_test_score',\n",
    "    'std_test_score'],\n",
    "    axis=1)"
   ],
   "metadata": {
    "collapsed": false,
    "pycharm": {
     "name": "#%%\n"
    }
   }
  },
  {
   "cell_type": "code",
   "execution_count": null,
   "outputs": [],
   "source": [
    "fig, axs = plt.subplots(ncols=3, nrows=2)\n",
    "sns.set(style=\"whitegrid\", color_codes=True, font_scale = 2)\n",
    "fig.set_size_inches(30,25)\n",
    "sns.barplot(x='param_n_estimators', y='mean_test_score', data=rs_df, ax=axs[0,0], color='lightgrey')\n",
    "axs[0,0].set_ylim([.83,.95])\n",
    "axs[0,0].set_title(label = 'n_estimators', size=30, weight='bold')\n",
    "sns.barplot(x='param_min_samples_split', y='mean_test_score', data=rs_df, ax=axs[0,1], color='coral')\n",
    "axs[0,1].set_ylim([.85,.95])\n",
    "axs[0,1].set_title(label = 'min_samples_split', size=30, weight='bold')\n",
    "sns.barplot(x='param_min_samples_leaf', y='mean_test_score', data=rs_df, ax=axs[0,2], color='lightgreen')\n",
    "axs[0,2].set_ylim([.80,.95])\n",
    "axs[0,2].set_title(label = 'min_samples_leaf', size=30, weight='bold')\n",
    "sns.barplot(x='param_max_features', y='mean_test_score', data=rs_df, ax=axs[1,0], color='wheat')\n",
    "axs[1,0].set_ylim([.80,.95])\n",
    "axs[1,0].set_title(label = 'max_features', size=30, weight='bold')\n",
    "sns.barplot(x='param_max_depth', y='mean_test_score', data=rs_df, ax=axs[1,1], color='lightpink')\n",
    "axs[1,1].set_ylim([.80,.95])\n",
    "axs[1,1].set_title(label = 'max_depth', size=30, weight='bold')\n",
    "sns.barplot(x='param_bootstrap',y='mean_test_score', data=rs_df, ax=axs[1,2], color='skyblue')\n",
    "axs[1,2].set_ylim([.80,.95])\n",
    "axs[1,2].set_title(label = 'bootstrap', size=30, weight='bold')\n",
    "plt.show()"
   ],
   "metadata": {
    "collapsed": false,
    "pycharm": {
     "name": "#%%\n"
    }
   }
  },
  {
   "cell_type": "markdown",
   "source": [
    "---\n",
    "# DecisionTree"
   ],
   "metadata": {
    "collapsed": false
   }
  },
  {
   "cell_type": "code",
   "execution_count": null,
   "outputs": [],
   "source": [],
   "metadata": {
    "collapsed": false,
    "pycharm": {
     "name": "#%%\n"
    }
   }
  },
  {
   "cell_type": "code",
   "execution_count": null,
   "outputs": [],
   "source": [],
   "metadata": {
    "collapsed": false,
    "pycharm": {
     "name": "#%%\n"
    }
   }
  },
  {
   "cell_type": "markdown",
   "source": [
    "---\n",
    "# GradientBoosting"
   ],
   "metadata": {
    "collapsed": false
   }
  },
  {
   "cell_type": "code",
   "execution_count": null,
   "outputs": [],
   "source": [],
   "metadata": {
    "collapsed": false,
    "pycharm": {
     "name": "#%%\n"
    }
   }
  },
  {
   "cell_type": "code",
   "execution_count": null,
   "outputs": [],
   "source": [],
   "metadata": {
    "collapsed": false,
    "pycharm": {
     "name": "#%%\n"
    }
   }
  },
  {
   "cell_type": "markdown",
   "source": [
    "---\n",
    "# ExtraTrees"
   ],
   "metadata": {
    "collapsed": false
   }
  },
  {
   "cell_type": "code",
   "execution_count": null,
   "outputs": [],
   "source": [],
   "metadata": {
    "collapsed": false,
    "pycharm": {
     "name": "#%%\n"
    }
   }
  },
  {
   "cell_type": "code",
   "execution_count": null,
   "outputs": [],
   "source": [],
   "metadata": {
    "collapsed": false,
    "pycharm": {
     "name": "#%%\n"
    }
   }
  },
  {
   "cell_type": "markdown",
   "source": [
    "---\n",
    "# LightGBM"
   ],
   "metadata": {
    "collapsed": false
   }
  },
  {
   "cell_type": "code",
   "execution_count": null,
   "outputs": [],
   "source": [],
   "metadata": {
    "collapsed": false,
    "pycharm": {
     "name": "#%%\n"
    }
   }
  },
  {
   "cell_type": "code",
   "execution_count": null,
   "outputs": [],
   "source": [],
   "metadata": {
    "collapsed": false,
    "pycharm": {
     "name": "#%%\n"
    }
   }
  },
  {
   "cell_type": "markdown",
   "source": [
    "---\n",
    "# XGBoost"
   ],
   "metadata": {
    "collapsed": false
   }
  },
  {
   "cell_type": "code",
   "execution_count": null,
   "outputs": [],
   "source": [],
   "metadata": {
    "collapsed": false,
    "pycharm": {
     "name": "#%%\n"
    }
   }
  },
  {
   "cell_type": "code",
   "execution_count": null,
   "outputs": [],
   "source": [],
   "metadata": {
    "collapsed": false,
    "pycharm": {
     "name": "#%%\n"
    }
   }
  },
  {
   "cell_type": "code",
   "execution_count": null,
   "outputs": [],
   "source": [],
   "metadata": {
    "collapsed": false,
    "pycharm": {
     "name": "#%%\n"
    }
   }
  },
  {
   "cell_type": "code",
   "execution_count": null,
   "outputs": [],
   "source": [],
   "metadata": {
    "collapsed": false,
    "pycharm": {
     "name": "#%%\n"
    }
   }
  }
 ],
 "metadata": {
  "kernelspec": {
   "display_name": "Python 3",
   "language": "python",
   "name": "python3"
  },
  "language_info": {
   "codemirror_mode": {
    "name": "ipython",
    "version": 2
   },
   "file_extension": ".py",
   "mimetype": "text/x-python",
   "name": "python",
   "nbconvert_exporter": "python",
   "pygments_lexer": "ipython2",
   "version": "2.7.6"
  }
 },
 "nbformat": 4,
 "nbformat_minor": 0
}