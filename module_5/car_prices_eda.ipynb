{
 "cells": [
  {
   "cell_type": "code",
   "execution_count": 4,
   "outputs": [],
   "source": [
    "import pandas as pd\n",
    "import numpy as np\n",
    "import math\n",
    "import re\n",
    "import seaborn as sns\n",
    "import matplotlib.pyplot as plt"
   ],
   "metadata": {
    "collapsed": false,
    "pycharm": {
     "name": "#%%\n"
    }
   }
  },
  {
   "cell_type": "code",
   "execution_count": 5,
   "outputs": [],
   "source": [
    "from IPython.core.display import display"
   ],
   "metadata": {
    "collapsed": false,
    "pycharm": {
     "name": "#%%\n"
    }
   }
  },
  {
   "cell_type": "code",
   "execution_count": 6,
   "outputs": [],
   "source": [
    "from sklearn.model_selection import train_test_split, RandomizedSearchCV\n",
    "from sklearn.model_selection import KFold\n",
    "from tqdm.notebook import tqdm\n",
    "from catboost import CatBoostRegressor\n",
    "from sklearn.preprocessing import LabelEncoder\n"
   ],
   "metadata": {
    "collapsed": false,
    "pycharm": {
     "name": "#%%\n"
    }
   }
  },
  {
   "cell_type": "code",
   "execution_count": 7,
   "outputs": [],
   "source": [
    "from sklearn.linear_model import LinearRegression\n",
    "from sklearn.tree import DecisionTreeRegressor\n",
    "from sklearn.ensemble import RandomForestRegressor, GradientBoostingRegressor, ExtraTreesRegressor\n",
    "from xgboost import XGBRegressor\n",
    "from lightgbm import LGBMRegressor"
   ],
   "metadata": {
    "collapsed": false,
    "pycharm": {
     "name": "#%%\n"
    }
   }
  },
  {
   "cell_type": "code",
   "execution_count": 7,
   "outputs": [],
   "source": [],
   "metadata": {
    "collapsed": false,
    "pycharm": {
     "name": "#%%\n"
    }
   }
  },
  {
   "cell_type": "code",
   "execution_count": 8,
   "outputs": [],
   "source": [
    "SEED = 42\n",
    "target = 'price'"
   ],
   "metadata": {
    "collapsed": false,
    "pycharm": {
     "name": "#%%\n"
    }
   }
  },
  {
   "cell_type": "code",
   "execution_count": 9,
   "outputs": [],
   "source": [
    "def mape(y_true, y_pred):\n",
    "    return np.mean(np.abs((y_pred-y_true)/y_true))"
   ],
   "metadata": {
    "collapsed": false,
    "pycharm": {
     "name": "#%%\n"
    }
   }
  },
  {
   "cell_type": "code",
   "execution_count": 10,
   "outputs": [],
   "source": [
    "\"\"\" функция перобразования списка в датафрейм (для красоты отображения на экран)\"\"\"\n",
    "def list_cut(to_cut):\n",
    "    \"\"\"\n",
    "    :param to_cut: список для преобразорвания в датафрейм\n",
    "    :return: в результате на экран выводится таблица\n",
    "    \"\"\"\n",
    "\n",
    "    # Объявим функции для разбиение списка на список стеков и генерировнаия названий для датафрейма\n",
    "    to_cut = list(np.sort(to_cut))\n",
    "    cut_list = lambda item: [item[i:i+7] for i in range(0, len(item), 7)]\n",
    "    name_list = lambda nom: [\"vectors\"+ str(i) for i in range(0,math.ceil(nom/7))]\n",
    "\n",
    "    # создание датафрейма и присовение названий векторам (пропуски заполняем '')\n",
    "    df_ = pd.DataFrame(cut_list(to_cut)).T\n",
    "    df_.columns = name_list(len(to_cut))\n",
    "    df_.fillna('', inplace=True)\n",
    "\n",
    "    # выводим на экран\n",
    "    display(df_)"
   ],
   "metadata": {
    "collapsed": false,
    "pycharm": {
     "name": "#%%\n"
    }
   }
  },
  {
   "cell_type": "code",
   "execution_count": 11,
   "outputs": [],
   "source": [
    "\"\"\" Функция проверки корреляции с целевым вектором в виде графика heatmap \"\"\"\n",
    "def heatmap(drop_list, dd, target = target):\n",
    "    \"\"\"\n",
    "    :param drop_list: список для удаления из датасета\n",
    "    :param dd: название датасета, по умолчанию = train\n",
    "    :param target: целевой вектор, по умолчанию значение переменной target извне функции\n",
    "    :return: выводит только информацию в виде таблицы исключенных столбцов и графика корреляции\n",
    "    \"\"\"\n",
    "    dlst = list(set(dd.columns) - set(drop_list) - {target})\n",
    "    dlst = list(np.sort(dlst))\n",
    "\n",
    "    dlst.append(target)\n",
    "    sns.set(font_scale=1)\n",
    "    plt.subplots(figsize=(16, 16))\n",
    "    sns.heatmap(dd[dlst].corr(), square=True,\n",
    "                annot=True, fmt=\".3f\", linewidths=0.1, cmap=\"RdBu\", vmin=-1, vmax=1)\n",
    "\n",
    "    # для удобства отображения делим веткор для модели на части по 7 строк и перобразум в таблицу.\n",
    "    list_cut(drop_list)"
   ],
   "metadata": {
    "collapsed": false,
    "pycharm": {
     "name": "#%%\n"
    }
   }
  },
  {
   "cell_type": "code",
   "execution_count": 22,
   "outputs": [],
   "source": [
    "path = '/Users/irenaradzevich/Documents/sergei_dev/ project_05/'"
   ],
   "metadata": {
    "collapsed": false,
    "pycharm": {
     "name": "#%%\n"
    }
   }
  },
  {
   "cell_type": "code",
   "execution_count": 23,
   "outputs": [],
   "source": [
    "auto = pd.read_csv(path+'all_auto_ru_09_09_2020.csv')"
   ],
   "metadata": {
    "collapsed": false,
    "pycharm": {
     "name": "#%%\n"
    }
   }
  },
  {
   "cell_type": "code",
   "execution_count": 11,
   "outputs": [
    {
     "name": "stdout",
     "output_type": "stream",
     "text": [
      "Train data shape : (103794, 33),\n",
      " auto data shape : (89378, 26),\n",
      " test data shape : (34686, 32)\n"
     ]
    }
   ],
   "source": [
    "test = pd.read_csv('test.csv')\n",
    "train = pd.read_csv('train.csv')\n",
    "print(f'Train data shape : {train.shape},\\n auto data shape : {auto.shape},\\n test data shape : {test.shape}')"
   ],
   "metadata": {
    "collapsed": false,
    "pycharm": {
     "name": "#%%\n"
    }
   }
  },
  {
   "cell_type": "markdown",
   "source": [
    "---\n",
    "# 0. Crearing data\n",
    "---"
   ],
   "metadata": {
    "collapsed": false
   }
  },
  {
   "cell_type": "code",
   "execution_count": 12,
   "outputs": [
    {
     "name": "stdout",
     "output_type": "stream",
     "text": [
      "Records 87764, duplicates 0\n",
      "Number of empty features values in train dataset:\n"
     ]
    },
    {
     "data": {
      "text/plain": "complectation_dict         61\nimage                       1\nmodelDate               87764\nmodel_info              87764\nnumberOfDoors              61\nvehicleConfiguration    87764\nvendor                  87764\nВладельцы                   7\nВладение                62123\nПТС                         1\nСостояние                   7\nТаможня                    11\ndtype: int64"
     },
     "execution_count": 12,
     "metadata": {},
     "output_type": "execute_result"
    }
   ],
   "source": [
    "# drop duplicates and records with zero-prices and records on new cars (they has different webpage structure)\n",
    "train.drop_duplicates(inplace=True)\n",
    "train.dropna(subset=['price', 'bodyType'], inplace=True)\n",
    "print(f'Records {train.shape[0]}, duplicates {train.duplicated().sum()}')\n",
    "\n",
    "# statistics of NAN in train dataset\n",
    "nulls = train.isnull().sum()\n",
    "print('Number of empty features values in train dataset:')\n",
    "nulls[nulls.values >0]"
   ],
   "metadata": {
    "collapsed": false,
    "pycharm": {
     "name": "#%%\n"
    }
   }
  },
  {
   "cell_type": "code",
   "execution_count": 13,
   "outputs": [],
   "source": [
    "# fill empty 'numberOfDoors' with value as the same bodyType has\n",
    "doors = dict(train.groupby(['bodyType', 'numberOfDoors'])['numberOfDoors'].count().index)\n",
    "train['numberOfDoors']=train.bodyType.map(doors)\n",
    "\n",
    "# fill empty 'complectation_dict' with empty dict\n",
    "train.complectation_dict = train.complectation_dict.apply(lambda q: dict() if pd.isna(q) else q)"
   ],
   "metadata": {
    "collapsed": false,
    "pycharm": {
     "name": "#%%\n"
    }
   }
  },
  {
   "cell_type": "code",
   "execution_count": 14,
   "outputs": [],
   "source": [
    "train.numberOfDoors = train.numberOfDoors.apply(int)\n",
    "train.parsing_unixtime = train.parsing_unixtime.apply(int)\n",
    "train.productionDate = train.productionDate.apply(int)\n",
    "train.sell_id = train.sell_id.apply(int)"
   ],
   "metadata": {
    "collapsed": false,
    "pycharm": {
     "name": "#%%\n"
    }
   }
  },
  {
   "cell_type": "code",
   "execution_count": 15,
   "outputs": [],
   "source": [
    "train.mileage = train.mileage.apply(int)"
   ],
   "metadata": {
    "collapsed": false,
    "pycharm": {
     "name": "#%%\n"
    }
   }
  },
  {
   "cell_type": "code",
   "execution_count": 16,
   "outputs": [
    {
     "name": "stdout",
     "output_type": "stream",
     "text": [
      "Number of empty features values in train dataset:\n"
     ]
    },
    {
     "data": {
      "text/plain": "image                       1\nmodelDate               87764\nmodel_info              87764\nvehicleConfiguration    87764\nvendor                  87764\nВладельцы                   7\nВладение                62123\nПТС                         1\nСостояние                   7\nТаможня                    11\ndtype: int64"
     },
     "execution_count": 16,
     "metadata": {},
     "output_type": "execute_result"
    }
   ],
   "source": [
    "nulls = train.isnull().sum()\n",
    "print('Number of empty features values in train dataset:')\n",
    "nulls[nulls.values >0]"
   ],
   "metadata": {
    "collapsed": false,
    "pycharm": {
     "name": "#%%\n"
    }
   }
  },
  {
   "cell_type": "code",
   "execution_count": 17,
   "outputs": [
    {
     "data": {
      "text/plain": "bodyType                    0\nbrand                       0\ncar_url                     0\ncolor                       0\ncomplectation_dict      28268\ndescription                 0\nengineDisplacement          0\nenginePower                 0\nequipment_dict           9996\nfuelType                    0\nimage                       0\nmileage                     0\nmodelDate                   0\nmodel_info                  0\nmodel_name                  0\nname                        0\nnumberOfDoors               0\nparsing_unixtime            0\npriceCurrency               0\nproductionDate              0\nsell_id                     0\nsuper_gen                   0\nvehicleConfiguration        0\nvehicleTransmission         0\nvendor                      0\nВладельцы                   0\nВладение                22691\nПТС                         1\nПривод                      0\nРуль                        0\nСостояние                   0\nТаможня                     0\ndtype: int64"
     },
     "execution_count": 17,
     "metadata": {},
     "output_type": "execute_result"
    }
   ],
   "source": [
    "test.isnull().sum()"
   ],
   "metadata": {
    "collapsed": false,
    "pycharm": {
     "name": "#%%\n"
    }
   }
  },
  {
   "cell_type": "code",
   "execution_count": 17,
   "outputs": [],
   "source": [],
   "metadata": {
    "collapsed": false,
    "pycharm": {
     "name": "#%%\n"
    }
   }
  },
  {
   "cell_type": "markdown",
   "source": [
    "---\n",
    "### Checking 'test' and 'auto' datadset.\n",
    "It is very important to understand when they was parsed. The prices in Russian is always run up,\n",
    "so ML-model can be good to predict today prices, but several month ago parsed test dataset - no,\n",
    "because only the another level of prices."
   ],
   "metadata": {
    "collapsed": false
   }
  },
  {
   "cell_type": "code",
   "execution_count": 18,
   "outputs": [
    {
     "data": {
      "text/plain": "(1294586.3563303659, 1555948.3935326557, 1.201888453345937)"
     },
     "execution_count": 18,
     "metadata": {},
     "output_type": "execute_result"
    }
   ],
   "source": [
    "auto.price.mean(), train.price.mean() , train.price.mean()/auto.price.mean()"
   ],
   "metadata": {
    "collapsed": false,
    "pycharm": {
     "name": "#%%\n"
    }
   }
  },
  {
   "cell_type": "code",
   "execution_count": 19,
   "outputs": [
    {
     "name": "stdout",
     "output_type": "stream",
     "text": [
      "Mon Oct 19 14:35:06 2020\n",
      "Mon Oct 26 14:04:24 2020\n"
     ]
    }
   ],
   "source": [
    "import time\n",
    "print(time.ctime(test.parsing_unixtime.min()))\n",
    "print(time.ctime(test.parsing_unixtime.max()))"
   ],
   "metadata": {
    "collapsed": false,
    "pycharm": {
     "name": "#%%\n"
    }
   }
  },
  {
   "cell_type": "markdown",
   "source": [
    "### Resume:\n",
    "test data was parsed nearly when was pased auto dataset - in september 2020.\n",
    "Today's prises in my train dataset is higher on 20.188%.\n",
    "So we must to divide current prices by the factor 1.3245."
   ],
   "metadata": {
    "collapsed": false
   }
  },
  {
   "cell_type": "code",
   "execution_count": 20,
   "outputs": [],
   "source": [
    "train['price_current']=train.price\n",
    "train.price = train.price / 1.201888"
   ],
   "metadata": {
    "collapsed": false,
    "pycharm": {
     "name": "#%%\n"
    }
   }
  },
  {
   "cell_type": "markdown",
   "source": [
    "----\n",
    "# Clearin data\n"
   ],
   "metadata": {
    "collapsed": false
   }
  },
  {
   "cell_type": "markdown",
   "source": [
    "## bodyType"
   ],
   "metadata": {
    "collapsed": false
   }
  },
  {
   "cell_type": "code",
   "execution_count": 21,
   "outputs": [],
   "source": [
    "def vector_items(vector: str):\n",
    "\n",
    "    train_set = set(train[vector])\n",
    "    test_set = set(test[vector].unique())\n",
    "    train_dif = train_set - test_set\n",
    "    test_dif = test_set-train_set\n",
    "    print(f'Statistics of items in vector: {vector}.\\n ---------------------------')\n",
    "    print(f'Train has {len(train_set)} unique items and has difference: {train_dif},')\n",
    "    print('--')\n",
    "    print(f'Test has {len(test_set)} unique items and has difference: {test_dif}.')\n",
    "    print(test_set)"
   ],
   "metadata": {
    "collapsed": false,
    "pycharm": {
     "name": "#%%\n"
    }
   }
  },
  {
   "cell_type": "code",
   "execution_count": 22,
   "outputs": [
    {
     "name": "stdout",
     "output_type": "stream",
     "text": [
      "Statistics of items in vector: bodyType.\n",
      " ---------------------------\n",
      "Train has 23 unique items and has difference: set(),\n",
      "--\n",
      "Test has 24 unique items and has difference: {'фастбек'}.\n",
      "{'хэтчбек 3 дв.', 'внедорожник 3 дв.', 'лифтбек', 'фастбек', 'компактвэн', 'внедорожник открытый', 'хэтчбек 5 дв.', 'внедорожник 5 дв.', 'купе-хардтоп', 'минивэн', 'седан-хардтоп', 'универсал 5 дв.', 'пикап полуторная кабина', 'фургон', 'кабриолет', 'микровэн', 'лимузин', 'тарга', 'седан 2 дв.', 'седан', 'пикап одинарная кабина', 'родстер', 'купе', 'пикап двойная кабина'}\n"
     ]
    }
   ],
   "source": [
    "vector_items('bodyType')"
   ],
   "metadata": {
    "collapsed": false,
    "pycharm": {
     "name": "#%%\n"
    }
   }
  },
  {
   "cell_type": "markdown",
   "source": [
    "## brand, model_name, model (new vector)"
   ],
   "metadata": {
    "collapsed": false
   }
  },
  {
   "cell_type": "code",
   "execution_count": 23,
   "outputs": [
    {
     "name": "stdout",
     "output_type": "stream",
     "text": [
      "Statistics of items in vector: brand.\n",
      " ---------------------------\n",
      "Train has 12 unique items and has difference: set(),\n",
      "--\n",
      "Test has 12 unique items and has difference: set().\n",
      "{'MITSUBISHI', 'LEXUS', 'MERCEDES', 'NISSAN', 'HONDA', 'SKODA', 'AUDI', 'INFINITI', 'TOYOTA', 'VOLVO', 'BMW', 'VOLKSWAGEN'}\n"
     ]
    }
   ],
   "source": [
    "vector_items('brand')"
   ],
   "metadata": {
    "collapsed": false,
    "pycharm": {
     "name": "#%%\n"
    }
   }
  },
  {
   "cell_type": "code",
   "execution_count": 24,
   "outputs": [],
   "source": [
    "train.model_name = train.model_name.str.upper()"
   ],
   "metadata": {
    "collapsed": false,
    "pycharm": {
     "name": "#%%\n"
    }
   }
  },
  {
   "cell_type": "code",
   "execution_count": 25,
   "outputs": [
    {
     "data": {
      "text/plain": "      bodyType     brand                                            car_url  \\\n41563    седан  MERCEDES  https://auto.ru/cars/used/sale/mercedes/s_klas...   \n41564    седан  MERCEDES  https://auto.ru/cars/used/sale/mercedes/s_klas...   \n41565    седан  MERCEDES  https://auto.ru/cars/used/sale/mercedes/s_klas...   \n41566    седан  MERCEDES  https://auto.ru/cars/used/sale/mercedes/s_klas...   \n41567    седан  MERCEDES  https://auto.ru/cars/used/sale/mercedes/s_klas...   \n...        ...       ...                                                ...   \n43053    седан  MERCEDES  https://auto.ru/cars/used/sale/mercedes/s_klas...   \n43055    седан  MERCEDES  https://auto.ru/cars/used/sale/mercedes/s_klas...   \n43056    седан  MERCEDES  https://auto.ru/cars/used/sale/mercedes/s_klas...   \n43057    седан  MERCEDES  https://auto.ru/cars/used/sale/mercedes/s_klas...   \n43059    седан  MERCEDES  https://auto.ru/cars/used/sale/mercedes/s_klas...   \n\n        color                                 complectation_dict  \\\n41563  чёрный  {'back-brake': 'Ventilated disc', 'feeding': '...   \n41564  чёрный  {'back-brake': 'Ventilated disc', 'feeding': '...   \n41565  чёрный  {'back-brake': 'Ventilated disc', 'feeding': '...   \n41566  чёрный  {'back-brake': 'Ventilated disc', 'feeding': '...   \n41567  чёрный  {'back-brake': 'Ventilated disc', 'feeding': '...   \n...       ...                                                ...   \n43053  чёрный  {'back-brake': 'Disc', 'feeding': 'None', 'ful...   \n43055   синий  {'back-brake': 'Disc', 'feeding': 'None', 'ful...   \n43056   синий  {'back-brake': 'Disc', 'feeding': 'None', 'hor...   \n43057  чёрный  {'back-brake': 'Disc', 'feeding': 'None', 'ful...   \n43059  чёрный  {'back-brake': 'Ventilated disc', 'feeding': '...   \n\n                                             description engineDisplacement  \\\n41563  Авто новое пробег 2500км в самой топовой компл...              2.9 л   \n41564  Автомобиль приобретён у официального дилера Па...              3.0 л   \n41565   ЛУКАВТО официальный дилер Mercedes Benz в Рос...              2.9 л   \n41566  Внимание Только для клиентов AVILON Автомобили...              3.0 л   \n41567  В пленке самая полная комплектация нет только ...              3.0 л   \n...                                                  ...                ...   \n43053                  На пружинах описание на фото Торг              3.2 л   \n43055  Автомобиль продается по генеральной довереннос...              3.0 л   \n43056  Дорест Из плюсов люк работает ходовка мягенька...              2.8 л   \n43057  БЕЗ ТОРГА По поводу торга не звонить и не писа...              4.3 л   \n43059  Редчайший в наших краях лимузин но увы не сохр...              4.2 л   \n\n      enginePower                                     equipment_dict fuelType  \\\n41563    249 л.с.  {'e-adjustment-wheel': True, 'multi-wheel': Tr...   Дизель   \n41564    367 л.с.  {'asr': True, 'roller-blind-for-rear-window': ...   Бензин   \n41565    249 л.с.  {'asr': True, 'roller-blind-for-rear-window': ...   Дизель   \n41566    367 л.с.  {'cruise-control': True, 'asr': True, 'roller-...   Бензин   \n41567    367 л.с.  {'asr': True, 'tinted-glass': True, 'roller-bl...   Бензин   \n...           ...                                                ...      ...   \n43053    224 л.с.  {'tinted-glass': True, 'roller-blind-for-rear-...   Бензин   \n43055    180 л.с.  {'passenger-seat-updown': True, '16-inch-wheel...   Бензин   \n43056    156 л.с.                                    {'hatch': True}   Бензин   \n43057    279 л.с.  {'asr': True, 'tinted-glass': True, 'esp': Tru...   Бензин   \n43059    279 л.с.                                                 {}   Бензин   \n\n       ... vendor    Владельцы         Владение       ПТС  Привод   Руль  \\\n41563  ...    NaN   1 владелец              NaN  Оригинал  полный  Левый   \n41564  ...    NaN  2 владельца              NaN  Оригинал  полный  Левый   \n41565  ...    NaN   1 владелец              NaN  Оригинал  полный  Левый   \n41566  ...    NaN   1 владелец              NaN  Оригинал  полный  Левый   \n41567  ...    NaN   1 владелец        8 месяцев  Оригинал  полный  Левый   \n...    ...    ...          ...              ...       ...     ...    ...   \n43053  ...    NaN  3 или более              NaN  Оригинал  задний  Левый   \n43055  ...    NaN  3 или более           4 года  Оригинал  задний  Левый   \n43056  ...    NaN  3 или более              NaN  Оригинал  задний  Левый   \n43057  ...    NaN  3 или более        8 месяцев  Оригинал  задний  Левый   \n43059  ...    NaN  3 или более  1 год и 1 месяц  Дубликат  задний  Левый   \n\n                Состояние     Таможня         price  price_current  \n41563  Не требует ремонта  Растаможен  1.310438e+07     15750000.0  \n41564  Не требует ремонта  Растаможен  1.318758e+07     15850000.0  \n41565  Не требует ремонта  Растаможен  1.331156e+07     15999000.0  \n41566  Не требует ремонта  Растаможен  1.329575e+07     15980000.0  \n41567  Не требует ремонта  Растаможен  1.289638e+07     15500000.0  \n...                   ...         ...           ...            ...  \n43053  Не требует ремонта  Растаможен  1.664049e+05       200000.0  \n43055  Не требует ремонта  Растаможен  1.664049e+05       200000.0  \n43056  Не требует ремонта  Растаможен  1.664049e+05       200000.0  \n43057  Не требует ремонта  Растаможен  1.664040e+05       199999.0  \n43059  Не требует ремонта  Растаможен  1.497644e+05       180000.0  \n\n[1384 rows x 34 columns]",
      "text/html": "<div>\n<style scoped>\n    .dataframe tbody tr th:only-of-type {\n        vertical-align: middle;\n    }\n\n    .dataframe tbody tr th {\n        vertical-align: top;\n    }\n\n    .dataframe thead th {\n        text-align: right;\n    }\n</style>\n<table border=\"1\" class=\"dataframe\">\n  <thead>\n    <tr style=\"text-align: right;\">\n      <th></th>\n      <th>bodyType</th>\n      <th>brand</th>\n      <th>car_url</th>\n      <th>color</th>\n      <th>complectation_dict</th>\n      <th>description</th>\n      <th>engineDisplacement</th>\n      <th>enginePower</th>\n      <th>equipment_dict</th>\n      <th>fuelType</th>\n      <th>...</th>\n      <th>vendor</th>\n      <th>Владельцы</th>\n      <th>Владение</th>\n      <th>ПТС</th>\n      <th>Привод</th>\n      <th>Руль</th>\n      <th>Состояние</th>\n      <th>Таможня</th>\n      <th>price</th>\n      <th>price_current</th>\n    </tr>\n  </thead>\n  <tbody>\n    <tr>\n      <th>41563</th>\n      <td>седан</td>\n      <td>MERCEDES</td>\n      <td>https://auto.ru/cars/used/sale/mercedes/s_klas...</td>\n      <td>чёрный</td>\n      <td>{'back-brake': 'Ventilated disc', 'feeding': '...</td>\n      <td>Авто новое пробег 2500км в самой топовой компл...</td>\n      <td>2.9 л</td>\n      <td>249 л.с.</td>\n      <td>{'e-adjustment-wheel': True, 'multi-wheel': Tr...</td>\n      <td>Дизель</td>\n      <td>...</td>\n      <td>NaN</td>\n      <td>1 владелец</td>\n      <td>NaN</td>\n      <td>Оригинал</td>\n      <td>полный</td>\n      <td>Левый</td>\n      <td>Не требует ремонта</td>\n      <td>Растаможен</td>\n      <td>1.310438e+07</td>\n      <td>15750000.0</td>\n    </tr>\n    <tr>\n      <th>41564</th>\n      <td>седан</td>\n      <td>MERCEDES</td>\n      <td>https://auto.ru/cars/used/sale/mercedes/s_klas...</td>\n      <td>чёрный</td>\n      <td>{'back-brake': 'Ventilated disc', 'feeding': '...</td>\n      <td>Автомобиль приобретён у официального дилера Па...</td>\n      <td>3.0 л</td>\n      <td>367 л.с.</td>\n      <td>{'asr': True, 'roller-blind-for-rear-window': ...</td>\n      <td>Бензин</td>\n      <td>...</td>\n      <td>NaN</td>\n      <td>2 владельца</td>\n      <td>NaN</td>\n      <td>Оригинал</td>\n      <td>полный</td>\n      <td>Левый</td>\n      <td>Не требует ремонта</td>\n      <td>Растаможен</td>\n      <td>1.318758e+07</td>\n      <td>15850000.0</td>\n    </tr>\n    <tr>\n      <th>41565</th>\n      <td>седан</td>\n      <td>MERCEDES</td>\n      <td>https://auto.ru/cars/used/sale/mercedes/s_klas...</td>\n      <td>чёрный</td>\n      <td>{'back-brake': 'Ventilated disc', 'feeding': '...</td>\n      <td>ЛУКАВТО официальный дилер Mercedes Benz в Рос...</td>\n      <td>2.9 л</td>\n      <td>249 л.с.</td>\n      <td>{'asr': True, 'roller-blind-for-rear-window': ...</td>\n      <td>Дизель</td>\n      <td>...</td>\n      <td>NaN</td>\n      <td>1 владелец</td>\n      <td>NaN</td>\n      <td>Оригинал</td>\n      <td>полный</td>\n      <td>Левый</td>\n      <td>Не требует ремонта</td>\n      <td>Растаможен</td>\n      <td>1.331156e+07</td>\n      <td>15999000.0</td>\n    </tr>\n    <tr>\n      <th>41566</th>\n      <td>седан</td>\n      <td>MERCEDES</td>\n      <td>https://auto.ru/cars/used/sale/mercedes/s_klas...</td>\n      <td>чёрный</td>\n      <td>{'back-brake': 'Ventilated disc', 'feeding': '...</td>\n      <td>Внимание Только для клиентов AVILON Автомобили...</td>\n      <td>3.0 л</td>\n      <td>367 л.с.</td>\n      <td>{'cruise-control': True, 'asr': True, 'roller-...</td>\n      <td>Бензин</td>\n      <td>...</td>\n      <td>NaN</td>\n      <td>1 владелец</td>\n      <td>NaN</td>\n      <td>Оригинал</td>\n      <td>полный</td>\n      <td>Левый</td>\n      <td>Не требует ремонта</td>\n      <td>Растаможен</td>\n      <td>1.329575e+07</td>\n      <td>15980000.0</td>\n    </tr>\n    <tr>\n      <th>41567</th>\n      <td>седан</td>\n      <td>MERCEDES</td>\n      <td>https://auto.ru/cars/used/sale/mercedes/s_klas...</td>\n      <td>чёрный</td>\n      <td>{'back-brake': 'Ventilated disc', 'feeding': '...</td>\n      <td>В пленке самая полная комплектация нет только ...</td>\n      <td>3.0 л</td>\n      <td>367 л.с.</td>\n      <td>{'asr': True, 'tinted-glass': True, 'roller-bl...</td>\n      <td>Бензин</td>\n      <td>...</td>\n      <td>NaN</td>\n      <td>1 владелец</td>\n      <td>8 месяцев</td>\n      <td>Оригинал</td>\n      <td>полный</td>\n      <td>Левый</td>\n      <td>Не требует ремонта</td>\n      <td>Растаможен</td>\n      <td>1.289638e+07</td>\n      <td>15500000.0</td>\n    </tr>\n    <tr>\n      <th>...</th>\n      <td>...</td>\n      <td>...</td>\n      <td>...</td>\n      <td>...</td>\n      <td>...</td>\n      <td>...</td>\n      <td>...</td>\n      <td>...</td>\n      <td>...</td>\n      <td>...</td>\n      <td>...</td>\n      <td>...</td>\n      <td>...</td>\n      <td>...</td>\n      <td>...</td>\n      <td>...</td>\n      <td>...</td>\n      <td>...</td>\n      <td>...</td>\n      <td>...</td>\n      <td>...</td>\n    </tr>\n    <tr>\n      <th>43053</th>\n      <td>седан</td>\n      <td>MERCEDES</td>\n      <td>https://auto.ru/cars/used/sale/mercedes/s_klas...</td>\n      <td>чёрный</td>\n      <td>{'back-brake': 'Disc', 'feeding': 'None', 'ful...</td>\n      <td>На пружинах описание на фото Торг</td>\n      <td>3.2 л</td>\n      <td>224 л.с.</td>\n      <td>{'tinted-glass': True, 'roller-blind-for-rear-...</td>\n      <td>Бензин</td>\n      <td>...</td>\n      <td>NaN</td>\n      <td>3 или более</td>\n      <td>NaN</td>\n      <td>Оригинал</td>\n      <td>задний</td>\n      <td>Левый</td>\n      <td>Не требует ремонта</td>\n      <td>Растаможен</td>\n      <td>1.664049e+05</td>\n      <td>200000.0</td>\n    </tr>\n    <tr>\n      <th>43055</th>\n      <td>седан</td>\n      <td>MERCEDES</td>\n      <td>https://auto.ru/cars/used/sale/mercedes/s_klas...</td>\n      <td>синий</td>\n      <td>{'back-brake': 'Disc', 'feeding': 'None', 'ful...</td>\n      <td>Автомобиль продается по генеральной довереннос...</td>\n      <td>3.0 л</td>\n      <td>180 л.с.</td>\n      <td>{'passenger-seat-updown': True, '16-inch-wheel...</td>\n      <td>Бензин</td>\n      <td>...</td>\n      <td>NaN</td>\n      <td>3 или более</td>\n      <td>4 года</td>\n      <td>Оригинал</td>\n      <td>задний</td>\n      <td>Левый</td>\n      <td>Не требует ремонта</td>\n      <td>Растаможен</td>\n      <td>1.664049e+05</td>\n      <td>200000.0</td>\n    </tr>\n    <tr>\n      <th>43056</th>\n      <td>седан</td>\n      <td>MERCEDES</td>\n      <td>https://auto.ru/cars/used/sale/mercedes/s_klas...</td>\n      <td>синий</td>\n      <td>{'back-brake': 'Disc', 'feeding': 'None', 'hor...</td>\n      <td>Дорест Из плюсов люк работает ходовка мягенька...</td>\n      <td>2.8 л</td>\n      <td>156 л.с.</td>\n      <td>{'hatch': True}</td>\n      <td>Бензин</td>\n      <td>...</td>\n      <td>NaN</td>\n      <td>3 или более</td>\n      <td>NaN</td>\n      <td>Оригинал</td>\n      <td>задний</td>\n      <td>Левый</td>\n      <td>Не требует ремонта</td>\n      <td>Растаможен</td>\n      <td>1.664049e+05</td>\n      <td>200000.0</td>\n    </tr>\n    <tr>\n      <th>43057</th>\n      <td>седан</td>\n      <td>MERCEDES</td>\n      <td>https://auto.ru/cars/used/sale/mercedes/s_klas...</td>\n      <td>чёрный</td>\n      <td>{'back-brake': 'Disc', 'feeding': 'None', 'ful...</td>\n      <td>БЕЗ ТОРГА По поводу торга не звонить и не писа...</td>\n      <td>4.3 л</td>\n      <td>279 л.с.</td>\n      <td>{'asr': True, 'tinted-glass': True, 'esp': Tru...</td>\n      <td>Бензин</td>\n      <td>...</td>\n      <td>NaN</td>\n      <td>3 или более</td>\n      <td>8 месяцев</td>\n      <td>Оригинал</td>\n      <td>задний</td>\n      <td>Левый</td>\n      <td>Не требует ремонта</td>\n      <td>Растаможен</td>\n      <td>1.664040e+05</td>\n      <td>199999.0</td>\n    </tr>\n    <tr>\n      <th>43059</th>\n      <td>седан</td>\n      <td>MERCEDES</td>\n      <td>https://auto.ru/cars/used/sale/mercedes/s_klas...</td>\n      <td>чёрный</td>\n      <td>{'back-brake': 'Ventilated disc', 'feeding': '...</td>\n      <td>Редчайший в наших краях лимузин но увы не сохр...</td>\n      <td>4.2 л</td>\n      <td>279 л.с.</td>\n      <td>{}</td>\n      <td>Бензин</td>\n      <td>...</td>\n      <td>NaN</td>\n      <td>3 или более</td>\n      <td>1 год и 1 месяц</td>\n      <td>Дубликат</td>\n      <td>задний</td>\n      <td>Левый</td>\n      <td>Не требует ремонта</td>\n      <td>Растаможен</td>\n      <td>1.497644e+05</td>\n      <td>180000.0</td>\n    </tr>\n  </tbody>\n</table>\n<p>1384 rows × 34 columns</p>\n</div>"
     },
     "execution_count": 25,
     "metadata": {},
     "output_type": "execute_result"
    }
   ],
   "source": [
    "train[train.model_name == 'S-КЛАСС']"
   ],
   "metadata": {
    "collapsed": false,
    "pycharm": {
     "name": "#%%\n"
    }
   }
  },
  {
   "cell_type": "code",
   "execution_count": 26,
   "outputs": [
    {
     "data": {
      "text/plain": "      bodyType     brand                                            car_url  \\\n15416    седан  MERCEDES  https://auto.ru/cars/used/sale/mercedes/s_klas...   \n15449    седан  MERCEDES  https://auto.ru/cars/used/sale/mercedes/s_klas...   \n15453    седан  MERCEDES  https://auto.ru/cars/used/sale/mercedes/s_klas...   \n15492    седан  MERCEDES  https://auto.ru/cars/used/sale/mercedes/s_klas...   \n15497    седан  MERCEDES  https://auto.ru/cars/used/sale/mercedes/s_klas...   \n...        ...       ...                                                ...   \n34214    седан  MERCEDES  https://auto.ru/cars/used/sale/mercedes/s_klas...   \n34226    седан  MERCEDES  https://auto.ru/cars/used/sale/mercedes/s_klas...   \n34239    седан  MERCEDES  https://auto.ru/cars/used/sale/mercedes/s_klas...   \n34241    седан  MERCEDES  https://auto.ru/cars/used/sale/mercedes/s_klas...   \n34246    седан  MERCEDES  https://auto.ru/cars/used/sale/mercedes/s_klas...   \n\n        color                                 complectation_dict  \\\n15416   синий                                                NaN   \n15449  чёрный                                                NaN   \n15453  чёрный                                                NaN   \n15492  чёрный  {\"id\":\"21016733\",\"name\":\"S 450 4MATIC\",\"availa...   \n15497  чёрный                                                NaN   \n...       ...                                                ...   \n34214  чёрный                                                NaN   \n34226  чёрный                                                NaN   \n34239  чёрный                                                NaN   \n34241  чёрный                                                NaN   \n34246  чёрный                                                NaN   \n\n                                             description engineDisplacement  \\\n15416  Позвоните нам и получите дополнительную скидку...            5.5 LTR   \n15449  В ДТП не участвовала.\\n\\n。Подушка безопасности...            4.7 LTR   \n15453  ЛОТ: 01200668\\nFAVORIT MOTORS KIA Юг\\n\\nВы мож...            3.0 LTR   \n15492  МБ-Беляево — официальный дилер «Мерседес-Бенц»...            3.0 LTR   \n15497  Автодилер года 2020\\n\\nПобедитель в номинации ...            4.7 LTR   \n...                                                  ...                ...   \n34214  Автомобиль в отличном состоянии.Обслуживался в...            5.0 LTR   \n34226  Автомобиль Приобретался у официального дилера ...            4.0 LTR   \n34239  Продаётся легендарный S500 короткая база, полн...            5.0 LTR   \n34241  Автомобиль продается официальным дилером Автом...            3.0 LTR   \n34246                              Цена до 30 октября !             2.8 LTR   \n\n      enginePower                                     equipment_dict fuelType  \\\n15416     388 N12  {\"electro-window-back\":true,\"alloy-wheel-disks...   бензин   \n15449     435 N12  {\"cruise-control\":true,\"asr\":true,\"tinted-glas...   бензин   \n15453     235 N12  {\"asr\":true,\"tinted-glass\":true,\"esp\":true,\"ad...   дизель   \n15492     367 N12  {\"cruise-control\":true,\"roller-blind-for-rear-...   бензин   \n15497     435 N12  {\"cruise-control\":true,\"airbag-rear-side\":true...   бензин   \n...           ...                                                ...      ...   \n34214     306 N12                                                NaN   бензин   \n34226     469 N12                                                NaN   бензин   \n34239     306 N12                                                NaN   бензин   \n34241     235 N12  {\"cruise-control\":true,\"asr\":true,\"tinted-glas...   дизель   \n34246     193 N12  {\"cruise-control\":true,\"roller-blind-for-rear-...   бензин   \n\n       ... vehicleConfiguration  vehicleTransmission    vendor    Владельцы  \\\n15416  ...  SEDAN AUTOMATIC 5.5       автоматическая  EUROPEAN  2 владельца   \n15449  ...  SEDAN AUTOMATIC 4.7       автоматическая  EUROPEAN  3 или более   \n15453  ...  SEDAN AUTOMATIC 3.0       автоматическая  EUROPEAN  3 или более   \n15492  ...  SEDAN AUTOMATIC 3.0       автоматическая  EUROPEAN   1 владелец   \n15497  ...  SEDAN AUTOMATIC 4.7       автоматическая  EUROPEAN  3 или более   \n...    ...                  ...                  ...       ...          ...   \n34214  ...  SEDAN AUTOMATIC 5.0       автоматическая  EUROPEAN  2 владельца   \n34226  ...  SEDAN AUTOMATIC 4.0       автоматическая  EUROPEAN  2 владельца   \n34239  ...  SEDAN AUTOMATIC 5.0       автоматическая  EUROPEAN  2 владельца   \n34241  ...  SEDAN AUTOMATIC 3.0       автоматическая  EUROPEAN  3 или более   \n34246  ...  SEDAN AUTOMATIC 2.8       автоматическая  EUROPEAN  3 или более   \n\n      Владение       ПТС  Привод   Руль           Состояние     Таможня  \n15416      NaN  Оригинал  полный  Левый  Не требует ремонта  Растаможен  \n15449      NaN  Оригинал  полный  Левый  Не требует ремонта  Растаможен  \n15453      NaN  Оригинал  полный  Левый  Не требует ремонта  Растаможен  \n15492      NaN  Оригинал  полный  Левый  Не требует ремонта  Растаможен  \n15497      NaN  Оригинал  полный  Левый  Не требует ремонта  Растаможен  \n...        ...       ...     ...    ...                 ...         ...  \n34214      NaN  Оригинал  полный  Левый  Не требует ремонта  Растаможен  \n34226      NaN  Оригинал  полный  Левый  Не требует ремонта  Растаможен  \n34239      NaN  Оригинал  полный  Левый  Не требует ремонта  Растаможен  \n34241      NaN  Оригинал  полный  Левый  Не требует ремонта  Растаможен  \n34246      NaN  Дубликат  задний  Левый  Не требует ремонта  Растаможен  \n\n[549 rows x 32 columns]",
      "text/html": "<div>\n<style scoped>\n    .dataframe tbody tr th:only-of-type {\n        vertical-align: middle;\n    }\n\n    .dataframe tbody tr th {\n        vertical-align: top;\n    }\n\n    .dataframe thead th {\n        text-align: right;\n    }\n</style>\n<table border=\"1\" class=\"dataframe\">\n  <thead>\n    <tr style=\"text-align: right;\">\n      <th></th>\n      <th>bodyType</th>\n      <th>brand</th>\n      <th>car_url</th>\n      <th>color</th>\n      <th>complectation_dict</th>\n      <th>description</th>\n      <th>engineDisplacement</th>\n      <th>enginePower</th>\n      <th>equipment_dict</th>\n      <th>fuelType</th>\n      <th>...</th>\n      <th>vehicleConfiguration</th>\n      <th>vehicleTransmission</th>\n      <th>vendor</th>\n      <th>Владельцы</th>\n      <th>Владение</th>\n      <th>ПТС</th>\n      <th>Привод</th>\n      <th>Руль</th>\n      <th>Состояние</th>\n      <th>Таможня</th>\n    </tr>\n  </thead>\n  <tbody>\n    <tr>\n      <th>15416</th>\n      <td>седан</td>\n      <td>MERCEDES</td>\n      <td>https://auto.ru/cars/used/sale/mercedes/s_klas...</td>\n      <td>синий</td>\n      <td>NaN</td>\n      <td>Позвоните нам и получите дополнительную скидку...</td>\n      <td>5.5 LTR</td>\n      <td>388 N12</td>\n      <td>{\"electro-window-back\":true,\"alloy-wheel-disks...</td>\n      <td>бензин</td>\n      <td>...</td>\n      <td>SEDAN AUTOMATIC 5.5</td>\n      <td>автоматическая</td>\n      <td>EUROPEAN</td>\n      <td>2 владельца</td>\n      <td>NaN</td>\n      <td>Оригинал</td>\n      <td>полный</td>\n      <td>Левый</td>\n      <td>Не требует ремонта</td>\n      <td>Растаможен</td>\n    </tr>\n    <tr>\n      <th>15449</th>\n      <td>седан</td>\n      <td>MERCEDES</td>\n      <td>https://auto.ru/cars/used/sale/mercedes/s_klas...</td>\n      <td>чёрный</td>\n      <td>NaN</td>\n      <td>В ДТП не участвовала.\\n\\n。Подушка безопасности...</td>\n      <td>4.7 LTR</td>\n      <td>435 N12</td>\n      <td>{\"cruise-control\":true,\"asr\":true,\"tinted-glas...</td>\n      <td>бензин</td>\n      <td>...</td>\n      <td>SEDAN AUTOMATIC 4.7</td>\n      <td>автоматическая</td>\n      <td>EUROPEAN</td>\n      <td>3 или более</td>\n      <td>NaN</td>\n      <td>Оригинал</td>\n      <td>полный</td>\n      <td>Левый</td>\n      <td>Не требует ремонта</td>\n      <td>Растаможен</td>\n    </tr>\n    <tr>\n      <th>15453</th>\n      <td>седан</td>\n      <td>MERCEDES</td>\n      <td>https://auto.ru/cars/used/sale/mercedes/s_klas...</td>\n      <td>чёрный</td>\n      <td>NaN</td>\n      <td>ЛОТ: 01200668\\nFAVORIT MOTORS KIA Юг\\n\\nВы мож...</td>\n      <td>3.0 LTR</td>\n      <td>235 N12</td>\n      <td>{\"asr\":true,\"tinted-glass\":true,\"esp\":true,\"ad...</td>\n      <td>дизель</td>\n      <td>...</td>\n      <td>SEDAN AUTOMATIC 3.0</td>\n      <td>автоматическая</td>\n      <td>EUROPEAN</td>\n      <td>3 или более</td>\n      <td>NaN</td>\n      <td>Оригинал</td>\n      <td>полный</td>\n      <td>Левый</td>\n      <td>Не требует ремонта</td>\n      <td>Растаможен</td>\n    </tr>\n    <tr>\n      <th>15492</th>\n      <td>седан</td>\n      <td>MERCEDES</td>\n      <td>https://auto.ru/cars/used/sale/mercedes/s_klas...</td>\n      <td>чёрный</td>\n      <td>{\"id\":\"21016733\",\"name\":\"S 450 4MATIC\",\"availa...</td>\n      <td>МБ-Беляево — официальный дилер «Мерседес-Бенц»...</td>\n      <td>3.0 LTR</td>\n      <td>367 N12</td>\n      <td>{\"cruise-control\":true,\"roller-blind-for-rear-...</td>\n      <td>бензин</td>\n      <td>...</td>\n      <td>SEDAN AUTOMATIC 3.0</td>\n      <td>автоматическая</td>\n      <td>EUROPEAN</td>\n      <td>1 владелец</td>\n      <td>NaN</td>\n      <td>Оригинал</td>\n      <td>полный</td>\n      <td>Левый</td>\n      <td>Не требует ремонта</td>\n      <td>Растаможен</td>\n    </tr>\n    <tr>\n      <th>15497</th>\n      <td>седан</td>\n      <td>MERCEDES</td>\n      <td>https://auto.ru/cars/used/sale/mercedes/s_klas...</td>\n      <td>чёрный</td>\n      <td>NaN</td>\n      <td>Автодилер года 2020\\n\\nПобедитель в номинации ...</td>\n      <td>4.7 LTR</td>\n      <td>435 N12</td>\n      <td>{\"cruise-control\":true,\"airbag-rear-side\":true...</td>\n      <td>бензин</td>\n      <td>...</td>\n      <td>SEDAN AUTOMATIC 4.7</td>\n      <td>автоматическая</td>\n      <td>EUROPEAN</td>\n      <td>3 или более</td>\n      <td>NaN</td>\n      <td>Оригинал</td>\n      <td>полный</td>\n      <td>Левый</td>\n      <td>Не требует ремонта</td>\n      <td>Растаможен</td>\n    </tr>\n    <tr>\n      <th>...</th>\n      <td>...</td>\n      <td>...</td>\n      <td>...</td>\n      <td>...</td>\n      <td>...</td>\n      <td>...</td>\n      <td>...</td>\n      <td>...</td>\n      <td>...</td>\n      <td>...</td>\n      <td>...</td>\n      <td>...</td>\n      <td>...</td>\n      <td>...</td>\n      <td>...</td>\n      <td>...</td>\n      <td>...</td>\n      <td>...</td>\n      <td>...</td>\n      <td>...</td>\n      <td>...</td>\n    </tr>\n    <tr>\n      <th>34214</th>\n      <td>седан</td>\n      <td>MERCEDES</td>\n      <td>https://auto.ru/cars/used/sale/mercedes/s_klas...</td>\n      <td>чёрный</td>\n      <td>NaN</td>\n      <td>Автомобиль в отличном состоянии.Обслуживался в...</td>\n      <td>5.0 LTR</td>\n      <td>306 N12</td>\n      <td>NaN</td>\n      <td>бензин</td>\n      <td>...</td>\n      <td>SEDAN AUTOMATIC 5.0</td>\n      <td>автоматическая</td>\n      <td>EUROPEAN</td>\n      <td>2 владельца</td>\n      <td>NaN</td>\n      <td>Оригинал</td>\n      <td>полный</td>\n      <td>Левый</td>\n      <td>Не требует ремонта</td>\n      <td>Растаможен</td>\n    </tr>\n    <tr>\n      <th>34226</th>\n      <td>седан</td>\n      <td>MERCEDES</td>\n      <td>https://auto.ru/cars/used/sale/mercedes/s_klas...</td>\n      <td>чёрный</td>\n      <td>NaN</td>\n      <td>Автомобиль Приобретался у официального дилера ...</td>\n      <td>4.0 LTR</td>\n      <td>469 N12</td>\n      <td>NaN</td>\n      <td>бензин</td>\n      <td>...</td>\n      <td>SEDAN AUTOMATIC 4.0</td>\n      <td>автоматическая</td>\n      <td>EUROPEAN</td>\n      <td>2 владельца</td>\n      <td>NaN</td>\n      <td>Оригинал</td>\n      <td>полный</td>\n      <td>Левый</td>\n      <td>Не требует ремонта</td>\n      <td>Растаможен</td>\n    </tr>\n    <tr>\n      <th>34239</th>\n      <td>седан</td>\n      <td>MERCEDES</td>\n      <td>https://auto.ru/cars/used/sale/mercedes/s_klas...</td>\n      <td>чёрный</td>\n      <td>NaN</td>\n      <td>Продаётся легендарный S500 короткая база, полн...</td>\n      <td>5.0 LTR</td>\n      <td>306 N12</td>\n      <td>NaN</td>\n      <td>бензин</td>\n      <td>...</td>\n      <td>SEDAN AUTOMATIC 5.0</td>\n      <td>автоматическая</td>\n      <td>EUROPEAN</td>\n      <td>2 владельца</td>\n      <td>NaN</td>\n      <td>Оригинал</td>\n      <td>полный</td>\n      <td>Левый</td>\n      <td>Не требует ремонта</td>\n      <td>Растаможен</td>\n    </tr>\n    <tr>\n      <th>34241</th>\n      <td>седан</td>\n      <td>MERCEDES</td>\n      <td>https://auto.ru/cars/used/sale/mercedes/s_klas...</td>\n      <td>чёрный</td>\n      <td>NaN</td>\n      <td>Автомобиль продается официальным дилером Автом...</td>\n      <td>3.0 LTR</td>\n      <td>235 N12</td>\n      <td>{\"cruise-control\":true,\"asr\":true,\"tinted-glas...</td>\n      <td>дизель</td>\n      <td>...</td>\n      <td>SEDAN AUTOMATIC 3.0</td>\n      <td>автоматическая</td>\n      <td>EUROPEAN</td>\n      <td>3 или более</td>\n      <td>NaN</td>\n      <td>Оригинал</td>\n      <td>полный</td>\n      <td>Левый</td>\n      <td>Не требует ремонта</td>\n      <td>Растаможен</td>\n    </tr>\n    <tr>\n      <th>34246</th>\n      <td>седан</td>\n      <td>MERCEDES</td>\n      <td>https://auto.ru/cars/used/sale/mercedes/s_klas...</td>\n      <td>чёрный</td>\n      <td>NaN</td>\n      <td>Цена до 30 октября !</td>\n      <td>2.8 LTR</td>\n      <td>193 N12</td>\n      <td>{\"cruise-control\":true,\"roller-blind-for-rear-...</td>\n      <td>бензин</td>\n      <td>...</td>\n      <td>SEDAN AUTOMATIC 2.8</td>\n      <td>автоматическая</td>\n      <td>EUROPEAN</td>\n      <td>3 или более</td>\n      <td>NaN</td>\n      <td>Дубликат</td>\n      <td>задний</td>\n      <td>Левый</td>\n      <td>Не требует ремонта</td>\n      <td>Растаможен</td>\n    </tr>\n  </tbody>\n</table>\n<p>549 rows × 32 columns</p>\n</div>"
     },
     "execution_count": 26,
     "metadata": {},
     "output_type": "execute_result"
    }
   ],
   "source": [
    "test[test.model_name == 'S_KLASSE']"
   ],
   "metadata": {
    "collapsed": false,
    "pycharm": {
     "name": "#%%\n"
    }
   }
  },
  {
   "cell_type": "code",
   "execution_count": 27,
   "outputs": [
    {
     "name": "stdout",
     "output_type": "stream",
     "text": [
      "Statistics of items in vector: model_name.\n",
      " ---------------------------\n",
      "Train has 528 unique items and has difference: {'RS 3', '1 СЕРИИ', '5 СЕРИИ', 'GLA AMG', 'PAJERO MINI', 'POLO GTI', 'GLE AMG', 'GOLF PLUS', 'SPRINTER CARIB', 'GLC COUPE', 'MAYBACH S-КЛАСС', 'SPACE STAR', '190 (W201)', 'GLA', 'G-КЛАСС AMG', 'ALMERA TINO', 'V40 CROSS COUNTRY', 'SCEPTER', 'MR-S', 'CR-X', 'ODYSSEY (NORTH AMERICA)', '7 СЕРИИ', 'COROLLA RUMION', 'LAND CRUISER PRADO', 'PAJERO SPORT', 'TERRANO REGULUS', 'GLC', '1M', 'I-MIEV', 'PRIUS V (+)', 'CLS', 'PRIUS ALPHA', 'MASTERACE SURF', 'FJ CRUISER', 'S-КЛАСС AMG', 'S60 CROSS COUNTRY', 'GLC COUPE AMG', 'GRAND HIACE', 'GLE', \"R'NESSA\", 'COROLLA II', 'GOLF GTI', 'CIVIC TYPE R', 'LAND CRUISER', 'MARK X', 'DELICA D:2', '2 СЕРИИ GRAN TOURER', 'SPRINTER TRUENO', 'LANCER EVOLUTION', 'COROLLA SPACIO', 'SL-КЛАСС AMG', 'RAV4', 'BLUEBIRD SYLPHY', 'LITE ACE', 'CR-Z', 'M-КЛАСС AMG', 'PAJERO PININ', 'MARK X ZIO', 'JUKE NISMO', 'DELICA D:5', 'ALMERA CLASSIC', 'RS Q3', 'C-КЛАСС', 'COROLLA LEVIN', 'CL-КЛАСС AMG', 'HR-V', '02 (E10)', '190 SL', 'HILUX SURF', 'DAYZ ROOX', 'CIVIC FERIO', 'V90 CROSS COUNTRY', 'X4 M', '8 СЕРИИ', 'NV100 CLIPPER', 'GT-R', 'X-КЛАСС', 'M-КЛАСС', 'G', 'SL-КЛАСС', 'GLE COUPE AMG', 'C-HR', 'GL-КЛАСС AMG', 'OCTAVIA RS', 'PASSAT CC', 'LANCER RALLIART', 'RS 5', 'R-КЛАСС', 'B-КЛАСС', 'RS 6', 'C-КЛАСС AMG', 'CAMRY SOLARA', 'SLS AMG', 'CL-КЛАСС', 'TYPE 1', 'X5 M', 'GL-КЛАСС', 'YARIS VERSO', 'CLS AMG', 'CARINA ED', 'GLS', 'X6 M', 'GOLF R', 'CLK-КЛАСС', 'A4 ALLROAD', 'S-КЛАСС', 'QASHQAI+2', 'FABIA RS', 'TT RS', 'STEPWGN', 'AVENSIS VERSO', 'SPRINTER MARINO', 'G-КЛАСС', 'ECLIPSE CROSS', 'A6 ALLROAD', 'CROWN MAJESTA', 'CARINA E', '2 СЕРИИ', 'MONTERO SPORT', 'E-TRON', 'GLE COUPE', 'Z3 M', 'SLR MCLAREN', 'FAIRLADY Z', 'CLA', '6 СЕРИИ', 'MARK II', 'CLC-КЛАСС', 'MAYBACH GLS', 'RS 4', 'X-TRAIL', 'GLC AMG', 'SPACE GEAR', 'EK WAGON', 'RS 7', 'CARAVAN', 'SPACE WAGON', 'E-КЛАСС', 'FR-V', '2 СЕРИИ ACTIVE TOURER', 'SLK-КЛАСС', '3 СЕРИИ', 'SPACE RUNNER', 'TOWN ACE', 'CR-V', 'CORONA EXIV', 'NAVARA (FRONTIER)', 'N-WGN', 'CLA AMG', 'E-КЛАСС AMG', 'SLC', 'V60 CROSS COUNTRY', 'A-КЛАСС', 'MEGA CRUISER', 'AMG GT', 'MOBILIO SPIKE', 'N-BOX', 'A-КЛАСС AMG', 'GLS AMG', 'VERSO-S', '4 СЕРИИ', 'V-КЛАСС', 'GLB', 'GLK-КЛАСС', 'PAJERO IO', 'COROLLA VERSO', '240 SERIES'},\n",
      "--\n",
      "Test has 544 unique items and has difference: {'CR_X', 'PASSAT_CC', 'A4_ALLROAD', 'MARK_II', 'CLC_KLASSE', 'C_KLASSE_AMG', '100_SERIES', 'PAJERO_PININ', 'MARK_X_ZIO', 'ALMERA_CLASSIC', 'ORIGIN', 'STEPWAGON', 'RS5', '6ER', 'V_KLASSE', 'SPRINTER_CARIB', 'COROLLA_SPACIO', 'CLS_KLASSE', 'SLR_KLASSE', '2ACTIVETOURER', 'CL_KLASSE_AMG', 'MONTERO_SPORT', 'RSQ3', 'WILL_CYPHA', 'G_KLASSE', 'I', 'N_BOX', 'RS6', 'X6_M', 'MEGA_CRUISER', 'PAJERO_IO', 'B_KLASSE', 'CL_KLASSE', 'PAJERO_SPORT', 'GLA_CLASS', 'POPULAR', 'SIMPLEX', 'X_KLASSE', 'SLC_KLASSE', 'A_KLASSE', 'M_KLASSE', 'GLB_KLASSE', 'CR_Z', 'DELICA_D2', 'LANCER_RALLIART', 'DELICA_D_5', 'LAND_CRUISER', 'CLIPPER', 'RS4', 'ALMERA_TINO', 'RS3', 'COROLLA_LEVIN', '280ZX', 'CLA_KLASSE', 'GLS_KLASSE', 'X4_M', 'W201', 'CARINA_E', 'FABIA_RS', 'GLE_KLASSE_COUPE', 'TOWN_ACE', 'AVENSIS_VERSO', '190_SL', 'SL_KLASSE_AMG', 'SPRINTER_TRUENO', 'COROLLA_RUMION', 'GRAND_HIACE', '140', '100NX', 'MARK_X', 'S_CLASS_MAYBACH', 'BLUEBIRD_SYLPHY', '5ER', 'SL_KLASSE', 'GLE_KLASSE_AMG', 'SPACE_GEAR', 'V40_CC', 'C_HR', 'QASHQAI_PLUS_2', 'E_KLASSE', 'SLK_KLASSE', 'N_WGN', 'FAIRLADY_Z', 'MASTER_ACE_SURF', 'GLA_CLASS_AMG', 'GT_R', 'HILUX_SURF', 'CIVIC_FERIO', 'X5_M', 'CAMRY_SOLARA', 'X_TRAIL', 'S_KLASSE_AMG', '120', 'AMG_GLC_COUPE', 'GLE_KLASSE_COUPE_AMG', 'RS7', 'W188', 'M1', 'JUKE_NISMO', 'NAVARA', 'CROWN_MAJESTA', 'MR_S', 'I_MIEV', 'MOBILIO_SPIKE', 'OCTAVIA_RS', 'GLC_KLASSE', 'V90_CROSS_COUNTRY', 'C_KLASSE', 'FR_V', 'CIVIC_TYPE_R', '240_SERIES', 'GOLF_R', 'SCEPTER_SEDAN', 'R_KLASSE', '2GRANDTOURER', '7ER', 'SLS_AMG', 'V60_CROSS_COUNTRY', 'SERA', 'HR_V', 'GLE_KLASSE', 'TERRANO_REGULUS', 'M_KLASSE_AMG', 'S60_CROSS_COUNTRY', 'YARIS_VERSO', 'VERSO_S', 'ODYSSEY_NA', 'S_KLASSE', 'GOLF_PLUS', 'FJ_CRUISER', '4', 'AMG_GT', 'GLC_KLASSE_AMG', 'G35', 'TT_RS', 'ECLIPSE_CROSS', 'COROLLA_VERSO', 'GOLF_R32', '02', 'GLS_KLASSE_AMG', 'X3_M', 'SPRINTER_MARINO', 'CARINA_ED', 'SPACE_STAR', 'CLA_KLASSE_AMG', 'RNESSA', 'G_KLASSE_AMG', 'CLS_KLASSE_AMG', 'GLK_KLASSE', 'TYPE_1', 'PRIUS_ALPHA', 'LANCER_EVOLUTION', 'GL_KLASSE_AMG', 'LITE_ACE', '8ER', 'GL_KLASSE', 'E_KLASSE_AMG', '2ER', 'CARAVAN_COACH', 'LAND_CRUISER_PRADO', 'PRIUSPLUS', '3ER', 'DAYZ_ROOX', 'GOLF_GTI', 'COROLLA_II', '1ER', 'SPACE_RUNNER', 'E_TRON', 'A_KLASSE_AMG', 'GLC_COUPE', 'RAV_4', 'LM', 'Z3M', 'MAYBACH_GLS', 'ALLROAD', 'CLK_KLASSE', 'EK_WAGON', 'CORONA_EXIV', 'PAJERO_MINI', 'SPACE_WAGON', 'E3', 'POLO_GTI', 'CR_V'}.\n",
      "{'FORTUNER', 'PASSAT', '100_SERIES', 'PAJERO_PININ', 'PATHFINDER', 'SOARER', 'ORIGIN', 'PATROL', 'PORTE', 'RS5', '460', 'V_KLASSE', 'AYGO', 'Q8', 'GT86', 'IST', 'MULTIVAN', 'S7', 'MONTERO_SPORT', 'M4', 'RSQ3', 'PRESAGE', 'M2', '200SX', 'PRELUDE', 'IQ', 'ISIS', 'SHUTTLE', 'CIVIC', '326', 'REGIUS', 'DAYZ', 'SIMPLEX', 'S80', 'SKYLINE', 'VANGUARD', 'PREMIO', 'A3', 'DATSUN', 'LAND_CRUISER', 'PRESIDENT', '100', 'RS3', 'W114', 'I8', 'X4_M', 'CARINA_E', 'MONTERO', 'Q3', 'MIRAGE', 'A5', 'ELEMENT', 'TOWN_ACE', 'AVENSIS_VERSO', '190_SL', 'SPRINTER_TRUENO', 'PULSAR', 'BLADE', 'CRESTA', 'A6', 'MARK_X', 'A4', 'TIGUAN', '5ER', 'GALANT', 'ALMERA', 'SILVIA', 'AURIS', 'DUET', 'IPSUM', 'OCTAVIA', 'SIGMA', 'Q30', 'GLA_CLASS_AMG', 'VELLFIRE', 'X5_M', 'GRANDIS', 'GLE_KLASSE_COUPE_AMG', 'SEQUOIA', 'V70', 'PASSO', 'ALPHARD', 'CHARIOT', 'SCEPTER_SEDAN', 'DOMANI', 'SLS_AMG', 'SERA', 'CYNOS', 'BORA', 'AIRWAVE', '80', 'C70', 'W186', '340', 'YARIS_VERSO', 'ODYSSEY_NA', 'S5', 'ROOMSTER', 'QX50', 'S_KLASSE', '740', '200', 'FJ_CRUISER', 'GX', 'GLC_KLASSE_AMG', 'CURREN', 'ODYSSEY', 'GOLF_R32', 'ECLIPSE_CROSS', 'CORSA', 'TIIDA', '02', '321', 'X3_M', 'GLS_KLASSE_AMG', 'SPRINTER_MARINO', 'RNESSA', 'NV200', 'PROBOX', 'V8', 'SUNNY', 'LANCER', 'M6', 'Z3', 'GL_KLASSE_AMG', 'SERENA', 'CHASER', 'LITE_ACE', 'X5', 'IS', 'VERSO', 'NP300', '300ZX', 'LAND_CRUISER_PRADO', 'FTO', 'M5', 'VEZEL', 'QUEST', 'VENZA', 'YARIS', 'CITAN', 'E_TRON', 'LARGO', 'SPARKY', 'CLK_KLASSE', 'PAJERO_MINI', 'SPACE_WAGON', 'FUNCARGO', 'ACTY', 'S3', 'MATRIX', 'C_KLASSE_AMG', 'W136', 'HIGHLANDER', 'AQUA', 'L300', 'PRAIRIE', '6ER', 'RC', 'COROLLA_SPACIO', 'SLR_KLASSE', 'CL_KLASSE_AMG', 'AIRTREK', 'ASPIRE', 'ALLEX', 'V60', 'N_BOX', 'TT', 'NX', 'STARLET', 'MEGA_CRUISER', 'RVR', 'XC90', 'S2000', 'OUTLANDER', 'LEGNUM', 'PAJERO', 'A_KLASSE', 'RAFAGA', 'CR_Z', 'COUPE', 'M', 'ORTHIA', 'TUNDRA', 'GRANVIA', 'ECLIPSE', 'DION', 'A1', '280ZX', 'SQ5', 'LAUREL', 'GLE_KLASSE_COUPE', 'A7', 'TRANSPORTER', 'INSPIRE', 'GRAND_HIACE', 'TERRANO', 'S_CLASS_MAYBACH', 'PICNIC', 'POINTER', 'QX30', 'L400', 'COLT', 'HARRIER', 'V40_CC', 'VISTA', 'FOX', 'JUKE', 'QX70', 'LEAF', 'PRIUS', 'CIVIC_FERIO', 'CAMRY_SOLARA', 'S_KLASSE_AMG', 'HILUX', 'W188', 'M1', 'ARMADA', 'MOBILIO_SPIKE', 'V90_CROSS_COUNTRY', 'FR_V', 'CROSSROAD', 'BASSARA', 'ELGRAND', '240_SERIES', 'GOLF_R', 'V60_CROSS_COUNTRY', 'UX', 'MINICAB', 'QASHQAI', 'AVANCIER', 'LS', 'PREVIA', 'VENTO', 'GAIA', 'TARO', 'GOLF_PLUS', 'SUPERB', 'PARTNER', 'AMG_GT', 'X1', 'COROLLA_VERSO', 'CARINA_ED', 'S60', 'G_KLASSE_AMG', 'SCIROCCO', 'CLS_KLASSE_AMG', 'COROLLA', 'STREAM', 'V50', 'LANCER_EVOLUTION', 'HIACE', 'CEFIRO', 'INSIGHT', 'W111', 'GL_KLASSE', 'CARAVAN_COACH', 'PRIUSPLUS', 'FIT', 'AVALON', 'VANETTE', '3ER', 'GOLF', 'LAFESTA', 'DAYZ_ROOX', 'JETTA', 'XC40', 'COROLLA_II', 'URVAN', 'SPACE_RUNNER', '350Z', 'GLC_COUPE', 'CALDINA', 'Z3M', 'CORONA_EXIV', 'S70', '440', '920', 'POLO', 'VIGOR', 'WINDOM', 'CLC_KLASSE', 'MICRA', 'CAMRY', 'MARK_X_ZIO', 'ESTIMA', 'STEPWAGON', 'LX', 'CARINA', 'ES', 'PHAETON', 'SPRINTER_CARIB', 'CLS_KLASSE', 'MAXIMA', 'CAMI', 'TOUAREG', 'Q7', 'QX60', 'MOBILIO', 'WILL_CYPHA', 'RS6', 'L200', 'PAJERO_IO', 'CL_KLASSE', 'ALTEZZA', 'PAJERO_SPORT', 'QX4', 'X_KLASSE', 'M_KLASSE', 'GLB_KLASSE', 'EOS', 'CLIPPER', 'EXPERT', 'RS4', 'RAUM', 'ELYSION', 'TORNEO', 'HS', 'COROLLA_LEVIN', 'CLA_KLASSE', 'GLS_KLASSE', 'W201', 'FABIA_RS', 'VIANO', 'W124', 'SHARAN', 'CORRADO', 'CORONA', '100NX', 'LEGEND', 'WILL', 'GLE_KLASSE_AMG', 'QASHQAI_PLUS_2', 'FREED', 'E_KLASSE', 'SLK_KLASSE', 'N_WGN', 'SABER', 'ARISTO', 'BLUEBIRD', '940', 'EUROVAN', 'BEETLE', 'X_TRAIL', 'BB', 'PRESEA', 'AMG_GLC_COUPE', 'SC', 'W123', 'DINGO', 'JUKE_NISMO', 'NAVARA', 'TERCEL', 'PILOT', '760', 'GLC_KLASSE', 'C_KLASSE', 'CIVIC_TYPE_R', '4RUNNER', 'S90', 'OPA', 'JAZZ', '2GRANDTOURER', 'CUBE', 'SUCCEED', 'HR_V', 'Q70', 'GLE_KLASSE', '960', 'Z1', 'ACCORD', 'NADIA', 'NOTE', '4', 'CARAVELLE', 'G35', 'RIDGELINE', 'ASCOT', 'CEDRIC', 'OTTI', 'KAROQ', 'TOURAN', 'GLK_KLASSE', 'PRIUS_ALPHA', 'X2', 'E_KLASSE_AMG', '2ER', 'CONCERTO', 'MARCH', 'S4', '90', 'TTS', 'GLORIA', 'SUPRA', 'CROSSTOUR', '1ER', 'M3', 'QX80', 'WISH', 'YETI', 'RAV_4', 'LM', 'INTEGRA', 'ALLROAD', 'E3', 'POLO_GTI', 'CR_V', 'Q5', 'CALIFORNIA', 'CR_X', 'MURANO', 'A4_ALLROAD', 'MARK_II', 'PASSAT_CC', 'ZEST', 'VITZ', 'AVENSIS', 'ALMERA_CLASSIC', 'FUGA', 'Q50', '2ACTIVETOURER', 'CELICA', 'G_KLASSE', 'I', 'X6_M', 'C30', 'B_KLASSE', 'Z', 'GLA_CLASS', 'POPULAR', 'VITO', 'MINICA', 'LIBERO', 'SLC_KLASSE', 'ATLAS', 'ECHO', 'PROGRES', 'KODIAQ', 'NOAH', 'DELICA_D2', 'LANCER_RALLIART', 'DELICA_D_5', 'RAPID', 'PLATZ', 'Z4', 'VANEO', 'ALMERA_TINO', 'CT', 'ESQUIRE', 'X3', 'MR2', 'EX', 'FABIA', 'SIENNA', 'SIENTA', 'A8', 'SL_KLASSE_AMG', 'COROLLA_RUMION', 'ASX', 'XC60', '140', 'BLUEBIRD_SYLPHY', 'EMERAUDE', 'RACTIS', 'SL_KLASSE', 'Q60', 'STAGEA', 'SPACE_GEAR', 'SAFARI', 'KIX', 'C_HR', 'JX', 'AD', 'LIBERTY', 'FAIRLADY_Z', 'MASTER_ACE_SURF', 'CARISMA', 'X4', 'GT_R', 'WINGROAD', 'HILUX_SURF', 'PRIMERA', 'A2', 'TERAMONT', 'LOGO', '120', 'FAVORIT', 'RX', 'RS7', 'Q', 'AMAROK', 'GS', 'CROWN_MAJESTA', 'MR_S', 'I_MIEV', 'DIAMANTE', 'OCTAVIA_RS', 'XC70', 'R8', 'W128', 'R_KLASSE', '7ER', 'QX56', 'CAVALIER', 'VEROSSA', 'TERRANO_REGULUS', 'M_KLASSE_AMG', 'S60_CROSS_COUNTRY', 'VERSO_S', 'S6', 'ENDEAVOR', 'I3', 'VOXY', 'CROWN', 'ARTEON', 'TT_RS', 'SPACE_STAR', 'SENTRA', 'CLA_KLASSE_AMG', 'V40', 'AVENIR', 'TYPE_1', 'TEANA', 'FELICIA', 'CITY', '8ER', 'X7', 'LUPO', 'S40', 'S8', 'GOLF_GTI', 'FX', 'SPRINTER', 'A_KLASSE_AMG', '850', 'MAYBACH_GLS', 'DELICA', 'SPADE', 'TINO', 'EK_WAGON', 'CADDY', 'ALTIMA', 'X6', 'PASEO'}\n"
     ]
    }
   ],
   "source": [
    "vector_items('model_name')"
   ],
   "metadata": {
    "collapsed": false,
    "pycharm": {
     "name": "#%%\n"
    }
   }
  },
  {
   "cell_type": "code",
   "execution_count": 28,
   "outputs": [],
   "source": [
    "train['model'] = train.car_url.apply(lambda q: q.split('/')[7])\n",
    "test['model'] = test.car_url.apply(lambda q: q.split('/')[7])"
   ],
   "metadata": {
    "collapsed": false,
    "pycharm": {
     "name": "#%%\n"
    }
   }
  },
  {
   "cell_type": "code",
   "execution_count": 29,
   "outputs": [
    {
     "name": "stdout",
     "output_type": "stream",
     "text": [
      "Statistics of items in vector: model.\n",
      " ---------------------------\n",
      "Train has 528 unique items and has difference: set(),\n",
      "--\n",
      "Test has 544 unique items and has difference: {'sera', 'e3', 'will_cypha', '120', 'w188', 'lm', '100_series', 'x3_m', '140', '100nx', '280zx', 'popular', 'origin', 'simplex', 'golf_r32', 'i'}.\n",
      "{'v40', 'liberty', 'avenir', 'm_klasse', 'simplex', 'qx80', 'tiguan', '460', 'ls', 'g_klasse_amg', 'nx', 'aygo', 'b_klasse', 'grandis', 'curren', '326', 'q', 'golf_r', 'sequoia', 'accord', 'stream', 'carina_e', 'prairie', 'pathfinder', 'x3_m', '100', 'elysion', 'delica_d2', 'caddy', 'verossa', 'z4', 'glb_klasse', 'sienta', 'venza', 'a_klasse_amg', 'sprinter_carib', 'g35', 'roomster', 'gs', 'primera', 'lancer_evolution', 'corolla_spacio', 'yeti', 'w111', 'jx', 'almera_tino', 'verso_s', 'allroad', 'pulsar', 'corolla_levin', 'crosstour', 'w188', 'x7', 'jazz', 'm_klasse_amg', 'bora', 'coupe', 'mr2', 'a6', 'vigor', 'rs3', 'cr_v', 's90', 'porte', 'avalon', 'origin', 'cynos', 'mark_x_zio', 'juke', '2activetourer', 'slc_klasse', 'gle_klasse', 'qashqai_plus_2', 'micra', 'tercel', 's40', 'stepwagon', 'yaris', '80', 'shuttle', 'xc60', '340', 'lafesta', 'crown', 'corona_exiv', 'a4_allroad', 'mobilio', 'hiace', 'avensis_verso', 'nadia', '740', 's3', 'z3', '200', 'g_klasse', '02', '321', 'm4', 'murano', 'rs6', 'es', 'airwave', 'i', 'w186', 'v50', 'city', 'mark_ii', 'yaris_verso', 'gle_klasse_coupe_amg', 'fortuner', 'legend', 'gl_klasse_amg', 's5', 'grand_hiace', 'cl_klasse_amg', 'partner', 'celica', 'colt', 'c_hr', 'gt86', 'starlet', 'viano', 'q3', 'prius', 'sc', '2er', 'legnum', 'w201', 'q50', 'cls_klasse', 'esquire', 'eos', 'ascot', 'lx', 'supra', 'pajero', 'rvr', 'x5_m', 'town_ace', 'lancer_ralliart', 'fx', 'pajero_mini', 'w128', 'golf_plus', 'v40_cc', 'windom', '3er', 'fto', 'stagea', 'pajero_pinin', 'scepter_sedan', 'civic_ferio', 'acty', 'gt_r', 'vaneo', 'element', 'clk_klasse', '280zx', 'libero', 'qx30', 'x2', '300zx', 'gaia', 'master_ace_surf', 'mr_s', 'mirage', 's8', 'expert', 'glk_klasse', 'cls_klasse_amg', 'will_cypha', 'serena', 'integra', 'corsa', 'r8', 'sq5', 'patrol', 'e_klasse', 'q70', '190_sl', 'orthia', 'vento', 'tts', 'c70', 'ridgeline', 'sienna', 'chaser', 'pajero_sport', 'xc40', 'sera', 's70', 'glc_coupe', 'fj_cruiser', 'e_tron', 'sharan', 'fabia_rs', 'golf_r32', 'estima', 'z1', 'qx50', 'outlander', 'rapid', 'freed', 'qx56', '4runner', 'w123', 'soarer', 'datsun', 'm1', 'lupo', 'teana', 'lancer', 'sprinter_trueno', 'caravelle', 'phaeton', 'note', 'terrano_regulus', 'civic_type_r', 'sentra', 'v90_cross_country', 'gls_klasse_amg', 'cla_klasse_amg', 'xc70', 'x1', 'v_klasse', 'otti', 'cl_klasse', 'vellfire', 'slr_klasse', 'n_wgn', 's7', 'granvia', 'x6_m', 'wingroad', 'dingo', 'delica_d_5', 'picnic', 'e_klasse_amg', 'dayz_roox', 'wish', 'space_star', 'w124', 'leaf', 'fox', 'n_box', '920', '440', 'fairlady_z', 'land_cruiser_prado', '350z', 'rnessa', 'silvia', 'nv200', 'rs4', 'march', 'r_klasse', 'a7', 'logo', 'gl_klasse', 'm3', 'progres', 'galant', 'camry_solara', 'endeavor', 'concerto', 'sprinter', 'w136', 'blade', 'president', 'eclipse_cross', 'premio', 'saber', 'kix', 'felicia', 'octavia', 'delica', 's6', 'space_runner', 'a_klasse', 'prius_alpha', 'carisma', 'tt_rs', 'ractis', 'cube', 'opa', 'passo', 'glc_klasse_amg', 'rsq3', 'multivan', 'vanguard', 'passat_cc', 's2000', 'v70', 'corolla_rumion', 'golf', 'l400', 'maxima', 'juke_nismo', 'dion', 'a3', 'ad', 'sls_amg', 'a2', 'touareg', 'q5', 'pointer', 'verso', 'fr_v', 'pilot', 'gle_klasse_amg', 'aspire', 'land_cruiser', 'vitz', 'probox', 'ipsum', 'eclipse', 'camry', '940', 'hilux_surf', 'emeraude', 'ct', 'mark_x', 's80', '7er', 'gx', 'transporter', '100nx', 'civic', 'ux', 'karoq', 'inspire', '760', 'np300', 'harrier', 'almera_classic', 'octavia_rs', 'z3m', 'cavalier', '960', 'mega_cruiser', 'fit', 'isis', 'gls_klasse', 'atlas', 'v60', 'c_klasse', 'l300', 'vezel', 'corolla', 'x_klasse', '4', 's_klasse_amg', 'gle_klasse_coupe', 'lite_ace', '200sx', 'auris', 'minica', 'california', 'hr_v', 'kodiaq', 'platz', 'superb', 'i3', 'gla_class', 'montero_sport', '1er', 'hs', '90', 'prelude', 'echo', 'e3', 's_klasse', 'm2', 'amg_glc_coupe', 'bluebird_sylphy', 'ist', 'skyline', 'arteon', 'allex', 'type_1', 'carina', 'popular', 'raum', 'taro', 'chariot', 'cr_x', '2grandtourer', 'a8', 'alphard', 'aristo', 'glc_klasse', 'safari', 'rafaga', 'cedric', 'a5', 'rs5', 'x4_m', 'qx4', 'i_miev', 'cla_klasse', 'paseo', 'favorit', 'tt', 'gloria', 'quest', 'x5', 'x3', 'cefiro', 'asx', 'laurel', 'lm', 'navara', 'insight', 'highlander', 'tundra', 'cami', 'space_wagon', 'altima', 'altezza', 'ek_wagon', 'polo_gti', 'qx70', 'rav_4', 'cr_z', 'is', 'terrano', 'i8', '8er', 'a1', 'aqua', 'beetle', 'space_gear', 'm6', 'largo', 'diamante', 'avancier', 'almera', 'dayz', '5er', 'maybach_gls', 'elgrand', 's_class_maybach', 'c_klasse_amg', '140', 'v60_cross_country', 'polo', 'teramont', 'rx', 'avensis', 'gla_class_amg', 'matrix', 'tino', 'touran', 'caravan_coach', 'crown_majesta', 'scirocco', 'corolla_verso', 'airtrek', 'funcargo', 'priusplus', '100_series', 'odyssey', 'm5', 'w114', 'minicab', 'spade', '120', 'domani', 'fabia', 'vito', 'vanette', 'urvan', 'presea', 'citan', '240_series', 'vista', 'qashqai', 'previa', 'clipper', 'amg_gt', 'v8', 'sparky', 'sunny', 'pajero_io', 'duet', 'corolla_ii', 'q8', 'regius', 's60', 'a4', '6er', 'q60', 's4', 'armada', 'bassara', 'voxy', 'passat', 'presage', 'cresta', 'hilux', 'corona', 'caldina', 'eurovan', 'noah', 's60_cross_country', 'x_trail', 'clc_klasse', 'succeed', 'xc90', 'qx60', 'sl_klasse', 'torneo', 'm', 'sprinter_marino', 'zest', 'ex', 'sigma', 'rc', 'montero', 'iq', 'tiida', 'sl_klasse_amg', 'x4', 'jetta', 'x6', 'bb', 'bluebird', 'q30', 'c30', 'q7', '850', 'slk_klasse', 'l200', 'golf_gti', 'will', 'crossroad', 'mobilio_spike', 'fuga', 'z', 'rs7', 'amarok', 'carina_ed', 'corrado', 'odyssey_na'}\n"
     ]
    }
   ],
   "source": [
    "vector_items('model')"
   ],
   "metadata": {
    "collapsed": false,
    "pycharm": {
     "name": "#%%\n"
    }
   }
  },
  {
   "cell_type": "markdown",
   "source": [
    "---\n",
    "### resume:\n",
    "Vectors 'model_name' and 'name' is very garbage. May be it will be worth to drop them and to use only\n",
    "vectors 'brand' and 'model'\n"
   ],
   "metadata": {
    "collapsed": false
   }
  },
  {
   "cell_type": "code",
   "execution_count": 29,
   "outputs": [],
   "source": [],
   "metadata": {
    "collapsed": false,
    "pycharm": {
     "name": "#%%\n"
    }
   }
  },
  {
   "cell_type": "markdown",
   "source": [
    "---\n",
    "# color"
   ],
   "metadata": {
    "collapsed": false
   }
  },
  {
   "cell_type": "code",
   "execution_count": 30,
   "outputs": [
    {
     "name": "stdout",
     "output_type": "stream",
     "text": [
      "Statistics of items in vector: color.\n",
      " ---------------------------\n",
      "Train has 16 unique items and has difference: set(),\n",
      "--\n",
      "Test has 16 unique items and has difference: set().\n",
      "{'золотистый', 'серебристый', 'оранжевый', 'пурпурный', 'голубой', 'зелёный', 'белый', 'бежевый', 'чёрный', 'розовый', 'красный', 'серый', 'фиолетовый', 'синий', 'жёлтый', 'коричневый'}\n"
     ]
    }
   ],
   "source": [
    "vector_items('color')"
   ],
   "metadata": {
    "collapsed": false,
    "pycharm": {
     "name": "#%%\n"
    }
   }
  },
  {
   "cell_type": "markdown",
   "source": [
    "---\n",
    "## engineDisplacement, fuelType"
   ],
   "metadata": {
    "collapsed": false
   }
  },
  {
   "cell_type": "code",
   "execution_count": 31,
   "outputs": [
    {
     "name": "stdout",
     "output_type": "stream",
     "text": [
      "Statistics of items in vector: fuelType.\n",
      " ---------------------------\n",
      "Train has 9 unique items and has difference: {'Бензин, газобаллонное оборудование', 'Дизель, газобаллонное оборудование', 'Газ', 'Электро', 'Газ, газобаллонное оборудование', 'Гибрид, газобаллонное оборудование', 'Бензин', 'Гибрид', 'Дизель'},\n",
      "--\n",
      "Test has 5 unique items and has difference: {'гибрид', 'бензин', 'электро', 'газ', 'дизель'}.\n",
      "{'гибрид', 'бензин', 'электро', 'газ', 'дизель'}\n"
     ]
    }
   ],
   "source": [
    "vector_items('fuelType')"
   ],
   "metadata": {
    "collapsed": false,
    "pycharm": {
     "name": "#%%\n"
    }
   }
  },
  {
   "cell_type": "code",
   "execution_count": 32,
   "outputs": [],
   "source": [
    "# replace long name ', газобаллонное оборудование' on '-гбо' and make all letters lower case\n",
    "train.fuelType = train.fuelType.str.replace(', газобаллонное оборудование', '-гбо')\n",
    "train.fuelType = train.fuelType.str.lower()"
   ],
   "metadata": {
    "collapsed": false,
    "pycharm": {
     "name": "#%%\n"
    }
   }
  },
  {
   "cell_type": "code",
   "execution_count": 33,
   "outputs": [
    {
     "name": "stdout",
     "output_type": "stream",
     "text": [
      "Statistics of items in vector: fuelType.\n",
      " ---------------------------\n",
      "Train has 9 unique items and has difference: {'гибрид-гбо', 'дизель-гбо', 'газ-гбо', 'бензин-гбо'},\n",
      "--\n",
      "Test has 5 unique items and has difference: set().\n",
      "{'гибрид', 'бензин', 'электро', 'газ', 'дизель'}\n"
     ]
    }
   ],
   "source": [
    "vector_items('fuelType')"
   ],
   "metadata": {
    "collapsed": false,
    "pycharm": {
     "name": "#%%\n"
    }
   }
  },
  {
   "cell_type": "code",
   "execution_count": 34,
   "outputs": [],
   "source": [
    "\"\"\" function to take only numeric data from string\"\"\"\n",
    "def find_number(field: str):\n",
    "    \"\"\"\n",
    "    :param field: string to find number\n",
    "    :return: number (in string format)\n",
    "    \"\"\"\n",
    "\n",
    "    # mask for search\n",
    "    p = '[\\d]+[.,\\d]+|[\\d]*[.][\\d]+|[\\d]+'\n",
    "\n",
    "    # main cycle for searching\n",
    "    if re.search(p, field) is not None:\n",
    "        for catch in re.finditer(p, field):\n",
    "            return catch[0]"
   ],
   "metadata": {
    "collapsed": false,
    "pycharm": {
     "name": "#%%\n"
    }
   }
  },
  {
   "cell_type": "markdown",
   "source": [
    "In fact, electro-cars have no engine displacement.\n",
    "In datasets vector 'engineDisplacement' electro-cars records have different filling.\n",
    "In test dataset vector 'engineDisplacement' filled with *'LTR'*, in train dataset - they filled with *horse power value*.\n",
    "in test dataset vector 'enginePower' filled with *horse power value*, in train dataset - with *kVt power value*\n",
    "\n",
    "We need to make something uniform. So we will make new vector 'engineName' as mask ['fuelType'+' '+'engineDisplacement'] for non-electro and ['fuelType'+' '+ kVt power value] for electro cars."
   ],
   "metadata": {
    "collapsed": false
   }
  },
  {
   "cell_type": "code",
   "execution_count": 35,
   "outputs": [
    {
     "data": {
      "text/plain": "{109: 80,\n 115: 85,\n 136: 100,\n 150: 110,\n 154: 113,\n 170: 125,\n 179: 132,\n 184: 135,\n 218: 160,\n 313: 230,\n 408: 300,\n 41: 30,\n 64: 47,\n 67: 49,\n 74: 100}"
     },
     "execution_count": 35,
     "metadata": {},
     "output_type": "execute_result"
    }
   ],
   "source": [
    "# make the dict from pairs (horse power, kVt power)\n",
    "kvt=dict()\n",
    "\n",
    "qq = train[train.fuelType == 'электро'].groupby(['engineDisplacement', 'enginePower'])['enginePower'].count()\n",
    "qq = qq.to_dict()\n",
    "for item, value in qq.keys():\n",
    "    kvt[int(find_number(item))] = int(find_number(value))\n",
    "kvt"
   ],
   "metadata": {
    "collapsed": false,
    "pycharm": {
     "name": "#%%\n"
    }
   }
  },
  {
   "cell_type": "code",
   "execution_count": 36,
   "outputs": [],
   "source": [
    "\"\"\" function to make new uniform vector of type of engine as mentioned above\"\"\"\n",
    "def engineDisplacement(record):\n",
    "    \"\"\"\n",
    "    :param record: raw from dataset\n",
    "    :return: value for new vector\n",
    "    \"\"\"\n",
    "\n",
    "    # case of gasoline and diesel\n",
    "    if record.fuelType != 'электро':\n",
    "        result = record.fuelType + ' ' + find_number(record.engineDisplacement)\n",
    "\n",
    "    # case of electro\n",
    "    else:\n",
    "        # case for train dataset, where we have filled vector engineDisplacement, so we can take kVt power direct\n",
    "        if find_number(record.engineDisplacement):\n",
    "            result = record.fuelType + ' ' + find_number(record.enginePower)\n",
    "\n",
    "        # case for test dataset, where we only have horse power filling\n",
    "        else:\n",
    "            value_kvt = int(record.enginePower.split()[0])\n",
    "            try:\n",
    "                # use dict to find value of kVt power from horse power\n",
    "                value_kvt = str(kvt[value_kvt])\n",
    "\n",
    "            # someone we don't have value of kVt power, so we leave just 'электро'\n",
    "            except:\n",
    "                value_kvt = ''\n",
    "\n",
    "            result = record.fuelType + ' ' + str(value_kvt)\n",
    "\n",
    "    return result"
   ],
   "metadata": {
    "collapsed": false,
    "pycharm": {
     "name": "#%%\n"
    }
   }
  },
  {
   "cell_type": "code",
   "execution_count": 37,
   "outputs": [],
   "source": [
    "train['engineName'] = train.apply(engineDisplacement, axis=1)\n",
    "test['engineName'] = test.apply(engineDisplacement, axis=1)"
   ],
   "metadata": {
    "collapsed": false,
    "pycharm": {
     "name": "#%%\n"
    }
   }
  },
  {
   "cell_type": "code",
   "execution_count": 38,
   "outputs": [
    {
     "name": "stdout",
     "output_type": "stream",
     "text": [
      "Statistics of items in vector: engineName.\n",
      " ---------------------------\n",
      "Train has 157 unique items and has difference: {'бензин-гбо 2.7', 'электро 113', 'бензин-гбо 2.9', 'бензин-гбо 6.0', 'гибрид 1.4', 'бензин-гбо 1.6', 'бензин-гбо 2.0', 'бензин-гбо 1.3', 'бензин-гбо 3.5', 'бензин-гбо 3.6', 'гибрид-гбо 1.3', 'бензин-гбо 2.1', 'электро 160', 'бензин-гбо 3.3', 'бензин-гбо 1.8', 'бензин-гбо 4.5', 'электро 230', 'бензин-гбо 4.8', 'бензин-гбо 5.6', 'дизель-гбо 3.0', 'бензин-гбо 3.8', 'дизель-гбо 2.8', 'бензин-гбо 2.4', 'бензин-гбо 5.5', 'бензин-гбо 1.5', 'бензин-гбо 2.6', 'бензин-гбо 5.7', 'гибрид-гбо 3.5', 'газ-гбо 1.4', 'бензин-гбо 3.0', 'бензин-гбо 2.3', 'бензин-гбо 4.0', 'дизель-гбо 4.5', 'газ 2.0', 'бензин-гбо 3.2', 'бензин-гбо 2.8', 'дизель 3.3', 'бензин-гбо 4.7', 'бензин-гбо 1.7', 'бензин-гбо 2.2', 'бензин-гбо 3.4', 'бензин-гбо 3.7', 'газ-гбо 2.0', 'газ-гбо 1.8', 'дизель 1.8', 'электро 30', 'бензин-гбо 4.6', 'бензин-гбо 4.4', 'бензин-гбо 4.2', 'бензин-гбо 4.3', 'бензин-гбо 2.5', 'газ 1.8', 'бензин-гбо 1.4', 'электро 135', 'электро 47', 'электро 100', 'бензин-гбо 5.0', 'бензин-гбо 1.9'},\n",
      "--\n",
      "Test has 100 unique items and has difference: {'бензин 5.3'}.\n",
      "{'гибрид 5.0', 'гибрид 2.0', 'бензин 5.8', 'бензин 4.6', 'дизель 3.9', 'бензин 1.3', 'дизель 4.2', 'бензин 5.3', 'электро 80', 'дизель 4.5', 'дизель 3.4', 'дизель 1.5', 'бензин 5.0', 'дизель 3.2', 'гибрид 0.7', 'бензин 5.2', 'бензин 3.4', 'дизель 1.4', 'бензин 1.2', 'бензин 6.6', 'бензин 2.7', 'бензин 4.4', 'бензин 6.2', 'бензин 4.7', 'дизель 4.0', 'дизель 3.5', 'бензин 2.8', 'бензин 5.7', 'бензин 4.2', 'бензин 3.1', 'гибрид 1.8', 'дизель 2.8', 'дизель 2.4', 'электро 132', 'бензин 3.7', 'бензин 4.5', 'гибрид 3.5', 'бензин 2.9', 'дизель 3.0', 'дизель 2.2', 'дизель 2.0', 'дизель 1.6', 'электро 110', 'бензин 3.3', 'электро 125', 'дизель 5.9', 'гибрид 1.5', 'бензин 5.6', 'электро 300', 'гибрид 3.3', 'дизель 2.5', 'бензин 2.6', 'бензин 3.2', 'бензин 6.3', 'бензин 2.3', 'дизель 2.3', 'бензин 2.4', 'дизель 1.9', 'бензин 3.0', 'бензин 4.3', 'бензин 1.9', 'бензин 2.0', 'электро 85', 'бензин 4.0', 'гибрид 4.4', 'бензин 1.1', 'дизель 2.1', 'дизель 1.2', 'гибрид 1.2', 'бензин 1.0', 'бензин 4.1', 'газ 1.4', 'бензин 5.4', 'электро 49', 'бензин 1.8', 'бензин 2.5', 'бензин 1.7', 'дизель 4.4', 'бензин 3.8', 'гибрид 2.4', 'бензин 1.6', 'гибрид 3.0', 'бензин 2.2', 'бензин 5.5', 'дизель 4.9', 'бензин 3.5', 'бензин 0.7', 'бензин 6.0', 'бензин 2.1', 'бензин 4.8', 'бензин 4.9', 'бензин 1.4', 'дизель 1.7', 'бензин 1.5', 'гибрид 2.5', 'дизель 2.7', 'гибрид 1.3', 'дизель 4.1', 'бензин 3.6', 'дизель 2.9'}\n"
     ]
    }
   ],
   "source": [
    "vector_items('engineName')"
   ],
   "metadata": {
    "collapsed": false,
    "pycharm": {
     "name": "#%%\n"
    }
   }
  },
  {
   "cell_type": "code",
   "execution_count": 39,
   "outputs": [],
   "source": [
    "test.enginePower = test.enginePower.str.replace('N12', 'л.с.')"
   ],
   "metadata": {
    "collapsed": false,
    "pycharm": {
     "name": "#%%\n"
    }
   }
  },
  {
   "cell_type": "code",
   "execution_count": 40,
   "outputs": [],
   "source": [
    "train['enginePowerValue'] = train.enginePower\n",
    "test['enginePowerValue'] = test.enginePower"
   ],
   "metadata": {
    "collapsed": false,
    "pycharm": {
     "name": "#%%\n"
    }
   }
  },
  {
   "cell_type": "code",
   "execution_count": 41,
   "outputs": [],
   "source": [
    "def enginePowerExchange(record):\n",
    "    if record.enginePower.split()[1] == 'кВт':\n",
    "        result = find_number(record.engineDisplacement)\n",
    "    else:\n",
    "        result = find_number(record.enginePower)\n",
    "    return result"
   ],
   "metadata": {
    "collapsed": false,
    "pycharm": {
     "name": "#%%\n"
    }
   }
  },
  {
   "cell_type": "code",
   "execution_count": 42,
   "outputs": [],
   "source": [
    "train.enginePower = train.apply(enginePowerExchange, axis=1)"
   ],
   "metadata": {
    "collapsed": false,
    "pycharm": {
     "name": "#%%\n"
    }
   }
  },
  {
   "cell_type": "code",
   "execution_count": 43,
   "outputs": [],
   "source": [
    "test.enginePower = test.apply(enginePowerExchange, axis=1)"
   ],
   "metadata": {
    "collapsed": false,
    "pycharm": {
     "name": "#%%\n"
    }
   }
  },
  {
   "cell_type": "code",
   "execution_count": 44,
   "outputs": [],
   "source": [
    "train.enginePower = train.enginePower.apply(int)\n",
    "test.enginePower = test.enginePower.apply(int)\n"
   ],
   "metadata": {
    "collapsed": false,
    "pycharm": {
     "name": "#%%\n"
    }
   }
  },
  {
   "cell_type": "code",
   "execution_count": 45,
   "outputs": [
    {
     "name": "stdout",
     "output_type": "stream",
     "text": [
      "Statistics of items in vector: enginePower.\n",
      " ---------------------------\n",
      "Train has 325 unique items and has difference: {134, 274, 537, 410, 670, 415, 161, 34, 417, 41, 299, 176, 564, 314, 187, 448, 449, 456, 206, 344, 89, 237},\n",
      "--\n",
      "Test has 315 unique items and has difference: {32, 195, 164, 550, 487, 457, 42, 44, 430, 214, 30, 127}.\n",
      "{30, 32, 38, 40, 42, 44, 46, 48, 49, 50, 51, 52, 53, 54, 55, 57, 58, 60, 61, 64, 65, 66, 67, 68, 69, 70, 71, 72, 73, 74, 75, 76, 77, 78, 79, 80, 82, 83, 84, 85, 86, 87, 88, 90, 91, 92, 93, 94, 95, 96, 97, 98, 99, 100, 101, 102, 103, 104, 105, 106, 107, 108, 109, 110, 111, 112, 113, 114, 115, 116, 117, 118, 120, 121, 122, 124, 125, 126, 127, 128, 129, 130, 131, 132, 133, 135, 136, 137, 139, 140, 141, 142, 143, 144, 145, 146, 147, 148, 149, 150, 151, 152, 154, 155, 156, 157, 158, 159, 160, 162, 163, 164, 165, 166, 167, 168, 169, 170, 171, 173, 174, 175, 177, 178, 179, 180, 181, 182, 183, 184, 185, 186, 188, 189, 190, 192, 193, 194, 195, 197, 199, 200, 201, 202, 203, 204, 205, 208, 209, 210, 211, 212, 213, 214, 215, 218, 219, 220, 221, 222, 223, 224, 225, 227, 228, 230, 231, 232, 233, 234, 235, 238, 239, 240, 241, 242, 243, 245, 247, 248, 249, 250, 252, 254, 255, 256, 257, 258, 260, 262, 263, 264, 265, 266, 268, 269, 270, 271, 272, 273, 275, 276, 277, 278, 279, 280, 281, 282, 283, 284, 285, 286, 288, 290, 292, 294, 295, 296, 300, 301, 302, 303, 304, 305, 306, 307, 309, 310, 313, 315, 316, 317, 318, 320, 321, 324, 325, 326, 328, 329, 330, 333, 335, 338, 340, 343, 347, 350, 354, 355, 360, 367, 370, 372, 380, 381, 382, 383, 387, 388, 390, 394, 400, 401, 402, 405, 407, 408, 420, 421, 422, 430, 431, 435, 445, 450, 455, 457, 460, 462, 469, 476, 480, 485, 487, 500, 507, 510, 514, 517, 520, 522, 525, 530, 540, 544, 550, 555, 557, 558, 560, 571, 575, 580, 585, 591, 600, 605, 609, 610, 612, 625, 626, 630, 639}\n"
     ]
    }
   ],
   "source": [
    "vector_items('enginePower')"
   ],
   "metadata": {
    "collapsed": false,
    "pycharm": {
     "name": "#%%\n"
    }
   }
  },
  {
   "cell_type": "code",
   "execution_count": 46,
   "outputs": [
    {
     "name": "stdout",
     "output_type": "stream",
     "text": [
      "Statistics of items in vector: engineDisplacement.\n",
      " ---------------------------\n",
      "Train has 68 unique items and has difference: {'5.7 л', '1.5 л', '1.2 л', '2.9 л', '67 л.с.', '2.4 л', '2.3 л', '184 л.с.', '170 л.с.', '4.6 л', '5.0 л', '2.6 л', '1.4 л', '3.0 л', '3.6 л', '3.4 л', '5.2 л', '4.3 л', '6.3 л', '3.1 л', '6.2 л', '4.4 л', '109 л.с.', '1.7 л', '4.7 л', '4.1 л', '4.8 л', '1.3 л', '5.9 л', '4.5 л', '3.2 л', '1.1 л', '74 л.с.', '136 л.с.', '115 л.с.', '1.9 л', '2.8 л', '150 л.с.', '179 л.с.', '3.3 л', '5.5 л', '5.6 л', '1.6 л', '5.4 л', '41 л.с.', '2.0 л', '408 л.с.', '6.0 л', '154 л.с.', '1.8 л', '4.2 л', '3.7 л', '313 л.с.', '0.7 л', '2.1 л', '1.0 л', '3.8 л', '4.0 л', '218 л.с.', '2.2 л', '2.7 л', '3.9 л', '64 л.с.', '6.6 л', '2.5 л', '5.8 л', '4.9 л', '3.5 л'},\n",
      "--\n",
      "Test has 55 unique items and has difference: {'3.6 LTR', '6.6 LTR', '1.6 LTR', '4.1 LTR', '4.4 LTR', '5.5 LTR', '3.4 LTR', '4.9 LTR', '1.0 LTR', '2.5 LTR', '2.3 LTR', '1.8 LTR', '3.8 LTR', '5.2 LTR', '2.4 LTR', '4.3 LTR', '1.1 LTR', '5.9 LTR', '4.0 LTR', '2.9 LTR', ' LTR', '1.4 LTR', '1.3 LTR', '2.6 LTR', '2.1 LTR', '4.2 LTR', '3.2 LTR', '6.2 LTR', '4.5 LTR', '3.5 LTR', '3.9 LTR', '2.7 LTR', '0.7 LTR', '2.0 LTR', '6.3 LTR', '4.6 LTR', '5.0 LTR', '5.8 LTR', '3.7 LTR', '1.7 LTR', '1.9 LTR', '3.3 LTR', '1.5 LTR', '2.8 LTR', '1.2 LTR', '4.8 LTR', '3.1 LTR', '6.0 LTR', '5.6 LTR', '4.7 LTR', '5.4 LTR', '2.2 LTR', '5.7 LTR', '5.3 LTR', '3.0 LTR'}.\n",
      "{'3.6 LTR', '6.6 LTR', '1.6 LTR', '4.1 LTR', '4.4 LTR', '5.5 LTR', '3.4 LTR', '4.9 LTR', '1.0 LTR', '2.5 LTR', '2.3 LTR', '1.8 LTR', '3.8 LTR', '5.2 LTR', '2.4 LTR', '4.3 LTR', '1.1 LTR', '5.9 LTR', '4.0 LTR', '2.9 LTR', ' LTR', '1.4 LTR', '1.3 LTR', '2.6 LTR', '2.1 LTR', '4.2 LTR', '3.2 LTR', '6.2 LTR', '4.5 LTR', '3.5 LTR', '3.9 LTR', '2.7 LTR', '0.7 LTR', '2.0 LTR', '6.3 LTR', '4.6 LTR', '5.0 LTR', '5.8 LTR', '3.7 LTR', '1.7 LTR', '1.9 LTR', '3.3 LTR', '1.5 LTR', '2.8 LTR', '1.2 LTR', '4.8 LTR', '3.1 LTR', '6.0 LTR', '5.6 LTR', '4.7 LTR', '5.4 LTR', '2.2 LTR', '5.7 LTR', '5.3 LTR', '3.0 LTR'}\n"
     ]
    }
   ],
   "source": [
    "vector_items('engineDisplacement')"
   ],
   "metadata": {
    "collapsed": false,
    "pycharm": {
     "name": "#%%\n"
    }
   }
  },
  {
   "cell_type": "code",
   "execution_count": 47,
   "outputs": [],
   "source": [
    "test.engineDisplacement = test.engineDisplacement.str.replace('LTR', 'л')"
   ],
   "metadata": {
    "collapsed": false,
    "pycharm": {
     "name": "#%%\n"
    }
   }
  },
  {
   "cell_type": "code",
   "execution_count": 48,
   "outputs": [
    {
     "name": "stdout",
     "output_type": "stream",
     "text": [
      "Statistics of items in vector: engineDisplacement.\n",
      " ---------------------------\n",
      "Train has 68 unique items and has difference: {'67 л.с.', '184 л.с.', '41 л.с.', '170 л.с.', '74 л.с.', '218 л.с.', '64 л.с.', '115 л.с.', '136 л.с.', '313 л.с.', '408 л.с.', '154 л.с.', '150 л.с.', '179 л.с.', '109 л.с.'},\n",
      "--\n",
      "Test has 55 unique items and has difference: {'5.3 л', ' л'}.\n",
      "{'5.7 л', '1.5 л', '1.2 л', '2.9 л', '2.4 л', '2.3 л', '4.6 л', '5.0 л', '2.6 л', '1.4 л', '3.0 л', '3.6 л', '3.4 л', '5.2 л', '4.3 л', '6.3 л', '3.1 л', '6.2 л', '4.4 л', '1.7 л', '4.7 л', '4.1 л', '4.8 л', '1.3 л', '1.1 л', '5.9 л', '3.2 л', '4.5 л', ' л', '1.9 л', '2.8 л', '5.3 л', '3.3 л', '5.5 л', '5.6 л', '1.6 л', '5.4 л', '2.0 л', '6.0 л', '1.8 л', '4.2 л', '3.7 л', '0.7 л', '2.1 л', '1.0 л', '3.8 л', '4.0 л', '2.7 л', '2.2 л', '3.9 л', '6.6 л', '2.5 л', '5.8 л', '4.9 л', '3.5 л'}\n"
     ]
    }
   ],
   "source": [
    "vector_items('engineDisplacement')"
   ],
   "metadata": {
    "collapsed": false,
    "pycharm": {
     "name": "#%%\n"
    }
   }
  },
  {
   "cell_type": "markdown",
   "source": [
    "---\n",
    "# vehicleConfiguration"
   ],
   "metadata": {
    "collapsed": false
   }
  },
  {
   "cell_type": "code",
   "execution_count": 49,
   "outputs": [
    {
     "name": "stdout",
     "output_type": "stream",
     "text": [
      "Statistics of items in vector: vehicleTransmission.\n",
      " ---------------------------\n",
      "Train has 4 unique items and has difference: set(),\n",
      "--\n",
      "Test has 4 unique items and has difference: set().\n",
      "{'вариатор', 'механическая', 'автоматическая', 'роботизированная'}\n"
     ]
    }
   ],
   "source": [
    "vector_items('vehicleTransmission')"
   ],
   "metadata": {
    "collapsed": false,
    "pycharm": {
     "name": "#%%\n"
    }
   }
  },
  {
   "cell_type": "code",
   "execution_count": 50,
   "outputs": [],
   "source": [
    "transmission = {\n",
    "    'механическая': 'MECHANICAL',\n",
    "    'вариатор': 'VARIATOR',\n",
    "    'роботизированная': 'ROBOT',\n",
    "    'автоматическая': 'AUTOMATIC'\n",
    "}"
   ],
   "metadata": {
    "collapsed": false,
    "pycharm": {
     "name": "#%%\n"
    }
   }
  },
  {
   "cell_type": "code",
   "execution_count": 51,
   "outputs": [
    {
     "data": {
      "text/plain": "{'внедорожник 3 дв.': 'ALLROAD_3_DOORS',\n 'внедорожник 5 дв.': 'ALLROAD_5_DOORS',\n 'внедорожник открытый': 'ALLROAD_OPEN',\n 'кабриолет': 'CABRIO',\n 'компактвэн': 'COMPACTVAN',\n 'купе': 'COUPE',\n 'купе-хардтоп': 'COUPE_HARDTOP',\n 'лимузин': 'LIMOUSINE',\n 'лифтбек': 'LIFTBACK',\n 'микровэн': 'MICROVAN',\n 'минивэн': 'MINIVAN',\n 'пикап двойная кабина': 'PICKUP_TWO',\n 'пикап одинарная кабина': 'PICKUP_ONE',\n 'пикап полуторная кабина': 'PICKUP_ONE_HALF',\n 'родстер': 'ROADSTER',\n 'седан': 'SEDAN',\n 'седан 2 дв.': 'SEDAN_2_DOORS',\n 'седан-хардтоп': 'SEDAN_HARDTOP',\n 'тарга': 'TARGA',\n 'универсал 5 дв.': 'WAGON_5_DOORS',\n 'фастбек': 'FASTBACK',\n 'фургон': 'VAN',\n 'хэтчбек 3 дв.': 'HATCHBACK_3_DOORS',\n 'хэтчбек 5 дв.': 'HATCHBACK_5_DOORS'}"
     },
     "execution_count": 51,
     "metadata": {},
     "output_type": "execute_result"
    }
   ],
   "source": [
    "temp_df = test[\n",
    "    ['bodyType', 'vehicleConfiguration']].groupby(\n",
    "    ['bodyType', 'vehicleConfiguration'])['vehicleConfiguration'].count().to_dict()\n",
    "\n",
    "bodyTypeEng = dict()\n",
    "for key, value in temp_df.keys():\n",
    "    bodyTypeEng[key] = value.split()[0]\n",
    "\n",
    "bodyTypeEng"
   ],
   "metadata": {
    "collapsed": false,
    "pycharm": {
     "name": "#%%\n"
    }
   }
  },
  {
   "cell_type": "code",
   "execution_count": 52,
   "outputs": [],
   "source": [
    "def vehicleConfiguration(record):\n",
    "    body = bodyTypeEng[record.bodyType]\n",
    "    trans = transmission[record.vehicleTransmission]\n",
    "    disp = find_number(record.engineDisplacement)\n",
    "\n",
    "    result = body + ' ' + trans\n",
    "    if disp:\n",
    "        result = result + ' ' + disp\n",
    "\n",
    "    return result"
   ],
   "metadata": {
    "collapsed": false,
    "pycharm": {
     "name": "#%%\n"
    }
   }
  },
  {
   "cell_type": "code",
   "execution_count": 53,
   "outputs": [],
   "source": [
    "train.vehicleConfiguration = train.apply(vehicleConfiguration, axis=1)"
   ],
   "metadata": {
    "collapsed": false,
    "pycharm": {
     "name": "#%%\n"
    }
   }
  },
  {
   "cell_type": "code",
   "execution_count": 54,
   "outputs": [
    {
     "name": "stdout",
     "output_type": "stream",
     "text": [
      "Statistics of items in vector: vehicleConfiguration.\n",
      " ---------------------------\n",
      "Train has 755 unique items and has difference: {'COUPE MECHANICAL 4.8', 'HATCHBACK_3_DOORS ROBOT 1.0', 'HATCHBACK_5_DOORS AUTOMATIC 67', 'ALLROAD_5_DOORS MECHANICAL 2.9', 'CABRIO MECHANICAL 1.5', 'COUPE MECHANICAL 2.1', 'LIFTBACK ROBOT 1.5', 'VAN VARIATOR 2.0', 'WAGON_5_DOORS AUTOMATIC 1.2', 'ROADSTER MECHANICAL 2.0', 'CABRIO MECHANICAL 4.0', 'CABRIO MECHANICAL 2.3', 'PICKUP_ONE AUTOMATIC 2.5', 'CABRIO AUTOMATIC 3.2', 'CABRIO AUTOMATIC 2.1', 'VAN MECHANICAL 1.2', 'COUPE MECHANICAL 1.2', 'PICKUP_ONE_HALF MECHANICAL 2.0', 'COMPACTVAN AUTOMATIC 1.9', 'SEDAN AUTOMATIC 109', 'VAN AUTOMATIC 0.7', 'SEDAN_HARDTOP AUTOMATIC 1.5', 'SEDAN_HARDTOP MECHANICAL 1.6', 'HATCHBACK_3_DOORS MECHANICAL 3.0', 'ALLROAD_3_DOORS MECHANICAL 0.7', 'SEDAN_2_DOORS MECHANICAL 1.8', 'SEDAN VARIATOR 2.7', 'HATCHBACK_5_DOORS MECHANICAL 2.8', 'ROADSTER ROBOT 3.2', 'PICKUP_TWO AUTOMATIC 4.0', 'MICROVAN AUTOMATIC 41', 'ALLROAD_5_DOORS AUTOMATIC 313', 'ALLROAD_5_DOORS ROBOT 1.3', 'COUPE AUTOMATIC 1.3', 'PICKUP_ONE AUTOMATIC 5.7', 'COUPE MECHANICAL 2.6', 'LIFTBACK MECHANICAL 1.5', 'CABRIO VARIATOR 3.2', 'HATCHBACK_5_DOORS VARIATOR 1.4', 'HATCHBACK_5_DOORS MECHANICAL 1.1', 'PICKUP_ONE AUTOMATIC 2.8', 'MINIVAN VARIATOR 1.2', 'VAN MECHANICAL 2.2', 'CABRIO VARIATOR 2.0', 'COUPE MECHANICAL 2.7', 'VAN MECHANICAL 1.4', 'VAN AUTOMATIC 2.2', 'HATCHBACK_5_DOORS MECHANICAL 2.2', 'COUPE_HARDTOP AUTOMATIC 2.1', 'COUPE_HARDTOP AUTOMATIC 3.0', 'PICKUP_ONE MECHANICAL 1.7', 'PICKUP_TWO MECHANICAL 4.2', 'ALLROAD_3_DOORS MECHANICAL 2.7', 'VAN AUTOMATIC 3.0', 'COUPE MECHANICAL 3.7', 'HATCHBACK_5_DOORS AUTOMATIC 64', 'PICKUP_ONE_HALF MECHANICAL 2.5', 'VAN ROBOT 1.9', 'HATCHBACK_5_DOORS AUTOMATIC 109', 'WAGON_5_DOORS ROBOT 1.3', 'WAGON_5_DOORS ROBOT 2.8', 'MINIVAN ROBOT 1.4', 'CABRIO MECHANICAL 1.4', 'HATCHBACK_5_DOORS AUTOMATIC 115', 'COUPE_HARDTOP MECHANICAL 2.0', 'ROADSTER ROBOT 5.2', 'CABRIO AUTOMATIC 2.2', 'PICKUP_ONE MECHANICAL 2.5', 'COUPE MECHANICAL 1.9', 'WAGON_5_DOORS ROBOT 2.1', 'SEDAN_HARDTOP AUTOMATIC 2.2', 'CABRIO MECHANICAL 2.4', 'WAGON_5_DOORS VARIATOR 1.3', 'WAGON_5_DOORS MECHANICAL 1.0', 'CABRIO ROBOT 1.4', 'SEDAN AUTOMATIC 1.4', 'HATCHBACK_3_DOORS VARIATOR 1.6', 'VAN AUTOMATIC 2.8', 'CABRIO ROBOT 1.8', 'VAN MECHANICAL 3.0', 'MINIVAN AUTOMATIC 109', 'HATCHBACK_5_DOORS MECHANICAL 1.7', 'ALLROAD_OPEN AUTOMATIC 3.0', 'ALLROAD_3_DOORS MECHANICAL 3.3', 'ALLROAD_3_DOORS MECHANICAL 4.0', 'HATCHBACK_5_DOORS AUTOMATIC 218', 'WAGON_5_DOORS VARIATOR 3.1', 'SEDAN MECHANICAL 3.1', 'MINIVAN AUTOMATIC 5.5', 'WAGON_5_DOORS AUTOMATIC 4.3', 'SEDAN_2_DOORS MECHANICAL 1.3', 'HATCHBACK_5_DOORS AUTOMATIC 1.9', 'LIFTBACK MECHANICAL 2.2', 'ROADSTER ROBOT 4.0', 'SEDAN MECHANICAL 4.2', 'HATCHBACK_5_DOORS AUTOMATIC 184', 'VAN AUTOMATIC 1.8', 'ALLROAD_5_DOORS MECHANICAL 3.3', 'COUPE_HARDTOP AUTOMATIC 5.4', 'WAGON_5_DOORS VARIATOR 1.9', 'HATCHBACK_5_DOORS AUTOMATIC 2.5', 'SEDAN ROBOT 3.5', 'CABRIO MECHANICAL 2.5', 'ALLROAD_3_DOORS MECHANICAL 2.6', 'CABRIO ROBOT 3.0', 'LIFTBACK VARIATOR 2.8', 'COUPE VARIATOR 2.7', 'COUPE_HARDTOP AUTOMATIC 2.2', 'ALLROAD_5_DOORS AUTOMATIC 408', 'PICKUP_TWO MECHANICAL 3.0', 'VAN MECHANICAL 2.3', 'ALLROAD_3_DOORS AUTOMATIC 2.4', 'COUPE MECHANICAL 3.3', 'ALLROAD_5_DOORS MECHANICAL 1.3', 'COMPACTVAN AUTOMATIC 3.5', 'ALLROAD_3_DOORS MECHANICAL 2.3', 'SEDAN AUTOMATIC 74', 'CABRIO ROBOT 5.2', 'LIMOUSINE AUTOMATIC 5.0', 'ROADSTER AUTOMATIC 2.2', 'HATCHBACK_5_DOORS AUTOMATIC 179', 'ALLROAD_5_DOORS MECHANICAL 4.7', 'ALLROAD_OPEN MECHANICAL 3.0', 'VAN AUTOMATIC 2.7', 'COUPE ROBOT 1.8', 'SEDAN AUTOMATIC 1.0', 'WAGON_5_DOORS VARIATOR 1.6', 'COUPE AUTOMATIC 4.5', 'WAGON_5_DOORS MECHANICAL 4.2', 'WAGON_5_DOORS MECHANICAL 3.2', 'VAN MECHANICAL 1.8', 'ROADSTER ROBOT 2.0', 'ROADSTER MECHANICAL 1.5', 'HATCHBACK_5_DOORS AUTOMATIC 170', 'HATCHBACK_3_DOORS ROBOT 3.2', 'HATCHBACK_3_DOORS MECHANICAL 0.7', 'MICROVAN MECHANICAL 1.3', 'ROADSTER ROBOT 1.8', 'COMPACTVAN MECHANICAL 2.3', 'LIMOUSINE MECHANICAL 3.0', 'CABRIO MECHANICAL 3.0', 'SEDAN_2_DOORS MECHANICAL 2.3', 'HATCHBACK_5_DOORS AUTOMATIC 136', 'LIFTBACK AUTOMATIC 1.4', 'HATCHBACK_3_DOORS MECHANICAL 2.2', 'COUPE AUTOMATIC 1.4', 'ROADSTER AUTOMATIC 6.2', 'HATCHBACK_3_DOORS MECHANICAL 2.3', 'MICROVAN ROBOT 0.7', 'COMPACTVAN VARIATOR 1.4', 'VAN AUTOMATIC 2.0', 'SEDAN MECHANICAL 4.0', 'COUPE_HARDTOP MECHANICAL 3.2', 'HATCHBACK_5_DOORS AUTOMATIC 150', 'HATCHBACK_5_DOORS ROBOT 1.0', 'VAN AUTOMATIC 2.1', 'ALLROAD_3_DOORS AUTOMATIC 4.2', 'VAN MECHANICAL 2.8', 'HATCHBACK_3_DOORS VARIATOR 2.0', 'PICKUP_ONE MECHANICAL 1.6', 'ALLROAD_5_DOORS AUTOMATIC 154', 'PICKUP_TWO AUTOMATIC 3.3', 'COUPE_HARDTOP MECHANICAL 2.2', 'ALLROAD_3_DOORS AUTOMATIC 5.0', 'CABRIO ROBOT 4.4'},\n",
      "--\n",
      "Test has 634 unique items and has difference: {'CABRIO MECHANICAL 4.2', 'PICKUP_TWO MECHANICAL 2.8', 'MINIVAN MECHANICAL 1.7', 'ROADSTER AUTOMATIC 4.7', 'COUPE MECHANICAL 5.0', 'ALLROAD_OPEN AUTOMATIC 2.0', 'PICKUP_ONE MECHANICAL 1.3', 'LIMOUSINE AUTOMATIC 5.5', 'TARGA MECHANICAL 1.6', 'ALLROAD_5_DOORS AUTOMATIC', 'CABRIO AUTOMATIC 5.5', 'SEDAN MECHANICAL 1.0', 'ALLROAD_OPEN AUTOMATIC 5.5', 'ROADSTER AUTOMATIC 3.8', 'HATCHBACK_5_DOORS MECHANICAL 0.7', 'COUPE_HARDTOP MECHANICAL 2.3', 'WAGON_5_DOORS AUTOMATIC 5.4', 'HATCHBACK_5_DOORS AUTOMATIC 2.3', 'WAGON_5_DOORS AUTOMATIC 5.5', 'WAGON_5_DOORS ROBOT 1.0', 'PICKUP_TWO AUTOMATIC 4.7', 'HATCHBACK_3_DOORS AUTOMATIC 3.0', 'FASTBACK MECHANICAL 2.8', 'HATCHBACK_5_DOORS AUTOMATIC', 'ROADSTER AUTOMATIC 2.3', 'HATCHBACK_5_DOORS ROBOT 1.9', 'CABRIO MECHANICAL 1.3', 'PICKUP_ONE MECHANICAL 4.0', 'LIMOUSINE AUTOMATIC 6.2', 'WAGON_5_DOORS MECHANICAL 4.0', 'CABRIO AUTOMATIC 2.8', 'ALLROAD_3_DOORS AUTOMATIC 1.6', 'WAGON_5_DOORS ROBOT 4.0', 'ROADSTER AUTOMATIC 1.5', 'COUPE AUTOMATIC 6.2', 'HATCHBACK_3_DOORS MECHANICAL 2.9', 'CABRIO ROBOT 3.3', 'SEDAN MECHANICAL 3.8', 'CABRIO ROBOT 3.2', 'PICKUP_ONE MECHANICAL 2.7', 'PICKUP_ONE MECHANICAL 2.3', 'CABRIO MECHANICAL 5.3', 'WAGON_5_DOORS AUTOMATIC 4.7', 'VAN ROBOT 2.0'}.\n",
      "{'ALLROAD_5_DOORS AUTOMATIC 5.5', 'SEDAN AUTOMATIC 3.2', 'HATCHBACK_5_DOORS ROBOT 1.3', 'VAN MECHANICAL 2.0', 'ROADSTER MECHANICAL 3.0', 'ALLROAD_5_DOORS AUTOMATIC 2.0', 'COUPE_HARDTOP AUTOMATIC 6.0', 'COUPE MECHANICAL 2.8', 'COUPE AUTOMATIC 5.4', 'TARGA MECHANICAL 1.6', 'CABRIO AUTOMATIC 5.5', 'ALLROAD_OPEN AUTOMATIC 5.5', 'LIFTBACK MECHANICAL 1.2', 'SEDAN VARIATOR 3.5', 'SEDAN MECHANICAL 2.8', 'MINIVAN MECHANICAL 1.9', 'HATCHBACK_3_DOORS MECHANICAL 1.6', 'ALLROAD_5_DOORS AUTOMATIC 6.0', 'HATCHBACK_5_DOORS MECHANICAL 1.3', 'SEDAN ROBOT 4.4', 'ALLROAD_5_DOORS AUTOMATIC 3.6', 'HATCHBACK_5_DOORS VARIATOR 1.2', 'HATCHBACK_5_DOORS MECHANICAL 1.2', 'MINIVAN MECHANICAL 2.7', 'ALLROAD_3_DOORS MECHANICAL 2.0', 'COUPE_HARDTOP AUTOMATIC 2.0', 'ALLROAD_3_DOORS AUTOMATIC 2.8', 'ROADSTER MECHANICAL 1.6', 'HATCHBACK_5_DOORS MECHANICAL 1.6', 'WAGON_5_DOORS MECHANICAL 2.6', 'SEDAN AUTOMATIC 1.8', 'COUPE AUTOMATIC 2.9', 'ALLROAD_5_DOORS MECHANICAL 3.4', 'CABRIO AUTOMATIC 3.0', 'ALLROAD_5_DOORS ROBOT 1.5', 'COUPE_HARDTOP AUTOMATIC 6.2', 'ALLROAD_3_DOORS AUTOMATIC 2.7', 'HATCHBACK_3_DOORS VARIATOR 1.3', 'SEDAN MECHANICAL 3.3', 'ALLROAD_5_DOORS MECHANICAL 2.2', 'SEDAN VARIATOR 2.0', 'MINIVAN MECHANICAL 1.5', 'HATCHBACK_3_DOORS AUTOMATIC 2.0', 'SEDAN AUTOMATIC 2.7', 'SEDAN MECHANICAL 1.5', 'ALLROAD_3_DOORS MECHANICAL 2.5', 'WAGON_5_DOORS AUTOMATIC 5.4', 'SEDAN_HARDTOP MECHANICAL 1.8', 'WAGON_5_DOORS AUTOMATIC 2.0', 'COUPE MECHANICAL 4.0', 'MICROVAN MECHANICAL 0.7', 'ALLROAD_5_DOORS AUTOMATIC 1.6', 'PICKUP_TWO MECHANICAL 2.7', 'HATCHBACK_5_DOORS AUTOMATIC 1.7', 'SEDAN ROBOT 4.0', 'HATCHBACK_5_DOORS VARIATOR 1.8', 'MICROVAN AUTOMATIC 0.7', 'ALLROAD_5_DOORS VARIATOR 3.3', 'SEDAN MECHANICAL 3.5', 'WAGON_5_DOORS ROBOT 3.0', 'WAGON_5_DOORS VARIATOR 2.5', 'WAGON_5_DOORS ROBOT 4.2', 'MINIVAN AUTOMATIC 2.4', 'SEDAN MECHANICAL 2.3', 'CABRIO AUTOMATIC 2.5', 'WAGON_5_DOORS MECHANICAL 1.4', 'ALLROAD_5_DOORS ROBOT 2.0', 'SEDAN AUTOMATIC 3.0', 'CABRIO AUTOMATIC 3.7', 'SEDAN AUTOMATIC 4.8', 'HATCHBACK_5_DOORS ROBOT 1.8', 'SEDAN VARIATOR 5.0', 'SEDAN AUTOMATIC 2.4', 'HATCHBACK_3_DOORS MECHANICAL 1.7', 'COUPE AUTOMATIC 2.2', 'COUPE VARIATOR 3.2', 'SEDAN AUTOMATIC 3.7', 'ALLROAD_5_DOORS AUTOMATIC 6.2', 'ROADSTER AUTOMATIC 3.8', 'CABRIO MECHANICAL 2.0', 'HATCHBACK_5_DOORS AUTOMATIC 2.4', 'SEDAN VARIATOR 1.5', 'ALLROAD_3_DOORS MECHANICAL 3.0', 'COUPE AUTOMATIC 3.5', 'TARGA MECHANICAL 2.0', 'CABRIO AUTOMATIC 1.8', 'WAGON_5_DOORS AUTOMATIC 4.4', 'SEDAN AUTOMATIC 4.5', 'ROADSTER ROBOT 3.0', 'ALLROAD_5_DOORS MECHANICAL 2.4', 'MINIVAN AUTOMATIC 3.0', 'LIMOUSINE AUTOMATIC 6.2', 'WAGON_5_DOORS AUTOMATIC 4.0', 'COUPE MECHANICAL 2.4', 'ALLROAD_5_DOORS MECHANICAL 4.5', 'ALLROAD_5_DOORS MECHANICAL 1.4', 'MINIVAN MECHANICAL 3.0', 'HATCHBACK_5_DOORS AUTOMATIC 1.0', 'ALLROAD_5_DOORS AUTOMATIC 2.2', 'ALLROAD_5_DOORS AUTOMATIC 4.0', 'ALLROAD_3_DOORS MECHANICAL 4.5', 'MICROVAN VARIATOR 1.2', 'ALLROAD_5_DOORS AUTOMATIC 3.4', 'HATCHBACK_5_DOORS MECHANICAL 2.0', 'SEDAN MECHANICAL 2.5', 'SEDAN AUTOMATIC 3.3', 'ALLROAD_5_DOORS AUTOMATIC 4.7', 'PICKUP_ONE MECHANICAL 2.0', 'SEDAN AUTOMATIC 3.1', 'SEDAN AUTOMATIC 5.2', 'HATCHBACK_5_DOORS ROBOT 2.1', 'COUPE MECHANICAL 4.2', 'HATCHBACK_5_DOORS MECHANICAL 1.0', 'SEDAN MECHANICAL 2.1', 'LIFTBACK AUTOMATIC 4.4', 'WAGON_5_DOORS AUTOMATIC 1.8', 'HATCHBACK_5_DOORS ROBOT 1.4', 'MINIVAN AUTOMATIC 2.8', 'HATCHBACK_3_DOORS AUTOMATIC 2.3', 'COMPACTVAN MECHANICAL 1.6', 'SEDAN ROBOT 3.2', 'WAGON_5_DOORS VARIATOR 1.5', 'ALLROAD_5_DOORS AUTOMATIC 4.8', 'COUPE_HARDTOP AUTOMATIC 2.3', 'SEDAN_HARDTOP AUTOMATIC 1.8', 'SEDAN MECHANICAL 4.9', 'COMPACTVAN MECHANICAL 1.7', 'PICKUP_TWO MECHANICAL 2.3', 'WAGON_5_DOORS ROBOT 1.0', 'COUPE ROBOT 4.2', 'HATCHBACK_3_DOORS AUTOMATIC 0.7', 'ALLROAD_5_DOORS AUTOMATIC 5.9', 'COUPE MECHANICAL 2.2', 'PICKUP_ONE_HALF MECHANICAL 2.4', 'ALLROAD_3_DOORS AUTOMATIC 0.7', 'WAGON_5_DOORS MECHANICAL 4.0', 'SEDAN AUTOMATIC 3.6', 'PICKUP_TWO AUTOMATIC 2.3', 'SEDAN AUTOMATIC 3.4', 'SEDAN ROBOT 2.8', 'ROADSTER AUTOMATIC 1.5', 'HATCHBACK_5_DOORS AUTOMATIC 1.6', 'SEDAN AUTOMATIC 4.1', 'WAGON_5_DOORS MECHANICAL 2.8', 'COMPACTVAN AUTOMATIC 1.8', 'MINIVAN MECHANICAL 2.4', 'CABRIO ROBOT 4.0', 'ROADSTER AUTOMATIC 2.5', 'HATCHBACK_3_DOORS VARIATOR 1.0', 'CABRIO AUTOMATIC 3.5', 'SEDAN AUTOMATIC 3.9', 'SEDAN MECHANICAL 1.9', 'COUPE MECHANICAL 3.4', 'SEDAN AUTOMATIC 4.7', 'ALLROAD_3_DOORS MECHANICAL 1.6', 'PICKUP_ONE MECHANICAL 2.3', 'ALLROAD_5_DOORS ROBOT 1.4', 'LIFTBACK VARIATOR 2.0', 'ALLROAD_5_DOORS AUTOMATIC 2.7', 'HATCHBACK_5_DOORS AUTOMATIC 1.3', 'WAGON_5_DOORS AUTOMATIC 2.1', 'HATCHBACK_3_DOORS AUTOMATIC 1.9', 'LIMOUSINE AUTOMATIC 5.5', 'SEDAN MECHANICAL 1.0', 'COUPE MECHANICAL 2.3', 'MINIVAN VARIATOR 1.8', 'COUPE AUTOMATIC 4.4', 'ALLROAD_5_DOORS AUTOMATIC 3.0', 'COMPACTVAN MECHANICAL 1.9', 'PICKUP_TWO AUTOMATIC 4.6', 'PICKUP_TWO AUTOMATIC 3.2', 'CABRIO AUTOMATIC 2.4', 'SEDAN AUTOMATIC 2.8', 'SEDAN AUTOMATIC 6.3', 'LIFTBACK ROBOT 1.9', 'FASTBACK MECHANICAL 2.8', 'LIFTBACK ROBOT 2.8', 'WAGON_5_DOORS AUTOMATIC 2.7', 'WAGON_5_DOORS VARIATOR 2.0', 'MINIVAN VARIATOR 3.5', 'HATCHBACK_3_DOORS AUTOMATIC 1.2', 'COUPE_HARDTOP AUTOMATIC 2.6', 'LIFTBACK ROBOT 1.2', 'SEDAN AUTOMATIC 4.6', 'WAGON_5_DOORS AUTOMATIC 2.6', 'HATCHBACK_3_DOORS AUTOMATIC 2.5', 'WAGON_5_DOORS MECHANICAL 1.2', 'SEDAN AUTOMATIC 5.8', 'MINIVAN MECHANICAL 1.8', 'HATCHBACK_3_DOORS AUTOMATIC 1.8', 'WAGON_5_DOORS ROBOT 1.2', 'ALLROAD_5_DOORS AUTOMATIC 4.3', 'ROADSTER MECHANICAL 1.8', 'WAGON_5_DOORS ROBOT 1.6', 'PICKUP_TWO AUTOMATIC 2.4', 'SEDAN AUTOMATIC 1.3', 'HATCHBACK_3_DOORS ROBOT 1.2', 'WAGON_5_DOORS MECHANICAL 2.5', 'COUPE ROBOT 4.4', 'VAN ROBOT 2.0', 'SEDAN_2_DOORS MECHANICAL 1.6', 'ALLROAD_5_DOORS AUTOMATIC 2.4', 'LIFTBACK ROBOT 2.0', 'ALLROAD_5_DOORS MECHANICAL 2.3', 'SEDAN MECHANICAL 2.4', 'ALLROAD_5_DOORS AUTOMATIC 5.6', 'ALLROAD_OPEN AUTOMATIC 2.0', 'ALLROAD_5_DOORS AUTOMATIC 3.8', 'ALLROAD_5_DOORS AUTOMATIC 1.4', 'ALLROAD_3_DOORS MECHANICAL 3.5', 'LIFTBACK ROBOT 1.8', 'WAGON_5_DOORS ROBOT 1.4', 'WAGON_5_DOORS AUTOMATIC 3.0', 'HATCHBACK_5_DOORS VARIATOR 1.5', 'COUPE AUTOMATIC 2.3', 'ALLROAD_5_DOORS MECHANICAL 1.2', 'CABRIO AUTOMATIC 4.4', 'SEDAN ROBOT 3.6', 'HATCHBACK_3_DOORS MECHANICAL 1.9', 'HATCHBACK_3_DOORS VARIATOR 1.7', 'COMPACTVAN AUTOMATIC 1.5', 'WAGON_5_DOORS ROBOT 4.0', 'ALLROAD_5_DOORS VARIATOR 2.0', 'COMPACTVAN ROBOT 1.5', 'COUPE_HARDTOP AUTOMATIC 3.5', 'COUPE AUTOMATIC 4.2', 'ALLROAD_5_DOORS ROBOT 3.2', 'HATCHBACK_5_DOORS ROBOT 1.2', 'PICKUP_TWO MECHANICAL 2.5', 'COMPACTVAN VARIATOR 1.2', 'COUPE MECHANICAL 1.3', 'HATCHBACK_5_DOORS VARIATOR 1.0', 'LIFTBACK VARIATOR 1.8', 'ROADSTER AUTOMATIC 1.6', 'ALLROAD_5_DOORS MECHANICAL 4.0', 'SEDAN MECHANICAL 2.9', 'VAN MECHANICAL 1.7', 'COUPE AUTOMATIC 5.6', 'HATCHBACK_5_DOORS ROBOT 1.5', 'HATCHBACK_3_DOORS ROBOT 1.4', 'SEDAN AUTOMATIC 5.0', 'COMPACTVAN AUTOMATIC 1.7', 'SEDAN AUTOMATIC 1.7', 'ALLROAD_5_DOORS AUTOMATIC 2.5', 'ALLROAD_5_DOORS VARIATOR 1.6', 'HATCHBACK_3_DOORS AUTOMATIC 3.0', 'COUPE ROBOT 4.0', 'HATCHBACK_5_DOORS AUTOMATIC 3.0', 'WAGON_5_DOORS ROBOT 1.5', 'COUPE_HARDTOP AUTOMATIC 5.8', 'ALLROAD_5_DOORS ROBOT 1.2', 'COUPE MECHANICAL 4.4', 'SEDAN ROBOT 1.4', 'COUPE AUTOMATIC 4.3', 'LIFTBACK AUTOMATIC 1.8', 'COUPE AUTOMATIC 3.3', 'ALLROAD_5_DOORS AUTOMATIC 5.7', 'COUPE AUTOMATIC 3.2', 'COUPE AUTOMATIC 1.7', 'CABRIO AUTOMATIC 4.8', 'COUPE AUTOMATIC 4.7', 'SEDAN MECHANICAL 1.4', 'COUPE AUTOMATIC 6.2', 'SEDAN MECHANICAL 2.0', 'HATCHBACK_3_DOORS VARIATOR 1.5', 'PICKUP_TWO AUTOMATIC 2.8', 'SEDAN MECHANICAL 1.3', 'COUPE VARIATOR 1.8', 'COUPE AUTOMATIC 3.0', 'MINIVAN AUTOMATIC 1.5', 'COUPE MECHANICAL 3.5', 'SEDAN MECHANICAL 1.2', 'MINIVAN MECHANICAL 1.6', 'WAGON_5_DOORS MECHANICAL 2.4', 'MINIVAN MECHANICAL 1.7', 'ALLROAD_3_DOORS MECHANICAL 3.4', 'WAGON_5_DOORS AUTOMATIC 3.2', 'ALLROAD_3_DOORS AUTOMATIC 3.8', 'LIFTBACK MECHANICAL 1.6', 'ALLROAD_5_DOORS AUTOMATIC 2.8', 'HATCHBACK_3_DOORS MECHANICAL 1.1', 'HATCHBACK_3_DOORS ROBOT 2.0', 'COUPE ROBOT 6.2', 'WAGON_5_DOORS AUTOMATIC 1.5', 'COUPE ROBOT 2.0', 'ALLROAD_3_DOORS MECHANICAL 1.8', 'WAGON_5_DOORS ROBOT 3.6', 'HATCHBACK_5_DOORS AUTOMATIC', 'COUPE MECHANICAL 2.0', 'ALLROAD_3_DOORS MECHANICAL 2.4', 'SEDAN ROBOT 1.3', 'COMPACTVAN MECHANICAL 2.2', 'LIFTBACK ROBOT 4.0', 'COUPE ROBOT 5.2', 'MINIVAN MECHANICAL 3.2', 'SEDAN AUTOMATIC 1.5', 'COMPACTVAN ROBOT 1.4', 'WAGON_5_DOORS MECHANICAL 1.3', 'MINIVAN MECHANICAL 2.2', 'SEDAN AUTOMATIC 1.9', 'COMPACTVAN AUTOMATIC 1.4', 'SEDAN MECHANICAL 2.6', 'MINIVAN VARIATOR 2.4', 'HATCHBACK_3_DOORS ROBOT 1.3', 'WAGON_5_DOORS MECHANICAL 1.6', 'COUPE ROBOT 3.0', 'ALLROAD_5_DOORS VARIATOR 2.5', 'MINIVAN VARIATOR 1.5', 'ROADSTER AUTOMATIC 4.7', 'COUPE_HARDTOP AUTOMATIC 1.8', 'ROADSTER AUTOMATIC 5.4', 'ALLROAD_3_DOORS AUTOMATIC 3.0', 'CABRIO MECHANICAL 2.2', 'MINIVAN AUTOMATIC 3.7', 'ALLROAD_5_DOORS AUTOMATIC 4.6', 'PICKUP_TWO AUTOMATIC 2.5', 'COUPE_HARDTOP AUTOMATIC 4.7', 'HATCHBACK_5_DOORS AUTOMATIC 1.8', 'CABRIO AUTOMATIC 4.3', 'SEDAN AUTOMATIC 6.2', 'SEDAN ROBOT 1.9', 'ALLROAD_5_DOORS AUTOMATIC 3.2', 'WAGON_5_DOORS AUTOMATIC 1.7', 'ALLROAD_5_DOORS ROBOT 1.8', 'COUPE AUTOMATIC 1.6', 'HATCHBACK_5_DOORS AUTOMATIC 1.5', 'ALLROAD_3_DOORS AUTOMATIC 1.6', 'ALLROAD_5_DOORS MECHANICAL 2.7', 'MINIVAN VARIATOR 2.0', 'ALLROAD_5_DOORS AUTOMATIC 4.9', 'COMPACTVAN VARIATOR 1.8', 'COUPE ROBOT 3.3', 'COUPE AUTOMATIC 6.0', 'CABRIO ROBOT 3.3', 'COMPACTVAN MECHANICAL 1.4', 'ROADSTER ROBOT 6.2', 'ROADSTER AUTOMATIC 2.0', 'COUPE AUTOMATIC 2.0', 'HATCHBACK_5_DOORS AUTOMATIC 2.0', 'HATCHBACK_3_DOORS MECHANICAL 2.0', 'HATCHBACK_5_DOORS MECHANICAL 1.9', 'SEDAN_HARDTOP MECHANICAL 2.0', 'MINIVAN MECHANICAL 2.5', 'PICKUP_TWO AUTOMATIC 5.7', 'ALLROAD_5_DOORS MECHANICAL 4.2', 'ALLROAD_OPEN AUTOMATIC 5.0', 'PICKUP_ONE MECHANICAL 1.3', 'COUPE ROBOT 5.0', 'HATCHBACK_5_DOORS MECHANICAL 0.7', 'ALLROAD_5_DOORS AUTOMATIC 4.5', 'SEDAN AUTOMATIC 2.0', 'ALLROAD_5_DOORS MECHANICAL 2.5', 'COUPE AUTOMATIC 4.0', 'ALLROAD_5_DOORS AUTOMATIC 2.1', 'HATCHBACK_5_DOORS MECHANICAL 1.4', 'PICKUP_TWO AUTOMATIC 4.7', 'SEDAN MECHANICAL 2.2', 'PICKUP_TWO AUTOMATIC 3.0', 'COMPACTVAN MECHANICAL 1.5', 'MINIVAN VARIATOR 2.5', 'ALLROAD_5_DOORS VARIATOR 2.4', 'WAGON_5_DOORS MECHANICAL 1.5', 'CABRIO AUTOMATIC 2.3', 'MINIVAN AUTOMATIC 1.9', 'COMPACTVAN ROBOT 1.6', 'HATCHBACK_5_DOORS ROBOT 1.6', 'COMPACTVAN MECHANICAL 1.3', 'MINIVAN AUTOMATIC 3.3', 'ROADSTER AUTOMATIC 3.7', 'COUPE AUTOMATIC 1.5', 'LIMOUSINE AUTOMATIC 5.8', 'VAN AUTOMATIC 2.5', 'WAGON_5_DOORS VARIATOR 1.8', 'ROADSTER AUTOMATIC 2.8', 'SEDAN AUTOMATIC 4.0', 'COMPACTVAN ROBOT 1.2', 'CABRIO MECHANICAL 1.8', 'ROADSTER AUTOMATIC 5.0', 'SEDAN AUTOMATIC 5.6', 'SEDAN_HARDTOP AUTOMATIC 2.0', 'HATCHBACK_3_DOORS MECHANICAL 2.9', 'MINIVAN AUTOMATIC 2.3', 'MINIVAN ROBOT 2.0', 'COMPACTVAN MECHANICAL 2.4', 'COUPE MECHANICAL 3.2', 'HATCHBACK_5_DOORS VARIATOR 2.4', 'SEDAN ROBOT 1.8', 'SEDAN VARIATOR 2.5', 'CABRIO MECHANICAL 5.3', 'VAN MECHANICAL 2.4', 'ALLROAD_5_DOORS VARIATOR 1.5', 'COMPACTVAN AUTOMATIC 2.4', 'CABRIO MECHANICAL 4.2', 'SEDAN VARIATOR 1.8', 'COUPE AUTOMATIC 5.5', 'COUPE AUTOMATIC 4.8', 'HATCHBACK_3_DOORS MECHANICAL 1.3', 'LIFTBACK ROBOT 1.4', 'SEDAN_HARDTOP AUTOMATIC 1.6', 'ALLROAD_3_DOORS AUTOMATIC 2.0', 'HATCHBACK_5_DOORS VARIATOR 2.0', 'WAGON_5_DOORS MECHANICAL 1.7', 'COUPE ROBOT 3.8', 'WAGON_5_DOORS AUTOMATIC 4.2', 'SEDAN ROBOT 1.5', 'WAGON_5_DOORS AUTOMATIC 2.9', 'HATCHBACK_3_DOORS MECHANICAL 1.0', 'HATCHBACK_5_DOORS VARIATOR 1.7', 'ROADSTER MECHANICAL 2.5', 'COUPE VARIATOR 1.5', 'ALLROAD_3_DOORS MECHANICAL 2.8', 'COMPACTVAN MECHANICAL 1.8', 'WAGON_5_DOORS AUTOMATIC 2.4', 'SEDAN AUTOMATIC 2.9', 'SEDAN AUTOMATIC 2.2', 'MINIVAN AUTOMATIC 2.0', 'COUPE_HARDTOP AUTOMATIC 5.5', 'ALLROAD_3_DOORS AUTOMATIC 3.2', 'ROADSTER MECHANICAL 1.9', 'PICKUP_TWO AUTOMATIC 2.7', 'SEDAN MECHANICAL 4.4', 'LIFTBACK MECHANICAL 1.9', 'HATCHBACK_5_DOORS MECHANICAL 2.3', 'ALLROAD_5_DOORS MECHANICAL 3.0', 'COMPACTVAN VARIATOR 2.4', 'SEDAN MECHANICAL 1.6', 'COMPACTVAN AUTOMATIC 3.0', 'VAN MECHANICAL 2.1', 'ROADSTER AUTOMATIC 3.2', 'WAGON_5_DOORS MECHANICAL 1.9', 'COMPACTVAN ROBOT 2.0', 'COUPE_HARDTOP AUTOMATIC 5.0', 'COMPACTVAN VARIATOR 2.0', 'ALLROAD_5_DOORS MECHANICAL 2.0', 'MINIVAN AUTOMATIC 2.2', 'COUPE MECHANICAL 5.0', 'ROADSTER AUTOMATIC 6.0', 'SEDAN MECHANICAL 3.0', 'ALLROAD_5_DOORS AUTOMATIC 1.8', 'COUPE AUTOMATIC 2.5', 'WAGON_5_DOORS AUTOMATIC 2.3', 'WAGON_5_DOORS VARIATOR 2.7', 'WAGON_5_DOORS MECHANICAL 2.3', 'LIFTBACK MECHANICAL 1.8', 'SEDAN VARIATOR 2.4', 'HATCHBACK_5_DOORS AUTOMATIC 1.4', 'COUPE AUTOMATIC 2.8', 'HATCHBACK_5_DOORS ROBOT 1.9', 'HATCHBACK_3_DOORS AUTOMATIC 1.6', 'HATCHBACK_5_DOORS ROBOT 2.0', 'HATCHBACK_5_DOORS AUTOMATIC 1.2', 'SEDAN AUTOMATIC 1.6', 'LIFTBACK ROBOT 3.0', 'HATCHBACK_3_DOORS MECHANICAL 1.4', 'WAGON_5_DOORS ROBOT 1.8', 'ALLROAD_5_DOORS VARIATOR 1.2', 'ALLROAD_5_DOORS AUTOMATIC 5.4', 'WAGON_5_DOORS AUTOMATIC 1.9', 'SEDAN AUTOMATIC 3.5', 'SEDAN MECHANICAL 1.7', 'VAN MECHANICAL 1.6', 'MINIVAN AUTOMATIC 1.6', 'SEDAN AUTOMATIC 6.0', 'LIFTBACK AUTOMATIC 2.0', 'ALLROAD_5_DOORS VARIATOR 3.5', 'COUPE MECHANICAL 3.0', 'ALLROAD_3_DOORS VARIATOR 1.6', 'COMPACTVAN VARIATOR 1.5', 'WAGON_5_DOORS MECHANICAL 2.7', 'SEDAN AUTOMATIC 2.5', 'SEDAN MECHANICAL 2.7', 'SEDAN AUTOMATIC 5.4', 'COUPE MECHANICAL 1.5', 'ALLROAD_3_DOORS AUTOMATIC 4.0', 'LIFTBACK MECHANICAL 1.4', 'COUPE ROBOT 2.5', 'COMPACTVAN AUTOMATIC 2.0', 'WAGON_5_DOORS ROBOT 1.9', 'SEDAN AUTOMATIC 4.3', 'COUPE_HARDTOP MECHANICAL 2.3', 'WAGON_5_DOORS VARIATOR 2.4', 'MINIVAN AUTOMATIC 2.1', 'MINIVAN AUTOMATIC 2.7', 'SEDAN VARIATOR 2.8', 'ALLROAD_5_DOORS VARIATOR 1.8', 'MINIVAN AUTOMATIC 3.4', 'MICROVAN AUTOMATIC 1.3', 'MINIVAN AUTOMATIC 3.2', 'MINIVAN MECHANICAL 2.1', 'WAGON_5_DOORS MECHANICAL 2.1', 'ALLROAD_3_DOORS MECHANICAL 3.2', 'WAGON_5_DOORS AUTOMATIC 1.3', 'WAGON_5_DOORS AUTOMATIC 2.5', 'PICKUP_ONE MECHANICAL 4.0', 'MINIVAN AUTOMATIC 2.5', 'COMPACTVAN AUTOMATIC 1.3', 'HATCHBACK_3_DOORS AUTOMATIC 1.5', 'ALLROAD_5_DOORS AUTOMATIC 3.5', 'WAGON_5_DOORS AUTOMATIC 3.5', 'CABRIO ROBOT 2.0', 'COUPE MECHANICAL 1.7', 'PICKUP_TWO AUTOMATIC 3.5', 'LIFTBACK AUTOMATIC 4.0', 'HATCHBACK_3_DOORS AUTOMATIC 1.3', 'HATCHBACK_5_DOORS VARIATOR 1.3', 'COUPE AUTOMATIC 1.8', 'COUPE_HARDTOP AUTOMATIC 3.2', 'ALLROAD_5_DOORS MECHANICAL 3.5', 'ALLROAD_5_DOORS MECHANICAL 1.6', 'ALLROAD_5_DOORS AUTOMATIC 3.3', 'SEDAN AUTOMATIC 4.2', 'ALLROAD_5_DOORS AUTOMATIC 4.1', 'WAGON_5_DOORS AUTOMATIC 4.7', 'HATCHBACK_3_DOORS MECHANICAL 1.8', 'LIFTBACK ROBOT 3.6', 'WAGON_5_DOORS MECHANICAL 2.0', 'WAGON_5_DOORS AUTOMATIC 2.2', 'ALLROAD_5_DOORS MECHANICAL 1.5', 'PICKUP_TWO MECHANICAL 2.8', 'MINIVAN AUTOMATIC 5.0', 'COMPACTVAN AUTOMATIC 1.6', 'LIFTBACK AUTOMATIC 3.0', 'COUPE VARIATOR 2.5', 'COUPE AUTOMATIC 5.0', 'ALLROAD_5_DOORS MECHANICAL 1.8', 'HATCHBACK_5_DOORS AUTOMATIC 2.3', 'HATCHBACK_3_DOORS ROBOT 1.8', 'COUPE VARIATOR 2.0', 'SEDAN AUTOMATIC 2.6', 'HATCHBACK_3_DOORS AUTOMATIC 2.4', 'ALLROAD_5_DOORS AUTOMATIC 4.4', 'COMPACTVAN VARIATOR 1.3', 'MINIVAN MECHANICAL 2.0', 'WAGON_5_DOORS AUTOMATIC 3.1', 'ALLROAD_3_DOORS AUTOMATIC 2.5', 'CABRIO AUTOMATIC 2.8', 'SEDAN ROBOT 1.6', 'SEDAN VARIATOR 3.1', 'WAGON_5_DOORS ROBOT 2.0', 'SEDAN AUTOMATIC 2.3', 'HATCHBACK_5_DOORS VARIATOR 1.6', 'ALLROAD_5_DOORS AUTOMATIC 1.3', 'SEDAN VARIATOR 3.0', 'ALLROAD_5_DOORS ROBOT 1.6', 'ROADSTER AUTOMATIC 5.5', 'ALLROAD_5_DOORS AUTOMATIC 3.7', 'ALLROAD_5_DOORS MECHANICAL 3.2', 'HATCHBACK_5_DOORS VARIATOR 0.7', 'ALLROAD_5_DOORS ROBOT 3.0', 'HATCHBACK_3_DOORS AUTOMATIC 1.0', 'WAGON_5_DOORS AUTOMATIC 1.6', 'ALLROAD_5_DOORS AUTOMATIC', 'HATCHBACK_3_DOORS MECHANICAL 1.5', 'ALLROAD_3_DOORS AUTOMATIC 3.5', 'SEDAN VARIATOR 1.9', 'COUPE AUTOMATIC 2.4', 'ALLROAD_3_DOORS MECHANICAL 4.2', 'MINIVAN MECHANICAL 2.3', 'SEDAN AUTOMATIC 6.6', 'MINIVAN AUTOMATIC 1.8', 'COMPACTVAN VARIATOR 1.6', 'HATCHBACK_5_DOORS MECHANICAL 1.5', 'SEDAN AUTOMATIC 4.4', 'ROADSTER AUTOMATIC 3.0', 'COUPE ROBOT 3.2', 'ROADSTER AUTOMATIC 1.8', 'MINIVAN AUTOMATIC 3.5', 'ALLROAD_3_DOORS AUTOMATIC 1.8', 'COUPE MECHANICAL 1.6', 'HATCHBACK_3_DOORS AUTOMATIC 1.4', 'WAGON_5_DOORS AUTOMATIC 2.8', 'WAGON_5_DOORS AUTOMATIC 5.5', 'COUPE MECHANICAL 2.5', 'ROADSTER AUTOMATIC 2.3', 'COMPACTVAN ROBOT 1.8', 'SEDAN VARIATOR 1.3', 'PICKUP_TWO AUTOMATIC 2.0', 'SEDAN ROBOT 5.0', 'CABRIO VARIATOR 1.8', 'SEDAN ROBOT 2.0', 'COMPACTVAN ROBOT 1.9', 'HATCHBACK_3_DOORS MECHANICAL 2.8', 'VAN MECHANICAL 1.9', 'LIFTBACK MECHANICAL 2.0', 'COUPE MECHANICAL 1.8', 'SEDAN VARIATOR 1.6', 'COMPACTVAN MECHANICAL 2.0', 'HATCHBACK_5_DOORS ROBOT 2.5', 'SEDAN_2_DOORS MECHANICAL 2.0', 'LIMOUSINE AUTOMATIC 6.0', 'ALLROAD_5_DOORS AUTOMATIC 4.2', 'CABRIO ROBOT 3.2', 'ALLROAD_5_DOORS AUTOMATIC 2.9', 'COUPE_HARDTOP MECHANICAL 1.8', 'ALLROAD_5_DOORS AUTOMATIC 5.0', 'COMPACTVAN AUTOMATIC 2.3', 'ALLROAD_5_DOORS ROBOT 2.5', 'COMPACTVAN AUTOMATIC 2.2', 'ALLROAD_5_DOORS ROBOT 2.1', 'LIFTBACK AUTOMATIC 1.6', 'WAGON_5_DOORS MECHANICAL 1.8', 'SEDAN MECHANICAL 1.8', 'ALLROAD_5_DOORS AUTOMATIC 1.5', 'PICKUP_ONE_HALF AUTOMATIC 5.7', 'SEDAN MECHANICAL 3.4', 'PICKUP_TWO MECHANICAL 2.4', 'HATCHBACK_3_DOORS ROBOT 1.6', 'SEDAN ROBOT 3.0', 'MINIVAN MECHANICAL 2.8', 'CABRIO MECHANICAL 1.3', 'HATCHBACK_3_DOORS MECHANICAL 3.2', 'SEDAN AUTOMATIC 3.8', 'COMPACTVAN MECHANICAL 1.2', 'WAGON_5_DOORS AUTOMATIC 1.4', 'HATCHBACK_3_DOORS MECHANICAL 2.5', 'HATCHBACK_3_DOORS MECHANICAL 1.2', 'ROADSTER AUTOMATIC 3.5', 'PICKUP_TWO MECHANICAL 2.0', 'ALLROAD_5_DOORS MECHANICAL 2.8', 'SEDAN AUTOMATIC 2.1', 'VAN MECHANICAL 2.5', 'HATCHBACK_5_DOORS MECHANICAL 1.8', 'COUPE AUTOMATIC 3.7', 'LIFTBACK MECHANICAL 1.3', 'WAGON_5_DOORS MECHANICAL 2.2', 'HATCHBACK_5_DOORS AUTOMATIC 0.7', 'WAGON_5_DOORS MECHANICAL 3.0', 'SEDAN MECHANICAL 3.8', 'PICKUP_ONE_HALF AUTOMATIC 2.5', 'CABRIO AUTOMATIC 2.0', 'ROADSTER MECHANICAL 3.2', 'PICKUP_ONE MECHANICAL 2.7', 'SEDAN MECHANICAL 3.2', 'SEDAN AUTOMATIC 5.5'}\n"
     ]
    }
   ],
   "source": [
    "vector_items('vehicleConfiguration')"
   ],
   "metadata": {
    "collapsed": false,
    "pycharm": {
     "name": "#%%\n"
    }
   }
  },
  {
   "cell_type": "code",
   "execution_count": 55,
   "outputs": [],
   "source": [
    "train.drop(['modelDate', 'model_info', 'model_name', 'name', 'price_current'], axis=1, inplace=True)\n",
    "test.drop(['modelDate', 'model_info', 'model_name', 'name'], axis=1, inplace=True)"
   ],
   "metadata": {
    "collapsed": false,
    "pycharm": {
     "name": "#%%\n"
    }
   }
  },
  {
   "cell_type": "markdown",
   "source": [
    "---\n",
    "# vendor"
   ],
   "metadata": {
    "collapsed": false
   }
  },
  {
   "cell_type": "code",
   "execution_count": 56,
   "outputs": [],
   "source": [
    "vend = test.groupby(['brand', 'vendor'])['vendor'].count().to_dict().keys()\n",
    "vend=dict(vend)"
   ],
   "metadata": {
    "collapsed": false,
    "pycharm": {
     "name": "#%%\n"
    }
   }
  },
  {
   "cell_type": "code",
   "execution_count": 57,
   "outputs": [],
   "source": [
    "train.vendor = train.brand.map(vend)"
   ],
   "metadata": {
    "collapsed": false,
    "pycharm": {
     "name": "#%%\n"
    }
   }
  },
  {
   "cell_type": "code",
   "execution_count": 58,
   "outputs": [
    {
     "name": "stdout",
     "output_type": "stream",
     "text": [
      "Statistics of items in vector: vendor.\n",
      " ---------------------------\n",
      "Train has 2 unique items and has difference: set(),\n",
      "--\n",
      "Test has 2 unique items and has difference: set().\n",
      "{'EUROPEAN', 'JAPANESE'}\n"
     ]
    }
   ],
   "source": [
    "vector_items('vendor')"
   ],
   "metadata": {
    "collapsed": false,
    "pycharm": {
     "name": "#%%\n"
    }
   }
  },
  {
   "cell_type": "markdown",
   "source": [
    "---\n",
    "# Владение"
   ],
   "metadata": {
    "collapsed": false
   }
  },
  {
   "cell_type": "code",
   "execution_count": 59,
   "outputs": [
    {
     "name": "stdout",
     "output_type": "stream",
     "text": [
      "Statistics of items in vector: Владельцы.\n",
      " ---------------------------\n",
      "Train has 4 unique items and has difference: {'1 владелец', '2 владельца', nan},\n",
      "--\n",
      "Test has 3 unique items and has difference: {'2\\xa0владельца', '1\\xa0владелец'}.\n",
      "{'2\\xa0владельца', '3 или более', '1\\xa0владелец'}\n"
     ]
    }
   ],
   "source": [
    "vector_items('Владельцы')"
   ],
   "metadata": {
    "collapsed": false,
    "pycharm": {
     "name": "#%%\n"
    }
   }
  },
  {
   "cell_type": "code",
   "execution_count": 60,
   "outputs": [],
   "source": [
    "train['Владельцы'].fillna('3 или более', inplace=True)"
   ],
   "metadata": {
    "collapsed": false,
    "pycharm": {
     "name": "#%%\n"
    }
   }
  },
  {
   "cell_type": "code",
   "execution_count": 61,
   "outputs": [],
   "source": [
    "test['owners'] = test['Владельцы']\n",
    "test['Владельцы'] = test['Владельцы'].apply(find_number)"
   ],
   "metadata": {
    "collapsed": false,
    "pycharm": {
     "name": "#%%\n"
    }
   }
  },
  {
   "cell_type": "code",
   "execution_count": 62,
   "outputs": [],
   "source": [
    "train['owners'] = train['Владельцы']\n",
    "train['Владельцы'] = train['Владельцы'].apply(find_number)"
   ],
   "metadata": {
    "collapsed": false,
    "pycharm": {
     "name": "#%%\n"
    }
   }
  },
  {
   "cell_type": "code",
   "execution_count": 63,
   "outputs": [],
   "source": [
    "train['Владельцы'] = train['Владельцы'].apply(int)\n",
    "test['Владельцы'] = test['Владельцы'].apply(int)"
   ],
   "metadata": {
    "collapsed": false,
    "pycharm": {
     "name": "#%%\n"
    }
   }
  },
  {
   "cell_type": "code",
   "execution_count": 64,
   "outputs": [
    {
     "name": "stdout",
     "output_type": "stream",
     "text": [
      "Statistics of items in vector: Владельцы.\n",
      " ---------------------------\n",
      "Train has 3 unique items and has difference: set(),\n",
      "--\n",
      "Test has 3 unique items and has difference: set().\n",
      "{1, 2, 3}\n"
     ]
    }
   ],
   "source": [
    "vector_items('Владельцы')"
   ],
   "metadata": {
    "collapsed": false,
    "pycharm": {
     "name": "#%%\n"
    }
   }
  },
  {
   "cell_type": "code",
   "execution_count": 65,
   "outputs": [],
   "source": [
    "train.drop(['Владение'], axis=1, inplace=True)\n",
    "test.drop(['Владение'], axis=1, inplace=True)"
   ],
   "metadata": {
    "collapsed": false,
    "pycharm": {
     "name": "#%%\n"
    }
   }
  },
  {
   "cell_type": "markdown",
   "source": [
    "---\n",
    "# ПТС"
   ],
   "metadata": {
    "collapsed": false
   }
  },
  {
   "cell_type": "code",
   "execution_count": 66,
   "outputs": [
    {
     "data": {
      "text/plain": "Оригинал    30098\nДубликат     4587\nName: ПТС, dtype: int64"
     },
     "execution_count": 66,
     "metadata": {},
     "output_type": "execute_result"
    }
   ],
   "source": [
    "test['ПТС'].value_counts()"
   ],
   "metadata": {
    "collapsed": false,
    "pycharm": {
     "name": "#%%\n"
    }
   }
  },
  {
   "cell_type": "code",
   "execution_count": 67,
   "outputs": [],
   "source": [
    "train['ПТС'].fillna('Дубликат', inplace=True)\n",
    "test['ПТС'].fillna('Дубликат', inplace=True)"
   ],
   "metadata": {
    "collapsed": false,
    "pycharm": {
     "name": "#%%\n"
    }
   }
  },
  {
   "cell_type": "code",
   "execution_count": 68,
   "outputs": [
    {
     "name": "stdout",
     "output_type": "stream",
     "text": [
      "Statistics of items in vector: ПТС.\n",
      " ---------------------------\n",
      "Train has 2 unique items and has difference: set(),\n",
      "--\n",
      "Test has 2 unique items and has difference: set().\n",
      "{'Оригинал', 'Дубликат'}\n"
     ]
    }
   ],
   "source": [
    "vector_items('ПТС')"
   ],
   "metadata": {
    "collapsed": false,
    "pycharm": {
     "name": "#%%\n"
    }
   }
  },
  {
   "cell_type": "markdown",
   "source": [
    "---\n",
    "# Состояние"
   ],
   "metadata": {
    "collapsed": false
   }
  },
  {
   "cell_type": "code",
   "execution_count": 69,
   "outputs": [
    {
     "name": "stdout",
     "output_type": "stream",
     "text": [
      "Statistics of items in vector: Состояние.\n",
      " ---------------------------\n",
      "Train has 2 unique items and has difference: {nan},\n",
      "--\n",
      "Test has 1 unique items and has difference: set().\n",
      "{'Не требует ремонта'}\n"
     ]
    }
   ],
   "source": [
    "vector_items('Состояние')"
   ],
   "metadata": {
    "collapsed": false,
    "pycharm": {
     "name": "#%%\n"
    }
   }
  },
  {
   "cell_type": "code",
   "execution_count": 70,
   "outputs": [
    {
     "data": {
      "text/plain": "                bodyType       brand  \\\n36691  внедорожник 5 дв.    MERCEDES   \n67936            лифтбек       SKODA   \n77393              седан      TOYOTA   \n77431              седан      TOYOTA   \n89883      хэтчбек 5 дв.  VOLKSWAGEN   \n89888      хэтчбек 5 дв.  VOLKSWAGEN   \n94015    универсал 5 дв.  VOLKSWAGEN   \n\n                                                 car_url        color  \\\n36691  https://auto.ru/cars/used/sale/mercedes/glb_kl...        белый   \n67936  https://auto.ru/cars/used/sale/skoda/octavia/1...  серебристый   \n77393  https://auto.ru/cars/used/sale/toyota/corolla/...        серый   \n77431  https://auto.ru/cars/used/sale/toyota/corolla/...        белый   \n89883  https://auto.ru/cars/used/sale/volkswagen/golf...      красный   \n89888  https://auto.ru/cars/used/sale/volkswagen/golf...       чёрный   \n94015  https://auto.ru/cars/used/sale/volkswagen/pass...        белый   \n\n                                      complectation_dict  \\\n36691  {'back-brake': 'Disc', 'feeding': 'Turbocharge...   \n67936  {'back-brake': 'Disc', 'feeding': 'None', 'ful...   \n77393  {'feeding': 'None', 'horse-power': 105, 'kvt-p...   \n77431  {'back-brake': 'Drum', 'feeding': 'None', 'ran...   \n89883  {'back-brake': 'Drum', 'feeding': 'None', 'ful...   \n89888  {'back-brake': 'Drum', 'feeding': 'None', 'ful...   \n94015  {'back-brake': 'Drum', 'feeding': 'None', 'ful...   \n\n                                             description engineDisplacement  \\\n36691  Куплен 25 декабря 2020 у официального дилера в...              1.3 л   \n67936                       Битая Цена ремонта на 150 тр              1.6 л   \n77393                        Надо Делать ДВС Обмен Торг               1.6 л   \n77431  продается легенда японского автопрома битая по...              1.6 л   \n89883  Проблемы с электрикой производилась замена вых...              1.6 л   \n89888  Замена порогов задняя юбка днище обработана ан...              1.6 л   \n94015  На разбор или под восстановление без АКБ Торг ...              1.8 л   \n\n       enginePower                                     equipment_dict  \\\n36691          150                                                 {}   \n67936          102  {'cruise-control': True, 'tinted-glass': True,...   \n77393          105                                                 {}   \n77431          115                                                 {}   \n89883           75  {'ptf': True, 'abs': True, 'eco-leather': True...   \n89888           72                                                 {}   \n94015          107                                                 {}   \n\n      fuelType  ...       ПТС    Привод    Руль  Состояние     Таможня  \\\n36691   бензин  ...  Оригинал  передний   Левый        NaN  Растаможен   \n67936   бензин  ...  Оригинал  передний   Левый        NaN  Растаможен   \n77393   бензин  ...  Оригинал  передний  Правый        NaN  Растаможен   \n77431   бензин  ...  Дубликат  передний  Правый        NaN  Растаможен   \n89883   бензин  ...  Дубликат  передний   Левый        NaN  Растаможен   \n89888   бензин  ...  Оригинал  передний   Левый        NaN  Растаможен   \n94015   бензин  ...  Оригинал  передний   Левый        NaN  Растаможен   \n\n              price       model  engineName enginePowerValue       owners  \n36691  2.229825e+06  glb_klasse  бензин 1.3         150 л.с.   1 владелец  \n67936  1.664049e+05     octavia  бензин 1.6         102 л.с.  3 или более  \n77393  8.320243e+04     corolla  бензин 1.6         105 л.с.  2 владельца  \n77431  6.240182e+04     corolla  бензин 1.6         115 л.с.  3 или более  \n89883  1.248036e+05        golf  бензин 1.6          75 л.с.  3 или более  \n89888  1.331239e+05        golf  бензин 1.6          72 л.с.  3 или более  \n94015  5.408158e+04      passat  бензин 1.8         107 л.с.  3 или более  \n\n[7 rows x 32 columns]",
      "text/html": "<div>\n<style scoped>\n    .dataframe tbody tr th:only-of-type {\n        vertical-align: middle;\n    }\n\n    .dataframe tbody tr th {\n        vertical-align: top;\n    }\n\n    .dataframe thead th {\n        text-align: right;\n    }\n</style>\n<table border=\"1\" class=\"dataframe\">\n  <thead>\n    <tr style=\"text-align: right;\">\n      <th></th>\n      <th>bodyType</th>\n      <th>brand</th>\n      <th>car_url</th>\n      <th>color</th>\n      <th>complectation_dict</th>\n      <th>description</th>\n      <th>engineDisplacement</th>\n      <th>enginePower</th>\n      <th>equipment_dict</th>\n      <th>fuelType</th>\n      <th>...</th>\n      <th>ПТС</th>\n      <th>Привод</th>\n      <th>Руль</th>\n      <th>Состояние</th>\n      <th>Таможня</th>\n      <th>price</th>\n      <th>model</th>\n      <th>engineName</th>\n      <th>enginePowerValue</th>\n      <th>owners</th>\n    </tr>\n  </thead>\n  <tbody>\n    <tr>\n      <th>36691</th>\n      <td>внедорожник 5 дв.</td>\n      <td>MERCEDES</td>\n      <td>https://auto.ru/cars/used/sale/mercedes/glb_kl...</td>\n      <td>белый</td>\n      <td>{'back-brake': 'Disc', 'feeding': 'Turbocharge...</td>\n      <td>Куплен 25 декабря 2020 у официального дилера в...</td>\n      <td>1.3 л</td>\n      <td>150</td>\n      <td>{}</td>\n      <td>бензин</td>\n      <td>...</td>\n      <td>Оригинал</td>\n      <td>передний</td>\n      <td>Левый</td>\n      <td>NaN</td>\n      <td>Растаможен</td>\n      <td>2.229825e+06</td>\n      <td>glb_klasse</td>\n      <td>бензин 1.3</td>\n      <td>150 л.с.</td>\n      <td>1 владелец</td>\n    </tr>\n    <tr>\n      <th>67936</th>\n      <td>лифтбек</td>\n      <td>SKODA</td>\n      <td>https://auto.ru/cars/used/sale/skoda/octavia/1...</td>\n      <td>серебристый</td>\n      <td>{'back-brake': 'Disc', 'feeding': 'None', 'ful...</td>\n      <td>Битая Цена ремонта на 150 тр</td>\n      <td>1.6 л</td>\n      <td>102</td>\n      <td>{'cruise-control': True, 'tinted-glass': True,...</td>\n      <td>бензин</td>\n      <td>...</td>\n      <td>Оригинал</td>\n      <td>передний</td>\n      <td>Левый</td>\n      <td>NaN</td>\n      <td>Растаможен</td>\n      <td>1.664049e+05</td>\n      <td>octavia</td>\n      <td>бензин 1.6</td>\n      <td>102 л.с.</td>\n      <td>3 или более</td>\n    </tr>\n    <tr>\n      <th>77393</th>\n      <td>седан</td>\n      <td>TOYOTA</td>\n      <td>https://auto.ru/cars/used/sale/toyota/corolla/...</td>\n      <td>серый</td>\n      <td>{'feeding': 'None', 'horse-power': 105, 'kvt-p...</td>\n      <td>Надо Делать ДВС Обмен Торг</td>\n      <td>1.6 л</td>\n      <td>105</td>\n      <td>{}</td>\n      <td>бензин</td>\n      <td>...</td>\n      <td>Оригинал</td>\n      <td>передний</td>\n      <td>Правый</td>\n      <td>NaN</td>\n      <td>Растаможен</td>\n      <td>8.320243e+04</td>\n      <td>corolla</td>\n      <td>бензин 1.6</td>\n      <td>105 л.с.</td>\n      <td>2 владельца</td>\n    </tr>\n    <tr>\n      <th>77431</th>\n      <td>седан</td>\n      <td>TOYOTA</td>\n      <td>https://auto.ru/cars/used/sale/toyota/corolla/...</td>\n      <td>белый</td>\n      <td>{'back-brake': 'Drum', 'feeding': 'None', 'ran...</td>\n      <td>продается легенда японского автопрома битая по...</td>\n      <td>1.6 л</td>\n      <td>115</td>\n      <td>{}</td>\n      <td>бензин</td>\n      <td>...</td>\n      <td>Дубликат</td>\n      <td>передний</td>\n      <td>Правый</td>\n      <td>NaN</td>\n      <td>Растаможен</td>\n      <td>6.240182e+04</td>\n      <td>corolla</td>\n      <td>бензин 1.6</td>\n      <td>115 л.с.</td>\n      <td>3 или более</td>\n    </tr>\n    <tr>\n      <th>89883</th>\n      <td>хэтчбек 5 дв.</td>\n      <td>VOLKSWAGEN</td>\n      <td>https://auto.ru/cars/used/sale/volkswagen/golf...</td>\n      <td>красный</td>\n      <td>{'back-brake': 'Drum', 'feeding': 'None', 'ful...</td>\n      <td>Проблемы с электрикой производилась замена вых...</td>\n      <td>1.6 л</td>\n      <td>75</td>\n      <td>{'ptf': True, 'abs': True, 'eco-leather': True...</td>\n      <td>бензин</td>\n      <td>...</td>\n      <td>Дубликат</td>\n      <td>передний</td>\n      <td>Левый</td>\n      <td>NaN</td>\n      <td>Растаможен</td>\n      <td>1.248036e+05</td>\n      <td>golf</td>\n      <td>бензин 1.6</td>\n      <td>75 л.с.</td>\n      <td>3 или более</td>\n    </tr>\n    <tr>\n      <th>89888</th>\n      <td>хэтчбек 5 дв.</td>\n      <td>VOLKSWAGEN</td>\n      <td>https://auto.ru/cars/used/sale/volkswagen/golf...</td>\n      <td>чёрный</td>\n      <td>{'back-brake': 'Drum', 'feeding': 'None', 'ful...</td>\n      <td>Замена порогов задняя юбка днище обработана ан...</td>\n      <td>1.6 л</td>\n      <td>72</td>\n      <td>{}</td>\n      <td>бензин</td>\n      <td>...</td>\n      <td>Оригинал</td>\n      <td>передний</td>\n      <td>Левый</td>\n      <td>NaN</td>\n      <td>Растаможен</td>\n      <td>1.331239e+05</td>\n      <td>golf</td>\n      <td>бензин 1.6</td>\n      <td>72 л.с.</td>\n      <td>3 или более</td>\n    </tr>\n    <tr>\n      <th>94015</th>\n      <td>универсал 5 дв.</td>\n      <td>VOLKSWAGEN</td>\n      <td>https://auto.ru/cars/used/sale/volkswagen/pass...</td>\n      <td>белый</td>\n      <td>{'back-brake': 'Drum', 'feeding': 'None', 'ful...</td>\n      <td>На разбор или под восстановление без АКБ Торг ...</td>\n      <td>1.8 л</td>\n      <td>107</td>\n      <td>{}</td>\n      <td>бензин</td>\n      <td>...</td>\n      <td>Оригинал</td>\n      <td>передний</td>\n      <td>Левый</td>\n      <td>NaN</td>\n      <td>Растаможен</td>\n      <td>5.408158e+04</td>\n      <td>passat</td>\n      <td>бензин 1.8</td>\n      <td>107 л.с.</td>\n      <td>3 или более</td>\n    </tr>\n  </tbody>\n</table>\n<p>7 rows × 32 columns</p>\n</div>"
     },
     "execution_count": 70,
     "metadata": {},
     "output_type": "execute_result"
    }
   ],
   "source": [
    "train[train['Состояние'] != 'Не требует ремонта']"
   ],
   "metadata": {
    "collapsed": false,
    "pycharm": {
     "name": "#%%\n"
    }
   }
  },
  {
   "cell_type": "code",
   "execution_count": 71,
   "outputs": [],
   "source": [
    "train.dropna(subset=['Состояние'], inplace=True)"
   ],
   "metadata": {
    "collapsed": false,
    "pycharm": {
     "name": "#%%\n"
    }
   }
  },
  {
   "cell_type": "code",
   "execution_count": 72,
   "outputs": [
    {
     "name": "stdout",
     "output_type": "stream",
     "text": [
      "Statistics of items in vector: Состояние.\n",
      " ---------------------------\n",
      "Train has 1 unique items and has difference: set(),\n",
      "--\n",
      "Test has 1 unique items and has difference: set().\n",
      "{'Не требует ремонта'}\n"
     ]
    }
   ],
   "source": [
    "vector_items('Состояние')"
   ],
   "metadata": {
    "collapsed": false,
    "pycharm": {
     "name": "#%%\n"
    }
   }
  },
  {
   "cell_type": "code",
   "execution_count": 73,
   "outputs": [],
   "source": [
    "train.drop(['Состояние'], axis=1, inplace=True)\n",
    "test.drop(['Состояние'], axis=1, inplace=True)"
   ],
   "metadata": {
    "collapsed": false,
    "pycharm": {
     "name": "#%%\n"
    }
   }
  },
  {
   "cell_type": "markdown",
   "source": [
    "---\n",
    "# Таможня"
   ],
   "metadata": {
    "collapsed": false
   }
  },
  {
   "cell_type": "code",
   "execution_count": 74,
   "outputs": [
    {
     "name": "stdout",
     "output_type": "stream",
     "text": [
      "Statistics of items in vector: Таможня.\n",
      " ---------------------------\n",
      "Train has 2 unique items and has difference: {nan},\n",
      "--\n",
      "Test has 1 unique items and has difference: set().\n",
      "{'Растаможен'}\n"
     ]
    }
   ],
   "source": [
    "vector_items('Таможня')"
   ],
   "metadata": {
    "collapsed": false,
    "pycharm": {
     "name": "#%%\n"
    }
   }
  },
  {
   "cell_type": "code",
   "execution_count": 75,
   "outputs": [],
   "source": [
    "train.dropna(subset=['Таможня'], inplace=True)"
   ],
   "metadata": {
    "collapsed": false,
    "pycharm": {
     "name": "#%%\n"
    }
   }
  },
  {
   "cell_type": "code",
   "execution_count": 76,
   "outputs": [
    {
     "name": "stdout",
     "output_type": "stream",
     "text": [
      "Statistics of items in vector: Таможня.\n",
      " ---------------------------\n",
      "Train has 1 unique items and has difference: set(),\n",
      "--\n",
      "Test has 1 unique items and has difference: set().\n",
      "{'Растаможен'}\n"
     ]
    }
   ],
   "source": [
    "vector_items('Таможня')"
   ],
   "metadata": {
    "collapsed": false,
    "pycharm": {
     "name": "#%%\n"
    }
   }
  },
  {
   "cell_type": "code",
   "execution_count": 77,
   "outputs": [],
   "source": [
    "train.drop(['Таможня'], axis=1, inplace=True)\n",
    "test.drop(['Таможня'], axis=1, inplace=True)"
   ],
   "metadata": {
    "collapsed": false,
    "pycharm": {
     "name": "#%%\n"
    }
   }
  },
  {
   "cell_type": "markdown",
   "source": [
    "---\n",
    "# Prepare for Feature engineering"
   ],
   "metadata": {
    "collapsed": false
   }
  },
  {
   "cell_type": "code",
   "execution_count": 86,
   "outputs": [],
   "source": [
    "train.drop(['complectation_dict', 'equipment_dict',\n",
    "            'image', 'description', 'priceCurrency'], axis=1, inplace=True)"
   ],
   "metadata": {
    "collapsed": false,
    "pycharm": {
     "name": "#%%\n"
    }
   }
  },
  {
   "cell_type": "code",
   "execution_count": 93,
   "outputs": [],
   "source": [
    "test.drop(['complectation_dict', 'equipment_dict',\n",
    "           'image', 'description', 'priceCurrency'], axis=1, inplace=True)"
   ],
   "metadata": {
    "collapsed": false,
    "pycharm": {
     "name": "#%%\n"
    }
   }
  },
  {
   "cell_type": "code",
   "execution_count": 88,
   "outputs": [],
   "source": [
    "test['price']=0\n",
    "test['test']=1\n",
    "train['test']=0"
   ],
   "metadata": {
    "collapsed": false,
    "pycharm": {
     "name": "#%%\n"
    }
   }
  },
  {
   "cell_type": "code",
   "execution_count": 94,
   "outputs": [],
   "source": [
    "data = train.append(test)"
   ],
   "metadata": {
    "collapsed": false,
    "pycharm": {
     "name": "#%%\n"
    }
   }
  },
  {
   "cell_type": "code",
   "execution_count": 95,
   "outputs": [
    {
     "data": {
      "text/plain": "((122432, 26), (87746, 26), (34686, 26))"
     },
     "execution_count": 95,
     "metadata": {},
     "output_type": "execute_result"
    }
   ],
   "source": [
    "data.shape, train.shape, test.shape"
   ],
   "metadata": {
    "collapsed": false,
    "pycharm": {
     "name": "#%%\n"
    }
   }
  },
  {
   "cell_type": "code",
   "execution_count": 96,
   "outputs": [
    {
     "name": "stdout",
     "output_type": "stream",
     "text": [
      "<class 'pandas.core.frame.DataFrame'>\n",
      "Int64Index: 122432 entries, 0 to 34685\n",
      "Data columns (total 26 columns):\n",
      " #   Column                Non-Null Count   Dtype  \n",
      "---  ------                --------------   -----  \n",
      " 0   bodyType              122432 non-null  object \n",
      " 1   brand                 122432 non-null  object \n",
      " 2   car_url               122432 non-null  object \n",
      " 3   color                 122432 non-null  object \n",
      " 4   engineDisplacement    122432 non-null  object \n",
      " 5   enginePower           122432 non-null  int64  \n",
      " 6   fuelType              122432 non-null  object \n",
      " 7   mileage               122432 non-null  int64  \n",
      " 8   numberOfDoors         122432 non-null  int64  \n",
      " 9   parsing_unixtime      122432 non-null  int64  \n",
      " 10  productionDate        122432 non-null  int64  \n",
      " 11  sell_id               122432 non-null  int64  \n",
      " 12  super_gen             122432 non-null  object \n",
      " 13  vehicleConfiguration  122432 non-null  object \n",
      " 14  vehicleTransmission   122432 non-null  object \n",
      " 15  vendor                122432 non-null  object \n",
      " 16  Владельцы             122432 non-null  int64  \n",
      " 17  ПТС                   122432 non-null  object \n",
      " 18  Привод                122432 non-null  object \n",
      " 19  Руль                  122432 non-null  object \n",
      " 20  price                 122432 non-null  float64\n",
      " 21  model                 122432 non-null  object \n",
      " 22  engineName            122432 non-null  object \n",
      " 23  enginePowerValue      122432 non-null  object \n",
      " 24  owners                122432 non-null  object \n",
      " 25  test                  122432 non-null  int64  \n",
      "dtypes: float64(1), int64(8), object(17)\n",
      "memory usage: 25.2+ MB\n"
     ]
    }
   ],
   "source": [
    "data.info()"
   ],
   "metadata": {
    "collapsed": false,
    "pycharm": {
     "name": "#%%\n"
    }
   }
  },
  {
   "cell_type": "markdown",
   "source": [
    "---\n",
    "# FE"
   ],
   "metadata": {
    "collapsed": false
   }
  },
  {
   "cell_type": "markdown",
   "source": [
    "* average mileage per year\n",
    "* average mileage by owner\n",
    "* rarity\n",
    "* older 3-5 year\n",
    "* color clustering\n",
    "* body clustering\n",
    "*"
   ],
   "metadata": {
    "collapsed": false
   }
  },
  {
   "cell_type": "code",
   "execution_count": null,
   "outputs": [],
   "source": [],
   "metadata": {
    "collapsed": false,
    "pycharm": {
     "name": "#%%\n"
    }
   }
  },
  {
   "cell_type": "code",
   "execution_count": 87,
   "outputs": [
    {
     "name": "stdout",
     "output_type": "stream",
     "text": [
      "<class 'pandas.core.frame.DataFrame'>\n",
      "Int64Index: 87746 entries, 0 to 103793\n",
      "Data columns (total 25 columns):\n",
      " #   Column                Non-Null Count  Dtype  \n",
      "---  ------                --------------  -----  \n",
      " 0   bodyType              87746 non-null  object \n",
      " 1   brand                 87746 non-null  object \n",
      " 2   car_url               87746 non-null  object \n",
      " 3   color                 87746 non-null  object \n",
      " 4   engineDisplacement    87746 non-null  object \n",
      " 5   enginePower           87746 non-null  int64  \n",
      " 6   fuelType              87746 non-null  object \n",
      " 7   mileage               87746 non-null  int64  \n",
      " 8   numberOfDoors         87746 non-null  int64  \n",
      " 9   parsing_unixtime      87746 non-null  int64  \n",
      " 10  productionDate        87746 non-null  int64  \n",
      " 11  sell_id               87746 non-null  int64  \n",
      " 12  super_gen             87746 non-null  object \n",
      " 13  vehicleConfiguration  87746 non-null  object \n",
      " 14  vehicleTransmission   87746 non-null  object \n",
      " 15  vendor                87746 non-null  object \n",
      " 16  Владельцы             87746 non-null  int64  \n",
      " 17  ПТС                   87746 non-null  object \n",
      " 18  Привод                87746 non-null  object \n",
      " 19  Руль                  87746 non-null  object \n",
      " 20  price                 87746 non-null  float64\n",
      " 21  model                 87746 non-null  object \n",
      " 22  engineName            87746 non-null  object \n",
      " 23  enginePowerValue      87746 non-null  object \n",
      " 24  owners                87746 non-null  object \n",
      "dtypes: float64(1), int64(7), object(17)\n",
      "memory usage: 19.4+ MB\n"
     ]
    }
   ],
   "source": [
    "train.info()"
   ],
   "metadata": {
    "collapsed": false,
    "pycharm": {
     "name": "#%%\n"
    }
   }
  },
  {
   "cell_type": "code",
   "execution_count": 79,
   "outputs": [
    {
     "data": {
      "text/plain": "bodyType                    0\nbrand                       0\ncar_url                     0\ncolor                       0\ncomplectation_dict      28268\ndescription                 0\nengineDisplacement          0\nenginePower                 0\nequipment_dict           9996\nfuelType                    0\nimage                       0\nmileage                     0\nnumberOfDoors               0\nparsing_unixtime            0\npriceCurrency               0\nproductionDate              0\nsell_id                     0\nsuper_gen                   0\nvehicleConfiguration        0\nvehicleTransmission         0\nvendor                      0\nВладельцы                   0\nПТС                         0\nПривод                      0\nРуль                        0\nmodel                       0\nengineName                  0\nenginePowerValue            0\nowners                      0\ndtype: int64"
     },
     "execution_count": 79,
     "metadata": {},
     "output_type": "execute_result"
    }
   ],
   "source": [
    "test.isnull().sum()"
   ],
   "metadata": {
    "collapsed": false,
    "pycharm": {
     "name": "#%%\n"
    }
   }
  },
  {
   "cell_type": "code",
   "execution_count": 84,
   "outputs": [
    {
     "data": {
      "text/plain": "bodyType                0\nbrand                   0\ncar_url                 0\ncolor                   0\ncomplectation_dict      0\ndescription             0\nengineDisplacement      0\nenginePower             0\nequipment_dict          0\nfuelType                0\nimage                   1\nmileage                 0\nnumberOfDoors           0\nparsing_unixtime        0\npriceCurrency           0\nproductionDate          0\nsell_id                 0\nsuper_gen               0\nvehicleConfiguration    0\nvehicleTransmission     0\nvendor                  0\nВладельцы               0\nПТС                     0\nПривод                  0\nРуль                    0\nprice                   0\nmodel                   0\nengineName              0\nenginePowerValue        0\nowners                  0\ndtype: int64"
     },
     "execution_count": 84,
     "metadata": {},
     "output_type": "execute_result"
    }
   ],
   "source": [
    "train.isnull().sum()"
   ],
   "metadata": {
    "collapsed": false,
    "pycharm": {
     "name": "#%%\n"
    }
   }
  },
  {
   "cell_type": "code",
   "execution_count": null,
   "outputs": [],
   "source": [],
   "metadata": {
    "collapsed": false,
    "pycharm": {
     "name": "#%%\n"
    }
   }
  },
  {
   "cell_type": "code",
   "execution_count": null,
   "outputs": [],
   "source": [],
   "metadata": {
    "collapsed": false,
    "pycharm": {
     "name": "#%%\n"
    }
   }
  },
  {
   "cell_type": "code",
   "execution_count": null,
   "outputs": [],
   "source": [],
   "metadata": {
    "collapsed": false,
    "pycharm": {
     "name": "#%%\n"
    }
   }
  },
  {
   "cell_type": "code",
   "execution_count": null,
   "outputs": [],
   "source": [],
   "metadata": {
    "collapsed": false,
    "pycharm": {
     "name": "#%%\n"
    }
   }
  },
  {
   "cell_type": "code",
   "execution_count": null,
   "outputs": [],
   "source": [],
   "metadata": {
    "collapsed": false,
    "pycharm": {
     "name": "#%%\n"
    }
   }
  },
  {
   "cell_type": "markdown",
   "source": [
    "----\n",
    "# CatBosting"
   ],
   "metadata": {
    "collapsed": false
   }
  },
  {
   "cell_type": "code",
   "execution_count": null,
   "outputs": [],
   "source": [
    "features = ['bodyType', 'brand', 'color', 'engineDisplacement',\n",
    "            'enginePower', 'fuelType', 'mileage',\n",
    "            'numberOfDoors', 'productionDate', 'vehicleTransmission']\n",
    "features_obj =['bodyType', 'brand', 'color', 'engineDisplacement',\n",
    "               'enginePower', 'fuelType',\n",
    "               'numberOfDoors', 'vehicleTransmission']\n",
    "train_f = train[features].copy()\n",
    "for colum in features_obj:\n",
    "    train_f[colum] = train_f[colum].astype('category').cat.codes"
   ],
   "metadata": {
    "collapsed": false,
    "pycharm": {
     "name": "#%%\n"
    }
   }
  },
  {
   "cell_type": "code",
   "execution_count": null,
   "outputs": [],
   "source": [
    "train_f"
   ],
   "metadata": {
    "collapsed": false,
    "pycharm": {
     "name": "#%%\n"
    }
   }
  },
  {
   "cell_type": "code",
   "execution_count": null,
   "outputs": [],
   "source": [
    "target = 'price'\n",
    "#x = train.drop(['price', 'model_info', 'modelDate', 'vehicleConfiguration',\n",
    "#                'vendor', 'Владельцы', 'Владение' ], axis=1)\n",
    "x = train_f\n",
    "y = train[target]"
   ],
   "metadata": {
    "collapsed": false,
    "pycharm": {
     "name": "#%%\n"
    }
   }
  },
  {
   "cell_type": "code",
   "execution_count": null,
   "outputs": [],
   "source": [
    "stack = x.copy()\n",
    "stack['price']=y\n",
    "stack.corr()['price'].abs().sort_values(ascending=False)[1:]"
   ],
   "metadata": {
    "collapsed": false,
    "pycharm": {
     "name": "#%%\n"
    }
   }
  },
  {
   "cell_type": "code",
   "execution_count": null,
   "outputs": [],
   "source": [
    "heatmap([],stack)"
   ],
   "metadata": {
    "collapsed": false,
    "pycharm": {
     "name": "#%%\n"
    }
   }
  },
  {
   "cell_type": "code",
   "execution_count": null,
   "outputs": [],
   "source": [
    "X_train, X_test, y_train, y_test = train_test_split(x, y, test_size=0.2, shuffle=True, random_state=SEED)"
   ],
   "metadata": {
    "collapsed": false,
    "pycharm": {
     "name": "#%%\n"
    }
   }
  },
  {
   "cell_type": "code",
   "execution_count": null,
   "outputs": [],
   "source": [
    "model = CatBoostRegressor(iterations = 5000,\n",
    "                          random_seed = SEED,\n",
    "                          eval_metric='MAPE',\n",
    "                          custom_metric=['R2', 'MAE'],\n",
    "                          silent=True,\n",
    "                          )\n",
    "model.fit(X_train, y_train,\n",
    "          #cat_features=cat_features_ids,\n",
    "          eval_set=(X_test, y_test),\n",
    "          verbose_eval=0,\n",
    "          use_best_model=True,\n",
    "          #plot=True\n",
    "          )\n",
    "\n",
    "model.save_model('catboost_single_model_baseline.model')"
   ],
   "metadata": {
    "collapsed": false,
    "pycharm": {
     "name": "#%%\n"
    }
   }
  },
  {
   "cell_type": "code",
   "execution_count": null,
   "outputs": [],
   "source": [
    "predict = model.predict(X_test)\n",
    "print(f\"Точность модели по метрике MAPE: {(mape(y_test, predict))*100:0.2f}%\")"
   ],
   "metadata": {
    "collapsed": false,
    "pycharm": {
     "name": "#%%\n"
    }
   }
  },
  {
   "cell_type": "code",
   "execution_count": null,
   "outputs": [],
   "source": [
    "model = CatBoostRegressor(iterations = 5000,\n",
    "                          random_seed = SEED,\n",
    "                          eval_metric='MAPE',\n",
    "                          custom_metric=['R2', 'MAE'],\n",
    "                          silent=True,\n",
    "                          )\n",
    "model.fit(X_train, np.log(y_train),\n",
    "          #cat_features=cat_features_ids,\n",
    "          eval_set=(X_test, np.log(y_test)),\n",
    "          verbose_eval=0,\n",
    "          use_best_model=True,\n",
    "          #plot=True\n",
    "          )\n",
    "\n",
    "model.save_model('catboost_single_model_2_baseline.model')"
   ],
   "metadata": {
    "collapsed": false,
    "pycharm": {
     "name": "#%%\n"
    }
   }
  },
  {
   "cell_type": "code",
   "execution_count": null,
   "outputs": [],
   "source": [
    "predict_test = np.exp(model.predict(X_test))\n",
    "print(f\"Точность модели по метрике MAPE: {(mape(y_test, predict_test))*100:0.2f}%\")"
   ],
   "metadata": {
    "collapsed": false,
    "pycharm": {
     "name": "#%%\n"
    }
   }
  },
  {
   "cell_type": "markdown",
   "source": [
    "---\n",
    "# Test various models"
   ],
   "metadata": {
    "collapsed": false
   }
  },
  {
   "cell_type": "code",
   "execution_count": null,
   "outputs": [],
   "source": [
    "test_classifires = {\n",
    "    'RandomForest': RandomForestRegressor(n_estimators=300, random_state = SEED),\n",
    "    'DecisionTree': DecisionTreeRegressor(random_state=SEED),\n",
    "    'ExtraTrees'  : ExtraTreesRegressor(random_state=SEED),\n",
    "    'LightGBM'    : LGBMRegressor(random_state=SEED),\n",
    "    'XGBoost'     : XGBRegressor(random_state=SEED)\n",
    "}"
   ],
   "metadata": {
    "collapsed": false,
    "pycharm": {
     "name": "#%%\n"
    }
   }
  },
  {
   "cell_type": "code",
   "execution_count": null,
   "outputs": [],
   "source": [
    "results = dict()\n",
    "for item in tqdm(test_classifires):\n",
    "    cls=test_classifires[item]\n",
    "\n",
    "    cls.fit(X_train, y_train)\n",
    "    predict =cls.predict(X_test)\n",
    "\n",
    "    cls.fit(X_train, np.log(y_train))\n",
    "    predict_log = np.exp(cls.predict(X_test))\n",
    "\n",
    "    results[item] = [round(mape(y_test, predict)*100,2), round(mape(y_test, predict_log)*100,2)]\n",
    "results"
   ],
   "metadata": {
    "collapsed": false,
    "pycharm": {
     "name": "#%%\n"
    }
   }
  },
  {
   "cell_type": "markdown",
   "source": [
    "---\n",
    "# RandomForest best parameters"
   ],
   "metadata": {
    "collapsed": false
   }
  },
  {
   "cell_type": "code",
   "execution_count": null,
   "outputs": [],
   "source": [
    "# Making best parameters searching diapasons\n",
    "n_estimators = [int(x) for x in np.linspace(start = 100, stop = 1000, num = 10)]\n",
    "max_features = ['log2', 'sqrt']\n",
    "max_depth = [int(x) for x in np.linspace(start = 1, stop = 15, num = 15)]\n",
    "min_samples_split = [int(x) for x in np.linspace(start = 2, stop = 50, num = 10)]\n",
    "min_samples_leaf = [int(x) for x in np.linspace(start = 2, stop = 50, num = 10)]\n",
    "bootstrap = [True, False]\n",
    "param_dist = {'n_estimators': n_estimators,\n",
    "              'max_features': max_features,\n",
    "              'max_depth': max_depth,\n",
    "              'min_samples_split': min_samples_split,\n",
    "              'min_samples_leaf': min_samples_leaf,\n",
    "              'bootstrap': bootstrap}\n",
    "\n",
    "# Randomized search. Making 3 cross validation (cv) for each 100 iterations candidates\n",
    "model_rfc = RandomForestRegressor(random_state = SEED)\n",
    "rs = RandomizedSearchCV(model_rfc,\n",
    "                        param_dist,\n",
    "                        n_iter = 100,\n",
    "                        cv = 3,\n",
    "                        verbose = 1,\n",
    "                        n_jobs=-1,\n",
    "                        random_state=SEED)\n",
    "rs.fit(X_train, np.log(y_train))\n",
    "rfc_best = rs.best_params_\n",
    "rfc_best['random_state']=SEED\n",
    "rfc_best\n",
    "# approx. 16 minutes\n",
    "# {'n_estimators': 200,\n",
    "# 'min_samples_split': 2,\n",
    "# 'min_samples_leaf': 2,\n",
    "# 'max_features': 'sqrt',\n",
    "# 'max_depth': 14,\n",
    "# 'bootstrap': False,\n",
    "# 'random_state': 42}"
   ],
   "metadata": {
    "collapsed": false,
    "pycharm": {
     "name": "#%%\n"
    }
   }
  },
  {
   "cell_type": "code",
   "execution_count": null,
   "outputs": [],
   "source": [
    "#\n",
    "model_rfc = RandomForestRegressor(**rfc_best)\n",
    "\n",
    "model_rfc.fit(X_train, np.log(y_train))\n",
    "predict_log = np.exp(model_rfc.predict(X_test))\n",
    "round(mape(y_test, predict_log)*100,2)"
   ],
   "metadata": {
    "collapsed": false,
    "pycharm": {
     "name": "#%%\n"
    }
   }
  },
  {
   "cell_type": "code",
   "execution_count": null,
   "outputs": [],
   "source": [
    "rs_df = pd.DataFrame(rs.cv_results_).sort_values('rank_test_score').reset_index(drop=True)\n",
    "rs_df = rs_df.drop([\n",
    "    'mean_fit_time',\n",
    "    'std_fit_time',\n",
    "    'mean_score_time',\n",
    "    'std_score_time',\n",
    "    'params',\n",
    "    'split0_test_score',\n",
    "    'split1_test_score',\n",
    "    'split2_test_score',\n",
    "    'std_test_score'],\n",
    "    axis=1)"
   ],
   "metadata": {
    "collapsed": false,
    "pycharm": {
     "name": "#%%\n"
    }
   }
  },
  {
   "cell_type": "code",
   "execution_count": null,
   "outputs": [],
   "source": [
    "fig, axs = plt.subplots(ncols=3, nrows=2)\n",
    "sns.set(style=\"whitegrid\", color_codes=True, font_scale = 2)\n",
    "fig.set_size_inches(30,25)\n",
    "sns.barplot(x='param_n_estimators', y='mean_test_score', data=rs_df, ax=axs[0,0], color='lightgrey')\n",
    "axs[0,0].set_ylim([.83,.95])\n",
    "axs[0,0].set_title(label = 'n_estimators', size=30, weight='bold')\n",
    "sns.barplot(x='param_min_samples_split', y='mean_test_score', data=rs_df, ax=axs[0,1], color='coral')\n",
    "axs[0,1].set_ylim([.85,.95])\n",
    "axs[0,1].set_title(label = 'min_samples_split', size=30, weight='bold')\n",
    "sns.barplot(x='param_min_samples_leaf', y='mean_test_score', data=rs_df, ax=axs[0,2], color='lightgreen')\n",
    "axs[0,2].set_ylim([.80,.95])\n",
    "axs[0,2].set_title(label = 'min_samples_leaf', size=30, weight='bold')\n",
    "sns.barplot(x='param_max_features', y='mean_test_score', data=rs_df, ax=axs[1,0], color='wheat')\n",
    "axs[1,0].set_ylim([.80,.95])\n",
    "axs[1,0].set_title(label = 'max_features', size=30, weight='bold')\n",
    "sns.barplot(x='param_max_depth', y='mean_test_score', data=rs_df, ax=axs[1,1], color='lightpink')\n",
    "axs[1,1].set_ylim([.80,.95])\n",
    "axs[1,1].set_title(label = 'max_depth', size=30, weight='bold')\n",
    "sns.barplot(x='param_bootstrap',y='mean_test_score', data=rs_df, ax=axs[1,2], color='skyblue')\n",
    "axs[1,2].set_ylim([.80,.95])\n",
    "axs[1,2].set_title(label = 'bootstrap', size=30, weight='bold')\n",
    "plt.show()"
   ],
   "metadata": {
    "collapsed": false,
    "pycharm": {
     "name": "#%%\n"
    }
   }
  },
  {
   "cell_type": "markdown",
   "source": [
    "---\n",
    "# DecisionTree"
   ],
   "metadata": {
    "collapsed": false
   }
  },
  {
   "cell_type": "code",
   "execution_count": null,
   "outputs": [],
   "source": [],
   "metadata": {
    "collapsed": false,
    "pycharm": {
     "name": "#%%\n"
    }
   }
  },
  {
   "cell_type": "code",
   "execution_count": null,
   "outputs": [],
   "source": [],
   "metadata": {
    "collapsed": false,
    "pycharm": {
     "name": "#%%\n"
    }
   }
  },
  {
   "cell_type": "markdown",
   "source": [
    "---\n",
    "# GradientBoosting"
   ],
   "metadata": {
    "collapsed": false
   }
  },
  {
   "cell_type": "code",
   "execution_count": null,
   "outputs": [],
   "source": [],
   "metadata": {
    "collapsed": false,
    "pycharm": {
     "name": "#%%\n"
    }
   }
  },
  {
   "cell_type": "code",
   "execution_count": null,
   "outputs": [],
   "source": [],
   "metadata": {
    "collapsed": false,
    "pycharm": {
     "name": "#%%\n"
    }
   }
  },
  {
   "cell_type": "markdown",
   "source": [
    "---\n",
    "# ExtraTrees"
   ],
   "metadata": {
    "collapsed": false
   }
  },
  {
   "cell_type": "code",
   "execution_count": null,
   "outputs": [],
   "source": [],
   "metadata": {
    "collapsed": false,
    "pycharm": {
     "name": "#%%\n"
    }
   }
  },
  {
   "cell_type": "code",
   "execution_count": null,
   "outputs": [],
   "source": [],
   "metadata": {
    "collapsed": false,
    "pycharm": {
     "name": "#%%\n"
    }
   }
  },
  {
   "cell_type": "markdown",
   "source": [
    "---\n",
    "# LightGBM"
   ],
   "metadata": {
    "collapsed": false
   }
  },
  {
   "cell_type": "code",
   "execution_count": null,
   "outputs": [],
   "source": [],
   "metadata": {
    "collapsed": false,
    "pycharm": {
     "name": "#%%\n"
    }
   }
  },
  {
   "cell_type": "code",
   "execution_count": null,
   "outputs": [],
   "source": [],
   "metadata": {
    "collapsed": false,
    "pycharm": {
     "name": "#%%\n"
    }
   }
  },
  {
   "cell_type": "markdown",
   "source": [
    "---\n",
    "# XGBoost"
   ],
   "metadata": {
    "collapsed": false
   }
  },
  {
   "cell_type": "code",
   "execution_count": null,
   "outputs": [],
   "source": [],
   "metadata": {
    "collapsed": false,
    "pycharm": {
     "name": "#%%\n"
    }
   }
  },
  {
   "cell_type": "code",
   "execution_count": null,
   "outputs": [],
   "source": [],
   "metadata": {
    "collapsed": false,
    "pycharm": {
     "name": "#%%\n"
    }
   }
  },
  {
   "cell_type": "code",
   "execution_count": null,
   "outputs": [],
   "source": [],
   "metadata": {
    "collapsed": false,
    "pycharm": {
     "name": "#%%\n"
    }
   }
  },
  {
   "cell_type": "code",
   "execution_count": null,
   "outputs": [],
   "source": [],
   "metadata": {
    "collapsed": false,
    "pycharm": {
     "name": "#%%\n"
    }
   }
  }
 ],
 "metadata": {
  "kernelspec": {
   "display_name": "Python 3",
   "language": "python",
   "name": "python3"
  },
  "language_info": {
   "codemirror_mode": {
    "name": "ipython",
    "version": 2
   },
   "file_extension": ".py",
   "mimetype": "text/x-python",
   "name": "python",
   "nbconvert_exporter": "python",
   "pygments_lexer": "ipython2",
   "version": "2.7.6"
  }
 },
 "nbformat": 4,
 "nbformat_minor": 0
}