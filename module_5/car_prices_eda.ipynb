{
 "cells": [
  {
   "cell_type": "code",
   "execution_count": 9,
   "outputs": [],
   "source": [
    "import pandas as pd\n",
    "import numpy as np\n",
    "import math\n",
    "import re\n",
    "import seaborn as sns\n",
    "import matplotlib.pyplot as plt"
   ],
   "metadata": {
    "collapsed": false,
    "pycharm": {
     "name": "#%%\n"
    }
   }
  },
  {
   "cell_type": "code",
   "execution_count": 10,
   "outputs": [],
   "source": [
    "from IPython.core.display import display"
   ],
   "metadata": {
    "collapsed": false,
    "pycharm": {
     "name": "#%%\n"
    }
   }
  },
  {
   "cell_type": "code",
   "execution_count": 11,
   "outputs": [],
   "source": [
    "from sklearn.model_selection import train_test_split, RandomizedSearchCV\n",
    "from sklearn.model_selection import KFold\n",
    "from tqdm.notebook import tqdm\n",
    "from catboost import CatBoostRegressor\n",
    "from sklearn.preprocessing import LabelEncoder\n"
   ],
   "metadata": {
    "collapsed": false,
    "pycharm": {
     "name": "#%%\n"
    }
   }
  },
  {
   "cell_type": "code",
   "execution_count": 12,
   "outputs": [],
   "source": [
    "from sklearn.linear_model import LinearRegression\n",
    "from sklearn.tree import DecisionTreeRegressor\n",
    "from sklearn.ensemble import RandomForestRegressor, GradientBoostingRegressor, ExtraTreesRegressor\n",
    "from xgboost import XGBRegressor\n",
    "from lightgbm import LGBMRegressor"
   ],
   "metadata": {
    "collapsed": false,
    "pycharm": {
     "name": "#%%\n"
    }
   }
  },
  {
   "cell_type": "code",
   "execution_count": 138,
   "outputs": [],
   "source": [
    "import category_encoders as ce\n"
   ],
   "metadata": {
    "collapsed": false,
    "pycharm": {
     "name": "#%%\n"
    }
   }
  },
  {
   "cell_type": "code",
   "execution_count": 14,
   "outputs": [],
   "source": [
    "SEED = 42\n",
    "target = 'price'"
   ],
   "metadata": {
    "collapsed": false,
    "pycharm": {
     "name": "#%%\n"
    }
   }
  },
  {
   "cell_type": "code",
   "execution_count": 15,
   "outputs": [],
   "source": [
    "def mape(y_true, y_pred):\n",
    "    return np.mean(np.abs((y_pred-y_true)/y_true))"
   ],
   "metadata": {
    "collapsed": false,
    "pycharm": {
     "name": "#%%\n"
    }
   }
  },
  {
   "cell_type": "code",
   "execution_count": 16,
   "outputs": [],
   "source": [
    "\"\"\" функция перобразования списка в датафрейм (для красоты отображения на экран)\"\"\"\n",
    "def list_cut(to_cut):\n",
    "    \"\"\"\n",
    "    :param to_cut: список для преобразорвания в датафрейм\n",
    "    :return: в результате на экран выводится таблица\n",
    "    \"\"\"\n",
    "\n",
    "    # Объявим функции для разбиение списка на список стеков и генерировнаия названий для датафрейма\n",
    "    to_cut = list(np.sort(to_cut))\n",
    "    cut_list = lambda item: [item[i:i+7] for i in range(0, len(item), 7)]\n",
    "    name_list = lambda nom: [\"vectors\"+ str(i) for i in range(0,math.ceil(nom/7))]\n",
    "\n",
    "    # создание датафрейма и присовение названий векторам (пропуски заполняем '')\n",
    "    df_ = pd.DataFrame(cut_list(to_cut)).T\n",
    "    df_.columns = name_list(len(to_cut))\n",
    "    df_.fillna('', inplace=True)\n",
    "\n",
    "    # выводим на экран\n",
    "    display(df_)"
   ],
   "metadata": {
    "collapsed": false,
    "pycharm": {
     "name": "#%%\n"
    }
   }
  },
  {
   "cell_type": "code",
   "execution_count": 17,
   "outputs": [],
   "source": [
    "\"\"\" Функция проверки корреляции с целевым вектором в виде графика heatmap \"\"\"\n",
    "def heatmap(drop_list, dd, target = target):\n",
    "    \"\"\"\n",
    "    :param drop_list: список для удаления из датасета\n",
    "    :param dd: название датасета, по умолчанию = train\n",
    "    :param target: целевой вектор, по умолчанию значение переменной target извне функции\n",
    "    :return: выводит только информацию в виде таблицы исключенных столбцов и графика корреляции\n",
    "    \"\"\"\n",
    "    dlst = list(set(dd.columns) - set(drop_list) - {target})\n",
    "    dlst = list(np.sort(dlst))\n",
    "\n",
    "    dlst.append(target)\n",
    "    sns.set(font_scale=1)\n",
    "    plt.subplots(figsize=(16, 16))\n",
    "    sns.heatmap(dd[dlst].corr(), square=True,\n",
    "                annot=True, fmt=\".3f\", linewidths=0.1, cmap=\"RdBu\", vmin=-1, vmax=1)\n",
    "\n",
    "    # для удобства отображения делим веткор для модели на части по 7 строк и перобразум в таблицу.\n",
    "    list_cut(drop_list)"
   ],
   "metadata": {
    "collapsed": false,
    "pycharm": {
     "name": "#%%\n"
    }
   }
  },
  {
   "cell_type": "code",
   "execution_count": 18,
   "outputs": [],
   "source": [
    "path = '/Users/irenaradzevich/Documents/sergei_dev/ project_05/'"
   ],
   "metadata": {
    "collapsed": false,
    "pycharm": {
     "name": "#%%\n"
    }
   }
  },
  {
   "cell_type": "code",
   "execution_count": 19,
   "outputs": [],
   "source": [
    "auto = pd.read_csv(path+'all_auto_ru_09_09_2020.csv')"
   ],
   "metadata": {
    "collapsed": false,
    "pycharm": {
     "name": "#%%\n"
    }
   }
  },
  {
   "cell_type": "code",
   "execution_count": 170,
   "outputs": [],
   "source": [
    "add = pd.read_csv(path+'train2.csv')"
   ],
   "metadata": {
    "collapsed": false,
    "pycharm": {
     "name": "#%%\n"
    }
   }
  },
  {
   "cell_type": "code",
   "execution_count": 171,
   "outputs": [
    {
     "name": "stdout",
     "output_type": "stream",
     "text": [
      "Train data shape : (103794, 33),\n",
      "  add data shape : (25465, 33),\n",
      " auto data shape : (89378, 26),\n",
      " test data shape : (34686, 32)\n"
     ]
    }
   ],
   "source": [
    "test = pd.read_csv(path+'test.csv')\n",
    "train = pd.read_csv(path+'train.csv')\n",
    "print(f'Train data shape : {train.shape},\\n  add data shape : {add.shape},\\n auto data shape : {auto.shape},\\n test data shape : {test.shape}')"
   ],
   "metadata": {
    "collapsed": false,
    "pycharm": {
     "name": "#%%\n"
    }
   }
  },
  {
   "cell_type": "markdown",
   "source": [
    "---\n",
    "# 0. Crearing data\n",
    "---"
   ],
   "metadata": {
    "collapsed": false
   }
  },
  {
   "cell_type": "code",
   "execution_count": 172,
   "outputs": [
    {
     "name": "stdout",
     "output_type": "stream",
     "text": [
      "Records 111974, duplicates 0\n",
      "Number of empty features values in train dataset:\n"
     ]
    },
    {
     "data": {
      "text/plain": "complectation_dict          70\nimage                        2\nmodelDate               111974\nmodel_info              111974\nnumberOfDoors               70\nvehicleConfiguration    111974\nvendor                  111974\nВладельцы                    7\nВладение                 80244\nПТС                          1\nСостояние                   11\nТаможня                     17\ndtype: int64"
     },
     "execution_count": 172,
     "metadata": {},
     "output_type": "execute_result"
    }
   ],
   "source": [
    "# append addon data to train dataset\n",
    "train = train.append(add)\n",
    "\n",
    "# drop duplicates and records with zero-prices and records on new cars (they has different webpage structure)\n",
    "train.drop_duplicates(inplace=True)\n",
    "train.dropna(subset=['price', 'bodyType'], inplace=True)\n",
    "print(f'Records {train.shape[0]}, duplicates {train.duplicated().sum()}')\n",
    "\n",
    "# statistics of NAN in train dataset\n",
    "nulls = train.isnull().sum()\n",
    "print('Number of empty features values in train dataset:')\n",
    "nulls[nulls.values >0]"
   ],
   "metadata": {
    "collapsed": false,
    "pycharm": {
     "name": "#%%\n"
    }
   }
  },
  {
   "cell_type": "code",
   "execution_count": 173,
   "outputs": [],
   "source": [
    "# fill empty 'numberOfDoors' with value as the same bodyType has\n",
    "doors = dict(train.groupby(['bodyType', 'numberOfDoors'])['numberOfDoors'].count().index)\n",
    "train['numberOfDoors']=train.bodyType.map(doors)\n",
    "\n",
    "# fill empty 'complectation_dict' with empty dict\n",
    "train.complectation_dict = train.complectation_dict.apply(lambda q: dict() if pd.isna(q) else q)"
   ],
   "metadata": {
    "collapsed": false,
    "pycharm": {
     "name": "#%%\n"
    }
   }
  },
  {
   "cell_type": "code",
   "execution_count": 174,
   "outputs": [],
   "source": [
    "train.numberOfDoors = train.numberOfDoors.apply(int)\n",
    "train.parsing_unixtime = train.parsing_unixtime.apply(int)\n",
    "train.productionDate = train.productionDate.apply(int)\n",
    "train.sell_id = train.sell_id.apply(int)\n",
    "train.mileage = train.mileage.apply(int)"
   ],
   "metadata": {
    "collapsed": false,
    "pycharm": {
     "name": "#%%\n"
    }
   }
  },
  {
   "cell_type": "code",
   "execution_count": 175,
   "outputs": [
    {
     "name": "stdout",
     "output_type": "stream",
     "text": [
      "Number of empty features values in train dataset:\n"
     ]
    },
    {
     "data": {
      "text/plain": "image                        2\nmodelDate               111974\nmodel_info              111974\nvehicleConfiguration    111974\nvendor                  111974\nВладельцы                    7\nВладение                 80244\nПТС                          1\nСостояние                   11\nТаможня                     17\ndtype: int64"
     },
     "execution_count": 175,
     "metadata": {},
     "output_type": "execute_result"
    }
   ],
   "source": [
    "nulls = train.isnull().sum()\n",
    "print('Number of empty features values in train dataset:')\n",
    "nulls[nulls.values >0]"
   ],
   "metadata": {
    "collapsed": false,
    "pycharm": {
     "name": "#%%\n"
    }
   }
  },
  {
   "cell_type": "code",
   "execution_count": 176,
   "outputs": [
    {
     "data": {
      "text/plain": "bodyType                    0\nbrand                       0\ncar_url                     0\ncolor                       0\ncomplectation_dict      28268\ndescription                 0\nengineDisplacement          0\nenginePower                 0\nequipment_dict           9996\nfuelType                    0\nimage                       0\nmileage                     0\nmodelDate                   0\nmodel_info                  0\nmodel_name                  0\nname                        0\nnumberOfDoors               0\nparsing_unixtime            0\npriceCurrency               0\nproductionDate              0\nsell_id                     0\nsuper_gen                   0\nvehicleConfiguration        0\nvehicleTransmission         0\nvendor                      0\nВладельцы                   0\nВладение                22691\nПТС                         1\nПривод                      0\nРуль                        0\nСостояние                   0\nТаможня                     0\ndtype: int64"
     },
     "execution_count": 176,
     "metadata": {},
     "output_type": "execute_result"
    }
   ],
   "source": [
    "test.isnull().sum()"
   ],
   "metadata": {
    "collapsed": false,
    "pycharm": {
     "name": "#%%\n"
    }
   }
  },
  {
   "cell_type": "code",
   "execution_count": 176,
   "outputs": [],
   "source": [],
   "metadata": {
    "collapsed": false,
    "pycharm": {
     "name": "#%%\n"
    }
   }
  },
  {
   "cell_type": "markdown",
   "source": [
    "---\n",
    "### 0.2. Checking 'test' and 'auto' datadset.\n",
    "It is very important to understand when they was parsed. The prices in Russian is always run up,\n",
    "so ML-model can be good to predict today prices, but several month ago parsed test dataset - no,\n",
    "because only the another level of prices."
   ],
   "metadata": {
    "collapsed": false
   }
  },
  {
   "cell_type": "code",
   "execution_count": 177,
   "outputs": [
    {
     "data": {
      "text/plain": "(1294586.3563303659, 1625792.069507207, 1.2558390265410155)"
     },
     "execution_count": 177,
     "metadata": {},
     "output_type": "execute_result"
    }
   ],
   "source": [
    "auto.price.mean(), train.price.mean() , train.price.mean()/auto.price.mean()"
   ],
   "metadata": {
    "collapsed": false,
    "pycharm": {
     "name": "#%%\n"
    }
   }
  },
  {
   "cell_type": "code",
   "execution_count": 178,
   "outputs": [
    {
     "name": "stdout",
     "output_type": "stream",
     "text": [
      "Mon Oct 19 14:35:06 2020\n",
      "Mon Oct 26 14:04:24 2020\n"
     ]
    }
   ],
   "source": [
    "import time\n",
    "print(time.ctime(test.parsing_unixtime.min()))\n",
    "print(time.ctime(test.parsing_unixtime.max()))"
   ],
   "metadata": {
    "collapsed": false,
    "pycharm": {
     "name": "#%%\n"
    }
   }
  },
  {
   "cell_type": "markdown",
   "source": [
    "### Resume:\n",
    "test data was parsed nearly when was pased auto dataset - in september 2020.\n",
    "Today's prises in my train dataset is higher on 25.584%.\n",
    "So we must to divide current prices by the factor 1.255839."
   ],
   "metadata": {
    "collapsed": false
   }
  },
  {
   "cell_type": "code",
   "execution_count": 179,
   "outputs": [],
   "source": [
    "train['price_current']=train.price\n",
    "train.price = train.price / 1.255839"
   ],
   "metadata": {
    "collapsed": false,
    "pycharm": {
     "name": "#%%\n"
    }
   }
  },
  {
   "cell_type": "markdown",
   "source": [
    "----\n",
    "# 1. Clearin data\n"
   ],
   "metadata": {
    "collapsed": false
   }
  },
  {
   "cell_type": "markdown",
   "source": [
    "First of all I will normalize of filling data in train and test datasets, because some vectors have been download not in the same format"
   ],
   "metadata": {
    "collapsed": false
   }
  },
  {
   "cell_type": "code",
   "execution_count": 180,
   "outputs": [],
   "source": [
    "\"\"\" function to show filling difference between same vectors in train and test datasets\"\"\"\n",
    "def vector_items(vector: str):\n",
    "    \"\"\"\n",
    "    :param vector: nave of vector\n",
    "    :return: difference between train and test, test and train and unique values of test\n",
    "    \"\"\"\n",
    "    train_set = set(train[vector])\n",
    "    test_set = set(test[vector].unique())\n",
    "    train_dif = train_set - test_set\n",
    "    test_dif = test_set - train_set\n",
    "    print(f'Statistics of items in vector: {vector}.\\n ---------------------------')\n",
    "    print(f'Train has {len(train_set)} unique items and has difference:\\n{train_dif},')\n",
    "    print('--')\n",
    "    print(f'Test has {len(test_set)} unique items and has difference:\\n{test_dif}.')\n",
    "    print('Test_set values:')\n",
    "    print(test_set)"
   ],
   "metadata": {
    "collapsed": false,
    "pycharm": {
     "name": "#%%\n"
    }
   }
  },
  {
   "cell_type": "markdown",
   "source": [
    "## 1.2. bodyType"
   ],
   "metadata": {
    "collapsed": false
   }
  },
  {
   "cell_type": "code",
   "execution_count": 181,
   "outputs": [
    {
     "name": "stdout",
     "output_type": "stream",
     "text": [
      "Statistics of items in vector: bodyType.\n",
      " ---------------------------\n",
      "Train has 23 unique items and has difference:\n",
      "set(),\n",
      "--\n",
      "Test has 24 unique items and has difference:\n",
      "{'фастбек'}.\n",
      "Test_set values:\n",
      "{'пикап одинарная кабина', 'кабриолет', 'пикап двойная кабина', 'седан-хардтоп', 'седан', 'внедорожник 3 дв.', 'хэтчбек 5 дв.', 'купе', 'пикап полуторная кабина', 'фургон', 'внедорожник 5 дв.', 'минивэн', 'лифтбек', 'лимузин', 'универсал 5 дв.', 'родстер', 'фастбек', 'седан 2 дв.', 'хэтчбек 3 дв.', 'компактвэн', 'купе-хардтоп', 'тарга', 'внедорожник открытый', 'микровэн'}\n"
     ]
    }
   ],
   "source": [
    "vector_items('bodyType')"
   ],
   "metadata": {
    "collapsed": false,
    "pycharm": {
     "name": "#%%\n"
    }
   }
  },
  {
   "cell_type": "markdown",
   "source": [
    "Body type of cars in train is wider then in test by value 'фастбек'. It is OK."
   ],
   "metadata": {
    "collapsed": false
   }
  },
  {
   "cell_type": "markdown",
   "source": [
    "## 2.2. brand, model_name, model (new vector)"
   ],
   "metadata": {
    "collapsed": false
   }
  },
  {
   "cell_type": "code",
   "execution_count": 182,
   "outputs": [
    {
     "name": "stdout",
     "output_type": "stream",
     "text": [
      "Statistics of items in vector: brand.\n",
      " ---------------------------\n",
      "Train has 12 unique items and has difference:\n",
      "set(),\n",
      "--\n",
      "Test has 12 unique items and has difference:\n",
      "set().\n",
      "Test_set values:\n",
      "{'AUDI', 'SKODA', 'VOLKSWAGEN', 'HONDA', 'VOLVO', 'MITSUBISHI', 'BMW', 'LEXUS', 'TOYOTA', 'INFINITI', 'NISSAN', 'MERCEDES'}\n"
     ]
    }
   ],
   "source": [
    "vector_items('brand')"
   ],
   "metadata": {
    "collapsed": false,
    "pycharm": {
     "name": "#%%\n"
    }
   }
  },
  {
   "cell_type": "markdown",
   "source": [
    "Brand - was a key for download, so vectors are equal."
   ],
   "metadata": {
    "collapsed": false
   }
  },
  {
   "cell_type": "code",
   "execution_count": 183,
   "outputs": [],
   "source": [
    "train.model_name = train.model_name.str.upper()"
   ],
   "metadata": {
    "collapsed": false,
    "pycharm": {
     "name": "#%%\n"
    }
   }
  },
  {
   "cell_type": "code",
   "execution_count": 184,
   "outputs": [
    {
     "data": {
      "text/plain": "      bodyType     brand                                            car_url  \\\n41563    седан  MERCEDES  https://auto.ru/cars/used/sale/mercedes/s_klas...   \n41564    седан  MERCEDES  https://auto.ru/cars/used/sale/mercedes/s_klas...   \n41565    седан  MERCEDES  https://auto.ru/cars/used/sale/mercedes/s_klas...   \n41566    седан  MERCEDES  https://auto.ru/cars/used/sale/mercedes/s_klas...   \n41567    седан  MERCEDES  https://auto.ru/cars/used/sale/mercedes/s_klas...   \n...        ...       ...                                                ...   \n9545     седан  MERCEDES  https://auto.ru/cars/used/sale/mercedes/s_klas...   \n9546     седан  MERCEDES  https://auto.ru/cars/used/sale/mercedes/s_klas...   \n9547     седан  MERCEDES  https://auto.ru/cars/used/sale/mercedes/s_klas...   \n9548     седан  MERCEDES  https://auto.ru/cars/used/sale/mercedes/s_klas...   \n9549     седан  MERCEDES  https://auto.ru/cars/used/sale/mercedes/s_klas...   \n\n        color                                 complectation_dict  \\\n41563  чёрный  {'back-brake': 'Ventilated disc', 'feeding': '...   \n41564  чёрный  {'back-brake': 'Ventilated disc', 'feeding': '...   \n41565  чёрный  {'back-brake': 'Ventilated disc', 'feeding': '...   \n41566  чёрный  {'back-brake': 'Ventilated disc', 'feeding': '...   \n41567  чёрный  {'back-brake': 'Ventilated disc', 'feeding': '...   \n...       ...                                                ...   \n9545    синий  {'back-brake': 'Ventilated disc', 'feeding': '...   \n9546    синий  {'back-brake': 'Disc', 'feeding': 'None', 'ful...   \n9547   чёрный  {'back-brake': 'Disc', 'feeding': 'None', 'ful...   \n9548    серый  {'back-brake': 'Ventilated disc', 'feeding': '...   \n9549    синий  {'back-brake': 'Ventilated disc', 'feeding': '...   \n\n                                             description engineDisplacement  \\\n41563  Авто новое пробег 2500км в самой топовой компл...              2.9 л   \n41564  Автомобиль приобретён у официального дилера Па...              3.0 л   \n41565   ЛУКАВТО официальный дилер Mercedes Benz в Рос...              2.9 л   \n41566  Внимание Только для клиентов AVILON Автомобили...              3.0 л   \n41567  В пленке самая полная комплектация нет только ...              3.0 л   \n...                                                  ...                ...   \n9545   Хороший автомобиль без нареканий требует мелки...              6.0 л   \n9546   Нормальное состояние по кузову есть не критичн...              3.2 л   \n9547   Авто без проблемм Не шпаклеванный не из кусков...              4.3 л   \n9548   ЗАВОДСКАЯ БРОНЕКАПСУЛА Богатая комплектация Ра...              5.0 л   \n9549   Автомобиль полностью на ходу стоит в гараже По...              4.3 л   \n\n      enginePower                                     equipment_dict fuelType  \\\n41563    249 л.с.  {'e-adjustment-wheel': True, 'multi-wheel': Tr...   Дизель   \n41564    367 л.с.  {'asr': True, 'roller-blind-for-rear-window': ...   Бензин   \n41565    249 л.с.  {'asr': True, 'roller-blind-for-rear-window': ...   Дизель   \n41566    367 л.с.  {'cruise-control': True, 'asr': True, 'roller-...   Бензин   \n41567    367 л.с.  {'asr': True, 'tinted-glass': True, 'roller-bl...   Бензин   \n...           ...                                                ...      ...   \n9545     394 л.с.                                                 {}   Бензин   \n9546     224 л.с.                                                 {}   Бензин   \n9547     279 л.с.  {'cruise-control': True, 'engine-proof': True,...   Бензин   \n9548     320 л.с.                                                 {}   Бензин   \n9549     279 л.с.  {'cruise-control': True, 'tinted-glass': True,...   Бензин   \n\n       ... vendor    Владельцы   Владение       ПТС  Привод   Руль  \\\n41563  ...    NaN   1 владелец        NaN  Оригинал  полный  Левый   \n41564  ...    NaN  2 владельца        NaN  Оригинал  полный  Левый   \n41565  ...    NaN   1 владелец        NaN  Оригинал  полный  Левый   \n41566  ...    NaN   1 владелец        NaN  Оригинал  полный  Левый   \n41567  ...    NaN   1 владелец  8 месяцев  Оригинал  полный  Левый   \n...    ...    ...          ...        ...       ...     ...    ...   \n9545   ...    NaN   1 владелец        NaN  Оригинал  задний  Левый   \n9546   ...    NaN  3 или более        NaN  Дубликат  задний  Левый   \n9547   ...    NaN  3 или более        NaN  Оригинал  задний  Левый   \n9548   ...    NaN  3 или более        NaN  Дубликат  задний  Левый   \n9549   ...    NaN  3 или более        NaN  Дубликат  задний  Левый   \n\n                Состояние     Таможня         price  price_current  \n41563  Не требует ремонта  Растаможен  1.254142e+07     15750000.0  \n41564  Не требует ремонта  Растаможен  1.262104e+07     15850000.0  \n41565  Не требует ремонта  Растаможен  1.273969e+07     15999000.0  \n41566  Не требует ремонта  Растаможен  1.272456e+07     15980000.0  \n41567  Не требует ремонта  Растаможен  1.234235e+07     15500000.0  \n...                   ...         ...           ...            ...  \n9545   Не требует ремонта  Растаможен  3.025866e+05       380000.0  \n9546   Не требует ремонта  Растаможен  2.946238e+05       370000.0  \n9547   Не требует ремонта  Растаможен  2.910843e+05       365555.0  \n9548   Не требует ремонта  Растаможен  2.906424e+05       365000.0  \n9549   Не требует ремонта  Растаможен  2.786981e+05       350000.0  \n\n[1743 rows x 34 columns]",
      "text/html": "<div>\n<style scoped>\n    .dataframe tbody tr th:only-of-type {\n        vertical-align: middle;\n    }\n\n    .dataframe tbody tr th {\n        vertical-align: top;\n    }\n\n    .dataframe thead th {\n        text-align: right;\n    }\n</style>\n<table border=\"1\" class=\"dataframe\">\n  <thead>\n    <tr style=\"text-align: right;\">\n      <th></th>\n      <th>bodyType</th>\n      <th>brand</th>\n      <th>car_url</th>\n      <th>color</th>\n      <th>complectation_dict</th>\n      <th>description</th>\n      <th>engineDisplacement</th>\n      <th>enginePower</th>\n      <th>equipment_dict</th>\n      <th>fuelType</th>\n      <th>...</th>\n      <th>vendor</th>\n      <th>Владельцы</th>\n      <th>Владение</th>\n      <th>ПТС</th>\n      <th>Привод</th>\n      <th>Руль</th>\n      <th>Состояние</th>\n      <th>Таможня</th>\n      <th>price</th>\n      <th>price_current</th>\n    </tr>\n  </thead>\n  <tbody>\n    <tr>\n      <th>41563</th>\n      <td>седан</td>\n      <td>MERCEDES</td>\n      <td>https://auto.ru/cars/used/sale/mercedes/s_klas...</td>\n      <td>чёрный</td>\n      <td>{'back-brake': 'Ventilated disc', 'feeding': '...</td>\n      <td>Авто новое пробег 2500км в самой топовой компл...</td>\n      <td>2.9 л</td>\n      <td>249 л.с.</td>\n      <td>{'e-adjustment-wheel': True, 'multi-wheel': Tr...</td>\n      <td>Дизель</td>\n      <td>...</td>\n      <td>NaN</td>\n      <td>1 владелец</td>\n      <td>NaN</td>\n      <td>Оригинал</td>\n      <td>полный</td>\n      <td>Левый</td>\n      <td>Не требует ремонта</td>\n      <td>Растаможен</td>\n      <td>1.254142e+07</td>\n      <td>15750000.0</td>\n    </tr>\n    <tr>\n      <th>41564</th>\n      <td>седан</td>\n      <td>MERCEDES</td>\n      <td>https://auto.ru/cars/used/sale/mercedes/s_klas...</td>\n      <td>чёрный</td>\n      <td>{'back-brake': 'Ventilated disc', 'feeding': '...</td>\n      <td>Автомобиль приобретён у официального дилера Па...</td>\n      <td>3.0 л</td>\n      <td>367 л.с.</td>\n      <td>{'asr': True, 'roller-blind-for-rear-window': ...</td>\n      <td>Бензин</td>\n      <td>...</td>\n      <td>NaN</td>\n      <td>2 владельца</td>\n      <td>NaN</td>\n      <td>Оригинал</td>\n      <td>полный</td>\n      <td>Левый</td>\n      <td>Не требует ремонта</td>\n      <td>Растаможен</td>\n      <td>1.262104e+07</td>\n      <td>15850000.0</td>\n    </tr>\n    <tr>\n      <th>41565</th>\n      <td>седан</td>\n      <td>MERCEDES</td>\n      <td>https://auto.ru/cars/used/sale/mercedes/s_klas...</td>\n      <td>чёрный</td>\n      <td>{'back-brake': 'Ventilated disc', 'feeding': '...</td>\n      <td>ЛУКАВТО официальный дилер Mercedes Benz в Рос...</td>\n      <td>2.9 л</td>\n      <td>249 л.с.</td>\n      <td>{'asr': True, 'roller-blind-for-rear-window': ...</td>\n      <td>Дизель</td>\n      <td>...</td>\n      <td>NaN</td>\n      <td>1 владелец</td>\n      <td>NaN</td>\n      <td>Оригинал</td>\n      <td>полный</td>\n      <td>Левый</td>\n      <td>Не требует ремонта</td>\n      <td>Растаможен</td>\n      <td>1.273969e+07</td>\n      <td>15999000.0</td>\n    </tr>\n    <tr>\n      <th>41566</th>\n      <td>седан</td>\n      <td>MERCEDES</td>\n      <td>https://auto.ru/cars/used/sale/mercedes/s_klas...</td>\n      <td>чёрный</td>\n      <td>{'back-brake': 'Ventilated disc', 'feeding': '...</td>\n      <td>Внимание Только для клиентов AVILON Автомобили...</td>\n      <td>3.0 л</td>\n      <td>367 л.с.</td>\n      <td>{'cruise-control': True, 'asr': True, 'roller-...</td>\n      <td>Бензин</td>\n      <td>...</td>\n      <td>NaN</td>\n      <td>1 владелец</td>\n      <td>NaN</td>\n      <td>Оригинал</td>\n      <td>полный</td>\n      <td>Левый</td>\n      <td>Не требует ремонта</td>\n      <td>Растаможен</td>\n      <td>1.272456e+07</td>\n      <td>15980000.0</td>\n    </tr>\n    <tr>\n      <th>41567</th>\n      <td>седан</td>\n      <td>MERCEDES</td>\n      <td>https://auto.ru/cars/used/sale/mercedes/s_klas...</td>\n      <td>чёрный</td>\n      <td>{'back-brake': 'Ventilated disc', 'feeding': '...</td>\n      <td>В пленке самая полная комплектация нет только ...</td>\n      <td>3.0 л</td>\n      <td>367 л.с.</td>\n      <td>{'asr': True, 'tinted-glass': True, 'roller-bl...</td>\n      <td>Бензин</td>\n      <td>...</td>\n      <td>NaN</td>\n      <td>1 владелец</td>\n      <td>8 месяцев</td>\n      <td>Оригинал</td>\n      <td>полный</td>\n      <td>Левый</td>\n      <td>Не требует ремонта</td>\n      <td>Растаможен</td>\n      <td>1.234235e+07</td>\n      <td>15500000.0</td>\n    </tr>\n    <tr>\n      <th>...</th>\n      <td>...</td>\n      <td>...</td>\n      <td>...</td>\n      <td>...</td>\n      <td>...</td>\n      <td>...</td>\n      <td>...</td>\n      <td>...</td>\n      <td>...</td>\n      <td>...</td>\n      <td>...</td>\n      <td>...</td>\n      <td>...</td>\n      <td>...</td>\n      <td>...</td>\n      <td>...</td>\n      <td>...</td>\n      <td>...</td>\n      <td>...</td>\n      <td>...</td>\n      <td>...</td>\n    </tr>\n    <tr>\n      <th>9545</th>\n      <td>седан</td>\n      <td>MERCEDES</td>\n      <td>https://auto.ru/cars/used/sale/mercedes/s_klas...</td>\n      <td>синий</td>\n      <td>{'back-brake': 'Ventilated disc', 'feeding': '...</td>\n      <td>Хороший автомобиль без нареканий требует мелки...</td>\n      <td>6.0 л</td>\n      <td>394 л.с.</td>\n      <td>{}</td>\n      <td>Бензин</td>\n      <td>...</td>\n      <td>NaN</td>\n      <td>1 владелец</td>\n      <td>NaN</td>\n      <td>Оригинал</td>\n      <td>задний</td>\n      <td>Левый</td>\n      <td>Не требует ремонта</td>\n      <td>Растаможен</td>\n      <td>3.025866e+05</td>\n      <td>380000.0</td>\n    </tr>\n    <tr>\n      <th>9546</th>\n      <td>седан</td>\n      <td>MERCEDES</td>\n      <td>https://auto.ru/cars/used/sale/mercedes/s_klas...</td>\n      <td>синий</td>\n      <td>{'back-brake': 'Disc', 'feeding': 'None', 'ful...</td>\n      <td>Нормальное состояние по кузову есть не критичн...</td>\n      <td>3.2 л</td>\n      <td>224 л.с.</td>\n      <td>{}</td>\n      <td>Бензин</td>\n      <td>...</td>\n      <td>NaN</td>\n      <td>3 или более</td>\n      <td>NaN</td>\n      <td>Дубликат</td>\n      <td>задний</td>\n      <td>Левый</td>\n      <td>Не требует ремонта</td>\n      <td>Растаможен</td>\n      <td>2.946238e+05</td>\n      <td>370000.0</td>\n    </tr>\n    <tr>\n      <th>9547</th>\n      <td>седан</td>\n      <td>MERCEDES</td>\n      <td>https://auto.ru/cars/used/sale/mercedes/s_klas...</td>\n      <td>чёрный</td>\n      <td>{'back-brake': 'Disc', 'feeding': 'None', 'ful...</td>\n      <td>Авто без проблемм Не шпаклеванный не из кусков...</td>\n      <td>4.3 л</td>\n      <td>279 л.с.</td>\n      <td>{'cruise-control': True, 'engine-proof': True,...</td>\n      <td>Бензин</td>\n      <td>...</td>\n      <td>NaN</td>\n      <td>3 или более</td>\n      <td>NaN</td>\n      <td>Оригинал</td>\n      <td>задний</td>\n      <td>Левый</td>\n      <td>Не требует ремонта</td>\n      <td>Растаможен</td>\n      <td>2.910843e+05</td>\n      <td>365555.0</td>\n    </tr>\n    <tr>\n      <th>9548</th>\n      <td>седан</td>\n      <td>MERCEDES</td>\n      <td>https://auto.ru/cars/used/sale/mercedes/s_klas...</td>\n      <td>серый</td>\n      <td>{'back-brake': 'Ventilated disc', 'feeding': '...</td>\n      <td>ЗАВОДСКАЯ БРОНЕКАПСУЛА Богатая комплектация Ра...</td>\n      <td>5.0 л</td>\n      <td>320 л.с.</td>\n      <td>{}</td>\n      <td>Бензин</td>\n      <td>...</td>\n      <td>NaN</td>\n      <td>3 или более</td>\n      <td>NaN</td>\n      <td>Дубликат</td>\n      <td>задний</td>\n      <td>Левый</td>\n      <td>Не требует ремонта</td>\n      <td>Растаможен</td>\n      <td>2.906424e+05</td>\n      <td>365000.0</td>\n    </tr>\n    <tr>\n      <th>9549</th>\n      <td>седан</td>\n      <td>MERCEDES</td>\n      <td>https://auto.ru/cars/used/sale/mercedes/s_klas...</td>\n      <td>синий</td>\n      <td>{'back-brake': 'Ventilated disc', 'feeding': '...</td>\n      <td>Автомобиль полностью на ходу стоит в гараже По...</td>\n      <td>4.3 л</td>\n      <td>279 л.с.</td>\n      <td>{'cruise-control': True, 'tinted-glass': True,...</td>\n      <td>Бензин</td>\n      <td>...</td>\n      <td>NaN</td>\n      <td>3 или более</td>\n      <td>NaN</td>\n      <td>Дубликат</td>\n      <td>задний</td>\n      <td>Левый</td>\n      <td>Не требует ремонта</td>\n      <td>Растаможен</td>\n      <td>2.786981e+05</td>\n      <td>350000.0</td>\n    </tr>\n  </tbody>\n</table>\n<p>1743 rows × 34 columns</p>\n</div>"
     },
     "execution_count": 184,
     "metadata": {},
     "output_type": "execute_result"
    }
   ],
   "source": [
    "train[train.model_name == 'S-КЛАСС']"
   ],
   "metadata": {
    "collapsed": false,
    "pycharm": {
     "name": "#%%\n"
    }
   }
  },
  {
   "cell_type": "code",
   "execution_count": 185,
   "outputs": [
    {
     "data": {
      "text/plain": "      bodyType     brand                                            car_url  \\\n15416    седан  MERCEDES  https://auto.ru/cars/used/sale/mercedes/s_klas...   \n15449    седан  MERCEDES  https://auto.ru/cars/used/sale/mercedes/s_klas...   \n15453    седан  MERCEDES  https://auto.ru/cars/used/sale/mercedes/s_klas...   \n15492    седан  MERCEDES  https://auto.ru/cars/used/sale/mercedes/s_klas...   \n15497    седан  MERCEDES  https://auto.ru/cars/used/sale/mercedes/s_klas...   \n...        ...       ...                                                ...   \n34214    седан  MERCEDES  https://auto.ru/cars/used/sale/mercedes/s_klas...   \n34226    седан  MERCEDES  https://auto.ru/cars/used/sale/mercedes/s_klas...   \n34239    седан  MERCEDES  https://auto.ru/cars/used/sale/mercedes/s_klas...   \n34241    седан  MERCEDES  https://auto.ru/cars/used/sale/mercedes/s_klas...   \n34246    седан  MERCEDES  https://auto.ru/cars/used/sale/mercedes/s_klas...   \n\n        color                                 complectation_dict  \\\n15416   синий                                                NaN   \n15449  чёрный                                                NaN   \n15453  чёрный                                                NaN   \n15492  чёрный  {\"id\":\"21016733\",\"name\":\"S 450 4MATIC\",\"availa...   \n15497  чёрный                                                NaN   \n...       ...                                                ...   \n34214  чёрный                                                NaN   \n34226  чёрный                                                NaN   \n34239  чёрный                                                NaN   \n34241  чёрный                                                NaN   \n34246  чёрный                                                NaN   \n\n                                             description engineDisplacement  \\\n15416  Позвоните нам и получите дополнительную скидку...            5.5 LTR   \n15449  В ДТП не участвовала.\\n\\n。Подушка безопасности...            4.7 LTR   \n15453  ЛОТ: 01200668\\nFAVORIT MOTORS KIA Юг\\n\\nВы мож...            3.0 LTR   \n15492  МБ-Беляево — официальный дилер «Мерседес-Бенц»...            3.0 LTR   \n15497  Автодилер года 2020\\n\\nПобедитель в номинации ...            4.7 LTR   \n...                                                  ...                ...   \n34214  Автомобиль в отличном состоянии.Обслуживался в...            5.0 LTR   \n34226  Автомобиль Приобретался у официального дилера ...            4.0 LTR   \n34239  Продаётся легендарный S500 короткая база, полн...            5.0 LTR   \n34241  Автомобиль продается официальным дилером Автом...            3.0 LTR   \n34246                              Цена до 30 октября !             2.8 LTR   \n\n      enginePower                                     equipment_dict fuelType  \\\n15416     388 N12  {\"electro-window-back\":true,\"alloy-wheel-disks...   бензин   \n15449     435 N12  {\"cruise-control\":true,\"asr\":true,\"tinted-glas...   бензин   \n15453     235 N12  {\"asr\":true,\"tinted-glass\":true,\"esp\":true,\"ad...   дизель   \n15492     367 N12  {\"cruise-control\":true,\"roller-blind-for-rear-...   бензин   \n15497     435 N12  {\"cruise-control\":true,\"airbag-rear-side\":true...   бензин   \n...           ...                                                ...      ...   \n34214     306 N12                                                NaN   бензин   \n34226     469 N12                                                NaN   бензин   \n34239     306 N12                                                NaN   бензин   \n34241     235 N12  {\"cruise-control\":true,\"asr\":true,\"tinted-glas...   дизель   \n34246     193 N12  {\"cruise-control\":true,\"roller-blind-for-rear-...   бензин   \n\n       ... vehicleConfiguration  vehicleTransmission    vendor    Владельцы  \\\n15416  ...  SEDAN AUTOMATIC 5.5       автоматическая  EUROPEAN  2 владельца   \n15449  ...  SEDAN AUTOMATIC 4.7       автоматическая  EUROPEAN  3 или более   \n15453  ...  SEDAN AUTOMATIC 3.0       автоматическая  EUROPEAN  3 или более   \n15492  ...  SEDAN AUTOMATIC 3.0       автоматическая  EUROPEAN   1 владелец   \n15497  ...  SEDAN AUTOMATIC 4.7       автоматическая  EUROPEAN  3 или более   \n...    ...                  ...                  ...       ...          ...   \n34214  ...  SEDAN AUTOMATIC 5.0       автоматическая  EUROPEAN  2 владельца   \n34226  ...  SEDAN AUTOMATIC 4.0       автоматическая  EUROPEAN  2 владельца   \n34239  ...  SEDAN AUTOMATIC 5.0       автоматическая  EUROPEAN  2 владельца   \n34241  ...  SEDAN AUTOMATIC 3.0       автоматическая  EUROPEAN  3 или более   \n34246  ...  SEDAN AUTOMATIC 2.8       автоматическая  EUROPEAN  3 или более   \n\n      Владение       ПТС  Привод   Руль           Состояние     Таможня  \n15416      NaN  Оригинал  полный  Левый  Не требует ремонта  Растаможен  \n15449      NaN  Оригинал  полный  Левый  Не требует ремонта  Растаможен  \n15453      NaN  Оригинал  полный  Левый  Не требует ремонта  Растаможен  \n15492      NaN  Оригинал  полный  Левый  Не требует ремонта  Растаможен  \n15497      NaN  Оригинал  полный  Левый  Не требует ремонта  Растаможен  \n...        ...       ...     ...    ...                 ...         ...  \n34214      NaN  Оригинал  полный  Левый  Не требует ремонта  Растаможен  \n34226      NaN  Оригинал  полный  Левый  Не требует ремонта  Растаможен  \n34239      NaN  Оригинал  полный  Левый  Не требует ремонта  Растаможен  \n34241      NaN  Оригинал  полный  Левый  Не требует ремонта  Растаможен  \n34246      NaN  Дубликат  задний  Левый  Не требует ремонта  Растаможен  \n\n[549 rows x 32 columns]",
      "text/html": "<div>\n<style scoped>\n    .dataframe tbody tr th:only-of-type {\n        vertical-align: middle;\n    }\n\n    .dataframe tbody tr th {\n        vertical-align: top;\n    }\n\n    .dataframe thead th {\n        text-align: right;\n    }\n</style>\n<table border=\"1\" class=\"dataframe\">\n  <thead>\n    <tr style=\"text-align: right;\">\n      <th></th>\n      <th>bodyType</th>\n      <th>brand</th>\n      <th>car_url</th>\n      <th>color</th>\n      <th>complectation_dict</th>\n      <th>description</th>\n      <th>engineDisplacement</th>\n      <th>enginePower</th>\n      <th>equipment_dict</th>\n      <th>fuelType</th>\n      <th>...</th>\n      <th>vehicleConfiguration</th>\n      <th>vehicleTransmission</th>\n      <th>vendor</th>\n      <th>Владельцы</th>\n      <th>Владение</th>\n      <th>ПТС</th>\n      <th>Привод</th>\n      <th>Руль</th>\n      <th>Состояние</th>\n      <th>Таможня</th>\n    </tr>\n  </thead>\n  <tbody>\n    <tr>\n      <th>15416</th>\n      <td>седан</td>\n      <td>MERCEDES</td>\n      <td>https://auto.ru/cars/used/sale/mercedes/s_klas...</td>\n      <td>синий</td>\n      <td>NaN</td>\n      <td>Позвоните нам и получите дополнительную скидку...</td>\n      <td>5.5 LTR</td>\n      <td>388 N12</td>\n      <td>{\"electro-window-back\":true,\"alloy-wheel-disks...</td>\n      <td>бензин</td>\n      <td>...</td>\n      <td>SEDAN AUTOMATIC 5.5</td>\n      <td>автоматическая</td>\n      <td>EUROPEAN</td>\n      <td>2 владельца</td>\n      <td>NaN</td>\n      <td>Оригинал</td>\n      <td>полный</td>\n      <td>Левый</td>\n      <td>Не требует ремонта</td>\n      <td>Растаможен</td>\n    </tr>\n    <tr>\n      <th>15449</th>\n      <td>седан</td>\n      <td>MERCEDES</td>\n      <td>https://auto.ru/cars/used/sale/mercedes/s_klas...</td>\n      <td>чёрный</td>\n      <td>NaN</td>\n      <td>В ДТП не участвовала.\\n\\n。Подушка безопасности...</td>\n      <td>4.7 LTR</td>\n      <td>435 N12</td>\n      <td>{\"cruise-control\":true,\"asr\":true,\"tinted-glas...</td>\n      <td>бензин</td>\n      <td>...</td>\n      <td>SEDAN AUTOMATIC 4.7</td>\n      <td>автоматическая</td>\n      <td>EUROPEAN</td>\n      <td>3 или более</td>\n      <td>NaN</td>\n      <td>Оригинал</td>\n      <td>полный</td>\n      <td>Левый</td>\n      <td>Не требует ремонта</td>\n      <td>Растаможен</td>\n    </tr>\n    <tr>\n      <th>15453</th>\n      <td>седан</td>\n      <td>MERCEDES</td>\n      <td>https://auto.ru/cars/used/sale/mercedes/s_klas...</td>\n      <td>чёрный</td>\n      <td>NaN</td>\n      <td>ЛОТ: 01200668\\nFAVORIT MOTORS KIA Юг\\n\\nВы мож...</td>\n      <td>3.0 LTR</td>\n      <td>235 N12</td>\n      <td>{\"asr\":true,\"tinted-glass\":true,\"esp\":true,\"ad...</td>\n      <td>дизель</td>\n      <td>...</td>\n      <td>SEDAN AUTOMATIC 3.0</td>\n      <td>автоматическая</td>\n      <td>EUROPEAN</td>\n      <td>3 или более</td>\n      <td>NaN</td>\n      <td>Оригинал</td>\n      <td>полный</td>\n      <td>Левый</td>\n      <td>Не требует ремонта</td>\n      <td>Растаможен</td>\n    </tr>\n    <tr>\n      <th>15492</th>\n      <td>седан</td>\n      <td>MERCEDES</td>\n      <td>https://auto.ru/cars/used/sale/mercedes/s_klas...</td>\n      <td>чёрный</td>\n      <td>{\"id\":\"21016733\",\"name\":\"S 450 4MATIC\",\"availa...</td>\n      <td>МБ-Беляево — официальный дилер «Мерседес-Бенц»...</td>\n      <td>3.0 LTR</td>\n      <td>367 N12</td>\n      <td>{\"cruise-control\":true,\"roller-blind-for-rear-...</td>\n      <td>бензин</td>\n      <td>...</td>\n      <td>SEDAN AUTOMATIC 3.0</td>\n      <td>автоматическая</td>\n      <td>EUROPEAN</td>\n      <td>1 владелец</td>\n      <td>NaN</td>\n      <td>Оригинал</td>\n      <td>полный</td>\n      <td>Левый</td>\n      <td>Не требует ремонта</td>\n      <td>Растаможен</td>\n    </tr>\n    <tr>\n      <th>15497</th>\n      <td>седан</td>\n      <td>MERCEDES</td>\n      <td>https://auto.ru/cars/used/sale/mercedes/s_klas...</td>\n      <td>чёрный</td>\n      <td>NaN</td>\n      <td>Автодилер года 2020\\n\\nПобедитель в номинации ...</td>\n      <td>4.7 LTR</td>\n      <td>435 N12</td>\n      <td>{\"cruise-control\":true,\"airbag-rear-side\":true...</td>\n      <td>бензин</td>\n      <td>...</td>\n      <td>SEDAN AUTOMATIC 4.7</td>\n      <td>автоматическая</td>\n      <td>EUROPEAN</td>\n      <td>3 или более</td>\n      <td>NaN</td>\n      <td>Оригинал</td>\n      <td>полный</td>\n      <td>Левый</td>\n      <td>Не требует ремонта</td>\n      <td>Растаможен</td>\n    </tr>\n    <tr>\n      <th>...</th>\n      <td>...</td>\n      <td>...</td>\n      <td>...</td>\n      <td>...</td>\n      <td>...</td>\n      <td>...</td>\n      <td>...</td>\n      <td>...</td>\n      <td>...</td>\n      <td>...</td>\n      <td>...</td>\n      <td>...</td>\n      <td>...</td>\n      <td>...</td>\n      <td>...</td>\n      <td>...</td>\n      <td>...</td>\n      <td>...</td>\n      <td>...</td>\n      <td>...</td>\n      <td>...</td>\n    </tr>\n    <tr>\n      <th>34214</th>\n      <td>седан</td>\n      <td>MERCEDES</td>\n      <td>https://auto.ru/cars/used/sale/mercedes/s_klas...</td>\n      <td>чёрный</td>\n      <td>NaN</td>\n      <td>Автомобиль в отличном состоянии.Обслуживался в...</td>\n      <td>5.0 LTR</td>\n      <td>306 N12</td>\n      <td>NaN</td>\n      <td>бензин</td>\n      <td>...</td>\n      <td>SEDAN AUTOMATIC 5.0</td>\n      <td>автоматическая</td>\n      <td>EUROPEAN</td>\n      <td>2 владельца</td>\n      <td>NaN</td>\n      <td>Оригинал</td>\n      <td>полный</td>\n      <td>Левый</td>\n      <td>Не требует ремонта</td>\n      <td>Растаможен</td>\n    </tr>\n    <tr>\n      <th>34226</th>\n      <td>седан</td>\n      <td>MERCEDES</td>\n      <td>https://auto.ru/cars/used/sale/mercedes/s_klas...</td>\n      <td>чёрный</td>\n      <td>NaN</td>\n      <td>Автомобиль Приобретался у официального дилера ...</td>\n      <td>4.0 LTR</td>\n      <td>469 N12</td>\n      <td>NaN</td>\n      <td>бензин</td>\n      <td>...</td>\n      <td>SEDAN AUTOMATIC 4.0</td>\n      <td>автоматическая</td>\n      <td>EUROPEAN</td>\n      <td>2 владельца</td>\n      <td>NaN</td>\n      <td>Оригинал</td>\n      <td>полный</td>\n      <td>Левый</td>\n      <td>Не требует ремонта</td>\n      <td>Растаможен</td>\n    </tr>\n    <tr>\n      <th>34239</th>\n      <td>седан</td>\n      <td>MERCEDES</td>\n      <td>https://auto.ru/cars/used/sale/mercedes/s_klas...</td>\n      <td>чёрный</td>\n      <td>NaN</td>\n      <td>Продаётся легендарный S500 короткая база, полн...</td>\n      <td>5.0 LTR</td>\n      <td>306 N12</td>\n      <td>NaN</td>\n      <td>бензин</td>\n      <td>...</td>\n      <td>SEDAN AUTOMATIC 5.0</td>\n      <td>автоматическая</td>\n      <td>EUROPEAN</td>\n      <td>2 владельца</td>\n      <td>NaN</td>\n      <td>Оригинал</td>\n      <td>полный</td>\n      <td>Левый</td>\n      <td>Не требует ремонта</td>\n      <td>Растаможен</td>\n    </tr>\n    <tr>\n      <th>34241</th>\n      <td>седан</td>\n      <td>MERCEDES</td>\n      <td>https://auto.ru/cars/used/sale/mercedes/s_klas...</td>\n      <td>чёрный</td>\n      <td>NaN</td>\n      <td>Автомобиль продается официальным дилером Автом...</td>\n      <td>3.0 LTR</td>\n      <td>235 N12</td>\n      <td>{\"cruise-control\":true,\"asr\":true,\"tinted-glas...</td>\n      <td>дизель</td>\n      <td>...</td>\n      <td>SEDAN AUTOMATIC 3.0</td>\n      <td>автоматическая</td>\n      <td>EUROPEAN</td>\n      <td>3 или более</td>\n      <td>NaN</td>\n      <td>Оригинал</td>\n      <td>полный</td>\n      <td>Левый</td>\n      <td>Не требует ремонта</td>\n      <td>Растаможен</td>\n    </tr>\n    <tr>\n      <th>34246</th>\n      <td>седан</td>\n      <td>MERCEDES</td>\n      <td>https://auto.ru/cars/used/sale/mercedes/s_klas...</td>\n      <td>чёрный</td>\n      <td>NaN</td>\n      <td>Цена до 30 октября !</td>\n      <td>2.8 LTR</td>\n      <td>193 N12</td>\n      <td>{\"cruise-control\":true,\"roller-blind-for-rear-...</td>\n      <td>бензин</td>\n      <td>...</td>\n      <td>SEDAN AUTOMATIC 2.8</td>\n      <td>автоматическая</td>\n      <td>EUROPEAN</td>\n      <td>3 или более</td>\n      <td>NaN</td>\n      <td>Дубликат</td>\n      <td>задний</td>\n      <td>Левый</td>\n      <td>Не требует ремонта</td>\n      <td>Растаможен</td>\n    </tr>\n  </tbody>\n</table>\n<p>549 rows × 32 columns</p>\n</div>"
     },
     "execution_count": 185,
     "metadata": {},
     "output_type": "execute_result"
    }
   ],
   "source": [
    "test[test.model_name == 'S_KLASSE']"
   ],
   "metadata": {
    "collapsed": false,
    "pycharm": {
     "name": "#%%\n"
    }
   }
  },
  {
   "cell_type": "code",
   "execution_count": 186,
   "outputs": [
    {
     "name": "stdout",
     "output_type": "stream",
     "text": [
      "Statistics of items in vector: model_name.\n",
      " ---------------------------\n",
      "Train has 532 unique items and has difference:\n",
      "{'STEPWGN', 'GLC', 'CAMRY SOLARA', 'MARK II', 'JUKE NISMO', 'FR-V', 'X-КЛАСС', 'ODYSSEY (NORTH AMERICA)', 'GLA AMG', 'X5 M', 'FAIRLADY Z', '1M', 'LAND CRUISER PRADO', 'QASHQAI+2', 'CROWN MAJESTA', 'GRAND HIACE', 'CL-КЛАСС', 'GLS', 'CARINA E', 'V-КЛАСС', 'GLC COUPE', '240 SERIES', 'RS 6', 'MASTERACE SURF', 'RS 4', 'CLA', 'CIVIC FERIO', 'V60 CROSS COUNTRY', '02 (E10)', 'GLB', 'MARK X ZIO', 'SPRINTER MARINO', 'MONTERO SPORT', 'SCEPTER', 'ALMERA CLASSIC', '7 СЕРИИ', 'CR-V', '3 СЕРИИ', 'A4 ALLROAD', 'GLE COUPE AMG', 'MOBILIO SPIKE', '2 СЕРИИ', 'RS 7', 'COROLLA RUMION', 'OCTAVIA RS', 'CLS', 'N-WGN', 'YARIS VERSO', 'GLC COUPE AMG', 'GL-КЛАСС AMG', 'PASSAT CC', '2 СЕРИИ ACTIVE TOURER', 'MAYBACH S-КЛАСС', 'GL-КЛАСС', '5 СЕРИИ', 'COROLLA VERSO', 'VERSO-S', 'SLR MCLAREN', 'CL-КЛАСС AMG', 'E-КЛАСС', 'POLO GTI', 'NAVARA (FRONTIER)', 'PAJERO MINI', '1 СЕРИИ', 'AMG GT', 'LANCER RALLIART', 'G-КЛАСС', 'PRIUS V (+)', 'COROLLA LEVIN', 'COROLLA SPACIO', 'CORONA EXIV', 'CLC-КЛАСС', 'TYPE 1', 'GLC AMG', 'PRIUS ALPHA', 'SPACE RUNNER', 'ALMERA TINO', 'SPACE STAR', '4 СЕРИИ', 'DELICA D:5', 'GOLF R', 'C-HR', 'GLA', 'BLUEBIRD SYLPHY', '190 (W201)', 'B-КЛАСС', 'E-TRON', 'CR-X', 'CR-Z', 'MARK X', 'HILUX SURF', 'G', 'PAJERO IO', 'GLS AMG', 'V90 CROSS COUNTRY', 'GT-R', 'LITE ACE', 'RS Q3', 'TT RS', 'SPRINTER TRUENO', 'COROLLA II', 'RS 5', 'G-КЛАСС AMG', 'A-КЛАСС', 'S-КЛАСС', 'X-TRAIL', '2 СЕРИИ GRAN TOURER', 'RS 3', 'SPACE WAGON', 'EK WAGON', 'C-КЛАСС AMG', 'RAV4', 'SLS AMG', 'I-MIEV', 'NV100 CLIPPER', 'GOLF PLUS', '190 SL', 'LAND CRUISER', 'CLA AMG', 'GLE AMG', 'V40 CROSS COUNTRY', 'AVENSIS VERSO', 'GOLF GTI', 'SPRINTER CARIB', 'N-BOX', 'GLE', 'CLS AMG', 'R-КЛАСС', 'WILL CYPHA', 'FABIA RS', 'CARINA ED', 'FJ CRUISER', 'CLK-КЛАСС', 'X3 M', 'SL-КЛАСС AMG', 'TOWN ACE', 'LANCER EVOLUTION', 'S60 CROSS COUNTRY', 'GLE COUPE', '6 СЕРИИ', 'ECLIPSE CROSS', '8 СЕРИИ', \"R'NESSA\", 'S-КЛАСС AMG', 'MEGA CRUISER', 'MAYBACH GLS', 'GLK-КЛАСС', 'A-КЛАСС AMG', 'Z3 M', 'M-КЛАСС AMG', 'E-КЛАСС AMG', 'CARAVAN', 'X6 M', 'SL-КЛАСС', 'CIVIC TYPE R', 'PAJERO PININ', 'SPACE GEAR', 'HR-V', 'A6 ALLROAD', 'SLK-КЛАСС', 'PAJERO SPORT', 'SLC', 'X4 M', 'DAYZ ROOX', 'MR-S', 'M-КЛАСС', 'C-КЛАСС', 'DELICA D:2', 'TERRANO REGULUS'},\n",
      "--\n",
      "Test has 544 unique items and has difference:\n",
      "{'2ACTIVETOURER', 'CR_Z', 'GRAND_HIACE', 'AVENSIS_VERSO', 'LM', 'G_KLASSE_AMG', 'CR_X', 'CLA_KLASSE', 'RSQ3', 'G_KLASSE', 'X5_M', 'GLE_KLASSE_AMG', 'GT_R', 'SPACE_GEAR', 'ALMERA_CLASSIC', 'C_KLASSE_AMG', 'I', '02', 'LAND_CRUISER_PRADO', 'CARAVAN_COACH', 'M1', 'CIVIC_TYPE_R', 'DELICA_D2', 'S_CLASS_MAYBACH', 'R_KLASSE', 'RS3', '140', 'RNESSA', 'VERSO_S', 'TT_RS', 'MARK_II', 'CAMRY_SOLARA', 'S_KLASSE_AMG', 'W201', '4', 'E_KLASSE_AMG', 'SCEPTER_SEDAN', '7ER', 'ALLROAD', 'Z3M', 'CL_KLASSE', 'CARINA_ED', 'CORONA_EXIV', 'SL_KLASSE', 'MONTERO_SPORT', 'SPACE_WAGON', 'LAND_CRUISER', 'SLR_KLASSE', 'COROLLA_SPACIO', 'E_TRON', 'CLC_KLASSE', 'SPRINTER_MARINO', 'GOLF_PLUS', 'GOLF_R', 'E_KLASSE', 'GLA_CLASS', 'TOWN_ACE', 'GLA_CLASS_AMG', 'FR_V', 'LANCER_RALLIART', 'V60_CROSS_COUNTRY', 'MAYBACH_GLS', 'POLO_GTI', 'DELICA_D_5', 'B_KLASSE', 'PAJERO_PININ', 'SPRINTER_TRUENO', 'N_BOX', 'X_TRAIL', 'PAJERO_MINI', 'MEGA_CRUISER', 'SPRINTER_CARIB', 'E3', 'SLC_KLASSE', 'S60_CROSS_COUNTRY', 'SPACE_STAR', 'MARK_X_ZIO', 'CLA_KLASSE_AMG', '2ER', 'COROLLA_LEVIN', 'C_KLASSE', 'GLE_KLASSE_COUPE', 'V90_CROSS_COUNTRY', 'FABIA_RS', 'C_HR', 'A_KLASSE_AMG', 'EK_WAGON', '8ER', 'LANCER_EVOLUTION', 'ECLIPSE_CROSS', 'AMG_GT', 'ALMERA_TINO', '100_SERIES', 'RS6', 'X4_M', 'JUKE_NISMO', 'S_KLASSE', 'PRIUSPLUS', '3ER', 'CLS_KLASSE', 'PASSAT_CC', 'RAV_4', 'GOLF_GTI', 'SIMPLEX', 'RS7', 'ODYSSEY_NA', 'RS5', '5ER', 'SERA', 'CR_V', 'M_KLASSE_AMG', 'SLS_AMG', 'POPULAR', '280ZX', 'CIVIC_FERIO', 'RS4', 'GLB_KLASSE', 'GLC_COUPE', 'YARIS_VERSO', 'GOLF_R32', '6ER', 'FJ_CRUISER', 'TYPE_1', 'SL_KLASSE_AMG', 'BLUEBIRD_SYLPHY', 'WILL_CYPHA', 'GL_KLASSE', 'NAVARA', 'LITE_ACE', 'N_WGN', 'SLK_KLASSE', 'DAYZ_ROOX', 'SPACE_RUNNER', 'GLK_KLASSE', 'CARINA_E', 'GLE_KLASSE', 'AMG_GLC_COUPE', 'OCTAVIA_RS', 'MARK_X', 'FAIRLADY_Z', 'GLS_KLASSE_AMG', 'COROLLA_VERSO', 'GLC_KLASSE', 'PRIUS_ALPHA', 'G35', 'GLC_KLASSE_AMG', 'PAJERO_SPORT', 'CL_KLASSE_AMG', '1ER', 'X6_M', 'CLK_KLASSE', 'I_MIEV', 'CLS_KLASSE_AMG', 'CROWN_MAJESTA', 'V_KLASSE', '190_SL', 'A4_ALLROAD', 'ORIGIN', '2GRANDTOURER', 'V40_CC', 'M_KLASSE', 'GLE_KLASSE_COUPE_AMG', 'COROLLA_RUMION', 'MR_S', 'QASHQAI_PLUS_2', 'CLIPPER', '240_SERIES', 'GLS_KLASSE', 'MOBILIO_SPIKE', '120', 'A_KLASSE', 'COROLLA_II', 'MASTER_ACE_SURF', 'STEPWAGON', 'X3_M', 'HILUX_SURF', 'PAJERO_IO', 'X_KLASSE', 'TERRANO_REGULUS', 'GL_KLASSE_AMG', 'HR_V'}.\n",
      "Test_set values:\n",
      "{'VIGOR', 'MATRIX', 'LM', 'A8', 'CR_X', 'G_KLASSE_AMG', 'SPRINTER', 'SPADE', 'PRESIDENT', 'S80', 'GLE_KLASSE_AMG', 'SUNNY', 'SABER', 'M1', 'DELICA_D2', 'ECLIPSE', 'PRIUS', 'NOAH', 'RC', 'MARK_II', 'LARGO', 'LEGEND', 'Z3M', 'KIX', 'X1', 'CROSSTOUR', 'CORONA_EXIV', 'BASSARA', 'NX', 'A7', 'MONTERO_SPORT', 'V70', 'COROLLA_SPACIO', 'M2', 'SUPRA', 'CLC_KLASSE', 'SPRINTER_MARINO', 'GOLF_PLUS', 'VITZ', 'GOLF_R', 'LX', 'GLA_CLASS', 'A4', 'GLA_CLASS_AMG', 'Q70', 'L300', 'POLO_GTI', 'GT86', 'PAJERO_PININ', 'ALMERA', 'MEGA_CRUISER', 'SPRINTER_CARIB', 'SLC_KLASSE', 'RVR', 'CT', 'COLT', 'S3', 'FUGA', 'VEROSSA', 'INSPIRE', 'GS', 'C_KLASSE', 'CIVIC', 'V90_CROSS_COUNTRY', 'C_HR', 'A_KLASSE_AMG', 'FUNCARGO', 'ATLAS', 'EK_WAGON', 'ECLIPSE_CROSS', 'ALMERA_TINO', 'TIIDA', '100_SERIES', 'Z4', 'AURIS', 'PRIUSPLUS', 'LAFESTA', 'CURREN', 'CARISMA', 'GOLF_GTI', 'ARMADA', 'FX', 'GLB_KLASSE', 'GOLF_R32', 'TYPE_1', 'SL_KLASSE_AMG', 'N_WGN', 'L400', 'S5', '740', 'S60', 'AMG_GLC_COUPE', 'VERSO', 'ES', 'GLS_KLASSE_AMG', 'ELGRAND', 'LIBERO', 'C70', 'G35', 'BLUEBIRD', 'HS', 'RACTIS', 'WISH', 'TT', 'AMAROK', 'W186', 'A4_ALLROAD', 'ORIGIN', 'M_KLASSE', 'MR_S', 'SKYLINE', 'PASSAT', '240_SERIES', 'V60', 'SEQUOIA', 'PULSAR', 'KAROQ', 'MONTERO', 'CONCERTO', 'BLADE', 'X_KLASSE', 'GOLF', 'GALANT', 'LIBERTY', 'CLA_KLASSE', 'AVALON', 'RSQ3', 'G_KLASSE', 'XC70', 'Z3', 'GT_R', 'ARTEON', 'ESTIMA', 'OCTAVIA', 'ELEMENT', 'SENTRA', 'MINICA', 'CARAVAN_COACH', 'ASPIRE', 'UX', 'W188', 'S_CLASS_MAYBACH', 'R_KLASSE', 'VANGUARD', '4RUNNER', 'CL_KLASSE', 'CARINA_ED', 'S90', 'PASSO', 'CORSA', 'SPACE_WAGON', 'E_TRON', 'LAUREL', 'POLO', 'URVAN', '960', 'CEDRIC', 'CROSSROAD', 'PRIMERA', 'MINICAB', 'IS', 'LANCER_RALLIART', 'PRESAGE', 'V40', 'SPRINTER_TRUENO', '100NX', 'PAJERO_MINI', 'S8', 'FABIA', 'CHARIOT', 'INSIGHT', 'COROLLA_LEVIN', 'A2', 'STAGEA', 'FORTUNER', 'BEETLE', 'AMG_GT', '100', 'AIRTREK', 'A6', 'X2', 'HIACE', 'JUKE_NISMO', 'S_KLASSE', 'TIGUAN', 'REGIUS', 'VANETTE', 'PASSAT_CC', 'S4', 'JUKE', 'MAXIMA', 'X5', 'SERA', 'CR_V', 'FREED', '760', '200', '280ZX', 'GLC_COUPE', 'DION', '6ER', 'FJ_CRUISER', 'VENTO', 'V8', 'TORNEO', 'SLK_KLASSE', 'HIGHLANDER', 'S70', 'DINGO', 'ALTIMA', 'CARINA_E', 'FAIRLADY_Z', 'FOX', 'RAPID', 'GLC_KLASSE', 'M4', 'PAJERO_SPORT', 'TARO', 'CLK_KLASSE', 'I_MIEV', 'CLS_KLASSE_AMG', 'ROOMSTER', 'CALIFORNIA', '190_SL', 'FIT', 'M', 'EXPERT', 'SHUTTLE', 'COROLLA_RUMION', 'CLIPPER', 'W111', 'LUPO', 'LANCER', 'ENDEAVOR', 'MOBILIO_SPIKE', '321', '440', 'R8', '460', 'SIGMA', 'PARTNER', 'SERENA', 'A_KLASSE', 'PROBOX', 'X3_M', 'QX56', 'TOURAN', 'HILUX_SURF', 'PROGRES', 'CORRADO', 'PAJERO_IO', 'VOXY', 'TERRANO_REGULUS', 'RIDGELINE', 'M5', 'W123', 'SCIROCCO', 'GRAND_HIACE', 'VANEO', 'S40', 'OUTLANDER', 'W114', 'SC', 'S7', 'A3', 'STREAM', 'FAVORIT', 'SPACE_GEAR', 'ALMERA_CLASSIC', 'GRANVIA', '02', '80', 'I3', 'Q50', 'TEANA', 'CIVIC_TYPE_R', 'WINGROAD', 'RS3', 'TT_RS', 'CAMRY_SOLARA', 'SPARKY', '7ER', 'SUCCEED', 'AIRWAVE', 'QX80', 'VISTA', 'LAND_CRUISER', 'I8', 'PATHFINDER', 'CRESTA', 'JX', 'TERCEL', 'FR_V', 'PICNIC', 'DELICA_D_5', 'B_KLASSE', 'W128', 'L200', 'PRAIRIE', 'E3', 'MARK_X_ZIO', 'SQ5', 'CLA_KLASSE_AMG', 'CUBE', 'NV200', 'CYNOS', '2ER', 'GLE_KLASSE_COUPE', 'TUNDRA', 'TRANSPORTER', 'HILUX', 'SHARAN', 'PILOT', 'VELLFIRE', '8ER', 'LANCER_EVOLUTION', 'RS6', 'SIENTA', 'X4_M', '3ER', 'TINO', 'EOS', 'ASX', '850', 'CARINA', 'ELYSION', 'EX', 'Q60', 'CITAN', 'RS7', 'ODYSSEY_NA', 'RS5', 'STARLET', 'SLS_AMG', 'Z', 'CIVIC_FERIO', 'RS4', 'QASHQAI', 'RAFAGA', 'KODIAQ', 'COUPE', 'GL_KLASSE', 'PORTE', 'WILL_CYPHA', 'SUPERB', 'SPACE_RUNNER', 'LEAF', 'ASCOT', 'Q', 'QX70', 'GLE_KLASSE', 'SAFARI', 'COROLLA_VERSO', 'W124', 'LS', 'CADDY', 'COROLLA', 'GLC_KLASSE_AMG', 'PREMIO', 'FTO', 'GLORIA', 'POINTER', 'QX30', 'CROWN_MAJESTA', 'Q8', 'Q30', '2GRANDTOURER', 'MIRAGE', 'V40_CC', 'V50', 'FELICIA', 'GLE_KLASSE_COUPE_AMG', 'JETTA', 'A5', 'QASHQAI_PLUS_2', 'GLS_KLASSE', 'ALLEX', 'EMERAUDE', 'RX', '200SX', 'COROLLA_II', 'DOMANI', 'STEPWAGON', 'NP300', 'HARRIER', 'ALPHARD', 'DELICA', 'WILL', 'HR_V', '350Z', '940', '2ACTIVETOURER', 'CR_Z', 'AVENSIS_VERSO', 'SILVIA', 'NOTE', 'AVENSIS', 'X5_M', 'ACTY', 'OTTI', 'AQUA', 'CEFIRO', 'I', 'C_KLASSE_AMG', 'LAND_CRUISER_PRADO', 'TOUAREG', 'CELICA', 'VEZEL', 'PATROL', 'BB', 'CORONA', 'X3', 'QX4', 'AVANCIER', 'AD', 'Q7', '140', 'RNESSA', 'VERSO_S', '340', 'TERRANO', 'S_KLASSE_AMG', 'W201', '4', 'E_KLASSE_AMG', 'SCEPTER_SEDAN', 'ALLROAD', 'PAJERO', 'X6', 'DUET', '90', 'YARIS', 'DIAMANTE', 'IST', 'SL_KLASSE', 'XC40', 'BORA', 'QX50', 'CITY', 'DATSUN', 'SLR_KLASSE', 'ISIS', 'SIENNA', 'E_KLASSE', 'LOGO', 'VIANO', 'IPSUM', 'TOWN_ACE', 'A1', 'QX60', 'PASEO', 'V60_CROSS_COUNTRY', 'MAYBACH_GLS', 'PRELUDE', 'PRESEA', 'Q5', 'N_BOX', 'X_TRAIL', 'S60_CROSS_COUNTRY', 'Q3', 'SPACE_STAR', 'MURANO', 'QUEST', 'IQ', 'CAMI', 'CAMRY', 'FABIA_RS', 'PLATZ', 'W136', '326', 'ORTHIA', 'PREVIA', 'WINDOM', 'CLS_KLASSE', 'INTEGRA', 'SOARER', 'GAIA', 'RAV_4', 'YETI', 'GX', 'VITO', 'SIMPLEX', '5ER', 'AVENIR', 'MICRA', '300ZX', 'M_KLASSE_AMG', 'CROWN', 'OPA', 'POPULAR', 'YARIS_VERSO', 'CHASER', 'BLUEBIRD_SYLPHY', 'Z1', 'NAVARA', 'DAYZ', 'LITE_ACE', 'DAYZ_ROOX', 'S2000', 'XC90', 'X4', 'JAZZ', 'MOBILIO', 'GLK_KLASSE', 'OCTAVIA_RS', 'ESQUIRE', 'MARK_X', 'M3', 'MR2', 'PRIUS_ALPHA', 'C30', 'X7', 'AYGO', 'CL_KLASSE_AMG', 'CALDINA', 'GRANDIS', 'LEGNUM', '1ER', 'X6_M', 'MULTIVAN', 'V_KLASSE', 'ALTEZZA', 'M6', 'MARCH', 'ARISTO', 'CARAVELLE', 'TERAMONT', 'S6', 'TTS', 'EUROVAN', '920', 'ZEST', 'PHAETON', 'ACCORD', 'ODYSSEY', '120', 'MASTER_ACE_SURF', 'NADIA', 'XC60', 'ECHO', 'GL_KLASSE_AMG', 'RAUM', 'VENZA', 'CAVALIER'}\n"
     ]
    }
   ],
   "source": [
    "vector_items('model_name')"
   ],
   "metadata": {
    "collapsed": false,
    "pycharm": {
     "name": "#%%\n"
    }
   }
  },
  {
   "cell_type": "markdown",
   "source": [
    "Model name has different filling format. Example is above. I prefer to make equal names from urls, because they are didn't mutate in time, and delete model name from analise."
   ],
   "metadata": {
    "collapsed": false
   }
  },
  {
   "cell_type": "code",
   "execution_count": 187,
   "outputs": [],
   "source": [
    "# example: https://auto.ru/cars/used/sale/audi/a4/1106130217-e5fd99e4/\n",
    "# /audi/a4 - brand and model\n",
    "train['model'] = train.car_url.apply(lambda q: q.split('/')[7])\n",
    "test['model'] = test.car_url.apply(lambda q: q.split('/')[7])"
   ],
   "metadata": {
    "collapsed": false,
    "pycharm": {
     "name": "#%%\n"
    }
   }
  },
  {
   "cell_type": "code",
   "execution_count": 188,
   "outputs": [
    {
     "name": "stdout",
     "output_type": "stream",
     "text": [
      "Statistics of items in vector: model.\n",
      " ---------------------------\n",
      "Train has 532 unique items and has difference:\n",
      "set(),\n",
      "--\n",
      "Test has 544 unique items and has difference:\n",
      "{'golf_r32', '280zx', '140', 'popular', 'sera', '120', 'simplex', 'e3', '100_series', 'lm', 'i', 'origin'}.\n",
      "Test_set values:\n",
      "{'fabia_rs', 'partner', 'wish', 'r_klasse', 'succeed', 'airwave', 'w124', 'kodiaq', 'n_wgn', 'corolla', 'felicia', 'echo', 'carisma', 'zest', 'nv200', 'gaia', '8er', 'pulsar', 'golf_r32', 'safari', 'karoq', 'tundra', 'corsa', 'march', 'caldina', 'vezel', 'touareg', 'town_ace', 'sls_amg', 'w123', 'z', 'jx', 'phaeton', 'qx80', 'gle_klasse_amg', 'a3', 'montero_sport', 's2000', 'legend', 'serena', 'roomster', 'q', 'california', 'kix', 'i_miev', 'glc_coupe', 'pajero_sport', '100_series', 'a2', 'corolla_rumion', 's_klasse', 'w128', 'diamante', 'golf', 'a6', 's4', 'gx', 'matrix', 'x5_m', 'celica', 'vento', 'popular', 'fabia', 'camry', 'cls_klasse_amg', 'v90_cross_country', 'q5', 'q60', 'fx', 'hs', 'datsun', 'ascot', 'hilux', 'q8', 'ls', 'vanette', 'np300', 'mark_x_zio', 'passat_cc', 's3', '2er', 'starlet', 'golf_r', 'origin', 'leaf', 'caravan_coach', 'ct', 'v8', 'amg_glc_coupe', 'ux', 'shuttle', 'lm', 'ek_wagon', 'voxy', 'ist', 'cl_klasse', '740', 'viano', 'c_klasse_amg', 'picnic', 'a4_allroad', 'space_star', 'x1', 'juke', 'tts', 'land_cruiser', 'qx56', 'gla_class', 'space_wagon', 'ex', 'crown_majesta', 'pajero', 'rsq3', 'x_klasse', 'soarer', '190_sl', 'gt_r', 'stepwagon', 'avancier', '2grandtourer', 'q70', 'prelude', 'gl_klasse', 'camry_solara', 'minica', 's_klasse_amg', 'torneo', 'rs4', 'bluebird', 'slk_klasse', 'qx70', 'dion', 'glc_klasse', 'concerto', 'mirage', 'pointer', 'touran', 'm3', 'patrol', 'rs3', 'i8', 'yeti', 'tt', 'g_klasse', 'teramont', 'qx30', 'civic_type_r', 'pilot', 'airtrek', 'cla_klasse', 'auris', 'blade', 'corolla_spacio', 'cavalier', 'fj_cruiser', 'land_cruiser_prado', 'gls_klasse', 'inspire', 'skyline', 'funcargo', 'bassara', 'eclipse', 's6', 'coupe', '200sx', 'm2', 'verso_s', 's60', '3er', 'mr2', 'n_box', 'cedric', 'm5', '300zx', 'v40_cc', 'cube', 'almera_classic', 'qx60', 'v60_cross_country', 'maxima', 'domani', 'armada', 'lafesta', 's80', 'avensis', 'qashqai', 'x7', '960', 'rx', 'corolla_verso', 'is', 'endeavor', 'a7', 'micra', 'opa', 'golf_plus', 's40', 'w188', 'e3', 'fto', 's7', 'type_1', 'sienta', 'lite_ace', 'sprinter_carib', 'carina', 'x3_m', 'm', '100', '100nx', 'q30', 'cefiro', 'c_klasse', 'yaris', 'mobilio_spike', 'x_trail', 'tt_rs', 'mark_x', 'carina_e', 'g35', 'maybach_gls', '760', 'minicab', '200', 'lancer', 'space_runner', 'porte', 'delica_d_5', 'v50', 'fox', 'c_hr', 'civic_ferio', 'w111', 'caddy', 'fuga', 'e_tron', 'orthia', 'nx', 'montero', 'xc60', 'prairie', 'sigma', '2activetourer', 'clc_klasse', 'vista', 's90', 'carina_ed', 'verossa', 'mobilio', 'odyssey_na', 'teana', 'bluebird_sylphy', '321', '440', '460', 'gloria', 'glb_klasse', 'asx', '350z', 'bb', 'gls_klasse_amg', 'murano', 'jazz', 'tiguan', 'golf_gti', 'otti', 'raum', 'z4', 'ridgeline', 'element', 'regius', 'qashqai_plus_2', 'sunny', 'e_klasse', 'l200', '02', 'pajero_mini', 'delica', 'aqua', 'hiace', '80', 'rs5', 'juke_nismo', 'iq', 'aspire', 'tino', 'will_cypha', 'freed', 'citan', 'gle_klasse_coupe_amg', 'x5', 'gs', 'favorit', 's8', 'glc_klasse_amg', 'ipsum', 'stagea', 'clipper', 'dayz_roox', 'premio', 'm6', 'elgrand', 'duet', 'progres', 'corona_exiv', 'passo', 'clk_klasse', 'beetle', 'space_gear', 'colt', 'vito', 'rapid', 'cami', 'slc_klasse', 'wingroad', 'amarok', 'pathfinder', 'lupo', 'sienna', 'mark_ii', 'altima', 'fairlady_z', 'avalon', 'i', 'm_klasse', 'b_klasse', 'altezza', 'x4', 'libero', 'cla_klasse_amg', 'paseo', 'isis', 'crosstour', 'rc', 'l400', 'sq5', 'lx', 'rs6', 's70', 'xc90', '850', 'hilux_surf', 'a5', 'octavia_rs', 'verso', 'nadia', 'corrado', 'gle_klasse', 'cresta', 'master_ace_surf', 'grandis', 'harrier', 'x2', 'qx50', 'pajero_pinin', 'delica_d2', 'cls_klasse', 'almera', 'g_klasse_amg', 'eurovan', 'w201', 'integra', 'liberty', 'sequoia', 'xc40', 'polo', 'w136', 's_class_maybach', 'mr_s', 'glk_klasse', 'city', 'navara', 'octavia', 'm1', 'noah', 'prius', 'x6', 'terrano_regulus', 'vaneo', 'slr_klasse', 'sharan', 'aygo', 'cr_v', 'gl_klasse_amg', 'c30', 'xc70', 'q3', 'outlander', 'yaris_verso', 'q50', 'avensis_verso', 'z1', 'emeraude', '940', 'cr_z', 'arteon', 'ad', 'superb', 'v40', 'polo_gti', 's5', 'sprinter_trueno', 'a8', 'crown', '6er', 'sparky', 'a_klasse', 'urvan', 'w114', 'esquire', 'passat', 'multivan', 'eos', 'a4', 'c70', 'rnessa', 'hr_v', 'will', 'prius_alpha', 'l300', 'highlander', 'spade', '140', 'sprinter_marino', '340', 'tiida', 'x3', '4', 'alphard', 'priusplus', 'granvia', 'avenir', '90', 'corolla_ii', 'bora', 'lancer_evolution', 'caravelle', 'previa', 'm4', 'dingo', 'mega_cruiser', 'v_klasse', 's60_cross_country', 'odyssey', 'rs7', 'primera', 'simplex', '4runner', 'presage', 'insight', 'scepter_sedan', 'pajero_io', 'allex', 'platz', 'a_klasse_amg', '5er', 'vigor', 'gt86', 'amg_gt', 'allroad', 'sc', 'eclipse_cross', 'note', 'laurel', '1er', 'lancer_ralliart', 'corolla_levin', 'es', 'civic', 'dayz', 'z3m', '326', 'scirocco', 'largo', 'logo', 'acty', 'm_klasse_amg', 'fortuner', 'sentra', 'probox', 'rafaga', 'sera', 'a1', 'e_klasse_amg', 'cynos', 'elysion', 'sprinter', 'transporter', '7er', 'w186', 'corona', 'tercel', 'expert', 'r8', 'silvia', 'chariot', 'venza', 'grand_hiace', 'x4_m', 'rvr', 'saber', 'vellfire', 'vanguard', 'curren', 'terrano', 'rav_4', 'estima', 'stream', 'x6_m', '280zx', 'i3', 'sl_klasse', 'fit', 'crossroad', 'v60', 'z3', 'accord', 'fr_v', 'ractis', 'cl_klasse_amg', 'almera_tino', 'qx4', 'gla_class_amg', 'galant', '920', '240_series', 'president', 'cr_x', '120', 'aristo', 'windom', 'q7', 'taro', 'v70', 'sl_klasse_amg', 'chaser', 'supra', 'quest', 'jetta', 'presea', 'vitz', 'legnum', 'gle_klasse_coupe', 'atlas'}\n"
     ]
    }
   ],
   "source": [
    "vector_items('model')"
   ],
   "metadata": {
    "collapsed": false,
    "pycharm": {
     "name": "#%%\n"
    }
   }
  },
  {
   "cell_type": "markdown",
   "source": [
    "---\n",
    "### resume:\n",
    "Vectors 'model_name' and 'name' is very garbage. May be it will be worth to drop them and to use only\n",
    "vectors 'brand' and 'model'\n"
   ],
   "metadata": {
    "collapsed": false
   }
  },
  {
   "cell_type": "markdown",
   "source": [
    "---\n",
    "## 2.3. color"
   ],
   "metadata": {
    "collapsed": false
   }
  },
  {
   "cell_type": "code",
   "execution_count": 189,
   "outputs": [
    {
     "name": "stdout",
     "output_type": "stream",
     "text": [
      "Statistics of items in vector: color.\n",
      " ---------------------------\n",
      "Train has 16 unique items and has difference:\n",
      "set(),\n",
      "--\n",
      "Test has 16 unique items and has difference:\n",
      "set().\n",
      "Test_set values:\n",
      "{'серый', 'серебристый', 'белый', 'бежевый', 'чёрный', 'жёлтый', 'голубой', 'оранжевый', 'золотистый', 'коричневый', 'зелёный', 'фиолетовый', 'розовый', 'пурпурный', 'красный', 'синий'}\n"
     ]
    }
   ],
   "source": [
    "vector_items('color')"
   ],
   "metadata": {
    "collapsed": false,
    "pycharm": {
     "name": "#%%\n"
    }
   }
  },
  {
   "cell_type": "markdown",
   "source": [
    "The color - is OK."
   ],
   "metadata": {
    "collapsed": false
   }
  },
  {
   "cell_type": "markdown",
   "source": [
    "---\n",
    "## 2.4. engineDisplacement, fuelType"
   ],
   "metadata": {
    "collapsed": false
   }
  },
  {
   "cell_type": "markdown",
   "source": [
    "Resume for following code:\n",
    "\n",
    "1. Rename some long values in train dataset. May by it is worth to delete them, because in test dataset we haven't the same car fuel type?\n",
    "2. Electro-car has no engine displacement. This vectors in train and test datasets filled in different ways. So I need to make some new vector with engine fuel-type-capacity for classification in one vector. For electro-cars - capacity will by power in kVt.\n",
    "3. For ML I transform vector 'enginePower', leaving only power in horse value in numeric format.\n",
    "4. In vector engineDisplacement reoplace english tail 'LTR' for russian 'л'."
   ],
   "metadata": {
    "collapsed": false
   }
  },
  {
   "cell_type": "code",
   "execution_count": 190,
   "outputs": [
    {
     "name": "stdout",
     "output_type": "stream",
     "text": [
      "Statistics of items in vector: fuelType.\n",
      " ---------------------------\n",
      "Train has 9 unique items and has difference:\n",
      "{'Газ, газобаллонное оборудование', 'Газ', 'Гибрид, газобаллонное оборудование', 'Дизель', 'Бензин', 'Бензин, газобаллонное оборудование', 'Дизель, газобаллонное оборудование', 'Гибрид', 'Электро'},\n",
      "--\n",
      "Test has 5 unique items and has difference:\n",
      "{'бензин', 'электро', 'дизель', 'гибрид', 'газ'}.\n",
      "Test_set values:\n",
      "{'бензин', 'электро', 'гибрид', 'дизель', 'газ'}\n"
     ]
    }
   ],
   "source": [
    "vector_items('fuelType')"
   ],
   "metadata": {
    "collapsed": false,
    "pycharm": {
     "name": "#%%\n"
    }
   }
  },
  {
   "cell_type": "code",
   "execution_count": 191,
   "outputs": [],
   "source": [
    "# replace long name ', газобаллонное оборудование' on '-гбо' and make all letters lower case\n",
    "train.fuelType = train.fuelType.str.replace(', газобаллонное оборудование', '-гбо')\n",
    "train.fuelType = train.fuelType.str.lower()"
   ],
   "metadata": {
    "collapsed": false,
    "pycharm": {
     "name": "#%%\n"
    }
   }
  },
  {
   "cell_type": "code",
   "execution_count": 192,
   "outputs": [
    {
     "name": "stdout",
     "output_type": "stream",
     "text": [
      "Statistics of items in vector: fuelType.\n",
      " ---------------------------\n",
      "Train has 9 unique items and has difference:\n",
      "{'гибрид-гбо', 'бензин-гбо', 'дизель-гбо', 'газ-гбо'},\n",
      "--\n",
      "Test has 5 unique items and has difference:\n",
      "set().\n",
      "Test_set values:\n",
      "{'бензин', 'электро', 'гибрид', 'дизель', 'газ'}\n"
     ]
    }
   ],
   "source": [
    "vector_items('fuelType')"
   ],
   "metadata": {
    "collapsed": false,
    "pycharm": {
     "name": "#%%\n"
    }
   }
  },
  {
   "cell_type": "code",
   "execution_count": 193,
   "outputs": [],
   "source": [
    "\"\"\" function to take only numeric data from string\"\"\"\n",
    "def find_number(field: str):\n",
    "    \"\"\"\n",
    "    :param field: string to find number\n",
    "    :return: number (in string format)\n",
    "    \"\"\"\n",
    "\n",
    "    # mask for search\n",
    "    p = '[\\d]+[.,\\d]+|[\\d]*[.][\\d]+|[\\d]+'\n",
    "\n",
    "    # main cycle for searching\n",
    "    if re.search(p, field) is not None:\n",
    "        for catch in re.finditer(p, field):\n",
    "            return catch[0]"
   ],
   "metadata": {
    "collapsed": false,
    "pycharm": {
     "name": "#%%\n"
    }
   }
  },
  {
   "cell_type": "markdown",
   "source": [
    "In fact, electro-cars have no engine displacement.\n",
    "In datasets vector 'engineDisplacement' electro-cars records have different filling.\n",
    "In test dataset vector 'engineDisplacement' filled with *'LTR'*, in train dataset - they filled with *horse power value*.\n",
    "in test dataset vector 'enginePower' filled with *horse power value*, in train dataset - with *kVt power value*\n",
    "\n",
    "We need to make something uniform. So we will make new vector 'engineName' as mask ['fuelType'+' '+'engineDisplacement'] for non-electro and ['fuelType'+' '+ kVt power value] for electro cars."
   ],
   "metadata": {
    "collapsed": false
   }
  },
  {
   "cell_type": "code",
   "execution_count": 194,
   "outputs": [
    {
     "data": {
      "text/plain": "{109: 80,\n 115: 85,\n 136: 100,\n 150: 110,\n 154: 113,\n 170: 125,\n 179: 132,\n 184: 135,\n 218: 160,\n 313: 230,\n 408: 300,\n 41: 30,\n 64: 47,\n 67: 49,\n 74: 100}"
     },
     "execution_count": 194,
     "metadata": {},
     "output_type": "execute_result"
    }
   ],
   "source": [
    "# make the dict from pairs (horse power, kVt power)\n",
    "kvt=dict()\n",
    "\n",
    "qq = train[train.fuelType == 'электро'].groupby(['engineDisplacement', 'enginePower'])['enginePower'].count()\n",
    "qq = qq.to_dict()\n",
    "for item, value in qq.keys():\n",
    "    kvt[int(find_number(item))] = int(find_number(value))\n",
    "kvt"
   ],
   "metadata": {
    "collapsed": false,
    "pycharm": {
     "name": "#%%\n"
    }
   }
  },
  {
   "cell_type": "code",
   "execution_count": 195,
   "outputs": [],
   "source": [
    "\"\"\" function to make new uniform vector of type of engine as mentioned above\"\"\"\n",
    "def engineDisplacement(record):\n",
    "    \"\"\"\n",
    "    :param record: raw from dataset\n",
    "    :return: value for new vector\n",
    "    \"\"\"\n",
    "\n",
    "    # case of gasoline and diesel\n",
    "    if record.fuelType != 'электро':\n",
    "        result = record.fuelType + ' ' + find_number(record.engineDisplacement)\n",
    "\n",
    "    # case of electro\n",
    "    else:\n",
    "        # case for train dataset, where we have filled vector engineDisplacement, so we can take kVt power direct\n",
    "        if find_number(record.engineDisplacement):\n",
    "            result = record.fuelType + ' ' + find_number(record.enginePower)\n",
    "\n",
    "        # case for test dataset, where we only have horse power filling\n",
    "        else:\n",
    "            value_kvt = int(record.enginePower.split()[0])\n",
    "            try:\n",
    "                # use dict to find value of kVt power from horse power\n",
    "                value_kvt = str(kvt[value_kvt])\n",
    "\n",
    "            # someone we don't have value of kVt power, so we leave just 'электро'\n",
    "            except:\n",
    "                value_kvt = ''\n",
    "\n",
    "            result = record.fuelType + ' ' + str(value_kvt)\n",
    "\n",
    "    return result"
   ],
   "metadata": {
    "collapsed": false,
    "pycharm": {
     "name": "#%%\n"
    }
   }
  },
  {
   "cell_type": "code",
   "execution_count": 196,
   "outputs": [],
   "source": [
    "train['engineName'] = train.apply(engineDisplacement, axis=1)\n",
    "test['engineName'] = test.apply(engineDisplacement, axis=1)"
   ],
   "metadata": {
    "collapsed": false,
    "pycharm": {
     "name": "#%%\n"
    }
   }
  },
  {
   "cell_type": "code",
   "execution_count": 197,
   "outputs": [
    {
     "name": "stdout",
     "output_type": "stream",
     "text": [
      "Statistics of items in vector: engineName.\n",
      " ---------------------------\n",
      "Train has 158 unique items and has difference:\n",
      "{'бензин-гбо 3.7', 'газ-гбо 1.8', 'бензин-гбо 4.8', 'электро 100', 'дизель-гбо 2.8', 'газ 2.0', 'газ-гбо 2.0', 'гибрид-гбо 3.5', 'бензин-гбо 3.2', 'бензин-гбо 1.5', 'гибрид-гбо 3.3', 'бензин-гбо 3.0', 'дизель 1.8', 'газ-гбо 1.4', 'бензин-гбо 4.6', 'бензин-гбо 5.7', 'бензин-гбо 2.2', 'бензин-гбо 4.0', 'бензин-гбо 2.0', 'дизель-гбо 3.0', 'бензин-гбо 4.4', 'бензин-гбо 2.5', 'бензин-гбо 5.6', 'электро 47', 'бензин-гбо 1.6', 'электро 113', 'бензин-гбо 2.8', 'бензин-гбо 3.4', 'гибрид-гбо 1.3', 'бензин-гбо 3.6', 'бензин-гбо 1.4', 'бензин-гбо 3.5', 'бензин-гбо 6.0', 'бензин-гбо 2.4', 'бензин-гбо 3.8', 'бензин-гбо 1.3', 'бензин-гбо 1.8', 'бензин-гбо 4.7', 'электро 230', 'бензин-гбо 3.3', 'бензин-гбо 5.5', 'газ 1.8', 'бензин-гбо 4.3', 'бензин-гбо 2.6', 'бензин-гбо 4.5', 'дизель-гбо 4.5', 'гибрид 1.4', 'дизель 3.3', 'бензин-гбо 5.0', 'бензин-гбо 2.1', 'бензин-гбо 2.9', 'бензин-гбо 1.7', 'электро 135', 'бензин-гбо 1.9', 'бензин-гбо 4.2', 'электро 160', 'электро 30', 'бензин-гбо 2.3', 'бензин-гбо 2.7'},\n",
      "--\n",
      "Test has 100 unique items and has difference:\n",
      "{'бензин 5.3'}.\n",
      "Test_set values:\n",
      "{'бензин 4.8', 'бензин 4.5', 'бензин 3.3', 'бензин 5.0', 'бензин 3.7', 'бензин 1.3', 'дизель 2.1', 'электро 125', 'дизель 1.9', 'дизель 2.2', 'дизель 5.9', 'бензин 5.2', 'дизель 4.5', 'дизель 4.9', 'газ 1.4', 'бензин 3.4', 'бензин 5.6', 'бензин 1.6', 'дизель 2.3', 'гибрид 3.5', 'бензин 4.7', 'электро 300', 'бензин 2.6', 'бензин 5.7', 'дизель 4.0', 'дизель 3.9', 'гибрид 1.8', 'бензин 5.5', 'дизель 4.1', 'бензин 5.3', 'бензин 1.1', 'дизель 2.0', 'дизель 1.7', 'бензин 2.9', 'бензин 4.1', 'бензин 1.0', 'бензин 2.7', 'дизель 2.7', 'бензин 3.2', 'бензин 1.9', 'гибрид 1.5', 'бензин 3.8', 'бензин 4.6', 'бензин 3.0', 'гибрид 2.0', 'дизель 1.2', 'бензин 6.0', 'гибрид 2.5', 'дизель 1.6', 'бензин 2.4', 'электро 80', 'гибрид 5.0', 'бензин 1.2', 'бензин 4.0', 'гибрид 2.4', 'бензин 3.5', 'электро 132', 'бензин 2.1', 'бензин 1.8', 'бензин 4.9', 'бензин 1.4', 'электро 110', 'дизель 2.4', 'дизель 4.2', 'бензин 4.2', 'дизель 2.5', 'дизель 4.4', 'гибрид 3.0', 'гибрид 3.3', 'бензин 2.8', 'бензин 1.5', 'дизель 2.9', 'дизель 1.5', 'гибрид 1.3', 'дизель 3.4', 'бензин 5.8', 'дизель 2.8', 'дизель 1.4', 'бензин 4.4', 'гибрид 4.4', 'бензин 6.3', 'бензин 1.7', 'бензин 3.1', 'электро 49', 'электро 85', 'бензин 2.5', 'бензин 5.4', 'дизель 3.5', 'бензин 2.3', 'гибрид 0.7', 'бензин 6.6', 'бензин 2.2', 'бензин 0.7', 'гибрид 1.2', 'бензин 2.0', 'дизель 3.2', 'дизель 3.0', 'бензин 3.6', 'бензин 4.3', 'бензин 6.2'}\n"
     ]
    }
   ],
   "source": [
    "vector_items('engineName')"
   ],
   "metadata": {
    "collapsed": false,
    "pycharm": {
     "name": "#%%\n"
    }
   }
  },
  {
   "cell_type": "code",
   "execution_count": 198,
   "outputs": [],
   "source": [
    "test.enginePower = test.enginePower.str.replace('N12', 'л.с.')"
   ],
   "metadata": {
    "collapsed": false,
    "pycharm": {
     "name": "#%%\n"
    }
   }
  },
  {
   "cell_type": "code",
   "execution_count": 199,
   "outputs": [],
   "source": [
    "train['enginePowerValue'] = train.enginePower\n",
    "test['enginePowerValue'] = test.enginePower"
   ],
   "metadata": {
    "collapsed": false,
    "pycharm": {
     "name": "#%%\n"
    }
   }
  },
  {
   "cell_type": "code",
   "execution_count": 200,
   "outputs": [],
   "source": [
    "def enginePowerExchange(record):\n",
    "    if record.enginePower.split()[1] == 'кВт':\n",
    "        result = find_number(record.engineDisplacement)\n",
    "    else:\n",
    "        result = find_number(record.enginePower)\n",
    "    return result"
   ],
   "metadata": {
    "collapsed": false,
    "pycharm": {
     "name": "#%%\n"
    }
   }
  },
  {
   "cell_type": "code",
   "execution_count": 201,
   "outputs": [],
   "source": [
    "train.enginePower = train.apply(enginePowerExchange, axis=1)\n",
    "test.enginePower = test.apply(enginePowerExchange, axis=1)"
   ],
   "metadata": {
    "collapsed": false,
    "pycharm": {
     "name": "#%%\n"
    }
   }
  },
  {
   "cell_type": "code",
   "execution_count": 202,
   "outputs": [],
   "source": [
    "train.enginePower = train.enginePower.apply(int)\n",
    "test.enginePower = test.enginePower.apply(int)"
   ],
   "metadata": {
    "collapsed": false,
    "pycharm": {
     "name": "#%%\n"
    }
   }
  },
  {
   "cell_type": "code",
   "execution_count": 203,
   "outputs": [
    {
     "name": "stdout",
     "output_type": "stream",
     "text": [
      "Statistics of items in vector: enginePower.\n",
      " ---------------------------\n",
      "Train has 329 unique items and has difference:\n",
      "{134, 274, 537, 410, 670, 415, 161, 34, 417, 41, 299, 176, 564, 314, 187, 700, 448, 449, 456, 206, 344, 89, 237, 503},\n",
      "--\n",
      "Test has 315 unique items and has difference:\n",
      "{32, 195, 550, 487, 457, 42, 44, 430, 214, 30}.\n",
      "Test_set values:\n",
      "{30, 32, 38, 40, 42, 44, 46, 48, 49, 50, 51, 52, 53, 54, 55, 57, 58, 60, 61, 64, 65, 66, 67, 68, 69, 70, 71, 72, 73, 74, 75, 76, 77, 78, 79, 80, 82, 83, 84, 85, 86, 87, 88, 90, 91, 92, 93, 94, 95, 96, 97, 98, 99, 100, 101, 102, 103, 104, 105, 106, 107, 108, 109, 110, 111, 112, 113, 114, 115, 116, 117, 118, 120, 121, 122, 124, 125, 126, 127, 128, 129, 130, 131, 132, 133, 135, 136, 137, 139, 140, 141, 142, 143, 144, 145, 146, 147, 148, 149, 150, 151, 152, 154, 155, 156, 157, 158, 159, 160, 162, 163, 164, 165, 166, 167, 168, 169, 170, 171, 173, 174, 175, 177, 178, 179, 180, 181, 182, 183, 184, 185, 186, 188, 189, 190, 192, 193, 194, 195, 197, 199, 200, 201, 202, 203, 204, 205, 208, 209, 210, 211, 212, 213, 214, 215, 218, 219, 220, 221, 222, 223, 224, 225, 227, 228, 230, 231, 232, 233, 234, 235, 238, 239, 240, 241, 242, 243, 245, 247, 248, 249, 250, 252, 254, 255, 256, 257, 258, 260, 262, 263, 264, 265, 266, 268, 269, 270, 271, 272, 273, 275, 276, 277, 278, 279, 280, 281, 282, 283, 284, 285, 286, 288, 290, 292, 294, 295, 296, 300, 301, 302, 303, 304, 305, 306, 307, 309, 310, 313, 315, 316, 317, 318, 320, 321, 324, 325, 326, 328, 329, 330, 333, 335, 338, 340, 343, 347, 350, 354, 355, 360, 367, 370, 372, 380, 381, 382, 383, 387, 388, 390, 394, 400, 401, 402, 405, 407, 408, 420, 421, 422, 430, 431, 435, 445, 450, 455, 457, 460, 462, 469, 476, 480, 485, 487, 500, 507, 510, 514, 517, 520, 522, 525, 530, 540, 544, 550, 555, 557, 558, 560, 571, 575, 580, 585, 591, 600, 605, 609, 610, 612, 625, 626, 630, 639}\n"
     ]
    }
   ],
   "source": [
    "vector_items('enginePower')"
   ],
   "metadata": {
    "collapsed": false,
    "pycharm": {
     "name": "#%%\n"
    }
   }
  },
  {
   "cell_type": "code",
   "execution_count": 204,
   "outputs": [
    {
     "name": "stdout",
     "output_type": "stream",
     "text": [
      "Statistics of items in vector: engineDisplacement.\n",
      " ---------------------------\n",
      "Train has 68 unique items and has difference:\n",
      "{'2.6 л', '408 л.с.', '136 л.с.', '5.0 л', '0.7 л', '5.9 л', '2.4 л', '6.0 л', '313 л.с.', '3.6 л', '5.7 л', '1.4 л', '4.3 л', '74 л.с.', '1.0 л', '154 л.с.', '3.0 л', '1.9 л', '4.6 л', '4.2 л', '1.5 л', '5.2 л', '5.6 л', '2.9 л', '1.7 л', '3.4 л', '3.7 л', '4.9 л', '184 л.с.', '2.1 л', '2.5 л', '64 л.с.', '218 л.с.', '4.1 л', '5.8 л', '3.8 л', '6.3 л', '6.2 л', '6.6 л', '170 л.с.', '4.5 л', '1.3 л', '115 л.с.', '3.3 л', '41 л.с.', '1.6 л', '2.7 л', '2.2 л', '2.8 л', '5.4 л', '3.2 л', '1.8 л', '67 л.с.', '5.5 л', '1.2 л', '4.0 л', '150 л.с.', '109 л.с.', '2.0 л', '4.7 л', '1.1 л', '4.4 л', '4.8 л', '179 л.с.', '3.1 л', '3.5 л', '3.9 л', '2.3 л'},\n",
      "--\n",
      "Test has 55 unique items and has difference:\n",
      "{'5.7 LTR', '2.9 LTR', '1.2 LTR', '1.0 LTR', '1.5 LTR', '6.2 LTR', '2.6 LTR', '4.3 LTR', '5.5 LTR', '5.4 LTR', '1.1 LTR', '1.8 LTR', '3.3 LTR', '3.9 LTR', '2.7 LTR', '2.3 LTR', '4.2 LTR', '1.6 LTR', '5.0 LTR', '2.4 LTR', '3.6 LTR', '4.7 LTR', '1.9 LTR', ' LTR', '5.3 LTR', '4.4 LTR', '2.5 LTR', '5.6 LTR', '0.7 LTR', '4.9 LTR', '3.7 LTR', '4.6 LTR', '4.0 LTR', '3.1 LTR', '6.0 LTR', '2.2 LTR', '1.7 LTR', '3.2 LTR', '3.5 LTR', '6.3 LTR', '1.3 LTR', '2.0 LTR', '1.4 LTR', '4.1 LTR', '2.1 LTR', '3.8 LTR', '4.5 LTR', '4.8 LTR', '5.8 LTR', '3.4 LTR', '2.8 LTR', '5.9 LTR', '5.2 LTR', '3.0 LTR', '6.6 LTR'}.\n",
      "Test_set values:\n",
      "{'2.9 LTR', '1.2 LTR', '1.0 LTR', '5.7 LTR', '1.5 LTR', '6.2 LTR', '2.6 LTR', '4.3 LTR', '5.5 LTR', '5.4 LTR', '1.1 LTR', '1.8 LTR', '3.3 LTR', '3.9 LTR', '2.7 LTR', '2.3 LTR', '4.2 LTR', '1.6 LTR', '5.0 LTR', '2.4 LTR', '3.6 LTR', '4.7 LTR', '1.9 LTR', ' LTR', '5.3 LTR', '4.4 LTR', '2.5 LTR', '5.6 LTR', '0.7 LTR', '4.9 LTR', '3.7 LTR', '4.6 LTR', '4.0 LTR', '3.1 LTR', '6.0 LTR', '2.2 LTR', '1.7 LTR', '3.2 LTR', '3.5 LTR', '6.3 LTR', '1.3 LTR', '2.0 LTR', '1.4 LTR', '4.1 LTR', '2.1 LTR', '3.8 LTR', '4.5 LTR', '4.8 LTR', '5.8 LTR', '5.2 LTR', '3.4 LTR', '2.8 LTR', '5.9 LTR', '3.0 LTR', '6.6 LTR'}\n"
     ]
    }
   ],
   "source": [
    "vector_items('engineDisplacement')"
   ],
   "metadata": {
    "collapsed": false,
    "pycharm": {
     "name": "#%%\n"
    }
   }
  },
  {
   "cell_type": "code",
   "execution_count": 205,
   "outputs": [],
   "source": [
    "test.engineDisplacement = test.engineDisplacement.str.replace('LTR', 'л')"
   ],
   "metadata": {
    "collapsed": false,
    "pycharm": {
     "name": "#%%\n"
    }
   }
  },
  {
   "cell_type": "code",
   "execution_count": 206,
   "outputs": [
    {
     "name": "stdout",
     "output_type": "stream",
     "text": [
      "Statistics of items in vector: engineDisplacement.\n",
      " ---------------------------\n",
      "Train has 68 unique items and has difference:\n",
      "{'109 л.с.', '408 л.с.', '41 л.с.', '136 л.с.', '184 л.с.', '313 л.с.', '64 л.с.', '218 л.с.', '67 л.с.', '179 л.с.', '74 л.с.', '154 л.с.', '115 л.с.', '170 л.с.', '150 л.с.'},\n",
      "--\n",
      "Test has 55 unique items and has difference:\n",
      "{' л', '5.3 л'}.\n",
      "Test_set values:\n",
      "{'2.6 л', '5.0 л', '0.7 л', '5.9 л', '3.6 л', '2.4 л', '6.0 л', '5.7 л', '1.4 л', '4.3 л', '1.0 л', '3.0 л', '1.9 л', '4.6 л', '4.2 л', '1.5 л', '5.2 л', ' л', '5.6 л', '2.9 л', '1.7 л', '3.4 л', '3.7 л', '4.9 л', '2.1 л', '2.5 л', '4.1 л', '3.8 л', '5.8 л', '6.3 л', '6.2 л', '6.6 л', '4.5 л', '1.3 л', '3.3 л', '1.6 л', '2.7 л', '5.3 л', '2.2 л', '2.8 л', '5.4 л', '3.2 л', '1.8 л', '5.5 л', '4.0 л', '1.2 л', '2.0 л', '4.7 л', '1.1 л', '4.4 л', '4.8 л', '3.1 л', '3.5 л', '3.9 л', '2.3 л'}\n"
     ]
    }
   ],
   "source": [
    "vector_items('engineDisplacement')"
   ],
   "metadata": {
    "collapsed": false,
    "pycharm": {
     "name": "#%%\n"
    }
   }
  },
  {
   "cell_type": "markdown",
   "source": [
    "---\n",
    "## 2.5. vehicleConfiguration"
   ],
   "metadata": {
    "collapsed": false
   }
  },
  {
   "cell_type": "markdown",
   "source": [
    "Vehicle configuration in train dataset has to be combined from data of body type, vehicle transmission and engine displacement"
   ],
   "metadata": {
    "collapsed": false,
    "pycharm": {
     "name": "#%% md\n"
    }
   }
  },
  {
   "cell_type": "code",
   "execution_count": 207,
   "outputs": [
    {
     "name": "stdout",
     "output_type": "stream",
     "text": [
      "Statistics of items in vector: vehicleTransmission.\n",
      " ---------------------------\n",
      "Train has 4 unique items and has difference:\n",
      "set(),\n",
      "--\n",
      "Test has 4 unique items and has difference:\n",
      "set().\n",
      "Test_set values:\n",
      "{'автоматическая', 'роботизированная', 'вариатор', 'механическая'}\n"
     ]
    }
   ],
   "source": [
    "vector_items('vehicleTransmission')"
   ],
   "metadata": {
    "collapsed": false,
    "pycharm": {
     "name": "#%%\n"
    }
   }
  },
  {
   "cell_type": "code",
   "execution_count": 208,
   "outputs": [],
   "source": [
    "transmission = {\n",
    "    'механическая': 'MECHANICAL',\n",
    "    'вариатор': 'VARIATOR',\n",
    "    'роботизированная': 'ROBOT',\n",
    "    'автоматическая': 'AUTOMATIC'\n",
    "}"
   ],
   "metadata": {
    "collapsed": false,
    "pycharm": {
     "name": "#%%\n"
    }
   }
  },
  {
   "cell_type": "code",
   "execution_count": 209,
   "outputs": [
    {
     "data": {
      "text/plain": "{'внедорожник 3 дв.': 'ALLROAD_3_DOORS',\n 'внедорожник 5 дв.': 'ALLROAD_5_DOORS',\n 'внедорожник открытый': 'ALLROAD_OPEN',\n 'кабриолет': 'CABRIO',\n 'компактвэн': 'COMPACTVAN',\n 'купе': 'COUPE',\n 'купе-хардтоп': 'COUPE_HARDTOP',\n 'лимузин': 'LIMOUSINE',\n 'лифтбек': 'LIFTBACK',\n 'микровэн': 'MICROVAN',\n 'минивэн': 'MINIVAN',\n 'пикап двойная кабина': 'PICKUP_TWO',\n 'пикап одинарная кабина': 'PICKUP_ONE',\n 'пикап полуторная кабина': 'PICKUP_ONE_HALF',\n 'родстер': 'ROADSTER',\n 'седан': 'SEDAN',\n 'седан 2 дв.': 'SEDAN_2_DOORS',\n 'седан-хардтоп': 'SEDAN_HARDTOP',\n 'тарга': 'TARGA',\n 'универсал 5 дв.': 'WAGON_5_DOORS',\n 'фастбек': 'FASTBACK',\n 'фургон': 'VAN',\n 'хэтчбек 3 дв.': 'HATCHBACK_3_DOORS',\n 'хэтчбек 5 дв.': 'HATCHBACK_5_DOORS'}"
     },
     "execution_count": 209,
     "metadata": {},
     "output_type": "execute_result"
    }
   ],
   "source": [
    "temp_df = test[\n",
    "    ['bodyType', 'vehicleConfiguration']].groupby(\n",
    "    ['bodyType', 'vehicleConfiguration'])['vehicleConfiguration'].count().to_dict()\n",
    "\n",
    "bodyTypeEng = dict()\n",
    "for key, value in temp_df.keys():\n",
    "    bodyTypeEng[key] = value.split()[0]\n",
    "\n",
    "bodyTypeEng"
   ],
   "metadata": {
    "collapsed": false,
    "pycharm": {
     "name": "#%%\n"
    }
   }
  },
  {
   "cell_type": "code",
   "execution_count": 210,
   "outputs": [],
   "source": [
    "\"\"\" function to construct filling for vector 'vehicleConfiguration' from several another vectors\"\"\"\n",
    "def vehicleConfiguration(record):\n",
    "    \"\"\"\n",
    "    :param record: record from dataset (call by apply)\n",
    "    :return: filling for field in vector with mask like : 'COUPE ROBOT 2.5'\n",
    "    \"\"\"\n",
    "    body = bodyTypeEng[record.bodyType]\n",
    "    trans = transmission[record.vehicleTransmission]\n",
    "    disp = find_number(record.engineDisplacement)\n",
    "\n",
    "    result = body + ' ' + trans\n",
    "    if disp:\n",
    "        result = result + ' ' + disp\n",
    "\n",
    "    return result"
   ],
   "metadata": {
    "collapsed": false,
    "pycharm": {
     "name": "#%%\n"
    }
   }
  },
  {
   "cell_type": "code",
   "execution_count": 211,
   "outputs": [],
   "source": [
    "train.vehicleConfiguration = train.apply(vehicleConfiguration, axis=1)"
   ],
   "metadata": {
    "collapsed": false,
    "pycharm": {
     "name": "#%%\n"
    }
   }
  },
  {
   "cell_type": "code",
   "execution_count": 212,
   "outputs": [
    {
     "name": "stdout",
     "output_type": "stream",
     "text": [
      "Statistics of items in vector: vehicleConfiguration.\n",
      " ---------------------------\n",
      "Train has 764 unique items and has difference:\n",
      "{'COMPACTVAN VARIATOR 1.4', 'ALLROAD_5_DOORS ROBOT 1.3', 'CABRIO ROBOT 4.4', 'LIFTBACK AUTOMATIC 1.4', 'HATCHBACK_3_DOORS VARIATOR 1.6', 'SEDAN MECHANICAL 3.1', 'SEDAN MECHANICAL 4.2', 'MICROVAN MECHANICAL 1.3', 'ALLROAD_5_DOORS AUTOMATIC 408', 'ALLROAD_5_DOORS MECHANICAL 2.9', 'COUPE ROBOT 1.8', 'ROADSTER MECHANICAL 2.0', 'CABRIO ROBOT 5.2', 'CABRIO ROBOT 1.4', 'PICKUP_ONE AUTOMATIC 5.7', 'HATCHBACK_5_DOORS AUTOMATIC 150', 'LIFTBACK MECHANICAL 1.5', 'SEDAN_HARDTOP AUTOMATIC 2.2', 'WAGON_5_DOORS MECHANICAL 3.2', 'ROADSTER ROBOT 5.2', 'SEDAN_2_DOORS MECHANICAL 1.8', 'LIFTBACK ROBOT 1.5', 'VAN MECHANICAL 3.0', 'COUPE MECHANICAL 2.7', 'PICKUP_TWO MECHANICAL 4.0', 'COUPE AUTOMATIC 1.4', 'HATCHBACK_3_DOORS MECHANICAL 2.3', 'COUPE VARIATOR 2.7', 'VAN AUTOMATIC 2.8', 'WAGON_5_DOORS MECHANICAL 1.0', 'PICKUP_ONE_HALF MECHANICAL 2.5', 'VAN MECHANICAL 3.2', 'HATCHBACK_3_DOORS MECHANICAL 2.2', 'PICKUP_ONE MECHANICAL 2.5', 'SEDAN AUTOMATIC 109', 'PICKUP_ONE MECHANICAL 1.6', 'VAN VARIATOR 2.0', 'MINIVAN VARIATOR 1.2', 'ALLROAD_3_DOORS AUTOMATIC 4.2', 'ALLROAD_3_DOORS MECHANICAL 4.0', 'ALLROAD_3_DOORS MECHANICAL 0.7', 'ALLROAD_3_DOORS AUTOMATIC 5.0', 'COUPE_HARDTOP AUTOMATIC 2.1', 'ALLROAD_3_DOORS AUTOMATIC 2.4', 'WAGON_5_DOORS VARIATOR 3.1', 'CABRIO MECHANICAL 2.5', 'PICKUP_ONE AUTOMATIC 2.5', 'ROADSTER ROBOT 1.8', 'CABRIO VARIATOR 3.2', 'SEDAN VARIATOR 2.7', 'SEDAN AUTOMATIC 74', 'COMPACTVAN AUTOMATIC 3.5', 'ALLROAD_3_DOORS MECHANICAL 2.3', 'WAGON_5_DOORS VARIATOR 1.3', 'CABRIO MECHANICAL 1.4', 'SEDAN ROBOT 3.5', 'ALLROAD_5_DOORS MECHANICAL 4.7', 'COUPE MECHANICAL 2.1', 'COUPE MECHANICAL 1.9', 'VAN MECHANICAL 2.8', 'ALLROAD_OPEN MECHANICAL 3.0', 'MINIVAN AUTOMATIC 5.5', 'SEDAN AUTOMATIC 4.9', 'HATCHBACK_5_DOORS MECHANICAL 1.7', 'PICKUP_TWO AUTOMATIC 4.0', 'ALLROAD_OPEN AUTOMATIC 3.0', 'CABRIO ROBOT 3.0', 'VAN ROBOT 1.9', 'VAN MECHANICAL 2.2', 'ROADSTER ROBOT 2.0', 'ALLROAD_3_DOORS MECHANICAL 2.6', 'PICKUP_ONE MECHANICAL 1.7', 'WAGON_5_DOORS AUTOMATIC 1.2', 'SEDAN_2_DOORS MECHANICAL 1.3', 'WAGON_5_DOORS ROBOT 2.1', 'VAN AUTOMATIC 1.8', 'WAGON_5_DOORS ROBOT 1.3', 'WAGON_5_DOORS VARIATOR 1.9', 'WAGON_5_DOORS MECHANICAL 4.2', 'CABRIO MECHANICAL 2.4', 'COUPE MECHANICAL 1.2', 'CABRIO MECHANICAL 4.0', 'SEDAN AUTOMATIC 1.0', 'HATCHBACK_5_DOORS AUTOMATIC 67', 'VAN AUTOMATIC 2.7', 'VAN AUTOMATIC 2.0', 'COUPE VARIATOR 2.4', 'LIFTBACK MECHANICAL 2.2', 'SEDAN_HARDTOP AUTOMATIC 1.5', 'SEDAN AUTOMATIC 1.4', 'HATCHBACK_3_DOORS VARIATOR 2.0', 'ROADSTER AUTOMATIC 2.2', 'HATCHBACK_5_DOORS AUTOMATIC 64', 'PICKUP_ONE AUTOMATIC 2.8', 'HATCHBACK_3_DOORS ROBOT 1.0', 'COUPE_HARDTOP AUTOMATIC 3.0', 'WAGON_5_DOORS ROBOT 2.8', 'MINIVAN AUTOMATIC 1.2', 'VAN MECHANICAL 1.8', 'HATCHBACK_3_DOORS MECHANICAL 0.7', 'HATCHBACK_5_DOORS AUTOMATIC 115', 'SEDAN_2_DOORS MECHANICAL 2.3', 'HATCHBACK_5_DOORS AUTOMATIC 218', 'VAN AUTOMATIC 2.1', 'MICROVAN AUTOMATIC 41', 'COUPE MECHANICAL 2.6', 'COUPE AUTOMATIC 1.3', 'VAN MECHANICAL 1.4', 'CABRIO AUTOMATIC 2.1', 'ALLROAD_5_DOORS MECHANICAL 1.3', 'WAGON_5_DOORS VARIATOR 1.6', 'ALLROAD_5_DOORS AUTOMATIC 313', 'LIMOUSINE MECHANICAL 3.0', 'COUPE AUTOMATIC 4.5', 'VAN AUTOMATIC 3.0', 'COUPE_HARDTOP MECHANICAL 3.2', 'HATCHBACK_5_DOORS AUTOMATIC 179', 'PICKUP_TWO MECHANICAL 4.2', 'ALLROAD_3_DOORS MECHANICAL 3.3', 'PICKUP_TWO MECHANICAL 3.0', 'VAN AUTOMATIC 2.2', 'COUPE_HARDTOP MECHANICAL 2.2', 'HATCHBACK_5_DOORS AUTOMATIC 2.5', 'VAN AUTOMATIC 0.7', 'HATCHBACK_3_DOORS MECHANICAL 3.0', 'MICROVAN ROBOT 0.7', 'CABRIO VARIATOR 2.0', 'ALLROAD_3_DOORS MECHANICAL 2.7', 'COUPE MECHANICAL 3.7', 'SEDAN_HARDTOP MECHANICAL 1.6', 'MINIVAN ROBOT 1.4', 'VAN MECHANICAL 1.2', 'ALLROAD_5_DOORS MECHANICAL 3.3', 'WAGON_5_DOORS AUTOMATIC 4.3', 'COUPE_HARDTOP MECHANICAL 2.0', 'ROADSTER MECHANICAL 1.5', 'COMPACTVAN AUTOMATIC 1.9', 'LIMOUSINE AUTOMATIC 5.0', 'HATCHBACK_5_DOORS AUTOMATIC 170', 'PICKUP_TWO AUTOMATIC 3.3', 'HATCHBACK_5_DOORS AUTOMATIC 184', 'COUPE MECHANICAL 4.8', 'CABRIO MECHANICAL 3.0', 'ROADSTER ROBOT 4.0', 'COMPACTVAN MECHANICAL 2.3', 'COUPE_HARDTOP AUTOMATIC 2.2', 'COUPE MECHANICAL 3.3', 'CABRIO MECHANICAL 2.3', 'CABRIO AUTOMATIC 3.2', 'HATCHBACK_5_DOORS AUTOMATIC 136', 'HATCHBACK_5_DOORS AUTOMATIC 1.9', 'CABRIO AUTOMATIC 2.2', 'HATCHBACK_5_DOORS VARIATOR 1.4', 'CABRIO MECHANICAL 1.5', 'HATCHBACK_5_DOORS MECHANICAL 2.2', 'ROADSTER ROBOT 3.2', 'HATCHBACK_5_DOORS AUTOMATIC 109', 'HATCHBACK_5_DOORS MECHANICAL 1.1', 'SEDAN MECHANICAL 4.0', 'COUPE_HARDTOP AUTOMATIC 5.4', 'CABRIO ROBOT 1.8', 'PICKUP_ONE_HALF MECHANICAL 2.0', 'HATCHBACK_3_DOORS VARIATOR 1.4', 'ALLROAD_5_DOORS AUTOMATIC 154', 'VAN MECHANICAL 2.3', 'MINIVAN AUTOMATIC 109', 'LIFTBACK VARIATOR 2.8', 'HATCHBACK_3_DOORS ROBOT 3.2', 'HATCHBACK_5_DOORS ROBOT 1.0', 'HATCHBACK_5_DOORS MECHANICAL 2.8', 'ROADSTER AUTOMATIC 6.2'},\n",
      "--\n",
      "Test has 634 unique items and has difference:\n",
      "{'HATCHBACK_3_DOORS MECHANICAL 2.9', 'SEDAN MECHANICAL 1.0', 'PICKUP_ONE MECHANICAL 2.3', 'PICKUP_TWO MECHANICAL 2.8', 'HATCHBACK_5_DOORS MECHANICAL 0.7', 'CABRIO ROBOT 3.3', 'VAN ROBOT 2.0', 'WAGON_5_DOORS ROBOT 4.0', 'COUPE MECHANICAL 5.0', 'SEDAN MECHANICAL 3.8', 'MINIVAN MECHANICAL 1.7', 'CABRIO ROBOT 3.2', 'CABRIO AUTOMATIC 2.8', 'LIMOUSINE AUTOMATIC 6.2', 'PICKUP_ONE MECHANICAL 4.0', 'CABRIO MECHANICAL 1.3', 'HATCHBACK_5_DOORS AUTOMATIC', 'WAGON_5_DOORS AUTOMATIC 5.5', 'WAGON_5_DOORS ROBOT 1.0', 'FASTBACK MECHANICAL 2.8', 'CABRIO MECHANICAL 5.3', 'ROADSTER AUTOMATIC 2.3', 'COUPE_HARDTOP MECHANICAL 2.3', 'ROADSTER AUTOMATIC 1.5', 'ALLROAD_5_DOORS AUTOMATIC', 'PICKUP_ONE MECHANICAL 2.7', 'WAGON_5_DOORS AUTOMATIC 5.4', 'HATCHBACK_5_DOORS AUTOMATIC 2.3', 'CABRIO MECHANICAL 4.2', 'ROADSTER AUTOMATIC 3.8', 'CABRIO AUTOMATIC 5.5', 'WAGON_5_DOORS MECHANICAL 4.0', 'ALLROAD_OPEN AUTOMATIC 5.5', 'ALLROAD_OPEN AUTOMATIC 2.0', 'HATCHBACK_3_DOORS AUTOMATIC 3.0', 'COUPE AUTOMATIC 6.2', 'HATCHBACK_5_DOORS ROBOT 1.9', 'ROADSTER AUTOMATIC 4.7', 'PICKUP_ONE MECHANICAL 1.3', 'WAGON_5_DOORS AUTOMATIC 4.7', 'LIMOUSINE AUTOMATIC 5.5'}.\n",
      "Test_set values:\n",
      "{'COUPE ROBOT 2.0', 'HATCHBACK_5_DOORS VARIATOR 0.7', 'LIFTBACK MECHANICAL 1.3', 'COMPACTVAN VARIATOR 2.4', 'ALLROAD_5_DOORS AUTOMATIC 2.2', 'COMPACTVAN VARIATOR 1.8', 'WAGON_5_DOORS VARIATOR 2.0', 'MINIVAN AUTOMATIC 3.3', 'VAN ROBOT 2.0', 'COMPACTVAN ROBOT 1.8', 'ALLROAD_5_DOORS AUTOMATIC 4.5', 'MINIVAN MECHANICAL 2.3', 'COUPE AUTOMATIC 6.0', 'ALLROAD_3_DOORS MECHANICAL 4.2', 'COUPE_HARDTOP AUTOMATIC 5.0', 'CABRIO MECHANICAL 2.2', 'LIFTBACK AUTOMATIC 4.0', 'ROADSTER AUTOMATIC 1.6', 'HATCHBACK_5_DOORS AUTOMATIC 2.4', 'ALLROAD_5_DOORS MECHANICAL 2.8', 'ROADSTER AUTOMATIC 2.5', 'MINIVAN MECHANICAL 2.8', 'COUPE_HARDTOP AUTOMATIC 4.7', 'HATCHBACK_5_DOORS VARIATOR 1.5', 'COUPE ROBOT 4.0', 'MINIVAN ROBOT 2.0', 'MINIVAN MECHANICAL 2.0', 'HATCHBACK_5_DOORS VARIATOR 1.0', 'CABRIO AUTOMATIC 2.5', 'SEDAN ROBOT 1.4', 'CABRIO MECHANICAL 4.2', 'SEDAN ROBOT 3.6', 'LIFTBACK ROBOT 1.4', 'HATCHBACK_5_DOORS MECHANICAL 1.8', 'MINIVAN AUTOMATIC 3.7', 'COUPE ROBOT 4.2', 'SEDAN MECHANICAL 1.7', 'COUPE AUTOMATIC 4.0', 'ALLROAD_5_DOORS MECHANICAL 2.4', 'ALLROAD_3_DOORS AUTOMATIC 3.8', 'HATCHBACK_5_DOORS ROBOT 1.2', 'SEDAN AUTOMATIC 4.4', 'ROADSTER AUTOMATIC 2.8', 'ALLROAD_5_DOORS MECHANICAL 1.5', 'SEDAN_HARDTOP AUTOMATIC 1.8', 'HATCHBACK_3_DOORS AUTOMATIC 2.0', 'MINIVAN AUTOMATIC 2.7', 'HATCHBACK_5_DOORS MECHANICAL 1.3', 'SEDAN MECHANICAL 2.6', 'CABRIO AUTOMATIC 2.0', 'ALLROAD_5_DOORS AUTOMATIC 4.0', 'MINIVAN VARIATOR 2.5', 'SEDAN VARIATOR 3.0', 'COUPE MECHANICAL 5.0', 'COUPE_HARDTOP AUTOMATIC 3.5', 'SEDAN AUTOMATIC 2.0', 'VAN MECHANICAL 1.9', 'COUPE_HARDTOP AUTOMATIC 5.5', 'SEDAN_2_DOORS MECHANICAL 1.6', 'SEDAN AUTOMATIC 2.5', 'WAGON_5_DOORS ROBOT 1.0', 'WAGON_5_DOORS AUTOMATIC 3.5', 'ALLROAD_5_DOORS ROBOT 1.5', 'COUPE ROBOT 3.0', 'ALLROAD_5_DOORS AUTOMATIC 6.2', 'WAGON_5_DOORS ROBOT 1.6', 'COUPE AUTOMATIC 5.6', 'ALLROAD_3_DOORS AUTOMATIC 4.0', 'HATCHBACK_5_DOORS AUTOMATIC 1.2', 'ALLROAD_3_DOORS VARIATOR 1.6', 'CABRIO ROBOT 4.0', 'MINIVAN MECHANICAL 1.9', 'ALLROAD_OPEN AUTOMATIC 5.0', 'HATCHBACK_5_DOORS ROBOT 1.9', 'MINIVAN MECHANICAL 2.7', 'HATCHBACK_3_DOORS ROBOT 1.6', 'ALLROAD_3_DOORS MECHANICAL 1.8', 'ALLROAD_5_DOORS AUTOMATIC 2.1', 'ALLROAD_3_DOORS AUTOMATIC 2.8', 'MINIVAN MECHANICAL 2.4', 'HATCHBACK_5_DOORS ROBOT 1.3', 'HATCHBACK_3_DOORS MECHANICAL 1.5', 'SEDAN ROBOT 4.4', 'COUPE MECHANICAL 1.5', 'ALLROAD_5_DOORS MECHANICAL 1.4', 'WAGON_5_DOORS AUTOMATIC 1.6', 'ALLROAD_5_DOORS MECHANICAL 2.7', 'PICKUP_TWO AUTOMATIC 4.6', 'ALLROAD_5_DOORS ROBOT 2.0', 'WAGON_5_DOORS AUTOMATIC 2.3', 'HATCHBACK_3_DOORS AUTOMATIC 1.9', 'WAGON_5_DOORS MECHANICAL 1.7', 'ALLROAD_5_DOORS MECHANICAL 1.2', 'PICKUP_ONE_HALF AUTOMATIC 2.5', 'SEDAN MECHANICAL 3.0', 'ROADSTER ROBOT 3.0', 'HATCHBACK_3_DOORS MECHANICAL 1.9', 'WAGON_5_DOORS MECHANICAL 1.9', 'SEDAN VARIATOR 1.5', 'COUPE VARIATOR 3.2', 'SEDAN ROBOT 1.3', 'MICROVAN VARIATOR 1.2', 'WAGON_5_DOORS VARIATOR 2.5', 'COUPE_HARDTOP AUTOMATIC 6.2', 'COUPE_HARDTOP AUTOMATIC 6.0', 'ALLROAD_5_DOORS AUTOMATIC 3.3', 'SEDAN AUTOMATIC 2.7', 'COMPACTVAN AUTOMATIC 2.2', 'ROADSTER AUTOMATIC 6.0', 'ROADSTER AUTOMATIC 1.5', 'HATCHBACK_5_DOORS MECHANICAL 1.6', 'SEDAN AUTOMATIC 1.7', 'HATCHBACK_5_DOORS VARIATOR 1.6', 'HATCHBACK_3_DOORS AUTOMATIC 1.0', 'ROADSTER MECHANICAL 1.9', 'LIFTBACK MECHANICAL 1.8', 'WAGON_5_DOORS VARIATOR 2.4', 'COUPE AUTOMATIC 2.2', 'HATCHBACK_5_DOORS MECHANICAL 2.0', 'ALLROAD_5_DOORS VARIATOR 3.5', 'COMPACTVAN MECHANICAL 2.4', 'HATCHBACK_3_DOORS MECHANICAL 1.3', 'HATCHBACK_3_DOORS MECHANICAL 1.2', 'ALLROAD_5_DOORS AUTOMATIC 4.2', 'WAGON_5_DOORS ROBOT 3.0', 'CABRIO ROBOT 2.0', 'HATCHBACK_5_DOORS VARIATOR 2.4', 'SEDAN MECHANICAL 2.4', 'WAGON_5_DOORS VARIATOR 2.7', 'MINIVAN AUTOMATIC 3.4', 'SEDAN MECHANICAL 2.5', 'ROADSTER AUTOMATIC 3.5', 'PICKUP_ONE MECHANICAL 2.3', 'HATCHBACK_3_DOORS AUTOMATIC 1.2', 'WAGON_5_DOORS MECHANICAL 2.3', 'WAGON_5_DOORS MECHANICAL 2.0', 'ALLROAD_5_DOORS ROBOT 3.2', 'MINIVAN MECHANICAL 1.7', 'COUPE_HARDTOP MECHANICAL 1.8', 'WAGON_5_DOORS MECHANICAL 3.0', 'SEDAN AUTOMATIC 3.4', 'WAGON_5_DOORS AUTOMATIC 3.0', 'MINIVAN MECHANICAL 3.2', 'COMPACTVAN MECHANICAL 1.2', 'HATCHBACK_3_DOORS AUTOMATIC 2.5', 'ALLROAD_5_DOORS AUTOMATIC 3.7', 'PICKUP_TWO AUTOMATIC 4.7', 'HATCHBACK_3_DOORS ROBOT 1.3', 'SEDAN VARIATOR 3.5', 'WAGON_5_DOORS MECHANICAL 2.5', 'ROADSTER MECHANICAL 1.6', 'MICROVAN AUTOMATIC 1.3', 'ALLROAD_3_DOORS MECHANICAL 1.6', 'COMPACTVAN AUTOMATIC 2.0', 'MINIVAN MECHANICAL 1.8', 'COUPE AUTOMATIC 4.4', 'SEDAN MECHANICAL 2.3', 'WAGON_5_DOORS AUTOMATIC 2.4', 'COUPE AUTOMATIC 2.9', 'HATCHBACK_5_DOORS ROBOT 2.0', 'ALLROAD_5_DOORS MECHANICAL 2.0', 'SEDAN AUTOMATIC 3.5', 'PICKUP_TWO MECHANICAL 2.4', 'COUPE MECHANICAL 1.7', 'WAGON_5_DOORS ROBOT 1.2', 'HATCHBACK_3_DOORS AUTOMATIC 1.8', 'LIMOUSINE AUTOMATIC 5.8', 'WAGON_5_DOORS VARIATOR 1.5', 'PICKUP_TWO MECHANICAL 2.8', 'VAN MECHANICAL 2.1', 'ALLROAD_5_DOORS ROBOT 3.0', 'ALLROAD_5_DOORS VARIATOR 2.4', 'SEDAN AUTOMATIC 3.2', 'LIFTBACK MECHANICAL 1.6', 'ALLROAD_5_DOORS ROBOT 1.6', 'LIFTBACK ROBOT 3.6', 'WAGON_5_DOORS MECHANICAL 1.8', 'HATCHBACK_5_DOORS AUTOMATIC 1.6', 'HATCHBACK_5_DOORS AUTOMATIC 1.3', 'COUPE AUTOMATIC 2.4', 'COUPE ROBOT 3.2', 'ROADSTER AUTOMATIC 2.3', 'PICKUP_TWO AUTOMATIC 2.8', 'ALLROAD_5_DOORS MECHANICAL 3.2', 'ROADSTER AUTOMATIC 3.8', 'SEDAN AUTOMATIC 5.8', 'PICKUP_TWO AUTOMATIC 3.2', 'ALLROAD_5_DOORS AUTOMATIC 4.4', 'MINIVAN AUTOMATIC 5.0', 'WAGON_5_DOORS ROBOT 2.0', 'ALLROAD_3_DOORS AUTOMATIC 2.5', 'HATCHBACK_3_DOORS MECHANICAL 1.8', 'MINIVAN AUTOMATIC 2.2', 'HATCHBACK_3_DOORS MECHANICAL 1.6', 'HATCHBACK_3_DOORS MECHANICAL 2.0', 'SEDAN MECHANICAL 1.9', 'COUPE MECHANICAL 3.0', 'WAGON_5_DOORS AUTOMATIC 1.4', 'SEDAN MECHANICAL 4.9', 'COUPE AUTOMATIC 2.3', 'COMPACTVAN VARIATOR 2.0', 'COUPE_HARDTOP AUTOMATIC 1.8', 'HATCHBACK_3_DOORS VARIATOR 1.5', 'COMPACTVAN AUTOMATIC 1.3', 'CABRIO AUTOMATIC 4.8', 'COUPE AUTOMATIC 3.7', 'ALLROAD_3_DOORS AUTOMATIC 1.6', 'SEDAN AUTOMATIC 4.6', 'COUPE AUTOMATIC 1.8', 'SEDAN MECHANICAL 3.8', 'WAGON_5_DOORS MECHANICAL 1.3', 'MINIVAN AUTOMATIC 2.5', 'ROADSTER AUTOMATIC 5.4', 'CABRIO MECHANICAL 1.3', 'COMPACTVAN AUTOMATIC 1.7', 'ROADSTER MECHANICAL 3.0', 'WAGON_5_DOORS AUTOMATIC 5.5', 'COUPE MECHANICAL 3.2', 'COMPACTVAN MECHANICAL 1.3', 'COUPE AUTOMATIC 1.7', 'WAGON_5_DOORS MECHANICAL 1.5', 'ALLROAD_5_DOORS VARIATOR 3.3', 'PICKUP_TWO MECHANICAL 2.0', 'SEDAN AUTOMATIC 5.5', 'WAGON_5_DOORS AUTOMATIC 4.0', 'COUPE MECHANICAL 4.4', 'COMPACTVAN MECHANICAL 1.7', 'WAGON_5_DOORS AUTOMATIC 1.5', 'WAGON_5_DOORS MECHANICAL 2.4', 'ALLROAD_OPEN AUTOMATIC 5.5', 'ALLROAD_5_DOORS AUTOMATIC 2.7', 'ROADSTER AUTOMATIC 4.7', 'WAGON_5_DOORS AUTOMATIC 2.8', 'COMPACTVAN AUTOMATIC 2.4', 'HATCHBACK_3_DOORS MECHANICAL 1.1', 'COUPE VARIATOR 2.0', 'SEDAN MECHANICAL 3.2', 'SEDAN AUTOMATIC 3.9', 'COMPACTVAN MECHANICAL 1.9', 'COMPACTVAN MECHANICAL 1.4', 'HATCHBACK_5_DOORS VARIATOR 1.7', 'COUPE AUTOMATIC 4.7', 'MINIVAN VARIATOR 1.8', 'SEDAN AUTOMATIC 2.2', 'SEDAN MECHANICAL 3.3', 'HATCHBACK_3_DOORS AUTOMATIC 1.4', 'ALLROAD_5_DOORS AUTOMATIC 1.6', 'ROADSTER AUTOMATIC 5.5', 'HATCHBACK_3_DOORS AUTOMATIC 2.3', 'VAN MECHANICAL 1.6', 'ALLROAD_3_DOORS MECHANICAL 2.8', 'SEDAN AUTOMATIC 6.0', 'HATCHBACK_5_DOORS AUTOMATIC', 'WAGON_5_DOORS AUTOMATIC 1.9', 'MINIVAN AUTOMATIC 1.6', 'ALLROAD_5_DOORS AUTOMATIC', 'ALLROAD_5_DOORS MECHANICAL 2.5', 'ALLROAD_5_DOORS VARIATOR 1.2', 'HATCHBACK_3_DOORS ROBOT 1.4', 'WAGON_5_DOORS AUTOMATIC 5.4', 'COUPE AUTOMATIC 4.3', 'HATCHBACK_5_DOORS AUTOMATIC 1.0', 'SEDAN AUTOMATIC 4.7', 'COUPE ROBOT 3.3', 'SEDAN AUTOMATIC 2.9', 'SEDAN VARIATOR 2.5', 'WAGON_5_DOORS AUTOMATIC 3.2', 'SEDAN AUTOMATIC 4.8', 'HATCHBACK_5_DOORS ROBOT 1.4', 'HATCHBACK_5_DOORS ROBOT 1.8', 'HATCHBACK_3_DOORS AUTOMATIC 3.0', 'COUPE AUTOMATIC 6.2', 'ALLROAD_5_DOORS AUTOMATIC 3.8', 'SEDAN AUTOMATIC 3.0', 'LIFTBACK MECHANICAL 1.4', 'SEDAN AUTOMATIC 3.3', 'ALLROAD_3_DOORS AUTOMATIC 0.7', 'CABRIO AUTOMATIC 2.3', 'SEDAN AUTOMATIC 1.6', 'COMPACTVAN AUTOMATIC 1.6', 'COUPE VARIATOR 1.5', 'PICKUP_TWO AUTOMATIC 2.3', 'ALLROAD_5_DOORS MECHANICAL 4.2', 'SEDAN MECHANICAL 3.4', 'COUPE AUTOMATIC 4.8', 'HATCHBACK_5_DOORS MECHANICAL 1.4', 'WAGON_5_DOORS AUTOMATIC 4.2', 'SEDAN MECHANICAL 1.4', 'COUPE MECHANICAL 2.4', 'ALLROAD_5_DOORS VARIATOR 1.8', 'PICKUP_TWO AUTOMATIC 2.7', 'LIFTBACK ROBOT 1.8', 'SEDAN AUTOMATIC 4.5', 'WAGON_5_DOORS AUTOMATIC 2.5', 'SEDAN AUTOMATIC 2.3', 'SEDAN AUTOMATIC 2.4', 'HATCHBACK_5_DOORS AUTOMATIC 0.7', 'WAGON_5_DOORS AUTOMATIC 2.7', 'ROADSTER AUTOMATIC 2.0', 'COMPACTVAN ROBOT 1.4', 'SEDAN AUTOMATIC 2.8', 'SEDAN MECHANICAL 2.0', 'HATCHBACK_5_DOORS MECHANICAL 1.2', 'PICKUP_ONE MECHANICAL 2.0', 'COMPACTVAN AUTOMATIC 1.4', 'ALLROAD_5_DOORS AUTOMATIC 3.4', 'COMPACTVAN ROBOT 1.9', 'SEDAN AUTOMATIC 5.4', 'ALLROAD_5_DOORS AUTOMATIC 4.7', 'COUPE AUTOMATIC 1.6', 'HATCHBACK_5_DOORS ROBOT 1.6', 'COMPACTVAN VARIATOR 1.2', 'ALLROAD_5_DOORS ROBOT 1.4', 'COUPE MECHANICAL 4.0', 'WAGON_5_DOORS MECHANICAL 2.2', 'ALLROAD_5_DOORS MECHANICAL 3.5', 'HATCHBACK_5_DOORS MECHANICAL 1.0', 'CABRIO AUTOMATIC 2.8', 'ALLROAD_3_DOORS MECHANICAL 3.4', 'SEDAN AUTOMATIC 3.6', 'PICKUP_ONE MECHANICAL 4.0', 'SEDAN VARIATOR 1.6', 'ROADSTER AUTOMATIC 3.2', 'ALLROAD_3_DOORS AUTOMATIC 3.2', 'ALLROAD_3_DOORS MECHANICAL 4.5', 'COUPE ROBOT 5.2', 'ALLROAD_5_DOORS AUTOMATIC 3.5', 'ALLROAD_5_DOORS AUTOMATIC 5.5', 'CABRIO MECHANICAL 5.3', 'HATCHBACK_5_DOORS AUTOMATIC 3.0', 'ALLROAD_5_DOORS AUTOMATIC 3.6', 'SEDAN VARIATOR 1.8', 'COMPACTVAN VARIATOR 1.6', 'SEDAN AUTOMATIC 3.7', 'ROADSTER MECHANICAL 2.5', 'MINIVAN AUTOMATIC 2.0', 'WAGON_5_DOORS AUTOMATIC 3.1', 'LIFTBACK ROBOT 4.0', 'ROADSTER MECHANICAL 3.2', 'WAGON_5_DOORS AUTOMATIC 1.7', 'HATCHBACK_5_DOORS AUTOMATIC 1.7', 'ALLROAD_3_DOORS AUTOMATIC 2.0', 'WAGON_5_DOORS AUTOMATIC 2.9', 'WAGON_5_DOORS ROBOT 1.5', 'HATCHBACK_5_DOORS VARIATOR 1.8', 'SEDAN VARIATOR 2.0', 'HATCHBACK_5_DOORS VARIATOR 1.3', 'ALLROAD_3_DOORS AUTOMATIC 3.5', 'WAGON_5_DOORS ROBOT 1.4', 'ALLROAD_5_DOORS AUTOMATIC 4.1', 'HATCHBACK_5_DOORS ROBOT 2.5', 'SEDAN MECHANICAL 1.0', 'COMPACTVAN ROBOT 1.5', 'MINIVAN MECHANICAL 1.5', 'HATCHBACK_5_DOORS MECHANICAL 0.7', 'HATCHBACK_3_DOORS AUTOMATIC 0.7', 'ALLROAD_5_DOORS AUTOMATIC 5.7', 'MINIVAN AUTOMATIC 1.8', 'WAGON_5_DOORS ROBOT 4.0', 'HATCHBACK_3_DOORS MECHANICAL 1.7', 'VAN MECHANICAL 2.5', 'VAN AUTOMATIC 2.5', 'SEDAN AUTOMATIC 6.3', 'LIMOUSINE AUTOMATIC 6.2', 'COUPE MECHANICAL 1.3', 'WAGON_5_DOORS MECHANICAL 1.6', 'ALLROAD_5_DOORS VARIATOR 1.5', 'SEDAN AUTOMATIC 3.1', 'ALLROAD_5_DOORS AUTOMATIC 4.3', 'SEDAN MECHANICAL 1.3', 'CABRIO AUTOMATIC 2.4', 'WAGON_5_DOORS ROBOT 3.6', 'ALLROAD_5_DOORS AUTOMATIC 6.0', 'LIFTBACK AUTOMATIC 2.0', 'PICKUP_TWO AUTOMATIC 2.4', 'COMPACTVAN ROBOT 1.2', 'WAGON_5_DOORS AUTOMATIC 4.4', 'ALLROAD_3_DOORS AUTOMATIC 3.0', 'MINIVAN AUTOMATIC 2.4', 'LIFTBACK AUTOMATIC 1.8', 'COUPE MECHANICAL 2.2', 'SEDAN MECHANICAL 1.6', 'MINIVAN AUTOMATIC 3.2', 'ROADSTER AUTOMATIC 3.0', 'WAGON_5_DOORS AUTOMATIC 2.2', 'MINIVAN AUTOMATIC 3.0', 'HATCHBACK_3_DOORS MECHANICAL 3.2', 'SEDAN MECHANICAL 3.5', 'COUPE ROBOT 6.2', 'COUPE ROBOT 3.8', 'COMPACTVAN MECHANICAL 2.0', 'ALLROAD_3_DOORS MECHANICAL 2.4', 'ALLROAD_5_DOORS AUTOMATIC 1.8', 'SEDAN VARIATOR 2.4', 'CABRIO MECHANICAL 1.8', 'ALLROAD_5_DOORS AUTOMATIC 4.8', 'WAGON_5_DOORS ROBOT 1.9', 'COUPE AUTOMATIC 4.2', 'CABRIO ROBOT 3.3', 'PICKUP_ONE_HALF MECHANICAL 2.4', 'ALLROAD_5_DOORS AUTOMATIC 1.5', 'COUPE_HARDTOP AUTOMATIC 3.2', 'COUPE VARIATOR 2.5', 'COMPACTVAN MECHANICAL 2.2', 'SEDAN AUTOMATIC 4.2', 'SEDAN AUTOMATIC 4.0', 'SEDAN MECHANICAL 1.8', 'HATCHBACK_3_DOORS AUTOMATIC 1.6', 'COMPACTVAN VARIATOR 1.3', 'SEDAN VARIATOR 1.3', 'HATCHBACK_5_DOORS AUTOMATIC 1.8', 'SEDAN ROBOT 2.8', 'COUPE MECHANICAL 1.8', 'ALLROAD_3_DOORS MECHANICAL 3.5', 'SEDAN ROBOT 2.0', 'ROADSTER AUTOMATIC 5.0', 'COUPE AUTOMATIC 3.5', 'SEDAN AUTOMATIC 5.0', 'CABRIO AUTOMATIC 3.0', 'COUPE_HARDTOP MECHANICAL 2.3', 'COMPACTVAN MECHANICAL 1.6', 'PICKUP_ONE MECHANICAL 2.7', 'WAGON_5_DOORS AUTOMATIC 2.1', 'SEDAN AUTOMATIC 1.9', 'CABRIO AUTOMATIC 5.5', 'WAGON_5_DOORS MECHANICAL 4.0', 'SEDAN AUTOMATIC 4.3', 'SEDAN AUTOMATIC 5.2', 'WAGON_5_DOORS ROBOT 4.2', 'HATCHBACK_3_DOORS ROBOT 1.2', 'ALLROAD_5_DOORS ROBOT 1.2', 'ALLROAD_3_DOORS MECHANICAL 2.5', 'CABRIO AUTOMATIC 4.4', 'ALLROAD_5_DOORS MECHANICAL 2.2', 'ALLROAD_3_DOORS MECHANICAL 3.0', 'LIMOUSINE AUTOMATIC 6.0', 'PICKUP_TWO AUTOMATIC 2.5', 'ALLROAD_5_DOORS AUTOMATIC 2.0', 'LIFTBACK AUTOMATIC 4.4', 'SEDAN AUTOMATIC 5.6', 'ALLROAD_3_DOORS MECHANICAL 2.0', 'MINIVAN MECHANICAL 3.0', 'HATCHBACK_5_DOORS VARIATOR 2.0', 'SEDAN ROBOT 1.5', 'COUPE MECHANICAL 4.2', 'MINIVAN MECHANICAL 2.5', 'CABRIO AUTOMATIC 1.8', 'MINIVAN VARIATOR 2.0', 'PICKUP_TWO AUTOMATIC 5.7', 'WAGON_5_DOORS MECHANICAL 2.8', 'ALLROAD_5_DOORS AUTOMATIC 5.0', 'ALLROAD_5_DOORS VARIATOR 2.5', 'COUPE ROBOT 4.4', 'COMPACTVAN AUTOMATIC 3.0', 'CABRIO AUTOMATIC 3.5', 'SEDAN MECHANICAL 2.9', 'HATCHBACK_5_DOORS AUTOMATIC 1.4', 'COUPE AUTOMATIC 5.0', 'COUPE_HARDTOP AUTOMATIC 2.0', 'COUPE AUTOMATIC 2.8', 'ALLROAD_5_DOORS AUTOMATIC 5.9', 'COMPACTVAN AUTOMATIC 1.5', 'VAN MECHANICAL 2.4', 'HATCHBACK_5_DOORS MECHANICAL 1.5', 'HATCHBACK_3_DOORS VARIATOR 1.0', 'COUPE MECHANICAL 2.8', 'PICKUP_TWO MECHANICAL 2.3', 'SEDAN AUTOMATIC 6.6', 'ALLROAD_OPEN AUTOMATIC 2.0', 'PICKUP_TWO AUTOMATIC 2.0', 'HATCHBACK_3_DOORS ROBOT 1.8', 'LIMOUSINE AUTOMATIC 5.5', 'ALLROAD_5_DOORS AUTOMATIC 5.4', 'WAGON_5_DOORS MECHANICAL 1.4', 'MINIVAN AUTOMATIC 1.5', 'HATCHBACK_3_DOORS MECHANICAL 1.4', 'SEDAN MECHANICAL 2.7', 'SEDAN AUTOMATIC 2.6', 'COMPACTVAN ROBOT 2.0', 'MICROVAN MECHANICAL 0.7', 'SEDAN MECHANICAL 2.1', 'COUPE_HARDTOP AUTOMATIC 5.8', 'VAN MECHANICAL 1.7', 'ALLROAD_3_DOORS AUTOMATIC 2.7', 'ROADSTER MECHANICAL 1.8', 'LIFTBACK AUTOMATIC 3.0', 'COUPE AUTOMATIC 3.0', 'MINIVAN AUTOMATIC 1.9', 'ALLROAD_5_DOORS MECHANICAL 1.6', 'PICKUP_TWO MECHANICAL 2.7', 'WAGON_5_DOORS AUTOMATIC 1.3', 'HATCHBACK_5_DOORS ROBOT 2.1', 'MINIVAN MECHANICAL 2.2', 'HATCHBACK_5_DOORS AUTOMATIC 2.0', 'ALLROAD_5_DOORS AUTOMATIC 4.6', 'ALLROAD_5_DOORS VARIATOR 1.6', 'ALLROAD_5_DOORS AUTOMATIC 3.2', 'SEDAN ROBOT 1.8', 'COUPE AUTOMATIC 5.4', 'LIFTBACK ROBOT 1.9', 'MINIVAN AUTOMATIC 2.1', 'ALLROAD_5_DOORS MECHANICAL 2.3', 'HATCHBACK_5_DOORS ROBOT 1.5', 'HATCHBACK_3_DOORS MECHANICAL 1.0', 'MINIVAN AUTOMATIC 3.5', 'COUPE AUTOMATIC 3.2', 'COUPE ROBOT 5.0', 'LIFTBACK MECHANICAL 1.9', 'COUPE ROBOT 2.5', 'SEDAN AUTOMATIC 1.5', 'ALLROAD_5_DOORS AUTOMATIC 2.9', 'SEDAN_HARDTOP MECHANICAL 1.8', 'TARGA MECHANICAL 1.6', 'ROADSTER AUTOMATIC 1.8', 'LIFTBACK VARIATOR 1.8', 'MINIVAN MECHANICAL 2.1', 'SEDAN_HARDTOP AUTOMATIC 2.0', 'ALLROAD_5_DOORS MECHANICAL 3.0', 'ALLROAD_3_DOORS AUTOMATIC 1.8', 'WAGON_5_DOORS MECHANICAL 2.1', 'SEDAN ROBOT 5.0', 'LIFTBACK ROBOT 2.8', 'WAGON_5_DOORS AUTOMATIC 2.0', 'ROADSTER AUTOMATIC 3.7', 'CABRIO ROBOT 3.2', 'MINIVAN VARIATOR 3.5', 'HATCHBACK_3_DOORS ROBOT 2.0', 'WAGON_5_DOORS ROBOT 1.8', 'SEDAN VARIATOR 3.1', 'SEDAN MECHANICAL 2.2', 'ALLROAD_5_DOORS AUTOMATIC 2.4', 'SEDAN AUTOMATIC 3.8', 'PICKUP_TWO MECHANICAL 2.5', 'WAGON_5_DOORS AUTOMATIC 2.6', 'LIFTBACK VARIATOR 2.0', 'HATCHBACK_5_DOORS VARIATOR 1.2', 'ALLROAD_5_DOORS AUTOMATIC 4.9', 'LIFTBACK ROBOT 1.2', 'WAGON_5_DOORS MECHANICAL 1.2', 'CABRIO VARIATOR 1.8', 'HATCHBACK_3_DOORS MECHANICAL 2.5', 'HATCHBACK_3_DOORS VARIATOR 1.7', 'CABRIO AUTOMATIC 4.3', 'ALLROAD_5_DOORS ROBOT 1.8', 'HATCHBACK_5_DOORS MECHANICAL 1.9', 'COMPACTVAN ROBOT 1.6', 'HATCHBACK_3_DOORS VARIATOR 1.3', 'COUPE AUTOMATIC 3.3', 'CABRIO AUTOMATIC 3.7', 'SEDAN_2_DOORS MECHANICAL 2.0', 'PICKUP_ONE MECHANICAL 1.3', 'HATCHBACK_3_DOORS MECHANICAL 2.9', 'WAGON_5_DOORS MECHANICAL 2.7', 'VAN MECHANICAL 2.0', 'COUPE VARIATOR 1.8', 'SEDAN ROBOT 4.0', 'SEDAN MECHANICAL 1.5', 'ALLROAD_3_DOORS MECHANICAL 3.2', 'ALLROAD_5_DOORS ROBOT 2.1', 'WAGON_5_DOORS VARIATOR 1.8', 'COUPE MECHANICAL 2.3', 'ROADSTER ROBOT 6.2', 'COUPE AUTOMATIC 2.0', 'SEDAN_HARDTOP MECHANICAL 2.0', 'HATCHBACK_5_DOORS MECHANICAL 2.3', 'SEDAN AUTOMATIC 2.1', 'SEDAN AUTOMATIC 1.3', 'LIFTBACK AUTOMATIC 1.6', 'ALLROAD_5_DOORS AUTOMATIC 2.5', 'COUPE MECHANICAL 3.4', 'COUPE AUTOMATIC 5.5', 'ALLROAD_5_DOORS AUTOMATIC 1.3', 'MINIVAN MECHANICAL 1.6', 'COUPE MECHANICAL 3.5', 'SEDAN ROBOT 1.9', 'COMPACTVAN MECHANICAL 1.5', 'SEDAN ROBOT 1.6', 'SEDAN MECHANICAL 2.8', 'MINIVAN VARIATOR 1.5', 'TARGA MECHANICAL 2.0', 'ALLROAD_5_DOORS MECHANICAL 4.5', 'SEDAN VARIATOR 2.8', 'MINIVAN VARIATOR 2.4', 'ALLROAD_5_DOORS AUTOMATIC 3.0', 'ALLROAD_5_DOORS AUTOMATIC 1.4', 'ALLROAD_5_DOORS AUTOMATIC 5.6', 'ALLROAD_5_DOORS ROBOT 2.5', 'COUPE AUTOMATIC 1.5', 'MINIVAN AUTOMATIC 2.8', 'WAGON_5_DOORS MECHANICAL 2.6', 'MICROVAN AUTOMATIC 0.7', 'WAGON_5_DOORS AUTOMATIC 1.8', 'LIFTBACK MECHANICAL 2.0', 'SEDAN ROBOT 3.2', 'CABRIO MECHANICAL 2.0', 'SEDAN VARIATOR 1.9', 'PICKUP_ONE_HALF AUTOMATIC 5.7', 'ALLROAD_5_DOORS MECHANICAL 3.4', 'COMPACTVAN MECHANICAL 1.8', 'COUPE MECHANICAL 2.5', 'SEDAN MECHANICAL 1.2', 'COUPE MECHANICAL 2.0', 'SEDAN ROBOT 3.0', 'SEDAN AUTOMATIC 6.2', 'LIFTBACK ROBOT 2.0', 'LIFTBACK MECHANICAL 1.2', 'PICKUP_TWO AUTOMATIC 3.5', 'HATCHBACK_5_DOORS AUTOMATIC 1.5', 'COUPE AUTOMATIC 2.5', 'ALLROAD_5_DOORS AUTOMATIC 2.8', 'FASTBACK MECHANICAL 2.8', 'PICKUP_TWO AUTOMATIC 3.0', 'SEDAN_HARDTOP AUTOMATIC 1.6', 'ALLROAD_5_DOORS VARIATOR 2.0', 'HATCHBACK_5_DOORS AUTOMATIC 2.3', 'ALLROAD_5_DOORS MECHANICAL 4.0', 'MINIVAN AUTOMATIC 2.3', 'COMPACTVAN VARIATOR 1.5', 'COMPACTVAN AUTOMATIC 2.3', 'HATCHBACK_3_DOORS AUTOMATIC 2.4', 'LIFTBACK ROBOT 3.0', 'COUPE MECHANICAL 1.6', 'HATCHBACK_3_DOORS AUTOMATIC 1.5', 'SEDAN MECHANICAL 4.4', 'COUPE_HARDTOP AUTOMATIC 2.6', 'SEDAN VARIATOR 5.0', 'SEDAN AUTOMATIC 4.1', 'HATCHBACK_3_DOORS AUTOMATIC 1.3', 'HATCHBACK_3_DOORS MECHANICAL 2.8', 'ALLROAD_5_DOORS MECHANICAL 1.8', 'SEDAN AUTOMATIC 1.8', 'COUPE_HARDTOP AUTOMATIC 2.3', 'COMPACTVAN AUTOMATIC 1.8', 'WAGON_5_DOORS AUTOMATIC 4.7'}\n"
     ]
    }
   ],
   "source": [
    "vector_items('vehicleConfiguration')"
   ],
   "metadata": {
    "collapsed": false,
    "pycharm": {
     "name": "#%%\n"
    }
   }
  },
  {
   "cell_type": "code",
   "execution_count": 213,
   "outputs": [],
   "source": [
    "train.drop(['modelDate', 'model_info', 'model_name', 'name', 'price_current'], axis=1, inplace=True)\n",
    "test.drop(['modelDate', 'model_info', 'model_name', 'name'], axis=1, inplace=True)"
   ],
   "metadata": {
    "collapsed": false,
    "pycharm": {
     "name": "#%%\n"
    }
   }
  },
  {
   "cell_type": "markdown",
   "source": [
    "---\n",
    "## 2.6. vendor"
   ],
   "metadata": {
    "collapsed": false
   }
  },
  {
   "cell_type": "markdown",
   "source": [
    "Vendor in test dataset has only two ubique value. So I fill train dataset with dictionary brand-vendor."
   ],
   "metadata": {
    "collapsed": false
   }
  },
  {
   "cell_type": "code",
   "execution_count": 214,
   "outputs": [],
   "source": [
    "# prepare to filling vector 'vendor' in train dataset.\n",
    "# make dictionary of brand-vendors\n",
    "vend = test.groupby(['brand', 'vendor'])['vendor'].count().to_dict().keys()\n",
    "vend=dict(vend)"
   ],
   "metadata": {
    "collapsed": false,
    "pycharm": {
     "name": "#%%\n"
    }
   }
  },
  {
   "cell_type": "code",
   "execution_count": 215,
   "outputs": [],
   "source": [
    "train.vendor = train.brand.map(vend)"
   ],
   "metadata": {
    "collapsed": false,
    "pycharm": {
     "name": "#%%\n"
    }
   }
  },
  {
   "cell_type": "code",
   "execution_count": 216,
   "outputs": [
    {
     "name": "stdout",
     "output_type": "stream",
     "text": [
      "Statistics of items in vector: vendor.\n",
      " ---------------------------\n",
      "Train has 2 unique items and has difference:\n",
      "set(),\n",
      "--\n",
      "Test has 2 unique items and has difference:\n",
      "set().\n",
      "Test_set values:\n",
      "{'EUROPEAN', 'JAPANESE'}\n"
     ]
    }
   ],
   "source": [
    "vector_items('vendor')"
   ],
   "metadata": {
    "collapsed": false,
    "pycharm": {
     "name": "#%%\n"
    }
   }
  },
  {
   "cell_type": "markdown",
   "source": [
    "---\n",
    "## 2.7. Владение, Владельцы"
   ],
   "metadata": {
    "collapsed": false
   }
  },
  {
   "cell_type": "markdown",
   "source": [
    "Transform vector 'Владельцы' to numeric value, delete vector 'Владение' - because it has a lot of NA."
   ],
   "metadata": {
    "collapsed": false
   }
  },
  {
   "cell_type": "code",
   "execution_count": 217,
   "outputs": [
    {
     "name": "stdout",
     "output_type": "stream",
     "text": [
      "Statistics of items in vector: Владельцы.\n",
      " ---------------------------\n",
      "Train has 4 unique items and has difference:\n",
      "{nan, '1 владелец', '2 владельца'},\n",
      "--\n",
      "Test has 3 unique items and has difference:\n",
      "{'1\\xa0владелец', '2\\xa0владельца'}.\n",
      "Test_set values:\n",
      "{'1\\xa0владелец', '2\\xa0владельца', '3 или более'}\n"
     ]
    }
   ],
   "source": [
    "vector_items('Владельцы')"
   ],
   "metadata": {
    "collapsed": false,
    "pycharm": {
     "name": "#%%\n"
    }
   }
  },
  {
   "cell_type": "code",
   "execution_count": 218,
   "outputs": [],
   "source": [
    "train['Владельцы'].fillna('3 или более', inplace=True)"
   ],
   "metadata": {
    "collapsed": false,
    "pycharm": {
     "name": "#%%\n"
    }
   }
  },
  {
   "cell_type": "code",
   "execution_count": 219,
   "outputs": [],
   "source": [
    "test['owners'] = test['Владельцы']\n",
    "test['Владельцы'] = test['Владельцы'].apply(find_number)"
   ],
   "metadata": {
    "collapsed": false,
    "pycharm": {
     "name": "#%%\n"
    }
   }
  },
  {
   "cell_type": "code",
   "execution_count": 220,
   "outputs": [],
   "source": [
    "train['owners'] = train['Владельцы']\n",
    "train['Владельцы'] = train['Владельцы'].apply(find_number)"
   ],
   "metadata": {
    "collapsed": false,
    "pycharm": {
     "name": "#%%\n"
    }
   }
  },
  {
   "cell_type": "code",
   "execution_count": 221,
   "outputs": [],
   "source": [
    "train['Владельцы'] = train['Владельцы'].apply(int)\n",
    "test['Владельцы'] = test['Владельцы'].apply(int)"
   ],
   "metadata": {
    "collapsed": false,
    "pycharm": {
     "name": "#%%\n"
    }
   }
  },
  {
   "cell_type": "code",
   "execution_count": 222,
   "outputs": [
    {
     "name": "stdout",
     "output_type": "stream",
     "text": [
      "Statistics of items in vector: Владельцы.\n",
      " ---------------------------\n",
      "Train has 3 unique items and has difference:\n",
      "set(),\n",
      "--\n",
      "Test has 3 unique items and has difference:\n",
      "set().\n",
      "Test_set values:\n",
      "{1, 2, 3}\n"
     ]
    }
   ],
   "source": [
    "vector_items('Владельцы')"
   ],
   "metadata": {
    "collapsed": false,
    "pycharm": {
     "name": "#%%\n"
    }
   }
  },
  {
   "cell_type": "code",
   "execution_count": 223,
   "outputs": [],
   "source": [
    "train.drop(['Владение'], axis=1, inplace=True)\n",
    "test.drop(['Владение'], axis=1, inplace=True)"
   ],
   "metadata": {
    "collapsed": false,
    "pycharm": {
     "name": "#%%\n"
    }
   }
  },
  {
   "cell_type": "markdown",
   "source": [
    "---\n",
    "## 2.8. ПТС"
   ],
   "metadata": {
    "collapsed": false
   }
  },
  {
   "cell_type": "markdown",
   "source": [
    "Filling NA with 'Дубликат'"
   ],
   "metadata": {
    "collapsed": false,
    "pycharm": {
     "name": "#%% md\n"
    }
   }
  },
  {
   "cell_type": "code",
   "execution_count": 224,
   "outputs": [
    {
     "data": {
      "text/plain": "Оригинал    30098\nДубликат     4587\nName: ПТС, dtype: int64"
     },
     "execution_count": 224,
     "metadata": {},
     "output_type": "execute_result"
    }
   ],
   "source": [
    "test['ПТС'].value_counts()"
   ],
   "metadata": {
    "collapsed": false,
    "pycharm": {
     "name": "#%%\n"
    }
   }
  },
  {
   "cell_type": "code",
   "execution_count": 225,
   "outputs": [],
   "source": [
    "train['ПТС'].fillna('Дубликат', inplace=True)\n",
    "test['ПТС'].fillna('Дубликат', inplace=True)"
   ],
   "metadata": {
    "collapsed": false,
    "pycharm": {
     "name": "#%%\n"
    }
   }
  },
  {
   "cell_type": "code",
   "execution_count": 226,
   "outputs": [
    {
     "name": "stdout",
     "output_type": "stream",
     "text": [
      "Statistics of items in vector: ПТС.\n",
      " ---------------------------\n",
      "Train has 2 unique items and has difference:\n",
      "set(),\n",
      "--\n",
      "Test has 2 unique items and has difference:\n",
      "set().\n",
      "Test_set values:\n",
      "{'Дубликат', 'Оригинал'}\n"
     ]
    }
   ],
   "source": [
    "vector_items('ПТС')"
   ],
   "metadata": {
    "collapsed": false,
    "pycharm": {
     "name": "#%%\n"
    }
   }
  },
  {
   "cell_type": "markdown",
   "source": [
    "---\n",
    "## 2.9. Состояние"
   ],
   "metadata": {
    "collapsed": false
   }
  },
  {
   "cell_type": "markdown",
   "source": [
    "In train dataset there are some records with NA 'Состояние'. Analysis of the records led to the conclusion that these options relate to car accidents. So I delete this records from dataset.\n",
    "After that - delete vector as unuseful for ML"
   ],
   "metadata": {
    "collapsed": false
   }
  },
  {
   "cell_type": "code",
   "execution_count": 227,
   "outputs": [
    {
     "name": "stdout",
     "output_type": "stream",
     "text": [
      "Statistics of items in vector: Состояние.\n",
      " ---------------------------\n",
      "Train has 2 unique items and has difference:\n",
      "{nan},\n",
      "--\n",
      "Test has 1 unique items and has difference:\n",
      "set().\n",
      "Test_set values:\n",
      "{'Не требует ремонта'}\n"
     ]
    }
   ],
   "source": [
    "vector_items('Состояние')"
   ],
   "metadata": {
    "collapsed": false,
    "pycharm": {
     "name": "#%%\n"
    }
   }
  },
  {
   "cell_type": "code",
   "execution_count": 228,
   "outputs": [
    {
     "data": {
      "text/plain": "                bodyType       brand  \\\n36691  внедорожник 5 дв.    MERCEDES   \n67936            лифтбек       SKODA   \n77393              седан      TOYOTA   \n77431              седан      TOYOTA   \n89883      хэтчбек 5 дв.  VOLKSWAGEN   \n89888      хэтчбек 5 дв.  VOLKSWAGEN   \n94015    универсал 5 дв.  VOLKSWAGEN   \n16755            лифтбек       SKODA   \n18626      хэтчбек 5 дв.      TOYOTA   \n21554              седан  VOLKSWAGEN   \n22540    универсал 5 дв.  VOLKSWAGEN   \n\n                                                 car_url        color  \\\n36691  https://auto.ru/cars/used/sale/mercedes/glb_kl...        белый   \n67936  https://auto.ru/cars/used/sale/skoda/octavia/1...  серебристый   \n77393  https://auto.ru/cars/used/sale/toyota/corolla/...        серый   \n77431  https://auto.ru/cars/used/sale/toyota/corolla/...        белый   \n89883  https://auto.ru/cars/used/sale/volkswagen/golf...      красный   \n89888  https://auto.ru/cars/used/sale/volkswagen/golf...       чёрный   \n94015  https://auto.ru/cars/used/sale/volkswagen/pass...        белый   \n16755  https://auto.ru/cars/used/sale/skoda/rapid/110...        серый   \n18626  https://auto.ru/cars/used/sale/toyota/corolla/...        белый   \n21554  https://auto.ru/cars/used/sale/volkswagen/vent...        серый   \n22540  https://auto.ru/cars/used/sale/volkswagen/pass...        белый   \n\n                                      complectation_dict  \\\n36691  {'back-brake': 'Disc', 'feeding': 'Turbocharge...   \n67936  {'back-brake': 'Disc', 'feeding': 'None', 'ful...   \n77393  {'feeding': 'None', 'horse-power': 105, 'kvt-p...   \n77431  {'back-brake': 'Drum', 'feeding': 'None', 'ran...   \n89883  {'back-brake': 'Drum', 'feeding': 'None', 'ful...   \n89888  {'back-brake': 'Drum', 'feeding': 'None', 'ful...   \n94015  {'back-brake': 'Drum', 'feeding': 'None', 'ful...   \n16755  {'back-brake': 'Drum', 'feeding': 'None', 'ful...   \n18626  {'back-brake': 'Disc', 'feeding': 'None', 'ful...   \n21554  {'back-brake': 'Drum', 'feeding': 'None', 'ful...   \n22540  {'back-brake': 'Drum', 'feeding': 'None', 'ful...   \n\n                                             description engineDisplacement  \\\n36691  Куплен 25 декабря 2020 у официального дилера в...              1.3 л   \n67936                       Битая Цена ремонта на 150 тр              1.6 л   \n77393                        Надо Делать ДВС Обмен Торг               1.6 л   \n77431  продается легенда японского автопрома битая по...              1.6 л   \n89883  Проблемы с электрикой производилась замена вых...              1.6 л   \n89888  Замена порогов задняя юбка днище обработана ан...              1.6 л   \n94015  На разбор или под восстановление без АКБ Торг ...              1.8 л   \n16755  Официальный дилерский центр РОЛЬФ Премиум Вешк...              1.6 л   \n18626  Машина была привезена в Россию из Германии ещё...              1.6 л   \n21554  Битый двигатель не пострадал система охлаждени...              1.8 л   \n22540  Авто с пробегом универсал перебрал генератор С...              1.6 л   \n\n       enginePower                                     equipment_dict  \\\n36691          150                                                 {}   \n67936          102  {'cruise-control': True, 'tinted-glass': True,...   \n77393          105                                                 {}   \n77431          115                                                 {}   \n89883           75  {'ptf': True, 'abs': True, 'eco-leather': True...   \n89888           72                                                 {}   \n94015          107                                                 {}   \n16755          110  {'airbag-driver': True, 'rain-sensor': True, '...   \n18626          110                                                 {}   \n21554           75                                                 {}   \n22540           72  {'tinted-glass': True, 'roof-rails': True, 'le...   \n\n      fuelType  ...       ПТС    Привод    Руль  Состояние     Таможня  \\\n36691   бензин  ...  Оригинал  передний   Левый        NaN  Растаможен   \n67936   бензин  ...  Оригинал  передний   Левый        NaN  Растаможен   \n77393   бензин  ...  Оригинал  передний  Правый        NaN  Растаможен   \n77431   бензин  ...  Дубликат  передний  Правый        NaN  Растаможен   \n89883   бензин  ...  Дубликат  передний   Левый        NaN  Растаможен   \n89888   бензин  ...  Оригинал  передний   Левый        NaN  Растаможен   \n94015   бензин  ...  Оригинал  передний   Левый        NaN  Растаможен   \n16755   бензин  ...  Оригинал  передний   Левый        NaN  Растаможен   \n18626   бензин  ...  Оригинал  передний   Левый        NaN  Растаможен   \n21554   бензин  ...  Оригинал  передний   Левый        NaN  Растаможен   \n22540   бензин  ...  Оригинал  передний   Левый        NaN  Растаможен   \n\n              price       model  engineName enginePowerValue       owners  \n36691  2.134032e+06  glb_klasse  бензин 1.3         150 л.с.   1 владелец  \n67936  1.592561e+05     octavia  бензин 1.6         102 л.с.  3 или более  \n77393  7.962804e+04     corolla  бензин 1.6         105 л.с.  2 владельца  \n77431  5.972103e+04     corolla  бензин 1.6         115 л.с.  3 или более  \n89883  1.194421e+05        golf  бензин 1.6          75 л.с.  3 или более  \n89888  1.274049e+05        golf  бензин 1.6          72 л.с.  3 или более  \n94015  5.175823e+04      passat  бензин 1.8         107 л.с.  3 или более  \n16755  6.131359e+05       rapid  бензин 1.6         110 л.с.   1 владелец  \n18626  1.672189e+05     corolla  бензин 1.6         110 л.с.  2 владельца  \n21554  7.962804e+04       vento  бензин 1.8          75 л.с.  3 или более  \n22540  4.379542e+04      passat  бензин 1.6          72 л.с.  3 или более  \n\n[11 rows x 32 columns]",
      "text/html": "<div>\n<style scoped>\n    .dataframe tbody tr th:only-of-type {\n        vertical-align: middle;\n    }\n\n    .dataframe tbody tr th {\n        vertical-align: top;\n    }\n\n    .dataframe thead th {\n        text-align: right;\n    }\n</style>\n<table border=\"1\" class=\"dataframe\">\n  <thead>\n    <tr style=\"text-align: right;\">\n      <th></th>\n      <th>bodyType</th>\n      <th>brand</th>\n      <th>car_url</th>\n      <th>color</th>\n      <th>complectation_dict</th>\n      <th>description</th>\n      <th>engineDisplacement</th>\n      <th>enginePower</th>\n      <th>equipment_dict</th>\n      <th>fuelType</th>\n      <th>...</th>\n      <th>ПТС</th>\n      <th>Привод</th>\n      <th>Руль</th>\n      <th>Состояние</th>\n      <th>Таможня</th>\n      <th>price</th>\n      <th>model</th>\n      <th>engineName</th>\n      <th>enginePowerValue</th>\n      <th>owners</th>\n    </tr>\n  </thead>\n  <tbody>\n    <tr>\n      <th>36691</th>\n      <td>внедорожник 5 дв.</td>\n      <td>MERCEDES</td>\n      <td>https://auto.ru/cars/used/sale/mercedes/glb_kl...</td>\n      <td>белый</td>\n      <td>{'back-brake': 'Disc', 'feeding': 'Turbocharge...</td>\n      <td>Куплен 25 декабря 2020 у официального дилера в...</td>\n      <td>1.3 л</td>\n      <td>150</td>\n      <td>{}</td>\n      <td>бензин</td>\n      <td>...</td>\n      <td>Оригинал</td>\n      <td>передний</td>\n      <td>Левый</td>\n      <td>NaN</td>\n      <td>Растаможен</td>\n      <td>2.134032e+06</td>\n      <td>glb_klasse</td>\n      <td>бензин 1.3</td>\n      <td>150 л.с.</td>\n      <td>1 владелец</td>\n    </tr>\n    <tr>\n      <th>67936</th>\n      <td>лифтбек</td>\n      <td>SKODA</td>\n      <td>https://auto.ru/cars/used/sale/skoda/octavia/1...</td>\n      <td>серебристый</td>\n      <td>{'back-brake': 'Disc', 'feeding': 'None', 'ful...</td>\n      <td>Битая Цена ремонта на 150 тр</td>\n      <td>1.6 л</td>\n      <td>102</td>\n      <td>{'cruise-control': True, 'tinted-glass': True,...</td>\n      <td>бензин</td>\n      <td>...</td>\n      <td>Оригинал</td>\n      <td>передний</td>\n      <td>Левый</td>\n      <td>NaN</td>\n      <td>Растаможен</td>\n      <td>1.592561e+05</td>\n      <td>octavia</td>\n      <td>бензин 1.6</td>\n      <td>102 л.с.</td>\n      <td>3 или более</td>\n    </tr>\n    <tr>\n      <th>77393</th>\n      <td>седан</td>\n      <td>TOYOTA</td>\n      <td>https://auto.ru/cars/used/sale/toyota/corolla/...</td>\n      <td>серый</td>\n      <td>{'feeding': 'None', 'horse-power': 105, 'kvt-p...</td>\n      <td>Надо Делать ДВС Обмен Торг</td>\n      <td>1.6 л</td>\n      <td>105</td>\n      <td>{}</td>\n      <td>бензин</td>\n      <td>...</td>\n      <td>Оригинал</td>\n      <td>передний</td>\n      <td>Правый</td>\n      <td>NaN</td>\n      <td>Растаможен</td>\n      <td>7.962804e+04</td>\n      <td>corolla</td>\n      <td>бензин 1.6</td>\n      <td>105 л.с.</td>\n      <td>2 владельца</td>\n    </tr>\n    <tr>\n      <th>77431</th>\n      <td>седан</td>\n      <td>TOYOTA</td>\n      <td>https://auto.ru/cars/used/sale/toyota/corolla/...</td>\n      <td>белый</td>\n      <td>{'back-brake': 'Drum', 'feeding': 'None', 'ran...</td>\n      <td>продается легенда японского автопрома битая по...</td>\n      <td>1.6 л</td>\n      <td>115</td>\n      <td>{}</td>\n      <td>бензин</td>\n      <td>...</td>\n      <td>Дубликат</td>\n      <td>передний</td>\n      <td>Правый</td>\n      <td>NaN</td>\n      <td>Растаможен</td>\n      <td>5.972103e+04</td>\n      <td>corolla</td>\n      <td>бензин 1.6</td>\n      <td>115 л.с.</td>\n      <td>3 или более</td>\n    </tr>\n    <tr>\n      <th>89883</th>\n      <td>хэтчбек 5 дв.</td>\n      <td>VOLKSWAGEN</td>\n      <td>https://auto.ru/cars/used/sale/volkswagen/golf...</td>\n      <td>красный</td>\n      <td>{'back-brake': 'Drum', 'feeding': 'None', 'ful...</td>\n      <td>Проблемы с электрикой производилась замена вых...</td>\n      <td>1.6 л</td>\n      <td>75</td>\n      <td>{'ptf': True, 'abs': True, 'eco-leather': True...</td>\n      <td>бензин</td>\n      <td>...</td>\n      <td>Дубликат</td>\n      <td>передний</td>\n      <td>Левый</td>\n      <td>NaN</td>\n      <td>Растаможен</td>\n      <td>1.194421e+05</td>\n      <td>golf</td>\n      <td>бензин 1.6</td>\n      <td>75 л.с.</td>\n      <td>3 или более</td>\n    </tr>\n    <tr>\n      <th>89888</th>\n      <td>хэтчбек 5 дв.</td>\n      <td>VOLKSWAGEN</td>\n      <td>https://auto.ru/cars/used/sale/volkswagen/golf...</td>\n      <td>чёрный</td>\n      <td>{'back-brake': 'Drum', 'feeding': 'None', 'ful...</td>\n      <td>Замена порогов задняя юбка днище обработана ан...</td>\n      <td>1.6 л</td>\n      <td>72</td>\n      <td>{}</td>\n      <td>бензин</td>\n      <td>...</td>\n      <td>Оригинал</td>\n      <td>передний</td>\n      <td>Левый</td>\n      <td>NaN</td>\n      <td>Растаможен</td>\n      <td>1.274049e+05</td>\n      <td>golf</td>\n      <td>бензин 1.6</td>\n      <td>72 л.с.</td>\n      <td>3 или более</td>\n    </tr>\n    <tr>\n      <th>94015</th>\n      <td>универсал 5 дв.</td>\n      <td>VOLKSWAGEN</td>\n      <td>https://auto.ru/cars/used/sale/volkswagen/pass...</td>\n      <td>белый</td>\n      <td>{'back-brake': 'Drum', 'feeding': 'None', 'ful...</td>\n      <td>На разбор или под восстановление без АКБ Торг ...</td>\n      <td>1.8 л</td>\n      <td>107</td>\n      <td>{}</td>\n      <td>бензин</td>\n      <td>...</td>\n      <td>Оригинал</td>\n      <td>передний</td>\n      <td>Левый</td>\n      <td>NaN</td>\n      <td>Растаможен</td>\n      <td>5.175823e+04</td>\n      <td>passat</td>\n      <td>бензин 1.8</td>\n      <td>107 л.с.</td>\n      <td>3 или более</td>\n    </tr>\n    <tr>\n      <th>16755</th>\n      <td>лифтбек</td>\n      <td>SKODA</td>\n      <td>https://auto.ru/cars/used/sale/skoda/rapid/110...</td>\n      <td>серый</td>\n      <td>{'back-brake': 'Drum', 'feeding': 'None', 'ful...</td>\n      <td>Официальный дилерский центр РОЛЬФ Премиум Вешк...</td>\n      <td>1.6 л</td>\n      <td>110</td>\n      <td>{'airbag-driver': True, 'rain-sensor': True, '...</td>\n      <td>бензин</td>\n      <td>...</td>\n      <td>Оригинал</td>\n      <td>передний</td>\n      <td>Левый</td>\n      <td>NaN</td>\n      <td>Растаможен</td>\n      <td>6.131359e+05</td>\n      <td>rapid</td>\n      <td>бензин 1.6</td>\n      <td>110 л.с.</td>\n      <td>1 владелец</td>\n    </tr>\n    <tr>\n      <th>18626</th>\n      <td>хэтчбек 5 дв.</td>\n      <td>TOYOTA</td>\n      <td>https://auto.ru/cars/used/sale/toyota/corolla/...</td>\n      <td>белый</td>\n      <td>{'back-brake': 'Disc', 'feeding': 'None', 'ful...</td>\n      <td>Машина была привезена в Россию из Германии ещё...</td>\n      <td>1.6 л</td>\n      <td>110</td>\n      <td>{}</td>\n      <td>бензин</td>\n      <td>...</td>\n      <td>Оригинал</td>\n      <td>передний</td>\n      <td>Левый</td>\n      <td>NaN</td>\n      <td>Растаможен</td>\n      <td>1.672189e+05</td>\n      <td>corolla</td>\n      <td>бензин 1.6</td>\n      <td>110 л.с.</td>\n      <td>2 владельца</td>\n    </tr>\n    <tr>\n      <th>21554</th>\n      <td>седан</td>\n      <td>VOLKSWAGEN</td>\n      <td>https://auto.ru/cars/used/sale/volkswagen/vent...</td>\n      <td>серый</td>\n      <td>{'back-brake': 'Drum', 'feeding': 'None', 'ful...</td>\n      <td>Битый двигатель не пострадал система охлаждени...</td>\n      <td>1.8 л</td>\n      <td>75</td>\n      <td>{}</td>\n      <td>бензин</td>\n      <td>...</td>\n      <td>Оригинал</td>\n      <td>передний</td>\n      <td>Левый</td>\n      <td>NaN</td>\n      <td>Растаможен</td>\n      <td>7.962804e+04</td>\n      <td>vento</td>\n      <td>бензин 1.8</td>\n      <td>75 л.с.</td>\n      <td>3 или более</td>\n    </tr>\n    <tr>\n      <th>22540</th>\n      <td>универсал 5 дв.</td>\n      <td>VOLKSWAGEN</td>\n      <td>https://auto.ru/cars/used/sale/volkswagen/pass...</td>\n      <td>белый</td>\n      <td>{'back-brake': 'Drum', 'feeding': 'None', 'ful...</td>\n      <td>Авто с пробегом универсал перебрал генератор С...</td>\n      <td>1.6 л</td>\n      <td>72</td>\n      <td>{'tinted-glass': True, 'roof-rails': True, 'le...</td>\n      <td>бензин</td>\n      <td>...</td>\n      <td>Оригинал</td>\n      <td>передний</td>\n      <td>Левый</td>\n      <td>NaN</td>\n      <td>Растаможен</td>\n      <td>4.379542e+04</td>\n      <td>passat</td>\n      <td>бензин 1.6</td>\n      <td>72 л.с.</td>\n      <td>3 или более</td>\n    </tr>\n  </tbody>\n</table>\n<p>11 rows × 32 columns</p>\n</div>"
     },
     "execution_count": 228,
     "metadata": {},
     "output_type": "execute_result"
    }
   ],
   "source": [
    "train[train['Состояние'] != 'Не требует ремонта']"
   ],
   "metadata": {
    "collapsed": false,
    "pycharm": {
     "name": "#%%\n"
    }
   }
  },
  {
   "cell_type": "code",
   "execution_count": 229,
   "outputs": [],
   "source": [
    "train.dropna(subset=['Состояние'], inplace=True)"
   ],
   "metadata": {
    "collapsed": false,
    "pycharm": {
     "name": "#%%\n"
    }
   }
  },
  {
   "cell_type": "code",
   "execution_count": 230,
   "outputs": [
    {
     "name": "stdout",
     "output_type": "stream",
     "text": [
      "Statistics of items in vector: Состояние.\n",
      " ---------------------------\n",
      "Train has 1 unique items and has difference:\n",
      "set(),\n",
      "--\n",
      "Test has 1 unique items and has difference:\n",
      "set().\n",
      "Test_set values:\n",
      "{'Не требует ремонта'}\n"
     ]
    }
   ],
   "source": [
    "vector_items('Состояние')"
   ],
   "metadata": {
    "collapsed": false,
    "pycharm": {
     "name": "#%%\n"
    }
   }
  },
  {
   "cell_type": "code",
   "execution_count": 231,
   "outputs": [],
   "source": [
    "train.drop(['Состояние'], axis=1, inplace=True)\n",
    "test.drop(['Состояние'], axis=1, inplace=True)"
   ],
   "metadata": {
    "collapsed": false,
    "pycharm": {
     "name": "#%%\n"
    }
   }
  },
  {
   "cell_type": "markdown",
   "source": [
    "---\n",
    "## 2.10 Таможня"
   ],
   "metadata": {
    "collapsed": false
   }
  },
  {
   "cell_type": "markdown",
   "source": [
    "The same history with vector 'Таможня'. Analysis of the records led to the conclusion that these options relate to non-cleared cars or dubious ownership or purchase histories. So I delete this records from dataset.\n",
    "After that - delete vector as unuseful for ML"
   ],
   "metadata": {
    "collapsed": false
   }
  },
  {
   "cell_type": "code",
   "execution_count": 232,
   "outputs": [
    {
     "name": "stdout",
     "output_type": "stream",
     "text": [
      "Statistics of items in vector: Таможня.\n",
      " ---------------------------\n",
      "Train has 2 unique items and has difference:\n",
      "{nan},\n",
      "--\n",
      "Test has 1 unique items and has difference:\n",
      "set().\n",
      "Test_set values:\n",
      "{'Растаможен'}\n"
     ]
    }
   ],
   "source": [
    "vector_items('Таможня')"
   ],
   "metadata": {
    "collapsed": false,
    "pycharm": {
     "name": "#%%\n"
    }
   }
  },
  {
   "cell_type": "code",
   "execution_count": 233,
   "outputs": [],
   "source": [
    "train.dropna(subset=['Таможня'], inplace=True)"
   ],
   "metadata": {
    "collapsed": false,
    "pycharm": {
     "name": "#%%\n"
    }
   }
  },
  {
   "cell_type": "code",
   "execution_count": 234,
   "outputs": [
    {
     "name": "stdout",
     "output_type": "stream",
     "text": [
      "Statistics of items in vector: Таможня.\n",
      " ---------------------------\n",
      "Train has 1 unique items and has difference:\n",
      "set(),\n",
      "--\n",
      "Test has 1 unique items and has difference:\n",
      "set().\n",
      "Test_set values:\n",
      "{'Растаможен'}\n"
     ]
    }
   ],
   "source": [
    "vector_items('Таможня')"
   ],
   "metadata": {
    "collapsed": false,
    "pycharm": {
     "name": "#%%\n"
    }
   }
  },
  {
   "cell_type": "code",
   "execution_count": 235,
   "outputs": [],
   "source": [
    "train.drop(['Таможня'], axis=1, inplace=True)\n",
    "test.drop(['Таможня'], axis=1, inplace=True)"
   ],
   "metadata": {
    "collapsed": false,
    "pycharm": {
     "name": "#%%\n"
    }
   }
  },
  {
   "cell_type": "markdown",
   "source": [
    "---\n",
    "## 2.11. climate (new vector from equpment data)"
   ],
   "metadata": {
    "collapsed": false
   }
  },
  {
   "cell_type": "code",
   "execution_count": 236,
   "outputs": [],
   "source": [
    "\"\"\" function to make filling fo vector 'climate'\"\"\"\n",
    "def climate(record):\n",
    "    \"\"\"\n",
    "    :param record: record from dataset called by apply\n",
    "    :return: data for vector 'climate'\n",
    "    \"\"\"\n",
    "\n",
    "    text = record.equipment_dict\n",
    "    result='no data'\n",
    "\n",
    "    try:\n",
    "        text.index('condition')\n",
    "        result = 'condition'\n",
    "    except:\n",
    "        pass\n",
    "\n",
    "    try:\n",
    "        text.index('climate-control')\n",
    "        result = 'climate-control'\n",
    "    except:\n",
    "        pass\n",
    "\n",
    "    return result"
   ],
   "metadata": {
    "collapsed": false,
    "pycharm": {
     "name": "#%%\n"
    }
   }
  },
  {
   "cell_type": "code",
   "execution_count": 237,
   "outputs": [],
   "source": [
    "train['climate'] = train.apply(climate, axis=1)"
   ],
   "metadata": {
    "collapsed": false,
    "pycharm": {
     "name": "#%%\n"
    }
   }
  },
  {
   "cell_type": "markdown",
   "source": [
    "---\n",
    "## 2.0 Prepare for Feature engineering"
   ],
   "metadata": {
    "collapsed": false
   }
  },
  {
   "cell_type": "code",
   "execution_count": 238,
   "outputs": [],
   "source": [
    "# delete some vectors\n",
    "train.drop(['complectation_dict', 'equipment_dict', 'car_url',\n",
    "            'image', 'description', 'priceCurrency'], axis=1, inplace=True)\n",
    "test.drop(['complectation_dict', 'equipment_dict', 'car_url',\n",
    "           'image', 'description', 'priceCurrency'], axis=1, inplace=True)"
   ],
   "metadata": {
    "collapsed": false,
    "pycharm": {
     "name": "#%%\n"
    }
   }
  },
  {
   "cell_type": "code",
   "execution_count": 239,
   "outputs": [],
   "source": [
    "# append test dataset to train dataset with value of price=0\n",
    "# vector-mark of test - 'test'\n",
    "test['price']=0\n",
    "test['test']=1\n",
    "train['test']=0\n",
    "data = train.append(test)"
   ],
   "metadata": {
    "collapsed": false,
    "pycharm": {
     "name": "#%%\n"
    }
   }
  },
  {
   "cell_type": "code",
   "execution_count": 240,
   "outputs": [
    {
     "data": {
      "text/plain": "((146632, 26), (111946, 26), (34686, 25))"
     },
     "execution_count": 240,
     "metadata": {},
     "output_type": "execute_result"
    }
   ],
   "source": [
    "data.shape, train.shape, test.shape"
   ],
   "metadata": {
    "collapsed": false,
    "pycharm": {
     "name": "#%%\n"
    }
   }
  },
  {
   "cell_type": "code",
   "execution_count": 241,
   "outputs": [
    {
     "name": "stdout",
     "output_type": "stream",
     "text": [
      "<class 'pandas.core.frame.DataFrame'>\n",
      "Int64Index: 146632 entries, 0 to 34685\n",
      "Data columns (total 26 columns):\n",
      " #   Column                Non-Null Count   Dtype  \n",
      "---  ------                --------------   -----  \n",
      " 0   bodyType              146632 non-null  object \n",
      " 1   brand                 146632 non-null  object \n",
      " 2   color                 146632 non-null  object \n",
      " 3   engineDisplacement    146632 non-null  object \n",
      " 4   enginePower           146632 non-null  int64  \n",
      " 5   fuelType              146632 non-null  object \n",
      " 6   mileage               146632 non-null  int64  \n",
      " 7   numberOfDoors         146632 non-null  int64  \n",
      " 8   parsing_unixtime      146632 non-null  int64  \n",
      " 9   productionDate        146632 non-null  int64  \n",
      " 10  sell_id               146632 non-null  int64  \n",
      " 11  super_gen             146632 non-null  object \n",
      " 12  vehicleConfiguration  146632 non-null  object \n",
      " 13  vehicleTransmission   146632 non-null  object \n",
      " 14  vendor                146632 non-null  object \n",
      " 15  Владельцы             146632 non-null  int64  \n",
      " 16  ПТС                   146632 non-null  object \n",
      " 17  Привод                146632 non-null  object \n",
      " 18  Руль                  146632 non-null  object \n",
      " 19  price                 146632 non-null  float64\n",
      " 20  model                 146632 non-null  object \n",
      " 21  engineName            146632 non-null  object \n",
      " 22  enginePowerValue      146632 non-null  object \n",
      " 23  owners                146632 non-null  object \n",
      " 24  climate               111946 non-null  object \n",
      " 25  test                  146632 non-null  int64  \n",
      "dtypes: float64(1), int64(8), object(17)\n",
      "memory usage: 30.2+ MB\n"
     ]
    }
   ],
   "source": [
    "data.info()"
   ],
   "metadata": {
    "collapsed": false,
    "pycharm": {
     "name": "#%%\n"
    }
   }
  },
  {
   "cell_type": "markdown",
   "source": [
    "---\n",
    "# 2.FE"
   ],
   "metadata": {
    "collapsed": false
   }
  },
  {
   "cell_type": "markdown",
   "source": [
    "IDEAS\n",
    "* average mileage per year\n",
    "* (X) average mileage by owner\n",
    "* rarity\n",
    "* older 3-5 year\n",
    "* (X) color clustering\n",
    "* body clustering\n",
    "* car ownership period\n",
    "\n",
    "(X) - no useful idea"
   ],
   "metadata": {
    "collapsed": false
   }
  },
  {
   "cell_type": "markdown",
   "source": [
    "---\n",
    "## 2.1. average mileage per year, average mileage by owner"
   ],
   "metadata": {
    "collapsed": false
   }
  },
  {
   "cell_type": "code",
   "execution_count": 242,
   "outputs": [
    {
     "name": "stdout",
     "output_type": "stream",
     "text": [
      "<class 'pandas.core.frame.DataFrame'>\n",
      "Int64Index: 146632 entries, 0 to 34685\n",
      "Data columns (total 26 columns):\n",
      " #   Column                Non-Null Count   Dtype  \n",
      "---  ------                --------------   -----  \n",
      " 0   bodyType              146632 non-null  object \n",
      " 1   brand                 146632 non-null  object \n",
      " 2   color                 146632 non-null  object \n",
      " 3   engineDisplacement    146632 non-null  object \n",
      " 4   enginePower           146632 non-null  int64  \n",
      " 5   fuelType              146632 non-null  object \n",
      " 6   mileage               146632 non-null  int64  \n",
      " 7   numberOfDoors         146632 non-null  int64  \n",
      " 8   parsing_unixtime      146632 non-null  int64  \n",
      " 9   productionDate        146632 non-null  int64  \n",
      " 10  sell_id               146632 non-null  int64  \n",
      " 11  super_gen             146632 non-null  object \n",
      " 12  vehicleConfiguration  146632 non-null  object \n",
      " 13  vehicleTransmission   146632 non-null  object \n",
      " 14  vendor                146632 non-null  object \n",
      " 15  Владельцы             146632 non-null  int64  \n",
      " 16  ПТС                   146632 non-null  object \n",
      " 17  Привод                146632 non-null  object \n",
      " 18  Руль                  146632 non-null  object \n",
      " 19  price                 146632 non-null  float64\n",
      " 20  model                 146632 non-null  object \n",
      " 21  engineName            146632 non-null  object \n",
      " 22  enginePowerValue      146632 non-null  object \n",
      " 23  owners                146632 non-null  object \n",
      " 24  climate               111946 non-null  object \n",
      " 25  test                  146632 non-null  int64  \n",
      "dtypes: float64(1), int64(8), object(17)\n",
      "memory usage: 30.2+ MB\n"
     ]
    }
   ],
   "source": [
    "data.info()"
   ],
   "metadata": {
    "collapsed": false,
    "pycharm": {
     "name": "#%%\n"
    }
   }
  },
  {
   "cell_type": "code",
   "execution_count": 243,
   "outputs": [],
   "source": [
    "def mil_year(record):\n",
    "    date = record.productionDate\n",
    "    age = 2021 - date - record.test + 1\n",
    "    result = record.mileage / age\n",
    "    return result"
   ],
   "metadata": {
    "collapsed": false,
    "pycharm": {
     "name": "#%%\n"
    }
   }
  },
  {
   "cell_type": "code",
   "execution_count": 244,
   "outputs": [],
   "source": [
    "data['mileage_year'] = data.apply(mil_year, axis=1)"
   ],
   "metadata": {
    "collapsed": false,
    "pycharm": {
     "name": "#%%\n"
    }
   }
  },
  {
   "cell_type": "code",
   "execution_count": 93,
   "outputs": [],
   "source": [
    "data['mileage_owner'] = data.apply(lambda r: r.mileage / r['Владельцы'], axis=1)"
   ],
   "metadata": {
    "collapsed": false,
    "pycharm": {
     "name": "#%%\n"
    }
   }
  },
  {
   "cell_type": "markdown",
   "source": [
    "---\n",
    "## 2.2. color clustering"
   ],
   "metadata": {
    "collapsed": false
   }
  },
  {
   "cell_type": "code",
   "execution_count": 142,
   "outputs": [
    {
     "data": {
      "text/plain": "чёрный         0.287147\nбелый          0.226984\nсерый          0.135038\nсеребристый    0.110455\nсиний          0.086041\nкрасный        0.042485\nкоричневый     0.036786\nзелёный        0.023726\nбежевый        0.015856\nголубой        0.010407\nпурпурный      0.006637\nзолотистый     0.006155\nфиолетовый     0.005529\nжёлтый         0.003412\nоранжевый      0.003046\nрозовый        0.000295\nName: color, dtype: float64"
     },
     "execution_count": 142,
     "metadata": {},
     "output_type": "execute_result"
    }
   ],
   "source": [
    "train.color.value_counts(normalize=True)"
   ],
   "metadata": {
    "collapsed": false,
    "pycharm": {
     "name": "#%%\n"
    }
   }
  },
  {
   "cell_type": "code",
   "execution_count": 153,
   "outputs": [
    {
     "data": {
      "text/plain": "                  mean  count\ncolor                        \nчёрный       1662717.0  32145\nкоричневый   1403319.0   4118\nбелый        1390148.0  25410\nоранжевый    1360564.0    341\nсерый        1184607.0  15117\nсиний        1181653.0   9632\nбежевый       955126.0   1775\nкрасный       881731.0   4756\nжёлтый        873158.0    382\nзолотистый    837154.0    689\nголубой       815732.0   1165\nсеребристый   804695.0  12365\nпурпурный     803504.0    743\nфиолетовый    771913.0    619\nзелёный       693273.0   2656\nрозовый       506796.0     33",
      "text/html": "<div>\n<style scoped>\n    .dataframe tbody tr th:only-of-type {\n        vertical-align: middle;\n    }\n\n    .dataframe tbody tr th {\n        vertical-align: top;\n    }\n\n    .dataframe thead th {\n        text-align: right;\n    }\n</style>\n<table border=\"1\" class=\"dataframe\">\n  <thead>\n    <tr style=\"text-align: right;\">\n      <th></th>\n      <th>mean</th>\n      <th>count</th>\n    </tr>\n    <tr>\n      <th>color</th>\n      <th></th>\n      <th></th>\n    </tr>\n  </thead>\n  <tbody>\n    <tr>\n      <th>чёрный</th>\n      <td>1662717.0</td>\n      <td>32145</td>\n    </tr>\n    <tr>\n      <th>коричневый</th>\n      <td>1403319.0</td>\n      <td>4118</td>\n    </tr>\n    <tr>\n      <th>белый</th>\n      <td>1390148.0</td>\n      <td>25410</td>\n    </tr>\n    <tr>\n      <th>оранжевый</th>\n      <td>1360564.0</td>\n      <td>341</td>\n    </tr>\n    <tr>\n      <th>серый</th>\n      <td>1184607.0</td>\n      <td>15117</td>\n    </tr>\n    <tr>\n      <th>синий</th>\n      <td>1181653.0</td>\n      <td>9632</td>\n    </tr>\n    <tr>\n      <th>бежевый</th>\n      <td>955126.0</td>\n      <td>1775</td>\n    </tr>\n    <tr>\n      <th>красный</th>\n      <td>881731.0</td>\n      <td>4756</td>\n    </tr>\n    <tr>\n      <th>жёлтый</th>\n      <td>873158.0</td>\n      <td>382</td>\n    </tr>\n    <tr>\n      <th>золотистый</th>\n      <td>837154.0</td>\n      <td>689</td>\n    </tr>\n    <tr>\n      <th>голубой</th>\n      <td>815732.0</td>\n      <td>1165</td>\n    </tr>\n    <tr>\n      <th>серебристый</th>\n      <td>804695.0</td>\n      <td>12365</td>\n    </tr>\n    <tr>\n      <th>пурпурный</th>\n      <td>803504.0</td>\n      <td>743</td>\n    </tr>\n    <tr>\n      <th>фиолетовый</th>\n      <td>771913.0</td>\n      <td>619</td>\n    </tr>\n    <tr>\n      <th>зелёный</th>\n      <td>693273.0</td>\n      <td>2656</td>\n    </tr>\n    <tr>\n      <th>розовый</th>\n      <td>506796.0</td>\n      <td>33</td>\n    </tr>\n  </tbody>\n</table>\n</div>"
     },
     "execution_count": 153,
     "metadata": {},
     "output_type": "execute_result"
    }
   ],
   "source": [
    "np.around(train.groupby(['color'])['price'].agg(['mean', 'count']).sort_values(by='mean',ascending=False),0)"
   ],
   "metadata": {
    "collapsed": false,
    "pycharm": {
     "name": "#%%\n"
    }
   }
  },
  {
   "cell_type": "code",
   "execution_count": 163,
   "outputs": [],
   "source": [
    "# https://autoreview.ru/news/samye-populyarnye-cveta-avtomobiley-statistika-2020-goda\n",
    "color_pop ={\n",
    "     'бежевый': 15,\n",
    "     'белый': 227,\n",
    "     'голубой': 10,\n",
    "     'жёлтый': 3,\n",
    "     'зелёный': 23,\n",
    "     'золотистый': 6,\n",
    "     'коричневый': 36,\n",
    "     'красный': 42,\n",
    "     'оранжевый': 3,\n",
    "     'пурпурный': 6,\n",
    "     'розовый': 0,\n",
    "     'серебристый': 110,\n",
    "     'серый':135,\n",
    "     'синий': 86,\n",
    "     'фиолетовый': 5,\n",
    "     'чёрный': 287\n",
    "     }"
   ],
   "metadata": {
    "collapsed": false,
    "pycharm": {
     "name": "#%%\n"
    }
   }
  },
  {
   "cell_type": "code",
   "execution_count": null,
   "outputs": [],
   "source": [
    "color_pop ={\n",
    "    'бежевый': 1,\n",
    "    'белый': 38,\n",
    "    'голубой': 1,\n",
    "    'жёлтый': 2,\n",
    "    'зелёный': 1,\n",
    "    'золотистый': 2,\n",
    "    'коричневый': 3,\n",
    "    'красный': 5,\n",
    "    'оранжевый': 1,\n",
    "    'пурпурный': 1,\n",
    "    'розовый': 1,\n",
    "    'серебристый': 9,\n",
    "    'серый':15,\n",
    "    'синий': 7,\n",
    "    'фиолетовый': 1,\n",
    "    'чёрный': 19\n",
    "}"
   ],
   "metadata": {
    "collapsed": false,
    "pycharm": {
     "name": "#%%\n"
    }
   }
  },
  {
   "cell_type": "code",
   "execution_count": 164,
   "outputs": [],
   "source": [
    "data['color_pop']=data.color.map(color_pop)"
   ],
   "metadata": {
    "collapsed": false,
    "pycharm": {
     "name": "#%%\n"
    }
   }
  },
  {
   "cell_type": "code",
   "execution_count": 167,
   "outputs": [],
   "source": [
    "data.drop(['color_pop', 'mileage_owner'], axis=1, inplace=True)"
   ],
   "metadata": {
    "collapsed": false,
    "pycharm": {
     "name": "#%%\n"
    }
   }
  },
  {
   "cell_type": "code",
   "execution_count": null,
   "outputs": [],
   "source": [],
   "metadata": {
    "collapsed": false,
    "pycharm": {
     "name": "#%%\n"
    }
   }
  },
  {
   "cell_type": "markdown",
   "source": [
    "---\n",
    "# Making dataset with final set of features"
   ],
   "metadata": {
    "collapsed": false
   }
  },
  {
   "cell_type": "code",
   "execution_count": 258,
   "outputs": [],
   "source": [
    "data.to_csv(path+'data_eda_ksv.csv', index=False)"
   ],
   "metadata": {
    "collapsed": false,
    "pycharm": {
     "name": "#%%\n"
    }
   }
  },
  {
   "cell_type": "markdown",
   "source": [
    "----"
   ],
   "metadata": {
    "collapsed": false
   }
  },
  {
   "cell_type": "code",
   "execution_count": null,
   "outputs": [],
   "source": [],
   "metadata": {
    "collapsed": false,
    "pycharm": {
     "name": "#%%\n"
    }
   }
  },
  {
   "cell_type": "code",
   "execution_count": 7,
   "outputs": [
    {
     "name": "stdout",
     "output_type": "stream",
     "text": [
      "Requirement already satisfied: category_encoders in /opt/anaconda3/lib/python3.8/site-packages (2.3.0)\r\n",
      "Requirement already satisfied: scikit-learn>=0.20.0 in /opt/anaconda3/lib/python3.8/site-packages (from category_encoders) (0.24.1)\r\n",
      "Requirement already satisfied: patsy>=0.5.1 in /opt/anaconda3/lib/python3.8/site-packages (from category_encoders) (0.5.1)\r\n",
      "Requirement already satisfied: pandas>=0.21.1 in /opt/anaconda3/lib/python3.8/site-packages (from category_encoders) (1.2.4)\r\n",
      "Requirement already satisfied: scipy>=1.0.0 in /opt/anaconda3/lib/python3.8/site-packages (from category_encoders) (1.6.2)\r\n",
      "Requirement already satisfied: statsmodels>=0.9.0 in /opt/anaconda3/lib/python3.8/site-packages (from category_encoders) (0.12.2)\r\n",
      "Requirement already satisfied: numpy>=1.14.0 in /opt/anaconda3/lib/python3.8/site-packages (from category_encoders) (1.20.1)\r\n",
      "Requirement already satisfied: python-dateutil>=2.7.3 in /opt/anaconda3/lib/python3.8/site-packages (from pandas>=0.21.1->category_encoders) (2.8.1)\r\n",
      "Requirement already satisfied: pytz>=2017.3 in /opt/anaconda3/lib/python3.8/site-packages (from pandas>=0.21.1->category_encoders) (2021.1)\r\n",
      "Requirement already satisfied: six in /opt/anaconda3/lib/python3.8/site-packages (from patsy>=0.5.1->category_encoders) (1.15.0)\r\n",
      "Requirement already satisfied: joblib>=0.11 in /opt/anaconda3/lib/python3.8/site-packages (from scikit-learn>=0.20.0->category_encoders) (1.0.1)\r\n",
      "Requirement already satisfied: threadpoolctl>=2.0.0 in /opt/anaconda3/lib/python3.8/site-packages (from scikit-learn>=0.20.0->category_encoders) (2.1.0)\r\n",
      "Note: you may need to restart the kernel to use updated packages.\n"
     ]
    }
   ],
   "source": [
    "#pip install category_encoders"
   ],
   "metadata": {
    "collapsed": false,
    "pycharm": {
     "name": "#%%\n"
    }
   }
  },
  {
   "cell_type": "code",
   "execution_count": 6,
   "outputs": [],
   "source": [
    "#import category_encoders as ce"
   ],
   "metadata": {
    "collapsed": false,
    "pycharm": {
     "name": "#%%\n"
    }
   }
  },
  {
   "cell_type": "code",
   "execution_count": 133,
   "outputs": [],
   "source": [
    "\"\"\" function for checking feature importance\"\"\"\n",
    "def feature_imp(dataset, regressor, encoder, test_drop = True, target=target):\n",
    "    \"\"\"\n",
    "    :param dataset: dataset for ML\n",
    "    :param regressor: algorithm of ML\n",
    "    :param encoder: encoder for categorical vectors\n",
    "    :param test_drop: boolean flag whether need to separate test data from dataset\n",
    "    :param target: name of target\n",
    "    :return: list of features with weights descending, score of algorithm and MAPE score\n",
    "    \"\"\"\n",
    "    \n",
    "    # copy dataset useful if you need to drop some vectors from dataset\n",
    "    dataset=dataset.copy()\n",
    "\n",
    "    # checkin boolean flag to drop test data from dataset\n",
    "    if test_drop:\n",
    "        dataset = dataset[dataset.test == 0]\n",
    "\n",
    "    # drop vector 'test'\n",
    "    dataset.drop(['test'], axis=1, inplace=True)\n",
    "\n",
    "    # make variables x and y for ML model\n",
    "    x, y = dataset.drop(target, axis=1), np.log(dataset[target])\n",
    "    \n",
    "    # encoding categorical vectors with encoder\n",
    "    encoder.fit(x, y)\n",
    "    X = encoder.transform(x)\n",
    "\n",
    "    # split for validate and fit ML model\n",
    "    X_train, X_test, y_train, y_test = train_test_split(X, y, test_size=0.2, shuffle=True, random_state=SEED)\n",
    "    regressor.fit(X_train, y_train)\n",
    "    \n",
    "    # make dataframe with features importance\n",
    "    importance = regressor.feature_importances_\n",
    "    value = pd.DataFrame(data=importance, index=X.columns, columns=['importance'])\n",
    "    print(value.importance.sort_values(ascending=False))\n",
    "    \n",
    "    # calculate ML model score\n",
    "    score = regressor.score(X_test, y_test)\n",
    "    print(f'Score of regressor {score*100:0.2f}%')\n",
    "\n",
    "    # calculate MAPE score\n",
    "    predict = np.exp(regressor.predict(X_test))\n",
    "    print(f\"MAPE: {(mape(np.exp(y_test), predict))*100:0.2f}%\")"
   ],
   "metadata": {
    "collapsed": false,
    "pycharm": {
     "name": "#%%\n"
    }
   }
  },
  {
   "cell_type": "code",
   "execution_count": 251,
   "outputs": [
    {
     "name": "stdout",
     "output_type": "stream",
     "text": [
      "productionDate          0.550408\n",
      "enginePowerValue        0.162881\n",
      "model                   0.158358\n",
      "enginePower             0.023451\n",
      "mileage                 0.019268\n",
      "parsing_unixtime        0.018238\n",
      "engineDisplacement      0.017829\n",
      "vehicleConfiguration    0.011065\n",
      "engineName              0.007806\n",
      "sell_id                 0.005292\n",
      "mileage_year            0.005063\n",
      "Привод                  0.004166\n",
      "brand                   0.004143\n",
      "bodyType                0.003828\n",
      "color                   0.002006\n",
      "super_gen               0.001146\n",
      "owners                  0.001139\n",
      "vendor                  0.001054\n",
      "vehicleTransmission     0.000990\n",
      "numberOfDoors           0.000989\n",
      "Руль                    0.000879\n",
      "Name: importance, dtype: float64\n",
      "Score of regressor 97.28%\n",
      "MAPE: 9.32%\n"
     ]
    }
   ],
   "source": [
    "list_to_drop = ['ПТС', 'Владельцы', 'fuelType', 'climate'] #, 'numberOfDoors', 'vehicleTransmission', 'Руль', 'owners', ]\n",
    "parameters = {\n",
    "    'regressor': RandomForestRegressor(random_state=SEED),\n",
    "    'encoder': ce.TargetEncoder()\n",
    "}\n",
    "feature_imp(data.drop(list_to_drop, axis=1), **parameters)\n",
    "# 97,28%, MAPE 9,32%  RF Target  ['ПТС', 'Владельцы', 'fuelType', 'climate']\n"
   ],
   "metadata": {
    "collapsed": false,
    "pycharm": {
     "name": "#%%\n"
    }
   }
  },
  {
   "cell_type": "code",
   "execution_count": 252,
   "outputs": [
    {
     "name": "stdout",
     "output_type": "stream",
     "text": [
      "productionDate          39.725214\n",
      "model                   16.765604\n",
      "enginePower              7.812171\n",
      "enginePowerValue         7.687615\n",
      "mileage                  6.535942\n",
      "vehicleConfiguration     3.582430\n",
      "parsing_unixtime         2.600189\n",
      "brand                    2.182875\n",
      "engineName               2.044012\n",
      "Привод                   2.009141\n",
      "engineDisplacement       1.751512\n",
      "bodyType                 1.591147\n",
      "fuelType                 0.951279\n",
      "vendor                   0.870902\n",
      "mileage_year             0.736897\n",
      "Руль                     0.581465\n",
      "numberOfDoors            0.450105\n",
      "sell_id                  0.417147\n",
      "Владельцы                0.344988\n",
      "vehicleTransmission      0.318904\n",
      "super_gen                0.312482\n",
      "climate                  0.270384\n",
      "owners                   0.215072\n",
      "color                    0.166500\n",
      "ПТС                      0.076021\n",
      "Name: importance, dtype: float64\n",
      "Score of regressor 96.48%\n",
      "MAPE: 12.32%\n"
     ]
    }
   ],
   "source": [
    "parameters = {\n",
    "    'regressor': CatBoostRegressor(iterations = 5000,\n",
    "                                   random_seed = SEED,\n",
    "                                   eval_metric='MAPE',\n",
    "                                   custom_metric=['R2', 'MAE'],\n",
    "                                   silent=True,\n",
    "                                   ),\n",
    "    'encoder': ce.CatBoostEncoder()\n",
    "}\n",
    "feature_imp(data, **parameters)"
   ],
   "metadata": {
    "collapsed": false,
    "pycharm": {
     "name": "#%%\n"
    }
   }
  },
  {
   "cell_type": "code",
   "execution_count": 125,
   "outputs": [
    {
     "name": "stdout",
     "output_type": "stream",
     "text": [
      "productionDate          0.540784\n",
      "enginePowerValue        0.183545\n",
      "model                   0.155123\n",
      "mileage                 0.022575\n",
      "enginePower             0.020910\n",
      "parsing_unixtime        0.019883\n",
      "engineName              0.011431\n",
      "engineDisplacement      0.008528\n",
      "vehicleConfiguration    0.005710\n",
      "sell_id                 0.004733\n",
      "mileage_year            0.004348\n",
      "brand                   0.003803\n",
      "bodyType                0.003530\n",
      "Привод                  0.003314\n",
      "mileage_owner           0.002847\n",
      "color                   0.001659\n",
      "super_gen               0.001380\n",
      "vehicleTransmission     0.001207\n",
      "Руль                    0.001043\n",
      "numberOfDoors           0.000946\n",
      "vendor                  0.000866\n",
      "fuelType                0.000597\n",
      "ПТС                     0.000467\n",
      "owners                  0.000461\n",
      "Владельцы               0.000310\n",
      "test                    0.000000\n",
      "Name: importance, dtype: float64\n",
      "Score of regressor 94.60%\n",
      "MAPE: 13.41%\n"
     ]
    }
   ],
   "source": [
    "parameters = {\n",
    "    'regressor': DecisionTreeRegressor(random_state=SEED),\n",
    "    'encoder': ce.CatBoostEncoder()\n",
    "}\n",
    "feature_imp(data, **parameters)"
   ],
   "metadata": {
    "collapsed": false,
    "pycharm": {
     "name": "#%%\n"
    }
   }
  },
  {
   "cell_type": "code",
   "execution_count": 253,
   "outputs": [
    {
     "name": "stdout",
     "output_type": "stream",
     "text": [
      "productionDate          0.283181\n",
      "model                   0.165267\n",
      "enginePowerValue        0.107606\n",
      "Привод                  0.100611\n",
      "vehicleConfiguration    0.089767\n",
      "mileage                 0.069859\n",
      "enginePower             0.030351\n",
      "owners                  0.025407\n",
      "engineName              0.024936\n",
      "engineDisplacement      0.016588\n",
      "bodyType                0.011623\n",
      "brand                   0.010854\n",
      "Владельцы               0.010215\n",
      "mileage_year            0.006935\n",
      "parsing_unixtime        0.006662\n",
      "vehicleTransmission     0.006288\n",
      "climate                 0.005475\n",
      "vendor                  0.005272\n",
      "Руль                    0.005003\n",
      "fuelType                0.004592\n",
      "sell_id                 0.003838\n",
      "color                   0.003334\n",
      "numberOfDoors           0.003155\n",
      "ПТС                     0.001630\n",
      "super_gen               0.001552\n",
      "Name: importance, dtype: float64\n",
      "Score of regressor 96.65%\n",
      "MAPE: 10.95%\n"
     ]
    }
   ],
   "source": [
    "parameters = {\n",
    "    'regressor': ExtraTreesRegressor(random_state=SEED),\n",
    "    'encoder': ce.TargetEncoder()\n",
    "}\n",
    "feature_imp(data, **parameters)\n",
    "# 96,64, MAPE 10,99%\n",
    "# 96,65   MAPE 10,95%"
   ],
   "metadata": {
    "collapsed": false,
    "pycharm": {
     "name": "#%%\n"
    }
   }
  },
  {
   "cell_type": "code",
   "execution_count": 127,
   "outputs": [
    {
     "name": "stdout",
     "output_type": "stream",
     "text": [
      "model                   455\n",
      "productionDate          434\n",
      "parsing_unixtime        359\n",
      "enginePower             300\n",
      "brand                   181\n",
      "enginePowerValue        165\n",
      "mileage                 148\n",
      "vehicleConfiguration    114\n",
      "mileage_year             96\n",
      "bodyType                 92\n",
      "engineDisplacement       84\n",
      "super_gen                75\n",
      "engineName               73\n",
      "fuelType                 64\n",
      "Руль                     57\n",
      "Привод                   56\n",
      "sell_id                  55\n",
      "numberOfDoors            44\n",
      "mileage_owner            35\n",
      "Владельцы                31\n",
      "vehicleTransmission      30\n",
      "vendor                   21\n",
      "color                    20\n",
      "ПТС                      11\n",
      "owners                    0\n",
      "test                      0\n",
      "Name: importance, dtype: int32\n",
      "Score of regressor 95.42%\n",
      "MAPE: 14.38%\n"
     ]
    }
   ],
   "source": [
    "parameters = {\n",
    "    'regressor': LGBMRegressor(random_state=SEED),\n",
    "    'encoder': ce.CatBoostEncoder()\n",
    "}\n",
    "feature_imp(data, **parameters)"
   ],
   "metadata": {
    "collapsed": false,
    "pycharm": {
     "name": "#%%\n"
    }
   }
  },
  {
   "cell_type": "code",
   "execution_count": 254,
   "outputs": [
    {
     "name": "stdout",
     "output_type": "stream",
     "text": [
      "productionDate          0.386466\n",
      "enginePowerValue        0.166478\n",
      "model                   0.109561\n",
      "vehicleConfiguration    0.057470\n",
      "engineDisplacement      0.052641\n",
      "engineName              0.038182\n",
      "Привод                  0.034812\n",
      "enginePower             0.025553\n",
      "mileage                 0.019464\n",
      "bodyType                0.017913\n",
      "Владельцы               0.014442\n",
      "fuelType                0.012127\n",
      "brand                   0.010410\n",
      "Руль                    0.009078\n",
      "vehicleTransmission     0.008931\n",
      "numberOfDoors           0.007294\n",
      "vendor                  0.007161\n",
      "climate                 0.006069\n",
      "parsing_unixtime        0.004321\n",
      "super_gen               0.004097\n",
      "mileage_year            0.002653\n",
      "ПТС                     0.002559\n",
      "sell_id                 0.001525\n",
      "color                   0.000792\n",
      "owners                  0.000000\n",
      "Name: importance, dtype: float32\n",
      "Score of regressor 96.30%\n",
      "MAPE: 12.78%\n"
     ]
    }
   ],
   "source": [
    "parameters = {\n",
    "    'regressor': XGBRegressor(random_state=SEED),\n",
    "    'encoder': ce.CatBoostEncoder()\n",
    "}\n",
    "feature_imp(data, **parameters)"
   ],
   "metadata": {
    "collapsed": false,
    "pycharm": {
     "name": "#%%\n"
    }
   }
  },
  {
   "cell_type": "markdown",
   "source": [],
   "metadata": {
    "collapsed": false
   }
  },
  {
   "cell_type": "code",
   "execution_count": 169,
   "outputs": [],
   "source": [],
   "metadata": {
    "collapsed": false,
    "pycharm": {
     "name": "#%%\n"
    }
   }
  },
  {
   "cell_type": "code",
   "execution_count": null,
   "outputs": [],
   "source": [],
   "metadata": {
    "collapsed": false,
    "pycharm": {
     "name": "#%%\n"
    }
   }
  },
  {
   "cell_type": "code",
   "execution_count": null,
   "outputs": [],
   "source": [],
   "metadata": {
    "collapsed": false,
    "pycharm": {
     "name": "#%%\n"
    }
   }
  },
  {
   "cell_type": "code",
   "execution_count": null,
   "outputs": [],
   "source": [],
   "metadata": {
    "collapsed": false,
    "pycharm": {
     "name": "#%%\n"
    }
   }
  },
  {
   "cell_type": "code",
   "execution_count": null,
   "outputs": [],
   "source": [],
   "metadata": {
    "collapsed": false,
    "pycharm": {
     "name": "#%%\n"
    }
   }
  },
  {
   "cell_type": "code",
   "execution_count": null,
   "outputs": [],
   "source": [],
   "metadata": {
    "collapsed": false,
    "pycharm": {
     "name": "#%%\n"
    }
   }
  },
  {
   "cell_type": "markdown",
   "source": [
    "----\n",
    "# CatBosting"
   ],
   "metadata": {
    "collapsed": false
   }
  },
  {
   "cell_type": "code",
   "execution_count": null,
   "outputs": [],
   "source": [
    "X_train, X_test, y_train, y_test = train_test_split(x, y, test_size=0.2, shuffle=True, random_state=SEED)"
   ],
   "metadata": {
    "collapsed": false,
    "pycharm": {
     "name": "#%%\n"
    }
   }
  },
  {
   "cell_type": "code",
   "execution_count": null,
   "outputs": [],
   "source": [
    "model = CatBoostRegressor(iterations = 5000,\n",
    "                          random_seed = SEED,\n",
    "                          eval_metric='MAPE',\n",
    "                          custom_metric=['R2', 'MAE'],\n",
    "                          silent=True,\n",
    "                          )\n",
    "model.fit(X_train, y_train,\n",
    "          #cat_features=cat_features_ids,\n",
    "          eval_set=(X_test, y_test),\n",
    "          verbose_eval=0,\n",
    "          use_best_model=True,\n",
    "          #plot=True\n",
    "          )\n",
    "\n",
    "model.save_model('catboost_single_model_baseline.model')"
   ],
   "metadata": {
    "collapsed": false,
    "pycharm": {
     "name": "#%%\n"
    }
   }
  },
  {
   "cell_type": "code",
   "execution_count": null,
   "outputs": [],
   "source": [
    "predict = model.predict(X_test)\n",
    "print(f\"Точность модели по метрике MAPE: {(mape(y_test, predict))*100:0.2f}%\")"
   ],
   "metadata": {
    "collapsed": false,
    "pycharm": {
     "name": "#%%\n"
    }
   }
  },
  {
   "cell_type": "code",
   "execution_count": null,
   "outputs": [],
   "source": [
    "model = CatBoostRegressor(iterations = 5000,\n",
    "                          random_seed = SEED,\n",
    "                          eval_metric='MAPE',\n",
    "                          custom_metric=['R2', 'MAE'],\n",
    "                          silent=True,\n",
    "                          )\n",
    "model.fit(X_train, np.log(y_train),\n",
    "          #cat_features=cat_features_ids,\n",
    "          eval_set=(X_test, np.log(y_test)),\n",
    "          verbose_eval=0,\n",
    "          use_best_model=True,\n",
    "          #plot=True\n",
    "          )\n",
    "\n",
    "model.save_model('catboost_single_model_2_baseline.model')"
   ],
   "metadata": {
    "collapsed": false,
    "pycharm": {
     "name": "#%%\n"
    }
   }
  },
  {
   "cell_type": "code",
   "execution_count": null,
   "outputs": [],
   "source": [
    "predict_test = np.exp(model.predict(X_test))\n",
    "print(f\"Точность модели по метрике MAPE: {(mape(y_test, predict_test))*100:0.2f}%\")"
   ],
   "metadata": {
    "collapsed": false,
    "pycharm": {
     "name": "#%%\n"
    }
   }
  },
  {
   "cell_type": "markdown",
   "source": [
    "---\n",
    "# Test various models"
   ],
   "metadata": {
    "collapsed": false
   }
  },
  {
   "cell_type": "code",
   "execution_count": null,
   "outputs": [],
   "source": [
    "test_classifires = {\n",
    "    'RandomForest': RandomForestRegressor(n_estimators=300, random_state = SEED),\n",
    "    'DecisionTree': DecisionTreeRegressor(random_state=SEED),\n",
    "    'ExtraTrees'  : ExtraTreesRegressor(random_state=SEED),\n",
    "    'LightGBM'    : LGBMRegressor(random_state=SEED),\n",
    "    'XGBoost'     : XGBRegressor(random_state=SEED)\n",
    "}"
   ],
   "metadata": {
    "collapsed": false,
    "pycharm": {
     "name": "#%%\n"
    }
   }
  },
  {
   "cell_type": "code",
   "execution_count": null,
   "outputs": [],
   "source": [
    "results = dict()\n",
    "for item in tqdm(test_classifires):\n",
    "    cls=test_classifires[item]\n",
    "\n",
    "    cls.fit(X_train, y_train)\n",
    "    predict =cls.predict(X_test)\n",
    "\n",
    "    cls.fit(X_train, np.log(y_train))\n",
    "    predict_log = np.exp(cls.predict(X_test))\n",
    "\n",
    "    results[item] = [round(mape(y_test, predict)*100,2), round(mape(y_test, predict_log)*100,2)]\n",
    "results"
   ],
   "metadata": {
    "collapsed": false,
    "pycharm": {
     "name": "#%%\n"
    }
   }
  },
  {
   "cell_type": "markdown",
   "source": [
    "---\n",
    "# RandomForest best parameters"
   ],
   "metadata": {
    "collapsed": false
   }
  },
  {
   "cell_type": "code",
   "execution_count": null,
   "outputs": [],
   "source": [
    "# Making best parameters searching diapasons\n",
    "n_estimators = [int(x) for x in np.linspace(start = 100, stop = 1000, num = 10)]\n",
    "max_features = ['log2', 'sqrt']\n",
    "max_depth = [int(x) for x in np.linspace(start = 1, stop = 15, num = 15)]\n",
    "min_samples_split = [int(x) for x in np.linspace(start = 2, stop = 50, num = 10)]\n",
    "min_samples_leaf = [int(x) for x in np.linspace(start = 2, stop = 50, num = 10)]\n",
    "bootstrap = [True, False]\n",
    "param_dist = {'n_estimators': n_estimators,\n",
    "              'max_features': max_features,\n",
    "              'max_depth': max_depth,\n",
    "              'min_samples_split': min_samples_split,\n",
    "              'min_samples_leaf': min_samples_leaf,\n",
    "              'bootstrap': bootstrap}\n",
    "\n",
    "# Randomized search. Making 3 cross validation (cv) for each 100 iterations candidates\n",
    "model_rfc = RandomForestRegressor(random_state = SEED)\n",
    "rs = RandomizedSearchCV(model_rfc,\n",
    "                        param_dist,\n",
    "                        n_iter = 100,\n",
    "                        cv = 3,\n",
    "                        verbose = 1,\n",
    "                        n_jobs=-1,\n",
    "                        random_state=SEED)\n",
    "rs.fit(X_train, np.log(y_train))\n",
    "rfc_best = rs.best_params_\n",
    "rfc_best['random_state']=SEED\n",
    "rfc_best\n",
    "# approx. 16 minutes\n",
    "# {'n_estimators': 200,\n",
    "# 'min_samples_split': 2,\n",
    "# 'min_samples_leaf': 2,\n",
    "# 'max_features': 'sqrt',\n",
    "# 'max_depth': 14,\n",
    "# 'bootstrap': False,\n",
    "# 'random_state': 42}"
   ],
   "metadata": {
    "collapsed": false,
    "pycharm": {
     "name": "#%%\n"
    }
   }
  },
  {
   "cell_type": "code",
   "execution_count": null,
   "outputs": [],
   "source": [
    "#\n",
    "model_rfc = RandomForestRegressor(**rfc_best)\n",
    "\n",
    "model_rfc.fit(X_train, np.log(y_train))\n",
    "predict_log = np.exp(model_rfc.predict(X_test))\n",
    "round(mape(y_test, predict_log)*100,2)"
   ],
   "metadata": {
    "collapsed": false,
    "pycharm": {
     "name": "#%%\n"
    }
   }
  },
  {
   "cell_type": "code",
   "execution_count": null,
   "outputs": [],
   "source": [
    "rs_df = pd.DataFrame(rs.cv_results_).sort_values('rank_test_score').reset_index(drop=True)\n",
    "rs_df = rs_df.drop([\n",
    "    'mean_fit_time',\n",
    "    'std_fit_time',\n",
    "    'mean_score_time',\n",
    "    'std_score_time',\n",
    "    'params',\n",
    "    'split0_test_score',\n",
    "    'split1_test_score',\n",
    "    'split2_test_score',\n",
    "    'std_test_score'],\n",
    "    axis=1)"
   ],
   "metadata": {
    "collapsed": false,
    "pycharm": {
     "name": "#%%\n"
    }
   }
  },
  {
   "cell_type": "code",
   "execution_count": null,
   "outputs": [],
   "source": [
    "fig, axs = plt.subplots(ncols=3, nrows=2)\n",
    "sns.set(style=\"whitegrid\", color_codes=True, font_scale = 2)\n",
    "fig.set_size_inches(30,25)\n",
    "sns.barplot(x='param_n_estimators', y='mean_test_score', data=rs_df, ax=axs[0,0], color='lightgrey')\n",
    "axs[0,0].set_ylim([.83,.95])\n",
    "axs[0,0].set_title(label = 'n_estimators', size=30, weight='bold')\n",
    "sns.barplot(x='param_min_samples_split', y='mean_test_score', data=rs_df, ax=axs[0,1], color='coral')\n",
    "axs[0,1].set_ylim([.85,.95])\n",
    "axs[0,1].set_title(label = 'min_samples_split', size=30, weight='bold')\n",
    "sns.barplot(x='param_min_samples_leaf', y='mean_test_score', data=rs_df, ax=axs[0,2], color='lightgreen')\n",
    "axs[0,2].set_ylim([.80,.95])\n",
    "axs[0,2].set_title(label = 'min_samples_leaf', size=30, weight='bold')\n",
    "sns.barplot(x='param_max_features', y='mean_test_score', data=rs_df, ax=axs[1,0], color='wheat')\n",
    "axs[1,0].set_ylim([.80,.95])\n",
    "axs[1,0].set_title(label = 'max_features', size=30, weight='bold')\n",
    "sns.barplot(x='param_max_depth', y='mean_test_score', data=rs_df, ax=axs[1,1], color='lightpink')\n",
    "axs[1,1].set_ylim([.80,.95])\n",
    "axs[1,1].set_title(label = 'max_depth', size=30, weight='bold')\n",
    "sns.barplot(x='param_bootstrap',y='mean_test_score', data=rs_df, ax=axs[1,2], color='skyblue')\n",
    "axs[1,2].set_ylim([.80,.95])\n",
    "axs[1,2].set_title(label = 'bootstrap', size=30, weight='bold')\n",
    "plt.show()"
   ],
   "metadata": {
    "collapsed": false,
    "pycharm": {
     "name": "#%%\n"
    }
   }
  },
  {
   "cell_type": "markdown",
   "source": [
    "---\n",
    "# DecisionTree"
   ],
   "metadata": {
    "collapsed": false
   }
  },
  {
   "cell_type": "code",
   "execution_count": null,
   "outputs": [],
   "source": [],
   "metadata": {
    "collapsed": false,
    "pycharm": {
     "name": "#%%\n"
    }
   }
  },
  {
   "cell_type": "code",
   "execution_count": null,
   "outputs": [],
   "source": [],
   "metadata": {
    "collapsed": false,
    "pycharm": {
     "name": "#%%\n"
    }
   }
  },
  {
   "cell_type": "markdown",
   "source": [
    "---\n",
    "# GradientBoosting"
   ],
   "metadata": {
    "collapsed": false
   }
  },
  {
   "cell_type": "code",
   "execution_count": null,
   "outputs": [],
   "source": [],
   "metadata": {
    "collapsed": false,
    "pycharm": {
     "name": "#%%\n"
    }
   }
  },
  {
   "cell_type": "code",
   "execution_count": null,
   "outputs": [],
   "source": [],
   "metadata": {
    "collapsed": false,
    "pycharm": {
     "name": "#%%\n"
    }
   }
  },
  {
   "cell_type": "markdown",
   "source": [
    "---\n",
    "# ExtraTrees"
   ],
   "metadata": {
    "collapsed": false
   }
  },
  {
   "cell_type": "code",
   "execution_count": null,
   "outputs": [],
   "source": [],
   "metadata": {
    "collapsed": false,
    "pycharm": {
     "name": "#%%\n"
    }
   }
  },
  {
   "cell_type": "code",
   "execution_count": null,
   "outputs": [],
   "source": [],
   "metadata": {
    "collapsed": false,
    "pycharm": {
     "name": "#%%\n"
    }
   }
  },
  {
   "cell_type": "markdown",
   "source": [
    "---\n",
    "# LightGBM"
   ],
   "metadata": {
    "collapsed": false
   }
  },
  {
   "cell_type": "code",
   "execution_count": null,
   "outputs": [],
   "source": [],
   "metadata": {
    "collapsed": false,
    "pycharm": {
     "name": "#%%\n"
    }
   }
  },
  {
   "cell_type": "code",
   "execution_count": null,
   "outputs": [],
   "source": [],
   "metadata": {
    "collapsed": false,
    "pycharm": {
     "name": "#%%\n"
    }
   }
  },
  {
   "cell_type": "markdown",
   "source": [
    "---\n",
    "# XGBoost"
   ],
   "metadata": {
    "collapsed": false
   }
  },
  {
   "cell_type": "code",
   "execution_count": null,
   "outputs": [],
   "source": [],
   "metadata": {
    "collapsed": false,
    "pycharm": {
     "name": "#%%\n"
    }
   }
  },
  {
   "cell_type": "code",
   "execution_count": null,
   "outputs": [],
   "source": [],
   "metadata": {
    "collapsed": false,
    "pycharm": {
     "name": "#%%\n"
    }
   }
  },
  {
   "cell_type": "code",
   "execution_count": null,
   "outputs": [],
   "source": [],
   "metadata": {
    "collapsed": false,
    "pycharm": {
     "name": "#%%\n"
    }
   }
  },
  {
   "cell_type": "code",
   "execution_count": null,
   "outputs": [],
   "source": [],
   "metadata": {
    "collapsed": false,
    "pycharm": {
     "name": "#%%\n"
    }
   }
  }
 ],
 "metadata": {
  "kernelspec": {
   "display_name": "Python 3",
   "language": "python",
   "name": "python3"
  },
  "language_info": {
   "codemirror_mode": {
    "name": "ipython",
    "version": 2
   },
   "file_extension": ".py",
   "mimetype": "text/x-python",
   "name": "python",
   "nbconvert_exporter": "python",
   "pygments_lexer": "ipython2",
   "version": "2.7.6"
  }
 },
 "nbformat": 4,
 "nbformat_minor": 0
}