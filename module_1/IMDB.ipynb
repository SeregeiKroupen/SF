{
 "cells": [
  {
   "cell_type": "code",
   "execution_count": 1,
   "id": "5c6bad3a",
   "metadata": {},
   "outputs": [],
   "source": [
    "import numpy as np\n",
    "import pandas as pd\n",
    "import itertools as it\n",
    "from collections import Counter\n",
    "import calendar as clnd"
   ]
  },
  {
   "cell_type": "code",
   "execution_count": 2,
   "id": "9477332b",
   "metadata": {},
   "outputs": [],
   "source": [
    "data = pd.read_csv('C:\\Projects_0\\input_data\\movie_bd_v5.xls')"
   ]
  },
  {
   "cell_type": "code",
   "execution_count": 137,
   "id": "650e5a24",
   "metadata": {},
   "outputs": [],
   "source": [
    "data.describe()"
   ]
  },
  {
   "cell_type": "markdown",
   "id": "f2fb2562",
   "metadata": {},
   "source": [
    "## Подготовк к ответам\n",
    "* создание словаря с ответами\n",
    "* подготовка данный в источнике данных"
   ]
  },
  {
   "cell_type": "code",
   "execution_count": 3,
   "id": "24a0aa81",
   "metadata": {},
   "outputs": [],
   "source": [
    "# словарь для ответов\n",
    "answeres = {}"
   ]
  },
  {
   "cell_type": "code",
   "execution_count": 4,
   "id": "90df4e6d",
   "metadata": {},
   "outputs": [],
   "source": [
    "# вставим в оригинальный датасет вычисляемый поле с прибылью от фильма [profit]\n",
    "data['profit'] = data.revenue - data.budget\n",
    "\n",
    "# обработаем дату. достанем из нее месяц и определим врмея года. \n",
    "# месяц находится в дате первый\n",
    "data['release_month'] = data.release_date.apply(lambda d: int(d.split('/')[0]))\n",
    "\n",
    "# находим по месяцу время года (через функцию) и втсавляем его датасет в поле [year_time]\n",
    "def year_time(month):\n",
    "    return ['Winter', 'Spring', 'Summer', 'Autumn', 'Winter'][month // 3]\n",
    "\n",
    "data['year_time'] = data.release_month.apply(year_time)\n",
    "\n",
    "# создаем копию датасета из прибыльных фильмов (в вопросах часто будет нужна такая выборка)\n",
    "profitable_films = data[data.profit > 0].copy()"
   ]
  },
  {
   "cell_type": "code",
   "execution_count": 6,
   "id": "6fd9fbd1",
   "metadata": {},
   "outputs": [],
   "source": [
    "# data.sample(5)"
   ]
  },
  {
   "cell_type": "code",
   "execution_count": 7,
   "id": "e0b1e360",
   "metadata": {},
   "outputs": [
    {
     "name": "stdout",
     "output_type": "stream",
     "text": [
      "<class 'pandas.core.frame.DataFrame'>\n",
      "RangeIndex: 1889 entries, 0 to 1888\n",
      "Data columns (total 17 columns):\n",
      " #   Column                Non-Null Count  Dtype  \n",
      "---  ------                --------------  -----  \n",
      " 0   imdb_id               1889 non-null   object \n",
      " 1   budget                1889 non-null   int64  \n",
      " 2   revenue               1889 non-null   int64  \n",
      " 3   original_title        1889 non-null   object \n",
      " 4   cast                  1889 non-null   object \n",
      " 5   director              1889 non-null   object \n",
      " 6   tagline               1889 non-null   object \n",
      " 7   overview              1889 non-null   object \n",
      " 8   runtime               1889 non-null   int64  \n",
      " 9   genres                1889 non-null   object \n",
      " 10  production_companies  1889 non-null   object \n",
      " 11  release_date          1889 non-null   object \n",
      " 12  vote_average          1889 non-null   float64\n",
      " 13  release_year          1889 non-null   int64  \n",
      " 14  profit                1889 non-null   int64  \n",
      " 15  release_month         1889 non-null   int64  \n",
      " 16  year_time             1889 non-null   object \n",
      "dtypes: float64(1), int64(6), object(10)\n",
      "memory usage: 251.0+ KB\n"
     ]
    },
    {
     "data": {
      "text/plain": [
       "None"
      ]
     },
     "metadata": {},
     "output_type": "display_data"
    }
   ],
   "source": [
    "display(data.info())"
   ]
  },
  {
   "cell_type": "markdown",
   "id": "2c269098",
   "metadata": {},
   "source": [
    "# А теперь, сами ответы на вопросы\n",
    "\n",
    "### 1. У какого фильма из списка самый большой бюджет?"
   ]
  },
  {
   "cell_type": "code",
   "execution_count": 5,
   "id": "f4c57de1",
   "metadata": {},
   "outputs": [],
   "source": [
    "# version 1 (просто получаем строку с самым большим бюджетом и берем название фильма из нее)\n",
    "answeres['1'] = data[data.budget == data.budget.max()].original_title.describe().top"
   ]
  },
  {
   "cell_type": "code",
   "execution_count": 6,
   "id": "690c2bbd",
   "metadata": {},
   "outputs": [],
   "source": [
    "# version 2 (сротируем по убыванию по полю \"бюджет\" и из первой строки берем название)\n",
    "answeres['1'] = data.sort_values('budget', ascending=False).iloc[0].original_title"
   ]
  },
  {
   "cell_type": "code",
   "execution_count": 7,
   "id": "0d7cc4ea",
   "metadata": {},
   "outputs": [
    {
     "name": "stdout",
     "output_type": "stream",
     "text": [
      "Фильм Pirates of the Caribbean: On Stranger Tides стал самым дорогим проектом в истории, на создание которого ушло 380,000,000 долларов\n"
     ]
    }
   ],
   "source": [
    "# information about answer\n",
    "ttl1 = data.sort_values('budget', ascending=False).iloc[0].original_title\n",
    "bdg1 = data.sort_values('budget', ascending=False).iloc[0].budget\n",
    "print(f'Фильм {ttl1} стал самым дорогим проектом в истории, на создание которого ушло {bdg1:,d} долларов')"
   ]
  },
  {
   "cell_type": "markdown",
   "id": "07f1c7ab",
   "metadata": {},
   "source": [
    "### 2. Какой из фильмов самый длительный (в минутах)?"
   ]
  },
  {
   "cell_type": "code",
   "execution_count": 8,
   "id": "9b5cea8f",
   "metadata": {},
   "outputs": [],
   "source": [
    "# version 1\n",
    "answeres['2'] = data[data.runtime == data.runtime.max()].original_title.describe().top"
   ]
  },
  {
   "cell_type": "code",
   "execution_count": 9,
   "id": "6d2c7c54",
   "metadata": {},
   "outputs": [
    {
     "data": {
      "text/plain": [
       "'Собираясь посмотреть Gods and Generals, запаситесь кофе! Его длительность 214 мин - как бы не уснуть!'"
      ]
     },
     "execution_count": 9,
     "metadata": {},
     "output_type": "execute_result"
    }
   ],
   "source": [
    "# information about answer\n",
    "long = data[data.runtime == data.runtime.max()].original_title.describe().top\n",
    "time_l = data[data.runtime >= data.runtime.max()].runtime.max()\n",
    "f'Собираясь посмотреть {long}, запаситесь кофе! Его длительность {time_l} мин - как бы не уснуть!'"
   ]
  },
  {
   "cell_type": "markdown",
   "id": "9b95a551",
   "metadata": {},
   "source": [
    "### 3. Какой из фильмов самый короткий (в минутах)?"
   ]
  },
  {
   "cell_type": "code",
   "execution_count": 10,
   "id": "8d5e3252",
   "metadata": {},
   "outputs": [],
   "source": [
    "# version 1\n",
    "answeres['3'] = data[data.runtime == data.runtime.min()].original_title.describe().top"
   ]
  },
  {
   "cell_type": "code",
   "execution_count": 11,
   "id": "bc70577c",
   "metadata": {},
   "outputs": [
    {
     "data": {
      "text/plain": [
       "'Милая анимация \"Winnie the Pooh\" не займет у вас много времени - всего 63 минуты.'"
      ]
     },
     "execution_count": 11,
     "metadata": {},
     "output_type": "execute_result"
    }
   ],
   "source": [
    "# information about answer\n",
    "short = data[data.runtime == data.runtime.min()].original_title.describe().top\n",
    "time_s = data[data.runtime >= data.runtime.min()].runtime.min()\n",
    "f'Милая анимация \"{short}\" не займет у вас много времени - всего {time_s} минуты.'"
   ]
  },
  {
   "cell_type": "markdown",
   "id": "21af2a94",
   "metadata": {},
   "source": [
    "### 4. Какова средняя длительность фильмов?"
   ]
  },
  {
   "cell_type": "code",
   "execution_count": 12,
   "id": "6e311809",
   "metadata": {},
   "outputs": [],
   "source": [
    "# version 1\n",
    "answeres['4'] = data.runtime.mean()"
   ]
  },
  {
   "cell_type": "code",
   "execution_count": 13,
   "id": "5365cdb2",
   "metadata": {},
   "outputs": [
    {
     "data": {
      "text/plain": [
       "'109.659'"
      ]
     },
     "execution_count": 13,
     "metadata": {},
     "output_type": "execute_result"
    }
   ],
   "source": [
    "# information about answer\n",
    "f'{data.runtime.mean():.3f}'\n"
   ]
  },
  {
   "cell_type": "markdown",
   "id": "2d8ccef6",
   "metadata": {},
   "source": [
    "### 5. Каково медианное значение длительности фильмов?"
   ]
  },
  {
   "cell_type": "code",
   "execution_count": 14,
   "id": "b50140dd",
   "metadata": {},
   "outputs": [],
   "source": [
    "# version 1\n",
    "answeres['5'] = data.runtime.median()"
   ]
  },
  {
   "cell_type": "code",
   "execution_count": 15,
   "id": "c4bf2a59",
   "metadata": {},
   "outputs": [
    {
     "data": {
      "text/plain": [
       "107.0"
      ]
     },
     "execution_count": 15,
     "metadata": {},
     "output_type": "execute_result"
    }
   ],
   "source": [
    "# information about answer\n",
    "data.runtime.median()"
   ]
  },
  {
   "cell_type": "markdown",
   "id": "072fc7a1",
   "metadata": {},
   "source": [
    "### 6. Какой самый прибыльный фильм?"
   ]
  },
  {
   "cell_type": "code",
   "execution_count": 16,
   "id": "09765119",
   "metadata": {},
   "outputs": [],
   "source": [
    "# version 1\n",
    "answeres['6'] = data[data.profit == data.profit.max()].original_title.describe().top"
   ]
  },
  {
   "cell_type": "code",
   "execution_count": 17,
   "id": "51199815",
   "metadata": {},
   "outputs": [
    {
     "name": "stdout",
     "output_type": "stream",
     "text": [
      "\"Avatar\", с рекордной прибылью 2,544,505,847 долларов\n"
     ]
    }
   ],
   "source": [
    "# information about answer\n",
    "p_ttl = data[data.profit == data.profit.max()].original_title.describe().top\n",
    "prof = data[data.profit == data.profit.max()].profit.max()\n",
    "print(f'\"{p_ttl}\", с рекордной прибылью {prof:,d} долларов')"
   ]
  },
  {
   "cell_type": "markdown",
   "id": "e377afac",
   "metadata": {},
   "source": [
    "### 7. Какой фильм самый убыточный? "
   ]
  },
  {
   "cell_type": "code",
   "execution_count": 18,
   "id": "50e62176",
   "metadata": {},
   "outputs": [],
   "source": [
    "# version 1\n",
    "answeres['7'] = data[data.profit == data.profit.min()].original_title.describe().top"
   ]
  },
  {
   "cell_type": "code",
   "execution_count": 19,
   "id": "5d3bb8af",
   "metadata": {},
   "outputs": [
    {
     "data": {
      "text/plain": [
       "'Лавры главного неудачника Голливуда принадлежат фильму \"The Lone Ranger\", с рекордными убытками -165,710,090'"
      ]
     },
     "execution_count": 19,
     "metadata": {},
     "output_type": "execute_result"
    }
   ],
   "source": [
    "# information about answer\n",
    "l_ttl = data[data.profit == data.profit.min()].original_title.describe().top\n",
    "lose = data[data.profit == data.profit.min()].profit.min()\n",
    "f'Лавры главного неудачника Голливуда принадлежат фильму \"{l_ttl}\", с рекордными убытками {lose:,d}'"
   ]
  },
  {
   "cell_type": "markdown",
   "id": "4090521f",
   "metadata": {},
   "source": [
    "### 8. У скольких фильмов из датасета объем сборов оказался выше бюджета?"
   ]
  },
  {
   "cell_type": "code",
   "execution_count": 20,
   "id": "c3d81cc7",
   "metadata": {},
   "outputs": [],
   "source": [
    "# version 1\n",
    "answeres['8'] = len(data[data.profit > 0].profit)"
   ]
  },
  {
   "cell_type": "code",
   "execution_count": 21,
   "id": "3f742347",
   "metadata": {},
   "outputs": [],
   "source": [
    "# version 2 (или взять заранее отфильтрованный датасет только с прибыльными фильмами)\n",
    "answeres['8'] = len(profitable_films)"
   ]
  },
  {
   "cell_type": "code",
   "execution_count": 22,
   "id": "23fa7a68",
   "metadata": {},
   "outputs": [
    {
     "data": {
      "text/plain": [
       "1478"
      ]
     },
     "execution_count": 22,
     "metadata": {},
     "output_type": "execute_result"
    }
   ],
   "source": [
    "# information about answer\n",
    "len(data[data.profit > 0].profit)"
   ]
  },
  {
   "cell_type": "markdown",
   "id": "4e74507f",
   "metadata": {},
   "source": [
    "### 9. Какой фильм оказался самым кассовым в 2008 году?"
   ]
  },
  {
   "cell_type": "code",
   "execution_count": 23,
   "id": "3dc9a363",
   "metadata": {},
   "outputs": [],
   "source": [
    "# version 1\n",
    "# применим два условия: год выхода = 2008 и макимум сборов в выорке по этому же году \n",
    "answeres['9'] = data[(data.release_year == 2008) & \n",
    "                     (data.revenue == data[data.release_year == 2008].revenue.max())].original_title.describe().top"
   ]
  },
  {
   "cell_type": "code",
   "execution_count": 24,
   "id": "6e95af1a",
   "metadata": {},
   "outputs": [
    {
     "name": "stdout",
     "output_type": "stream",
     "text": [
      "Фильм \"The Dark Knight\", показал рекордные сборы 1,001,921,825 в 2008 году.\n"
     ]
    }
   ],
   "source": [
    "# information about answer\n",
    "ttl08 = data[(data.release_year == 2008) & \n",
    "     (data.revenue == data[data.release_year == 2008].revenue.max())].original_title.describe().top\n",
    "rev = data[(data.release_year == 2008) & \n",
    "     (data.revenue == data[data.release_year == 2008].revenue.max())].revenue.max()\n",
    "print(f'Фильм \"{ttl08}\", показал рекордные сборы {rev:,d} в 2008 году.')"
   ]
  },
  {
   "cell_type": "markdown",
   "id": "b88d2e21",
   "metadata": {},
   "source": [
    "### 10. Самый убыточный фильм за период с 2012 по 2014 г. (включительно)?"
   ]
  },
  {
   "cell_type": "code",
   "execution_count": 25,
   "id": "8aec40ba",
   "metadata": {},
   "outputs": [],
   "source": [
    "# version 1 \n",
    "# делаем фильтр датасета по периоду, далее ищем фильм с самым большим убытком, получаем его название\n",
    "data_short = data[(data.release_year >= 2012) & (data.release_year <= 2014)]\n",
    "answeres['10'] =  data_short[data_short.profit == data.profit.min()].original_title.describe().top"
   ]
  },
  {
   "cell_type": "code",
   "execution_count": 26,
   "id": "c0c46ac7",
   "metadata": {},
   "outputs": [
    {
     "name": "stdout",
     "output_type": "stream",
     "text": [
      "в период 2012-2014 годы фильм \"The Lone Ranger\", показал рекордные убытки -165,710,090\n"
     ]
    }
   ],
   "source": [
    "# information about answer\n",
    "data_short = data[(data.release_year >= 2012) & (data.release_year <= 2014)]\n",
    "\n",
    "ttl12 = data_short[data_short.profit == data.profit.min()].original_title.describe().top\n",
    "los12 =data_short[data_short.profit == data.profit.min()].profit.min()\n",
    "print(f'в период 2012-2014 годы фильм \"{ttl12}\", показал рекордные убытки {los12:,d}')"
   ]
  },
  {
   "cell_type": "markdown",
   "id": "5ebe28a5",
   "metadata": {},
   "source": [
    "### 11. Какого жанра фильмов больше всего?"
   ]
  },
  {
   "cell_type": "code",
   "execution_count": 27,
   "id": "e4ef500f",
   "metadata": {},
   "outputs": [],
   "source": [
    "data11 = data.copy()\n",
    "# в поле genres жанры перечислены через разделитель. Преобразуем их в список и \"раскроем\" функцией explode\n",
    "data11 = data11.genres.str.split('|').explode().value_counts()\n",
    "answeres['11'] = data11.index[0]"
   ]
  },
  {
   "cell_type": "code",
   "execution_count": 28,
   "id": "cd5a4433",
   "metadata": {},
   "outputs": [
    {
     "name": "stdout",
     "output_type": "stream",
     "text": [
      "Больше всего (782) фильмов снимается в жанре \"Drama\"\n"
     ]
    }
   ],
   "source": [
    "# information about answer\n",
    "gnr11 = data11.values[0]\n",
    "print(f'Больше всего ({gnr11}) фильмов снимается в жанре \"{data11.index[0]}\"')"
   ]
  },
  {
   "cell_type": "markdown",
   "id": "3d3b56bf",
   "metadata": {},
   "source": [
    "### 12. Фильмы какого жанра чаще всего становятся прибыльными?"
   ]
  },
  {
   "cell_type": "code",
   "execution_count": 29,
   "id": "c4256b8c",
   "metadata": {},
   "outputs": [],
   "source": [
    "# version 1\n",
    "data12 = data[data.profit > 0].genres.str.split('|').explode().value_counts()\n",
    "answeres['12'] = data12.index[0]"
   ]
  },
  {
   "cell_type": "code",
   "execution_count": 30,
   "id": "5fee12b0",
   "metadata": {},
   "outputs": [],
   "source": [
    "# version 2 (используем заранее отфильтрованный датасет только с прибыльными фильмами)\n",
    "answeres['12'] = profitable_films.genres.str.split('|').explode().value_counts().index[0]"
   ]
  },
  {
   "cell_type": "code",
   "execution_count": 31,
   "id": "0fb7cb8c",
   "metadata": {},
   "outputs": [
    {
     "name": "stdout",
     "output_type": "stream",
     "text": [
      "Точно также, фильмы жанра \"Drama\" чаще всего (560) становятся прибыльными.\n"
     ]
    }
   ],
   "source": [
    "# information about answer\n",
    "gnr12 = data12.values[0]\n",
    "print(f'Точно также, фильмы жанра \"{data12.index[0]}\" чаще всего ({gnr12}) становятся прибыльными.')"
   ]
  },
  {
   "cell_type": "markdown",
   "id": "ff93e087",
   "metadata": {},
   "source": [
    "### 13. У какого режиссера самые большие суммарные кассовые сборы?"
   ]
  },
  {
   "cell_type": "code",
   "execution_count": 32,
   "id": "38420482",
   "metadata": {},
   "outputs": [],
   "source": [
    "# так как режиссеров у некоторых фильмов несколько - нужно преобразовать поле director \n",
    "# данные типа str преобразуем в спиоск методом .split с лямбда-функцией\n",
    "data13= data.copy()\n",
    "data13.director = data13.director.apply(lambda dr: str(dr).split('|'))\n",
    "\n",
    "# клонируем строки, у которых в списке несколько режиссеров - теперь у нас нужный датасет \n",
    "data13 = data13.explode('director')\n",
    "\n",
    "# группируем датасет по полю director, суммируя поле revenue, сортируем по убыванию.\n",
    "data13 = data13.groupby('director').revenue.sum().sort_values(ascending=False)\n",
    "\n",
    "# теперь первый индекс сортировки - наш ответ\n",
    "answeres['13'] = data13.index[0]"
   ]
  },
  {
   "cell_type": "code",
   "execution_count": 33,
   "id": "1d88a1ce",
   "metadata": {},
   "outputs": [
    {
     "name": "stdout",
     "output_type": "stream",
     "text": [
      "Самый прибыльный в Голливуде - это Peter Jackson, чьи фильмы принесли 6,490,593,685 кассовых сборов.\n"
     ]
    }
   ],
   "source": [
    "# information about answer\n",
    "print(f'Самый прибыльный в Голливуде - это {data13.index[0]}, чьи фильмы принесли {data13.values[0]:,d} кассовых сборов.')"
   ]
  },
  {
   "cell_type": "markdown",
   "id": "29394e3e",
   "metadata": {},
   "source": [
    "### 14. Какой режисер снял больше всего фильмов в стиле Action?"
   ]
  },
  {
   "cell_type": "code",
   "execution_count": 34,
   "id": "79688db3",
   "metadata": {},
   "outputs": [],
   "source": [
    "# так как жанров у некоторых фильмов несколько - используем функцию .str.contains() для фильтрации\n",
    "data14 = data.copy()\n",
    "data14 = data14[data14.genres.str.contains('Action', na=False)]\n",
    "\n",
    "# клонируем строки, у которых в списке несколько режиссеров\n",
    "data14.director = data14.director.apply(lambda dr: str(dr).split('|'))\n",
    "data14 = data14.director.explode().value_counts()\n",
    "\n",
    "# теперь считаем и сортируем ряд с режиссерами - первое значение наш ответ\n",
    "answeres['14'] = data14.index[0]"
   ]
  },
  {
   "cell_type": "code",
   "execution_count": 35,
   "id": "b594243a",
   "metadata": {},
   "outputs": [
    {
     "name": "stdout",
     "output_type": "stream",
     "text": [
      "Robert Rodriguez снял больше всего (9) фильмов в жанре экшн.\n"
     ]
    }
   ],
   "source": [
    "# information about answer\n",
    "print(f'{data14.index[0]} снял больше всего ({data14.values[0]}) фильмов в жанре экшн.')"
   ]
  },
  {
   "cell_type": "markdown",
   "id": "93bf7a7a",
   "metadata": {},
   "source": [
    "### 15. Фильмы с каким актером принесли самые высокие кассовые сборы в 2012 году?"
   ]
  },
  {
   "cell_type": "code",
   "execution_count": 36,
   "id": "ffa783e6",
   "metadata": {},
   "outputs": [],
   "source": [
    "# с начала отберем фильмы за 2012 год\n",
    "data15 = data[data.release_year == 2012].copy()\n",
    "\n",
    "# так как актеров в каждом филме несколько (точнее - пять), разделим их в список и клонируем строки\n",
    "data15.cast = data15.cast.apply(lambda cst: str(cst).split('|'))\n",
    "data15 = data15.explode('cast')\n",
    "\n",
    "# теперь группируем строки по актерам, считаем сумму кассовых сборов, сортируем по убыванию\n",
    "data15 = data15.groupby('cast').revenue.sum().sort_values(ascending=False)\n",
    "\n",
    "# наш ответ - первый в ряду\n",
    "answeres['15'] = data15.index[0]"
   ]
  },
  {
   "cell_type": "code",
   "execution_count": 37,
   "id": "2cfa37ba",
   "metadata": {},
   "outputs": [
    {
     "name": "stdout",
     "output_type": "stream",
     "text": [
      "Кто такой Chris Hemsworth? А это актер, который снялся в фильмах, набравших наибольшую сумму в прокате!\n"
     ]
    }
   ],
   "source": [
    "# information about answer\n",
    "print(f'Кто такой {data15.index[0]}? А это актер, который снялся в фильмах, набравших наибольшую сумму в прокате!')"
   ]
  },
  {
   "cell_type": "markdown",
   "id": "2a1aec8b",
   "metadata": {},
   "source": [
    "### 16. Какой актер снялся в большем количестве высокобюджетных фильмов?"
   ]
  },
  {
   "cell_type": "code",
   "execution_count": 38,
   "id": "f31a71dc",
   "metadata": {},
   "outputs": [],
   "source": [
    "# с начала отберем фильмы с бюджетом, выше средненго = высокобюджетные\n",
    "data16 = data[data.budget > data.budget.mean()].copy()\n",
    "\n",
    "# точно также как и ранее, разделим их в список и клонируем строки, а также сразу и посчитаем\n",
    "data16 = data16.cast.apply(lambda cst: str(cst).split('|'))\n",
    "data16 = data16.explode('cast').value_counts()\n",
    "\n",
    "# наш ответ - первый в ряду\n",
    "answeres['16'] = data16.index[0]"
   ]
  },
  {
   "cell_type": "code",
   "execution_count": 39,
   "id": "9fb1af40",
   "metadata": {},
   "outputs": [
    {
     "name": "stdout",
     "output_type": "stream",
     "text": [
      "На какого актера не жалко тратить столько денег: 1,739,200,000 ???  Правильно: Matt Damon !\n"
     ]
    }
   ],
   "source": [
    "data_16 = data[data.cast.str.contains(data16.index[0], na=False)].copy()\n",
    "data_16 = data_16.budget.sum()\n",
    "data_16\n",
    "\n",
    "print(f'На какого актера не жалко тратить столько денег: {data_16:,d} ???  Правильно: {data16.index[0]} !')"
   ]
  },
  {
   "cell_type": "markdown",
   "id": "29ea1278",
   "metadata": {},
   "source": [
    "### 17. В фильмах какого жанра больше всего снимался Nicolas Cage?"
   ]
  },
  {
   "cell_type": "code",
   "execution_count": 40,
   "id": "5db35e51",
   "metadata": {},
   "outputs": [],
   "source": [
    "# выберем все фильмы, где снялся Николас Кейдж, поле Жанр разделим на список жанров, клонируем строки и считаем...\n",
    "data17 = data[data.cast.str.contains('Nicolas Cage', na=False)].copy()\n",
    "data17 = data17.genres.str.split('|').explode().value_counts()\n",
    "\n",
    "# наш ответ - первый в ряду\n",
    "answeres['17'] = data17.index[0]"
   ]
  },
  {
   "cell_type": "code",
   "execution_count": 41,
   "id": "6fa549ad",
   "metadata": {},
   "outputs": [
    {
     "data": {
      "text/plain": [
       "'Казалось бы, в кам же жанре чаще всего снимается Николас Кейдж? Сюрприза не будет - Action!'"
      ]
     },
     "execution_count": 41,
     "metadata": {},
     "output_type": "execute_result"
    }
   ],
   "source": [
    "f'Казалось бы, в кам же жанре чаще всего снимается Николас Кейдж? Сюрприза не будет - {data17.index[0]}!'"
   ]
  },
  {
   "cell_type": "markdown",
   "id": "0f6b8439",
   "metadata": {},
   "source": [
    "### 18. Самый убыточный фильм от Paramount Pictures"
   ]
  },
  {
   "cell_type": "code",
   "execution_count": 42,
   "id": "937d50e4",
   "metadata": {},
   "outputs": [],
   "source": [
    "# version 1\n",
    "# Выберем все фильмы этой кинокомпании, затем - найдем запись с самым убыточным фильмом\n",
    "data_18 = data[(data.production_companies.str.contains('Paramount Pictures', na=False))]\n",
    "data_18 = data_18[data_18.profit == data_18.profit.min()]\n",
    "\n",
    "# теперь получим его название\n",
    "answeres['18'] = data_18.original_title.describe().top"
   ]
  },
  {
   "cell_type": "code",
   "execution_count": 43,
   "id": "f7d2bc47",
   "metadata": {},
   "outputs": [],
   "source": [
    "# version 2\n",
    "# Выберем все фильмы этой кинокомпании\n",
    "data18 = data[(data.production_companies.str.contains('Paramount Pictures', na=False))]\n",
    "\n",
    "# затем - сортируем по возрастанию суммы. Первый в списке - искомый фильм\n",
    "answeres['18'] = data18.sort_values('profit').iloc[0].original_title  "
   ]
  },
  {
   "cell_type": "code",
   "execution_count": 44,
   "id": "4d8aee2e",
   "metadata": {},
   "outputs": [
    {
     "name": "stdout",
     "output_type": "stream",
     "text": [
      "У компании Paramount Pictures \"K-19: The Widowmaker\", оказался самым убыточным: -64,831,034\n"
     ]
    }
   ],
   "source": [
    "# information about answer\n",
    "ds18 = data_18.original_title.describe().top\n",
    "ls18 = data_18.profit.min()\n",
    "print(f'У компании Paramount Pictures \"{ds18}\", оказался самым убыточным: {ls18:,d}')"
   ]
  },
  {
   "cell_type": "markdown",
   "id": "eaedbec2",
   "metadata": {},
   "source": [
    "### 19. Какой год стал самым успешным по суммарным кассовым сборам?"
   ]
  },
  {
   "cell_type": "code",
   "execution_count": 45,
   "id": "19199612",
   "metadata": {},
   "outputs": [],
   "source": [
    "# просто сгруппируем фильмы по годам и сложим сумму кассовых сборов, сортируем по убыванию и берем первый в списке\n",
    "answeres['19'] = data.groupby(['release_year'])['revenue'].sum().sort_values(ascending=False).index[0]"
   ]
  },
  {
   "cell_type": "code",
   "execution_count": 46,
   "id": "b4c7ae95",
   "metadata": {},
   "outputs": [
    {
     "name": "stdout",
     "output_type": "stream",
     "text": [
      "Самым успешным для Голливуда стал 2015 год с кассовыми сборами 25,449,202,382\n"
     ]
    }
   ],
   "source": [
    "# information about answer\n",
    "year19 = data.groupby(['release_year'])['revenue'].sum().sort_values(ascending=False).index[0]\n",
    "revenue19 = data.groupby(['release_year'])['revenue'].sum().sort_values(ascending=False).values[0]\n",
    "print(f'Самым успешным для Голливуда стал {year19} год с кассовыми сборами {revenue19:,d}')"
   ]
  },
  {
   "cell_type": "markdown",
   "id": "f4cc0b23",
   "metadata": {},
   "source": [
    "### 20. Какой самый прибыльный год для студии Warner Bros?"
   ]
  },
  {
   "cell_type": "code",
   "execution_count": 47,
   "id": "5052e139",
   "metadata": {},
   "outputs": [],
   "source": [
    "# отфильтруем фильмы студии\n",
    "data_20 = data[(data.production_companies.str.contains('Warner Bros', na=False))]\n",
    "\n",
    "# сгруппируем по годам и сложим прибыль/убытки, сортирум по убыванию, берм первый в ряду \n",
    "answeres['20'] = data_20.groupby(['release_year'])['profit'].sum().sort_values(ascending=False).index[0]"
   ]
  },
  {
   "cell_type": "code",
   "execution_count": 48,
   "id": "6f6d6ec9",
   "metadata": {},
   "outputs": [
    {
     "name": "stdout",
     "output_type": "stream",
     "text": [
      "Самым прибыльным для студии Warner Bros. стал 2014 год, когда было заработано 2295464519\n"
     ]
    }
   ],
   "source": [
    "# information about answer\n",
    "year20 = data_20.groupby(['release_year'])['profit'].sum().sort_values(ascending=False).index[0]\n",
    "sum20 = data_20.groupby(['release_year'])['profit'].sum().max()\n",
    "print(f'Самым прибыльным для студии Warner Bros. стал {year20} год, когда было заработано {sum20}')"
   ]
  },
  {
   "cell_type": "markdown",
   "id": "9405c6ae",
   "metadata": {},
   "source": [
    "### 21. В каком месяце за все годы суммарно вышло больше всего фильмов?"
   ]
  },
  {
   "cell_type": "code",
   "execution_count": 49,
   "id": "56b396d7",
   "metadata": {},
   "outputs": [],
   "source": [
    "# учитывая предобработку, где я выделил из даты отдельно месяц,\n",
    "# просто сгруппируем фильмы по месяцам, посчитаем, отсортируем по убыванию, возьмем первый в ряду\n",
    "# а еще применим атрибут из модуля calender, чтобы получить название месяца из его номера\n",
    "answeres['21'] = clnd.month_name[data.groupby(['release_month'])['imdb_id']\n",
    "                                 .count()\n",
    "                                 .sort_values(ascending=False)\n",
    "                                 .index[0]]"
   ]
  },
  {
   "cell_type": "code",
   "execution_count": 50,
   "id": "e2099e40",
   "metadata": {},
   "outputs": [
    {
     "name": "stdout",
     "output_type": "stream",
     "text": [
      "Больше всего (227) фильмов вышло в прокат в September.\n"
     ]
    }
   ],
   "source": [
    "# information about answer\n",
    "month21 = answeres['21']\n",
    "a21 = data.groupby(['release_month'])['imdb_id'].count().sort_values(ascending=False).values[0]\n",
    "print(f'Больше всего ({a21}) фильмов вышло в прокат в {month21}.')"
   ]
  },
  {
   "cell_type": "markdown",
   "id": "2e9f26e3",
   "metadata": {},
   "source": [
    "### 22. Сколько суммарно вышло фильмов летом? (за июнь, июль, август)"
   ]
  },
  {
   "cell_type": "code",
   "execution_count": 51,
   "id": "34d3ecd1",
   "metadata": {},
   "outputs": [],
   "source": [
    "# учитывая предобработку, где я выделил из даты отдельно месяц, по которому вычислил время года,\n",
    "# просто сгруппируем фильмы времени года = лето и посчитаем\n",
    "answeres['22'] = data[data.year_time == \"Summer\"]['imdb_id'].count()"
   ]
  },
  {
   "cell_type": "code",
   "execution_count": 52,
   "id": "37b88152",
   "metadata": {},
   "outputs": [
    {
     "name": "stdout",
     "output_type": "stream",
     "text": [
      "Летом в прокат вышло суммарно 450 фильмов.\n"
     ]
    }
   ],
   "source": [
    "# information about answer\n",
    "a22 = data[data.year_time == \"Summer\"]['imdb_id'].count()\n",
    "print(f'Летом в прокат вышло суммарно {a22} фильмов.')"
   ]
  },
  {
   "cell_type": "markdown",
   "id": "94a670bc",
   "metadata": {},
   "source": [
    "### 23. Для какого режиссера зима – самое продуктивное время года?"
   ]
  },
  {
   "cell_type": "code",
   "execution_count": 53,
   "id": "99ddce03",
   "metadata": {},
   "outputs": [],
   "source": [
    "# учитывая предобработку, где я выделил из даты отдельно месяц, по которому вычислил время года,\n",
    "# просто сгруппируем фильмы времени года = зима\n",
    "data23 = data[data.year_time == \"Winter\"].copy()\n",
    "\n",
    "# клонируем строки, у которых в списке несколько режиссеров\n",
    "data23.director = data23.director.apply(lambda dr: str(dr).split('|'))\n",
    "data23 = data23.explode('director')\n",
    "\n",
    "# сгруппируем по режиссерам, посчитаем, сортируем по убыванию\n",
    "data23 = data23.groupby('director').imdb_id.count().sort_values(ascending=False)\n",
    "\n",
    "# первый в ряду - наш ответ\n",
    "answeres['23'] = data23.index[0]"
   ]
  },
  {
   "cell_type": "code",
   "execution_count": 54,
   "id": "5cec2b09",
   "metadata": {},
   "outputs": [
    {
     "name": "stdout",
     "output_type": "stream",
     "text": [
      "Зимой больше всех (7) фильмов в прокат выпустил Peter Jackson.\n"
     ]
    }
   ],
   "source": [
    "# information about answer\n",
    "print(f'Зимой больше всех ({data23.values[0]}) фильмов в прокат выпустил {data23.index[0]}.')"
   ]
  },
  {
   "cell_type": "markdown",
   "id": "768f33eb",
   "metadata": {},
   "source": [
    "### 24. Какая студия дает самые длинные названия своим фильмам по количеству символов?"
   ]
  },
  {
   "cell_type": "code",
   "execution_count": 55,
   "id": "651dbc07",
   "metadata": {},
   "outputs": [],
   "source": [
    "# скопируем датасет и добавим в него новое поле, где посчитаем длинну названия фильма\n",
    "data24 = data.copy()\n",
    "data24['title_len'] = data24.original_title.apply(lambda ttl: len(ttl))\n",
    "\n",
    "# Клонируем строки для разделения поля \"студия\"\n",
    "data24.production_companies = data24.production_companies.apply(lambda cst: str(cst).split('|'))\n",
    "data24 = data24.explode('production_companies')\n",
    "\n",
    "# групируем строки и получаем среднее значение длинны названия фильмов каждой студии, сортируем по убыванию\n",
    "data24 = data24.groupby('production_companies').title_len.mean().sort_values(ascending=False)\n",
    "\n",
    "# наш ответ - первый в ряду\n",
    "answeres['24'] = data24.index[0]"
   ]
  },
  {
   "cell_type": "code",
   "execution_count": 56,
   "id": "c9774e7b",
   "metadata": {},
   "outputs": [
    {
     "name": "stdout",
     "output_type": "stream",
     "text": [
      "Самое длинное название фильма составляет в длинну 83.0 симовлов.\n",
      "Оно же и среднее, так как студия Four By Two Productions, выпустившяя его - сняла только один фильм\n"
     ]
    }
   ],
   "source": [
    "# information about answer\n",
    "print(f'Самое длинное название фильма составляет в длинну {data24.values[0]} симовлов.')\n",
    "print(f'Оно же и среднее, так как студия {data24.index[0]}, выпустившяя его - сняла только один фильм')"
   ]
  },
  {
   "cell_type": "markdown",
   "id": "4d1ed6bd",
   "metadata": {},
   "source": [
    "### 25. Описание фильмов какой студии в среднем самые длинные по количеству слов?"
   ]
  },
  {
   "cell_type": "code",
   "execution_count": 57,
   "id": "8cc00c75",
   "metadata": {},
   "outputs": [],
   "source": [
    "data25 = pd.read_csv('C:\\Projects_0\\input_data\\movie_bd_v5.xls').copy()\n",
    "\n",
    "# в начале разделим поле описания на список из слов\n",
    "data25.overview = data25.overview.apply(lambda s: str(s).split(' '))\n",
    "\n",
    "# добавим в датасет новое поле, где посчитаем количество слов в описании\n",
    "# для этого используем функцию Counter из модуля collections\n",
    "data25['overview_len'] = data25.overview.apply(lambda o: sum(Counter(o).values()))\n",
    "\n",
    "# клонируем строки для разделения поля \"студия\" \n",
    "data25.production_companies = data25.production_companies.apply(lambda cst: str(cst).split('|'))\n",
    "data25 = data25.explode('production_companies')\n",
    "\n",
    "# группируем по полю студия, считаем среднее значение количества слов, сортируем по убыванию\n",
    "data25 = data25.groupby('production_companies').overview_len.mean().sort_values(ascending=False)\n",
    "\n",
    "# наш ответ - первый в ряду\n",
    "answeres['25'] = data25.index[0]"
   ]
  },
  {
   "cell_type": "code",
   "execution_count": 58,
   "id": "3d89122f",
   "metadata": {},
   "outputs": [
    {
     "name": "stdout",
     "output_type": "stream",
     "text": [
      "Самые словоохотливые оказались в Midnight Picture Show, придумав описание своего творения \n",
      "аж на 175.0 слов. И конечно, он у них единственный...\n"
     ]
    }
   ],
   "source": [
    "# information about answer\n",
    "print(f'Самые словоохотливые оказались в {data25.index[0]}, придумав описание своего творения ')\n",
    "print(f'аж на {data25.values[0]} слов. И конечно, он у них единственный...')"
   ]
  },
  {
   "cell_type": "markdown",
   "id": "0065949c",
   "metadata": {},
   "source": [
    "### 26. Какие фильмы входят в 1 процент лучших по рейтингу?"
   ]
  },
  {
   "cell_type": "code",
   "execution_count": 59,
   "id": "5dcd390d",
   "metadata": {},
   "outputs": [],
   "source": [
    "# просто сортируем датасет по полю \"рейтинг\" по убыванию и возьмем первые 19 строк\n",
    "data26 = data.copy()\n",
    "data26 = data26.sort_values('vote_average', ascending=False).iloc[0:19]\n",
    "\n",
    "# для ответа преобразуем ряд в кортеж\n",
    "answeres['26'] = tuple(data26.original_title.unique())"
   ]
  },
  {
   "cell_type": "code",
   "execution_count": 60,
   "id": "19d5f199",
   "metadata": {},
   "outputs": [
    {
     "data": {
      "text/html": [
       "<div>\n",
       "<style scoped>\n",
       "    .dataframe tbody tr th:only-of-type {\n",
       "        vertical-align: middle;\n",
       "    }\n",
       "\n",
       "    .dataframe tbody tr th {\n",
       "        vertical-align: top;\n",
       "    }\n",
       "\n",
       "    .dataframe thead th {\n",
       "        text-align: right;\n",
       "    }\n",
       "</style>\n",
       "<table border=\"1\" class=\"dataframe\">\n",
       "  <thead>\n",
       "    <tr style=\"text-align: right;\">\n",
       "      <th></th>\n",
       "      <th>original_title</th>\n",
       "      <th>vote_average</th>\n",
       "    </tr>\n",
       "  </thead>\n",
       "  <tbody>\n",
       "    <tr>\n",
       "      <th>599</th>\n",
       "      <td>The Dark Knight</td>\n",
       "      <td>8.1</td>\n",
       "    </tr>\n",
       "    <tr>\n",
       "      <th>118</th>\n",
       "      <td>Interstellar</td>\n",
       "      <td>8.0</td>\n",
       "    </tr>\n",
       "    <tr>\n",
       "      <th>125</th>\n",
       "      <td>The Imitation Game</td>\n",
       "      <td>8.0</td>\n",
       "    </tr>\n",
       "    <tr>\n",
       "      <th>9</th>\n",
       "      <td>Inside Out</td>\n",
       "      <td>8.0</td>\n",
       "    </tr>\n",
       "    <tr>\n",
       "      <th>34</th>\n",
       "      <td>Room</td>\n",
       "      <td>8.0</td>\n",
       "    </tr>\n",
       "    <tr>\n",
       "      <th>1183</th>\n",
       "      <td>The Wolf of Wall Street</td>\n",
       "      <td>7.9</td>\n",
       "    </tr>\n",
       "    <tr>\n",
       "      <th>128</th>\n",
       "      <td>Gone Girl</td>\n",
       "      <td>7.9</td>\n",
       "    </tr>\n",
       "    <tr>\n",
       "      <th>1191</th>\n",
       "      <td>12 Years a Slave</td>\n",
       "      <td>7.9</td>\n",
       "    </tr>\n",
       "    <tr>\n",
       "      <th>119</th>\n",
       "      <td>Guardians of the Galaxy</td>\n",
       "      <td>7.9</td>\n",
       "    </tr>\n",
       "    <tr>\n",
       "      <th>1081</th>\n",
       "      <td>The Lord of the Rings: The Return of the King</td>\n",
       "      <td>7.9</td>\n",
       "    </tr>\n",
       "    <tr>\n",
       "      <th>1800</th>\n",
       "      <td>Memento</td>\n",
       "      <td>7.9</td>\n",
       "    </tr>\n",
       "    <tr>\n",
       "      <th>370</th>\n",
       "      <td>Inception</td>\n",
       "      <td>7.9</td>\n",
       "    </tr>\n",
       "    <tr>\n",
       "      <th>872</th>\n",
       "      <td>The Pianist</td>\n",
       "      <td>7.9</td>\n",
       "    </tr>\n",
       "    <tr>\n",
       "      <th>138</th>\n",
       "      <td>The Grand Budapest Hotel</td>\n",
       "      <td>7.9</td>\n",
       "    </tr>\n",
       "    <tr>\n",
       "      <th>1188</th>\n",
       "      <td>Her</td>\n",
       "      <td>7.8</td>\n",
       "    </tr>\n",
       "    <tr>\n",
       "      <th>28</th>\n",
       "      <td>Spotlight</td>\n",
       "      <td>7.8</td>\n",
       "    </tr>\n",
       "    <tr>\n",
       "      <th>124</th>\n",
       "      <td>Big Hero 6</td>\n",
       "      <td>7.8</td>\n",
       "    </tr>\n",
       "    <tr>\n",
       "      <th>177</th>\n",
       "      <td>The Fault in Our Stars</td>\n",
       "      <td>7.8</td>\n",
       "    </tr>\n",
       "    <tr>\n",
       "      <th>863</th>\n",
       "      <td>The Lord of the Rings: The Two Towers</td>\n",
       "      <td>7.8</td>\n",
       "    </tr>\n",
       "  </tbody>\n",
       "</table>\n",
       "</div>"
      ],
      "text/plain": [
       "                                     original_title  vote_average\n",
       "599                                 The Dark Knight           8.1\n",
       "118                                    Interstellar           8.0\n",
       "125                              The Imitation Game           8.0\n",
       "9                                        Inside Out           8.0\n",
       "34                                             Room           8.0\n",
       "1183                        The Wolf of Wall Street           7.9\n",
       "128                                       Gone Girl           7.9\n",
       "1191                               12 Years a Slave           7.9\n",
       "119                         Guardians of the Galaxy           7.9\n",
       "1081  The Lord of the Rings: The Return of the King           7.9\n",
       "1800                                        Memento           7.9\n",
       "370                                       Inception           7.9\n",
       "872                                     The Pianist           7.9\n",
       "138                        The Grand Budapest Hotel           7.9\n",
       "1188                                            Her           7.8\n",
       "28                                        Spotlight           7.8\n",
       "124                                      Big Hero 6           7.8\n",
       "177                          The Fault in Our Stars           7.8\n",
       "863           The Lord of the Rings: The Two Towers           7.8"
      ]
     },
     "execution_count": 60,
     "metadata": {},
     "output_type": "execute_result"
    }
   ],
   "source": [
    "# information about answer\n",
    "data26[['original_title','vote_average']]"
   ]
  },
  {
   "cell_type": "markdown",
   "id": "9b583bef",
   "metadata": {},
   "source": [
    "### 27. Какие актеры чаще всего снимаются в одном фильме вместе?"
   ]
  },
  {
   "cell_type": "code",
   "execution_count": 61,
   "id": "62a6a4fe",
   "metadata": {},
   "outputs": [],
   "source": [
    "data27 = data.copy()\n",
    "\n",
    "# с начала разделим строку в поле cast на список имен актеров\n",
    "data27.cast = data27.cast.apply(lambda cst: str(cst).split('|'))\n",
    "\n",
    "# с помощью функции перестановок из itertools составим в поле cast пары из актеров в виде кортежей\n",
    "# чтобы не получить \"зеркальные варианты\", в каждом поле с начала отсоритруем имена по возрастанию\n",
    "data27.cast = data27.cast.apply(lambda cst: tuple(it.combinations(sorted(cst),2)))\n",
    "\n",
    "# клонируем по полю cast\n",
    "data27 = data27.explode('cast')\n",
    "\n",
    "# группируем по полю cast, считаем фильмы, сортируем по убыванию\n",
    "data_27 = data27.groupby('cast').imdb_id.count().sort_values(ascending=False)\n",
    "\n",
    "# собираем записи, где число совместных фильмов максимальное\n",
    "data_27 = data_27[data_27.values == data_27.values[0]]\n",
    "\n",
    "# для ответа преобразуем ряд в кортеж\n",
    "answeres['27'] = tuple(data_27.index)"
   ]
  },
  {
   "cell_type": "code",
   "execution_count": 62,
   "id": "e7c75ee8",
   "metadata": {},
   "outputs": [
    {
     "name": "stdout",
     "output_type": "stream",
     "text": [
      "Вот список пар актеров снявшихся совместно в 8 фильмах: ]\n",
      "(('Daniel Radcliffe', 'Rupert Grint'), ('Emma Watson', 'Rupert Grint'), ('Daniel Radcliffe', 'Emma Watson'))\n",
      "\n",
      "Но \"ларчик открывается просто\", когда мы взглянем на эти фильмы:\n"
     ]
    },
    {
     "data": {
      "text/plain": [
       "('Harry Potter and the Half-Blood Prince',\n",
       " 'Harry Potter and the Deathly Hallows: Part 1',\n",
       " \"Harry Potter and the Philosopher's Stone\",\n",
       " 'Harry Potter and the Deathly Hallows: Part 2',\n",
       " 'Harry Potter and the Chamber of Secrets',\n",
       " 'Harry Potter and the Goblet of Fire',\n",
       " 'Harry Potter and the Prisoner of Azkaban',\n",
       " 'Harry Potter and the Order of the Phoenix')"
      ]
     },
     "execution_count": 62,
     "metadata": {},
     "output_type": "execute_result"
    }
   ],
   "source": [
    "# information about answer\n",
    "pair1 = data_27.index[0]    # первая пара из ответ\n",
    "films27 = data_27.values[0] # количество фильмов, где пары снялись вместе\n",
    "\n",
    "print(f'Вот список пар актеров снявшихся совместно в {films27} фильмах: ]')\n",
    "print(tuple(data_27.index))\n",
    "print()\n",
    "print(f'Но \"ларчик открывается просто\", когда мы взглянем на эти фильмы:')\n",
    "tuple(data27[(data27.cast == pair1)].original_title)"
   ]
  },
  {
   "cell_type": "markdown",
   "id": "33d6cee2",
   "metadata": {},
   "source": [
    "# Submission"
   ]
  },
  {
   "cell_type": "code",
   "execution_count": 63,
   "id": "48b41f88",
   "metadata": {},
   "outputs": [
    {
     "data": {
      "text/plain": [
       "{'1': 'Pirates of the Caribbean: On Stranger Tides',\n",
       " '2': 'Gods and Generals',\n",
       " '3': 'Winnie the Pooh',\n",
       " '4': 109.6585494970884,\n",
       " '5': 107.0,\n",
       " '6': 'Avatar',\n",
       " '7': 'The Lone Ranger',\n",
       " '8': 1478,\n",
       " '9': 'The Dark Knight',\n",
       " '10': 'The Lone Ranger',\n",
       " '11': 'Drama',\n",
       " '12': 'Drama',\n",
       " '13': 'Peter Jackson',\n",
       " '14': 'Robert Rodriguez',\n",
       " '15': 'Chris Hemsworth',\n",
       " '16': 'Matt Damon',\n",
       " '17': 'Action',\n",
       " '18': 'K-19: The Widowmaker',\n",
       " '19': 2015,\n",
       " '20': 2014,\n",
       " '21': 'September',\n",
       " '22': 450,\n",
       " '23': 'Peter Jackson',\n",
       " '24': 'Four By Two Productions',\n",
       " '25': 'Midnight Picture Show',\n",
       " '26': ('The Dark Knight',\n",
       "  'Interstellar',\n",
       "  'The Imitation Game',\n",
       "  'Inside Out',\n",
       "  'Room',\n",
       "  'The Wolf of Wall Street',\n",
       "  'Gone Girl',\n",
       "  '12 Years a Slave',\n",
       "  'Guardians of the Galaxy',\n",
       "  'The Lord of the Rings: The Return of the King',\n",
       "  'Memento',\n",
       "  'Inception',\n",
       "  'The Pianist',\n",
       "  'The Grand Budapest Hotel',\n",
       "  'Her',\n",
       "  'Spotlight',\n",
       "  'Big Hero 6',\n",
       "  'The Fault in Our Stars',\n",
       "  'The Lord of the Rings: The Two Towers'),\n",
       " '27': (('Daniel Radcliffe', 'Rupert Grint'),\n",
       "  ('Emma Watson', 'Rupert Grint'),\n",
       "  ('Daniel Radcliffe', 'Emma Watson'))}"
      ]
     },
     "execution_count": 63,
     "metadata": {},
     "output_type": "execute_result"
    }
   ],
   "source": [
    "answeres"
   ]
  },
  {
   "cell_type": "code",
   "execution_count": 64,
   "id": "ef4a3711",
   "metadata": {},
   "outputs": [
    {
     "data": {
      "text/plain": [
       "27"
      ]
     },
     "execution_count": 64,
     "metadata": {},
     "output_type": "execute_result"
    }
   ],
   "source": [
    "len(answeres)"
   ]
  },
  {
   "cell_type": "code",
   "execution_count": null,
   "id": "722f2fed",
   "metadata": {},
   "outputs": [],
   "source": []
  }
 ],
 "metadata": {
  "kernelspec": {
   "display_name": "Python 3",
   "language": "python",
   "name": "python3"
  },
  "language_info": {
   "codemirror_mode": {
    "name": "ipython",
    "version": 3
   },
   "file_extension": ".py",
   "mimetype": "text/x-python",
   "name": "python",
   "nbconvert_exporter": "python",
   "pygments_lexer": "ipython3",
   "version": "3.8.8"
  }
 },
 "nbformat": 4,
 "nbformat_minor": 5
}
