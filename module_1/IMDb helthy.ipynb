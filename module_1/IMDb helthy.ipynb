{
 "cells": [
  {
   "cell_type": "code",
   "execution_count": 2,
   "id": "5c6bad3a",
   "metadata": {},
   "outputs": [],
   "source": [
    "import numpy as np\n",
    "import pandas as pd\n",
    "import itertools as it\n",
    "from collections import Counter\n",
    "import calendar as clnd"
   ]
  },
  {
   "cell_type": "code",
   "execution_count": 3,
   "id": "9477332b",
   "metadata": {},
   "outputs": [],
   "source": [
    "data = pd.read_csv('C:\\Projects_0\\input_data\\movie_bd_v5.xls')"
   ]
  },
  {
   "cell_type": "code",
   "execution_count": 4,
   "id": "fdda79c5",
   "metadata": {},
   "outputs": [],
   "source": [
    "data['profit'] = data.revenue - data.budget"
   ]
  },
  {
   "cell_type": "code",
   "execution_count": 5,
   "id": "6c8eaa2c",
   "metadata": {},
   "outputs": [
    {
     "data": {
      "text/html": [
       "<div>\n",
       "<style scoped>\n",
       "    .dataframe tbody tr th:only-of-type {\n",
       "        vertical-align: middle;\n",
       "    }\n",
       "\n",
       "    .dataframe tbody tr th {\n",
       "        vertical-align: top;\n",
       "    }\n",
       "\n",
       "    .dataframe thead th {\n",
       "        text-align: right;\n",
       "    }\n",
       "</style>\n",
       "<table border=\"1\" class=\"dataframe\">\n",
       "  <thead>\n",
       "    <tr style=\"text-align: right;\">\n",
       "      <th></th>\n",
       "      <th>budget</th>\n",
       "      <th>revenue</th>\n",
       "      <th>runtime</th>\n",
       "      <th>vote_average</th>\n",
       "      <th>release_year</th>\n",
       "      <th>profit</th>\n",
       "    </tr>\n",
       "  </thead>\n",
       "  <tbody>\n",
       "    <tr>\n",
       "      <th>count</th>\n",
       "      <td>1.889000e+03</td>\n",
       "      <td>1.889000e+03</td>\n",
       "      <td>1889.000000</td>\n",
       "      <td>1889.000000</td>\n",
       "      <td>1889.000000</td>\n",
       "      <td>1.889000e+03</td>\n",
       "    </tr>\n",
       "    <tr>\n",
       "      <th>mean</th>\n",
       "      <td>5.431083e+07</td>\n",
       "      <td>1.553653e+08</td>\n",
       "      <td>109.658549</td>\n",
       "      <td>6.140762</td>\n",
       "      <td>2007.860773</td>\n",
       "      <td>1.010545e+08</td>\n",
       "    </tr>\n",
       "    <tr>\n",
       "      <th>std</th>\n",
       "      <td>4.858721e+07</td>\n",
       "      <td>2.146698e+08</td>\n",
       "      <td>18.017041</td>\n",
       "      <td>0.764763</td>\n",
       "      <td>4.468841</td>\n",
       "      <td>1.830733e+08</td>\n",
       "    </tr>\n",
       "    <tr>\n",
       "      <th>min</th>\n",
       "      <td>5.000000e+06</td>\n",
       "      <td>2.033165e+06</td>\n",
       "      <td>63.000000</td>\n",
       "      <td>3.300000</td>\n",
       "      <td>2000.000000</td>\n",
       "      <td>-1.657101e+08</td>\n",
       "    </tr>\n",
       "    <tr>\n",
       "      <th>25%</th>\n",
       "      <td>2.000000e+07</td>\n",
       "      <td>3.456058e+07</td>\n",
       "      <td>97.000000</td>\n",
       "      <td>5.600000</td>\n",
       "      <td>2004.000000</td>\n",
       "      <td>5.000000e+06</td>\n",
       "    </tr>\n",
       "    <tr>\n",
       "      <th>50%</th>\n",
       "      <td>3.800000e+07</td>\n",
       "      <td>8.361541e+07</td>\n",
       "      <td>107.000000</td>\n",
       "      <td>6.100000</td>\n",
       "      <td>2008.000000</td>\n",
       "      <td>4.400041e+07</td>\n",
       "    </tr>\n",
       "    <tr>\n",
       "      <th>75%</th>\n",
       "      <td>7.200000e+07</td>\n",
       "      <td>1.782626e+08</td>\n",
       "      <td>120.000000</td>\n",
       "      <td>6.600000</td>\n",
       "      <td>2012.000000</td>\n",
       "      <td>1.201842e+08</td>\n",
       "    </tr>\n",
       "    <tr>\n",
       "      <th>max</th>\n",
       "      <td>3.800000e+08</td>\n",
       "      <td>2.781506e+09</td>\n",
       "      <td>214.000000</td>\n",
       "      <td>8.100000</td>\n",
       "      <td>2015.000000</td>\n",
       "      <td>2.544506e+09</td>\n",
       "    </tr>\n",
       "  </tbody>\n",
       "</table>\n",
       "</div>"
      ],
      "text/plain": [
       "             budget       revenue      runtime  vote_average  release_year  \\\n",
       "count  1.889000e+03  1.889000e+03  1889.000000   1889.000000   1889.000000   \n",
       "mean   5.431083e+07  1.553653e+08   109.658549      6.140762   2007.860773   \n",
       "std    4.858721e+07  2.146698e+08    18.017041      0.764763      4.468841   \n",
       "min    5.000000e+06  2.033165e+06    63.000000      3.300000   2000.000000   \n",
       "25%    2.000000e+07  3.456058e+07    97.000000      5.600000   2004.000000   \n",
       "50%    3.800000e+07  8.361541e+07   107.000000      6.100000   2008.000000   \n",
       "75%    7.200000e+07  1.782626e+08   120.000000      6.600000   2012.000000   \n",
       "max    3.800000e+08  2.781506e+09   214.000000      8.100000   2015.000000   \n",
       "\n",
       "             profit  \n",
       "count  1.889000e+03  \n",
       "mean   1.010545e+08  \n",
       "std    1.830733e+08  \n",
       "min   -1.657101e+08  \n",
       "25%    5.000000e+06  \n",
       "50%    4.400041e+07  \n",
       "75%    1.201842e+08  \n",
       "max    2.544506e+09  "
      ]
     },
     "execution_count": 5,
     "metadata": {},
     "output_type": "execute_result"
    }
   ],
   "source": [
    "data.describe()"
   ]
  },
  {
   "cell_type": "code",
   "execution_count": 6,
   "id": "f23b4d19",
   "metadata": {},
   "outputs": [
    {
     "name": "stdout",
     "output_type": "stream",
     "text": [
      "<class 'pandas.core.frame.DataFrame'>\n",
      "RangeIndex: 1889 entries, 0 to 1888\n",
      "Data columns (total 15 columns):\n",
      " #   Column                Non-Null Count  Dtype  \n",
      "---  ------                --------------  -----  \n",
      " 0   imdb_id               1889 non-null   object \n",
      " 1   budget                1889 non-null   int64  \n",
      " 2   revenue               1889 non-null   int64  \n",
      " 3   original_title        1889 non-null   object \n",
      " 4   cast                  1889 non-null   object \n",
      " 5   director              1889 non-null   object \n",
      " 6   tagline               1889 non-null   object \n",
      " 7   overview              1889 non-null   object \n",
      " 8   runtime               1889 non-null   int64  \n",
      " 9   genres                1889 non-null   object \n",
      " 10  production_companies  1889 non-null   object \n",
      " 11  release_date          1889 non-null   object \n",
      " 12  vote_average          1889 non-null   float64\n",
      " 13  release_year          1889 non-null   int64  \n",
      " 14  profit                1889 non-null   int64  \n",
      "dtypes: float64(1), int64(5), object(9)\n",
      "memory usage: 221.5+ KB\n"
     ]
    }
   ],
   "source": [
    "data.info()"
   ]
  },
  {
   "cell_type": "markdown",
   "id": "5a5378b0",
   "metadata": {},
   "source": [
    "### Попробуем понять, можем ли мы заранее предугадать, какой фильм будет прибыльным\n",
    "#### попытка 1 \n",
    "- у нас еть рейтинг! проверим, есть ли связь между рейтингом и прибыльностью хотя, стоит проверять не только прибыльность, но и кассовые сборы"
   ]
  },
  {
   "cell_type": "code",
   "execution_count": 7,
   "id": "1ab81bd2",
   "metadata": {},
   "outputs": [
    {
     "data": {
      "text/plain": [
       "(1478, 411)"
      ]
     },
     "execution_count": 7,
     "metadata": {},
     "output_type": "execute_result"
    }
   ],
   "source": [
    "data_profit = data[data.profit > 0]              # датасет с прибыльными фильмами\n",
    "data_loose = data[data.profit <= 0]              # датасет с убыточными фильмами\n",
    "len(data_profit), len(data_loose)"
   ]
  },
  {
   "cell_type": "code",
   "execution_count": 8,
   "id": "4cc0c45e",
   "metadata": {},
   "outputs": [
    {
     "data": {
      "text/plain": [
       "count    1478.000000\n",
       "mean        6.240122\n",
       "std         0.738106\n",
       "min         3.400000\n",
       "25%         5.800000\n",
       "50%         6.200000\n",
       "75%         6.700000\n",
       "max         8.100000\n",
       "Name: vote_average, dtype: float64"
      ]
     },
     "execution_count": 8,
     "metadata": {},
     "output_type": "execute_result"
    }
   ],
   "source": [
    "data_profit.vote_average.describe()"
   ]
  },
  {
   "cell_type": "code",
   "execution_count": 9,
   "id": "46fe4186",
   "metadata": {},
   "outputs": [
    {
     "data": {
      "text/plain": [
       "count    411.000000\n",
       "mean       5.783455\n",
       "std        0.753022\n",
       "min        3.300000\n",
       "25%        5.300000\n",
       "50%        5.800000\n",
       "75%        6.300000\n",
       "max        7.800000\n",
       "Name: vote_average, dtype: float64"
      ]
     },
     "execution_count": 9,
     "metadata": {},
     "output_type": "execute_result"
    }
   ],
   "source": [
    "data_loose.vote_average.describe()"
   ]
  },
  {
   "cell_type": "markdown",
   "id": "74567bbf",
   "metadata": {},
   "source": [
    "Несмотря на ожидания, средний рейтинг отличается крайне мало. Не показательны также и минимумы и максимумы."
   ]
  },
  {
   "cell_type": "markdown",
   "id": "7255859b",
   "metadata": {},
   "source": [
    "### попытка 2\n",
    "- проверим, есть ли связь между рейтингом и кассовыми сборами"
   ]
  },
  {
   "cell_type": "code",
   "execution_count": 10,
   "id": "64de22e9",
   "metadata": {},
   "outputs": [
    {
     "data": {
      "text/plain": [
       "(560, 1329)"
      ]
     },
     "execution_count": 10,
     "metadata": {},
     "output_type": "execute_result"
    }
   ],
   "source": [
    "data_revenue = data[data.revenue > data.revenue.mean()]     # датасет с касоовыми сборами выше среднего\n",
    "data_under = data[data.revenue <= data.revenue.mean()]      # датасет с кассовыми сборами ниже среднего\n",
    "len(data_revenue), len(data_under)"
   ]
  },
  {
   "cell_type": "code",
   "execution_count": 11,
   "id": "25408d38",
   "metadata": {},
   "outputs": [
    {
     "data": {
      "text/plain": [
       "count    560.000000\n",
       "mean       6.396429\n",
       "std        0.706870\n",
       "min        4.400000\n",
       "25%        5.900000\n",
       "50%        6.400000\n",
       "75%        6.900000\n",
       "max        8.100000\n",
       "Name: vote_average, dtype: float64"
      ]
     },
     "execution_count": 11,
     "metadata": {},
     "output_type": "execute_result"
    }
   ],
   "source": [
    "data_revenue.vote_average.describe()"
   ]
  },
  {
   "cell_type": "code",
   "execution_count": 12,
   "id": "d6dde93d",
   "metadata": {},
   "outputs": [
    {
     "data": {
      "text/plain": [
       "count    1329.000000\n",
       "mean        6.033032\n",
       "std         0.762881\n",
       "min         3.300000\n",
       "25%         5.500000\n",
       "50%         6.000000\n",
       "75%         6.500000\n",
       "max         8.000000\n",
       "Name: vote_average, dtype: float64"
      ]
     },
     "execution_count": 12,
     "metadata": {},
     "output_type": "execute_result"
    }
   ],
   "source": [
    "data_under.vote_average.describe()"
   ]
  },
  {
   "cell_type": "markdown",
   "id": "c046df0a",
   "metadata": {},
   "source": [
    "### попытка 3\n",
    "- углубимся в жанры и проанализируем кассовые сборы внутри групп"
   ]
  },
  {
   "cell_type": "code",
   "execution_count": 22,
   "id": "6daf44b8",
   "metadata": {},
   "outputs": [
    {
     "data": {
      "text/html": [
       "<div>\n",
       "<style scoped>\n",
       "    .dataframe tbody tr th:only-of-type {\n",
       "        vertical-align: middle;\n",
       "    }\n",
       "\n",
       "    .dataframe tbody tr th {\n",
       "        vertical-align: top;\n",
       "    }\n",
       "\n",
       "    .dataframe thead th {\n",
       "        text-align: right;\n",
       "    }\n",
       "</style>\n",
       "<table border=\"1\" class=\"dataframe\">\n",
       "  <thead>\n",
       "    <tr style=\"text-align: right;\">\n",
       "      <th></th>\n",
       "      <th>median</th>\n",
       "      <th>mean</th>\n",
       "      <th>max</th>\n",
       "      <th>min</th>\n",
       "    </tr>\n",
       "    <tr>\n",
       "      <th>genres</th>\n",
       "      <th></th>\n",
       "      <th></th>\n",
       "      <th></th>\n",
       "      <th></th>\n",
       "    </tr>\n",
       "  </thead>\n",
       "  <tbody>\n",
       "    <tr>\n",
       "      <th>Animation</th>\n",
       "      <td>248384621</td>\n",
       "      <td>317054839</td>\n",
       "      <td>1274219009</td>\n",
       "      <td>5409517</td>\n",
       "    </tr>\n",
       "    <tr>\n",
       "      <th>Fantasy</th>\n",
       "      <td>180777735</td>\n",
       "      <td>321273643</td>\n",
       "      <td>2781505847</td>\n",
       "      <td>2333684</td>\n",
       "    </tr>\n",
       "    <tr>\n",
       "      <th>Adventure</th>\n",
       "      <td>169956806</td>\n",
       "      <td>305274016</td>\n",
       "      <td>2781505847</td>\n",
       "      <td>2033165</td>\n",
       "    </tr>\n",
       "    <tr>\n",
       "      <th>Family</th>\n",
       "      <td>155282309</td>\n",
       "      <td>261829828</td>\n",
       "      <td>1327817822</td>\n",
       "      <td>3878993</td>\n",
       "    </tr>\n",
       "  </tbody>\n",
       "</table>\n",
       "</div>"
      ],
      "text/plain": [
       "              median       mean         max      min\n",
       "genres                                              \n",
       "Animation  248384621  317054839  1274219009  5409517\n",
       "Fantasy    180777735  321273643  2781505847  2333684\n",
       "Adventure  169956806  305274016  2781505847  2033165\n",
       "Family     155282309  261829828  1327817822  3878993"
      ]
     },
     "execution_count": 22,
     "metadata": {},
     "output_type": "execute_result"
    }
   ],
   "source": [
    "# переделаем строку с жанрами в список, клонируем фильмы для каждого жанра отдельно\n",
    "data_genres = data.copy()\n",
    "data_genres.genres = data_genres.genres.str.split('|')\n",
    "data_genres = data_genres.explode('genres')\n",
    "\n",
    "# сгруппируем по жанрам и посчитаем статитику кассовых сборов\n",
    "rev = data_genres.groupby('genres').revenue.agg(['median', 'mean','max','min'])\n",
    "rev.astype('int64').sort_values('median', ascending=False).nlargest(4, 'median')"
   ]
  },
  {
   "cell_type": "markdown",
   "id": "c1eba7b6",
   "metadata": {},
   "source": [
    "Вот это похоже на ответ! Медиана кассовых сборов в 250 млн. долларов - это беспроигрышный вариант - это Анимация!\n",
    "\n",
    "Вообще показательно, что список топа выглядит: Анимация, Фэнтези, Приключения, Семейный. Это все жанры, куда идут семьями, то есть аудитория точно больше чем Экшн, Триллер или Драма!!!"
   ]
  },
  {
   "cell_type": "markdown",
   "id": "d9f09b28",
   "metadata": {},
   "source": [
    "Наверняка не только жанр играет роль в больших кассовых сборах. Хотя уже можно предположить, что большинство актеров или режиссеров так или иначе будут пересекатся с жанрами Анимации, Фэнтези и Путешествий. Но, попробуем этот  вопрос прояснить"
   ]
  },
  {
   "cell_type": "code",
   "execution_count": 53,
   "id": "b1019645",
   "metadata": {},
   "outputs": [
    {
     "data": {
      "text/html": [
       "<div>\n",
       "<style scoped>\n",
       "    .dataframe tbody tr th:only-of-type {\n",
       "        vertical-align: middle;\n",
       "    }\n",
       "\n",
       "    .dataframe tbody tr th {\n",
       "        vertical-align: top;\n",
       "    }\n",
       "\n",
       "    .dataframe thead th {\n",
       "        text-align: right;\n",
       "    }\n",
       "</style>\n",
       "<table border=\"1\" class=\"dataframe\">\n",
       "  <thead>\n",
       "    <tr style=\"text-align: right;\">\n",
       "      <th></th>\n",
       "      <th>median</th>\n",
       "      <th>mean</th>\n",
       "      <th>max</th>\n",
       "      <th>min</th>\n",
       "      <th>count</th>\n",
       "    </tr>\n",
       "    <tr>\n",
       "      <th>director</th>\n",
       "      <th></th>\n",
       "      <th></th>\n",
       "      <th></th>\n",
       "      <th></th>\n",
       "      <th></th>\n",
       "    </tr>\n",
       "  </thead>\n",
       "  <tbody>\n",
       "    <tr>\n",
       "      <th>Pierre Coffin</th>\n",
       "      <td>970761885</td>\n",
       "      <td>890335610</td>\n",
       "      <td>1156730962</td>\n",
       "      <td>543513985</td>\n",
       "      <td>3</td>\n",
       "    </tr>\n",
       "    <tr>\n",
       "      <th>David Yates</th>\n",
       "      <td>946259303</td>\n",
       "      <td>1038573906</td>\n",
       "      <td>1327817822</td>\n",
       "      <td>933959197</td>\n",
       "      <td>4</td>\n",
       "    </tr>\n",
       "    <tr>\n",
       "      <th>Peter Jackson</th>\n",
       "      <td>940703594</td>\n",
       "      <td>811324210</td>\n",
       "      <td>1118888979</td>\n",
       "      <td>93525586</td>\n",
       "      <td>8</td>\n",
       "    </tr>\n",
       "    <tr>\n",
       "      <th>Lee Unkrich</th>\n",
       "      <td>864625978</td>\n",
       "      <td>830204715</td>\n",
       "      <td>1063171911</td>\n",
       "      <td>562816256</td>\n",
       "      <td>3</td>\n",
       "    </tr>\n",
       "    <tr>\n",
       "      <th>Conrad Vernon</th>\n",
       "      <td>746921274</td>\n",
       "      <td>682756634</td>\n",
       "      <td>919838758</td>\n",
       "      <td>381509870</td>\n",
       "      <td>3</td>\n",
       "    </tr>\n",
       "    <tr>\n",
       "      <th>Pete Docter</th>\n",
       "      <td>731342744</td>\n",
       "      <td>715955869</td>\n",
       "      <td>853708609</td>\n",
       "      <td>562816256</td>\n",
       "      <td>3</td>\n",
       "    </tr>\n",
       "    <tr>\n",
       "      <th>Alfonso CuarÃ³n</th>\n",
       "      <td>716392705</td>\n",
       "      <td>525385670</td>\n",
       "      <td>789804554</td>\n",
       "      <td>69959751</td>\n",
       "      <td>3</td>\n",
       "    </tr>\n",
       "    <tr>\n",
       "      <th>Marc Webb</th>\n",
       "      <td>705717432</td>\n",
       "      <td>506218674</td>\n",
       "      <td>752215857</td>\n",
       "      <td>60722734</td>\n",
       "      <td>3</td>\n",
       "    </tr>\n",
       "    <tr>\n",
       "      <th>Sam Raimi</th>\n",
       "      <td>637817444</td>\n",
       "      <td>515177725</td>\n",
       "      <td>890871626</td>\n",
       "      <td>12008642</td>\n",
       "      <td>6</td>\n",
       "    </tr>\n",
       "    <tr>\n",
       "      <th>Brad Bird</th>\n",
       "      <td>627582455</td>\n",
       "      <td>539728489</td>\n",
       "      <td>694713380</td>\n",
       "      <td>209035668</td>\n",
       "      <td>4</td>\n",
       "    </tr>\n",
       "  </tbody>\n",
       "</table>\n",
       "</div>"
      ],
      "text/plain": [
       "                    median        mean         max        min  count\n",
       "director                                                            \n",
       "Pierre Coffin    970761885   890335610  1156730962  543513985      3\n",
       "David Yates      946259303  1038573906  1327817822  933959197      4\n",
       "Peter Jackson    940703594   811324210  1118888979   93525586      8\n",
       "Lee Unkrich      864625978   830204715  1063171911  562816256      3\n",
       "Conrad Vernon    746921274   682756634   919838758  381509870      3\n",
       "Pete Docter      731342744   715955869   853708609  562816256      3\n",
       "Alfonso CuarÃ³n  716392705   525385670   789804554   69959751      3\n",
       "Marc Webb        705717432   506218674   752215857   60722734      3\n",
       "Sam Raimi        637817444   515177725   890871626   12008642      6\n",
       "Brad Bird        627582455   539728489   694713380  209035668      4"
      ]
     },
     "execution_count": 53,
     "metadata": {},
     "output_type": "execute_result"
    }
   ],
   "source": [
    "# переделаем строку с режиссерами в список, клонируем фильмы для каждого режиссера отдельно\n",
    "data_dir = data.copy()\n",
    "data_dir.director = data_dir.director.str.split('|')\n",
    "data_dir = data_dir.explode('director')\n",
    "\n",
    "# сгруппируем по режиссерам и посчитаем статитику кассовых сборов\n",
    "dir = data_dir.groupby('director').revenue.agg(['median', 'mean','max','min', 'count'])\n",
    "# отфильтруем режиссеров, кто снял всего один или два фильма - нам нужны только многостаночники!\n",
    "dir = dir.query('count > 2')\n",
    "\n",
    "# отсортируем по убыванию медианы сборов, и вот наш список фавориов на прокат\n",
    "dir.astype('int64').sort_values('median', ascending=False).nlargest(10, 'median')"
   ]
  },
  {
   "cell_type": "markdown",
   "id": "b11839b4",
   "metadata": {},
   "source": [
    "Как и ожидалось, половина из списка - режессеры Анимации или Фэнтези. Ну и фантастики. Но в любом случае - это все семейный просмотр."
   ]
  },
  {
   "cell_type": "markdown",
   "id": "0e162cdf",
   "metadata": {},
   "source": [
    "Мне кажется, я уже достаточно для первого взгляда на вопрос разобрал проблему выбора стратегии составления сетки проката и принципов отбора фильмов. "
   ]
  }
 ],
 "metadata": {
  "kernelspec": {
   "display_name": "Python 3",
   "language": "python",
   "name": "python3"
  },
  "language_info": {
   "codemirror_mode": {
    "name": "ipython",
    "version": 3
   },
   "file_extension": ".py",
   "mimetype": "text/x-python",
   "name": "python",
   "nbconvert_exporter": "python",
   "pygments_lexer": "ipython3",
   "version": "3.8.8"
  }
 },
 "nbformat": 4,
 "nbformat_minor": 5
}
