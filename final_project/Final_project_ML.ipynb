{
 "cells": [
  {
   "cell_type": "markdown",
   "source": [
    "# Imports"
   ],
   "metadata": {
    "collapsed": false
   }
  },
  {
   "cell_type": "code",
   "execution_count": 6,
   "metadata": {
    "collapsed": true
   },
   "outputs": [],
   "source": [
    "import pandas as pd, numpy as np, ast, gc, re, math\n",
    "import matplotlib, matplotlib.pyplot as plt, seaborn as sns\n",
    "from tqdm.notebook import tqdm"
   ]
  },
  {
   "cell_type": "code",
   "execution_count": 7,
   "outputs": [],
   "source": [
    "from sklearn.model_selection import train_test_split, KFold\n",
    "from sklearn.preprocessing import MinMaxScaler, StandardScaler, LabelEncoder\n",
    "\n",
    "from sklearn.linear_model import LinearRegression\n",
    "from sklearn.tree import DecisionTreeRegressor\n",
    "from sklearn.ensemble import RandomForestRegressor, GradientBoostingRegressor, ExtraTreesRegressor\n",
    "from sklearn.cluster import KMeans, AgglomerativeClustering\n",
    "from sklearn.neighbors import kneighbors_graph\n",
    "import warnings\n",
    "from sklearn import metrics\n",
    "from sklearn.manifold import TSNE   # t-SNE – algorithm to downsize of matrix\n",
    "\n",
    "from catboost import CatBoostRegressor\n",
    "#from xgboost import XGBRegressor\n",
    "#from lightgbm import LGBMRegressor\n",
    "import category_encoders as ce"
   ],
   "metadata": {
    "collapsed": false,
    "pycharm": {
     "name": "#%%\n"
    }
   }
  },
  {
   "cell_type": "code",
   "execution_count": 13,
   "outputs": [],
   "source": [
    "pd.set_option('display.max_columns', None)"
   ],
   "metadata": {
    "collapsed": false,
    "pycharm": {
     "name": "#%%\n"
    }
   }
  },
  {
   "cell_type": "markdown",
   "source": [
    "# Constants and loading data"
   ],
   "metadata": {
    "collapsed": false
   }
  },
  {
   "cell_type": "code",
   "execution_count": 12,
   "outputs": [],
   "source": [
    "PATH = '/Users/irenaradzevich/Documents/sergei_dev/final project/'\n",
    "TARGET, SEED = 'target', 42\n",
    "np.random.seed(SEED)"
   ],
   "metadata": {
    "collapsed": false,
    "pycharm": {
     "name": "#%%\n"
    }
   }
  },
  {
   "cell_type": "code",
   "execution_count": 95,
   "outputs": [
    {
     "name": "stderr",
     "output_type": "stream",
     "text": [
      "/opt/anaconda3/lib/python3.8/site-packages/IPython/core/interactiveshell.py:3165: DtypeWarning: Columns (9) have mixed types.Specify dtype option on import or set low_memory=False.\n",
      "  has_raised = await self.run_ast_nodes(code_ast.body, cell_name,\n"
     ]
    }
   ],
   "source": [
    "data = pd.read_csv(PATH+'data_preprocessed.csv')"
   ],
   "metadata": {
    "collapsed": false,
    "pycharm": {
     "name": "#%%\n"
    }
   }
  },
  {
   "cell_type": "code",
   "execution_count": 98,
   "outputs": [
    {
     "ename": "KeyError",
     "evalue": "\"['Unnamed: 0'] not found in axis\"",
     "output_type": "error",
     "traceback": [
      "\u001B[0;31m---------------------------------------------------------------------------\u001B[0m",
      "\u001B[0;31mKeyError\u001B[0m                                  Traceback (most recent call last)",
      "\u001B[0;32m<ipython-input-98-2c361a19ae22>\u001B[0m in \u001B[0;36m<module>\u001B[0;34m\u001B[0m\n\u001B[0;32m----> 1\u001B[0;31m \u001B[0mdata\u001B[0m\u001B[0;34m.\u001B[0m\u001B[0mdrop\u001B[0m\u001B[0;34m(\u001B[0m\u001B[0;34m[\u001B[0m\u001B[0;34m'Unnamed: 0'\u001B[0m\u001B[0;34m]\u001B[0m\u001B[0;34m,\u001B[0m \u001B[0maxis\u001B[0m\u001B[0;34m=\u001B[0m\u001B[0;36m1\u001B[0m\u001B[0;34m,\u001B[0m \u001B[0minplace\u001B[0m\u001B[0;34m=\u001B[0m\u001B[0;32mTrue\u001B[0m\u001B[0;34m)\u001B[0m\u001B[0;34m\u001B[0m\u001B[0;34m\u001B[0m\u001B[0m\n\u001B[0m\u001B[1;32m      2\u001B[0m \u001B[0mdata\u001B[0m\u001B[0;34m.\u001B[0m\u001B[0mrenovate\u001B[0m \u001B[0;34m=\u001B[0m \u001B[0mdata\u001B[0m\u001B[0;34m.\u001B[0m\u001B[0mapply\u001B[0m\u001B[0;34m(\u001B[0m\u001B[0;32mlambda\u001B[0m \u001B[0mq\u001B[0m\u001B[0;34m:\u001B[0m \u001B[0mq\u001B[0m\u001B[0;34m.\u001B[0m\u001B[0mbuild\u001B[0m \u001B[0;32mif\u001B[0m \u001B[0mpd\u001B[0m\u001B[0;34m.\u001B[0m\u001B[0misna\u001B[0m\u001B[0;34m(\u001B[0m\u001B[0mq\u001B[0m\u001B[0;34m.\u001B[0m\u001B[0mrenovate\u001B[0m\u001B[0;34m)\u001B[0m \u001B[0;32melse\u001B[0m \u001B[0mq\u001B[0m\u001B[0;34m.\u001B[0m\u001B[0mrenovate\u001B[0m\u001B[0;34m,\u001B[0m \u001B[0maxis\u001B[0m\u001B[0;34m=\u001B[0m\u001B[0;36m1\u001B[0m\u001B[0;34m)\u001B[0m\u001B[0;34m\u001B[0m\u001B[0;34m\u001B[0m\u001B[0m\n\u001B[1;32m      3\u001B[0m \u001B[0mdata\u001B[0m\u001B[0;34m.\u001B[0m\u001B[0minfo\u001B[0m\u001B[0;34m(\u001B[0m\u001B[0;34m)\u001B[0m\u001B[0;34m\u001B[0m\u001B[0;34m\u001B[0m\u001B[0m\n",
      "\u001B[0;32m/opt/anaconda3/lib/python3.8/site-packages/pandas/core/frame.py\u001B[0m in \u001B[0;36mdrop\u001B[0;34m(self, labels, axis, index, columns, level, inplace, errors)\u001B[0m\n\u001B[1;32m   4306\u001B[0m                 \u001B[0mweight\u001B[0m  \u001B[0;36m1.0\u001B[0m     \u001B[0;36m0.8\u001B[0m\u001B[0;34m\u001B[0m\u001B[0;34m\u001B[0m\u001B[0m\n\u001B[1;32m   4307\u001B[0m         \"\"\"\n\u001B[0;32m-> 4308\u001B[0;31m         return super().drop(\n\u001B[0m\u001B[1;32m   4309\u001B[0m             \u001B[0mlabels\u001B[0m\u001B[0;34m=\u001B[0m\u001B[0mlabels\u001B[0m\u001B[0;34m,\u001B[0m\u001B[0;34m\u001B[0m\u001B[0;34m\u001B[0m\u001B[0m\n\u001B[1;32m   4310\u001B[0m             \u001B[0maxis\u001B[0m\u001B[0;34m=\u001B[0m\u001B[0maxis\u001B[0m\u001B[0;34m,\u001B[0m\u001B[0;34m\u001B[0m\u001B[0;34m\u001B[0m\u001B[0m\n",
      "\u001B[0;32m/opt/anaconda3/lib/python3.8/site-packages/pandas/core/generic.py\u001B[0m in \u001B[0;36mdrop\u001B[0;34m(self, labels, axis, index, columns, level, inplace, errors)\u001B[0m\n\u001B[1;32m   4151\u001B[0m         \u001B[0;32mfor\u001B[0m \u001B[0maxis\u001B[0m\u001B[0;34m,\u001B[0m \u001B[0mlabels\u001B[0m \u001B[0;32min\u001B[0m \u001B[0maxes\u001B[0m\u001B[0;34m.\u001B[0m\u001B[0mitems\u001B[0m\u001B[0;34m(\u001B[0m\u001B[0;34m)\u001B[0m\u001B[0;34m:\u001B[0m\u001B[0;34m\u001B[0m\u001B[0;34m\u001B[0m\u001B[0m\n\u001B[1;32m   4152\u001B[0m             \u001B[0;32mif\u001B[0m \u001B[0mlabels\u001B[0m \u001B[0;32mis\u001B[0m \u001B[0;32mnot\u001B[0m \u001B[0;32mNone\u001B[0m\u001B[0;34m:\u001B[0m\u001B[0;34m\u001B[0m\u001B[0;34m\u001B[0m\u001B[0m\n\u001B[0;32m-> 4153\u001B[0;31m                 \u001B[0mobj\u001B[0m \u001B[0;34m=\u001B[0m \u001B[0mobj\u001B[0m\u001B[0;34m.\u001B[0m\u001B[0m_drop_axis\u001B[0m\u001B[0;34m(\u001B[0m\u001B[0mlabels\u001B[0m\u001B[0;34m,\u001B[0m \u001B[0maxis\u001B[0m\u001B[0;34m,\u001B[0m \u001B[0mlevel\u001B[0m\u001B[0;34m=\u001B[0m\u001B[0mlevel\u001B[0m\u001B[0;34m,\u001B[0m \u001B[0merrors\u001B[0m\u001B[0;34m=\u001B[0m\u001B[0merrors\u001B[0m\u001B[0;34m)\u001B[0m\u001B[0;34m\u001B[0m\u001B[0;34m\u001B[0m\u001B[0m\n\u001B[0m\u001B[1;32m   4154\u001B[0m \u001B[0;34m\u001B[0m\u001B[0m\n\u001B[1;32m   4155\u001B[0m         \u001B[0;32mif\u001B[0m \u001B[0minplace\u001B[0m\u001B[0;34m:\u001B[0m\u001B[0;34m\u001B[0m\u001B[0;34m\u001B[0m\u001B[0m\n",
      "\u001B[0;32m/opt/anaconda3/lib/python3.8/site-packages/pandas/core/generic.py\u001B[0m in \u001B[0;36m_drop_axis\u001B[0;34m(self, labels, axis, level, errors)\u001B[0m\n\u001B[1;32m   4186\u001B[0m                 \u001B[0mnew_axis\u001B[0m \u001B[0;34m=\u001B[0m \u001B[0maxis\u001B[0m\u001B[0;34m.\u001B[0m\u001B[0mdrop\u001B[0m\u001B[0;34m(\u001B[0m\u001B[0mlabels\u001B[0m\u001B[0;34m,\u001B[0m \u001B[0mlevel\u001B[0m\u001B[0;34m=\u001B[0m\u001B[0mlevel\u001B[0m\u001B[0;34m,\u001B[0m \u001B[0merrors\u001B[0m\u001B[0;34m=\u001B[0m\u001B[0merrors\u001B[0m\u001B[0;34m)\u001B[0m\u001B[0;34m\u001B[0m\u001B[0;34m\u001B[0m\u001B[0m\n\u001B[1;32m   4187\u001B[0m             \u001B[0;32melse\u001B[0m\u001B[0;34m:\u001B[0m\u001B[0;34m\u001B[0m\u001B[0;34m\u001B[0m\u001B[0m\n\u001B[0;32m-> 4188\u001B[0;31m                 \u001B[0mnew_axis\u001B[0m \u001B[0;34m=\u001B[0m \u001B[0maxis\u001B[0m\u001B[0;34m.\u001B[0m\u001B[0mdrop\u001B[0m\u001B[0;34m(\u001B[0m\u001B[0mlabels\u001B[0m\u001B[0;34m,\u001B[0m \u001B[0merrors\u001B[0m\u001B[0;34m=\u001B[0m\u001B[0merrors\u001B[0m\u001B[0;34m)\u001B[0m\u001B[0;34m\u001B[0m\u001B[0;34m\u001B[0m\u001B[0m\n\u001B[0m\u001B[1;32m   4189\u001B[0m             \u001B[0mresult\u001B[0m \u001B[0;34m=\u001B[0m \u001B[0mself\u001B[0m\u001B[0;34m.\u001B[0m\u001B[0mreindex\u001B[0m\u001B[0;34m(\u001B[0m\u001B[0;34m**\u001B[0m\u001B[0;34m{\u001B[0m\u001B[0maxis_name\u001B[0m\u001B[0;34m:\u001B[0m \u001B[0mnew_axis\u001B[0m\u001B[0;34m}\u001B[0m\u001B[0;34m)\u001B[0m\u001B[0;34m\u001B[0m\u001B[0;34m\u001B[0m\u001B[0m\n\u001B[1;32m   4190\u001B[0m \u001B[0;34m\u001B[0m\u001B[0m\n",
      "\u001B[0;32m/opt/anaconda3/lib/python3.8/site-packages/pandas/core/indexes/base.py\u001B[0m in \u001B[0;36mdrop\u001B[0;34m(self, labels, errors)\u001B[0m\n\u001B[1;32m   5589\u001B[0m         \u001B[0;32mif\u001B[0m \u001B[0mmask\u001B[0m\u001B[0;34m.\u001B[0m\u001B[0many\u001B[0m\u001B[0;34m(\u001B[0m\u001B[0;34m)\u001B[0m\u001B[0;34m:\u001B[0m\u001B[0;34m\u001B[0m\u001B[0;34m\u001B[0m\u001B[0m\n\u001B[1;32m   5590\u001B[0m             \u001B[0;32mif\u001B[0m \u001B[0merrors\u001B[0m \u001B[0;34m!=\u001B[0m \u001B[0;34m\"ignore\"\u001B[0m\u001B[0;34m:\u001B[0m\u001B[0;34m\u001B[0m\u001B[0;34m\u001B[0m\u001B[0m\n\u001B[0;32m-> 5591\u001B[0;31m                 \u001B[0;32mraise\u001B[0m \u001B[0mKeyError\u001B[0m\u001B[0;34m(\u001B[0m\u001B[0;34mf\"{labels[mask]} not found in axis\"\u001B[0m\u001B[0;34m)\u001B[0m\u001B[0;34m\u001B[0m\u001B[0;34m\u001B[0m\u001B[0m\n\u001B[0m\u001B[1;32m   5592\u001B[0m             \u001B[0mindexer\u001B[0m \u001B[0;34m=\u001B[0m \u001B[0mindexer\u001B[0m\u001B[0;34m[\u001B[0m\u001B[0;34m~\u001B[0m\u001B[0mmask\u001B[0m\u001B[0;34m]\u001B[0m\u001B[0;34m\u001B[0m\u001B[0;34m\u001B[0m\u001B[0m\n\u001B[1;32m   5593\u001B[0m         \u001B[0;32mreturn\u001B[0m \u001B[0mself\u001B[0m\u001B[0;34m.\u001B[0m\u001B[0mdelete\u001B[0m\u001B[0;34m(\u001B[0m\u001B[0mindexer\u001B[0m\u001B[0;34m)\u001B[0m\u001B[0;34m\u001B[0m\u001B[0;34m\u001B[0m\u001B[0m\n",
      "\u001B[0;31mKeyError\u001B[0m: \"['Unnamed: 0'] not found in axis\""
     ]
    }
   ],
   "source": [
    "data.drop(['Unnamed: 0'], axis=1, inplace=True)"
   ],
   "metadata": {
    "collapsed": false,
    "pycharm": {
     "name": "#%%\n"
    }
   }
  },
  {
   "cell_type": "code",
   "execution_count": 99,
   "outputs": [
    {
     "name": "stdout",
     "output_type": "stream",
     "text": [
      "<class 'pandas.core.frame.DataFrame'>\n",
      "RangeIndex: 298953 entries, 0 to 298952\n",
      "Data columns (total 46 columns):\n",
      " #   Column                  Non-Null Count   Dtype  \n",
      "---  ------                  --------------   -----  \n",
      " 0   status                  269296 non-null  object \n",
      " 1   private_pool            298953 non-null  int64  \n",
      " 2   propertyType            298953 non-null  object \n",
      " 3   street                  298953 non-null  object \n",
      " 4   baths                   234069 non-null  object \n",
      " 5   fireplace               90149 non-null   object \n",
      " 6   city                    298949 non-null  object \n",
      " 7   sqft                    288534 non-null  object \n",
      " 8   zipcode                 298953 non-null  object \n",
      " 9   beds                    245282 non-null  object \n",
      " 10  state                   298953 non-null  object \n",
      " 11  stories                 204597 non-null  object \n",
      " 12  mls_id                  22442 non-null   object \n",
      " 13  MlsId                   263777 non-null  object \n",
      " 14  target                  298953 non-null  int64  \n",
      " 15  build                   275307 non-null  object \n",
      " 16  renovate                276404 non-null  object \n",
      " 17  heating                 229738 non-null  object \n",
      " 18  cooling                 221444 non-null  object \n",
      " 19  parking                 172723 non-null  object \n",
      " 20  lotsize                 246195 non-null  object \n",
      " 21  price_sqft              278406 non-null  object \n",
      " 22  sqft_value              298953 non-null  float64\n",
      " 23  lot_value               298953 non-null  float64\n",
      " 24  price_value             298953 non-null  float64\n",
      " 25  baths_value             298953 non-null  int64  \n",
      " 26  beds_value              298953 non-null  int64  \n",
      " 27  parking_places          298953 non-null  int64  \n",
      " 28  attached                298953 non-null  int64  \n",
      " 29  detached                298953 non-null  int64  \n",
      " 30  carport                 298953 non-null  int64  \n",
      " 31  build_value             298953 non-null  float64\n",
      " 32  zip                     298953 non-null  int64  \n",
      " 33  type_building           298953 non-null  object \n",
      " 34  type_ownership          298953 non-null  object \n",
      " 35  type_style              298953 non-null  object \n",
      " 36  type_family             298953 non-null  object \n",
      " 37  status_auc              298953 non-null  float64\n",
      " 38  schools_list            296468 non-null  object \n",
      " 39  schools_rating          298953 non-null  float64\n",
      " 40  schools_distance        298953 non-null  float64\n",
      " 41  schools_count           298953 non-null  float64\n",
      " 42  top_schools_list        296468 non-null  object \n",
      " 43  top_schools_rating      298953 non-null  float64\n",
      " 44  top_schools_distance    298953 non-null  float64\n",
      " 45  nearest_schools_rating  298953 non-null  float64\n",
      "dtypes: float64(11), int64(9), object(26)\n",
      "memory usage: 104.9+ MB\n"
     ]
    }
   ],
   "source": [
    "data.renovate = data.apply(lambda q: q.build if pd.isna(q.renovate) else q.renovate, axis=1)\n",
    "data.info()"
   ],
   "metadata": {
    "collapsed": false,
    "pycharm": {
     "name": "#%%\n"
    }
   }
  },
  {
   "cell_type": "markdown",
   "source": [
    "# Functions"
   ],
   "metadata": {
    "collapsed": false
   }
  },
  {
   "cell_type": "code",
   "execution_count": 182,
   "outputs": [],
   "source": [
    "from sklearn.metrics import mean_absolute_error\n"
   ],
   "metadata": {
    "collapsed": false,
    "pycharm": {
     "name": "#%%\n"
    }
   }
  },
  {
   "cell_type": "code",
   "execution_count": 11,
   "outputs": [],
   "source": [
    "def mape(y_true, y_pred):\n",
    "    \"\"\"\n",
    "    function to calculate Mean Absolute Percentage Error\n",
    "    \"\"\"\n",
    "    return np.mean(np.abs((y_pred-y_true)/y_true))*100\n",
    "\n",
    "def smape(y_true, y_pred):\n",
    "    return np.mean(np.abs((y_pred-y_true))/(y_true+y_pred))*100\n",
    "\n",
    "def mae(y_true, y_pred):\n",
    "    \"\"\"\n",
    "    function to calculate Mean Absolute Error\n",
    "    \"\"\"\n",
    "    return np.mean(np.abs(y_pred-y_true))\n",
    "\n",
    "results = pd.DataFrame()\n",
    "def mpl(alpha=0.5):\n",
    "    \"\"\"\n",
    "    function to calculate Mean Pinball Loss\n",
    "    :param y_true:\n",
    "    :param y_pred:\n",
    "    :param alpha:\n",
    "    :return:\n",
    "    \"\"\"\n",
    "    test_up = results.y_test > results.predict\n",
    "    predict_up = results.y_test < results.predict\n",
    "    a = results[test_up]['y_test'].sum() - results[test_up]['predict'].sum()\n",
    "    b = results[predict_up]['predict'].sum() - results[predict_up]['y_test'].sum()\n",
    "    mpl_value =  (alpha * a + (1 - alpha) * b) / results.shape[0]\n",
    "\n",
    "    count_test_up = results[test_up]['y_test'].count() / results.shape[0]\n",
    "\n",
    "    avg_under_test = a / results[test_up]['y_test'].count()\n",
    "    avg_upper_test = b / results[predict_up]['y_test'].count()\n",
    "\n",
    "    return mpl_value, 1-count_test_up, avg_under_test, avg_upper_test"
   ],
   "metadata": {
    "collapsed": false,
    "pycharm": {
     "name": "#%%\n"
    }
   }
  },
  {
   "cell_type": "code",
   "execution_count": 14,
   "outputs": [],
   "source": [
    "def corr_tab(data=data, target=TARGET):\n",
    "    \"\"\"\n",
    "    function to calculate correlation table\n",
    "    :param data: dataset for analyse\n",
    "    :param target: target vector in dataset\n",
    "    :return: dataset of correlation values ascending from most to less\n",
    "    \"\"\"\n",
    "    num_list = list(data.drop(target, axis=1).select_dtypes(include=['int64', 'float64']).columns)\n",
    "    num_list.append(target)\n",
    "    print(num_list)\n",
    "    return data[num_list].corr()[target].abs().sort_values(ascending=False)"
   ],
   "metadata": {
    "collapsed": false,
    "pycharm": {
     "name": "#%%\n"
    }
   }
  },
  {
   "cell_type": "code",
   "execution_count": 37,
   "outputs": [],
   "source": [
    "def name_separate(item):\n",
    "    \"\"\"\n",
    "    function to separete text value in vector 'name' and return only first part\n",
    "    :param item: text value from field of vector\n",
    "    :return: first part of text value like '180 BlueEFFICIENCY 1.8 AT'\n",
    "    \"\"\"\n",
    "    result = item.replace('(','-').replace(')','-').split('-')\n",
    "    if len(result)==3:\n",
    "        third = result[2]\n",
    "    else:\n",
    "        third = ''\n",
    "\n",
    "    return result[0]#, result[1], third"
   ],
   "metadata": {
    "collapsed": false,
    "pycharm": {
     "name": "#%%\n"
    }
   }
  },
  {
   "cell_type": "code",
   "execution_count": 38,
   "outputs": [],
   "source": [
    "def list_cut(to_cut):\n",
    "    \"\"\"\n",
    "    function to reshape list to dataframe with several columns instead of one\n",
    "    :param to_cut: list for processing\n",
    "    :return: show result\n",
    "    \"\"\"\n",
    "    # call function to separate list on baches and generate column headers for dataframe\n",
    "    to_cut = list(np.sort(to_cut))\n",
    "    cut_list = lambda item: [item[i:i+7] for i in range(0, len(item), 7)]\n",
    "    name_list = lambda nom: [\"vectors\"+ str(i) for i in range(0,math.ceil(nom/7))]\n",
    "\n",
    "    # create dataframe with data\n",
    "    df_ = pd.DataFrame(cut_list(to_cut)).T\n",
    "    df_.columns = name_list(len(to_cut))\n",
    "    df_.fillna('', inplace=True)\n",
    "\n",
    "    # show\n",
    "    display(df_)"
   ],
   "metadata": {
    "collapsed": false,
    "pycharm": {
     "name": "#%%\n"
    }
   }
  },
  {
   "cell_type": "code",
   "execution_count": 39,
   "outputs": [],
   "source": [
    "def heatmap(drop_list, dd=data, target = TARGET):\n",
    "    \"\"\"\n",
    "    Visualise correlation by heatmap draw\n",
    "    :param drop_list: list to drop from analyse\n",
    "    :param dd: dataset to analyse\n",
    "    :param target: target vector\n",
    "    :return: show heatmap plot and list of droped columns\n",
    "    \"\"\"\n",
    "    dlst = list(set(dd.columns) - set(drop_list) - {target})\n",
    "    dlst = list(np.sort(dlst))\n",
    "\n",
    "    dlst.append(target)\n",
    "    sns.set(font_scale=1)\n",
    "    plt.subplots(figsize=(16, 16))\n",
    "    sns.heatmap(dd[dlst].corr(), square=True,\n",
    "                annot=True, fmt=\".3f\", linewidths=0.1, cmap=\"RdBu\", vmin=-1, vmax=1)\n",
    "\n",
    "    list_cut(drop_list)"
   ],
   "metadata": {
    "collapsed": false,
    "pycharm": {
     "name": "#%%\n"
    }
   }
  },
  {
   "cell_type": "markdown",
   "source": [
    "# Machin Learning"
   ],
   "metadata": {
    "collapsed": false
   }
  },
  {
   "cell_type": "code",
   "execution_count": 15,
   "outputs": [
    {
     "name": "stdout",
     "output_type": "stream",
     "text": [
      "['Unnamed: 0', 'private_pool', 'renovate', 'sqft_value', 'lot_value', 'price_value', 'baths_value', 'beds_value', 'parking_places', 'attached', 'detached', 'carport', 'build_value', 'zip', 'status_auc', 'schools_rating', 'schools_distance', 'schools_count', 'top_schools_rating', 'top_schools_distance', 'nearest_schools_rating', 'target']\n"
     ]
    },
    {
     "data": {
      "text/plain": "target                    1.000000\ntop_schools_rating        0.144439\nschools_rating            0.140903\nnearest_schools_rating    0.138717\nbeds_value                0.125842\nbaths_value               0.124619\nprivate_pool              0.114501\nstatus_auc                0.040019\nzip                       0.021771\nprice_value               0.019972\nschools_count             0.017977\nattached                  0.016276\ncarport                   0.013863\nparking_places            0.012413\nbuild_value               0.010671\nschools_distance          0.010571\ndetached                  0.010511\nUnnamed: 0                0.007266\ntop_schools_distance      0.007180\nrenovate                  0.006537\nlot_value                 0.001793\nsqft_value                0.000269\nName: target, dtype: float64"
     },
     "execution_count": 15,
     "metadata": {},
     "output_type": "execute_result"
    }
   ],
   "source": [
    "corr_tab(data)"
   ],
   "metadata": {
    "collapsed": false,
    "pycharm": {
     "name": "#%%\n"
    }
   }
  },
  {
   "cell_type": "code",
   "execution_count": 36,
   "outputs": [
    {
     "name": "stdout",
     "output_type": "stream",
     "text": [
      "<class 'pandas.core.frame.DataFrame'>\n",
      "RangeIndex: 298953 entries, 0 to 298952\n",
      "Data columns (total 46 columns):\n",
      " #   Column                  Non-Null Count   Dtype  \n",
      "---  ------                  --------------   -----  \n",
      " 0   status                  269296 non-null  object \n",
      " 1   private_pool            298953 non-null  int64  \n",
      " 2   propertyType            298953 non-null  object \n",
      " 3   street                  298953 non-null  object \n",
      " 4   baths                   234069 non-null  object \n",
      " 5   fireplace               90149 non-null   object \n",
      " 6   city                    298949 non-null  object \n",
      " 7   sqft                    288534 non-null  object \n",
      " 8   zipcode                 298953 non-null  object \n",
      " 9   beds                    245282 non-null  object \n",
      " 10  state                   298953 non-null  object \n",
      " 11  stories                 204597 non-null  object \n",
      " 12  mls_id                  22442 non-null   object \n",
      " 13  MlsId                   263777 non-null  object \n",
      " 14  target                  298953 non-null  int64  \n",
      " 15  build                   275307 non-null  object \n",
      " 16  renovate                133185 non-null  float64\n",
      " 17  heating                 229738 non-null  object \n",
      " 18  cooling                 221444 non-null  object \n",
      " 19  parking                 172723 non-null  object \n",
      " 20  lotsize                 246195 non-null  object \n",
      " 21  price_sqft              278406 non-null  object \n",
      " 22  sqft_value              298953 non-null  float64\n",
      " 23  lot_value               298953 non-null  float64\n",
      " 24  price_value             298953 non-null  float64\n",
      " 25  baths_value             298953 non-null  int64  \n",
      " 26  beds_value              298953 non-null  int64  \n",
      " 27  parking_places          298953 non-null  int64  \n",
      " 28  attached                298953 non-null  int64  \n",
      " 29  detached                298953 non-null  int64  \n",
      " 30  carport                 298953 non-null  int64  \n",
      " 31  build_value             298953 non-null  float64\n",
      " 32  zip                     298953 non-null  int64  \n",
      " 33  type_building           298953 non-null  object \n",
      " 34  type_ownership          298953 non-null  object \n",
      " 35  type_style              298953 non-null  object \n",
      " 36  type_family             298953 non-null  object \n",
      " 37  status_auc              298953 non-null  float64\n",
      " 38  schools_list            296468 non-null  object \n",
      " 39  schools_rating          298953 non-null  float64\n",
      " 40  schools_distance        298953 non-null  float64\n",
      " 41  schools_count           298953 non-null  float64\n",
      " 42  top_schools_list        296468 non-null  object \n",
      " 43  top_schools_rating      298953 non-null  float64\n",
      " 44  top_schools_distance    298953 non-null  float64\n",
      " 45  nearest_schools_rating  298953 non-null  float64\n",
      "dtypes: float64(12), int64(9), object(25)\n",
      "memory usage: 104.9+ MB\n"
     ]
    }
   ],
   "source": [
    "data.drop(['Unnamed: 0'], axis=1, inplace=True)\n",
    "data.info()"
   ],
   "metadata": {
    "collapsed": false,
    "pycharm": {
     "name": "#%%\n"
    }
   }
  },
  {
   "cell_type": "code",
   "execution_count": 40,
   "outputs": [
    {
     "data": {
      "text/plain": "Empty DataFrame\nColumns: []\nIndex: []",
      "text/html": "<div>\n<style scoped>\n    .dataframe tbody tr th:only-of-type {\n        vertical-align: middle;\n    }\n\n    .dataframe tbody tr th {\n        vertical-align: top;\n    }\n\n    .dataframe thead th {\n        text-align: right;\n    }\n</style>\n<table border=\"1\" class=\"dataframe\">\n  <thead>\n    <tr style=\"text-align: right;\">\n      <th></th>\n    </tr>\n  </thead>\n  <tbody>\n  </tbody>\n</table>\n</div>"
     },
     "metadata": {},
     "output_type": "display_data"
    },
    {
     "data": {
      "text/plain": "<Figure size 1152x1152 with 2 Axes>",
      "image/png": "[encoded data removed]"
     },
     "metadata": {},
     "output_type": "display_data"
    }
   ],
   "source": [
    "heatmap([])"
   ],
   "metadata": {
    "collapsed": false,
    "pycharm": {
     "name": "#%%\n"
    }
   }
  },
  {
   "cell_type": "code",
   "execution_count": 100,
   "outputs": [],
   "source": [
    "x, y = data.drop([TARGET], axis=1), np.log(data[TARGET])"
   ],
   "metadata": {
    "collapsed": false,
    "pycharm": {
     "name": "#%%\n"
    }
   }
  },
  {
   "cell_type": "code",
   "execution_count": 101,
   "outputs": [],
   "source": [
    "encoder=ce.TargetEncoder()\n",
    "encoder.fit(x, y)\n",
    "x = encoder.transform(x)"
   ],
   "metadata": {
    "collapsed": false,
    "pycharm": {
     "name": "#%%\n"
    }
   }
  },
  {
   "cell_type": "code",
   "execution_count": 107,
   "outputs": [],
   "source": [
    "x_train, x_test, y_train, y_test = train_test_split(x, y, test_size=0.2, shuffle=True, random_state=SEED)"
   ],
   "metadata": {
    "collapsed": false,
    "pycharm": {
     "name": "#%%\n"
    }
   }
  },
  {
   "cell_type": "markdown",
   "source": [
    "### Catboost regressor"
   ],
   "metadata": {
    "collapsed": false
   }
  },
  {
   "cell_type": "code",
   "execution_count": 44,
   "outputs": [
    {
     "data": {
      "text/plain": "<catboost.core.CatBoostRegressor at 0x7fe013ac4850>"
     },
     "execution_count": 44,
     "metadata": {},
     "output_type": "execute_result"
    }
   ],
   "source": [
    "model = CatBoostRegressor(iterations = 5000,\n",
    "                          random_seed = SEED,\n",
    "                          #eval_metric='MAPE',\n",
    "                          #custom_metric=['R2', 'MAE'],\n",
    "                          #silent=True,\n",
    "                          )\n",
    "model.fit(x_train, y_train,\n",
    "          #cat_features=cat_features_ids,\n",
    "          #eval_set=(x, np.log(y_test)),\n",
    "          verbose_eval=0,\n",
    "          #use_best_model=True,\n",
    "          #plot=True\n",
    "          )"
   ],
   "metadata": {
    "collapsed": false,
    "pycharm": {
     "name": "#%%\n"
    }
   }
  },
  {
   "cell_type": "code",
   "execution_count": 46,
   "outputs": [],
   "source": [
    "y_true = np.exp(y_test)\n",
    "predict = np.exp(model.predict(x_test))"
   ],
   "metadata": {
    "collapsed": false,
    "pycharm": {
     "name": "#%%\n"
    }
   }
  },
  {
   "cell_type": "code",
   "execution_count": 47,
   "outputs": [],
   "source": [
    "if not results.empty:\n",
    "    results.drop(columns=results.columns, inplace=True)\n",
    "results = x_test.copy()\n",
    "results['y_test'] = np.exp(y_test)\n",
    "results['predict'] = predict.astype('int64')"
   ],
   "metadata": {
    "collapsed": false,
    "pycharm": {
     "name": "#%%\n"
    }
   }
  },
  {
   "cell_type": "code",
   "execution_count": 48,
   "outputs": [],
   "source": [
    "mpl_value, p, avg_under_test, avg_upper_test = mpl(alpha=0.01)\n",
    "mape_value, smape_value = mape(y_true, predict), smape(y_true, predict)"
   ],
   "metadata": {
    "collapsed": false,
    "pycharm": {
     "name": "#%%\n"
    }
   }
  },
  {
   "cell_type": "code",
   "execution_count": 57,
   "outputs": [
    {
     "name": "stdout",
     "output_type": "stream",
     "text": [
      "Pinball loss  :: переоценка теста :: недооценка теста\n",
      "17168.2       :: 34079.1          :: 47293.4\n",
      "MAPE: 4.09%\n"
     ]
    }
   ],
   "source": [
    "print('Pinball loss  :: переоценка теста :: недооценка теста')\n",
    "print(f'{mpl_value:0.1f}       :: {avg_upper_test:0.1f}          :: {avg_under_test:0.1f}')\n",
    "print(f'MAPE: {mape_value:0.2F}%')"
   ],
   "metadata": {
    "collapsed": false,
    "pycharm": {
     "name": "#%%\n"
    }
   }
  },
  {
   "cell_type": "markdown",
   "source": [
    "### ExtraTrees"
   ],
   "metadata": {
    "collapsed": false
   }
  },
  {
   "cell_type": "code",
   "execution_count": 106,
   "outputs": [
    {
     "data": {
      "text/plain": "status                    0\nprivate_pool              0\npropertyType              0\nstreet                    0\nbaths                     0\nfireplace                 0\ncity                      0\nsqft                      0\nzipcode                   0\nbeds                      0\nstate                     0\nstories                   0\nmls_id                    0\nMlsId                     0\nbuild                     0\nrenovate                  0\nheating                   0\ncooling                   0\nparking                   0\nlotsize                   0\nprice_sqft                0\nsqft_value                0\nlot_value                 0\nprice_value               0\nbaths_value               0\nbeds_value                0\nparking_places            0\nattached                  0\ndetached                  0\ncarport                   0\nbuild_value               0\nzip                       0\ntype_building             0\ntype_ownership            0\ntype_style                0\ntype_family               0\nstatus_auc                0\nschools_list              0\nschools_rating            0\nschools_distance          0\nschools_count             0\ntop_schools_list          0\ntop_schools_rating        0\ntop_schools_distance      0\nnearest_schools_rating    0\ndtype: int64"
     },
     "execution_count": 106,
     "metadata": {},
     "output_type": "execute_result"
    }
   ],
   "source": [
    "x.isna().sum()"
   ],
   "metadata": {
    "collapsed": false,
    "pycharm": {
     "name": "#%%\n"
    }
   }
  },
  {
   "cell_type": "code",
   "execution_count": 105,
   "outputs": [
    {
     "name": "stdout",
     "output_type": "stream",
     "text": [
      "<class 'pandas.core.frame.DataFrame'>\n",
      "Int64Index: 239162 entries, 164484 to 121958\n",
      "Data columns (total 45 columns):\n",
      " #   Column                  Non-Null Count   Dtype  \n",
      "---  ------                  --------------   -----  \n",
      " 0   status                  239162 non-null  float64\n",
      " 1   private_pool            239162 non-null  int64  \n",
      " 2   propertyType            239162 non-null  float64\n",
      " 3   street                  239162 non-null  float64\n",
      " 4   baths                   239162 non-null  float64\n",
      " 5   fireplace               239162 non-null  float64\n",
      " 6   city                    239162 non-null  float64\n",
      " 7   sqft                    239162 non-null  float64\n",
      " 8   zipcode                 239162 non-null  float64\n",
      " 9   beds                    239162 non-null  float64\n",
      " 10  state                   239162 non-null  float64\n",
      " 11  stories                 239162 non-null  float64\n",
      " 12  mls_id                  239162 non-null  float64\n",
      " 13  MlsId                   239162 non-null  float64\n",
      " 14  build                   239162 non-null  float64\n",
      " 15  renovate                106449 non-null  float64\n",
      " 16  heating                 239162 non-null  float64\n",
      " 17  cooling                 239162 non-null  float64\n",
      " 18  parking                 239162 non-null  float64\n",
      " 19  lotsize                 239162 non-null  float64\n",
      " 20  price_sqft              239162 non-null  float64\n",
      " 21  sqft_value              239162 non-null  float64\n",
      " 22  lot_value               239162 non-null  float64\n",
      " 23  price_value             239162 non-null  float64\n",
      " 24  baths_value             239162 non-null  int64  \n",
      " 25  beds_value              239162 non-null  int64  \n",
      " 26  parking_places          239162 non-null  int64  \n",
      " 27  attached                239162 non-null  int64  \n",
      " 28  detached                239162 non-null  int64  \n",
      " 29  carport                 239162 non-null  int64  \n",
      " 30  build_value             239162 non-null  float64\n",
      " 31  zip                     239162 non-null  int64  \n",
      " 32  type_building           239162 non-null  float64\n",
      " 33  type_ownership          239162 non-null  float64\n",
      " 34  type_style              239162 non-null  float64\n",
      " 35  type_family             239162 non-null  float64\n",
      " 36  status_auc              239162 non-null  float64\n",
      " 37  schools_list            239162 non-null  float64\n",
      " 38  schools_rating          239162 non-null  float64\n",
      " 39  schools_distance        239162 non-null  float64\n",
      " 40  schools_count           239162 non-null  float64\n",
      " 41  top_schools_list        239162 non-null  float64\n",
      " 42  top_schools_rating      239162 non-null  float64\n",
      " 43  top_schools_distance    239162 non-null  float64\n",
      " 44  nearest_schools_rating  239162 non-null  float64\n",
      "dtypes: float64(37), int64(8)\n",
      "memory usage: 83.9 MB\n"
     ]
    }
   ],
   "source": [
    "x_train.info()"
   ],
   "metadata": {
    "collapsed": false,
    "pycharm": {
     "name": "#%%\n"
    }
   }
  },
  {
   "cell_type": "code",
   "execution_count": 108,
   "outputs": [],
   "source": [
    "model = ExtraTreesRegressor(n_estimators=200, random_state=SEED)\n",
    "model.fit(x_train, y_train)\n",
    "y_true = np.exp(y_test)\n",
    "predict = np.exp(model.predict(x_test))"
   ],
   "metadata": {
    "collapsed": false,
    "pycharm": {
     "name": "#%%\n"
    }
   }
  },
  {
   "cell_type": "code",
   "execution_count": 109,
   "outputs": [],
   "source": [
    "if not results.empty:\n",
    "    results.drop(columns=results.columns, inplace=True)\n",
    "results = x_test.copy()\n",
    "results['y_test'] = np.exp(y_test)\n",
    "results['predict'] = predict.astype('int64')"
   ],
   "metadata": {
    "collapsed": false,
    "pycharm": {
     "name": "#%%\n"
    }
   }
  },
  {
   "cell_type": "code",
   "execution_count": 110,
   "outputs": [],
   "source": [
    "mpl_value, p, avg_under_test, avg_upper_test = mpl(alpha=0.01)\n",
    "mape_value, smape_value = mape(y_true, predict), smape(y_true, predict)"
   ],
   "metadata": {
    "collapsed": false,
    "pycharm": {
     "name": "#%%\n"
    }
   }
  },
  {
   "cell_type": "code",
   "execution_count": 111,
   "outputs": [
    {
     "name": "stdout",
     "output_type": "stream",
     "text": [
      "Pinball loss  :: переоценка теста :: недооценка теста\n",
      "8348.0       :: 16609.2          :: 68079.2\n",
      "MAPE: 6.42%\n"
     ]
    }
   ],
   "source": [
    "print('Pinball loss  :: переоценка теста :: недооценка теста')\n",
    "print(f'{mpl_value:0.1f}       :: {avg_upper_test:0.1f}          :: {avg_under_test:0.1f}')\n",
    "print(f'MAPE: {mape_value:0.2F}%')"
   ],
   "metadata": {
    "collapsed": false,
    "pycharm": {
     "name": "#%%\n"
    }
   }
  },
  {
   "cell_type": "markdown",
   "source": [
    "### GradientBoostingRegressor"
   ],
   "metadata": {
    "collapsed": false
   }
  },
  {
   "cell_type": "code",
   "execution_count": 90,
   "outputs": [],
   "source": [
    "model = GradientBoostingRegressor(n_estimators=200, random_state=SEED, loss='quantile', alpha=0.001)\n",
    "model.fit(x_train.drop('renovate', axis=1), y_train)\n",
    "y_true = np.exp(y_test)\n",
    "predict = np.exp(model.predict(x_test.drop('renovate', axis=1)))"
   ],
   "metadata": {
    "collapsed": false,
    "pycharm": {
     "name": "#%%\n"
    }
   }
  },
  {
   "cell_type": "code",
   "execution_count": 91,
   "outputs": [],
   "source": [
    "if not results.empty:\n",
    "    results.drop(columns=results.columns, inplace=True)\n",
    "results = x_test.copy()\n",
    "results['y_test'] = np.exp(y_test)\n",
    "results['predict'] = predict.astype('int64')"
   ],
   "metadata": {
    "collapsed": false,
    "pycharm": {
     "name": "#%%\n"
    }
   }
  },
  {
   "cell_type": "code",
   "execution_count": 92,
   "outputs": [],
   "source": [
    "mpl_value, p, avg_under_test, avg_upper_test = mpl(alpha=0.01)\n",
    "mape_value, smape_value = mape(y_true, predict), smape(y_true, predict)"
   ],
   "metadata": {
    "collapsed": false,
    "pycharm": {
     "name": "#%%\n"
    }
   }
  },
  {
   "cell_type": "code",
   "execution_count": 89,
   "outputs": [
    {
     "name": "stdout",
     "output_type": "stream",
     "text": [
      "Pinball loss  :: переоценка теста :: недооценка теста\n",
      "17082       :: 34480          :: 60477\n",
      "MAPE: 8.19%\n"
     ]
    }
   ],
   "source": [
    "print('Pinball loss  :: переоценка теста :: недооценка теста')\n",
    "print(f'{mpl_value:0.0f}       :: {avg_upper_test:0.0f}          :: {avg_under_test:0.0f}')\n",
    "print(f'MAPE: {mape_value:0.2F}%')\n",
    "# base parameters"
   ],
   "metadata": {
    "collapsed": false,
    "pycharm": {
     "name": "#%%\n"
    }
   }
  },
  {
   "cell_type": "code",
   "execution_count": 93,
   "outputs": [
    {
     "name": "stdout",
     "output_type": "stream",
     "text": [
      "Pinball loss  :: переоценка теста :: недооценка теста\n",
      "5572       :: 2744          :: 557358\n",
      "MAPE: 72.90%\n"
     ]
    }
   ],
   "source": [
    "print('Pinball loss  :: переоценка теста :: недооценка теста')\n",
    "print(f'{mpl_value:0.0f}       :: {avg_upper_test:0.0f}          :: {avg_under_test:0.0f}')\n",
    "print(f'MAPE: {mape_value:0.2F}%')\n",
    "# loss='quantile' alpha=0.001"
   ],
   "metadata": {
    "collapsed": false,
    "pycharm": {
     "name": "#%%\n"
    }
   }
  },
  {
   "cell_type": "code",
   "execution_count": null,
   "outputs": [],
   "source": [],
   "metadata": {
    "collapsed": false,
    "pycharm": {
     "name": "#%%\n"
    }
   }
  },
  {
   "cell_type": "markdown",
   "source": [
    "# Manual clustering data and ML model"
   ],
   "metadata": {
    "collapsed": false
   }
  },
  {
   "cell_type": "markdown",
   "source": [
    "#### till 500 000"
   ],
   "metadata": {
    "collapsed": false
   }
  },
  {
   "cell_type": "code",
   "execution_count": 177,
   "outputs": [
    {
     "data": {
      "text/plain": "[500000,\n 1000000,\n 1500000,\n 2000000,\n 2500000,\n 3000000,\n 3500000,\n 4000000,\n 5500000,\n 7000000,\n 8500000,\n 10000000,\n 20000000,\n 100000000]"
     },
     "execution_count": 177,
     "metadata": {},
     "output_type": "execute_result"
    }
   ],
   "source": [
    "l1 = [q*500000 for q in range(1,9)]\n",
    "l2 = [q*1500000+4000000 for q in range(1,4)]\n",
    "\n",
    "l1.extend(l2)\n",
    "l1.extend([10000000, 20000000, 100000000])\n",
    "l1"
   ],
   "metadata": {
    "collapsed": false,
    "pycharm": {
     "name": "#%%\n"
    }
   }
  },
  {
   "cell_type": "code",
   "execution_count": 186,
   "outputs": [
    {
     "data": {
      "text/plain": "  0%|          | 0/14 [00:00<?, ?it/s]",
      "application/vnd.jupyter.widget-view+json": {
       "version_major": 2,
       "version_minor": 0,
       "model_id": "7ae74cd51ecb46398214ee8a40d03e2a"
      }
     },
     "metadata": {},
     "output_type": "display_data"
    }
   ],
   "source": [
    "metrics_result=[]\n",
    "tail = 50000\n",
    "for head in tqdm(l1):\n",
    "    mask = (data[TARGET]>tail)&(data[TARGET]<=head)\n",
    "    qtty = data[mask].shape[0]\n",
    "\n",
    "    x = data[mask].drop([TARGET], axis=1)\n",
    "    y = np.log(data[mask][TARGET])\n",
    "    encoder = ce.TargetEncoder()\n",
    "    encoder.fit(x, y)\n",
    "    x = encoder.transform(x)\n",
    "    x_train, x_test, y_train, y_test = train_test_split(x, y, test_size=0.2, shuffle=True, random_state=SEED)\n",
    "\n",
    "    model = CatBoostRegressor(iterations = 5000, random_seed = SEED)\n",
    "    model.fit(x_train, y_train, verbose_eval=0)\n",
    "    y_true = np.exp(y_test)\n",
    "    predict = np.exp(model.predict(x_test))\n",
    "\n",
    "    if not results.empty:\n",
    "        results.drop(columns=results.columns, inplace=True)\n",
    "    results = x_test.copy()\n",
    "    results['y_test'] = np.exp(y_test)\n",
    "    results['predict'] = predict.astype('int64')\n",
    "\n",
    "    mpl_value, p, avg_under_test, avg_upper_test = mpl(alpha=0.01)\n",
    "    mape_value, mae_value = mape(y_true, predict), mae(y_true, predict)\n",
    "    mae_s = mean_absolute_error(y_true, predict)\n",
    "\n",
    "    values = [tail,head,qtty, mape_value, mpl_value, avg_upper_test, avg_under_test, mae_value, mae_s]\n",
    "    metrics_result.append(values)\n",
    "\n",
    "    tail = head\n",
    "\n",
    "col = ['from', 'till', 'shape', 'MAPE', 'Pinball_Loss', 'over_pricing', 'under_pricing', 'MAE', 'MAE2']\n",
    "metrics_result=pd.DataFrame(data=metrics_result, columns=col)\n",
    "metrics_result[['Pinball_Loss', 'over_pricing', 'under_pricing','MAE']]=metrics_result[['Pinball_Loss', 'over_pricing', 'under_pricing','MAE']].astype(int)"
   ],
   "metadata": {
    "collapsed": false,
    "pycharm": {
     "name": "#%%\n"
    }
   }
  },
  {
   "cell_type": "markdown",
   "source": [],
   "metadata": {
    "collapsed": false
   }
  },
  {
   "cell_type": "code",
   "execution_count": 189,
   "outputs": [],
   "source": [
    "metrics_result.MAE2 = metrics_result.MAE2.astype(int)"
   ],
   "metadata": {
    "collapsed": false,
    "pycharm": {
     "name": "#%%\n"
    }
   }
  },
  {
   "cell_type": "code",
   "source": [
    "metrics_result"
   ],
   "metadata": {
    "collapsed": false,
    "pycharm": {
     "name": "#%%\n"
    }
   },
   "execution_count": 190,
   "outputs": [
    {
     "data": {
      "text/plain": "        from       till   shape       MAPE  Pinball_Loss  over_pricing  \\\n0      50000     500000  200293   1.839705          1758          3527   \n1     500000    1000000   55854   1.062510          3432          6907   \n2    1000000    1500000   13786   1.298593          7772         16029   \n3    1500000    2000000    7019   1.801105         14711         30327   \n4    2000000    2500000    3402   2.134252         23648         48917   \n5    2500000    3000000    2301   2.254068         34139         63315   \n6    3000000    3500000    1323   1.862965         31601         62527   \n7    3500000    4000000    1077   2.197400         40426         80803   \n8    4000000    5500000    1526   3.255427         69549        134346   \n9    5500000    7000000     944   3.145414         93882        206079   \n10   7000000    8500000     476   3.159288        112695        245375   \n11   8500000   10000000     377   2.854615        127380        241765   \n12  10000000   20000000     780   7.744721        530119       1032722   \n13  20000000  100000000     301  10.522347       1450798       2596026   \n\n    under_pricing        MAE     MAE2  \n0            4321     392654     3926  \n1            8233     757564     7575  \n2           16529    1628687    16286  \n3           32950    3168027    31680  \n4           48732    4882171    48821  \n5           61596    6252467    62524  \n6           60690    6161950    61619  \n7           85793    8329862    83298  \n8          180726   15677868   156778  \n9          192465   19866031   198660  \n10         250376   24808465   248084  \n11         297202   26802519   268025  \n12        1193438  111102007  1111020  \n13        4135132  327727010  3277270  ",
      "text/html": "<div>\n<style scoped>\n    .dataframe tbody tr th:only-of-type {\n        vertical-align: middle;\n    }\n\n    .dataframe tbody tr th {\n        vertical-align: top;\n    }\n\n    .dataframe thead th {\n        text-align: right;\n    }\n</style>\n<table border=\"1\" class=\"dataframe\">\n  <thead>\n    <tr style=\"text-align: right;\">\n      <th></th>\n      <th>from</th>\n      <th>till</th>\n      <th>shape</th>\n      <th>MAPE</th>\n      <th>Pinball_Loss</th>\n      <th>over_pricing</th>\n      <th>under_pricing</th>\n      <th>MAE</th>\n      <th>MAE2</th>\n    </tr>\n  </thead>\n  <tbody>\n    <tr>\n      <th>0</th>\n      <td>50000</td>\n      <td>500000</td>\n      <td>200293</td>\n      <td>1.839705</td>\n      <td>1758</td>\n      <td>3527</td>\n      <td>4321</td>\n      <td>392654</td>\n      <td>3926</td>\n    </tr>\n    <tr>\n      <th>1</th>\n      <td>500000</td>\n      <td>1000000</td>\n      <td>55854</td>\n      <td>1.062510</td>\n      <td>3432</td>\n      <td>6907</td>\n      <td>8233</td>\n      <td>757564</td>\n      <td>7575</td>\n    </tr>\n    <tr>\n      <th>2</th>\n      <td>1000000</td>\n      <td>1500000</td>\n      <td>13786</td>\n      <td>1.298593</td>\n      <td>7772</td>\n      <td>16029</td>\n      <td>16529</td>\n      <td>1628687</td>\n      <td>16286</td>\n    </tr>\n    <tr>\n      <th>3</th>\n      <td>1500000</td>\n      <td>2000000</td>\n      <td>7019</td>\n      <td>1.801105</td>\n      <td>14711</td>\n      <td>30327</td>\n      <td>32950</td>\n      <td>3168027</td>\n      <td>31680</td>\n    </tr>\n    <tr>\n      <th>4</th>\n      <td>2000000</td>\n      <td>2500000</td>\n      <td>3402</td>\n      <td>2.134252</td>\n      <td>23648</td>\n      <td>48917</td>\n      <td>48732</td>\n      <td>4882171</td>\n      <td>48821</td>\n    </tr>\n    <tr>\n      <th>5</th>\n      <td>2500000</td>\n      <td>3000000</td>\n      <td>2301</td>\n      <td>2.254068</td>\n      <td>34139</td>\n      <td>63315</td>\n      <td>61596</td>\n      <td>6252467</td>\n      <td>62524</td>\n    </tr>\n    <tr>\n      <th>6</th>\n      <td>3000000</td>\n      <td>3500000</td>\n      <td>1323</td>\n      <td>1.862965</td>\n      <td>31601</td>\n      <td>62527</td>\n      <td>60690</td>\n      <td>6161950</td>\n      <td>61619</td>\n    </tr>\n    <tr>\n      <th>7</th>\n      <td>3500000</td>\n      <td>4000000</td>\n      <td>1077</td>\n      <td>2.197400</td>\n      <td>40426</td>\n      <td>80803</td>\n      <td>85793</td>\n      <td>8329862</td>\n      <td>83298</td>\n    </tr>\n    <tr>\n      <th>8</th>\n      <td>4000000</td>\n      <td>5500000</td>\n      <td>1526</td>\n      <td>3.255427</td>\n      <td>69549</td>\n      <td>134346</td>\n      <td>180726</td>\n      <td>15677868</td>\n      <td>156778</td>\n    </tr>\n    <tr>\n      <th>9</th>\n      <td>5500000</td>\n      <td>7000000</td>\n      <td>944</td>\n      <td>3.145414</td>\n      <td>93882</td>\n      <td>206079</td>\n      <td>192465</td>\n      <td>19866031</td>\n      <td>198660</td>\n    </tr>\n    <tr>\n      <th>10</th>\n      <td>7000000</td>\n      <td>8500000</td>\n      <td>476</td>\n      <td>3.159288</td>\n      <td>112695</td>\n      <td>245375</td>\n      <td>250376</td>\n      <td>24808465</td>\n      <td>248084</td>\n    </tr>\n    <tr>\n      <th>11</th>\n      <td>8500000</td>\n      <td>10000000</td>\n      <td>377</td>\n      <td>2.854615</td>\n      <td>127380</td>\n      <td>241765</td>\n      <td>297202</td>\n      <td>26802519</td>\n      <td>268025</td>\n    </tr>\n    <tr>\n      <th>12</th>\n      <td>10000000</td>\n      <td>20000000</td>\n      <td>780</td>\n      <td>7.744721</td>\n      <td>530119</td>\n      <td>1032722</td>\n      <td>1193438</td>\n      <td>111102007</td>\n      <td>1111020</td>\n    </tr>\n    <tr>\n      <th>13</th>\n      <td>20000000</td>\n      <td>100000000</td>\n      <td>301</td>\n      <td>10.522347</td>\n      <td>1450798</td>\n      <td>2596026</td>\n      <td>4135132</td>\n      <td>327727010</td>\n      <td>3277270</td>\n    </tr>\n  </tbody>\n</table>\n</div>"
     },
     "execution_count": 190,
     "metadata": {},
     "output_type": "execute_result"
    }
   ]
  },
  {
   "cell_type": "code",
   "execution_count": 150,
   "outputs": [
    {
     "data": {
      "text/plain": "(209781, 46)"
     },
     "execution_count": 150,
     "metadata": {},
     "output_type": "execute_result"
    }
   ],
   "source": [
    "till, up = 50_000, 500_000\n",
    "mask = (data[TARGET]>till)&(data[TARGET]<=up)\n",
    "data[mask].shape"
   ],
   "metadata": {
    "collapsed": false,
    "pycharm": {
     "name": "#%%\n"
    }
   }
  },
  {
   "cell_type": "code",
   "execution_count": 151,
   "outputs": [],
   "source": [
    "x = data[mask].drop([TARGET], axis=1)\n",
    "y = np.log(data[mask][TARGET])\n",
    "encoder = ce.TargetEncoder()\n",
    "encoder.fit(x, y)\n",
    "x = encoder.transform(x)\n",
    "x_train, x_test, y_train, y_test = train_test_split(x, y, test_size=0.2, shuffle=True, random_state=SEED)"
   ],
   "metadata": {
    "collapsed": false,
    "pycharm": {
     "name": "#%%\n"
    }
   }
  },
  {
   "cell_type": "code",
   "execution_count": 152,
   "outputs": [
    {
     "data": {
      "text/plain": "<catboost.core.CatBoostRegressor at 0x7fe02707b3d0>"
     },
     "execution_count": 152,
     "metadata": {},
     "output_type": "execute_result"
    }
   ],
   "source": [
    "model = CatBoostRegressor(iterations = 5000, random_seed = SEED)\n",
    "model.fit(x_train, y_train, verbose_eval=0)\n",
    "y_true = np.exp(y_test)\n",
    "predict = np.exp(model.predict(x_test))\n",
    "\n",
    "if not results.empty:\n",
    "    results.drop(columns=results.columns, inplace=True)\n",
    "results = x_test.copy()\n",
    "results['y_test'] = np.exp(y_test)\n",
    "results['predict'] = predict.astype('int64')\n",
    "\n",
    "mpl_value, p, avg_under_test, avg_upper_test = mpl(alpha=0.01)\n",
    "mape_value, smape_value = mape(y_true, predict), smape(y_true, predict)\n",
    "\n",
    "print('Pinball loss  :: переоценка теста :: недооценка теста')\n",
    "print(f'{mpl_value:0.1f}       :: {avg_upper_test:0.1f}          :: {avg_under_test:0.1f}')\n",
    "print(f'MAPE: {mape_value:0.2F}%')"
   ],
   "metadata": {
    "collapsed": false,
    "pycharm": {
     "name": "#%%\n"
    }
   }
  },
  {
   "cell_type": "code",
   "execution_count": 125,
   "outputs": [],
   "source": [
    "results['delta'] = results.apply(lambda q: q.predict-q.y_test if q.predict>q.y_test else 0, axis=1)"
   ],
   "metadata": {
    "collapsed": false,
    "pycharm": {
     "name": "#%%\n"
    }
   }
  },
  {
   "cell_type": "code",
   "execution_count": 126,
   "outputs": [
    {
     "data": {
      "text/plain": "           status  private_pool  propertyType     street      baths  \\\n134582  12.395142             0     12.343622  12.735076  12.274509   \n174981  12.395142             0     12.293812  12.392784  12.274509   \n285460  12.395142             0     12.293812  12.392784  12.274509   \n294304  12.395142             0     12.313835  12.392784  12.274509   \n254035  12.395142             0     12.293812  12.392784  12.274509   \n...           ...           ...           ...        ...        ...   \n24362   12.402169             0     12.384776  12.392784  12.301688   \n221170  12.556454             0     12.420971  12.392784  12.313174   \n105239  12.402169             0     12.236222  12.392784  12.110103   \n266054  12.395142             0     12.406910  12.392784  12.571548   \n219694  12.402169             0     12.420971  12.392784  12.241454   \n\n        fireplace       city       sqft    zipcode       beds      state  \\\n134582  12.363479  12.361181  12.110180  12.392784  12.343640  12.217754   \n174981  12.363479  12.162075  12.052576  12.467973  12.343640  12.379576   \n285460  12.363479  12.384614  12.052576  12.196159  12.343640  12.402046   \n294304  12.363479  12.406090  12.052576  12.306260  12.343640  12.379576   \n254035  12.363479  12.162075  12.052576  12.467973  12.343640  12.379576   \n...           ...        ...        ...        ...        ...        ...   \n24362   12.363479  12.485693  12.195322  12.557919  12.350350  12.458978   \n221170  12.617873  12.698220  12.315278  12.778219  12.315276  12.691039   \n105239  12.363479  12.123163  12.405082  12.436276  12.102675  11.982757   \n266054  12.363479  12.673111  12.263235  12.508923  12.432849  12.217754   \n219694  12.461420  12.630187  12.533946  12.832632  12.294612  12.392420   \n\n          stories     mls_id      MlsId      build   renovate    heating  \\\n134582  12.369193  12.397647  12.392784  12.455611  12.460416  12.444704   \n174981  12.369193  12.397647  12.392784  12.455611  12.460416  12.444704   \n285460  12.369193  12.397647  12.392784  12.455611  12.460416  12.444704   \n294304  12.351161  12.397647  12.665399  12.281910  12.355007  12.511723   \n254035  12.369193  12.397647  12.392784  12.455611  12.460416  12.444704   \n...           ...        ...        ...        ...        ...        ...   \n24362   12.551898  12.397647  12.459948  12.672095  12.665594  12.444704   \n221170  12.812817  12.397647  12.392784  12.289925  12.263132  12.365738   \n105239  12.468005  12.392784  12.392784  12.287794  12.212057  12.414584   \n266054  12.713952  12.397647  12.392784  12.274772  12.271292  12.617330   \n219694  12.351161  12.392784  12.392784  12.264643  12.367294  12.401466   \n\n          cooling    parking    lotsize  price_sqft  sqft_value  lot_value  \\\n134582  12.375316  12.358416  12.735076   12.110349         0.0  3179880.0   \n174981  12.375316  12.358416  12.501281   12.230301         0.0    38768.0   \n285460  12.375316  12.358416  12.586985   12.230301         0.0    41382.0   \n294304  12.451879  12.358416  12.549678   12.230301         0.0     9720.0   \n254035  12.375316  12.358416  12.366807   12.230301         0.0    29621.0   \n...           ...        ...        ...         ...         ...        ...   \n24362   12.375316  12.358416  12.320187   12.530055      1432.0     3920.0   \n221170  12.729996  12.364562  12.159622   12.618433      1824.0     3400.0   \n105239  12.375316  12.358416  12.312259   11.874212      3362.0     7405.0   \n266054  12.619206  12.603397  12.410703   12.614122      1621.0        0.0   \n219694  12.405649  12.502091  12.588762   12.677149      1924.0    20473.0   \n\n        price_value  baths_value  beds_value  parking_places  attached  \\\n134582          0.0           50          25               2         0   \n174981          0.0           39          25               2         0   \n285460          0.0           42          25               2         0   \n294304          0.0           10          15               2         0   \n254035          0.0           30          25               2         0   \n...             ...          ...         ...             ...       ...   \n24362         168.0            2           3               2         0   \n221170        189.0            2           2               1         0   \n105239         82.0            4           6               2         0   \n266054        216.0            3           3               2         0   \n219694        234.0            2           3               2         0   \n\n        detached  carport  build_value    zip  type_building  type_ownership  \\\n134582         0        0       1985.0  37620      12.401514       12.396363   \n174981         0        0       1985.0  32226      12.401514       12.396363   \n285460         0        0       1985.0  77091      12.401514       12.396363   \n294304         0        0       1955.0  33169      12.401514       12.396363   \n254035         0        0       1985.0  32226      12.401514       12.396363   \n...          ...      ...          ...    ...            ...             ...   \n24362          0        0       2017.0  27703      12.392708       12.396363   \n221170         0        0       1978.0  80233      12.401514       12.396363   \n105239         0        0       1965.0  43219      12.401514       12.396363   \n266054         0        0       1979.0  22304      12.392708       12.456884   \n219694         0        0       1954.0  37206      12.401514       12.396363   \n\n        type_style  type_family  status_auc  schools_list  schools_rating  \\\n134582   12.357753    12.396130         0.0     12.735076        6.833333   \n174981   12.391452    12.396130         0.0     12.456171        6.000000   \n285460   12.391452    12.396130         0.0     12.561345        1.666667   \n294304   12.391452    12.396130         0.0     12.771697        4.600000   \n254035   12.391452    12.396130         0.0     12.456171        6.000000   \n...            ...          ...         ...           ...             ...   \n24362    12.391452    12.396130         0.0     12.610255        3.333333   \n221170   12.391452    12.396130         0.0     12.609715        2.250000   \n105239   12.391452    12.242686         0.0     12.392784        2.500000   \n266054   12.391452    12.396130         0.0     12.392784        1.250000   \n219694   12.391452    12.396130         0.0     12.392784        1.333333   \n\n        schools_distance  schools_count  top_schools_list  top_schools_rating  \\\n134582         12.850000            6.0         12.597686            8.333333   \n174981          3.366667            3.0         12.463399            6.000000   \n285460          1.266667            3.0         12.526891            1.666667   \n294304         12.300000            5.0         12.163375            6.666667   \n254035          7.533333            3.0         12.463399            6.000000   \n...                  ...            ...               ...                 ...   \n24362           3.636667            3.0         12.610255            3.333333   \n221170          0.962500            8.0         12.609715            4.333333   \n105239          0.950000            2.0         12.392784            2.500000   \n266054          2.200000            8.0         12.392784            3.000000   \n219694          1.233333            3.0         12.815652            1.333333   \n\n        top_schools_distance  nearest_schools_rating    y_test  predict  \\\n134582              9.000000                6.666667  385000.0   766752   \n174981              3.366667                6.000000   55000.0   283203   \n285460              1.266667                1.666667  180000.0   402267   \n294304             11.233333                4.333333  350000.0   542558   \n254035              7.533333                6.000000   54900.0   239945   \n...                      ...                     ...       ...      ...   \n24362               3.636667                3.333333  239990.0   238916   \n221170              0.833333                0.666667  345000.0   338950   \n105239              0.950000                2.500000  275000.0   271439   \n266054              2.133333                1.666667  350000.0   349799   \n219694              1.233333                1.333333  449900.0   447877   \n\n           delta  \n134582  381752.0  \n174981  228203.0  \n285460  222267.0  \n294304  192558.0  \n254035  185045.0  \n...          ...  \n24362        0.0  \n221170       0.0  \n105239       0.0  \n266054       0.0  \n219694       0.0  \n\n[40119 rows x 48 columns]",
      "text/html": "<div>\n<style scoped>\n    .dataframe tbody tr th:only-of-type {\n        vertical-align: middle;\n    }\n\n    .dataframe tbody tr th {\n        vertical-align: top;\n    }\n\n    .dataframe thead th {\n        text-align: right;\n    }\n</style>\n<table border=\"1\" class=\"dataframe\">\n  <thead>\n    <tr style=\"text-align: right;\">\n      <th></th>\n      <th>status</th>\n      <th>private_pool</th>\n      <th>propertyType</th>\n      <th>street</th>\n      <th>baths</th>\n      <th>fireplace</th>\n      <th>city</th>\n      <th>sqft</th>\n      <th>zipcode</th>\n      <th>beds</th>\n      <th>state</th>\n      <th>stories</th>\n      <th>mls_id</th>\n      <th>MlsId</th>\n      <th>build</th>\n      <th>renovate</th>\n      <th>heating</th>\n      <th>cooling</th>\n      <th>parking</th>\n      <th>lotsize</th>\n      <th>price_sqft</th>\n      <th>sqft_value</th>\n      <th>lot_value</th>\n      <th>price_value</th>\n      <th>baths_value</th>\n      <th>beds_value</th>\n      <th>parking_places</th>\n      <th>attached</th>\n      <th>detached</th>\n      <th>carport</th>\n      <th>build_value</th>\n      <th>zip</th>\n      <th>type_building</th>\n      <th>type_ownership</th>\n      <th>type_style</th>\n      <th>type_family</th>\n      <th>status_auc</th>\n      <th>schools_list</th>\n      <th>schools_rating</th>\n      <th>schools_distance</th>\n      <th>schools_count</th>\n      <th>top_schools_list</th>\n      <th>top_schools_rating</th>\n      <th>top_schools_distance</th>\n      <th>nearest_schools_rating</th>\n      <th>y_test</th>\n      <th>predict</th>\n      <th>delta</th>\n    </tr>\n  </thead>\n  <tbody>\n    <tr>\n      <th>134582</th>\n      <td>12.395142</td>\n      <td>0</td>\n      <td>12.343622</td>\n      <td>12.735076</td>\n      <td>12.274509</td>\n      <td>12.363479</td>\n      <td>12.361181</td>\n      <td>12.110180</td>\n      <td>12.392784</td>\n      <td>12.343640</td>\n      <td>12.217754</td>\n      <td>12.369193</td>\n      <td>12.397647</td>\n      <td>12.392784</td>\n      <td>12.455611</td>\n      <td>12.460416</td>\n      <td>12.444704</td>\n      <td>12.375316</td>\n      <td>12.358416</td>\n      <td>12.735076</td>\n      <td>12.110349</td>\n      <td>0.0</td>\n      <td>3179880.0</td>\n      <td>0.0</td>\n      <td>50</td>\n      <td>25</td>\n      <td>2</td>\n      <td>0</td>\n      <td>0</td>\n      <td>0</td>\n      <td>1985.0</td>\n      <td>37620</td>\n      <td>12.401514</td>\n      <td>12.396363</td>\n      <td>12.357753</td>\n      <td>12.396130</td>\n      <td>0.0</td>\n      <td>12.735076</td>\n      <td>6.833333</td>\n      <td>12.850000</td>\n      <td>6.0</td>\n      <td>12.597686</td>\n      <td>8.333333</td>\n      <td>9.000000</td>\n      <td>6.666667</td>\n      <td>385000.0</td>\n      <td>766752</td>\n      <td>381752.0</td>\n    </tr>\n    <tr>\n      <th>174981</th>\n      <td>12.395142</td>\n      <td>0</td>\n      <td>12.293812</td>\n      <td>12.392784</td>\n      <td>12.274509</td>\n      <td>12.363479</td>\n      <td>12.162075</td>\n      <td>12.052576</td>\n      <td>12.467973</td>\n      <td>12.343640</td>\n      <td>12.379576</td>\n      <td>12.369193</td>\n      <td>12.397647</td>\n      <td>12.392784</td>\n      <td>12.455611</td>\n      <td>12.460416</td>\n      <td>12.444704</td>\n      <td>12.375316</td>\n      <td>12.358416</td>\n      <td>12.501281</td>\n      <td>12.230301</td>\n      <td>0.0</td>\n      <td>38768.0</td>\n      <td>0.0</td>\n      <td>39</td>\n      <td>25</td>\n      <td>2</td>\n      <td>0</td>\n      <td>0</td>\n      <td>0</td>\n      <td>1985.0</td>\n      <td>32226</td>\n      <td>12.401514</td>\n      <td>12.396363</td>\n      <td>12.391452</td>\n      <td>12.396130</td>\n      <td>0.0</td>\n      <td>12.456171</td>\n      <td>6.000000</td>\n      <td>3.366667</td>\n      <td>3.0</td>\n      <td>12.463399</td>\n      <td>6.000000</td>\n      <td>3.366667</td>\n      <td>6.000000</td>\n      <td>55000.0</td>\n      <td>283203</td>\n      <td>228203.0</td>\n    </tr>\n    <tr>\n      <th>285460</th>\n      <td>12.395142</td>\n      <td>0</td>\n      <td>12.293812</td>\n      <td>12.392784</td>\n      <td>12.274509</td>\n      <td>12.363479</td>\n      <td>12.384614</td>\n      <td>12.052576</td>\n      <td>12.196159</td>\n      <td>12.343640</td>\n      <td>12.402046</td>\n      <td>12.369193</td>\n      <td>12.397647</td>\n      <td>12.392784</td>\n      <td>12.455611</td>\n      <td>12.460416</td>\n      <td>12.444704</td>\n      <td>12.375316</td>\n      <td>12.358416</td>\n      <td>12.586985</td>\n      <td>12.230301</td>\n      <td>0.0</td>\n      <td>41382.0</td>\n      <td>0.0</td>\n      <td>42</td>\n      <td>25</td>\n      <td>2</td>\n      <td>0</td>\n      <td>0</td>\n      <td>0</td>\n      <td>1985.0</td>\n      <td>77091</td>\n      <td>12.401514</td>\n      <td>12.396363</td>\n      <td>12.391452</td>\n      <td>12.396130</td>\n      <td>0.0</td>\n      <td>12.561345</td>\n      <td>1.666667</td>\n      <td>1.266667</td>\n      <td>3.0</td>\n      <td>12.526891</td>\n      <td>1.666667</td>\n      <td>1.266667</td>\n      <td>1.666667</td>\n      <td>180000.0</td>\n      <td>402267</td>\n      <td>222267.0</td>\n    </tr>\n    <tr>\n      <th>294304</th>\n      <td>12.395142</td>\n      <td>0</td>\n      <td>12.313835</td>\n      <td>12.392784</td>\n      <td>12.274509</td>\n      <td>12.363479</td>\n      <td>12.406090</td>\n      <td>12.052576</td>\n      <td>12.306260</td>\n      <td>12.343640</td>\n      <td>12.379576</td>\n      <td>12.351161</td>\n      <td>12.397647</td>\n      <td>12.665399</td>\n      <td>12.281910</td>\n      <td>12.355007</td>\n      <td>12.511723</td>\n      <td>12.451879</td>\n      <td>12.358416</td>\n      <td>12.549678</td>\n      <td>12.230301</td>\n      <td>0.0</td>\n      <td>9720.0</td>\n      <td>0.0</td>\n      <td>10</td>\n      <td>15</td>\n      <td>2</td>\n      <td>0</td>\n      <td>0</td>\n      <td>0</td>\n      <td>1955.0</td>\n      <td>33169</td>\n      <td>12.401514</td>\n      <td>12.396363</td>\n      <td>12.391452</td>\n      <td>12.396130</td>\n      <td>0.0</td>\n      <td>12.771697</td>\n      <td>4.600000</td>\n      <td>12.300000</td>\n      <td>5.0</td>\n      <td>12.163375</td>\n      <td>6.666667</td>\n      <td>11.233333</td>\n      <td>4.333333</td>\n      <td>350000.0</td>\n      <td>542558</td>\n      <td>192558.0</td>\n    </tr>\n    <tr>\n      <th>254035</th>\n      <td>12.395142</td>\n      <td>0</td>\n      <td>12.293812</td>\n      <td>12.392784</td>\n      <td>12.274509</td>\n      <td>12.363479</td>\n      <td>12.162075</td>\n      <td>12.052576</td>\n      <td>12.467973</td>\n      <td>12.343640</td>\n      <td>12.379576</td>\n      <td>12.369193</td>\n      <td>12.397647</td>\n      <td>12.392784</td>\n      <td>12.455611</td>\n      <td>12.460416</td>\n      <td>12.444704</td>\n      <td>12.375316</td>\n      <td>12.358416</td>\n      <td>12.366807</td>\n      <td>12.230301</td>\n      <td>0.0</td>\n      <td>29621.0</td>\n      <td>0.0</td>\n      <td>30</td>\n      <td>25</td>\n      <td>2</td>\n      <td>0</td>\n      <td>0</td>\n      <td>0</td>\n      <td>1985.0</td>\n      <td>32226</td>\n      <td>12.401514</td>\n      <td>12.396363</td>\n      <td>12.391452</td>\n      <td>12.396130</td>\n      <td>0.0</td>\n      <td>12.456171</td>\n      <td>6.000000</td>\n      <td>7.533333</td>\n      <td>3.0</td>\n      <td>12.463399</td>\n      <td>6.000000</td>\n      <td>7.533333</td>\n      <td>6.000000</td>\n      <td>54900.0</td>\n      <td>239945</td>\n      <td>185045.0</td>\n    </tr>\n    <tr>\n      <th>...</th>\n      <td>...</td>\n      <td>...</td>\n      <td>...</td>\n      <td>...</td>\n      <td>...</td>\n      <td>...</td>\n      <td>...</td>\n      <td>...</td>\n      <td>...</td>\n      <td>...</td>\n      <td>...</td>\n      <td>...</td>\n      <td>...</td>\n      <td>...</td>\n      <td>...</td>\n      <td>...</td>\n      <td>...</td>\n      <td>...</td>\n      <td>...</td>\n      <td>...</td>\n      <td>...</td>\n      <td>...</td>\n      <td>...</td>\n      <td>...</td>\n      <td>...</td>\n      <td>...</td>\n      <td>...</td>\n      <td>...</td>\n      <td>...</td>\n      <td>...</td>\n      <td>...</td>\n      <td>...</td>\n      <td>...</td>\n      <td>...</td>\n      <td>...</td>\n      <td>...</td>\n      <td>...</td>\n      <td>...</td>\n      <td>...</td>\n      <td>...</td>\n      <td>...</td>\n      <td>...</td>\n      <td>...</td>\n      <td>...</td>\n      <td>...</td>\n      <td>...</td>\n      <td>...</td>\n      <td>...</td>\n    </tr>\n    <tr>\n      <th>24362</th>\n      <td>12.402169</td>\n      <td>0</td>\n      <td>12.384776</td>\n      <td>12.392784</td>\n      <td>12.301688</td>\n      <td>12.363479</td>\n      <td>12.485693</td>\n      <td>12.195322</td>\n      <td>12.557919</td>\n      <td>12.350350</td>\n      <td>12.458978</td>\n      <td>12.551898</td>\n      <td>12.397647</td>\n      <td>12.459948</td>\n      <td>12.672095</td>\n      <td>12.665594</td>\n      <td>12.444704</td>\n      <td>12.375316</td>\n      <td>12.358416</td>\n      <td>12.320187</td>\n      <td>12.530055</td>\n      <td>1432.0</td>\n      <td>3920.0</td>\n      <td>168.0</td>\n      <td>2</td>\n      <td>3</td>\n      <td>2</td>\n      <td>0</td>\n      <td>0</td>\n      <td>0</td>\n      <td>2017.0</td>\n      <td>27703</td>\n      <td>12.392708</td>\n      <td>12.396363</td>\n      <td>12.391452</td>\n      <td>12.396130</td>\n      <td>0.0</td>\n      <td>12.610255</td>\n      <td>3.333333</td>\n      <td>3.636667</td>\n      <td>3.0</td>\n      <td>12.610255</td>\n      <td>3.333333</td>\n      <td>3.636667</td>\n      <td>3.333333</td>\n      <td>239990.0</td>\n      <td>238916</td>\n      <td>0.0</td>\n    </tr>\n    <tr>\n      <th>221170</th>\n      <td>12.556454</td>\n      <td>0</td>\n      <td>12.420971</td>\n      <td>12.392784</td>\n      <td>12.313174</td>\n      <td>12.617873</td>\n      <td>12.698220</td>\n      <td>12.315278</td>\n      <td>12.778219</td>\n      <td>12.315276</td>\n      <td>12.691039</td>\n      <td>12.812817</td>\n      <td>12.397647</td>\n      <td>12.392784</td>\n      <td>12.289925</td>\n      <td>12.263132</td>\n      <td>12.365738</td>\n      <td>12.729996</td>\n      <td>12.364562</td>\n      <td>12.159622</td>\n      <td>12.618433</td>\n      <td>1824.0</td>\n      <td>3400.0</td>\n      <td>189.0</td>\n      <td>2</td>\n      <td>2</td>\n      <td>1</td>\n      <td>0</td>\n      <td>0</td>\n      <td>0</td>\n      <td>1978.0</td>\n      <td>80233</td>\n      <td>12.401514</td>\n      <td>12.396363</td>\n      <td>12.391452</td>\n      <td>12.396130</td>\n      <td>0.0</td>\n      <td>12.609715</td>\n      <td>2.250000</td>\n      <td>0.962500</td>\n      <td>8.0</td>\n      <td>12.609715</td>\n      <td>4.333333</td>\n      <td>0.833333</td>\n      <td>0.666667</td>\n      <td>345000.0</td>\n      <td>338950</td>\n      <td>0.0</td>\n    </tr>\n    <tr>\n      <th>105239</th>\n      <td>12.402169</td>\n      <td>0</td>\n      <td>12.236222</td>\n      <td>12.392784</td>\n      <td>12.110103</td>\n      <td>12.363479</td>\n      <td>12.123163</td>\n      <td>12.405082</td>\n      <td>12.436276</td>\n      <td>12.102675</td>\n      <td>11.982757</td>\n      <td>12.468005</td>\n      <td>12.392784</td>\n      <td>12.392784</td>\n      <td>12.287794</td>\n      <td>12.212057</td>\n      <td>12.414584</td>\n      <td>12.375316</td>\n      <td>12.358416</td>\n      <td>12.312259</td>\n      <td>11.874212</td>\n      <td>3362.0</td>\n      <td>7405.0</td>\n      <td>82.0</td>\n      <td>4</td>\n      <td>6</td>\n      <td>2</td>\n      <td>0</td>\n      <td>0</td>\n      <td>0</td>\n      <td>1965.0</td>\n      <td>43219</td>\n      <td>12.401514</td>\n      <td>12.396363</td>\n      <td>12.391452</td>\n      <td>12.242686</td>\n      <td>0.0</td>\n      <td>12.392784</td>\n      <td>2.500000</td>\n      <td>0.950000</td>\n      <td>2.0</td>\n      <td>12.392784</td>\n      <td>2.500000</td>\n      <td>0.950000</td>\n      <td>2.500000</td>\n      <td>275000.0</td>\n      <td>271439</td>\n      <td>0.0</td>\n    </tr>\n    <tr>\n      <th>266054</th>\n      <td>12.395142</td>\n      <td>0</td>\n      <td>12.406910</td>\n      <td>12.392784</td>\n      <td>12.571548</td>\n      <td>12.363479</td>\n      <td>12.673111</td>\n      <td>12.263235</td>\n      <td>12.508923</td>\n      <td>12.432849</td>\n      <td>12.217754</td>\n      <td>12.713952</td>\n      <td>12.397647</td>\n      <td>12.392784</td>\n      <td>12.274772</td>\n      <td>12.271292</td>\n      <td>12.617330</td>\n      <td>12.619206</td>\n      <td>12.603397</td>\n      <td>12.410703</td>\n      <td>12.614122</td>\n      <td>1621.0</td>\n      <td>0.0</td>\n      <td>216.0</td>\n      <td>3</td>\n      <td>3</td>\n      <td>2</td>\n      <td>0</td>\n      <td>0</td>\n      <td>0</td>\n      <td>1979.0</td>\n      <td>22304</td>\n      <td>12.392708</td>\n      <td>12.456884</td>\n      <td>12.391452</td>\n      <td>12.396130</td>\n      <td>0.0</td>\n      <td>12.392784</td>\n      <td>1.250000</td>\n      <td>2.200000</td>\n      <td>8.0</td>\n      <td>12.392784</td>\n      <td>3.000000</td>\n      <td>2.133333</td>\n      <td>1.666667</td>\n      <td>350000.0</td>\n      <td>349799</td>\n      <td>0.0</td>\n    </tr>\n    <tr>\n      <th>219694</th>\n      <td>12.402169</td>\n      <td>0</td>\n      <td>12.420971</td>\n      <td>12.392784</td>\n      <td>12.241454</td>\n      <td>12.461420</td>\n      <td>12.630187</td>\n      <td>12.533946</td>\n      <td>12.832632</td>\n      <td>12.294612</td>\n      <td>12.392420</td>\n      <td>12.351161</td>\n      <td>12.392784</td>\n      <td>12.392784</td>\n      <td>12.264643</td>\n      <td>12.367294</td>\n      <td>12.401466</td>\n      <td>12.405649</td>\n      <td>12.502091</td>\n      <td>12.588762</td>\n      <td>12.677149</td>\n      <td>1924.0</td>\n      <td>20473.0</td>\n      <td>234.0</td>\n      <td>2</td>\n      <td>3</td>\n      <td>2</td>\n      <td>0</td>\n      <td>0</td>\n      <td>0</td>\n      <td>1954.0</td>\n      <td>37206</td>\n      <td>12.401514</td>\n      <td>12.396363</td>\n      <td>12.391452</td>\n      <td>12.396130</td>\n      <td>0.0</td>\n      <td>12.392784</td>\n      <td>1.333333</td>\n      <td>1.233333</td>\n      <td>3.0</td>\n      <td>12.815652</td>\n      <td>1.333333</td>\n      <td>1.233333</td>\n      <td>1.333333</td>\n      <td>449900.0</td>\n      <td>447877</td>\n      <td>0.0</td>\n    </tr>\n  </tbody>\n</table>\n<p>40119 rows × 48 columns</p>\n</div>"
     },
     "execution_count": 126,
     "metadata": {},
     "output_type": "execute_result"
    }
   ],
   "source": [
    "results.sort_values(by='delta', ascending=False)"
   ],
   "metadata": {
    "collapsed": false,
    "pycharm": {
     "name": "#%%\n"
    }
   }
  },
  {
   "cell_type": "code",
   "execution_count": null,
   "outputs": [],
   "source": [
    "data.loc[254431]"
   ],
   "metadata": {
    "collapsed": false,
    "pycharm": {
     "name": "#%%\n",
     "is_executing": true
    }
   }
  },
  {
   "cell_type": "markdown",
   "source": [
    "#### till 1 000 000"
   ],
   "metadata": {
    "collapsed": false
   }
  },
  {
   "cell_type": "code",
   "execution_count": 135,
   "outputs": [
    {
     "data": {
      "text/plain": "          status  private_pool            propertyType  \\\n9       for sale             0             cooperative   \n11      for sale             1           single-family   \n18      for sale             1            multi-family   \n21        active             0  penthouse, split-level   \n26      for sale             0           single-family   \n...          ...           ...                     ...   \n298936  for sale             0           single-family   \n298946  for sale             1           single-family   \n298949  for sale             0             condominium   \n298950  for sale             0             condominium   \n298951  for sale             0           single-family   \n\n                            street    baths fireplace             city  \\\n9         14205 Roosevelt Ave #512  2 baths       NaN         Flushing   \n11                16373 NW 16th St  3 baths       NaN   Pembroke Pines   \n18                 1633 NE 15th St  4 baths       NaN  Fort Lauderdale   \n21       120 Jefferson Ave #12019     1,000       NaN      Miami Beach   \n26      9070 Southern Orchard Rd S  3 baths       NaN            Davie   \n...                            ...      ...       ...              ...   \n298936           3232 Kiesthill Dr  4 baths       yes           Dallas   \n298946           1107 E Euclid Ave      NaN       NaN      San Antonio   \n298949       2238 11th St NW APT 2        3       NaN       Washington   \n298950    3530 N Lake Shore Dr #4B  3 baths       NaN          Chicago   \n298951           15509 Linden Blvd  3 baths       NaN          Jamaica   \n\n              sqft zipcode    beds state      stories mls_id       MlsId  \\\n9       1,300 sqft   11354  3 Beds    NY          NaN    NaN     3087630   \n11      2,839 sqft   33028  4 Beds    FL          1.0    NaN   A10767242   \n18      1,612 sqft   33304  4 Beds    FL          1.0    NaN   A10622323   \n21           1,080   33139   Baths    FL  Multi/Split    NaN   A10786027   \n26      2,349 sqft   33328  4 Beds    FL          1.0    NaN   A10782357   \n...            ...     ...     ...   ...          ...    ...         ...   \n298936  3,000 sqft   75233  4 Beds    TX          1.0    NaN    14227764   \n298946    950 sqft   78212  2 Beds    TX          1.0    NaN     1391618   \n298949       1,417   20001       2    DC          3.0    NaN  DCDC444306   \n298950  2,000 sqft   60657  3 Beds    IL          9.0    NaN    10374233   \n298951  1,152 sqft   11434  3 Beds    NY            2    NaN         NaN   \n\n        target build renovate      heating      cooling  \\\n9       669000  1965     1965          NaN          NaN   \n11      525000  1996   1997.0   Forced Air      Central   \n18      626000  1954     1954   Forced Air      Central   \n21      579000  1996   1996.0  Central Air  Has Cooling   \n26      559000  1994   1995.0   Forced Air      Central   \n...        ...   ...      ...          ...          ...   \n298936  539900  1967   1967.0   Forced Air      Central   \n298946  799500  1938   1980.0         Wall      Central   \n298949  799000  2010     2010   Forced air      Central   \n298950  674999  1924     1924      Radiant          NaN   \n298951  528000  1950   1950.0        Other          NaN   \n\n                         parking      lotsize      price_sqft  sqft_value  \\\n9                Attached Garage   1.73 acres       $515/sqft      1300.0   \n11      Carport, Attached Garage  10,270 sqft       $185/sqft      2839.0   \n18                           NaN   8,110 sqft       $388/sqft      1612.0   \n21                           NaN            —  $536 / Sq. Ft.      1080.0   \n26               Attached Garage   9,000 sqft       $238/sqft      2349.0   \n...                          ...          ...             ...         ...   \n298936           Attached Garage   0.38 acres       $180/sqft      3000.0   \n298946                       NaN   3,746 sqft       $842/sqft       950.0   \n298949                   1 space          NaN            $564      1417.0   \n298950                      None          NaN       $337/sqft      2000.0   \n298951                         2   1,600 sqft       $458/sqft      1152.0   \n\n        lot_value  price_value  baths_value  beds_value  parking_places  \\\n9         75359.0        515.0            2           3               2   \n11        10270.0        185.0            3           4               2   \n18         8110.0        388.0            4           4               2   \n21            0.0        536.0            1           2               2   \n26         9000.0        238.0            3           4               2   \n...           ...          ...          ...         ...             ...   \n298936    16553.0        180.0            4           4               2   \n298946     3746.0        842.0            1           2               2   \n298949        0.0        564.0            3           2               1   \n298950        0.0        337.0            3           3               0   \n298951     1600.0        458.0            3           3               2   \n\n        attached  detached  carport  build_value    zip type_building  \\\n9              1         0        0       1965.0  11354      detached   \n11             1         0        1       1996.0  33028      detached   \n18             0         0        0       1954.0  33304      detached   \n21             0         0        0       1996.0  33139     apartment   \n26             1         0        0       1994.0  33328      detached   \n...          ...       ...      ...          ...    ...           ...   \n298936         1         0        0       1967.0  75233      detached   \n298946         0         0        0       1938.0  78212      detached   \n298949         0         0        0       2010.0  20001      detached   \n298950         0         0        0       1924.0  60657      detached   \n298951         0         0        0       1950.0  11434      detached   \n\n       type_ownership type_style type_family  status_auc  \\\n9         cooperative    ordinal      single         0.0   \n11            private    ordinal      single         0.0   \n18            private    ordinal       multy         0.0   \n21            private    ordinal      single         0.0   \n26            private    ordinal      single         0.0   \n...               ...        ...         ...         ...   \n298936        private    ordinal      single         0.0   \n298946        private    ordinal      single         0.0   \n298949    condominium    ordinal      single         0.0   \n298950    condominium    ordinal      single         0.0   \n298951        private    ordinal      single         0.0   \n\n                                             schools_list  schools_rating  \\\n9       Flushing High School, Jhs 194 William Carr, Ps...        6.666667   \n11      Walter C. Young Middle School, Silver Palms El...        7.333333   \n18      Bennett Elementary School, Fort Lauderdale Hig...        5.000000   \n21      South Pointe Elementary School, Air Base Eleme...        5.000000   \n26      Western High School, Silver Ridge Elementary S...        8.000000   \n...                                                   ...             ...   \n298936  Justin F Kimball High School, T W Browne Middl...        3.000000   \n298946  Hawthorne Pk-8 Academy, Twain Middle School, E...        4.000000   \n298949  Garrison Elementary School, Cardozo Education ...        3.000000   \n298950  Hope College Prep High School, Lake View High ...        4.333333   \n298951  Ps 48 William Wordsworth, Jhs 8 Richard S Gros...        4.500000   \n\n        schools_distance  schools_count  \\\n9               1.516667            3.0   \n11              2.040000            3.0   \n18              0.430000            3.0   \n21              9.800000            5.0   \n26              2.066667            3.0   \n...                  ...            ...   \n298936          0.530000            3.0   \n298946          1.310000            3.0   \n298949          0.250000            2.0   \n298950          4.143333            3.0   \n298951          0.605000            2.0   \n\n                                         top_schools_list  top_schools_rating  \\\n9       Ps 193 Alfred J Kennedy, Jhs 194 William Carr,...            6.666667   \n11      Walter C. Young Middle School, Silver Palms El...            7.333333   \n18      Fort Lauderdale High School, Sunrise Middle Sc...            5.000000   \n21      Air Base Elementary School, South Pointe Eleme...            7.000000   \n26      Western High School, Silver Ridge Elementary S...            8.000000   \n...                                                   ...                 ...   \n298936  Thomas Tolbert Elementary School, T W Browne M...            3.000000   \n298946  Twain Middle School, Hawthorne Pk-8 Academy, E...            4.000000   \n298949  Garrison Elementary School, Cardozo Education ...            3.000000   \n298950  Nettelhorst Elementary School, Lake View High ...            4.333333   \n298951  Ps 48 William Wordsworth, Jhs 8 Richard S Gros...            4.500000   \n\n        top_schools_distance  nearest_schools_rating  \n9                   1.516667                6.666667  \n11                  2.040000                7.333333  \n18                  0.430000                5.000000  \n21                  9.100000                5.000000  \n26                  2.066667                8.000000  \n...                      ...                     ...  \n298936              0.530000                3.000000  \n298946              1.310000                4.000000  \n298949              0.250000                3.000000  \n298950              4.143333                4.333333  \n298951              0.605000                4.500000  \n\n[55854 rows x 46 columns]",
      "text/html": "<div>\n<style scoped>\n    .dataframe tbody tr th:only-of-type {\n        vertical-align: middle;\n    }\n\n    .dataframe tbody tr th {\n        vertical-align: top;\n    }\n\n    .dataframe thead th {\n        text-align: right;\n    }\n</style>\n<table border=\"1\" class=\"dataframe\">\n  <thead>\n    <tr style=\"text-align: right;\">\n      <th></th>\n      <th>status</th>\n      <th>private_pool</th>\n      <th>propertyType</th>\n      <th>street</th>\n      <th>baths</th>\n      <th>fireplace</th>\n      <th>city</th>\n      <th>sqft</th>\n      <th>zipcode</th>\n      <th>beds</th>\n      <th>state</th>\n      <th>stories</th>\n      <th>mls_id</th>\n      <th>MlsId</th>\n      <th>target</th>\n      <th>build</th>\n      <th>renovate</th>\n      <th>heating</th>\n      <th>cooling</th>\n      <th>parking</th>\n      <th>lotsize</th>\n      <th>price_sqft</th>\n      <th>sqft_value</th>\n      <th>lot_value</th>\n      <th>price_value</th>\n      <th>baths_value</th>\n      <th>beds_value</th>\n      <th>parking_places</th>\n      <th>attached</th>\n      <th>detached</th>\n      <th>carport</th>\n      <th>build_value</th>\n      <th>zip</th>\n      <th>type_building</th>\n      <th>type_ownership</th>\n      <th>type_style</th>\n      <th>type_family</th>\n      <th>status_auc</th>\n      <th>schools_list</th>\n      <th>schools_rating</th>\n      <th>schools_distance</th>\n      <th>schools_count</th>\n      <th>top_schools_list</th>\n      <th>top_schools_rating</th>\n      <th>top_schools_distance</th>\n      <th>nearest_schools_rating</th>\n    </tr>\n  </thead>\n  <tbody>\n    <tr>\n      <th>9</th>\n      <td>for sale</td>\n      <td>0</td>\n      <td>cooperative</td>\n      <td>14205 Roosevelt Ave #512</td>\n      <td>2 baths</td>\n      <td>NaN</td>\n      <td>Flushing</td>\n      <td>1,300 sqft</td>\n      <td>11354</td>\n      <td>3 Beds</td>\n      <td>NY</td>\n      <td>NaN</td>\n      <td>NaN</td>\n      <td>3087630</td>\n      <td>669000</td>\n      <td>1965</td>\n      <td>1965</td>\n      <td>NaN</td>\n      <td>NaN</td>\n      <td>Attached Garage</td>\n      <td>1.73 acres</td>\n      <td>$515/sqft</td>\n      <td>1300.0</td>\n      <td>75359.0</td>\n      <td>515.0</td>\n      <td>2</td>\n      <td>3</td>\n      <td>2</td>\n      <td>1</td>\n      <td>0</td>\n      <td>0</td>\n      <td>1965.0</td>\n      <td>11354</td>\n      <td>detached</td>\n      <td>cooperative</td>\n      <td>ordinal</td>\n      <td>single</td>\n      <td>0.0</td>\n      <td>Flushing High School, Jhs 194 William Carr, Ps...</td>\n      <td>6.666667</td>\n      <td>1.516667</td>\n      <td>3.0</td>\n      <td>Ps 193 Alfred J Kennedy, Jhs 194 William Carr,...</td>\n      <td>6.666667</td>\n      <td>1.516667</td>\n      <td>6.666667</td>\n    </tr>\n    <tr>\n      <th>11</th>\n      <td>for sale</td>\n      <td>1</td>\n      <td>single-family</td>\n      <td>16373 NW 16th St</td>\n      <td>3 baths</td>\n      <td>NaN</td>\n      <td>Pembroke Pines</td>\n      <td>2,839 sqft</td>\n      <td>33028</td>\n      <td>4 Beds</td>\n      <td>FL</td>\n      <td>1.0</td>\n      <td>NaN</td>\n      <td>A10767242</td>\n      <td>525000</td>\n      <td>1996</td>\n      <td>1997.0</td>\n      <td>Forced Air</td>\n      <td>Central</td>\n      <td>Carport, Attached Garage</td>\n      <td>10,270 sqft</td>\n      <td>$185/sqft</td>\n      <td>2839.0</td>\n      <td>10270.0</td>\n      <td>185.0</td>\n      <td>3</td>\n      <td>4</td>\n      <td>2</td>\n      <td>1</td>\n      <td>0</td>\n      <td>1</td>\n      <td>1996.0</td>\n      <td>33028</td>\n      <td>detached</td>\n      <td>private</td>\n      <td>ordinal</td>\n      <td>single</td>\n      <td>0.0</td>\n      <td>Walter C. Young Middle School, Silver Palms El...</td>\n      <td>7.333333</td>\n      <td>2.040000</td>\n      <td>3.0</td>\n      <td>Walter C. Young Middle School, Silver Palms El...</td>\n      <td>7.333333</td>\n      <td>2.040000</td>\n      <td>7.333333</td>\n    </tr>\n    <tr>\n      <th>18</th>\n      <td>for sale</td>\n      <td>1</td>\n      <td>multi-family</td>\n      <td>1633 NE 15th St</td>\n      <td>4 baths</td>\n      <td>NaN</td>\n      <td>Fort Lauderdale</td>\n      <td>1,612 sqft</td>\n      <td>33304</td>\n      <td>4 Beds</td>\n      <td>FL</td>\n      <td>1.0</td>\n      <td>NaN</td>\n      <td>A10622323</td>\n      <td>626000</td>\n      <td>1954</td>\n      <td>1954</td>\n      <td>Forced Air</td>\n      <td>Central</td>\n      <td>NaN</td>\n      <td>8,110 sqft</td>\n      <td>$388/sqft</td>\n      <td>1612.0</td>\n      <td>8110.0</td>\n      <td>388.0</td>\n      <td>4</td>\n      <td>4</td>\n      <td>2</td>\n      <td>0</td>\n      <td>0</td>\n      <td>0</td>\n      <td>1954.0</td>\n      <td>33304</td>\n      <td>detached</td>\n      <td>private</td>\n      <td>ordinal</td>\n      <td>multy</td>\n      <td>0.0</td>\n      <td>Bennett Elementary School, Fort Lauderdale Hig...</td>\n      <td>5.000000</td>\n      <td>0.430000</td>\n      <td>3.0</td>\n      <td>Fort Lauderdale High School, Sunrise Middle Sc...</td>\n      <td>5.000000</td>\n      <td>0.430000</td>\n      <td>5.000000</td>\n    </tr>\n    <tr>\n      <th>21</th>\n      <td>active</td>\n      <td>0</td>\n      <td>penthouse, split-level</td>\n      <td>120 Jefferson Ave #12019</td>\n      <td>1,000</td>\n      <td>NaN</td>\n      <td>Miami Beach</td>\n      <td>1,080</td>\n      <td>33139</td>\n      <td>Baths</td>\n      <td>FL</td>\n      <td>Multi/Split</td>\n      <td>NaN</td>\n      <td>A10786027</td>\n      <td>579000</td>\n      <td>1996</td>\n      <td>1996.0</td>\n      <td>Central Air</td>\n      <td>Has Cooling</td>\n      <td>NaN</td>\n      <td>—</td>\n      <td>$536 / Sq. Ft.</td>\n      <td>1080.0</td>\n      <td>0.0</td>\n      <td>536.0</td>\n      <td>1</td>\n      <td>2</td>\n      <td>2</td>\n      <td>0</td>\n      <td>0</td>\n      <td>0</td>\n      <td>1996.0</td>\n      <td>33139</td>\n      <td>apartment</td>\n      <td>private</td>\n      <td>ordinal</td>\n      <td>single</td>\n      <td>0.0</td>\n      <td>South Pointe Elementary School, Air Base Eleme...</td>\n      <td>5.000000</td>\n      <td>9.800000</td>\n      <td>5.0</td>\n      <td>Air Base Elementary School, South Pointe Eleme...</td>\n      <td>7.000000</td>\n      <td>9.100000</td>\n      <td>5.000000</td>\n    </tr>\n    <tr>\n      <th>26</th>\n      <td>for sale</td>\n      <td>0</td>\n      <td>single-family</td>\n      <td>9070 Southern Orchard Rd S</td>\n      <td>3 baths</td>\n      <td>NaN</td>\n      <td>Davie</td>\n      <td>2,349 sqft</td>\n      <td>33328</td>\n      <td>4 Beds</td>\n      <td>FL</td>\n      <td>1.0</td>\n      <td>NaN</td>\n      <td>A10782357</td>\n      <td>559000</td>\n      <td>1994</td>\n      <td>1995.0</td>\n      <td>Forced Air</td>\n      <td>Central</td>\n      <td>Attached Garage</td>\n      <td>9,000 sqft</td>\n      <td>$238/sqft</td>\n      <td>2349.0</td>\n      <td>9000.0</td>\n      <td>238.0</td>\n      <td>3</td>\n      <td>4</td>\n      <td>2</td>\n      <td>1</td>\n      <td>0</td>\n      <td>0</td>\n      <td>1994.0</td>\n      <td>33328</td>\n      <td>detached</td>\n      <td>private</td>\n      <td>ordinal</td>\n      <td>single</td>\n      <td>0.0</td>\n      <td>Western High School, Silver Ridge Elementary S...</td>\n      <td>8.000000</td>\n      <td>2.066667</td>\n      <td>3.0</td>\n      <td>Western High School, Silver Ridge Elementary S...</td>\n      <td>8.000000</td>\n      <td>2.066667</td>\n      <td>8.000000</td>\n    </tr>\n    <tr>\n      <th>...</th>\n      <td>...</td>\n      <td>...</td>\n      <td>...</td>\n      <td>...</td>\n      <td>...</td>\n      <td>...</td>\n      <td>...</td>\n      <td>...</td>\n      <td>...</td>\n      <td>...</td>\n      <td>...</td>\n      <td>...</td>\n      <td>...</td>\n      <td>...</td>\n      <td>...</td>\n      <td>...</td>\n      <td>...</td>\n      <td>...</td>\n      <td>...</td>\n      <td>...</td>\n      <td>...</td>\n      <td>...</td>\n      <td>...</td>\n      <td>...</td>\n      <td>...</td>\n      <td>...</td>\n      <td>...</td>\n      <td>...</td>\n      <td>...</td>\n      <td>...</td>\n      <td>...</td>\n      <td>...</td>\n      <td>...</td>\n      <td>...</td>\n      <td>...</td>\n      <td>...</td>\n      <td>...</td>\n      <td>...</td>\n      <td>...</td>\n      <td>...</td>\n      <td>...</td>\n      <td>...</td>\n      <td>...</td>\n      <td>...</td>\n      <td>...</td>\n      <td>...</td>\n    </tr>\n    <tr>\n      <th>298936</th>\n      <td>for sale</td>\n      <td>0</td>\n      <td>single-family</td>\n      <td>3232 Kiesthill Dr</td>\n      <td>4 baths</td>\n      <td>yes</td>\n      <td>Dallas</td>\n      <td>3,000 sqft</td>\n      <td>75233</td>\n      <td>4 Beds</td>\n      <td>TX</td>\n      <td>1.0</td>\n      <td>NaN</td>\n      <td>14227764</td>\n      <td>539900</td>\n      <td>1967</td>\n      <td>1967.0</td>\n      <td>Forced Air</td>\n      <td>Central</td>\n      <td>Attached Garage</td>\n      <td>0.38 acres</td>\n      <td>$180/sqft</td>\n      <td>3000.0</td>\n      <td>16553.0</td>\n      <td>180.0</td>\n      <td>4</td>\n      <td>4</td>\n      <td>2</td>\n      <td>1</td>\n      <td>0</td>\n      <td>0</td>\n      <td>1967.0</td>\n      <td>75233</td>\n      <td>detached</td>\n      <td>private</td>\n      <td>ordinal</td>\n      <td>single</td>\n      <td>0.0</td>\n      <td>Justin F Kimball High School, T W Browne Middl...</td>\n      <td>3.000000</td>\n      <td>0.530000</td>\n      <td>3.0</td>\n      <td>Thomas Tolbert Elementary School, T W Browne M...</td>\n      <td>3.000000</td>\n      <td>0.530000</td>\n      <td>3.000000</td>\n    </tr>\n    <tr>\n      <th>298946</th>\n      <td>for sale</td>\n      <td>1</td>\n      <td>single-family</td>\n      <td>1107 E Euclid Ave</td>\n      <td>NaN</td>\n      <td>NaN</td>\n      <td>San Antonio</td>\n      <td>950 sqft</td>\n      <td>78212</td>\n      <td>2 Beds</td>\n      <td>TX</td>\n      <td>1.0</td>\n      <td>NaN</td>\n      <td>1391618</td>\n      <td>799500</td>\n      <td>1938</td>\n      <td>1980.0</td>\n      <td>Wall</td>\n      <td>Central</td>\n      <td>NaN</td>\n      <td>3,746 sqft</td>\n      <td>$842/sqft</td>\n      <td>950.0</td>\n      <td>3746.0</td>\n      <td>842.0</td>\n      <td>1</td>\n      <td>2</td>\n      <td>2</td>\n      <td>0</td>\n      <td>0</td>\n      <td>0</td>\n      <td>1938.0</td>\n      <td>78212</td>\n      <td>detached</td>\n      <td>private</td>\n      <td>ordinal</td>\n      <td>single</td>\n      <td>0.0</td>\n      <td>Hawthorne Pk-8 Academy, Twain Middle School, E...</td>\n      <td>4.000000</td>\n      <td>1.310000</td>\n      <td>3.0</td>\n      <td>Twain Middle School, Hawthorne Pk-8 Academy, E...</td>\n      <td>4.000000</td>\n      <td>1.310000</td>\n      <td>4.000000</td>\n    </tr>\n    <tr>\n      <th>298949</th>\n      <td>for sale</td>\n      <td>0</td>\n      <td>condominium</td>\n      <td>2238 11th St NW APT 2</td>\n      <td>3</td>\n      <td>NaN</td>\n      <td>Washington</td>\n      <td>1,417</td>\n      <td>20001</td>\n      <td>2</td>\n      <td>DC</td>\n      <td>3.0</td>\n      <td>NaN</td>\n      <td>DCDC444306</td>\n      <td>799000</td>\n      <td>2010</td>\n      <td>2010</td>\n      <td>Forced air</td>\n      <td>Central</td>\n      <td>1 space</td>\n      <td>NaN</td>\n      <td>$564</td>\n      <td>1417.0</td>\n      <td>0.0</td>\n      <td>564.0</td>\n      <td>3</td>\n      <td>2</td>\n      <td>1</td>\n      <td>0</td>\n      <td>0</td>\n      <td>0</td>\n      <td>2010.0</td>\n      <td>20001</td>\n      <td>detached</td>\n      <td>condominium</td>\n      <td>ordinal</td>\n      <td>single</td>\n      <td>0.0</td>\n      <td>Garrison Elementary School, Cardozo Education ...</td>\n      <td>3.000000</td>\n      <td>0.250000</td>\n      <td>2.0</td>\n      <td>Garrison Elementary School, Cardozo Education ...</td>\n      <td>3.000000</td>\n      <td>0.250000</td>\n      <td>3.000000</td>\n    </tr>\n    <tr>\n      <th>298950</th>\n      <td>for sale</td>\n      <td>0</td>\n      <td>condominium</td>\n      <td>3530 N Lake Shore Dr #4B</td>\n      <td>3 baths</td>\n      <td>NaN</td>\n      <td>Chicago</td>\n      <td>2,000 sqft</td>\n      <td>60657</td>\n      <td>3 Beds</td>\n      <td>IL</td>\n      <td>9.0</td>\n      <td>NaN</td>\n      <td>10374233</td>\n      <td>674999</td>\n      <td>1924</td>\n      <td>1924</td>\n      <td>Radiant</td>\n      <td>NaN</td>\n      <td>None</td>\n      <td>NaN</td>\n      <td>$337/sqft</td>\n      <td>2000.0</td>\n      <td>0.0</td>\n      <td>337.0</td>\n      <td>3</td>\n      <td>3</td>\n      <td>0</td>\n      <td>0</td>\n      <td>0</td>\n      <td>0</td>\n      <td>1924.0</td>\n      <td>60657</td>\n      <td>detached</td>\n      <td>condominium</td>\n      <td>ordinal</td>\n      <td>single</td>\n      <td>0.0</td>\n      <td>Hope College Prep High School, Lake View High ...</td>\n      <td>4.333333</td>\n      <td>4.143333</td>\n      <td>3.0</td>\n      <td>Nettelhorst Elementary School, Lake View High ...</td>\n      <td>4.333333</td>\n      <td>4.143333</td>\n      <td>4.333333</td>\n    </tr>\n    <tr>\n      <th>298951</th>\n      <td>for sale</td>\n      <td>0</td>\n      <td>single-family</td>\n      <td>15509 Linden Blvd</td>\n      <td>3 baths</td>\n      <td>NaN</td>\n      <td>Jamaica</td>\n      <td>1,152 sqft</td>\n      <td>11434</td>\n      <td>3 Beds</td>\n      <td>NY</td>\n      <td>2</td>\n      <td>NaN</td>\n      <td>NaN</td>\n      <td>528000</td>\n      <td>1950</td>\n      <td>1950.0</td>\n      <td>Other</td>\n      <td>NaN</td>\n      <td>2</td>\n      <td>1,600 sqft</td>\n      <td>$458/sqft</td>\n      <td>1152.0</td>\n      <td>1600.0</td>\n      <td>458.0</td>\n      <td>3</td>\n      <td>3</td>\n      <td>2</td>\n      <td>0</td>\n      <td>0</td>\n      <td>0</td>\n      <td>1950.0</td>\n      <td>11434</td>\n      <td>detached</td>\n      <td>private</td>\n      <td>ordinal</td>\n      <td>single</td>\n      <td>0.0</td>\n      <td>Ps 48 William Wordsworth, Jhs 8 Richard S Gros...</td>\n      <td>4.500000</td>\n      <td>0.605000</td>\n      <td>2.0</td>\n      <td>Ps 48 William Wordsworth, Jhs 8 Richard S Gros...</td>\n      <td>4.500000</td>\n      <td>0.605000</td>\n      <td>4.500000</td>\n    </tr>\n  </tbody>\n</table>\n<p>55854 rows × 46 columns</p>\n</div>"
     },
     "execution_count": 135,
     "metadata": {},
     "output_type": "execute_result"
    }
   ],
   "source": [
    "till, up = 500_000, 1_000_000\n",
    "mask = (data[TARGET]>till)&(data[TARGET]<=up)\n",
    "data[mask].shape"
   ],
   "metadata": {
    "collapsed": false,
    "pycharm": {
     "name": "#%%\n"
    }
   }
  },
  {
   "cell_type": "code",
   "execution_count": 133,
   "outputs": [],
   "source": [
    "x = data[mask].drop([TARGET], axis=1)\n",
    "y = np.log(data[mask][TARGET])\n",
    "encoder = ce.TargetEncoder()\n",
    "encoder.fit(x, y)\n",
    "x = encoder.transform(x)\n",
    "x_train, x_test, y_train, y_test = train_test_split(x, y, test_size=0.2, shuffle=True, random_state=SEED)"
   ],
   "metadata": {
    "collapsed": false,
    "pycharm": {
     "name": "#%%\n"
    }
   }
  },
  {
   "cell_type": "code",
   "execution_count": 146,
   "outputs": [
    {
     "name": "stdout",
     "output_type": "stream",
     "text": [
      "Pinball loss  :: переоценка теста :: недооценка теста\n",
      "470085.7       :: 1048366.1          :: 1960235.8\n",
      "MAPE: 6.90%\n"
     ]
    }
   ],
   "source": [
    "model = CatBoostRegressor(iterations = 5000, random_seed = SEED)\n",
    "model.fit(x_train, y_train, verbose_eval=0)\n",
    "y_true = np.exp(y_test)\n",
    "predict = np.exp(model.predict(x_test))\n",
    "\n",
    "if not results.empty:\n",
    "    results.drop(columns=results.columns, inplace=True)\n",
    "results = x_test.copy()\n",
    "results['y_test'] = np.exp(y_test)\n",
    "results['predict'] = predict.astype('int64')\n",
    "\n",
    "mpl_value, p, avg_under_test, avg_upper_test = mpl(alpha=0.01)\n",
    "mape_value, smape_value = mape(y_true, predict), smape(y_true, predict)\n",
    "\n",
    "print('Pinball loss  :: переоценка теста :: недооценка теста')\n",
    "print(f'{mpl_value:0.1f}       :: {avg_upper_test:0.1f}          :: {avg_under_test:0.1f}')\n",
    "print(f'MAPE: {mape_value:0.2F}%')"
   ],
   "metadata": {
    "collapsed": false,
    "pycharm": {
     "name": "#%%\n"
    }
   }
  },
  {
   "cell_type": "code",
   "execution_count": 193,
   "outputs": [
    {
     "name": "stdout",
     "output_type": "stream",
     "text": [
      "<class 'pandas.core.frame.DataFrame'>\n",
      "RangeIndex: 298953 entries, 0 to 298952\n",
      "Data columns (total 46 columns):\n",
      " #   Column                  Non-Null Count   Dtype  \n",
      "---  ------                  --------------   -----  \n",
      " 0   status                  269296 non-null  object \n",
      " 1   private_pool            298953 non-null  int64  \n",
      " 2   propertyType            298953 non-null  object \n",
      " 3   street                  298953 non-null  object \n",
      " 4   baths                   234069 non-null  object \n",
      " 5   fireplace               90149 non-null   object \n",
      " 6   city                    298949 non-null  object \n",
      " 7   sqft                    288534 non-null  object \n",
      " 8   zipcode                 298953 non-null  object \n",
      " 9   beds                    245282 non-null  object \n",
      " 10  state                   298953 non-null  object \n",
      " 11  stories                 204597 non-null  object \n",
      " 12  mls_id                  22442 non-null   object \n",
      " 13  MlsId                   263777 non-null  object \n",
      " 14  target                  298953 non-null  int64  \n",
      " 15  build                   275307 non-null  object \n",
      " 16  renovate                276404 non-null  object \n",
      " 17  heating                 229738 non-null  object \n",
      " 18  cooling                 221444 non-null  object \n",
      " 19  parking                 172723 non-null  object \n",
      " 20  lotsize                 246195 non-null  object \n",
      " 21  price_sqft              278406 non-null  object \n",
      " 22  sqft_value              298953 non-null  float64\n",
      " 23  lot_value               298953 non-null  float64\n",
      " 24  price_value             298953 non-null  float64\n",
      " 25  baths_value             298953 non-null  int64  \n",
      " 26  beds_value              298953 non-null  int64  \n",
      " 27  parking_places          298953 non-null  int64  \n",
      " 28  attached                298953 non-null  int64  \n",
      " 29  detached                298953 non-null  int64  \n",
      " 30  carport                 298953 non-null  int64  \n",
      " 31  build_value             298953 non-null  float64\n",
      " 32  zip                     298953 non-null  int64  \n",
      " 33  type_building           298953 non-null  object \n",
      " 34  type_ownership          298953 non-null  object \n",
      " 35  type_style              298953 non-null  object \n",
      " 36  type_family             298953 non-null  object \n",
      " 37  status_auc              298953 non-null  float64\n",
      " 38  schools_list            296468 non-null  object \n",
      " 39  schools_rating          298953 non-null  float64\n",
      " 40  schools_distance        298953 non-null  float64\n",
      " 41  schools_count           298953 non-null  float64\n",
      " 42  top_schools_list        296468 non-null  object \n",
      " 43  top_schools_rating      298953 non-null  float64\n",
      " 44  top_schools_distance    298953 non-null  float64\n",
      " 45  nearest_schools_rating  298953 non-null  float64\n",
      "dtypes: float64(11), int64(9), object(26)\n",
      "memory usage: 104.9+ MB\n"
     ]
    }
   ],
   "source": [
    "data.info()"
   ],
   "metadata": {
    "collapsed": false,
    "pycharm": {
     "name": "#%%\n"
    }
   }
  },
  {
   "cell_type": "markdown",
   "source": [
    "# ML-clustering and ML model"
   ],
   "metadata": {
    "collapsed": false
   }
  },
  {
   "cell_type": "markdown",
   "source": [
    "Идея в том, чтобы кластеризировать объекты и применить регрессию внутри кластеров отдельно в каждом.\n",
    "Для этого сделаю:\n",
    "1. Превращаю записи в текст\n",
    "2. \"Токенизирую\" текст\n",
    "3. Векторизирую токены\n",
    "4. Кластеризирую векторы."
   ],
   "metadata": {
    "collapsed": false
   }
  },
  {
   "cell_type": "code",
   "execution_count": 194,
   "outputs": [],
   "source": [
    "data_copy = data.copy()"
   ],
   "metadata": {
    "collapsed": false,
    "pycharm": {
     "name": "#%%\n"
    }
   }
  },
  {
   "cell_type": "code",
   "execution_count": 203,
   "outputs": [],
   "source": [
    "data = data_copy.copy()"
   ],
   "metadata": {
    "collapsed": false,
    "pycharm": {
     "name": "#%%\n"
    }
   }
  },
  {
   "cell_type": "code",
   "execution_count": 205,
   "outputs": [],
   "source": [
    "data.baths.fillna('2', inplace=True)\n",
    "data.beds.fillna('2', inplace=True)\n",
    "data.fillna('no data', inplace=True)"
   ],
   "metadata": {
    "collapsed": false,
    "pycharm": {
     "name": "#%%\n"
    }
   }
  },
  {
   "cell_type": "code",
   "execution_count": 206,
   "outputs": [
    {
     "data": {
      "text/plain": "status                    0\nprivate_pool              0\npropertyType              0\nstreet                    0\nbaths                     0\nfireplace                 0\ncity                      0\nsqft                      0\nzipcode                   0\nbeds                      0\nstate                     0\nstories                   0\nmls_id                    0\nMlsId                     0\ntarget                    0\nbuild                     0\nrenovate                  0\nheating                   0\ncooling                   0\nparking                   0\nlotsize                   0\nprice_sqft                0\nsqft_value                0\nlot_value                 0\nprice_value               0\nbaths_value               0\nbeds_value                0\nparking_places            0\nattached                  0\ndetached                  0\ncarport                   0\nbuild_value               0\nzip                       0\ntype_building             0\ntype_ownership            0\ntype_style                0\ntype_family               0\nstatus_auc                0\nschools_list              0\nschools_rating            0\nschools_distance          0\nschools_count             0\ntop_schools_list          0\ntop_schools_rating        0\ntop_schools_distance      0\nnearest_schools_rating    0\ndtype: int64"
     },
     "execution_count": 206,
     "metadata": {},
     "output_type": "execute_result"
    }
   ],
   "source": [
    "data.isna().sum()"
   ],
   "metadata": {
    "collapsed": false,
    "pycharm": {
     "name": "#%%\n"
    }
   }
  },
  {
   "cell_type": "code",
   "execution_count": 208,
   "outputs": [],
   "source": [
    "x, y = data.drop(TARGET, axis=1), np.log(data[TARGET])"
   ],
   "metadata": {
    "collapsed": false,
    "pycharm": {
     "name": "#%%\n"
    }
   }
  },
  {
   "cell_type": "code",
   "execution_count": 210,
   "outputs": [],
   "source": [
    "# tokenizing by encoder and standardizing by standard scaler\n",
    "encoder=ce.TargetEncoder().fit(x,y)\n",
    "x = encoder.transform(x)\n",
    "\n",
    "scaler = StandardScaler().fit(x)\n",
    "x = scaler.transform(x)"
   ],
   "metadata": {
    "collapsed": false,
    "pycharm": {
     "name": "#%%\n"
    }
   }
  },
  {
   "cell_type": "code",
   "execution_count": 212,
   "outputs": [],
   "source": [
    "CLUSTERS = 14\n",
    "kmeans = KMeans(n_clusters=CLUSTERS).fit(x)"
   ],
   "metadata": {
    "collapsed": false,
    "pycharm": {
     "name": "#%%\n"
    }
   }
  },
  {
   "cell_type": "code",
   "execution_count": 216,
   "outputs": [],
   "source": [
    "# receive clusters for items\n",
    "y_pred = kmeans.labels_ #.astype(int)\n",
    "y_pred\n",
    "data['kmeans']=y_pred"
   ],
   "metadata": {
    "collapsed": false,
    "pycharm": {
     "name": "#%%\n"
    }
   }
  },
  {
   "cell_type": "code",
   "execution_count": 218,
   "outputs": [
    {
     "data": {
      "text/plain": "3     68053\n11    55771\n2     54687\n5     41455\n1     31845\n6     10477\n12    10413\n0      9606\n9      9206\n13     3805\n10     3624\n7         8\n4         2\n8         1\nName: kmeans, dtype: int64"
     },
     "execution_count": 218,
     "metadata": {},
     "output_type": "execute_result"
    }
   ],
   "source": [
    "data.kmeans.value_counts()"
   ],
   "metadata": {
    "collapsed": false,
    "pycharm": {
     "name": "#%%\n"
    }
   }
  },
  {
   "cell_type": "code",
   "execution_count": 219,
   "outputs": [
    {
     "data": {
      "text/plain": "array([[0.07100343, 0.0711124 , 0.07113046, ..., 0.07115339, 0.07103857,\n        0.07075853],\n       [0.07098662, 0.07106466, 0.07115206, ..., 0.07115396, 0.07104909,\n        0.07073935],\n       [0.0708208 , 0.07100635, 0.07078312, ..., 0.07094708, 0.07081094,\n        0.0705816 ],\n       ...,\n       [0.0709354 , 0.07096588, 0.07104357, ..., 0.07108738, 0.07100981,\n        0.07072126],\n       [0.07100921, 0.0710618 , 0.07111085, ..., 0.07117755, 0.07102516,\n        0.07075393],\n       [0.07095601, 0.07100699, 0.0711761 , ..., 0.07113732, 0.07103621,\n        0.07073009]])"
     },
     "execution_count": 219,
     "metadata": {},
     "output_type": "execute_result"
    }
   ],
   "source": [
    "# transform data to distance to centers and then transform to wight:\n",
    "# nearest distance will have biggest wight\n",
    "x_prob = kmeans.transform(x)\n",
    "x_prob = (1 - x_prob / x_prob.sum(axis=1)[:,None])/CLUSTERS\n",
    "x_prob"
   ],
   "metadata": {
    "collapsed": false,
    "pycharm": {
     "name": "#%%\n"
    }
   }
  },
  {
   "cell_type": "code",
   "execution_count": 221,
   "outputs": [
    {
     "data": {
      "text/plain": "['clu0',\n 'clu1',\n 'clu2',\n 'clu3',\n 'clu4',\n 'clu5',\n 'clu6',\n 'clu7',\n 'clu8',\n 'clu9',\n 'clu10',\n 'clu11',\n 'clu12',\n 'clu13']"
     },
     "execution_count": 221,
     "metadata": {},
     "output_type": "execute_result"
    }
   ],
   "source": [
    "clu_columns = ['clu'+str(i) for i in range(CLUSTERS)]\n",
    "#clu_columns = ['clu1', 'clu2', 'clu3', 'clu4', 'clu5', 'clu6', 'clu7', 'clu8', 'clu9', 'clu10', 'clu11', 'clu12', 'clu13', 'clu14']\n",
    "clu_columns"
   ],
   "metadata": {
    "collapsed": false,
    "pycharm": {
     "name": "#%%\n"
    }
   }
  },
  {
   "cell_type": "code",
   "execution_count": 222,
   "outputs": [],
   "source": [
    "q_probability = pd.DataFrame(data=x_prob, columns=clu_columns)\n",
    "data = pd.concat([data, q_probability], axis=1)"
   ],
   "metadata": {
    "collapsed": false,
    "pycharm": {
     "name": "#%%\n"
    }
   }
  },
  {
   "cell_type": "code",
   "execution_count": 226,
   "outputs": [],
   "source": [
    "# ML regression in clusters\n",
    "\n",
    "# dropping vectors not to encoding\n",
    "x, y = data.drop([TARGET, 'kmeans', *clu_columns], axis=1), np.log(data[TARGET])\n",
    "\n",
    "# encoding categorical features\n",
    "encoder=ce.TargetEncoder().fit(x, y)\n",
    "x = encoder.transform(x)\n",
    "\n",
    "# returning vectors of kmeans cluster and target\n",
    "x['kmeans'] = y_pred\n",
    "x[TARGET]=y"
   ],
   "metadata": {
    "collapsed": false,
    "pycharm": {
     "name": "#%%\n"
    }
   }
  },
  {
   "cell_type": "code",
   "execution_count": 231,
   "outputs": [
    {
     "data": {
      "text/plain": "  0%|          | 0/14 [00:00<?, ?it/s]",
      "application/vnd.jupyter.widget-view+json": {
       "version_major": 2,
       "version_minor": 0,
       "model_id": "4c8632cb96d84649a575ca623dea0da7"
      }
     },
     "metadata": {},
     "output_type": "display_data"
    },
    {
     "name": "stdout",
     "output_type": "stream",
     "text": [
      "0 :  9606\n"
     ]
    },
    {
     "name": "stderr",
     "output_type": "stream",
     "text": [
      "Custom logger is already specified. Specify more than one logger at same time is not thread safe."
     ]
    },
    {
     "name": "stdout",
     "output_type": "stream",
     "text": [
      "1 :  31845\n",
      "2 :  54687\n",
      "3 :  68053\n",
      "4 :  2\n",
      "5 :  41455\n",
      "6 :  10477\n",
      "9 :  9206\n",
      "10 :  3624\n",
      "11 :  55771\n",
      "12 :  10413\n",
      "13 :  3805\n"
     ]
    }
   ],
   "source": [
    "# making regression in clusters and saving results in new vectors\n",
    "for cluster in tqdm(set(x.kmeans)):\n",
    "\n",
    "    if (cluster == 7)|(cluster == 8):   #skip clusters 7 and 8\n",
    "        continue\n",
    "    cluster_data = x[x.kmeans == cluster].copy()\n",
    "    print(cluster, \": \", cluster_data.shape[0])\n",
    "    cluster_x = cluster_data.drop([TARGET, 'kmeans'], axis=1)\n",
    "    cluster_y = cluster_data[TARGET]\n",
    "\n",
    "    model = CatBoostRegressor(iterations = 5000,random_seed = SEED,)\n",
    "    model.fit(cluster_x, cluster_y, verbose_eval=0)\n",
    "\n",
    "    name = f'price_{cluster}'\n",
    "    data[name] = np.exp(model.predict(x))"
   ],
   "metadata": {
    "collapsed": false,
    "pycharm": {
     "name": "#%%\n"
    }
   }
  },
  {
   "cell_type": "code",
   "execution_count": 233,
   "outputs": [
    {
     "data": {
      "text/plain": "status          0\nprivate_pool    0\npropertyType    0\nstreet          0\nbaths           0\n               ..\nprice_9         0\nprice_10        0\nprice_11        0\nprice_12        0\nprice_13        0\nLength: 74, dtype: int64"
     },
     "execution_count": 233,
     "metadata": {},
     "output_type": "execute_result"
    }
   ],
   "source": [
    "data.isna().sum()"
   ],
   "metadata": {
    "collapsed": false,
    "pycharm": {
     "name": "#%%\n"
    }
   }
  },
  {
   "cell_type": "code",
   "execution_count": 236,
   "outputs": [],
   "source": [
    "data.drop(['clu8'], inplace=True, axis=1)"
   ],
   "metadata": {
    "collapsed": false,
    "pycharm": {
     "name": "#%%\n"
    }
   }
  },
  {
   "cell_type": "code",
   "execution_count": 234,
   "outputs": [],
   "source": [
    "def sum_prod(vec1, vec2):\n",
    "    result = np.sum(np.prod([vec1, vec2], axis=0))\n",
    "    return result"
   ],
   "metadata": {
    "collapsed": false,
    "pycharm": {
     "name": "#%%\n"
    }
   }
  },
  {
   "cell_type": "code",
   "execution_count": 241,
   "outputs": [
    {
     "name": "stdout",
     "output_type": "stream",
     "text": [
      "[0, 1, 2, 3, 4, 5, 6, 7, 9, 10, 11, 12, 13]\n",
      "['clu0', 'clu1', 'clu2', 'clu3', 'clu4', 'clu5', 'clu6', 'clu7', 'clu9', 'clu10', 'clu11', 'clu12', 'clu13'] ['price_0', 'price_1', 'price_2', 'price_3', 'price_4', 'price_5', 'price_6', 'price_7', 'price_9', 'price_10', 'price_11', 'price_12', 'price_13']\n"
     ]
    }
   ],
   "source": [
    "siq = [i for i in range(CLUSTERS) if i!=8]\n",
    "print(siq)\n",
    "clu_columns = ['clu'+str(i) for i in siq]\n",
    "pr_columns = ['price_'+ str(i) for i in siq]\n",
    "\n",
    "print(clu_columns, pr_columns)"
   ],
   "metadata": {
    "collapsed": false,
    "pycharm": {
     "name": "#%%\n"
    }
   }
  },
  {
   "cell_type": "code",
   "execution_count": 245,
   "outputs": [
    {
     "name": "stdout",
     "output_type": "stream",
     "text": [
      "[0.07100342910002988 0.07111239722897904 0.07113045680049652\n",
      " 0.07122889045508538 0.048286606734410445 0.07111311457579063\n",
      " 0.07100988883925438 0.05776683034539509 0.07092913286517889\n",
      " 0.07075079772241026 0.0711533911839455 0.07103857022729085\n",
      " 0.07075852823997929] [427470.6897370068 419940.8769970117 422934.98080873233 418595.0965925403\n",
      " 88213.69896009048 415703.3833992775 412041.7030786019 224066.8898928046\n",
      " 409420.49922960397 394411.6804604722 412142.08676416596 545910.8332690547\n",
      " 372246.03382068995]\n"
     ]
    },
    {
     "data": {
      "text/plain": "347529.07769897854"
     },
     "execution_count": 245,
     "metadata": {},
     "output_type": "execute_result"
    }
   ],
   "source": [
    "item = data.loc[0]\n",
    "q1, q2 = item[clu_columns].values, item[pr_columns].values\n",
    "print(q1, q2)\n",
    "sum_prod(q1,q2)"
   ],
   "metadata": {
    "collapsed": false,
    "pycharm": {
     "name": "#%%\n"
    }
   }
  },
  {
   "cell_type": "code",
   "execution_count": 246,
   "outputs": [],
   "source": [
    "data['price_sumprod'] = data.apply(lambda q: sum_prod(q[clu_columns].values, q[pr_columns].values), axis=1)\n",
    "data.price_sumprod = data.price_sumprod.astype('int64')"
   ],
   "metadata": {
    "collapsed": false,
    "pycharm": {
     "name": "#%%\n"
    }
   }
  },
  {
   "cell_type": "code",
   "execution_count": 250,
   "outputs": [],
   "source": [
    "# second way - take only prediction from cluster regression\n",
    "data['price_kmeans']= data.apply(lambda i:\n",
    "                                 (i[f'price_{i.kmeans}'])//1000*1000 if i.kmeans !=8 else i[TARGET]\n",
    "                                 , axis=1).astype('int64')"
   ],
   "metadata": {
    "collapsed": false,
    "pycharm": {
     "name": "#%%\n"
    }
   }
  },
  {
   "cell_type": "code",
   "execution_count": 251,
   "outputs": [
    {
     "data": {
      "text/plain": "                           32653                        202613  \\\nstatus                   for sale                       active   \nprivate_pool                    0                            0   \npropertyType        single-family                      no data   \nstreet         8319 Diagonal Rd N  2721 N Pine Island Rd #112    \nbaths                           2                        1,500   \n...                           ...                          ...   \nprice_11             94495.767517                 83711.513049   \nprice_12            192641.066403                 129493.20617   \nprice_13            384338.763115                150843.377522   \nprice_sumprod              147160                       111826   \nprice_kmeans               134000                        83000   \n\n                         278944                   78908   \\\nstatus                 for sale  under contract, showing   \nprivate_pool                  1                        0   \npropertyType      single-family            single-family   \nstreet         5360 NW 106th Ct         4000 Larkspur Ln   \nbaths                   2 baths                      2.5   \n...                         ...                      ...   \nprice_11          474412.776543            340409.091536   \nprice_12          613241.933241             512753.11441   \nprice_13         1248238.324791            943539.032016   \nprice_sumprod            437892                   334774   \nprice_kmeans             475000                   339000   \n\n                                                    218592  \\\nstatus                                              active   \nprivate_pool                                             0   \npropertyType   condominium,townhouse,townhouse,cooperative   \nstreet                              1312 Adams St NE Apt 1   \nbaths                                                    1   \n...                                                    ...   \nprice_11                                     332172.432305   \nprice_12                                     503601.315614   \nprice_13                                     504486.408607   \nprice_sumprod                                       296733   \nprice_kmeans                                        332000   \n\n                                   196475           44804   \\\nstatus                             active         for sale   \nprivate_pool                            0                0   \npropertyType                      no data    single-family   \nstreet         2608 Old Buena Vista Pike   307 Hibiscus Dr   \nbaths                                   2          2 baths   \n...                                   ...              ...   \nprice_11                     235507.24809    225992.740521   \nprice_12                    429674.498362    294888.136842   \nprice_13                    375509.811718    112472.687456   \nprice_sumprod                      284574           188958   \nprice_kmeans                       375000           224000   \n\n                                  294973            185788  \\\nstatus                          for sale          for sale   \nprivate_pool                           0                 0   \npropertyType               mobile,mobile      multi-family   \nstreet         27466 US Highway 19 N #48  5421 Melrose Ave   \nbaths                                  2           4 baths   \n...                                  ...               ...   \nprice_11                    33531.514699     841414.352801   \nprice_12                    53140.086921    1199577.327435   \nprice_13                    149215.45166    1474843.071839   \nprice_sumprod                      75438            739021   \nprice_kmeans                       35000            847000   \n\n                             279389  \nstatus                     for sale  \nprivate_pool                      0  \npropertyType          single-family  \nstreet         25613 Mount Rhapsody  \nbaths                       4 baths  \n...                             ...  \nprice_11              544083.012784  \nprice_12              659891.192394  \nprice_13              577162.162106  \nprice_sumprod                447709  \nprice_kmeans                 552000  \n\n[75 rows x 10 columns]",
      "text/html": "<div>\n<style scoped>\n    .dataframe tbody tr th:only-of-type {\n        vertical-align: middle;\n    }\n\n    .dataframe tbody tr th {\n        vertical-align: top;\n    }\n\n    .dataframe thead th {\n        text-align: right;\n    }\n</style>\n<table border=\"1\" class=\"dataframe\">\n  <thead>\n    <tr style=\"text-align: right;\">\n      <th></th>\n      <th>32653</th>\n      <th>202613</th>\n      <th>278944</th>\n      <th>78908</th>\n      <th>218592</th>\n      <th>196475</th>\n      <th>44804</th>\n      <th>294973</th>\n      <th>185788</th>\n      <th>279389</th>\n    </tr>\n  </thead>\n  <tbody>\n    <tr>\n      <th>status</th>\n      <td>for sale</td>\n      <td>active</td>\n      <td>for sale</td>\n      <td>under contract, showing</td>\n      <td>active</td>\n      <td>active</td>\n      <td>for sale</td>\n      <td>for sale</td>\n      <td>for sale</td>\n      <td>for sale</td>\n    </tr>\n    <tr>\n      <th>private_pool</th>\n      <td>0</td>\n      <td>0</td>\n      <td>1</td>\n      <td>0</td>\n      <td>0</td>\n      <td>0</td>\n      <td>0</td>\n      <td>0</td>\n      <td>0</td>\n      <td>0</td>\n    </tr>\n    <tr>\n      <th>propertyType</th>\n      <td>single-family</td>\n      <td>no data</td>\n      <td>single-family</td>\n      <td>single-family</td>\n      <td>condominium,townhouse,townhouse,cooperative</td>\n      <td>no data</td>\n      <td>single-family</td>\n      <td>mobile,mobile</td>\n      <td>multi-family</td>\n      <td>single-family</td>\n    </tr>\n    <tr>\n      <th>street</th>\n      <td>8319 Diagonal Rd N</td>\n      <td>2721 N Pine Island Rd #112</td>\n      <td>5360 NW 106th Ct</td>\n      <td>4000 Larkspur Ln</td>\n      <td>1312 Adams St NE Apt 1</td>\n      <td>2608 Old Buena Vista Pike</td>\n      <td>307 Hibiscus Dr</td>\n      <td>27466 US Highway 19 N #48</td>\n      <td>5421 Melrose Ave</td>\n      <td>25613 Mount Rhapsody</td>\n    </tr>\n    <tr>\n      <th>baths</th>\n      <td>2</td>\n      <td>1,500</td>\n      <td>2 baths</td>\n      <td>2.5</td>\n      <td>1</td>\n      <td>2</td>\n      <td>2 baths</td>\n      <td>2</td>\n      <td>4 baths</td>\n      <td>4 baths</td>\n    </tr>\n    <tr>\n      <th>...</th>\n      <td>...</td>\n      <td>...</td>\n      <td>...</td>\n      <td>...</td>\n      <td>...</td>\n      <td>...</td>\n      <td>...</td>\n      <td>...</td>\n      <td>...</td>\n      <td>...</td>\n    </tr>\n    <tr>\n      <th>price_11</th>\n      <td>94495.767517</td>\n      <td>83711.513049</td>\n      <td>474412.776543</td>\n      <td>340409.091536</td>\n      <td>332172.432305</td>\n      <td>235507.24809</td>\n      <td>225992.740521</td>\n      <td>33531.514699</td>\n      <td>841414.352801</td>\n      <td>544083.012784</td>\n    </tr>\n    <tr>\n      <th>price_12</th>\n      <td>192641.066403</td>\n      <td>129493.20617</td>\n      <td>613241.933241</td>\n      <td>512753.11441</td>\n      <td>503601.315614</td>\n      <td>429674.498362</td>\n      <td>294888.136842</td>\n      <td>53140.086921</td>\n      <td>1199577.327435</td>\n      <td>659891.192394</td>\n    </tr>\n    <tr>\n      <th>price_13</th>\n      <td>384338.763115</td>\n      <td>150843.377522</td>\n      <td>1248238.324791</td>\n      <td>943539.032016</td>\n      <td>504486.408607</td>\n      <td>375509.811718</td>\n      <td>112472.687456</td>\n      <td>149215.45166</td>\n      <td>1474843.071839</td>\n      <td>577162.162106</td>\n    </tr>\n    <tr>\n      <th>price_sumprod</th>\n      <td>147160</td>\n      <td>111826</td>\n      <td>437892</td>\n      <td>334774</td>\n      <td>296733</td>\n      <td>284574</td>\n      <td>188958</td>\n      <td>75438</td>\n      <td>739021</td>\n      <td>447709</td>\n    </tr>\n    <tr>\n      <th>price_kmeans</th>\n      <td>134000</td>\n      <td>83000</td>\n      <td>475000</td>\n      <td>339000</td>\n      <td>332000</td>\n      <td>375000</td>\n      <td>224000</td>\n      <td>35000</td>\n      <td>847000</td>\n      <td>552000</td>\n    </tr>\n  </tbody>\n</table>\n<p>75 rows × 10 columns</p>\n</div>"
     },
     "execution_count": 251,
     "metadata": {},
     "output_type": "execute_result"
    }
   ],
   "source": [
    "data.sample(10).T"
   ],
   "metadata": {
    "collapsed": false,
    "pycharm": {
     "name": "#%%\n"
    }
   }
  },
  {
   "cell_type": "code",
   "execution_count": 275,
   "outputs": [],
   "source": [
    "def mpl2(predict, alpha=0.5):\n",
    "    \"\"\"\n",
    "    function to calculate Mean Pinball Loss\n",
    "    :param y_true:\n",
    "    :param y_pred:\n",
    "    :param alpha:\n",
    "    :return:\n",
    "    \"\"\"\n",
    "    a = np.sum([data[TARGET].values, -1*data[predict].values], axis=0)\n",
    "    b = np.sum([data[predict].values, -1*data[TARGET].values], axis=0)\n",
    "    a, b = np.fmax(a, np.zeros(data.shape[0])), np.fmax(b, np.zeros(data.shape[0]))\n",
    "    mpl_value = np.sum(alpha*a + (1-alpha)*b)/data.shape[0]\n",
    "\n",
    "    test_up = data[TARGET] > data[predict]\n",
    "    predict_up = data[TARGET] < data[predict]\n",
    "    count_test_up = data[test_up][TARGET].count() / data.shape[0]\n",
    "\n",
    "    avg_under_test = np.sum(a) / data[test_up][TARGET].count()\n",
    "    avg_upper_test = np.sum(b) / data[predict_up][TARGET].count()\n",
    "\n",
    "    return mpl_value, 1-count_test_up, avg_under_test, avg_upper_test"
   ],
   "metadata": {
    "collapsed": false,
    "pycharm": {
     "name": "#%%\n"
    }
   }
  },
  {
   "cell_type": "code",
   "execution_count": 266,
   "outputs": [
    {
     "data": {
      "text/plain": "12302.04355631153"
     },
     "execution_count": 266,
     "metadata": {},
     "output_type": "execute_result"
    }
   ],
   "source": [
    "a = np.sum([data[TARGET].values, -1*data['price_sumprod'].values], axis=0)\n",
    "b = np.sum([data['price_sumprod'].values, -1*data[TARGET].values], axis=0)\n",
    "a, b = np.fmax(a, np.zeros(data.shape[0])), np.fmax(b, np.zeros(data.shape[0]))\n",
    "alpha = 0.01\n",
    "qq = np.sum(alpha*a + (1-alpha)*b)/data.shape[0]\n",
    "qq"
   ],
   "metadata": {
    "collapsed": false,
    "pycharm": {
     "name": "#%%\n"
    }
   }
  },
  {
   "cell_type": "code",
   "execution_count": 277,
   "outputs": [
    {
     "name": "stdout",
     "output_type": "stream",
     "text": [
      " ---- Sumproduct way of prediction ----\n",
      "Pinball loss  :: переоценка теста :: недооценка теста\n",
      "12302.0       :: 38929.7          :: 204668.2\n",
      "MAPE: 145.32%\n",
      "MAE: 15809281\n"
     ]
    }
   ],
   "source": [
    "mpl_value, p, avg_under_test, avg_upper_test = mpl2('price_sumprod', alpha=0.01)\n",
    "mape_value, mae_value = mape(data[TARGET], data.price_sumprod), mae(data[TARGET], data.price_sumprod)\n",
    "\n",
    "print(' ---- Sumproduct way of prediction ----')\n",
    "print('Pinball loss  :: переоценка теста :: недооценка теста')\n",
    "print(f'{mpl_value:0.1f}       :: {avg_upper_test:0.1f}          :: {avg_under_test:0.1f}')\n",
    "#print(mpl_value, avg_upper_test, avg_under_test)\n",
    "print(f'MAPE: {mape_value:0.2F}%')\n",
    "print(f'MAE: {mae_value:0.0F}')"
   ],
   "metadata": {
    "collapsed": false,
    "pycharm": {
     "name": "#%%\n"
    }
   }
  },
  {
   "cell_type": "code",
   "execution_count": 278,
   "outputs": [
    {
     "name": "stdout",
     "output_type": "stream",
     "text": [
      " ---- Sumproduct way of prediction ----\n",
      "Pinball loss  :: переоценка теста :: недооценка теста\n",
      "4451.3       :: 10629.8          :: 14960.6\n",
      "MAPE: 145.32%\n",
      "MAE: 15809281\n"
     ]
    }
   ],
   "source": [
    "mpl_value, p, avg_under_test, avg_upper_test = mpl2('price_kmeans', alpha=0.01)\n",
    "mape_value, mae_value = mape(data[TARGET], data.price_sumprod), mae(data[TARGET], data.price_sumprod)\n",
    "\n",
    "print(' ---- Sumproduct way of prediction ----')\n",
    "print('Pinball loss  :: переоценка теста :: недооценка теста')\n",
    "print(f'{mpl_value:0.1f}       :: {avg_upper_test:0.1f}          :: {avg_under_test:0.1f}')\n",
    "#print(mpl_value, avg_upper_test, avg_under_test)\n",
    "print(f'MAPE: {mape_value:0.2F}%')\n",
    "print(f'MAE: {mae_value:0.0F}')"
   ],
   "metadata": {
    "collapsed": false,
    "pycharm": {
     "name": "#%%\n"
    }
   }
  },
  {
   "cell_type": "markdown",
   "source": [
    "# Tabular NN model"
   ],
   "metadata": {
    "collapsed": false
   }
  },
  {
   "cell_type": "code",
   "execution_count": null,
   "outputs": [],
   "source": [],
   "metadata": {
    "collapsed": false,
    "pycharm": {
     "name": "#%%\n"
    }
   }
  },
  {
   "cell_type": "code",
   "execution_count": null,
   "outputs": [],
   "source": [],
   "metadata": {
    "collapsed": false,
    "pycharm": {
     "name": "#%%\n"
    }
   }
  },
  {
   "cell_type": "code",
   "execution_count": null,
   "outputs": [],
   "source": [],
   "metadata": {
    "collapsed": false,
    "pycharm": {
     "name": "#%%\n"
    }
   }
  },
  {
   "cell_type": "code",
   "execution_count": null,
   "outputs": [],
   "source": [],
   "metadata": {
    "collapsed": false,
    "pycharm": {
     "name": "#%%\n"
    }
   }
  },
  {
   "cell_type": "markdown",
   "source": [
    "# Blend model results"
   ],
   "metadata": {
    "collapsed": false
   }
  },
  {
   "cell_type": "code",
   "execution_count": null,
   "outputs": [],
   "source": [],
   "metadata": {
    "collapsed": false,
    "pycharm": {
     "name": "#%%\n"
    }
   }
  },
  {
   "cell_type": "code",
   "execution_count": null,
   "outputs": [],
   "source": [],
   "metadata": {
    "collapsed": false,
    "pycharm": {
     "name": "#%%\n"
    }
   }
  },
  {
   "cell_type": "code",
   "execution_count": null,
   "outputs": [],
   "source": [],
   "metadata": {
    "collapsed": false,
    "pycharm": {
     "name": "#%%\n"
    }
   }
  },
  {
   "cell_type": "code",
   "execution_count": null,
   "outputs": [],
   "source": [],
   "metadata": {
    "collapsed": false,
    "pycharm": {
     "name": "#%%\n"
    }
   }
  },
  {
   "cell_type": "markdown",
   "source": [
    "# Production"
   ],
   "metadata": {
    "collapsed": false
   }
  },
  {
   "cell_type": "code",
   "execution_count": null,
   "outputs": [],
   "source": [],
   "metadata": {
    "collapsed": false,
    "pycharm": {
     "name": "#%%\n"
    }
   }
  },
  {
   "cell_type": "code",
   "execution_count": null,
   "outputs": [],
   "source": [],
   "metadata": {
    "collapsed": false,
    "pycharm": {
     "name": "#%%\n"
    }
   }
  },
  {
   "cell_type": "code",
   "execution_count": null,
   "outputs": [],
   "source": [],
   "metadata": {
    "collapsed": false,
    "pycharm": {
     "name": "#%%\n"
    }
   }
  }
 ],
 "metadata": {
  "kernelspec": {
   "display_name": "Python 3",
   "language": "python",
   "name": "python3"
  },
  "language_info": {
   "codemirror_mode": {
    "name": "ipython",
    "version": 2
   },
   "file_extension": ".py",
   "mimetype": "text/x-python",
   "name": "python",
   "nbconvert_exporter": "python",
   "pygments_lexer": "ipython2",
   "version": "2.7.6"
  }
 },
 "nbformat": 4,
 "nbformat_minor": 0
}