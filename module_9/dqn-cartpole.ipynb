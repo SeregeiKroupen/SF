{
 "nbformat": 4,
 "nbformat_minor": 0,
 "metadata": {
  "colab": {
   "name": "dqn-cartpole.ipynb",
   "version": "0.3.2",
   "provenance": [],
   "collapsed_sections": []
  },
  "language_info": {
   "codemirror_mode": {
    "name": "ipython",
    "version": 3
   },
   "file_extension": ".py",
   "mimetype": "text/x-python",
   "name": "python",
   "nbconvert_exporter": "python",
   "pygments_lexer": "ipython3",
   "version": "3.7.1"
  },
  "kernelspec": {
   "name": "python3",
   "display_name": "Python 3"
  },
  "accelerator": "GPU"
 },
 "cells": [
  {
   "cell_type": "markdown",
   "source": [
    "## Deep Q-Learning in CartPole game with Replay Memory"
   ],
   "metadata": {
    "collapsed": false
   }
  },
  {
   "metadata": {
    "id": "cnhkXzquJeLH",
    "colab_type": "code",
    "colab": {}
   },
   "cell_type": "code",
   "source": [
    "import time\n",
    "import numpy as np\n",
    "\n",
    "import gym\n",
    "\n",
    "import tensorflow as tf\n",
    "print(f'Tensorflow version: {tf.__version__}')\n",
    "print(f'GYM version: {gym.__version__}')\n",
    "\n",
    "import matplotlib.pyplot as plt\n",
    "%matplotlib inline"
   ],
   "execution_count": 1,
   "outputs": [
    {
     "name": "stdout",
     "output_type": "stream",
     "text": [
      "Tensorflow version: 2.7.0\n",
      "GYM version: 0.23.1\n"
     ]
    }
   ]
  },
  {
   "metadata": {
    "id": "9D-t4TtCJeLM",
    "colab_type": "text"
   },
   "cell_type": "markdown",
   "source": [
    "## Load GYM environment"
   ]
  },
  {
   "metadata": {
    "scrolled": false,
    "id": "Xwdf4vsHJeLN",
    "colab_type": "code",
    "outputId": "3e11a7ff-fea0-43be-c2a8-f88741f700d1",
    "colab": {
     "base_uri": "https://localhost:8080/",
     "height": 120
    }
   },
   "cell_type": "code",
   "source": [
    "env = gym.make('CartPole-v1')\n",
    "\n",
    "STATE_LIMITS = env.observation_space\n",
    "NUM_ACTIONS = env.action_space.n\n",
    "\n",
    "print(f'Actions: {NUM_ACTIONS}')\n",
    "print('States limits:')\n",
    "for i in range(STATE_LIMITS.shape[0]):\n",
    "    print(f'[{STATE_LIMITS.low[i]}, {STATE_LIMITS.high[i]}]')\n",
    "    \"\"\"\n",
    "\n",
    "    | Num | Observation           | Min                  | Max                |\n",
    "    |-----|-----------------------|----------------------|--------------------|\n",
    "    | 0   | Cart Position         | -4.8                 | 4.8                |\n",
    "    | 1   | Cart Velocity         | -Inf                 | Inf                |\n",
    "    | 2   | Pole Angle            | ~ -0.419 rad (-24°)  | ~ 0.419 rad (24°)  |\n",
    "    | 3   | Pole Angular Velocity | -Inf                 | Inf                |\n",
    "    **Note:** While the ranges above denote the possible values for observation space of each element, it is not reflective of the allowed values of the state space in an unterminated episode. Particularly:\n",
    "    -  The cart x-position (index 0) can be take values between `(-4.8, 4.8)`, but the episode terminates if the cart leaves the `(-2.4, 2.4)` range.\n",
    "    -  The pole angle can be observed between  `(-.418, .418)` radians (or **±24°**), but the episode terminates if the pole angle is not in the range `(-.2095, .2095)` (or **±12°**)\n",
    "\n",
    "    \"\"\""
   ],
   "execution_count": 2,
   "outputs": [
    {
     "name": "stdout",
     "output_type": "stream",
     "text": [
      "Actions: 2\n",
      "States limits:\n",
      "[-4.800000190734863, 4.800000190734863]\n",
      "[-3.4028234663852886e+38, 3.4028234663852886e+38]\n",
      "[-0.41887903213500977, 0.41887903213500977]\n",
      "[-3.4028234663852886e+38, 3.4028234663852886e+38]\n"
     ]
    }
   ]
  },
  {
   "metadata": {
    "id": "AFtnFh9-JeLW",
    "colab_type": "text"
   },
   "cell_type": "markdown",
   "source": [
    "## DQN Model"
   ]
  },
  {
   "cell_type": "code",
   "execution_count": 3,
   "outputs": [],
   "source": [
    "import random\n",
    "\n",
    "from collections import deque\n",
    "from tensorflow import keras\n",
    "from tensorflow.keras import Sequential, layers\n",
    "from tensorflow.keras.optimizers import Adam, RMSprop, SGD"
   ],
   "metadata": {
    "collapsed": false,
    "pycharm": {
     "name": "#%%\n"
    }
   }
  },
  {
   "cell_type": "code",
   "execution_count": 4,
   "outputs": [],
   "source": [
    "model2 = Sequential([\n",
    "    layers.Dense(24, activation=tf.nn.relu),\n",
    "    layers.Dense(24, activation=tf.nn.relu),\n",
    "    layers.Dense(NUM_ACTIONS, activation=None, use_bias=False),\n",
    "])"
   ],
   "metadata": {
    "collapsed": false,
    "pycharm": {
     "name": "#%%\n"
    }
   }
  },
  {
   "metadata": {
    "id": "SM8c4_EzJeLX",
    "colab_type": "code",
    "colab": {}
   },
   "cell_type": "code",
   "source": [
    "model3 = Sequential([\n",
    "    layers.Dense(256, activation=tf.nn.relu, kernel_initializer='he_uniform',),\n",
    "    layers.Dense(128, activation=tf.nn.relu, kernel_initializer='he_uniform'),\n",
    "    layers.Dense(64, activation=tf.nn.relu, kernel_initializer='he_uniform'),\n",
    "    layers.Dense(NUM_ACTIONS, activation='linear', use_bias=False),\n",
    "])"
   ],
   "execution_count": 5,
   "outputs": []
  },
  {
   "cell_type": "code",
   "execution_count": 6,
   "outputs": [],
   "source": [
    "model=model3\n",
    "optimizer = RMSprop(learning_rate=0.00025, rho=0.95, epsilon=0.01)\n",
    "#optimizer = SGD(learning_rate=0.01)\n",
    "model.compile(loss='mse', optimizer=optimizer)\n",
    "\n",
    "pathLenList, totalRewardList, totalRewardAverageList = [], [], []"
   ],
   "metadata": {
    "collapsed": false,
    "pycharm": {
     "name": "#%%\n"
    }
   }
  },
  {
   "metadata": {
    "id": "CjRC50GBJeLg",
    "colab_type": "text"
   },
   "cell_type": "markdown",
   "source": [
    "## DQN training"
   ]
  },
  {
   "cell_type": "code",
   "execution_count": 7,
   "outputs": [],
   "source": [
    "def evalQ(s):\n",
    "    \"\"\"\n",
    "    to evaluate Q-function by FCN\n",
    "    :param s: current state\n",
    "    :return: numpy array of actions\n",
    "    \"\"\"\n",
    "    return model(s[None, ...].astype(np.float32)).numpy()[0]"
   ],
   "metadata": {
    "collapsed": false,
    "pycharm": {
     "name": "#%%\n"
    }
   }
  },
  {
   "cell_type": "code",
   "execution_count": 8,
   "outputs": [],
   "source": [
    "def act(epsilon):\n",
    "    \"\"\"\n",
    "    epsilon-greedy implementation: choosing a random action with probability epsilon\n",
    "    :param epsilon: epsilon\n",
    "    :return: action\n",
    "    \"\"\"\n",
    "    if np.random.rand() < epsilon:\n",
    "        action = env.action_space.sample()\n",
    "    else:\n",
    "        action = np.argmax(Q_s)\n",
    "    return action"
   ],
   "metadata": {
    "collapsed": false,
    "pycharm": {
     "name": "#%%\n"
    }
   }
  },
  {
   "cell_type": "code",
   "execution_count": 9,
   "outputs": [],
   "source": [
    "# query of stack of values of episodes\n",
    "memory=deque(maxlen=2000)\n",
    "\n",
    "def remember(state, action, reward, next_state, done):\n",
    "    \"\"\"\n",
    "    function to remember SARS of episodes\n",
    "    \"\"\"\n",
    "    memory.append((state, action, reward, next_state, done))"
   ],
   "metadata": {
    "collapsed": false,
    "pycharm": {
     "name": "#%%\n"
    }
   }
  },
  {
   "cell_type": "markdown",
   "source": [
    "### Settings"
   ],
   "metadata": {
    "collapsed": false
   }
  },
  {
   "cell_type": "code",
   "execution_count": 10,
   "outputs": [],
   "source": [
    "GAMMA = 0.95\n",
    "\n",
    "NUM_EPISODES = 2000\n",
    "MAX_STEPS = 100\n",
    "REWARD_AVERAGE_WINDOW = 20\n",
    "TRAIN_START = 500\n",
    "BATCH = 64\n",
    "STATE_SIZE = STATE_LIMITS.shape[0]"
   ],
   "metadata": {
    "collapsed": false,
    "pycharm": {
     "name": "#%%\n"
    }
   }
  },
  {
   "cell_type": "code",
   "execution_count": 11,
   "outputs": [],
   "source": [
    "def replay():\n",
    "    \"\"\"\n",
    "    implementation of 'experience replay'  trick to make better inference of FCN\n",
    "    :return:\n",
    "    \"\"\"\n",
    "    if len(memory) < TRAIN_START:\n",
    "        return\n",
    "    # make minibatch with randon episode steps and call variables for SARS\n",
    "    minibatch = random.sample(memory, BATCH)\n",
    "    state = np.zeros((BATCH,STATE_SIZE))\n",
    "    next_state = np.zeros((BATCH,STATE_SIZE))\n",
    "    action, reward, done = [], [], []\n",
    "\n",
    "    # fill variables with data from minibatch\n",
    "    for i in range(BATCH):\n",
    "        state[i] = minibatch[i][0]\n",
    "        action.append(minibatch[i][1])\n",
    "        reward.append(minibatch[i][2])\n",
    "        next_state[i] = minibatch[i][3]\n",
    "        done.append(minibatch[i][4])\n",
    "\n",
    "    # do prediction for state and next state\n",
    "    target = model.predict(state)\n",
    "    target_next = model.predict(next_state)\n",
    "\n",
    "    for i in range(BATCH):\n",
    "        # correction on the Q value for the action used\n",
    "        if done[i]:\n",
    "            target[i][action[i]] = reward[i]\n",
    "        else:\n",
    "            # Standard - DQN\n",
    "            # DQN chooses the max Q value among next actions\n",
    "            # selection and evaluation of action is on the target Q Network\n",
    "            target[i][action[i]] = reward[i] + GAMMA * (np.amax(target_next[i]))\n",
    "\n",
    "    # Train the Fully Connection Neural Network with batches\n",
    "    model.fit(state, target, batch_size=BATCH, verbose=0)"
   ],
   "metadata": {
    "collapsed": false,
    "pycharm": {
     "name": "#%%\n"
    }
   }
  },
  {
   "metadata": {
    "id": "PeHAhQmGJeLh",
    "colab_type": "code",
    "outputId": "10867a8e-0298-4594-d3cb-85f979650939",
    "colab": {
     "base_uri": "https://localhost:8080/",
     "height": 414
    }
   },
   "cell_type": "code",
   "source": [
    "for i in range(NUM_EPISODES):\n",
    "    #epsilon decrement\n",
    "    eps = 1./((i/50) + 10)\n",
    "    \n",
    "    s = env.reset()\n",
    "    \n",
    "    totalReward, step = 0, 0\n",
    "    \n",
    "    while step < MAX_STEPS:\n",
    "        step += 1\n",
    "\n",
    "        # calculate variables and Q-values\n",
    "        Q_s = evalQ(s)\n",
    "        a = act(eps)\n",
    "        s1, r, done, _ = env.step(a)\n",
    "        Q_s1 = evalQ(s1)\n",
    "        Q_target = Q_s\n",
    "\n",
    "        # calculate reward\n",
    "        if done:\n",
    "            Q_target[a] = r                                 # if last step\n",
    "        else:\n",
    "            Q_target[a] = r + GAMMA * np.max(Q_s1)          # if non-last step\n",
    "\n",
    "        # Train the Fully Connection Neural Network with batches\n",
    "        model.train_on_batch(s[None, ...].astype(np.float32), Q_target[None, ...])\n",
    "\n",
    "        totalReward += r\n",
    "        remember(s,a,r,s1,done)                             # remember results\n",
    "        s = s1\n",
    "        \n",
    "        if done:\n",
    "            break\n",
    "\n",
    "        replay()                                            # make 'experience replay'  trick\n",
    "\n",
    "    pathLenList.append(step)\n",
    "    totalRewardList.append(totalReward)\n",
    "\n",
    "    if i % REWARD_AVERAGE_WINDOW == 0 and i >= REWARD_AVERAGE_WINDOW:\n",
    "        totalRewardAverage = np.mean(totalRewardList[-REWARD_AVERAGE_WINDOW:])\n",
    "        totalRewardAverageList.append(totalRewardAverage)\n",
    "        if i % 100 == 0:\n",
    "            print(f'Episode {i}: average total reward = {totalRewardAverage}')\n",
    "\n",
    "    # early stop if training reach maximum\n",
    "    if np.mean(totalRewardList[-REWARD_AVERAGE_WINDOW*2:]) == MAX_STEPS:\n",
    "        break"
   ],
   "execution_count": 12,
   "outputs": [
    {
     "name": "stdout",
     "output_type": "stream",
     "text": [
      "Episode 100: average total reward = 9.95\n",
      "Episode 200: average total reward = 95.0\n"
     ]
    }
   ]
  },
  {
   "metadata": {
    "id": "1Er0TlkRJeLk",
    "colab_type": "text"
   },
   "cell_type": "markdown",
   "source": [
    "## Plot trajectory length over time"
   ]
  },
  {
   "metadata": {
    "scrolled": true,
    "id": "MMdftxV2JeLl",
    "colab_type": "code",
    "outputId": "e4b671e5-437b-44cd-9fc2-c112891d68b6",
    "colab": {
     "base_uri": "https://localhost:8080/",
     "height": 269
    }
   },
   "cell_type": "code",
   "source": [
    "plt.plot(pathLenList)\n",
    "plt.grid()"
   ],
   "execution_count": 13,
   "outputs": [
    {
     "data": {
      "text/plain": "<Figure size 432x288 with 1 Axes>",
      "image/png": "[encoded data removed]"
     },
     "metadata": {
      "needs_background": "light"
     },
     "output_type": "display_data"
    }
   ]
  },
  {
   "metadata": {
    "id": "hB10VTaVJeLn",
    "colab_type": "text"
   },
   "cell_type": "markdown",
   "source": [
    "## Plot average total reward over time"
   ]
  },
  {
   "metadata": {
    "id": "SvdDw66qJeLo",
    "colab_type": "code",
    "outputId": "a180f6e4-16c4-4c8b-8582-43fa7e0c887c",
    "colab": {
     "base_uri": "https://localhost:8080/",
     "height": 269
    }
   },
   "cell_type": "code",
   "source": [
    "plt.plot(totalRewardAverageList)\n",
    "plt.grid()"
   ],
   "execution_count": 14,
   "outputs": [
    {
     "data": {
      "text/plain": "<Figure size 432x288 with 1 Axes>",
      "image/png": "[encoded data removed]"
     },
     "metadata": {
      "needs_background": "light"
     },
     "output_type": "display_data"
    }
   ]
  },
  {
   "metadata": {
    "id": "zdasuT4IJeLu",
    "colab_type": "text"
   },
   "cell_type": "markdown",
   "source": [
    "## Run simulation"
   ]
  },
  {
   "metadata": {
    "id": "55B63PEuJeLv",
    "colab_type": "code",
    "outputId": "23203023-796a-471b-bf5f-c5f415edfef7",
    "colab": {
     "base_uri": "https://localhost:8080/",
     "height": 34
    },
    "pycharm": {
     "name": "#%%\n"
    }
   },
   "cell_type": "code",
   "source": [
    "RECORD_VIDEO = False\n",
    "USE_Q = True\n",
    "\n",
    "if RECORD_VIDEO:\n",
    "    from gym.wrappers import Monitor\n",
    "    env_sim = Monitor(env, './video', force=True)\n",
    "else:\n",
    "    env_sim = env\n",
    "    \n",
    "s = env_sim.reset()\n",
    "totalReward = 0\n",
    "\n",
    "for _ in range(1000):\n",
    "    #env_sim.render()\n",
    "    if USE_Q:\n",
    "        a = np.argmax(evalQ(s))\n",
    "    else:\n",
    "        a = env_sim.action_space.sample()    \n",
    "    s, r, done, _ = env_sim.step(a)\n",
    "    totalReward += r\n",
    "    if done:\n",
    "        break\n",
    "       \n",
    "    if not RECORD_VIDEO:\n",
    "        time.sleep(1./30)\n",
    "        \n",
    "env_sim.close()\n",
    "\n",
    "print(f'Total reward = {totalReward}')"
   ],
   "execution_count": 15,
   "outputs": [
    {
     "name": "stdout",
     "output_type": "stream",
     "text": [
      "Total reward = 160.0\n"
     ]
    }
   ]
  },
  {
   "cell_type": "code",
   "execution_count": null,
   "outputs": [],
   "source": [],
   "metadata": {
    "collapsed": false,
    "pycharm": {
     "name": "#%%\n"
    }
   }
  }
 ]
}